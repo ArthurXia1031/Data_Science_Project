{
 "cells": [
  {
   "cell_type": "markdown",
   "source": [
    "##\n",
    "## House Prices: Advanced Regression Techniques"
   ],
   "metadata": {
    "collapsed": false
   },
   "id": "277701d459f3d251"
  },
  {
   "cell_type": "markdown",
   "source": [
    "#### Importing Libraries"
   ],
   "metadata": {
    "collapsed": false
   },
   "id": "ace0b2d35d6cdf9f"
  },
  {
   "cell_type": "code",
   "execution_count": 3,
   "id": "initial_id",
   "metadata": {
    "collapsed": true,
    "ExecuteTime": {
     "end_time": "2023-08-25T16:18:46.990373Z",
     "start_time": "2023-08-25T16:18:45.737277Z"
    }
   },
   "outputs": [],
   "source": [
    "# Importing libraries\n",
    "import warnings\n",
    "\n",
    "warnings.filterwarnings('ignore')\n",
    "\n",
    "import pandas as pd\n",
    "import numpy as np\n",
    "import matplotlib.pyplot as plt\n",
    "import seaborn as sns\n",
    "from sklearn.preprocessing import LabelEncoder\n",
    "from sklearn.model_selection import train_test_split, cross_val_score\n",
    "from sklearn.metrics import accuracy_score, confusion_matrix, classification_report, roc_auc_score, roc_curve, \\\n",
    "    make_scorer, f1_score, recall_score, precision_score\n",
    "\n",
    "# plot_confusion_matrix\n",
    "# from sklearn.metrics import plot_confusion_matrix\n",
    "\n",
    "# To build model for prediction\n",
    "import statsmodels.stats.api as sms\n",
    "from statsmodels.stats.outliers_influence import variance_inflation_factor\n",
    "import statsmodels.api as sm\n",
    "from statsmodels.tools.tools import add_constant\n",
    "from sklearn.tree import DecisionTreeClassifier\n",
    "from sklearn import tree\n",
    "\n",
    "from sklearn.linear_model import LogisticRegression\n",
    "from sklearn.tree import DecisionTreeClassifier\n",
    "from sklearn.ensemble import RandomForestClassifier, GradientBoostingClassifier, AdaBoostClassifier\n",
    "from sklearn.neighbors import KNeighborsClassifier\n",
    "\n",
    "import statsmodels.api as sm"
   ]
  },
  {
   "cell_type": "code",
   "execution_count": 4,
   "outputs": [],
   "source": [
    "train = pd.read_csv('train.csv')\n",
    "test = pd.read_csv('test.csv')"
   ],
   "metadata": {
    "collapsed": false,
    "ExecuteTime": {
     "end_time": "2023-08-25T16:18:51.189823Z",
     "start_time": "2023-08-25T16:18:51.100344Z"
    }
   },
   "id": "e21a9ae6fec916a5"
  },
  {
   "cell_type": "code",
   "execution_count": 5,
   "outputs": [
    {
     "name": "stdout",
     "output_type": "stream",
     "text": [
      "<class 'pandas.core.frame.DataFrame'>\n",
      "RangeIndex: 1460 entries, 0 to 1459\n",
      "Data columns (total 81 columns):\n",
      " #   Column         Non-Null Count  Dtype  \n",
      "---  ------         --------------  -----  \n",
      " 0   Id             1460 non-null   int64  \n",
      " 1   MSSubClass     1460 non-null   int64  \n",
      " 2   MSZoning       1460 non-null   object \n",
      " 3   LotFrontage    1201 non-null   float64\n",
      " 4   LotArea        1460 non-null   int64  \n",
      " 5   Street         1460 non-null   object \n",
      " 6   Alley          91 non-null     object \n",
      " 7   LotShape       1460 non-null   object \n",
      " 8   LandContour    1460 non-null   object \n",
      " 9   Utilities      1460 non-null   object \n",
      " 10  LotConfig      1460 non-null   object \n",
      " 11  LandSlope      1460 non-null   object \n",
      " 12  Neighborhood   1460 non-null   object \n",
      " 13  Condition1     1460 non-null   object \n",
      " 14  Condition2     1460 non-null   object \n",
      " 15  BldgType       1460 non-null   object \n",
      " 16  HouseStyle     1460 non-null   object \n",
      " 17  OverallQual    1460 non-null   int64  \n",
      " 18  OverallCond    1460 non-null   int64  \n",
      " 19  YearBuilt      1460 non-null   int64  \n",
      " 20  YearRemodAdd   1460 non-null   int64  \n",
      " 21  RoofStyle      1460 non-null   object \n",
      " 22  RoofMatl       1460 non-null   object \n",
      " 23  Exterior1st    1460 non-null   object \n",
      " 24  Exterior2nd    1460 non-null   object \n",
      " 25  MasVnrType     1452 non-null   object \n",
      " 26  MasVnrArea     1452 non-null   float64\n",
      " 27  ExterQual      1460 non-null   object \n",
      " 28  ExterCond      1460 non-null   object \n",
      " 29  Foundation     1460 non-null   object \n",
      " 30  BsmtQual       1423 non-null   object \n",
      " 31  BsmtCond       1423 non-null   object \n",
      " 32  BsmtExposure   1422 non-null   object \n",
      " 33  BsmtFinType1   1423 non-null   object \n",
      " 34  BsmtFinSF1     1460 non-null   int64  \n",
      " 35  BsmtFinType2   1422 non-null   object \n",
      " 36  BsmtFinSF2     1460 non-null   int64  \n",
      " 37  BsmtUnfSF      1460 non-null   int64  \n",
      " 38  TotalBsmtSF    1460 non-null   int64  \n",
      " 39  Heating        1460 non-null   object \n",
      " 40  HeatingQC      1460 non-null   object \n",
      " 41  CentralAir     1460 non-null   object \n",
      " 42  Electrical     1459 non-null   object \n",
      " 43  1stFlrSF       1460 non-null   int64  \n",
      " 44  2ndFlrSF       1460 non-null   int64  \n",
      " 45  LowQualFinSF   1460 non-null   int64  \n",
      " 46  GrLivArea      1460 non-null   int64  \n",
      " 47  BsmtFullBath   1460 non-null   int64  \n",
      " 48  BsmtHalfBath   1460 non-null   int64  \n",
      " 49  FullBath       1460 non-null   int64  \n",
      " 50  HalfBath       1460 non-null   int64  \n",
      " 51  BedroomAbvGr   1460 non-null   int64  \n",
      " 52  KitchenAbvGr   1460 non-null   int64  \n",
      " 53  KitchenQual    1460 non-null   object \n",
      " 54  TotRmsAbvGrd   1460 non-null   int64  \n",
      " 55  Functional     1460 non-null   object \n",
      " 56  Fireplaces     1460 non-null   int64  \n",
      " 57  FireplaceQu    770 non-null    object \n",
      " 58  GarageType     1379 non-null   object \n",
      " 59  GarageYrBlt    1379 non-null   float64\n",
      " 60  GarageFinish   1379 non-null   object \n",
      " 61  GarageCars     1460 non-null   int64  \n",
      " 62  GarageArea     1460 non-null   int64  \n",
      " 63  GarageQual     1379 non-null   object \n",
      " 64  GarageCond     1379 non-null   object \n",
      " 65  PavedDrive     1460 non-null   object \n",
      " 66  WoodDeckSF     1460 non-null   int64  \n",
      " 67  OpenPorchSF    1460 non-null   int64  \n",
      " 68  EnclosedPorch  1460 non-null   int64  \n",
      " 69  3SsnPorch      1460 non-null   int64  \n",
      " 70  ScreenPorch    1460 non-null   int64  \n",
      " 71  PoolArea       1460 non-null   int64  \n",
      " 72  PoolQC         7 non-null      object \n",
      " 73  Fence          281 non-null    object \n",
      " 74  MiscFeature    54 non-null     object \n",
      " 75  MiscVal        1460 non-null   int64  \n",
      " 76  MoSold         1460 non-null   int64  \n",
      " 77  YrSold         1460 non-null   int64  \n",
      " 78  SaleType       1460 non-null   object \n",
      " 79  SaleCondition  1460 non-null   object \n",
      " 80  SalePrice      1460 non-null   int64  \n",
      "dtypes: float64(3), int64(35), object(43)\n",
      "memory usage: 924.0+ KB\n"
     ]
    }
   ],
   "source": [
    "train.info()"
   ],
   "metadata": {
    "collapsed": false,
    "ExecuteTime": {
     "end_time": "2023-08-25T16:18:52.656182Z",
     "start_time": "2023-08-25T16:18:52.576437Z"
    }
   },
   "id": "cffa374f86ee5536"
  },
  {
   "cell_type": "code",
   "execution_count": 5,
   "outputs": [
    {
     "data": {
      "text/plain": "   Id  MSSubClass MSZoning  LotFrontage  LotArea Street Alley LotShape  \\\n0   1          60       RL         65.0     8450   Pave   NaN      Reg   \n1   2          20       RL         80.0     9600   Pave   NaN      Reg   \n2   3          60       RL         68.0    11250   Pave   NaN      IR1   \n3   4          70       RL         60.0     9550   Pave   NaN      IR1   \n4   5          60       RL         84.0    14260   Pave   NaN      IR1   \n\n  LandContour Utilities  ... PoolArea PoolQC Fence MiscFeature MiscVal MoSold  \\\n0         Lvl    AllPub  ...        0    NaN   NaN         NaN       0      2   \n1         Lvl    AllPub  ...        0    NaN   NaN         NaN       0      5   \n2         Lvl    AllPub  ...        0    NaN   NaN         NaN       0      9   \n3         Lvl    AllPub  ...        0    NaN   NaN         NaN       0      2   \n4         Lvl    AllPub  ...        0    NaN   NaN         NaN       0     12   \n\n  YrSold  SaleType  SaleCondition  SalePrice  \n0   2008        WD         Normal     208500  \n1   2007        WD         Normal     181500  \n2   2008        WD         Normal     223500  \n3   2006        WD        Abnorml     140000  \n4   2008        WD         Normal     250000  \n\n[5 rows x 81 columns]",
      "text/html": "<div>\n<style scoped>\n    .dataframe tbody tr th:only-of-type {\n        vertical-align: middle;\n    }\n\n    .dataframe tbody tr th {\n        vertical-align: top;\n    }\n\n    .dataframe thead th {\n        text-align: right;\n    }\n</style>\n<table border=\"1\" class=\"dataframe\">\n  <thead>\n    <tr style=\"text-align: right;\">\n      <th></th>\n      <th>Id</th>\n      <th>MSSubClass</th>\n      <th>MSZoning</th>\n      <th>LotFrontage</th>\n      <th>LotArea</th>\n      <th>Street</th>\n      <th>Alley</th>\n      <th>LotShape</th>\n      <th>LandContour</th>\n      <th>Utilities</th>\n      <th>...</th>\n      <th>PoolArea</th>\n      <th>PoolQC</th>\n      <th>Fence</th>\n      <th>MiscFeature</th>\n      <th>MiscVal</th>\n      <th>MoSold</th>\n      <th>YrSold</th>\n      <th>SaleType</th>\n      <th>SaleCondition</th>\n      <th>SalePrice</th>\n    </tr>\n  </thead>\n  <tbody>\n    <tr>\n      <th>0</th>\n      <td>1</td>\n      <td>60</td>\n      <td>RL</td>\n      <td>65.0</td>\n      <td>8450</td>\n      <td>Pave</td>\n      <td>NaN</td>\n      <td>Reg</td>\n      <td>Lvl</td>\n      <td>AllPub</td>\n      <td>...</td>\n      <td>0</td>\n      <td>NaN</td>\n      <td>NaN</td>\n      <td>NaN</td>\n      <td>0</td>\n      <td>2</td>\n      <td>2008</td>\n      <td>WD</td>\n      <td>Normal</td>\n      <td>208500</td>\n    </tr>\n    <tr>\n      <th>1</th>\n      <td>2</td>\n      <td>20</td>\n      <td>RL</td>\n      <td>80.0</td>\n      <td>9600</td>\n      <td>Pave</td>\n      <td>NaN</td>\n      <td>Reg</td>\n      <td>Lvl</td>\n      <td>AllPub</td>\n      <td>...</td>\n      <td>0</td>\n      <td>NaN</td>\n      <td>NaN</td>\n      <td>NaN</td>\n      <td>0</td>\n      <td>5</td>\n      <td>2007</td>\n      <td>WD</td>\n      <td>Normal</td>\n      <td>181500</td>\n    </tr>\n    <tr>\n      <th>2</th>\n      <td>3</td>\n      <td>60</td>\n      <td>RL</td>\n      <td>68.0</td>\n      <td>11250</td>\n      <td>Pave</td>\n      <td>NaN</td>\n      <td>IR1</td>\n      <td>Lvl</td>\n      <td>AllPub</td>\n      <td>...</td>\n      <td>0</td>\n      <td>NaN</td>\n      <td>NaN</td>\n      <td>NaN</td>\n      <td>0</td>\n      <td>9</td>\n      <td>2008</td>\n      <td>WD</td>\n      <td>Normal</td>\n      <td>223500</td>\n    </tr>\n    <tr>\n      <th>3</th>\n      <td>4</td>\n      <td>70</td>\n      <td>RL</td>\n      <td>60.0</td>\n      <td>9550</td>\n      <td>Pave</td>\n      <td>NaN</td>\n      <td>IR1</td>\n      <td>Lvl</td>\n      <td>AllPub</td>\n      <td>...</td>\n      <td>0</td>\n      <td>NaN</td>\n      <td>NaN</td>\n      <td>NaN</td>\n      <td>0</td>\n      <td>2</td>\n      <td>2006</td>\n      <td>WD</td>\n      <td>Abnorml</td>\n      <td>140000</td>\n    </tr>\n    <tr>\n      <th>4</th>\n      <td>5</td>\n      <td>60</td>\n      <td>RL</td>\n      <td>84.0</td>\n      <td>14260</td>\n      <td>Pave</td>\n      <td>NaN</td>\n      <td>IR1</td>\n      <td>Lvl</td>\n      <td>AllPub</td>\n      <td>...</td>\n      <td>0</td>\n      <td>NaN</td>\n      <td>NaN</td>\n      <td>NaN</td>\n      <td>0</td>\n      <td>12</td>\n      <td>2008</td>\n      <td>WD</td>\n      <td>Normal</td>\n      <td>250000</td>\n    </tr>\n  </tbody>\n</table>\n<p>5 rows × 81 columns</p>\n</div>"
     },
     "execution_count": 5,
     "metadata": {},
     "output_type": "execute_result"
    }
   ],
   "source": [
    "train.head()"
   ],
   "metadata": {
    "collapsed": false,
    "ExecuteTime": {
     "end_time": "2023-08-25T16:15:07.379369Z",
     "start_time": "2023-08-25T16:14:58.538262Z"
    }
   },
   "id": "77ff0d9b941a9923"
  },
  {
   "cell_type": "markdown",
   "source": [
    "#### Full Data, and Data Cleaning"
   ],
   "metadata": {
    "collapsed": false
   },
   "id": "e30049e72a0132c8"
  },
  {
   "cell_type": "code",
   "execution_count": 6,
   "outputs": [],
   "source": [
    "full = train.merge(test, how='outer')"
   ],
   "metadata": {
    "collapsed": false,
    "ExecuteTime": {
     "end_time": "2023-08-25T16:15:07.379429Z",
     "start_time": "2023-08-25T16:14:58.548503Z"
    }
   },
   "id": "317e9fb3d1c9c492"
  },
  {
   "cell_type": "code",
   "execution_count": 7,
   "outputs": [],
   "source": [
    "full.Alley.fillna('NoAlley', inplace=True)"
   ],
   "metadata": {
    "collapsed": false,
    "ExecuteTime": {
     "end_time": "2023-08-25T16:15:07.379484Z",
     "start_time": "2023-08-25T16:14:58.581487Z"
    }
   },
   "id": "236fffb933bf21be"
  },
  {
   "cell_type": "code",
   "execution_count": 8,
   "outputs": [
    {
     "data": {
      "text/plain": "count    2433.000000\nmean       69.305795\nstd        23.344905\nmin        21.000000\n25%        59.000000\n50%        68.000000\n75%        80.000000\nmax       313.000000\nName: LotFrontage, dtype: float64"
     },
     "execution_count": 8,
     "metadata": {},
     "output_type": "execute_result"
    }
   ],
   "source": [
    "full.LotFrontage.describe()"
   ],
   "metadata": {
    "collapsed": false,
    "ExecuteTime": {
     "end_time": "2023-08-25T16:15:07.379645Z",
     "start_time": "2023-08-25T16:14:58.583529Z"
    }
   },
   "id": "3ce6df890b6e1129"
  },
  {
   "cell_type": "code",
   "execution_count": 9,
   "outputs": [
    {
     "name": "stderr",
     "output_type": "stream",
     "text": [
      "<ipython-input-9-6b46680801fb>:2: UserWarning: \n",
      "\n",
      "`distplot` is a deprecated function and will be removed in seaborn v0.14.0.\n",
      "\n",
      "Please adapt your code to use either `displot` (a figure-level function with\n",
      "similar flexibility) or `histplot` (an axes-level function for histograms).\n",
      "\n",
      "For a guide to updating your code to use the new functions, please see\n",
      "https://gist.github.com/mwaskom/de44147ed2974457ad6372750bbe5751\n",
      "\n",
      "  sns.distplot(full.LotFrontage.dropna())\n"
     ]
    },
    {
     "data": {
      "text/plain": "<Axes: xlabel='LotFrontage', ylabel='Density'>"
     },
     "execution_count": 9,
     "metadata": {},
     "output_type": "execute_result"
    },
    {
     "data": {
      "text/plain": "<Figure size 1200x800 with 1 Axes>",
      "image/png": "[encoded data removed]"
     },
     "metadata": {
      "needs_background": "light"
     },
     "output_type": "display_data"
    }
   ],
   "source": [
    "plt.figure(figsize=(12, 8), dpi=100)\n",
    "sns.distplot(full.LotFrontage.dropna())"
   ],
   "metadata": {
    "collapsed": false,
    "ExecuteTime": {
     "end_time": "2023-08-25T16:15:07.381788Z",
     "start_time": "2023-08-25T16:14:58.587638Z"
    }
   },
   "id": "92bf2d8835f44b79"
  },
  {
   "cell_type": "code",
   "execution_count": 10,
   "outputs": [],
   "source": [
    "full.LotFrontage.fillna(full.LotFrontage.median(), inplace=True)"
   ],
   "metadata": {
    "collapsed": false,
    "ExecuteTime": {
     "end_time": "2023-08-25T16:15:07.381922Z",
     "start_time": "2023-08-25T16:14:58.756054Z"
    }
   },
   "id": "ba49c42f06f9ed90"
  },
  {
   "cell_type": "code",
   "execution_count": 11,
   "outputs": [
    {
     "data": {
      "text/plain": "AllPub    2916\nNoSeWa       1\nName: Utilities, dtype: int64"
     },
     "execution_count": 11,
     "metadata": {},
     "output_type": "execute_result"
    }
   ],
   "source": [
    "full.Utilities.value_counts()"
   ],
   "metadata": {
    "collapsed": false,
    "ExecuteTime": {
     "end_time": "2023-08-25T16:15:07.382107Z",
     "start_time": "2023-08-25T16:14:58.760507Z"
    }
   },
   "id": "649101dadb25ce53"
  },
  {
   "cell_type": "code",
   "execution_count": 12,
   "outputs": [],
   "source": [
    "full.Utilities.fillna('AllPub', inplace=True)"
   ],
   "metadata": {
    "collapsed": false,
    "ExecuteTime": {
     "end_time": "2023-08-25T16:15:07.382170Z",
     "start_time": "2023-08-25T16:14:58.763521Z"
    }
   },
   "id": "a64c265fd93804c9"
  },
  {
   "cell_type": "code",
   "execution_count": 13,
   "outputs": [
    {
     "data": {
      "text/plain": "<BarContainer object of 15 artists>"
     },
     "execution_count": 13,
     "metadata": {},
     "output_type": "execute_result"
    },
    {
     "data": {
      "text/plain": "<Figure size 1200x800 with 1 Axes>",
      "image/png": "[encoded data removed]"
     },
     "metadata": {
      "needs_background": "light"
     },
     "output_type": "display_data"
    }
   ],
   "source": [
    "plt.figure(figsize=(12, 8), dpi=100)\n",
    "plt.bar(full.Exterior1st.value_counts().index, full.Exterior1st.value_counts())"
   ],
   "metadata": {
    "collapsed": false,
    "ExecuteTime": {
     "end_time": "2023-08-25T16:15:07.382364Z",
     "start_time": "2023-08-25T16:14:58.765663Z"
    }
   },
   "id": "a183c6e4419f7c81"
  },
  {
   "cell_type": "code",
   "execution_count": 14,
   "outputs": [],
   "source": [
    "full.Exterior1st.value_counts()\n",
    "full.Exterior1st.fillna('VinylSd', inplace=True)"
   ],
   "metadata": {
    "collapsed": false,
    "ExecuteTime": {
     "end_time": "2023-08-25T16:15:07.382421Z",
     "start_time": "2023-08-25T16:14:58.882829Z"
    }
   },
   "id": "e939143cee003b0c"
  },
  {
   "cell_type": "code",
   "execution_count": 15,
   "outputs": [],
   "source": [
    "full.MSZoning.value_counts()\n",
    "full.MSZoning.fillna('RL', inplace=True)"
   ],
   "metadata": {
    "collapsed": false,
    "ExecuteTime": {
     "end_time": "2023-08-25T16:15:07.382477Z",
     "start_time": "2023-08-25T16:14:58.885893Z"
    }
   },
   "id": "3b5d17249275875d"
  },
  {
   "cell_type": "code",
   "execution_count": 16,
   "outputs": [],
   "source": [
    "full.Exterior2nd.value_counts()\n",
    "full.Exterior2nd.fillna('VinylSd', inplace=True)"
   ],
   "metadata": {
    "collapsed": false,
    "ExecuteTime": {
     "end_time": "2023-08-25T16:15:07.382530Z",
     "start_time": "2023-08-25T16:14:58.888732Z"
    }
   },
   "id": "2decf051f654cd3b"
  },
  {
   "cell_type": "code",
   "execution_count": 17,
   "outputs": [],
   "source": [
    "full.MasVnrType.fillna('None', inplace=True)"
   ],
   "metadata": {
    "collapsed": false,
    "ExecuteTime": {
     "end_time": "2023-08-25T16:15:07.382578Z",
     "start_time": "2023-08-25T16:14:58.890758Z"
    }
   },
   "id": "a92d87cfd4cf6873"
  },
  {
   "cell_type": "code",
   "execution_count": 18,
   "outputs": [
    {
     "data": {
      "text/plain": "<Figure size 864x576 with 1 Axes>",
      "image/png": "[encoded data removed]"
     },
     "metadata": {
      "needs_background": "light"
     },
     "output_type": "display_data"
    }
   ],
   "source": [
    "sns.displot(full.MasVnrArea.dropna()).fig.set_size_inches(12, 8)"
   ],
   "metadata": {
    "collapsed": false,
    "ExecuteTime": {
     "end_time": "2023-08-25T16:15:07.382693Z",
     "start_time": "2023-08-25T16:14:58.892799Z"
    }
   },
   "id": "eb5cf1f9a080597e"
  },
  {
   "cell_type": "code",
   "execution_count": 19,
   "outputs": [],
   "source": [
    "full.MasVnrArea.fillna(0, inplace=True)"
   ],
   "metadata": {
    "collapsed": false,
    "ExecuteTime": {
     "end_time": "2023-08-25T16:15:07.382747Z",
     "start_time": "2023-08-25T16:14:59.078136Z"
    }
   },
   "id": "c03cba040d94a4fb"
  },
  {
   "cell_type": "code",
   "execution_count": 20,
   "outputs": [],
   "source": [
    "full.BsmtQual.fillna('NoBsmt', inplace=True)\n",
    "full.BsmtCond.fillna('NoBsmt', inplace=True)\n",
    "full.BsmtExposure.fillna('NoBsmt', inplace=True)\n",
    "full.BsmtFinType1.fillna('NoBsmt', inplace=True)\n",
    "full.BsmtFinType2.fillna('NoBsmt', inplace=True)"
   ],
   "metadata": {
    "collapsed": false,
    "ExecuteTime": {
     "end_time": "2023-08-25T16:15:07.382794Z",
     "start_time": "2023-08-25T16:14:59.082043Z"
    }
   },
   "id": "75a7aa8eac84bc10"
  },
  {
   "cell_type": "code",
   "execution_count": 21,
   "outputs": [],
   "source": [
    "full.BsmtFinSF1.fillna(0, inplace=True)\n",
    "full.BsmtFinSF2.fillna(0, inplace=True)\n",
    "full.BsmtUnfSF.fillna(0, inplace=True)\n",
    "full.TotalBsmtSF.fillna(0, inplace=True)"
   ],
   "metadata": {
    "collapsed": false,
    "ExecuteTime": {
     "end_time": "2023-08-25T16:15:07.382846Z",
     "start_time": "2023-08-25T16:14:59.085675Z"
    }
   },
   "id": "c76ee00030bd9726"
  },
  {
   "cell_type": "code",
   "execution_count": 22,
   "outputs": [],
   "source": [
    "full.Electrical.fillna('SBrkr', inplace=True)\n",
    "full.BsmtFullBath.fillna(0, inplace=True)\n",
    "full.BsmtHalfBath.fillna(0, inplace=True)"
   ],
   "metadata": {
    "collapsed": false,
    "ExecuteTime": {
     "end_time": "2023-08-25T16:15:07.382974Z",
     "start_time": "2023-08-25T16:14:59.089466Z"
    }
   },
   "id": "750b4678929cca7f"
  },
  {
   "cell_type": "code",
   "execution_count": 23,
   "outputs": [],
   "source": [
    "full.KitchenQual.fillna('TA', inplace=True)\n",
    "full.Functional.fillna('Typ', inplace=True)"
   ],
   "metadata": {
    "collapsed": false,
    "ExecuteTime": {
     "end_time": "2023-08-25T16:15:07.383093Z",
     "start_time": "2023-08-25T16:14:59.092585Z"
    }
   },
   "id": "503ab994826433d"
  },
  {
   "cell_type": "code",
   "execution_count": 24,
   "outputs": [],
   "source": [
    "full.FireplaceQu.fillna('NoFireplace', inplace=True)\n",
    "full.GarageType.fillna('NoGarage', inplace=True)\n",
    "full.GarageYrBlt.fillna(0, inplace=True)\n",
    "full.GarageFinish.fillna('NoGarage', inplace=True)\n",
    "full.GarageQual.fillna('NoGarage', inplace=True)\n",
    "full.GarageCond.fillna('NoGarage', inplace=True)\n",
    "full.GarageCars.fillna(0, inplace=True)\n",
    "full.GarageArea.fillna(0, inplace=True)\n",
    "full.PoolQC.fillna('NoPool', inplace=True)\n",
    "full.Fence.fillna('NoFence', inplace=True)\n",
    "full.MiscFeature.fillna('None', inplace=True)\n",
    "full.SaleType.fillna('WD', inplace=True)"
   ],
   "metadata": {
    "collapsed": false,
    "ExecuteTime": {
     "end_time": "2023-08-25T16:15:07.383140Z",
     "start_time": "2023-08-25T16:14:59.097336Z"
    }
   },
   "id": "a7d34dd1ec4b78f6"
  },
  {
   "cell_type": "code",
   "execution_count": 25,
   "outputs": [
    {
     "name": "stdout",
     "output_type": "stream",
     "text": [
      "<class 'pandas.core.frame.DataFrame'>\n",
      "Int64Index: 2919 entries, 0 to 2918\n",
      "Data columns (total 81 columns):\n",
      " #   Column         Non-Null Count  Dtype  \n",
      "---  ------         --------------  -----  \n",
      " 0   Id             2919 non-null   int64  \n",
      " 1   MSSubClass     2919 non-null   int64  \n",
      " 2   MSZoning       2919 non-null   object \n",
      " 3   LotFrontage    2919 non-null   float64\n",
      " 4   LotArea        2919 non-null   int64  \n",
      " 5   Street         2919 non-null   object \n",
      " 6   Alley          2919 non-null   object \n",
      " 7   LotShape       2919 non-null   object \n",
      " 8   LandContour    2919 non-null   object \n",
      " 9   Utilities      2919 non-null   object \n",
      " 10  LotConfig      2919 non-null   object \n",
      " 11  LandSlope      2919 non-null   object \n",
      " 12  Neighborhood   2919 non-null   object \n",
      " 13  Condition1     2919 non-null   object \n",
      " 14  Condition2     2919 non-null   object \n",
      " 15  BldgType       2919 non-null   object \n",
      " 16  HouseStyle     2919 non-null   object \n",
      " 17  OverallQual    2919 non-null   int64  \n",
      " 18  OverallCond    2919 non-null   int64  \n",
      " 19  YearBuilt      2919 non-null   int64  \n",
      " 20  YearRemodAdd   2919 non-null   int64  \n",
      " 21  RoofStyle      2919 non-null   object \n",
      " 22  RoofMatl       2919 non-null   object \n",
      " 23  Exterior1st    2919 non-null   object \n",
      " 24  Exterior2nd    2919 non-null   object \n",
      " 25  MasVnrType     2919 non-null   object \n",
      " 26  MasVnrArea     2919 non-null   float64\n",
      " 27  ExterQual      2919 non-null   object \n",
      " 28  ExterCond      2919 non-null   object \n",
      " 29  Foundation     2919 non-null   object \n",
      " 30  BsmtQual       2919 non-null   object \n",
      " 31  BsmtCond       2919 non-null   object \n",
      " 32  BsmtExposure   2919 non-null   object \n",
      " 33  BsmtFinType1   2919 non-null   object \n",
      " 34  BsmtFinSF1     2919 non-null   float64\n",
      " 35  BsmtFinType2   2919 non-null   object \n",
      " 36  BsmtFinSF2     2919 non-null   float64\n",
      " 37  BsmtUnfSF      2919 non-null   float64\n",
      " 38  TotalBsmtSF    2919 non-null   float64\n",
      " 39  Heating        2919 non-null   object \n",
      " 40  HeatingQC      2919 non-null   object \n",
      " 41  CentralAir     2919 non-null   object \n",
      " 42  Electrical     2919 non-null   object \n",
      " 43  1stFlrSF       2919 non-null   int64  \n",
      " 44  2ndFlrSF       2919 non-null   int64  \n",
      " 45  LowQualFinSF   2919 non-null   int64  \n",
      " 46  GrLivArea      2919 non-null   int64  \n",
      " 47  BsmtFullBath   2919 non-null   float64\n",
      " 48  BsmtHalfBath   2919 non-null   float64\n",
      " 49  FullBath       2919 non-null   int64  \n",
      " 50  HalfBath       2919 non-null   int64  \n",
      " 51  BedroomAbvGr   2919 non-null   int64  \n",
      " 52  KitchenAbvGr   2919 non-null   int64  \n",
      " 53  KitchenQual    2919 non-null   object \n",
      " 54  TotRmsAbvGrd   2919 non-null   int64  \n",
      " 55  Functional     2919 non-null   object \n",
      " 56  Fireplaces     2919 non-null   int64  \n",
      " 57  FireplaceQu    2919 non-null   object \n",
      " 58  GarageType     2919 non-null   object \n",
      " 59  GarageYrBlt    2919 non-null   float64\n",
      " 60  GarageFinish   2919 non-null   object \n",
      " 61  GarageCars     2919 non-null   float64\n",
      " 62  GarageArea     2919 non-null   float64\n",
      " 63  GarageQual     2919 non-null   object \n",
      " 64  GarageCond     2919 non-null   object \n",
      " 65  PavedDrive     2919 non-null   object \n",
      " 66  WoodDeckSF     2919 non-null   int64  \n",
      " 67  OpenPorchSF    2919 non-null   int64  \n",
      " 68  EnclosedPorch  2919 non-null   int64  \n",
      " 69  3SsnPorch      2919 non-null   int64  \n",
      " 70  ScreenPorch    2919 non-null   int64  \n",
      " 71  PoolArea       2919 non-null   int64  \n",
      " 72  PoolQC         2919 non-null   object \n",
      " 73  Fence          2919 non-null   object \n",
      " 74  MiscFeature    2919 non-null   object \n",
      " 75  MiscVal        2919 non-null   int64  \n",
      " 76  MoSold         2919 non-null   int64  \n",
      " 77  YrSold         2919 non-null   int64  \n",
      " 78  SaleType       2919 non-null   object \n",
      " 79  SaleCondition  2919 non-null   object \n",
      " 80  SalePrice      1460 non-null   float64\n",
      "dtypes: float64(12), int64(26), object(43)\n",
      "memory usage: 1.8+ MB\n"
     ]
    }
   ],
   "source": [
    "full.info()"
   ],
   "metadata": {
    "collapsed": false,
    "ExecuteTime": {
     "end_time": "2023-08-25T16:15:07.383490Z",
     "start_time": "2023-08-25T16:14:59.100942Z"
    }
   },
   "id": "824a5955498980de"
  },
  {
   "cell_type": "code",
   "execution_count": 26,
   "outputs": [],
   "source": [
    "from sklearn.preprocessing import LabelEncoder"
   ],
   "metadata": {
    "collapsed": false,
    "ExecuteTime": {
     "end_time": "2023-08-25T16:15:07.383540Z",
     "start_time": "2023-08-25T16:14:59.118318Z"
    }
   },
   "id": "87d55f584e28da8d"
  },
  {
   "cell_type": "code",
   "execution_count": 27,
   "outputs": [],
   "source": [
    "# LabelEncoder\n",
    "LE = LabelEncoder()\n",
    "\n",
    "\n",
    "def label_encoder(data):\n",
    "    for col in data.columns:\n",
    "        if data[col].dtype == 'object':\n",
    "            LE.fit(data[col])\n",
    "            data[col] = LE.transform(data[col])\n",
    "    return data"
   ],
   "metadata": {
    "collapsed": false,
    "ExecuteTime": {
     "end_time": "2023-08-25T16:15:07.383591Z",
     "start_time": "2023-08-25T16:14:59.121343Z"
    }
   },
   "id": "87d8164ce4a2147d"
  },
  {
   "cell_type": "code",
   "execution_count": 28,
   "outputs": [],
   "source": [
    "full = label_encoder(full)"
   ],
   "metadata": {
    "collapsed": false,
    "ExecuteTime": {
     "end_time": "2023-08-25T16:15:07.383794Z",
     "start_time": "2023-08-25T16:14:59.129824Z"
    }
   },
   "id": "345a26fb3bf31106"
  },
  {
   "cell_type": "code",
   "execution_count": 29,
   "outputs": [
    {
     "name": "stdout",
     "output_type": "stream",
     "text": [
      "<class 'pandas.core.frame.DataFrame'>\n",
      "Int64Index: 2919 entries, 0 to 2918\n",
      "Data columns (total 81 columns):\n",
      " #   Column         Non-Null Count  Dtype  \n",
      "---  ------         --------------  -----  \n",
      " 0   Id             2919 non-null   int64  \n",
      " 1   MSSubClass     2919 non-null   int64  \n",
      " 2   MSZoning       2919 non-null   int64  \n",
      " 3   LotFrontage    2919 non-null   float64\n",
      " 4   LotArea        2919 non-null   int64  \n",
      " 5   Street         2919 non-null   int64  \n",
      " 6   Alley          2919 non-null   int64  \n",
      " 7   LotShape       2919 non-null   int64  \n",
      " 8   LandContour    2919 non-null   int64  \n",
      " 9   Utilities      2919 non-null   int64  \n",
      " 10  LotConfig      2919 non-null   int64  \n",
      " 11  LandSlope      2919 non-null   int64  \n",
      " 12  Neighborhood   2919 non-null   int64  \n",
      " 13  Condition1     2919 non-null   int64  \n",
      " 14  Condition2     2919 non-null   int64  \n",
      " 15  BldgType       2919 non-null   int64  \n",
      " 16  HouseStyle     2919 non-null   int64  \n",
      " 17  OverallQual    2919 non-null   int64  \n",
      " 18  OverallCond    2919 non-null   int64  \n",
      " 19  YearBuilt      2919 non-null   int64  \n",
      " 20  YearRemodAdd   2919 non-null   int64  \n",
      " 21  RoofStyle      2919 non-null   int64  \n",
      " 22  RoofMatl       2919 non-null   int64  \n",
      " 23  Exterior1st    2919 non-null   int64  \n",
      " 24  Exterior2nd    2919 non-null   int64  \n",
      " 25  MasVnrType     2919 non-null   int64  \n",
      " 26  MasVnrArea     2919 non-null   float64\n",
      " 27  ExterQual      2919 non-null   int64  \n",
      " 28  ExterCond      2919 non-null   int64  \n",
      " 29  Foundation     2919 non-null   int64  \n",
      " 30  BsmtQual       2919 non-null   int64  \n",
      " 31  BsmtCond       2919 non-null   int64  \n",
      " 32  BsmtExposure   2919 non-null   int64  \n",
      " 33  BsmtFinType1   2919 non-null   int64  \n",
      " 34  BsmtFinSF1     2919 non-null   float64\n",
      " 35  BsmtFinType2   2919 non-null   int64  \n",
      " 36  BsmtFinSF2     2919 non-null   float64\n",
      " 37  BsmtUnfSF      2919 non-null   float64\n",
      " 38  TotalBsmtSF    2919 non-null   float64\n",
      " 39  Heating        2919 non-null   int64  \n",
      " 40  HeatingQC      2919 non-null   int64  \n",
      " 41  CentralAir     2919 non-null   int64  \n",
      " 42  Electrical     2919 non-null   int64  \n",
      " 43  1stFlrSF       2919 non-null   int64  \n",
      " 44  2ndFlrSF       2919 non-null   int64  \n",
      " 45  LowQualFinSF   2919 non-null   int64  \n",
      " 46  GrLivArea      2919 non-null   int64  \n",
      " 47  BsmtFullBath   2919 non-null   float64\n",
      " 48  BsmtHalfBath   2919 non-null   float64\n",
      " 49  FullBath       2919 non-null   int64  \n",
      " 50  HalfBath       2919 non-null   int64  \n",
      " 51  BedroomAbvGr   2919 non-null   int64  \n",
      " 52  KitchenAbvGr   2919 non-null   int64  \n",
      " 53  KitchenQual    2919 non-null   int64  \n",
      " 54  TotRmsAbvGrd   2919 non-null   int64  \n",
      " 55  Functional     2919 non-null   int64  \n",
      " 56  Fireplaces     2919 non-null   int64  \n",
      " 57  FireplaceQu    2919 non-null   int64  \n",
      " 58  GarageType     2919 non-null   int64  \n",
      " 59  GarageYrBlt    2919 non-null   float64\n",
      " 60  GarageFinish   2919 non-null   int64  \n",
      " 61  GarageCars     2919 non-null   float64\n",
      " 62  GarageArea     2919 non-null   float64\n",
      " 63  GarageQual     2919 non-null   int64  \n",
      " 64  GarageCond     2919 non-null   int64  \n",
      " 65  PavedDrive     2919 non-null   int64  \n",
      " 66  WoodDeckSF     2919 non-null   int64  \n",
      " 67  OpenPorchSF    2919 non-null   int64  \n",
      " 68  EnclosedPorch  2919 non-null   int64  \n",
      " 69  3SsnPorch      2919 non-null   int64  \n",
      " 70  ScreenPorch    2919 non-null   int64  \n",
      " 71  PoolArea       2919 non-null   int64  \n",
      " 72  PoolQC         2919 non-null   int64  \n",
      " 73  Fence          2919 non-null   int64  \n",
      " 74  MiscFeature    2919 non-null   int64  \n",
      " 75  MiscVal        2919 non-null   int64  \n",
      " 76  MoSold         2919 non-null   int64  \n",
      " 77  YrSold         2919 non-null   int64  \n",
      " 78  SaleType       2919 non-null   int64  \n",
      " 79  SaleCondition  2919 non-null   int64  \n",
      " 80  SalePrice      1460 non-null   float64\n",
      "dtypes: float64(12), int64(69)\n",
      "memory usage: 1.8 MB\n"
     ]
    }
   ],
   "source": [
    "full.info()"
   ],
   "metadata": {
    "collapsed": false,
    "ExecuteTime": {
     "end_time": "2023-08-25T16:15:07.395538Z",
     "start_time": "2023-08-25T16:14:59.147516Z"
    }
   },
   "id": "50dfcbddf7e4251c"
  }
 ],
 "metadata": {
  "kernelspec": {
   "display_name": "Python 3",
   "language": "python",
   "name": "python3"
  },
  "language_info": {
   "codemirror_mode": {
    "name": "ipython",
    "version": 2
   },
   "file_extension": ".py",
   "mimetype": "text/x-python",
   "name": "python",
   "nbconvert_exporter": "python",
   "pygments_lexer": "ipython2",
   "version": "2.7.6"
  }
 },
 "nbformat": 4,
 "nbformat_minor": 5
}
