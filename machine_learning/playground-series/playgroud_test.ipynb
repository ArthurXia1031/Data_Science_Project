{
 "cells": [
  {
   "cell_type": "markdown",
   "source": [
    "####\n",
    "## Playgroud data analysis"
   ],
   "metadata": {
    "collapsed": false
   },
   "id": "8daa53203593dd35"
  },
  {
   "cell_type": "code",
   "execution_count": 4,
   "id": "initial_id",
   "metadata": {
    "collapsed": true,
    "ExecuteTime": {
     "end_time": "2023-08-15T12:52:38.227976Z",
     "start_time": "2023-08-15T12:52:38.177183Z"
    }
   },
   "outputs": [],
   "source": [
    "import pandas as pd\n",
    "import numpy as np\n",
    "import matplotlib.pyplot as plt\n",
    "import seaborn as sns"
   ]
  },
  {
   "cell_type": "code",
   "execution_count": 5,
   "outputs": [],
   "source": [
    "train = pd.read_csv('train.csv')\n",
    "test = pd.read_csv('test.csv')"
   ],
   "metadata": {
    "collapsed": false,
    "ExecuteTime": {
     "end_time": "2023-08-15T12:52:38.259132Z",
     "start_time": "2023-08-15T12:52:38.182090Z"
    }
   },
   "id": "28b9743a7bde2e73"
  },
  {
   "cell_type": "code",
   "execution_count": 6,
   "outputs": [
    {
     "data": {
      "text/plain": "   id        date    country         store  \\\n0   0  2017-01-01  Argentina  Kaggle Learn   \n1   1  2017-01-01  Argentina  Kaggle Learn   \n2   2  2017-01-01  Argentina  Kaggle Learn   \n3   3  2017-01-01  Argentina  Kaggle Learn   \n4   4  2017-01-01  Argentina  Kaggle Learn   \n\n                                          product  num_sold  \n0               Using LLMs to Improve Your Coding        63  \n1                   Using LLMs to Train More LLMs        66  \n2  Using LLMs to Win Friends and Influence People         9  \n3      Using LLMs to Win More Kaggle Competitions        59  \n4                      Using LLMs to Write Better        49  ",
      "text/html": "<div>\n<style scoped>\n    .dataframe tbody tr th:only-of-type {\n        vertical-align: middle;\n    }\n\n    .dataframe tbody tr th {\n        vertical-align: top;\n    }\n\n    .dataframe thead th {\n        text-align: right;\n    }\n</style>\n<table border=\"1\" class=\"dataframe\">\n  <thead>\n    <tr style=\"text-align: right;\">\n      <th></th>\n      <th>id</th>\n      <th>date</th>\n      <th>country</th>\n      <th>store</th>\n      <th>product</th>\n      <th>num_sold</th>\n    </tr>\n  </thead>\n  <tbody>\n    <tr>\n      <th>0</th>\n      <td>0</td>\n      <td>2017-01-01</td>\n      <td>Argentina</td>\n      <td>Kaggle Learn</td>\n      <td>Using LLMs to Improve Your Coding</td>\n      <td>63</td>\n    </tr>\n    <tr>\n      <th>1</th>\n      <td>1</td>\n      <td>2017-01-01</td>\n      <td>Argentina</td>\n      <td>Kaggle Learn</td>\n      <td>Using LLMs to Train More LLMs</td>\n      <td>66</td>\n    </tr>\n    <tr>\n      <th>2</th>\n      <td>2</td>\n      <td>2017-01-01</td>\n      <td>Argentina</td>\n      <td>Kaggle Learn</td>\n      <td>Using LLMs to Win Friends and Influence People</td>\n      <td>9</td>\n    </tr>\n    <tr>\n      <th>3</th>\n      <td>3</td>\n      <td>2017-01-01</td>\n      <td>Argentina</td>\n      <td>Kaggle Learn</td>\n      <td>Using LLMs to Win More Kaggle Competitions</td>\n      <td>59</td>\n    </tr>\n    <tr>\n      <th>4</th>\n      <td>4</td>\n      <td>2017-01-01</td>\n      <td>Argentina</td>\n      <td>Kaggle Learn</td>\n      <td>Using LLMs to Write Better</td>\n      <td>49</td>\n    </tr>\n  </tbody>\n</table>\n</div>"
     },
     "execution_count": 6,
     "metadata": {},
     "output_type": "execute_result"
    }
   ],
   "source": [
    "train.head()"
   ],
   "metadata": {
    "collapsed": false,
    "ExecuteTime": {
     "end_time": "2023-08-15T12:52:38.261926Z",
     "start_time": "2023-08-15T12:52:38.250457Z"
    }
   },
   "id": "94005a51d62d8171"
  },
  {
   "cell_type": "code",
   "execution_count": 7,
   "outputs": [
    {
     "name": "stdout",
     "output_type": "stream",
     "text": [
      "<class 'pandas.core.frame.DataFrame'>\n",
      "RangeIndex: 136950 entries, 0 to 136949\n",
      "Data columns (total 6 columns):\n",
      " #   Column    Non-Null Count   Dtype \n",
      "---  ------    --------------   ----- \n",
      " 0   id        136950 non-null  int64 \n",
      " 1   date      136950 non-null  object\n",
      " 2   country   136950 non-null  object\n",
      " 3   store     136950 non-null  object\n",
      " 4   product   136950 non-null  object\n",
      " 5   num_sold  136950 non-null  int64 \n",
      "dtypes: int64(2), object(4)\n",
      "memory usage: 6.3+ MB\n"
     ]
    }
   ],
   "source": [
    "train.info()"
   ],
   "metadata": {
    "collapsed": false,
    "ExecuteTime": {
     "end_time": "2023-08-15T12:52:38.332641Z",
     "start_time": "2023-08-15T12:52:38.265029Z"
    }
   },
   "id": "b406ed6be33058fa"
  },
  {
   "cell_type": "code",
   "execution_count": 8,
   "outputs": [
    {
     "name": "stdout",
     "output_type": "stream",
     "text": [
      "<class 'pandas.core.frame.DataFrame'>\n",
      "RangeIndex: 27375 entries, 0 to 27374\n",
      "Data columns (total 5 columns):\n",
      " #   Column   Non-Null Count  Dtype \n",
      "---  ------   --------------  ----- \n",
      " 0   id       27375 non-null  int64 \n",
      " 1   date     27375 non-null  object\n",
      " 2   country  27375 non-null  object\n",
      " 3   store    27375 non-null  object\n",
      " 4   product  27375 non-null  object\n",
      "dtypes: int64(1), object(4)\n",
      "memory usage: 1.0+ MB\n"
     ]
    }
   ],
   "source": [
    "test.info()"
   ],
   "metadata": {
    "collapsed": false,
    "ExecuteTime": {
     "end_time": "2023-08-15T12:52:38.332924Z",
     "start_time": "2023-08-15T12:52:38.310005Z"
    }
   },
   "id": "5de73d2f52f903ed"
  },
  {
   "cell_type": "code",
   "execution_count": 9,
   "outputs": [
    {
     "name": "stderr",
     "output_type": "stream",
     "text": [
      "<ipython-input-9-6354882c2070>:1: FutureWarning: The frame.append method is deprecated and will be removed from pandas in a future version. Use pandas.concat instead.\n",
      "  full = train.append(test, ignore_index=True)\n"
     ]
    }
   ],
   "source": [
    "full = train.append(test, ignore_index=True)"
   ],
   "metadata": {
    "collapsed": false,
    "ExecuteTime": {
     "end_time": "2023-08-15T12:52:38.335389Z",
     "start_time": "2023-08-15T12:52:38.322736Z"
    }
   },
   "id": "8fb97b1510e65173"
  },
  {
   "cell_type": "code",
   "execution_count": 10,
   "outputs": [
    {
     "data": {
      "text/plain": "            id        date country      store  \\\n164320  164320  2022-12-31   Spain  Kagglazon   \n164321  164321  2022-12-31   Spain  Kagglazon   \n164322  164322  2022-12-31   Spain  Kagglazon   \n164323  164323  2022-12-31   Spain  Kagglazon   \n164324  164324  2022-12-31   Spain  Kagglazon   \n\n                                               product  num_sold  \n164320               Using LLMs to Improve Your Coding       NaN  \n164321                   Using LLMs to Train More LLMs       NaN  \n164322  Using LLMs to Win Friends and Influence People       NaN  \n164323      Using LLMs to Win More Kaggle Competitions       NaN  \n164324                      Using LLMs to Write Better       NaN  ",
      "text/html": "<div>\n<style scoped>\n    .dataframe tbody tr th:only-of-type {\n        vertical-align: middle;\n    }\n\n    .dataframe tbody tr th {\n        vertical-align: top;\n    }\n\n    .dataframe thead th {\n        text-align: right;\n    }\n</style>\n<table border=\"1\" class=\"dataframe\">\n  <thead>\n    <tr style=\"text-align: right;\">\n      <th></th>\n      <th>id</th>\n      <th>date</th>\n      <th>country</th>\n      <th>store</th>\n      <th>product</th>\n      <th>num_sold</th>\n    </tr>\n  </thead>\n  <tbody>\n    <tr>\n      <th>164320</th>\n      <td>164320</td>\n      <td>2022-12-31</td>\n      <td>Spain</td>\n      <td>Kagglazon</td>\n      <td>Using LLMs to Improve Your Coding</td>\n      <td>NaN</td>\n    </tr>\n    <tr>\n      <th>164321</th>\n      <td>164321</td>\n      <td>2022-12-31</td>\n      <td>Spain</td>\n      <td>Kagglazon</td>\n      <td>Using LLMs to Train More LLMs</td>\n      <td>NaN</td>\n    </tr>\n    <tr>\n      <th>164322</th>\n      <td>164322</td>\n      <td>2022-12-31</td>\n      <td>Spain</td>\n      <td>Kagglazon</td>\n      <td>Using LLMs to Win Friends and Influence People</td>\n      <td>NaN</td>\n    </tr>\n    <tr>\n      <th>164323</th>\n      <td>164323</td>\n      <td>2022-12-31</td>\n      <td>Spain</td>\n      <td>Kagglazon</td>\n      <td>Using LLMs to Win More Kaggle Competitions</td>\n      <td>NaN</td>\n    </tr>\n    <tr>\n      <th>164324</th>\n      <td>164324</td>\n      <td>2022-12-31</td>\n      <td>Spain</td>\n      <td>Kagglazon</td>\n      <td>Using LLMs to Write Better</td>\n      <td>NaN</td>\n    </tr>\n  </tbody>\n</table>\n</div>"
     },
     "execution_count": 10,
     "metadata": {},
     "output_type": "execute_result"
    }
   ],
   "source": [
    "full.tail()"
   ],
   "metadata": {
    "collapsed": false,
    "ExecuteTime": {
     "end_time": "2023-08-15T12:52:38.337614Z",
     "start_time": "2023-08-15T12:52:38.329957Z"
    }
   },
   "id": "2f0b00816e013db0"
  },
  {
   "cell_type": "code",
   "execution_count": 11,
   "outputs": [
    {
     "data": {
      "text/plain": "array([dtype('int64'), dtype('O'), dtype('float64')], dtype=object)"
     },
     "execution_count": 11,
     "metadata": {},
     "output_type": "execute_result"
    }
   ],
   "source": [
    "full.dtypes.unique()"
   ],
   "metadata": {
    "collapsed": false,
    "ExecuteTime": {
     "end_time": "2023-08-15T12:52:38.339082Z",
     "start_time": "2023-08-15T12:52:38.333862Z"
    }
   },
   "id": "50d24fbea04612c8"
  },
  {
   "cell_type": "code",
   "execution_count": 12,
   "outputs": [
    {
     "data": {
      "text/plain": "2017-01-01    75\n2021-01-03    75\n2020-12-28    75\n2020-12-29    75\n2020-12-30    75\n              ..\n2018-12-26    75\n2018-12-25    75\n2018-12-24    75\n2018-12-23    75\n2022-12-31    75\nName: date, Length: 2191, dtype: int64"
     },
     "execution_count": 12,
     "metadata": {},
     "output_type": "execute_result"
    }
   ],
   "source": [
    "full.date.value_counts()"
   ],
   "metadata": {
    "collapsed": false,
    "ExecuteTime": {
     "end_time": "2023-08-15T12:52:38.367351Z",
     "start_time": "2023-08-15T12:52:38.343611Z"
    }
   },
   "id": "1b15d0caf7f42f11"
  },
  {
   "cell_type": "code",
   "execution_count": 13,
   "outputs": [
    {
     "data": {
      "text/plain": "Argentina    32865\nCanada       32865\nEstonia      32865\nJapan        32865\nSpain        32865\nName: country, dtype: int64"
     },
     "execution_count": 13,
     "metadata": {},
     "output_type": "execute_result"
    }
   ],
   "source": [
    "full.country.value_counts()"
   ],
   "metadata": {
    "collapsed": false,
    "ExecuteTime": {
     "end_time": "2023-08-15T12:52:38.398062Z",
     "start_time": "2023-08-15T12:52:38.354246Z"
    }
   },
   "id": "f86bcda1e0341024"
  },
  {
   "cell_type": "code",
   "execution_count": 14,
   "outputs": [
    {
     "data": {
      "text/plain": "Using LLMs to Improve Your Coding                 32865\nUsing LLMs to Train More LLMs                     32865\nUsing LLMs to Win Friends and Influence People    32865\nUsing LLMs to Win More Kaggle Competitions        32865\nUsing LLMs to Write Better                        32865\nName: product, dtype: int64"
     },
     "execution_count": 14,
     "metadata": {},
     "output_type": "execute_result"
    }
   ],
   "source": [
    "full['product'].astype('category').value_counts()"
   ],
   "metadata": {
    "collapsed": false,
    "ExecuteTime": {
     "end_time": "2023-08-15T12:52:38.404675Z",
     "start_time": "2023-08-15T12:52:38.358523Z"
    }
   },
   "id": "ee5a75a8ad222e5e"
  },
  {
   "cell_type": "code",
   "execution_count": 15,
   "outputs": [],
   "source": [
    "from sklearn.preprocessing import LabelEncoder\n",
    "\n",
    "le = LabelEncoder()\n",
    "full['country'] = le.fit_transform(full['country'])\n",
    "full['store'] = le.fit_transform(full['store'])\n",
    "full['product'] = le.fit_transform(full['product'])"
   ],
   "metadata": {
    "collapsed": false,
    "ExecuteTime": {
     "end_time": "2023-08-15T12:52:38.500339Z",
     "start_time": "2023-08-15T12:52:38.373138Z"
    }
   },
   "id": "5d1f40426a615b92"
  },
  {
   "cell_type": "code",
   "execution_count": 16,
   "outputs": [],
   "source": [
    "full.drop(['date'], axis=1, inplace=True)"
   ],
   "metadata": {
    "collapsed": false,
    "ExecuteTime": {
     "end_time": "2023-08-15T12:52:38.507800Z",
     "start_time": "2023-08-15T12:52:38.503864Z"
    }
   },
   "id": "8202c1d23dd1cf7b"
  },
  {
   "cell_type": "code",
   "execution_count": 17,
   "outputs": [],
   "source": [
    "train = full[full['num_sold'].notnull()]\n",
    "test = full[full['num_sold'].isnull()]"
   ],
   "metadata": {
    "collapsed": false,
    "ExecuteTime": {
     "end_time": "2023-08-15T12:52:38.516074Z",
     "start_time": "2023-08-15T12:52:38.507681Z"
    }
   },
   "id": "d7d80790871d3ffa"
  },
  {
   "cell_type": "code",
   "execution_count": 18,
   "outputs": [
    {
     "name": "stdout",
     "output_type": "stream",
     "text": [
      "<class 'pandas.core.frame.DataFrame'>\n",
      "Int64Index: 136950 entries, 0 to 136949\n",
      "Data columns (total 5 columns):\n",
      " #   Column    Non-Null Count   Dtype  \n",
      "---  ------    --------------   -----  \n",
      " 0   id        136950 non-null  int64  \n",
      " 1   country   136950 non-null  int64  \n",
      " 2   store     136950 non-null  int64  \n",
      " 3   product   136950 non-null  int64  \n",
      " 4   num_sold  136950 non-null  float64\n",
      "dtypes: float64(1), int64(4)\n",
      "memory usage: 6.3 MB\n"
     ]
    }
   ],
   "source": [
    "train.info()"
   ],
   "metadata": {
    "collapsed": false,
    "ExecuteTime": {
     "end_time": "2023-08-15T12:52:38.525025Z",
     "start_time": "2023-08-15T12:52:38.516393Z"
    }
   },
   "id": "27616cba1fc91314"
  },
  {
   "cell_type": "code",
   "execution_count": 19,
   "outputs": [
    {
     "name": "stdout",
     "output_type": "stream",
     "text": [
      "<class 'pandas.core.frame.DataFrame'>\n",
      "Int64Index: 27375 entries, 136950 to 164324\n",
      "Data columns (total 5 columns):\n",
      " #   Column    Non-Null Count  Dtype  \n",
      "---  ------    --------------  -----  \n",
      " 0   id        27375 non-null  int64  \n",
      " 1   country   27375 non-null  int64  \n",
      " 2   store     27375 non-null  int64  \n",
      " 3   product   27375 non-null  int64  \n",
      " 4   num_sold  0 non-null      float64\n",
      "dtypes: float64(1), int64(4)\n",
      "memory usage: 1.3 MB\n"
     ]
    }
   ],
   "source": [
    "test.info()"
   ],
   "metadata": {
    "collapsed": false,
    "ExecuteTime": {
     "end_time": "2023-08-15T12:52:38.533080Z",
     "start_time": "2023-08-15T12:52:38.524355Z"
    }
   },
   "id": "a69fc4fd9041a8ea"
  },
  {
   "cell_type": "code",
   "execution_count": 20,
   "outputs": [],
   "source": [
    "from xgboost import XGBRegressor\n",
    "from sklearn.model_selection import train_test_split\n",
    "from sklearn.metrics import mean_squared_error"
   ],
   "metadata": {
    "collapsed": false,
    "ExecuteTime": {
     "end_time": "2023-08-15T12:52:38.627645Z",
     "start_time": "2023-08-15T12:52:38.531180Z"
    }
   },
   "id": "2fed013d8a3b0be5"
  },
  {
   "cell_type": "code",
   "execution_count": 21,
   "outputs": [],
   "source": [
    "X = train.drop(['num_sold'], axis=1)\n",
    "y = train['num_sold']\n",
    "\n",
    "X_train, X_test, y_train, y_test = train_test_split(X, y, test_size=0.2, random_state=123)"
   ],
   "metadata": {
    "collapsed": false,
    "ExecuteTime": {
     "end_time": "2023-08-15T12:52:38.636552Z",
     "start_time": "2023-08-15T12:52:38.628891Z"
    }
   },
   "id": "a557f50fbc1d6b49"
  },
  {
   "cell_type": "code",
   "execution_count": 22,
   "outputs": [
    {
     "data": {
      "text/plain": "XGBRegressor(base_score=None, booster=None, callbacks=None,\n             colsample_bylevel=None, colsample_bynode=None,\n             colsample_bytree=None, early_stopping_rounds=None,\n             enable_categorical=False, eval_metric=None, feature_types=None,\n             gamma=None, gpu_id=None, grow_policy=None, importance_type=None,\n             interaction_constraints=None, learning_rate=None, max_bin=None,\n             max_cat_threshold=None, max_cat_to_onehot=None,\n             max_delta_step=None, max_depth=None, max_leaves=None,\n             min_child_weight=None, missing=nan, monotone_constraints=None,\n             n_estimators=100, n_jobs=None, num_parallel_tree=None,\n             predictor=None, random_state=None, ...)",
      "text/html": "<style>#sk-container-id-1 {color: black;}#sk-container-id-1 pre{padding: 0;}#sk-container-id-1 div.sk-toggleable {background-color: white;}#sk-container-id-1 label.sk-toggleable__label {cursor: pointer;display: block;width: 100%;margin-bottom: 0;padding: 0.3em;box-sizing: border-box;text-align: center;}#sk-container-id-1 label.sk-toggleable__label-arrow:before {content: \"▸\";float: left;margin-right: 0.25em;color: #696969;}#sk-container-id-1 label.sk-toggleable__label-arrow:hover:before {color: black;}#sk-container-id-1 div.sk-estimator:hover label.sk-toggleable__label-arrow:before {color: black;}#sk-container-id-1 div.sk-toggleable__content {max-height: 0;max-width: 0;overflow: hidden;text-align: left;background-color: #f0f8ff;}#sk-container-id-1 div.sk-toggleable__content pre {margin: 0.2em;color: black;border-radius: 0.25em;background-color: #f0f8ff;}#sk-container-id-1 input.sk-toggleable__control:checked~div.sk-toggleable__content {max-height: 200px;max-width: 100%;overflow: auto;}#sk-container-id-1 input.sk-toggleable__control:checked~label.sk-toggleable__label-arrow:before {content: \"▾\";}#sk-container-id-1 div.sk-estimator input.sk-toggleable__control:checked~label.sk-toggleable__label {background-color: #d4ebff;}#sk-container-id-1 div.sk-label input.sk-toggleable__control:checked~label.sk-toggleable__label {background-color: #d4ebff;}#sk-container-id-1 input.sk-hidden--visually {border: 0;clip: rect(1px 1px 1px 1px);clip: rect(1px, 1px, 1px, 1px);height: 1px;margin: -1px;overflow: hidden;padding: 0;position: absolute;width: 1px;}#sk-container-id-1 div.sk-estimator {font-family: monospace;background-color: #f0f8ff;border: 1px dotted black;border-radius: 0.25em;box-sizing: border-box;margin-bottom: 0.5em;}#sk-container-id-1 div.sk-estimator:hover {background-color: #d4ebff;}#sk-container-id-1 div.sk-parallel-item::after {content: \"\";width: 100%;border-bottom: 1px solid gray;flex-grow: 1;}#sk-container-id-1 div.sk-label:hover label.sk-toggleable__label {background-color: #d4ebff;}#sk-container-id-1 div.sk-serial::before {content: \"\";position: absolute;border-left: 1px solid gray;box-sizing: border-box;top: 0;bottom: 0;left: 50%;z-index: 0;}#sk-container-id-1 div.sk-serial {display: flex;flex-direction: column;align-items: center;background-color: white;padding-right: 0.2em;padding-left: 0.2em;position: relative;}#sk-container-id-1 div.sk-item {position: relative;z-index: 1;}#sk-container-id-1 div.sk-parallel {display: flex;align-items: stretch;justify-content: center;background-color: white;position: relative;}#sk-container-id-1 div.sk-item::before, #sk-container-id-1 div.sk-parallel-item::before {content: \"\";position: absolute;border-left: 1px solid gray;box-sizing: border-box;top: 0;bottom: 0;left: 50%;z-index: -1;}#sk-container-id-1 div.sk-parallel-item {display: flex;flex-direction: column;z-index: 1;position: relative;background-color: white;}#sk-container-id-1 div.sk-parallel-item:first-child::after {align-self: flex-end;width: 50%;}#sk-container-id-1 div.sk-parallel-item:last-child::after {align-self: flex-start;width: 50%;}#sk-container-id-1 div.sk-parallel-item:only-child::after {width: 0;}#sk-container-id-1 div.sk-dashed-wrapped {border: 1px dashed gray;margin: 0 0.4em 0.5em 0.4em;box-sizing: border-box;padding-bottom: 0.4em;background-color: white;}#sk-container-id-1 div.sk-label label {font-family: monospace;font-weight: bold;display: inline-block;line-height: 1.2em;}#sk-container-id-1 div.sk-label-container {text-align: center;}#sk-container-id-1 div.sk-container {/* jupyter's `normalize.less` sets `[hidden] { display: none; }` but bootstrap.min.css set `[hidden] { display: none !important; }` so we also need the `!important` here to be able to override the default hidden behavior on the sphinx rendered scikit-learn.org. See: https://github.com/scikit-learn/scikit-learn/issues/21755 */display: inline-block !important;position: relative;}#sk-container-id-1 div.sk-text-repr-fallback {display: none;}</style><div id=\"sk-container-id-1\" class=\"sk-top-container\"><div class=\"sk-text-repr-fallback\"><pre>XGBRegressor(base_score=None, booster=None, callbacks=None,\n             colsample_bylevel=None, colsample_bynode=None,\n             colsample_bytree=None, early_stopping_rounds=None,\n             enable_categorical=False, eval_metric=None, feature_types=None,\n             gamma=None, gpu_id=None, grow_policy=None, importance_type=None,\n             interaction_constraints=None, learning_rate=None, max_bin=None,\n             max_cat_threshold=None, max_cat_to_onehot=None,\n             max_delta_step=None, max_depth=None, max_leaves=None,\n             min_child_weight=None, missing=nan, monotone_constraints=None,\n             n_estimators=100, n_jobs=None, num_parallel_tree=None,\n             predictor=None, random_state=None, ...)</pre><b>In a Jupyter environment, please rerun this cell to show the HTML representation or trust the notebook. <br />On GitHub, the HTML representation is unable to render, please try loading this page with nbviewer.org.</b></div><div class=\"sk-container\" hidden><div class=\"sk-item\"><div class=\"sk-estimator sk-toggleable\"><input class=\"sk-toggleable__control sk-hidden--visually\" id=\"sk-estimator-id-1\" type=\"checkbox\" checked><label for=\"sk-estimator-id-1\" class=\"sk-toggleable__label sk-toggleable__label-arrow\">XGBRegressor</label><div class=\"sk-toggleable__content\"><pre>XGBRegressor(base_score=None, booster=None, callbacks=None,\n             colsample_bylevel=None, colsample_bynode=None,\n             colsample_bytree=None, early_stopping_rounds=None,\n             enable_categorical=False, eval_metric=None, feature_types=None,\n             gamma=None, gpu_id=None, grow_policy=None, importance_type=None,\n             interaction_constraints=None, learning_rate=None, max_bin=None,\n             max_cat_threshold=None, max_cat_to_onehot=None,\n             max_delta_step=None, max_depth=None, max_leaves=None,\n             min_child_weight=None, missing=nan, monotone_constraints=None,\n             n_estimators=100, n_jobs=None, num_parallel_tree=None,\n             predictor=None, random_state=None, ...)</pre></div></div></div></div></div>"
     },
     "execution_count": 22,
     "metadata": {},
     "output_type": "execute_result"
    }
   ],
   "source": [
    "xgb = XGBRegressor()\n",
    "xgb.fit(X_train, y_train)"
   ],
   "metadata": {
    "collapsed": false,
    "ExecuteTime": {
     "end_time": "2023-08-15T12:52:40.446352Z",
     "start_time": "2023-08-15T12:52:38.637090Z"
    }
   },
   "id": "c3800cec0c4c53fc"
  },
  {
   "cell_type": "code",
   "execution_count": 23,
   "outputs": [
    {
     "data": {
      "text/plain": "0.9844607320032566"
     },
     "execution_count": 23,
     "metadata": {},
     "output_type": "execute_result"
    }
   ],
   "source": [
    "score = xgb.score(X_test, y_test)\n",
    "score"
   ],
   "metadata": {
    "collapsed": false,
    "ExecuteTime": {
     "end_time": "2023-08-15T12:52:40.457931Z",
     "start_time": "2023-08-15T12:52:40.439060Z"
    }
   },
   "id": "409e21d42fcf4a3b"
  },
  {
   "cell_type": "code",
   "execution_count": 24,
   "outputs": [],
   "source": [
    "X_test = test.drop(['num_sold'], axis=1)\n",
    "y_pred = xgb.predict(X_test)"
   ],
   "metadata": {
    "collapsed": false,
    "ExecuteTime": {
     "end_time": "2023-08-15T12:52:40.478277Z",
     "start_time": "2023-08-15T12:52:40.456189Z"
    }
   },
   "id": "98fed331df94a91f"
  },
  {
   "cell_type": "code",
   "execution_count": 25,
   "outputs": [
    {
     "data": {
      "text/plain": "array([ 45.40885 ,  50.41122 ,   6.871476, ..., 155.71202 , 644.1529  ,\n       529.3971  ], dtype=float32)"
     },
     "execution_count": 25,
     "metadata": {},
     "output_type": "execute_result"
    }
   ],
   "source": [
    "y_pred"
   ],
   "metadata": {
    "collapsed": false,
    "ExecuteTime": {
     "end_time": "2023-08-15T12:52:40.489147Z",
     "start_time": "2023-08-15T12:52:40.465014Z"
    }
   },
   "id": "4da99850ba999897"
  },
  {
   "cell_type": "code",
   "execution_count": 26,
   "outputs": [
    {
     "data": {
      "text/plain": "       id  num_sold\n0  136950       100\n1  136951       100\n2  136952       100\n3  136953       100\n4  136954       100",
      "text/html": "<div>\n<style scoped>\n    .dataframe tbody tr th:only-of-type {\n        vertical-align: middle;\n    }\n\n    .dataframe tbody tr th {\n        vertical-align: top;\n    }\n\n    .dataframe thead th {\n        text-align: right;\n    }\n</style>\n<table border=\"1\" class=\"dataframe\">\n  <thead>\n    <tr style=\"text-align: right;\">\n      <th></th>\n      <th>id</th>\n      <th>num_sold</th>\n    </tr>\n  </thead>\n  <tbody>\n    <tr>\n      <th>0</th>\n      <td>136950</td>\n      <td>100</td>\n    </tr>\n    <tr>\n      <th>1</th>\n      <td>136951</td>\n      <td>100</td>\n    </tr>\n    <tr>\n      <th>2</th>\n      <td>136952</td>\n      <td>100</td>\n    </tr>\n    <tr>\n      <th>3</th>\n      <td>136953</td>\n      <td>100</td>\n    </tr>\n    <tr>\n      <th>4</th>\n      <td>136954</td>\n      <td>100</td>\n    </tr>\n  </tbody>\n</table>\n</div>"
     },
     "execution_count": 26,
     "metadata": {},
     "output_type": "execute_result"
    }
   ],
   "source": [
    "# combine id and prediction\n",
    "\n",
    "submit_sample = pd.read_csv('sample_submission.csv')\n",
    "submit_sample.head()"
   ],
   "metadata": {
    "collapsed": false,
    "ExecuteTime": {
     "end_time": "2023-08-15T12:52:40.490007Z",
     "start_time": "2023-08-15T12:52:40.468847Z"
    }
   },
   "id": "819b649095144145"
  },
  {
   "cell_type": "code",
   "execution_count": 27,
   "outputs": [],
   "source": [
    "submit_sample['num_sold'] = y_pred"
   ],
   "metadata": {
    "collapsed": false,
    "ExecuteTime": {
     "end_time": "2023-08-15T12:52:40.491119Z",
     "start_time": "2023-08-15T12:52:40.479468Z"
    }
   },
   "id": "8cfec01cff8e80fc"
  },
  {
   "cell_type": "code",
   "execution_count": 28,
   "outputs": [
    {
     "data": {
      "text/plain": "       id   num_sold\n0  136950  45.408852\n1  136951  50.411221\n2  136952   6.871476\n3  136953  46.361713\n4  136954  39.923256",
      "text/html": "<div>\n<style scoped>\n    .dataframe tbody tr th:only-of-type {\n        vertical-align: middle;\n    }\n\n    .dataframe tbody tr th {\n        vertical-align: top;\n    }\n\n    .dataframe thead th {\n        text-align: right;\n    }\n</style>\n<table border=\"1\" class=\"dataframe\">\n  <thead>\n    <tr style=\"text-align: right;\">\n      <th></th>\n      <th>id</th>\n      <th>num_sold</th>\n    </tr>\n  </thead>\n  <tbody>\n    <tr>\n      <th>0</th>\n      <td>136950</td>\n      <td>45.408852</td>\n    </tr>\n    <tr>\n      <th>1</th>\n      <td>136951</td>\n      <td>50.411221</td>\n    </tr>\n    <tr>\n      <th>2</th>\n      <td>136952</td>\n      <td>6.871476</td>\n    </tr>\n    <tr>\n      <th>3</th>\n      <td>136953</td>\n      <td>46.361713</td>\n    </tr>\n    <tr>\n      <th>4</th>\n      <td>136954</td>\n      <td>39.923256</td>\n    </tr>\n  </tbody>\n</table>\n</div>"
     },
     "execution_count": 28,
     "metadata": {},
     "output_type": "execute_result"
    }
   ],
   "source": [
    "submit_sample.head()"
   ],
   "metadata": {
    "collapsed": false,
    "ExecuteTime": {
     "end_time": "2023-08-15T12:52:40.500637Z",
     "start_time": "2023-08-15T12:52:40.493140Z"
    }
   },
   "id": "43b4c86dd15f9530"
  },
  {
   "cell_type": "code",
   "execution_count": 29,
   "outputs": [],
   "source": [
    "submit_sample.to_csv('results/submit_xgb.csv', index=False)"
   ],
   "metadata": {
    "collapsed": false,
    "ExecuteTime": {
     "end_time": "2023-08-15T12:52:40.554175Z",
     "start_time": "2023-08-15T12:52:40.497042Z"
    }
   },
   "id": "ce687559da331b33"
  }
 ],
 "metadata": {
  "kernelspec": {
   "display_name": "Python 3",
   "language": "python",
   "name": "python3"
  },
  "language_info": {
   "codemirror_mode": {
    "name": "ipython",
    "version": 2
   },
   "file_extension": ".py",
   "mimetype": "text/x-python",
   "name": "python",
   "nbconvert_exporter": "python",
   "pygments_lexer": "ipython2",
   "version": "2.7.6"
  }
 },
 "nbformat": 4,
 "nbformat_minor": 5
}
