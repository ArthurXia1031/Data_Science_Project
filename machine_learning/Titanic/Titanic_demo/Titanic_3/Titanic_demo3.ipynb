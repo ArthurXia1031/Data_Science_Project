{
 "cells": [
  {
   "cell_type": "markdown",
   "source": [
    "## Titanic: Machine Learning from Disaster"
   ],
   "metadata": {
    "collapsed": false
   }
  },
  {
   "cell_type": "code",
   "execution_count": 37,
   "metadata": {
    "collapsed": true,
    "ExecuteTime": {
     "end_time": "2023-08-07T01:49:04.994053Z",
     "start_time": "2023-08-07T01:49:04.986876Z"
    }
   },
   "outputs": [],
   "source": [
    "import numpy as np\n",
    "import pandas as pd\n",
    "import matplotlib"
   ]
  },
  {
   "cell_type": "code",
   "execution_count": 38,
   "outputs": [],
   "source": [
    "df = pd.read_csv('train.csv')"
   ],
   "metadata": {
    "collapsed": false,
    "ExecuteTime": {
     "end_time": "2023-08-07T01:49:06.734846Z",
     "start_time": "2023-08-07T01:49:06.717081Z"
    }
   }
  },
  {
   "cell_type": "code",
   "execution_count": 39,
   "outputs": [
    {
     "data": {
      "text/plain": "    PassengerId  Survived  Pclass  \\\n0             1         0       3   \n1             2         1       1   \n2             3         1       3   \n3             4         1       1   \n4             5         0       3   \n5             6         0       3   \n6             7         0       1   \n7             8         0       3   \n8             9         1       3   \n9            10         1       2   \n10           11         1       3   \n11           12         1       1   \n12           13         0       3   \n13           14         0       3   \n14           15         0       3   \n15           16         1       2   \n16           17         0       3   \n17           18         1       2   \n18           19         0       3   \n19           20         1       3   \n\n                                                 Name     Sex   Age  SibSp  \\\n0                             Braund, Mr. Owen Harris    male  22.0      1   \n1   Cumings, Mrs. John Bradley (Florence Briggs Th...  female  38.0      1   \n2                              Heikkinen, Miss. Laina  female  26.0      0   \n3        Futrelle, Mrs. Jacques Heath (Lily May Peel)  female  35.0      1   \n4                            Allen, Mr. William Henry    male  35.0      0   \n5                                    Moran, Mr. James    male   NaN      0   \n6                             McCarthy, Mr. Timothy J    male  54.0      0   \n7                      Palsson, Master. Gosta Leonard    male   2.0      3   \n8   Johnson, Mrs. Oscar W (Elisabeth Vilhelmina Berg)  female  27.0      0   \n9                 Nasser, Mrs. Nicholas (Adele Achem)  female  14.0      1   \n10                    Sandstrom, Miss. Marguerite Rut  female   4.0      1   \n11                           Bonnell, Miss. Elizabeth  female  58.0      0   \n12                     Saundercock, Mr. William Henry    male  20.0      0   \n13                        Andersson, Mr. Anders Johan    male  39.0      1   \n14               Vestrom, Miss. Hulda Amanda Adolfina  female  14.0      0   \n15                   Hewlett, Mrs. (Mary D Kingcome)   female  55.0      0   \n16                               Rice, Master. Eugene    male   2.0      4   \n17                       Williams, Mr. Charles Eugene    male   NaN      0   \n18  Vander Planke, Mrs. Julius (Emelia Maria Vande...  female  31.0      1   \n19                            Masselmani, Mrs. Fatima  female   NaN      0   \n\n    Parch            Ticket     Fare Cabin Embarked  \n0       0         A/5 21171   7.2500   NaN        S  \n1       0          PC 17599  71.2833   C85        C  \n2       0  STON/O2. 3101282   7.9250   NaN        S  \n3       0            113803  53.1000  C123        S  \n4       0            373450   8.0500   NaN        S  \n5       0            330877   8.4583   NaN        Q  \n6       0             17463  51.8625   E46        S  \n7       1            349909  21.0750   NaN        S  \n8       2            347742  11.1333   NaN        S  \n9       0            237736  30.0708   NaN        C  \n10      1           PP 9549  16.7000    G6        S  \n11      0            113783  26.5500  C103        S  \n12      0         A/5. 2151   8.0500   NaN        S  \n13      5            347082  31.2750   NaN        S  \n14      0            350406   7.8542   NaN        S  \n15      0            248706  16.0000   NaN        S  \n16      1            382652  29.1250   NaN        Q  \n17      0            244373  13.0000   NaN        S  \n18      0            345763  18.0000   NaN        S  \n19      0              2649   7.2250   NaN        C  ",
      "text/html": "<div>\n<style scoped>\n    .dataframe tbody tr th:only-of-type {\n        vertical-align: middle;\n    }\n\n    .dataframe tbody tr th {\n        vertical-align: top;\n    }\n\n    .dataframe thead th {\n        text-align: right;\n    }\n</style>\n<table border=\"1\" class=\"dataframe\">\n  <thead>\n    <tr style=\"text-align: right;\">\n      <th></th>\n      <th>PassengerId</th>\n      <th>Survived</th>\n      <th>Pclass</th>\n      <th>Name</th>\n      <th>Sex</th>\n      <th>Age</th>\n      <th>SibSp</th>\n      <th>Parch</th>\n      <th>Ticket</th>\n      <th>Fare</th>\n      <th>Cabin</th>\n      <th>Embarked</th>\n    </tr>\n  </thead>\n  <tbody>\n    <tr>\n      <th>0</th>\n      <td>1</td>\n      <td>0</td>\n      <td>3</td>\n      <td>Braund, Mr. Owen Harris</td>\n      <td>male</td>\n      <td>22.0</td>\n      <td>1</td>\n      <td>0</td>\n      <td>A/5 21171</td>\n      <td>7.2500</td>\n      <td>NaN</td>\n      <td>S</td>\n    </tr>\n    <tr>\n      <th>1</th>\n      <td>2</td>\n      <td>1</td>\n      <td>1</td>\n      <td>Cumings, Mrs. John Bradley (Florence Briggs Th...</td>\n      <td>female</td>\n      <td>38.0</td>\n      <td>1</td>\n      <td>0</td>\n      <td>PC 17599</td>\n      <td>71.2833</td>\n      <td>C85</td>\n      <td>C</td>\n    </tr>\n    <tr>\n      <th>2</th>\n      <td>3</td>\n      <td>1</td>\n      <td>3</td>\n      <td>Heikkinen, Miss. Laina</td>\n      <td>female</td>\n      <td>26.0</td>\n      <td>0</td>\n      <td>0</td>\n      <td>STON/O2. 3101282</td>\n      <td>7.9250</td>\n      <td>NaN</td>\n      <td>S</td>\n    </tr>\n    <tr>\n      <th>3</th>\n      <td>4</td>\n      <td>1</td>\n      <td>1</td>\n      <td>Futrelle, Mrs. Jacques Heath (Lily May Peel)</td>\n      <td>female</td>\n      <td>35.0</td>\n      <td>1</td>\n      <td>0</td>\n      <td>113803</td>\n      <td>53.1000</td>\n      <td>C123</td>\n      <td>S</td>\n    </tr>\n    <tr>\n      <th>4</th>\n      <td>5</td>\n      <td>0</td>\n      <td>3</td>\n      <td>Allen, Mr. William Henry</td>\n      <td>male</td>\n      <td>35.0</td>\n      <td>0</td>\n      <td>0</td>\n      <td>373450</td>\n      <td>8.0500</td>\n      <td>NaN</td>\n      <td>S</td>\n    </tr>\n    <tr>\n      <th>5</th>\n      <td>6</td>\n      <td>0</td>\n      <td>3</td>\n      <td>Moran, Mr. James</td>\n      <td>male</td>\n      <td>NaN</td>\n      <td>0</td>\n      <td>0</td>\n      <td>330877</td>\n      <td>8.4583</td>\n      <td>NaN</td>\n      <td>Q</td>\n    </tr>\n    <tr>\n      <th>6</th>\n      <td>7</td>\n      <td>0</td>\n      <td>1</td>\n      <td>McCarthy, Mr. Timothy J</td>\n      <td>male</td>\n      <td>54.0</td>\n      <td>0</td>\n      <td>0</td>\n      <td>17463</td>\n      <td>51.8625</td>\n      <td>E46</td>\n      <td>S</td>\n    </tr>\n    <tr>\n      <th>7</th>\n      <td>8</td>\n      <td>0</td>\n      <td>3</td>\n      <td>Palsson, Master. Gosta Leonard</td>\n      <td>male</td>\n      <td>2.0</td>\n      <td>3</td>\n      <td>1</td>\n      <td>349909</td>\n      <td>21.0750</td>\n      <td>NaN</td>\n      <td>S</td>\n    </tr>\n    <tr>\n      <th>8</th>\n      <td>9</td>\n      <td>1</td>\n      <td>3</td>\n      <td>Johnson, Mrs. Oscar W (Elisabeth Vilhelmina Berg)</td>\n      <td>female</td>\n      <td>27.0</td>\n      <td>0</td>\n      <td>2</td>\n      <td>347742</td>\n      <td>11.1333</td>\n      <td>NaN</td>\n      <td>S</td>\n    </tr>\n    <tr>\n      <th>9</th>\n      <td>10</td>\n      <td>1</td>\n      <td>2</td>\n      <td>Nasser, Mrs. Nicholas (Adele Achem)</td>\n      <td>female</td>\n      <td>14.0</td>\n      <td>1</td>\n      <td>0</td>\n      <td>237736</td>\n      <td>30.0708</td>\n      <td>NaN</td>\n      <td>C</td>\n    </tr>\n    <tr>\n      <th>10</th>\n      <td>11</td>\n      <td>1</td>\n      <td>3</td>\n      <td>Sandstrom, Miss. Marguerite Rut</td>\n      <td>female</td>\n      <td>4.0</td>\n      <td>1</td>\n      <td>1</td>\n      <td>PP 9549</td>\n      <td>16.7000</td>\n      <td>G6</td>\n      <td>S</td>\n    </tr>\n    <tr>\n      <th>11</th>\n      <td>12</td>\n      <td>1</td>\n      <td>1</td>\n      <td>Bonnell, Miss. Elizabeth</td>\n      <td>female</td>\n      <td>58.0</td>\n      <td>0</td>\n      <td>0</td>\n      <td>113783</td>\n      <td>26.5500</td>\n      <td>C103</td>\n      <td>S</td>\n    </tr>\n    <tr>\n      <th>12</th>\n      <td>13</td>\n      <td>0</td>\n      <td>3</td>\n      <td>Saundercock, Mr. William Henry</td>\n      <td>male</td>\n      <td>20.0</td>\n      <td>0</td>\n      <td>0</td>\n      <td>A/5. 2151</td>\n      <td>8.0500</td>\n      <td>NaN</td>\n      <td>S</td>\n    </tr>\n    <tr>\n      <th>13</th>\n      <td>14</td>\n      <td>0</td>\n      <td>3</td>\n      <td>Andersson, Mr. Anders Johan</td>\n      <td>male</td>\n      <td>39.0</td>\n      <td>1</td>\n      <td>5</td>\n      <td>347082</td>\n      <td>31.2750</td>\n      <td>NaN</td>\n      <td>S</td>\n    </tr>\n    <tr>\n      <th>14</th>\n      <td>15</td>\n      <td>0</td>\n      <td>3</td>\n      <td>Vestrom, Miss. Hulda Amanda Adolfina</td>\n      <td>female</td>\n      <td>14.0</td>\n      <td>0</td>\n      <td>0</td>\n      <td>350406</td>\n      <td>7.8542</td>\n      <td>NaN</td>\n      <td>S</td>\n    </tr>\n    <tr>\n      <th>15</th>\n      <td>16</td>\n      <td>1</td>\n      <td>2</td>\n      <td>Hewlett, Mrs. (Mary D Kingcome)</td>\n      <td>female</td>\n      <td>55.0</td>\n      <td>0</td>\n      <td>0</td>\n      <td>248706</td>\n      <td>16.0000</td>\n      <td>NaN</td>\n      <td>S</td>\n    </tr>\n    <tr>\n      <th>16</th>\n      <td>17</td>\n      <td>0</td>\n      <td>3</td>\n      <td>Rice, Master. Eugene</td>\n      <td>male</td>\n      <td>2.0</td>\n      <td>4</td>\n      <td>1</td>\n      <td>382652</td>\n      <td>29.1250</td>\n      <td>NaN</td>\n      <td>Q</td>\n    </tr>\n    <tr>\n      <th>17</th>\n      <td>18</td>\n      <td>1</td>\n      <td>2</td>\n      <td>Williams, Mr. Charles Eugene</td>\n      <td>male</td>\n      <td>NaN</td>\n      <td>0</td>\n      <td>0</td>\n      <td>244373</td>\n      <td>13.0000</td>\n      <td>NaN</td>\n      <td>S</td>\n    </tr>\n    <tr>\n      <th>18</th>\n      <td>19</td>\n      <td>0</td>\n      <td>3</td>\n      <td>Vander Planke, Mrs. Julius (Emelia Maria Vande...</td>\n      <td>female</td>\n      <td>31.0</td>\n      <td>1</td>\n      <td>0</td>\n      <td>345763</td>\n      <td>18.0000</td>\n      <td>NaN</td>\n      <td>S</td>\n    </tr>\n    <tr>\n      <th>19</th>\n      <td>20</td>\n      <td>1</td>\n      <td>3</td>\n      <td>Masselmani, Mrs. Fatima</td>\n      <td>female</td>\n      <td>NaN</td>\n      <td>0</td>\n      <td>0</td>\n      <td>2649</td>\n      <td>7.2250</td>\n      <td>NaN</td>\n      <td>C</td>\n    </tr>\n  </tbody>\n</table>\n</div>"
     },
     "execution_count": 39,
     "metadata": {},
     "output_type": "execute_result"
    }
   ],
   "source": [
    "df.head(20)"
   ],
   "metadata": {
    "collapsed": false,
    "ExecuteTime": {
     "end_time": "2023-08-07T01:49:07.609504Z",
     "start_time": "2023-08-07T01:49:07.601141Z"
    }
   }
  },
  {
   "cell_type": "code",
   "execution_count": 40,
   "outputs": [
    {
     "name": "stdout",
     "output_type": "stream",
     "text": [
      "<class 'pandas.core.frame.DataFrame'>\n",
      "RangeIndex: 891 entries, 0 to 890\n",
      "Data columns (total 12 columns):\n",
      " #   Column       Non-Null Count  Dtype  \n",
      "---  ------       --------------  -----  \n",
      " 0   PassengerId  891 non-null    int64  \n",
      " 1   Survived     891 non-null    int64  \n",
      " 2   Pclass       891 non-null    int64  \n",
      " 3   Name         891 non-null    object \n",
      " 4   Sex          891 non-null    object \n",
      " 5   Age          714 non-null    float64\n",
      " 6   SibSp        891 non-null    int64  \n",
      " 7   Parch        891 non-null    int64  \n",
      " 8   Ticket       891 non-null    object \n",
      " 9   Fare         891 non-null    float64\n",
      " 10  Cabin        204 non-null    object \n",
      " 11  Embarked     889 non-null    object \n",
      "dtypes: float64(2), int64(5), object(5)\n",
      "memory usage: 83.7+ KB\n"
     ]
    }
   ],
   "source": [
    "df.info()"
   ],
   "metadata": {
    "collapsed": false,
    "ExecuteTime": {
     "end_time": "2023-08-07T01:49:08.741607Z",
     "start_time": "2023-08-07T01:49:08.730320Z"
    }
   }
  },
  {
   "cell_type": "code",
   "execution_count": 41,
   "outputs": [],
   "source": [
    "df.loc[(df.Cabin.notnull()), 'Cabin'] = '1'\n",
    "df.loc[(df.Cabin.isnull()), 'Cabin'] = '0'"
   ],
   "metadata": {
    "collapsed": false,
    "ExecuteTime": {
     "end_time": "2023-08-07T01:49:21.710134Z",
     "start_time": "2023-08-07T01:49:21.696559Z"
    }
   }
  },
  {
   "cell_type": "code",
   "execution_count": 42,
   "outputs": [
    {
     "data": {
      "text/plain": "     PassengerId  Survived  Pclass  \\\n0              1         0       3   \n1              2         1       1   \n2              3         1       3   \n3              4         1       1   \n4              5         0       3   \n..           ...       ...     ...   \n886          887         0       2   \n887          888         1       1   \n888          889         0       3   \n889          890         1       1   \n890          891         0       3   \n\n                                                  Name     Sex   Age  SibSp  \\\n0                              Braund, Mr. Owen Harris    male  22.0      1   \n1    Cumings, Mrs. John Bradley (Florence Briggs Th...  female  38.0      1   \n2                               Heikkinen, Miss. Laina  female  26.0      0   \n3         Futrelle, Mrs. Jacques Heath (Lily May Peel)  female  35.0      1   \n4                             Allen, Mr. William Henry    male  35.0      0   \n..                                                 ...     ...   ...    ...   \n886                              Montvila, Rev. Juozas    male  27.0      0   \n887                       Graham, Miss. Margaret Edith  female  19.0      0   \n888           Johnston, Miss. Catherine Helen \"Carrie\"  female   NaN      1   \n889                              Behr, Mr. Karl Howell    male  26.0      0   \n890                                Dooley, Mr. Patrick    male  32.0      0   \n\n     Parch            Ticket     Fare Cabin Embarked  \n0        0         A/5 21171   7.2500     0        S  \n1        0          PC 17599  71.2833     1        C  \n2        0  STON/O2. 3101282   7.9250     0        S  \n3        0            113803  53.1000     1        S  \n4        0            373450   8.0500     0        S  \n..     ...               ...      ...   ...      ...  \n886      0            211536  13.0000     0        S  \n887      0            112053  30.0000     1        S  \n888      2        W./C. 6607  23.4500     0        S  \n889      0            111369  30.0000     1        C  \n890      0            370376   7.7500     0        Q  \n\n[891 rows x 12 columns]",
      "text/html": "<div>\n<style scoped>\n    .dataframe tbody tr th:only-of-type {\n        vertical-align: middle;\n    }\n\n    .dataframe tbody tr th {\n        vertical-align: top;\n    }\n\n    .dataframe thead th {\n        text-align: right;\n    }\n</style>\n<table border=\"1\" class=\"dataframe\">\n  <thead>\n    <tr style=\"text-align: right;\">\n      <th></th>\n      <th>PassengerId</th>\n      <th>Survived</th>\n      <th>Pclass</th>\n      <th>Name</th>\n      <th>Sex</th>\n      <th>Age</th>\n      <th>SibSp</th>\n      <th>Parch</th>\n      <th>Ticket</th>\n      <th>Fare</th>\n      <th>Cabin</th>\n      <th>Embarked</th>\n    </tr>\n  </thead>\n  <tbody>\n    <tr>\n      <th>0</th>\n      <td>1</td>\n      <td>0</td>\n      <td>3</td>\n      <td>Braund, Mr. Owen Harris</td>\n      <td>male</td>\n      <td>22.0</td>\n      <td>1</td>\n      <td>0</td>\n      <td>A/5 21171</td>\n      <td>7.2500</td>\n      <td>0</td>\n      <td>S</td>\n    </tr>\n    <tr>\n      <th>1</th>\n      <td>2</td>\n      <td>1</td>\n      <td>1</td>\n      <td>Cumings, Mrs. John Bradley (Florence Briggs Th...</td>\n      <td>female</td>\n      <td>38.0</td>\n      <td>1</td>\n      <td>0</td>\n      <td>PC 17599</td>\n      <td>71.2833</td>\n      <td>1</td>\n      <td>C</td>\n    </tr>\n    <tr>\n      <th>2</th>\n      <td>3</td>\n      <td>1</td>\n      <td>3</td>\n      <td>Heikkinen, Miss. Laina</td>\n      <td>female</td>\n      <td>26.0</td>\n      <td>0</td>\n      <td>0</td>\n      <td>STON/O2. 3101282</td>\n      <td>7.9250</td>\n      <td>0</td>\n      <td>S</td>\n    </tr>\n    <tr>\n      <th>3</th>\n      <td>4</td>\n      <td>1</td>\n      <td>1</td>\n      <td>Futrelle, Mrs. Jacques Heath (Lily May Peel)</td>\n      <td>female</td>\n      <td>35.0</td>\n      <td>1</td>\n      <td>0</td>\n      <td>113803</td>\n      <td>53.1000</td>\n      <td>1</td>\n      <td>S</td>\n    </tr>\n    <tr>\n      <th>4</th>\n      <td>5</td>\n      <td>0</td>\n      <td>3</td>\n      <td>Allen, Mr. William Henry</td>\n      <td>male</td>\n      <td>35.0</td>\n      <td>0</td>\n      <td>0</td>\n      <td>373450</td>\n      <td>8.0500</td>\n      <td>0</td>\n      <td>S</td>\n    </tr>\n    <tr>\n      <th>...</th>\n      <td>...</td>\n      <td>...</td>\n      <td>...</td>\n      <td>...</td>\n      <td>...</td>\n      <td>...</td>\n      <td>...</td>\n      <td>...</td>\n      <td>...</td>\n      <td>...</td>\n      <td>...</td>\n      <td>...</td>\n    </tr>\n    <tr>\n      <th>886</th>\n      <td>887</td>\n      <td>0</td>\n      <td>2</td>\n      <td>Montvila, Rev. Juozas</td>\n      <td>male</td>\n      <td>27.0</td>\n      <td>0</td>\n      <td>0</td>\n      <td>211536</td>\n      <td>13.0000</td>\n      <td>0</td>\n      <td>S</td>\n    </tr>\n    <tr>\n      <th>887</th>\n      <td>888</td>\n      <td>1</td>\n      <td>1</td>\n      <td>Graham, Miss. Margaret Edith</td>\n      <td>female</td>\n      <td>19.0</td>\n      <td>0</td>\n      <td>0</td>\n      <td>112053</td>\n      <td>30.0000</td>\n      <td>1</td>\n      <td>S</td>\n    </tr>\n    <tr>\n      <th>888</th>\n      <td>889</td>\n      <td>0</td>\n      <td>3</td>\n      <td>Johnston, Miss. Catherine Helen \"Carrie\"</td>\n      <td>female</td>\n      <td>NaN</td>\n      <td>1</td>\n      <td>2</td>\n      <td>W./C. 6607</td>\n      <td>23.4500</td>\n      <td>0</td>\n      <td>S</td>\n    </tr>\n    <tr>\n      <th>889</th>\n      <td>890</td>\n      <td>1</td>\n      <td>1</td>\n      <td>Behr, Mr. Karl Howell</td>\n      <td>male</td>\n      <td>26.0</td>\n      <td>0</td>\n      <td>0</td>\n      <td>111369</td>\n      <td>30.0000</td>\n      <td>1</td>\n      <td>C</td>\n    </tr>\n    <tr>\n      <th>890</th>\n      <td>891</td>\n      <td>0</td>\n      <td>3</td>\n      <td>Dooley, Mr. Patrick</td>\n      <td>male</td>\n      <td>32.0</td>\n      <td>0</td>\n      <td>0</td>\n      <td>370376</td>\n      <td>7.7500</td>\n      <td>0</td>\n      <td>Q</td>\n    </tr>\n  </tbody>\n</table>\n<p>891 rows × 12 columns</p>\n</div>"
     },
     "execution_count": 42,
     "metadata": {},
     "output_type": "execute_result"
    }
   ],
   "source": [
    "df"
   ],
   "metadata": {
    "collapsed": false,
    "ExecuteTime": {
     "end_time": "2023-08-07T01:49:22.521285Z",
     "start_time": "2023-08-07T01:49:22.511041Z"
    }
   }
  },
  {
   "cell_type": "code",
   "execution_count": 43,
   "outputs": [
    {
     "name": "stdout",
     "output_type": "stream",
     "text": [
      "<class 'pandas.core.frame.DataFrame'>\n",
      "RangeIndex: 891 entries, 0 to 890\n",
      "Data columns (total 12 columns):\n",
      " #   Column       Non-Null Count  Dtype  \n",
      "---  ------       --------------  -----  \n",
      " 0   PassengerId  891 non-null    int64  \n",
      " 1   Survived     891 non-null    int64  \n",
      " 2   Pclass       891 non-null    int64  \n",
      " 3   Name         891 non-null    object \n",
      " 4   Sex          891 non-null    object \n",
      " 5   Age          714 non-null    float64\n",
      " 6   SibSp        891 non-null    int64  \n",
      " 7   Parch        891 non-null    int64  \n",
      " 8   Ticket       891 non-null    object \n",
      " 9   Fare         891 non-null    float64\n",
      " 10  Cabin        891 non-null    object \n",
      " 11  Embarked     889 non-null    object \n",
      "dtypes: float64(2), int64(5), object(5)\n",
      "memory usage: 83.7+ KB\n"
     ]
    }
   ],
   "source": [
    "df.info()"
   ],
   "metadata": {
    "collapsed": false,
    "ExecuteTime": {
     "end_time": "2023-08-07T01:49:28.995212Z",
     "start_time": "2023-08-07T01:49:28.976927Z"
    }
   }
  },
  {
   "cell_type": "code",
   "execution_count": 44,
   "outputs": [],
   "source": [
    "mean = round(df['Fare'].mean(), 4)\n",
    "df['Fare'] = df['Fare'].fillna(mean)"
   ],
   "metadata": {
    "collapsed": false,
    "ExecuteTime": {
     "end_time": "2023-08-07T01:49:41.679066Z",
     "start_time": "2023-08-07T01:49:41.664750Z"
    }
   }
  },
  {
   "cell_type": "code",
   "execution_count": 45,
   "outputs": [
    {
     "name": "stdout",
     "output_type": "stream",
     "text": [
      "<class 'pandas.core.frame.DataFrame'>\n",
      "RangeIndex: 891 entries, 0 to 890\n",
      "Data columns (total 12 columns):\n",
      " #   Column       Non-Null Count  Dtype  \n",
      "---  ------       --------------  -----  \n",
      " 0   PassengerId  891 non-null    int64  \n",
      " 1   Survived     891 non-null    int64  \n",
      " 2   Pclass       891 non-null    int64  \n",
      " 3   Name         891 non-null    object \n",
      " 4   Sex          891 non-null    object \n",
      " 5   Age          714 non-null    float64\n",
      " 6   SibSp        891 non-null    int64  \n",
      " 7   Parch        891 non-null    int64  \n",
      " 8   Ticket       891 non-null    object \n",
      " 9   Fare         891 non-null    float64\n",
      " 10  Cabin        891 non-null    object \n",
      " 11  Embarked     889 non-null    object \n",
      "dtypes: float64(2), int64(5), object(5)\n",
      "memory usage: 83.7+ KB\n"
     ]
    }
   ],
   "source": [
    "df.info()"
   ],
   "metadata": {
    "collapsed": false,
    "ExecuteTime": {
     "end_time": "2023-08-07T01:49:42.524331Z",
     "start_time": "2023-08-07T01:49:42.510489Z"
    }
   }
  },
  {
   "cell_type": "code",
   "execution_count": 46,
   "outputs": [
    {
     "data": {
      "text/plain": "    PassengerId  Survived  Pclass  \\\n0             1         0       3   \n1             2         1       1   \n2             3         1       3   \n3             4         1       1   \n4             5         0       3   \n5             6         0       3   \n6             7         0       1   \n7             8         0       3   \n8             9         1       3   \n9            10         1       2   \n10           11         1       3   \n11           12         1       1   \n12           13         0       3   \n13           14         0       3   \n14           15         0       3   \n15           16         1       2   \n16           17         0       3   \n17           18         1       2   \n18           19         0       3   \n19           20         1       3   \n\n                                                 Name     Sex   Age  SibSp  \\\n0                             Braund, Mr. Owen Harris    male  22.0      1   \n1   Cumings, Mrs. John Bradley (Florence Briggs Th...  female  38.0      1   \n2                              Heikkinen, Miss. Laina  female  26.0      0   \n3        Futrelle, Mrs. Jacques Heath (Lily May Peel)  female  35.0      1   \n4                            Allen, Mr. William Henry    male  35.0      0   \n5                                    Moran, Mr. James    male   NaN      0   \n6                             McCarthy, Mr. Timothy J    male  54.0      0   \n7                      Palsson, Master. Gosta Leonard    male   2.0      3   \n8   Johnson, Mrs. Oscar W (Elisabeth Vilhelmina Berg)  female  27.0      0   \n9                 Nasser, Mrs. Nicholas (Adele Achem)  female  14.0      1   \n10                    Sandstrom, Miss. Marguerite Rut  female   4.0      1   \n11                           Bonnell, Miss. Elizabeth  female  58.0      0   \n12                     Saundercock, Mr. William Henry    male  20.0      0   \n13                        Andersson, Mr. Anders Johan    male  39.0      1   \n14               Vestrom, Miss. Hulda Amanda Adolfina  female  14.0      0   \n15                   Hewlett, Mrs. (Mary D Kingcome)   female  55.0      0   \n16                               Rice, Master. Eugene    male   2.0      4   \n17                       Williams, Mr. Charles Eugene    male   NaN      0   \n18  Vander Planke, Mrs. Julius (Emelia Maria Vande...  female  31.0      1   \n19                            Masselmani, Mrs. Fatima  female   NaN      0   \n\n    Parch            Ticket     Fare Cabin Embarked  \n0       0         A/5 21171   7.2500     0        S  \n1       0          PC 17599  71.2833     1        C  \n2       0  STON/O2. 3101282   7.9250     0        S  \n3       0            113803  53.1000     1        S  \n4       0            373450   8.0500     0        S  \n5       0            330877   8.4583     0        Q  \n6       0             17463  51.8625     1        S  \n7       1            349909  21.0750     0        S  \n8       2            347742  11.1333     0        S  \n9       0            237736  30.0708     0        C  \n10      1           PP 9549  16.7000     1        S  \n11      0            113783  26.5500     1        S  \n12      0         A/5. 2151   8.0500     0        S  \n13      5            347082  31.2750     0        S  \n14      0            350406   7.8542     0        S  \n15      0            248706  16.0000     0        S  \n16      1            382652  29.1250     0        Q  \n17      0            244373  13.0000     0        S  \n18      0            345763  18.0000     0        S  \n19      0              2649   7.2250     0        C  ",
      "text/html": "<div>\n<style scoped>\n    .dataframe tbody tr th:only-of-type {\n        vertical-align: middle;\n    }\n\n    .dataframe tbody tr th {\n        vertical-align: top;\n    }\n\n    .dataframe thead th {\n        text-align: right;\n    }\n</style>\n<table border=\"1\" class=\"dataframe\">\n  <thead>\n    <tr style=\"text-align: right;\">\n      <th></th>\n      <th>PassengerId</th>\n      <th>Survived</th>\n      <th>Pclass</th>\n      <th>Name</th>\n      <th>Sex</th>\n      <th>Age</th>\n      <th>SibSp</th>\n      <th>Parch</th>\n      <th>Ticket</th>\n      <th>Fare</th>\n      <th>Cabin</th>\n      <th>Embarked</th>\n    </tr>\n  </thead>\n  <tbody>\n    <tr>\n      <th>0</th>\n      <td>1</td>\n      <td>0</td>\n      <td>3</td>\n      <td>Braund, Mr. Owen Harris</td>\n      <td>male</td>\n      <td>22.0</td>\n      <td>1</td>\n      <td>0</td>\n      <td>A/5 21171</td>\n      <td>7.2500</td>\n      <td>0</td>\n      <td>S</td>\n    </tr>\n    <tr>\n      <th>1</th>\n      <td>2</td>\n      <td>1</td>\n      <td>1</td>\n      <td>Cumings, Mrs. John Bradley (Florence Briggs Th...</td>\n      <td>female</td>\n      <td>38.0</td>\n      <td>1</td>\n      <td>0</td>\n      <td>PC 17599</td>\n      <td>71.2833</td>\n      <td>1</td>\n      <td>C</td>\n    </tr>\n    <tr>\n      <th>2</th>\n      <td>3</td>\n      <td>1</td>\n      <td>3</td>\n      <td>Heikkinen, Miss. Laina</td>\n      <td>female</td>\n      <td>26.0</td>\n      <td>0</td>\n      <td>0</td>\n      <td>STON/O2. 3101282</td>\n      <td>7.9250</td>\n      <td>0</td>\n      <td>S</td>\n    </tr>\n    <tr>\n      <th>3</th>\n      <td>4</td>\n      <td>1</td>\n      <td>1</td>\n      <td>Futrelle, Mrs. Jacques Heath (Lily May Peel)</td>\n      <td>female</td>\n      <td>35.0</td>\n      <td>1</td>\n      <td>0</td>\n      <td>113803</td>\n      <td>53.1000</td>\n      <td>1</td>\n      <td>S</td>\n    </tr>\n    <tr>\n      <th>4</th>\n      <td>5</td>\n      <td>0</td>\n      <td>3</td>\n      <td>Allen, Mr. William Henry</td>\n      <td>male</td>\n      <td>35.0</td>\n      <td>0</td>\n      <td>0</td>\n      <td>373450</td>\n      <td>8.0500</td>\n      <td>0</td>\n      <td>S</td>\n    </tr>\n    <tr>\n      <th>5</th>\n      <td>6</td>\n      <td>0</td>\n      <td>3</td>\n      <td>Moran, Mr. James</td>\n      <td>male</td>\n      <td>NaN</td>\n      <td>0</td>\n      <td>0</td>\n      <td>330877</td>\n      <td>8.4583</td>\n      <td>0</td>\n      <td>Q</td>\n    </tr>\n    <tr>\n      <th>6</th>\n      <td>7</td>\n      <td>0</td>\n      <td>1</td>\n      <td>McCarthy, Mr. Timothy J</td>\n      <td>male</td>\n      <td>54.0</td>\n      <td>0</td>\n      <td>0</td>\n      <td>17463</td>\n      <td>51.8625</td>\n      <td>1</td>\n      <td>S</td>\n    </tr>\n    <tr>\n      <th>7</th>\n      <td>8</td>\n      <td>0</td>\n      <td>3</td>\n      <td>Palsson, Master. Gosta Leonard</td>\n      <td>male</td>\n      <td>2.0</td>\n      <td>3</td>\n      <td>1</td>\n      <td>349909</td>\n      <td>21.0750</td>\n      <td>0</td>\n      <td>S</td>\n    </tr>\n    <tr>\n      <th>8</th>\n      <td>9</td>\n      <td>1</td>\n      <td>3</td>\n      <td>Johnson, Mrs. Oscar W (Elisabeth Vilhelmina Berg)</td>\n      <td>female</td>\n      <td>27.0</td>\n      <td>0</td>\n      <td>2</td>\n      <td>347742</td>\n      <td>11.1333</td>\n      <td>0</td>\n      <td>S</td>\n    </tr>\n    <tr>\n      <th>9</th>\n      <td>10</td>\n      <td>1</td>\n      <td>2</td>\n      <td>Nasser, Mrs. Nicholas (Adele Achem)</td>\n      <td>female</td>\n      <td>14.0</td>\n      <td>1</td>\n      <td>0</td>\n      <td>237736</td>\n      <td>30.0708</td>\n      <td>0</td>\n      <td>C</td>\n    </tr>\n    <tr>\n      <th>10</th>\n      <td>11</td>\n      <td>1</td>\n      <td>3</td>\n      <td>Sandstrom, Miss. Marguerite Rut</td>\n      <td>female</td>\n      <td>4.0</td>\n      <td>1</td>\n      <td>1</td>\n      <td>PP 9549</td>\n      <td>16.7000</td>\n      <td>1</td>\n      <td>S</td>\n    </tr>\n    <tr>\n      <th>11</th>\n      <td>12</td>\n      <td>1</td>\n      <td>1</td>\n      <td>Bonnell, Miss. Elizabeth</td>\n      <td>female</td>\n      <td>58.0</td>\n      <td>0</td>\n      <td>0</td>\n      <td>113783</td>\n      <td>26.5500</td>\n      <td>1</td>\n      <td>S</td>\n    </tr>\n    <tr>\n      <th>12</th>\n      <td>13</td>\n      <td>0</td>\n      <td>3</td>\n      <td>Saundercock, Mr. William Henry</td>\n      <td>male</td>\n      <td>20.0</td>\n      <td>0</td>\n      <td>0</td>\n      <td>A/5. 2151</td>\n      <td>8.0500</td>\n      <td>0</td>\n      <td>S</td>\n    </tr>\n    <tr>\n      <th>13</th>\n      <td>14</td>\n      <td>0</td>\n      <td>3</td>\n      <td>Andersson, Mr. Anders Johan</td>\n      <td>male</td>\n      <td>39.0</td>\n      <td>1</td>\n      <td>5</td>\n      <td>347082</td>\n      <td>31.2750</td>\n      <td>0</td>\n      <td>S</td>\n    </tr>\n    <tr>\n      <th>14</th>\n      <td>15</td>\n      <td>0</td>\n      <td>3</td>\n      <td>Vestrom, Miss. Hulda Amanda Adolfina</td>\n      <td>female</td>\n      <td>14.0</td>\n      <td>0</td>\n      <td>0</td>\n      <td>350406</td>\n      <td>7.8542</td>\n      <td>0</td>\n      <td>S</td>\n    </tr>\n    <tr>\n      <th>15</th>\n      <td>16</td>\n      <td>1</td>\n      <td>2</td>\n      <td>Hewlett, Mrs. (Mary D Kingcome)</td>\n      <td>female</td>\n      <td>55.0</td>\n      <td>0</td>\n      <td>0</td>\n      <td>248706</td>\n      <td>16.0000</td>\n      <td>0</td>\n      <td>S</td>\n    </tr>\n    <tr>\n      <th>16</th>\n      <td>17</td>\n      <td>0</td>\n      <td>3</td>\n      <td>Rice, Master. Eugene</td>\n      <td>male</td>\n      <td>2.0</td>\n      <td>4</td>\n      <td>1</td>\n      <td>382652</td>\n      <td>29.1250</td>\n      <td>0</td>\n      <td>Q</td>\n    </tr>\n    <tr>\n      <th>17</th>\n      <td>18</td>\n      <td>1</td>\n      <td>2</td>\n      <td>Williams, Mr. Charles Eugene</td>\n      <td>male</td>\n      <td>NaN</td>\n      <td>0</td>\n      <td>0</td>\n      <td>244373</td>\n      <td>13.0000</td>\n      <td>0</td>\n      <td>S</td>\n    </tr>\n    <tr>\n      <th>18</th>\n      <td>19</td>\n      <td>0</td>\n      <td>3</td>\n      <td>Vander Planke, Mrs. Julius (Emelia Maria Vande...</td>\n      <td>female</td>\n      <td>31.0</td>\n      <td>1</td>\n      <td>0</td>\n      <td>345763</td>\n      <td>18.0000</td>\n      <td>0</td>\n      <td>S</td>\n    </tr>\n    <tr>\n      <th>19</th>\n      <td>20</td>\n      <td>1</td>\n      <td>3</td>\n      <td>Masselmani, Mrs. Fatima</td>\n      <td>female</td>\n      <td>NaN</td>\n      <td>0</td>\n      <td>0</td>\n      <td>2649</td>\n      <td>7.2250</td>\n      <td>0</td>\n      <td>C</td>\n    </tr>\n  </tbody>\n</table>\n</div>"
     },
     "execution_count": 46,
     "metadata": {},
     "output_type": "execute_result"
    }
   ],
   "source": [
    "df.head(20)"
   ],
   "metadata": {
    "collapsed": false,
    "ExecuteTime": {
     "end_time": "2023-08-07T01:49:49.490393Z",
     "start_time": "2023-08-07T01:49:49.480397Z"
    }
   }
  },
  {
   "cell_type": "code",
   "execution_count": 47,
   "outputs": [
    {
     "data": {
      "text/plain": "     PassengerId  Survived  Pclass  \\\n0              1         0       3   \n1              2         1       1   \n2              3         1       3   \n3              4         1       1   \n4              5         0       3   \n..           ...       ...     ...   \n886          887         0       2   \n887          888         1       1   \n888          889         0       3   \n889          890         1       1   \n890          891         0       3   \n\n                                                  Name  Sex   Age  SibSp  \\\n0                              Braund, Mr. Owen Harris    0  22.0      1   \n1    Cumings, Mrs. John Bradley (Florence Briggs Th...    1  38.0      1   \n2                               Heikkinen, Miss. Laina    1  26.0      0   \n3         Futrelle, Mrs. Jacques Heath (Lily May Peel)    1  35.0      1   \n4                             Allen, Mr. William Henry    0  35.0      0   \n..                                                 ...  ...   ...    ...   \n886                              Montvila, Rev. Juozas    0  27.0      0   \n887                       Graham, Miss. Margaret Edith    1  19.0      0   \n888           Johnston, Miss. Catherine Helen \"Carrie\"    1   NaN      1   \n889                              Behr, Mr. Karl Howell    0  26.0      0   \n890                                Dooley, Mr. Patrick    0  32.0      0   \n\n     Parch            Ticket     Fare Cabin Embarked  \n0        0         A/5 21171   7.2500     0        S  \n1        0          PC 17599  71.2833     1        C  \n2        0  STON/O2. 3101282   7.9250     0        S  \n3        0            113803  53.1000     1        S  \n4        0            373450   8.0500     0        S  \n..     ...               ...      ...   ...      ...  \n886      0            211536  13.0000     0        S  \n887      0            112053  30.0000     1        S  \n888      2        W./C. 6607  23.4500     0        S  \n889      0            111369  30.0000     1        C  \n890      0            370376   7.7500     0        Q  \n\n[891 rows x 12 columns]",
      "text/html": "<div>\n<style scoped>\n    .dataframe tbody tr th:only-of-type {\n        vertical-align: middle;\n    }\n\n    .dataframe tbody tr th {\n        vertical-align: top;\n    }\n\n    .dataframe thead th {\n        text-align: right;\n    }\n</style>\n<table border=\"1\" class=\"dataframe\">\n  <thead>\n    <tr style=\"text-align: right;\">\n      <th></th>\n      <th>PassengerId</th>\n      <th>Survived</th>\n      <th>Pclass</th>\n      <th>Name</th>\n      <th>Sex</th>\n      <th>Age</th>\n      <th>SibSp</th>\n      <th>Parch</th>\n      <th>Ticket</th>\n      <th>Fare</th>\n      <th>Cabin</th>\n      <th>Embarked</th>\n    </tr>\n  </thead>\n  <tbody>\n    <tr>\n      <th>0</th>\n      <td>1</td>\n      <td>0</td>\n      <td>3</td>\n      <td>Braund, Mr. Owen Harris</td>\n      <td>0</td>\n      <td>22.0</td>\n      <td>1</td>\n      <td>0</td>\n      <td>A/5 21171</td>\n      <td>7.2500</td>\n      <td>0</td>\n      <td>S</td>\n    </tr>\n    <tr>\n      <th>1</th>\n      <td>2</td>\n      <td>1</td>\n      <td>1</td>\n      <td>Cumings, Mrs. John Bradley (Florence Briggs Th...</td>\n      <td>1</td>\n      <td>38.0</td>\n      <td>1</td>\n      <td>0</td>\n      <td>PC 17599</td>\n      <td>71.2833</td>\n      <td>1</td>\n      <td>C</td>\n    </tr>\n    <tr>\n      <th>2</th>\n      <td>3</td>\n      <td>1</td>\n      <td>3</td>\n      <td>Heikkinen, Miss. Laina</td>\n      <td>1</td>\n      <td>26.0</td>\n      <td>0</td>\n      <td>0</td>\n      <td>STON/O2. 3101282</td>\n      <td>7.9250</td>\n      <td>0</td>\n      <td>S</td>\n    </tr>\n    <tr>\n      <th>3</th>\n      <td>4</td>\n      <td>1</td>\n      <td>1</td>\n      <td>Futrelle, Mrs. Jacques Heath (Lily May Peel)</td>\n      <td>1</td>\n      <td>35.0</td>\n      <td>1</td>\n      <td>0</td>\n      <td>113803</td>\n      <td>53.1000</td>\n      <td>1</td>\n      <td>S</td>\n    </tr>\n    <tr>\n      <th>4</th>\n      <td>5</td>\n      <td>0</td>\n      <td>3</td>\n      <td>Allen, Mr. William Henry</td>\n      <td>0</td>\n      <td>35.0</td>\n      <td>0</td>\n      <td>0</td>\n      <td>373450</td>\n      <td>8.0500</td>\n      <td>0</td>\n      <td>S</td>\n    </tr>\n    <tr>\n      <th>...</th>\n      <td>...</td>\n      <td>...</td>\n      <td>...</td>\n      <td>...</td>\n      <td>...</td>\n      <td>...</td>\n      <td>...</td>\n      <td>...</td>\n      <td>...</td>\n      <td>...</td>\n      <td>...</td>\n      <td>...</td>\n    </tr>\n    <tr>\n      <th>886</th>\n      <td>887</td>\n      <td>0</td>\n      <td>2</td>\n      <td>Montvila, Rev. Juozas</td>\n      <td>0</td>\n      <td>27.0</td>\n      <td>0</td>\n      <td>0</td>\n      <td>211536</td>\n      <td>13.0000</td>\n      <td>0</td>\n      <td>S</td>\n    </tr>\n    <tr>\n      <th>887</th>\n      <td>888</td>\n      <td>1</td>\n      <td>1</td>\n      <td>Graham, Miss. Margaret Edith</td>\n      <td>1</td>\n      <td>19.0</td>\n      <td>0</td>\n      <td>0</td>\n      <td>112053</td>\n      <td>30.0000</td>\n      <td>1</td>\n      <td>S</td>\n    </tr>\n    <tr>\n      <th>888</th>\n      <td>889</td>\n      <td>0</td>\n      <td>3</td>\n      <td>Johnston, Miss. Catherine Helen \"Carrie\"</td>\n      <td>1</td>\n      <td>NaN</td>\n      <td>1</td>\n      <td>2</td>\n      <td>W./C. 6607</td>\n      <td>23.4500</td>\n      <td>0</td>\n      <td>S</td>\n    </tr>\n    <tr>\n      <th>889</th>\n      <td>890</td>\n      <td>1</td>\n      <td>1</td>\n      <td>Behr, Mr. Karl Howell</td>\n      <td>0</td>\n      <td>26.0</td>\n      <td>0</td>\n      <td>0</td>\n      <td>111369</td>\n      <td>30.0000</td>\n      <td>1</td>\n      <td>C</td>\n    </tr>\n    <tr>\n      <th>890</th>\n      <td>891</td>\n      <td>0</td>\n      <td>3</td>\n      <td>Dooley, Mr. Patrick</td>\n      <td>0</td>\n      <td>32.0</td>\n      <td>0</td>\n      <td>0</td>\n      <td>370376</td>\n      <td>7.7500</td>\n      <td>0</td>\n      <td>Q</td>\n    </tr>\n  </tbody>\n</table>\n<p>891 rows × 12 columns</p>\n</div>"
     },
     "execution_count": 47,
     "metadata": {},
     "output_type": "execute_result"
    }
   ],
   "source": [
    "sex_dic = {'male': 0, 'female': 1}\n",
    "df['Sex'] = df['Sex'].map(lambda x: sex_dic[x])\n",
    "\n",
    "df"
   ],
   "metadata": {
    "collapsed": false,
    "ExecuteTime": {
     "end_time": "2023-08-07T01:49:53.455830Z",
     "start_time": "2023-08-07T01:49:53.443279Z"
    }
   }
  },
  {
   "cell_type": "code",
   "execution_count": 12,
   "outputs": [
    {
     "data": {
      "text/plain": "array([23.83895259, 32.06649305, 29.51820514, 29.51820514, 22.38011324,\n       27.94720616, 36.10804822, 35.2958243 , 22.87630686, 27.94720616,\n       30.70572678, 33.12898535, 35.2958243 , 23.45968333, 44.06483036,\n       41.20008848, 17.10441595, 27.94720616, 30.70572678, 23.32262739,\n       30.70572678, 30.70572678, 27.94720616, 27.51545426, 33.55117591,\n       30.70572678, 35.2958243 , 25.75587698, 25.34409583, 29.78279613,\n       25.52340334, 10.86986696, 26.03188214, 49.5542756 ,  7.31116371,\n       10.86986696, 31.71894048, 46.24976824, 33.12898535, 35.2958243 ,\n       35.2958243 , 10.86986696, 31.09342985, 27.94720616,  7.31116371,\n       31.10838452, 20.80015413, 33.12898535, 29.78279613, 34.62028571,\n       35.2958243 , 35.2958243 , 36.87489821, 35.2958243 , 35.05181757,\n       57.74249226, 41.20008848, 41.57487718, 35.2958243 , 23.31368333,\n       42.57451554, 30.70572678, 28.57888393, 10.86986696, 23.31368333,\n       31.42587794, 27.94720616, 26.68916849, 59.96916448, 29.51820514,\n       22.38011324, 22.38011324, 33.12898535, 22.87630686, 35.2958243 ,\n       31.94479345, 27.94720616, 19.89558113,  7.31116371, 27.94720616,\n       20.68131488, 35.05181757, 30.70572678, 27.94720616, 29.78279613,\n       35.2958243 , 26.68916849, 23.47643239, 24.10899881, 30.70572678,\n       44.06001827, 35.2958243 , 30.70572678, 35.05181757, 19.89558113,\n       29.78279613, 44.65953056, 35.05181757,  7.31116371, 24.10899881,\n       18.19479484, 25.7554753 , 26.82073281, 49.8994093 , 30.70572678,\n       34.17374861, 29.51820514, 22.87630686, 38.5155    , 22.87630686,\n        8.01370298, 24.33021696, 32.79502428, 26.3814249 , 38.5155    ,\n       35.2958243 , 30.70572678, 30.70572678, 22.87630686, 35.2958243 ,\n       20.07016773, 29.04293865, 30.70572678, 27.45639428, 24.40235514,\n       29.51820514, 27.94720616, 37.51615833, 27.86873699, 33.12898535,\n       35.2958243 , 19.89558113, 38.83477484, 26.68916849, 29.56889809,\n       31.10838452, 27.94720616, 26.3814249 , 27.94720616, 27.51545426,\n       39.08817814, 35.05181757, 23.47643239, 29.56889809, 19.89558113,\n       17.10441595, 49.8994093 , 27.30887391, 19.89558113, 35.05181757,\n       27.94720616, 27.94720616, 38.42663175, 24.33021696, 39.17490238,\n       33.55117591, 29.51820514, 35.2958243 , 19.89558113, 16.18511687,\n       35.2958243 , 10.86986696, 50.38328427, 38.83477484, 35.09787898,\n       29.56889809, 35.2958243 , 22.87630686, 30.70572678, 50.91095013,\n       10.86986696, 43.96476448, 22.87630686, 10.86986696, 25.97788916,\n       27.94720616, 16.18511687])"
     },
     "execution_count": 12,
     "metadata": {},
     "output_type": "execute_result"
    }
   ],
   "source": [
    "# use model to do a regression for the age and do the prediction\n",
    "\n",
    "from sklearn.linear_model import LogisticRegression\n",
    "from sklearn.ensemble import RandomForestRegressor\n",
    "\n",
    "alt = df[['Age', 'Fare', 'Parch', 'SibSp', 'Pclass']]\n",
    "\n",
    "known_age = alt[alt.Age.notnull()].values\n",
    "unknown_age = alt[alt.Age.isnull()].values\n",
    "\n",
    "y = known_age[:, 0]  # 提取 Age信息\n",
    "X = known_age[:, 1:]  # 预测信息\n",
    "\n",
    "rfr_age = RandomForestRegressor(random_state=0, n_estimators=2000, n_jobs=-1)\n",
    "\n",
    "rfr_age.fit(X, y)\n",
    "\n",
    "predictedAges = rfr_age.predict(unknown_age[:, 1:])\n",
    "\n",
    "predictedAges"
   ],
   "metadata": {
    "collapsed": false,
    "ExecuteTime": {
     "end_time": "2023-08-07T01:47:15.299087Z",
     "start_time": "2023-08-07T01:47:13.301981Z"
    }
   }
  },
  {
   "cell_type": "code",
   "execution_count": 13,
   "outputs": [],
   "source": [
    "df.loc[(df.Age.isnull()), 'Age'] = predictedAges"
   ],
   "metadata": {
    "collapsed": false,
    "ExecuteTime": {
     "end_time": "2023-08-07T01:47:15.304168Z",
     "start_time": "2023-08-07T01:47:15.300335Z"
    }
   }
  },
  {
   "cell_type": "code",
   "execution_count": 14,
   "outputs": [
    {
     "data": {
      "text/plain": "     PassengerId  Survived  Pclass  \\\n0              1         0       3   \n1              2         1       1   \n2              3         1       3   \n3              4         1       1   \n4              5         0       3   \n..           ...       ...     ...   \n886          887         0       2   \n887          888         1       1   \n888          889         0       3   \n889          890         1       1   \n890          891         0       3   \n\n                                                  Name  Sex        Age  SibSp  \\\n0                              Braund, Mr. Owen Harris    0  22.000000      1   \n1    Cumings, Mrs. John Bradley (Florence Briggs Th...    1  38.000000      1   \n2                               Heikkinen, Miss. Laina    1  26.000000      0   \n3         Futrelle, Mrs. Jacques Heath (Lily May Peel)    1  35.000000      1   \n4                             Allen, Mr. William Henry    0  35.000000      0   \n..                                                 ...  ...        ...    ...   \n886                              Montvila, Rev. Juozas    0  27.000000      0   \n887                       Graham, Miss. Margaret Edith    1  19.000000      0   \n888           Johnston, Miss. Catherine Helen \"Carrie\"    1  16.185117      1   \n889                              Behr, Mr. Karl Howell    0  26.000000      0   \n890                                Dooley, Mr. Patrick    0  32.000000      0   \n\n     Parch            Ticket     Fare Cabin Embarked  \n0        0         A/5 21171   7.2500     0        S  \n1        0          PC 17599  71.2833     1        C  \n2        0  STON/O2. 3101282   7.9250     0        S  \n3        0            113803  53.1000     1        S  \n4        0            373450   8.0500     0        S  \n..     ...               ...      ...   ...      ...  \n886      0            211536  13.0000     0        S  \n887      0            112053  30.0000     1        S  \n888      2        W./C. 6607  23.4500     0        S  \n889      0            111369  30.0000     1        C  \n890      0            370376   7.7500     0        Q  \n\n[891 rows x 12 columns]",
      "text/html": "<div>\n<style scoped>\n    .dataframe tbody tr th:only-of-type {\n        vertical-align: middle;\n    }\n\n    .dataframe tbody tr th {\n        vertical-align: top;\n    }\n\n    .dataframe thead th {\n        text-align: right;\n    }\n</style>\n<table border=\"1\" class=\"dataframe\">\n  <thead>\n    <tr style=\"text-align: right;\">\n      <th></th>\n      <th>PassengerId</th>\n      <th>Survived</th>\n      <th>Pclass</th>\n      <th>Name</th>\n      <th>Sex</th>\n      <th>Age</th>\n      <th>SibSp</th>\n      <th>Parch</th>\n      <th>Ticket</th>\n      <th>Fare</th>\n      <th>Cabin</th>\n      <th>Embarked</th>\n    </tr>\n  </thead>\n  <tbody>\n    <tr>\n      <th>0</th>\n      <td>1</td>\n      <td>0</td>\n      <td>3</td>\n      <td>Braund, Mr. Owen Harris</td>\n      <td>0</td>\n      <td>22.000000</td>\n      <td>1</td>\n      <td>0</td>\n      <td>A/5 21171</td>\n      <td>7.2500</td>\n      <td>0</td>\n      <td>S</td>\n    </tr>\n    <tr>\n      <th>1</th>\n      <td>2</td>\n      <td>1</td>\n      <td>1</td>\n      <td>Cumings, Mrs. John Bradley (Florence Briggs Th...</td>\n      <td>1</td>\n      <td>38.000000</td>\n      <td>1</td>\n      <td>0</td>\n      <td>PC 17599</td>\n      <td>71.2833</td>\n      <td>1</td>\n      <td>C</td>\n    </tr>\n    <tr>\n      <th>2</th>\n      <td>3</td>\n      <td>1</td>\n      <td>3</td>\n      <td>Heikkinen, Miss. Laina</td>\n      <td>1</td>\n      <td>26.000000</td>\n      <td>0</td>\n      <td>0</td>\n      <td>STON/O2. 3101282</td>\n      <td>7.9250</td>\n      <td>0</td>\n      <td>S</td>\n    </tr>\n    <tr>\n      <th>3</th>\n      <td>4</td>\n      <td>1</td>\n      <td>1</td>\n      <td>Futrelle, Mrs. Jacques Heath (Lily May Peel)</td>\n      <td>1</td>\n      <td>35.000000</td>\n      <td>1</td>\n      <td>0</td>\n      <td>113803</td>\n      <td>53.1000</td>\n      <td>1</td>\n      <td>S</td>\n    </tr>\n    <tr>\n      <th>4</th>\n      <td>5</td>\n      <td>0</td>\n      <td>3</td>\n      <td>Allen, Mr. William Henry</td>\n      <td>0</td>\n      <td>35.000000</td>\n      <td>0</td>\n      <td>0</td>\n      <td>373450</td>\n      <td>8.0500</td>\n      <td>0</td>\n      <td>S</td>\n    </tr>\n    <tr>\n      <th>...</th>\n      <td>...</td>\n      <td>...</td>\n      <td>...</td>\n      <td>...</td>\n      <td>...</td>\n      <td>...</td>\n      <td>...</td>\n      <td>...</td>\n      <td>...</td>\n      <td>...</td>\n      <td>...</td>\n      <td>...</td>\n    </tr>\n    <tr>\n      <th>886</th>\n      <td>887</td>\n      <td>0</td>\n      <td>2</td>\n      <td>Montvila, Rev. Juozas</td>\n      <td>0</td>\n      <td>27.000000</td>\n      <td>0</td>\n      <td>0</td>\n      <td>211536</td>\n      <td>13.0000</td>\n      <td>0</td>\n      <td>S</td>\n    </tr>\n    <tr>\n      <th>887</th>\n      <td>888</td>\n      <td>1</td>\n      <td>1</td>\n      <td>Graham, Miss. Margaret Edith</td>\n      <td>1</td>\n      <td>19.000000</td>\n      <td>0</td>\n      <td>0</td>\n      <td>112053</td>\n      <td>30.0000</td>\n      <td>1</td>\n      <td>S</td>\n    </tr>\n    <tr>\n      <th>888</th>\n      <td>889</td>\n      <td>0</td>\n      <td>3</td>\n      <td>Johnston, Miss. Catherine Helen \"Carrie\"</td>\n      <td>1</td>\n      <td>16.185117</td>\n      <td>1</td>\n      <td>2</td>\n      <td>W./C. 6607</td>\n      <td>23.4500</td>\n      <td>0</td>\n      <td>S</td>\n    </tr>\n    <tr>\n      <th>889</th>\n      <td>890</td>\n      <td>1</td>\n      <td>1</td>\n      <td>Behr, Mr. Karl Howell</td>\n      <td>0</td>\n      <td>26.000000</td>\n      <td>0</td>\n      <td>0</td>\n      <td>111369</td>\n      <td>30.0000</td>\n      <td>1</td>\n      <td>C</td>\n    </tr>\n    <tr>\n      <th>890</th>\n      <td>891</td>\n      <td>0</td>\n      <td>3</td>\n      <td>Dooley, Mr. Patrick</td>\n      <td>0</td>\n      <td>32.000000</td>\n      <td>0</td>\n      <td>0</td>\n      <td>370376</td>\n      <td>7.7500</td>\n      <td>0</td>\n      <td>Q</td>\n    </tr>\n  </tbody>\n</table>\n<p>891 rows × 12 columns</p>\n</div>"
     },
     "execution_count": 14,
     "metadata": {},
     "output_type": "execute_result"
    }
   ],
   "source": [
    "df"
   ],
   "metadata": {
    "collapsed": false,
    "ExecuteTime": {
     "end_time": "2023-08-07T01:47:15.309923Z",
     "start_time": "2023-08-07T01:47:15.302981Z"
    }
   }
  },
  {
   "cell_type": "code",
   "execution_count": 15,
   "outputs": [
    {
     "name": "stdout",
     "output_type": "stream",
     "text": [
      "<class 'pandas.core.frame.DataFrame'>\n",
      "RangeIndex: 891 entries, 0 to 890\n",
      "Data columns (total 12 columns):\n",
      " #   Column       Non-Null Count  Dtype  \n",
      "---  ------       --------------  -----  \n",
      " 0   PassengerId  891 non-null    int64  \n",
      " 1   Survived     891 non-null    int64  \n",
      " 2   Pclass       891 non-null    int64  \n",
      " 3   Name         891 non-null    object \n",
      " 4   Sex          891 non-null    int64  \n",
      " 5   Age          891 non-null    float64\n",
      " 6   SibSp        891 non-null    int64  \n",
      " 7   Parch        891 non-null    int64  \n",
      " 8   Ticket       891 non-null    object \n",
      " 9   Fare         891 non-null    float64\n",
      " 10  Cabin        891 non-null    object \n",
      " 11  Embarked     889 non-null    object \n",
      "dtypes: float64(2), int64(6), object(4)\n",
      "memory usage: 83.7+ KB\n"
     ]
    }
   ],
   "source": [
    "df.info()"
   ],
   "metadata": {
    "collapsed": false,
    "ExecuteTime": {
     "end_time": "2023-08-07T01:47:15.316069Z",
     "start_time": "2023-08-07T01:47:15.313075Z"
    }
   }
  },
  {
   "cell_type": "code",
   "execution_count": 16,
   "outputs": [
    {
     "data": {
      "text/plain": "347082      7\nCA. 2343    7\n1601        7\n3101295     6\nCA 2144     6\n           ..\n9234        1\n19988       1\n2693        1\nPC 17612    1\n370376      1\nName: Ticket, Length: 681, dtype: int64"
     },
     "execution_count": 16,
     "metadata": {},
     "output_type": "execute_result"
    }
   ],
   "source": [
    "df['Ticket'].value_counts()\n",
    "# 数据多样性太强，没有参考价值"
   ],
   "metadata": {
    "collapsed": false,
    "ExecuteTime": {
     "end_time": "2023-08-07T01:47:15.327394Z",
     "start_time": "2023-08-07T01:47:15.316878Z"
    }
   }
  },
  {
   "cell_type": "code",
   "execution_count": 17,
   "outputs": [],
   "source": [
    "df.drop(columns='Ticket', inplace=True)"
   ],
   "metadata": {
    "collapsed": false,
    "ExecuteTime": {
     "end_time": "2023-08-07T01:47:15.327645Z",
     "start_time": "2023-08-07T01:47:15.319616Z"
    }
   }
  },
  {
   "cell_type": "code",
   "execution_count": 18,
   "outputs": [
    {
     "data": {
      "text/plain": "     PassengerId  Survived  Pclass  \\\n0              1         0       3   \n1              2         1       1   \n2              3         1       3   \n3              4         1       1   \n4              5         0       3   \n..           ...       ...     ...   \n886          887         0       2   \n887          888         1       1   \n888          889         0       3   \n889          890         1       1   \n890          891         0       3   \n\n                                                  Name  Sex        Age  SibSp  \\\n0                              Braund, Mr. Owen Harris    0  22.000000      1   \n1    Cumings, Mrs. John Bradley (Florence Briggs Th...    1  38.000000      1   \n2                               Heikkinen, Miss. Laina    1  26.000000      0   \n3         Futrelle, Mrs. Jacques Heath (Lily May Peel)    1  35.000000      1   \n4                             Allen, Mr. William Henry    0  35.000000      0   \n..                                                 ...  ...        ...    ...   \n886                              Montvila, Rev. Juozas    0  27.000000      0   \n887                       Graham, Miss. Margaret Edith    1  19.000000      0   \n888           Johnston, Miss. Catherine Helen \"Carrie\"    1  16.185117      1   \n889                              Behr, Mr. Karl Howell    0  26.000000      0   \n890                                Dooley, Mr. Patrick    0  32.000000      0   \n\n     Parch     Fare Cabin Embarked  \n0        0   7.2500     0        S  \n1        0  71.2833     1        C  \n2        0   7.9250     0        S  \n3        0  53.1000     1        S  \n4        0   8.0500     0        S  \n..     ...      ...   ...      ...  \n886      0  13.0000     0        S  \n887      0  30.0000     1        S  \n888      2  23.4500     0        S  \n889      0  30.0000     1        C  \n890      0   7.7500     0        Q  \n\n[891 rows x 11 columns]",
      "text/html": "<div>\n<style scoped>\n    .dataframe tbody tr th:only-of-type {\n        vertical-align: middle;\n    }\n\n    .dataframe tbody tr th {\n        vertical-align: top;\n    }\n\n    .dataframe thead th {\n        text-align: right;\n    }\n</style>\n<table border=\"1\" class=\"dataframe\">\n  <thead>\n    <tr style=\"text-align: right;\">\n      <th></th>\n      <th>PassengerId</th>\n      <th>Survived</th>\n      <th>Pclass</th>\n      <th>Name</th>\n      <th>Sex</th>\n      <th>Age</th>\n      <th>SibSp</th>\n      <th>Parch</th>\n      <th>Fare</th>\n      <th>Cabin</th>\n      <th>Embarked</th>\n    </tr>\n  </thead>\n  <tbody>\n    <tr>\n      <th>0</th>\n      <td>1</td>\n      <td>0</td>\n      <td>3</td>\n      <td>Braund, Mr. Owen Harris</td>\n      <td>0</td>\n      <td>22.000000</td>\n      <td>1</td>\n      <td>0</td>\n      <td>7.2500</td>\n      <td>0</td>\n      <td>S</td>\n    </tr>\n    <tr>\n      <th>1</th>\n      <td>2</td>\n      <td>1</td>\n      <td>1</td>\n      <td>Cumings, Mrs. John Bradley (Florence Briggs Th...</td>\n      <td>1</td>\n      <td>38.000000</td>\n      <td>1</td>\n      <td>0</td>\n      <td>71.2833</td>\n      <td>1</td>\n      <td>C</td>\n    </tr>\n    <tr>\n      <th>2</th>\n      <td>3</td>\n      <td>1</td>\n      <td>3</td>\n      <td>Heikkinen, Miss. Laina</td>\n      <td>1</td>\n      <td>26.000000</td>\n      <td>0</td>\n      <td>0</td>\n      <td>7.9250</td>\n      <td>0</td>\n      <td>S</td>\n    </tr>\n    <tr>\n      <th>3</th>\n      <td>4</td>\n      <td>1</td>\n      <td>1</td>\n      <td>Futrelle, Mrs. Jacques Heath (Lily May Peel)</td>\n      <td>1</td>\n      <td>35.000000</td>\n      <td>1</td>\n      <td>0</td>\n      <td>53.1000</td>\n      <td>1</td>\n      <td>S</td>\n    </tr>\n    <tr>\n      <th>4</th>\n      <td>5</td>\n      <td>0</td>\n      <td>3</td>\n      <td>Allen, Mr. William Henry</td>\n      <td>0</td>\n      <td>35.000000</td>\n      <td>0</td>\n      <td>0</td>\n      <td>8.0500</td>\n      <td>0</td>\n      <td>S</td>\n    </tr>\n    <tr>\n      <th>...</th>\n      <td>...</td>\n      <td>...</td>\n      <td>...</td>\n      <td>...</td>\n      <td>...</td>\n      <td>...</td>\n      <td>...</td>\n      <td>...</td>\n      <td>...</td>\n      <td>...</td>\n      <td>...</td>\n    </tr>\n    <tr>\n      <th>886</th>\n      <td>887</td>\n      <td>0</td>\n      <td>2</td>\n      <td>Montvila, Rev. Juozas</td>\n      <td>0</td>\n      <td>27.000000</td>\n      <td>0</td>\n      <td>0</td>\n      <td>13.0000</td>\n      <td>0</td>\n      <td>S</td>\n    </tr>\n    <tr>\n      <th>887</th>\n      <td>888</td>\n      <td>1</td>\n      <td>1</td>\n      <td>Graham, Miss. Margaret Edith</td>\n      <td>1</td>\n      <td>19.000000</td>\n      <td>0</td>\n      <td>0</td>\n      <td>30.0000</td>\n      <td>1</td>\n      <td>S</td>\n    </tr>\n    <tr>\n      <th>888</th>\n      <td>889</td>\n      <td>0</td>\n      <td>3</td>\n      <td>Johnston, Miss. Catherine Helen \"Carrie\"</td>\n      <td>1</td>\n      <td>16.185117</td>\n      <td>1</td>\n      <td>2</td>\n      <td>23.4500</td>\n      <td>0</td>\n      <td>S</td>\n    </tr>\n    <tr>\n      <th>889</th>\n      <td>890</td>\n      <td>1</td>\n      <td>1</td>\n      <td>Behr, Mr. Karl Howell</td>\n      <td>0</td>\n      <td>26.000000</td>\n      <td>0</td>\n      <td>0</td>\n      <td>30.0000</td>\n      <td>1</td>\n      <td>C</td>\n    </tr>\n    <tr>\n      <th>890</th>\n      <td>891</td>\n      <td>0</td>\n      <td>3</td>\n      <td>Dooley, Mr. Patrick</td>\n      <td>0</td>\n      <td>32.000000</td>\n      <td>0</td>\n      <td>0</td>\n      <td>7.7500</td>\n      <td>0</td>\n      <td>Q</td>\n    </tr>\n  </tbody>\n</table>\n<p>891 rows × 11 columns</p>\n</div>"
     },
     "execution_count": 18,
     "metadata": {},
     "output_type": "execute_result"
    }
   ],
   "source": [
    "df"
   ],
   "metadata": {
    "collapsed": false,
    "ExecuteTime": {
     "end_time": "2023-08-07T01:47:15.362190Z",
     "start_time": "2023-08-07T01:47:15.326692Z"
    }
   }
  },
  {
   "cell_type": "code",
   "execution_count": 19,
   "outputs": [
    {
     "data": {
      "text/plain": "S    644\nC    168\nQ     77\nName: Embarked, dtype: int64"
     },
     "execution_count": 19,
     "metadata": {},
     "output_type": "execute_result"
    }
   ],
   "source": [
    "df['Embarked'].value_counts()"
   ],
   "metadata": {
    "collapsed": false,
    "ExecuteTime": {
     "end_time": "2023-08-07T01:47:15.362458Z",
     "start_time": "2023-08-07T01:47:15.331005Z"
    }
   }
  },
  {
   "cell_type": "code",
   "execution_count": 20,
   "outputs": [
    {
     "data": {
      "text/plain": "     PassengerId  Survived  Pclass  \\\n0              1         0       3   \n1              2         1       1   \n2              3         1       3   \n3              4         1       1   \n4              5         0       3   \n..           ...       ...     ...   \n886          887         0       2   \n887          888         1       1   \n888          889         0       3   \n889          890         1       1   \n890          891         0       3   \n\n                                                  Name  Sex        Age  SibSp  \\\n0                              Braund, Mr. Owen Harris    0  22.000000      1   \n1    Cumings, Mrs. John Bradley (Florence Briggs Th...    1  38.000000      1   \n2                               Heikkinen, Miss. Laina    1  26.000000      0   \n3         Futrelle, Mrs. Jacques Heath (Lily May Peel)    1  35.000000      1   \n4                             Allen, Mr. William Henry    0  35.000000      0   \n..                                                 ...  ...        ...    ...   \n886                              Montvila, Rev. Juozas    0  27.000000      0   \n887                       Graham, Miss. Margaret Edith    1  19.000000      0   \n888           Johnston, Miss. Catherine Helen \"Carrie\"    1  16.185117      1   \n889                              Behr, Mr. Karl Howell    0  26.000000      0   \n890                                Dooley, Mr. Patrick    0  32.000000      0   \n\n     Parch     Fare Cabin  Embarked  \n0        0   7.2500     0         1  \n1        0  71.2833     1         2  \n2        0   7.9250     0         1  \n3        0  53.1000     1         1  \n4        0   8.0500     0         1  \n..     ...      ...   ...       ...  \n886      0  13.0000     0         1  \n887      0  30.0000     1         1  \n888      2  23.4500     0         1  \n889      0  30.0000     1         2  \n890      0   7.7500     0         3  \n\n[891 rows x 11 columns]",
      "text/html": "<div>\n<style scoped>\n    .dataframe tbody tr th:only-of-type {\n        vertical-align: middle;\n    }\n\n    .dataframe tbody tr th {\n        vertical-align: top;\n    }\n\n    .dataframe thead th {\n        text-align: right;\n    }\n</style>\n<table border=\"1\" class=\"dataframe\">\n  <thead>\n    <tr style=\"text-align: right;\">\n      <th></th>\n      <th>PassengerId</th>\n      <th>Survived</th>\n      <th>Pclass</th>\n      <th>Name</th>\n      <th>Sex</th>\n      <th>Age</th>\n      <th>SibSp</th>\n      <th>Parch</th>\n      <th>Fare</th>\n      <th>Cabin</th>\n      <th>Embarked</th>\n    </tr>\n  </thead>\n  <tbody>\n    <tr>\n      <th>0</th>\n      <td>1</td>\n      <td>0</td>\n      <td>3</td>\n      <td>Braund, Mr. Owen Harris</td>\n      <td>0</td>\n      <td>22.000000</td>\n      <td>1</td>\n      <td>0</td>\n      <td>7.2500</td>\n      <td>0</td>\n      <td>1</td>\n    </tr>\n    <tr>\n      <th>1</th>\n      <td>2</td>\n      <td>1</td>\n      <td>1</td>\n      <td>Cumings, Mrs. John Bradley (Florence Briggs Th...</td>\n      <td>1</td>\n      <td>38.000000</td>\n      <td>1</td>\n      <td>0</td>\n      <td>71.2833</td>\n      <td>1</td>\n      <td>2</td>\n    </tr>\n    <tr>\n      <th>2</th>\n      <td>3</td>\n      <td>1</td>\n      <td>3</td>\n      <td>Heikkinen, Miss. Laina</td>\n      <td>1</td>\n      <td>26.000000</td>\n      <td>0</td>\n      <td>0</td>\n      <td>7.9250</td>\n      <td>0</td>\n      <td>1</td>\n    </tr>\n    <tr>\n      <th>3</th>\n      <td>4</td>\n      <td>1</td>\n      <td>1</td>\n      <td>Futrelle, Mrs. Jacques Heath (Lily May Peel)</td>\n      <td>1</td>\n      <td>35.000000</td>\n      <td>1</td>\n      <td>0</td>\n      <td>53.1000</td>\n      <td>1</td>\n      <td>1</td>\n    </tr>\n    <tr>\n      <th>4</th>\n      <td>5</td>\n      <td>0</td>\n      <td>3</td>\n      <td>Allen, Mr. William Henry</td>\n      <td>0</td>\n      <td>35.000000</td>\n      <td>0</td>\n      <td>0</td>\n      <td>8.0500</td>\n      <td>0</td>\n      <td>1</td>\n    </tr>\n    <tr>\n      <th>...</th>\n      <td>...</td>\n      <td>...</td>\n      <td>...</td>\n      <td>...</td>\n      <td>...</td>\n      <td>...</td>\n      <td>...</td>\n      <td>...</td>\n      <td>...</td>\n      <td>...</td>\n      <td>...</td>\n    </tr>\n    <tr>\n      <th>886</th>\n      <td>887</td>\n      <td>0</td>\n      <td>2</td>\n      <td>Montvila, Rev. Juozas</td>\n      <td>0</td>\n      <td>27.000000</td>\n      <td>0</td>\n      <td>0</td>\n      <td>13.0000</td>\n      <td>0</td>\n      <td>1</td>\n    </tr>\n    <tr>\n      <th>887</th>\n      <td>888</td>\n      <td>1</td>\n      <td>1</td>\n      <td>Graham, Miss. Margaret Edith</td>\n      <td>1</td>\n      <td>19.000000</td>\n      <td>0</td>\n      <td>0</td>\n      <td>30.0000</td>\n      <td>1</td>\n      <td>1</td>\n    </tr>\n    <tr>\n      <th>888</th>\n      <td>889</td>\n      <td>0</td>\n      <td>3</td>\n      <td>Johnston, Miss. Catherine Helen \"Carrie\"</td>\n      <td>1</td>\n      <td>16.185117</td>\n      <td>1</td>\n      <td>2</td>\n      <td>23.4500</td>\n      <td>0</td>\n      <td>1</td>\n    </tr>\n    <tr>\n      <th>889</th>\n      <td>890</td>\n      <td>1</td>\n      <td>1</td>\n      <td>Behr, Mr. Karl Howell</td>\n      <td>0</td>\n      <td>26.000000</td>\n      <td>0</td>\n      <td>0</td>\n      <td>30.0000</td>\n      <td>1</td>\n      <td>2</td>\n    </tr>\n    <tr>\n      <th>890</th>\n      <td>891</td>\n      <td>0</td>\n      <td>3</td>\n      <td>Dooley, Mr. Patrick</td>\n      <td>0</td>\n      <td>32.000000</td>\n      <td>0</td>\n      <td>0</td>\n      <td>7.7500</td>\n      <td>0</td>\n      <td>3</td>\n    </tr>\n  </tbody>\n</table>\n<p>891 rows × 11 columns</p>\n</div>"
     },
     "execution_count": 20,
     "metadata": {},
     "output_type": "execute_result"
    }
   ],
   "source": [
    "Embarked = {'S': 1, 'C': 2, 'Q': 3, np.nan: 4}\n",
    "df['Embarked'] = df['Embarked'].map(lambda x: Embarked[x])\n",
    "\n",
    "df"
   ],
   "metadata": {
    "collapsed": false,
    "ExecuteTime": {
     "end_time": "2023-08-07T01:47:15.371815Z",
     "start_time": "2023-08-07T01:47:15.337484Z"
    }
   }
  },
  {
   "cell_type": "code",
   "execution_count": 21,
   "outputs": [
    {
     "data": {
      "text/plain": "RandomForestClassifier(n_estimators=2000, n_jobs=-1, random_state=0)",
      "text/html": "<style>#sk-container-id-1 {color: black;}#sk-container-id-1 pre{padding: 0;}#sk-container-id-1 div.sk-toggleable {background-color: white;}#sk-container-id-1 label.sk-toggleable__label {cursor: pointer;display: block;width: 100%;margin-bottom: 0;padding: 0.3em;box-sizing: border-box;text-align: center;}#sk-container-id-1 label.sk-toggleable__label-arrow:before {content: \"▸\";float: left;margin-right: 0.25em;color: #696969;}#sk-container-id-1 label.sk-toggleable__label-arrow:hover:before {color: black;}#sk-container-id-1 div.sk-estimator:hover label.sk-toggleable__label-arrow:before {color: black;}#sk-container-id-1 div.sk-toggleable__content {max-height: 0;max-width: 0;overflow: hidden;text-align: left;background-color: #f0f8ff;}#sk-container-id-1 div.sk-toggleable__content pre {margin: 0.2em;color: black;border-radius: 0.25em;background-color: #f0f8ff;}#sk-container-id-1 input.sk-toggleable__control:checked~div.sk-toggleable__content {max-height: 200px;max-width: 100%;overflow: auto;}#sk-container-id-1 input.sk-toggleable__control:checked~label.sk-toggleable__label-arrow:before {content: \"▾\";}#sk-container-id-1 div.sk-estimator input.sk-toggleable__control:checked~label.sk-toggleable__label {background-color: #d4ebff;}#sk-container-id-1 div.sk-label input.sk-toggleable__control:checked~label.sk-toggleable__label {background-color: #d4ebff;}#sk-container-id-1 input.sk-hidden--visually {border: 0;clip: rect(1px 1px 1px 1px);clip: rect(1px, 1px, 1px, 1px);height: 1px;margin: -1px;overflow: hidden;padding: 0;position: absolute;width: 1px;}#sk-container-id-1 div.sk-estimator {font-family: monospace;background-color: #f0f8ff;border: 1px dotted black;border-radius: 0.25em;box-sizing: border-box;margin-bottom: 0.5em;}#sk-container-id-1 div.sk-estimator:hover {background-color: #d4ebff;}#sk-container-id-1 div.sk-parallel-item::after {content: \"\";width: 100%;border-bottom: 1px solid gray;flex-grow: 1;}#sk-container-id-1 div.sk-label:hover label.sk-toggleable__label {background-color: #d4ebff;}#sk-container-id-1 div.sk-serial::before {content: \"\";position: absolute;border-left: 1px solid gray;box-sizing: border-box;top: 0;bottom: 0;left: 50%;z-index: 0;}#sk-container-id-1 div.sk-serial {display: flex;flex-direction: column;align-items: center;background-color: white;padding-right: 0.2em;padding-left: 0.2em;position: relative;}#sk-container-id-1 div.sk-item {position: relative;z-index: 1;}#sk-container-id-1 div.sk-parallel {display: flex;align-items: stretch;justify-content: center;background-color: white;position: relative;}#sk-container-id-1 div.sk-item::before, #sk-container-id-1 div.sk-parallel-item::before {content: \"\";position: absolute;border-left: 1px solid gray;box-sizing: border-box;top: 0;bottom: 0;left: 50%;z-index: -1;}#sk-container-id-1 div.sk-parallel-item {display: flex;flex-direction: column;z-index: 1;position: relative;background-color: white;}#sk-container-id-1 div.sk-parallel-item:first-child::after {align-self: flex-end;width: 50%;}#sk-container-id-1 div.sk-parallel-item:last-child::after {align-self: flex-start;width: 50%;}#sk-container-id-1 div.sk-parallel-item:only-child::after {width: 0;}#sk-container-id-1 div.sk-dashed-wrapped {border: 1px dashed gray;margin: 0 0.4em 0.5em 0.4em;box-sizing: border-box;padding-bottom: 0.4em;background-color: white;}#sk-container-id-1 div.sk-label label {font-family: monospace;font-weight: bold;display: inline-block;line-height: 1.2em;}#sk-container-id-1 div.sk-label-container {text-align: center;}#sk-container-id-1 div.sk-container {/* jupyter's `normalize.less` sets `[hidden] { display: none; }` but bootstrap.min.css set `[hidden] { display: none !important; }` so we also need the `!important` here to be able to override the default hidden behavior on the sphinx rendered scikit-learn.org. See: https://github.com/scikit-learn/scikit-learn/issues/21755 */display: inline-block !important;position: relative;}#sk-container-id-1 div.sk-text-repr-fallback {display: none;}</style><div id=\"sk-container-id-1\" class=\"sk-top-container\"><div class=\"sk-text-repr-fallback\"><pre>RandomForestClassifier(n_estimators=2000, n_jobs=-1, random_state=0)</pre><b>In a Jupyter environment, please rerun this cell to show the HTML representation or trust the notebook. <br />On GitHub, the HTML representation is unable to render, please try loading this page with nbviewer.org.</b></div><div class=\"sk-container\" hidden><div class=\"sk-item\"><div class=\"sk-estimator sk-toggleable\"><input class=\"sk-toggleable__control sk-hidden--visually\" id=\"sk-estimator-id-1\" type=\"checkbox\" checked><label for=\"sk-estimator-id-1\" class=\"sk-toggleable__label sk-toggleable__label-arrow\">RandomForestClassifier</label><div class=\"sk-toggleable__content\"><pre>RandomForestClassifier(n_estimators=2000, n_jobs=-1, random_state=0)</pre></div></div></div></div></div>"
     },
     "execution_count": 21,
     "metadata": {},
     "output_type": "execute_result"
    }
   ],
   "source": [
    "# 构建随机森林 模型\n",
    "from sklearn.ensemble import RandomForestClassifier\n",
    "\n",
    "rfr = RandomForestClassifier(random_state=0, n_estimators=2000, n_jobs=-1)\n",
    "df = df[['Survived', 'PassengerId', 'Pclass', 'Sex', 'Age', 'SibSp', 'Parch', 'Fare', 'Cabin', 'Embarked']]\n",
    "\n",
    "df_values = df.values\n",
    "\n",
    "y = df_values[:, 0]\n",
    "y = y.astype('int')\n",
    "X = df_values[:, 2:]\n",
    "\n",
    "rfr.fit(X, y)\n"
   ],
   "metadata": {
    "collapsed": false,
    "ExecuteTime": {
     "end_time": "2023-08-07T01:47:17.315823Z",
     "start_time": "2023-08-07T01:47:15.340813Z"
    }
   }
  },
  {
   "cell_type": "code",
   "execution_count": 22,
   "outputs": [
    {
     "data": {
      "text/plain": "0.9865319865319865"
     },
     "execution_count": 22,
     "metadata": {},
     "output_type": "execute_result"
    }
   ],
   "source": [
    "rfr.score(X, y)"
   ],
   "metadata": {
    "collapsed": false,
    "ExecuteTime": {
     "end_time": "2023-08-07T01:47:17.556910Z",
     "start_time": "2023-08-07T01:47:17.316040Z"
    }
   }
  },
  {
   "cell_type": "code",
   "execution_count": 23,
   "outputs": [],
   "source": [
    "#test\n",
    "\n",
    "df_test = pd.read_csv('test.csv')\n",
    "df_test.loc[(df_test.Cabin.notnull()), 'Cabin'] = '1'\n",
    "df_test.loc[(df_test.Cabin.isnull()), 'Cabin'] = '0'\n",
    "mean = round(df_test['Fare'].mean(), 4)\n",
    "df_test['Fare'] = df_test['Fare'].fillna(mean)\n",
    "sex_dic = {'male': 0, 'female': 1}\n",
    "df_test['Sex'] = df_test['Sex'].map(lambda x: sex_dic[x])\n",
    "alt = df_test[['Age', 'Fare', 'Parch', 'SibSp', 'Pclass']]"
   ],
   "metadata": {
    "collapsed": false,
    "ExecuteTime": {
     "end_time": "2023-08-07T01:47:17.563061Z",
     "start_time": "2023-08-07T01:47:17.557820Z"
    }
   }
  },
  {
   "cell_type": "code",
   "execution_count": 24,
   "outputs": [
    {
     "data": {
      "text/plain": "     PassengerId  Pclass                                          Name  Sex  \\\n0            892       3                              Kelly, Mr. James    0   \n1            893       3              Wilkes, Mrs. James (Ellen Needs)    1   \n2            894       2                     Myles, Mr. Thomas Francis    0   \n3            895       3                              Wirz, Mr. Albert    0   \n4            896       3  Hirvonen, Mrs. Alexander (Helga E Lindqvist)    1   \n..           ...     ...                                           ...  ...   \n413         1305       3                            Spector, Mr. Woolf    0   \n414         1306       1                  Oliva y Ocana, Dona. Fermina    1   \n415         1307       3                  Saether, Mr. Simon Sivertsen    0   \n416         1308       3                           Ware, Mr. Frederick    0   \n417         1309       3                      Peter, Master. Michael J    0   \n\n           Age  SibSp  Parch      Fare Cabin  Embarked  \n0    34.500000      0      0    7.8292     0         3  \n1    47.000000      1      0    7.0000     0         1  \n2    62.000000      0      0    9.6875     0         3  \n3    27.000000      0      0    8.6625     0         1  \n4    22.000000      1      1   12.2875     0         1  \n..         ...    ...    ...       ...   ...       ...  \n413  25.080765      0      0    8.0500     0         1  \n414  39.000000      0      0  108.9000     1         2  \n415  38.500000      0      0    7.2500     0         1  \n416  25.080765      0      0    8.0500     0         1  \n417  21.974527      1      1   22.3583     0         2  \n\n[418 rows x 10 columns]",
      "text/html": "<div>\n<style scoped>\n    .dataframe tbody tr th:only-of-type {\n        vertical-align: middle;\n    }\n\n    .dataframe tbody tr th {\n        vertical-align: top;\n    }\n\n    .dataframe thead th {\n        text-align: right;\n    }\n</style>\n<table border=\"1\" class=\"dataframe\">\n  <thead>\n    <tr style=\"text-align: right;\">\n      <th></th>\n      <th>PassengerId</th>\n      <th>Pclass</th>\n      <th>Name</th>\n      <th>Sex</th>\n      <th>Age</th>\n      <th>SibSp</th>\n      <th>Parch</th>\n      <th>Fare</th>\n      <th>Cabin</th>\n      <th>Embarked</th>\n    </tr>\n  </thead>\n  <tbody>\n    <tr>\n      <th>0</th>\n      <td>892</td>\n      <td>3</td>\n      <td>Kelly, Mr. James</td>\n      <td>0</td>\n      <td>34.500000</td>\n      <td>0</td>\n      <td>0</td>\n      <td>7.8292</td>\n      <td>0</td>\n      <td>3</td>\n    </tr>\n    <tr>\n      <th>1</th>\n      <td>893</td>\n      <td>3</td>\n      <td>Wilkes, Mrs. James (Ellen Needs)</td>\n      <td>1</td>\n      <td>47.000000</td>\n      <td>1</td>\n      <td>0</td>\n      <td>7.0000</td>\n      <td>0</td>\n      <td>1</td>\n    </tr>\n    <tr>\n      <th>2</th>\n      <td>894</td>\n      <td>2</td>\n      <td>Myles, Mr. Thomas Francis</td>\n      <td>0</td>\n      <td>62.000000</td>\n      <td>0</td>\n      <td>0</td>\n      <td>9.6875</td>\n      <td>0</td>\n      <td>3</td>\n    </tr>\n    <tr>\n      <th>3</th>\n      <td>895</td>\n      <td>3</td>\n      <td>Wirz, Mr. Albert</td>\n      <td>0</td>\n      <td>27.000000</td>\n      <td>0</td>\n      <td>0</td>\n      <td>8.6625</td>\n      <td>0</td>\n      <td>1</td>\n    </tr>\n    <tr>\n      <th>4</th>\n      <td>896</td>\n      <td>3</td>\n      <td>Hirvonen, Mrs. Alexander (Helga E Lindqvist)</td>\n      <td>1</td>\n      <td>22.000000</td>\n      <td>1</td>\n      <td>1</td>\n      <td>12.2875</td>\n      <td>0</td>\n      <td>1</td>\n    </tr>\n    <tr>\n      <th>...</th>\n      <td>...</td>\n      <td>...</td>\n      <td>...</td>\n      <td>...</td>\n      <td>...</td>\n      <td>...</td>\n      <td>...</td>\n      <td>...</td>\n      <td>...</td>\n      <td>...</td>\n    </tr>\n    <tr>\n      <th>413</th>\n      <td>1305</td>\n      <td>3</td>\n      <td>Spector, Mr. Woolf</td>\n      <td>0</td>\n      <td>25.080765</td>\n      <td>0</td>\n      <td>0</td>\n      <td>8.0500</td>\n      <td>0</td>\n      <td>1</td>\n    </tr>\n    <tr>\n      <th>414</th>\n      <td>1306</td>\n      <td>1</td>\n      <td>Oliva y Ocana, Dona. Fermina</td>\n      <td>1</td>\n      <td>39.000000</td>\n      <td>0</td>\n      <td>0</td>\n      <td>108.9000</td>\n      <td>1</td>\n      <td>2</td>\n    </tr>\n    <tr>\n      <th>415</th>\n      <td>1307</td>\n      <td>3</td>\n      <td>Saether, Mr. Simon Sivertsen</td>\n      <td>0</td>\n      <td>38.500000</td>\n      <td>0</td>\n      <td>0</td>\n      <td>7.2500</td>\n      <td>0</td>\n      <td>1</td>\n    </tr>\n    <tr>\n      <th>416</th>\n      <td>1308</td>\n      <td>3</td>\n      <td>Ware, Mr. Frederick</td>\n      <td>0</td>\n      <td>25.080765</td>\n      <td>0</td>\n      <td>0</td>\n      <td>8.0500</td>\n      <td>0</td>\n      <td>1</td>\n    </tr>\n    <tr>\n      <th>417</th>\n      <td>1309</td>\n      <td>3</td>\n      <td>Peter, Master. Michael J</td>\n      <td>0</td>\n      <td>21.974527</td>\n      <td>1</td>\n      <td>1</td>\n      <td>22.3583</td>\n      <td>0</td>\n      <td>2</td>\n    </tr>\n  </tbody>\n</table>\n<p>418 rows × 10 columns</p>\n</div>"
     },
     "execution_count": 24,
     "metadata": {},
     "output_type": "execute_result"
    }
   ],
   "source": [
    "\n",
    "known_age = alt[alt.Age.notnull()].values\n",
    "unknown_age = alt[alt.Age.isnull()].values\n",
    "\n",
    "y = known_age[:, 0]  # 提取 Age信息\n",
    "X = known_age[:, 1:]  # 预测信息\n",
    "\n",
    "rfr_age = RandomForestRegressor(random_state=0, n_estimators=2000, n_jobs=-1)\n",
    "\n",
    "rfr_age.fit(X, y)\n",
    "\n",
    "predictedAges = rfr_age.predict(unknown_age[:, 1:])\n",
    "df_test.loc[(df_test.Age.isnull()), 'Age'] = predictedAges\n",
    "df_test.drop(columns='Ticket', inplace=True)\n",
    "Embarked = {'S': 1, 'C': 2, 'Q': 3, np.nan: 4}\n",
    "df_test['Embarked'] = df_test['Embarked'].map(lambda x: Embarked[x])\n",
    "\n",
    "df_test"
   ],
   "metadata": {
    "collapsed": false,
    "ExecuteTime": {
     "end_time": "2023-08-07T01:47:19.193490Z",
     "start_time": "2023-08-07T01:47:17.572294Z"
    }
   }
  },
  {
   "cell_type": "code",
   "execution_count": 25,
   "outputs": [
    {
     "name": "stdout",
     "output_type": "stream",
     "text": [
      "<class 'pandas.core.frame.DataFrame'>\n",
      "RangeIndex: 418 entries, 0 to 417\n",
      "Data columns (total 10 columns):\n",
      " #   Column       Non-Null Count  Dtype  \n",
      "---  ------       --------------  -----  \n",
      " 0   PassengerId  418 non-null    int64  \n",
      " 1   Pclass       418 non-null    int64  \n",
      " 2   Name         418 non-null    object \n",
      " 3   Sex          418 non-null    int64  \n",
      " 4   Age          418 non-null    float64\n",
      " 5   SibSp        418 non-null    int64  \n",
      " 6   Parch        418 non-null    int64  \n",
      " 7   Fare         418 non-null    float64\n",
      " 8   Cabin        418 non-null    object \n",
      " 9   Embarked     418 non-null    int64  \n",
      "dtypes: float64(2), int64(6), object(2)\n",
      "memory usage: 32.8+ KB\n"
     ]
    }
   ],
   "source": [
    "df_test.info()"
   ],
   "metadata": {
    "collapsed": false,
    "ExecuteTime": {
     "end_time": "2023-08-07T01:47:19.202274Z",
     "start_time": "2023-08-07T01:47:19.199083Z"
    }
   }
  },
  {
   "cell_type": "code",
   "execution_count": 26,
   "outputs": [],
   "source": [
    "test_alt = df_test[['Pclass', 'Sex', 'Age', 'SibSp', 'Parch', 'Fare', 'Cabin', 'Embarked']]\n",
    "\n",
    "test_alt = test_alt.to_numpy()\n",
    "predictedSurvived = rfr.predict(test_alt[:, :])\n"
   ],
   "metadata": {
    "collapsed": false,
    "ExecuteTime": {
     "end_time": "2023-08-07T01:47:19.393312Z",
     "start_time": "2023-08-07T01:47:19.202863Z"
    }
   }
  },
  {
   "cell_type": "code",
   "execution_count": 27,
   "outputs": [
    {
     "data": {
      "text/plain": "array([0, 0, 0, 1, 0, 0, 0, 0, 1, 0, 0, 0, 1, 0, 1, 1, 0, 1, 0, 1, 0, 0,\n       1, 0, 1, 0, 1, 0, 1, 0, 0, 0, 1, 0, 1, 1, 0, 0, 0, 1, 0, 1, 0, 1,\n       1, 0, 1, 0, 1, 1, 1, 0, 1, 1, 0, 0, 0, 0, 0, 1, 0, 0, 0, 1, 1, 1,\n       1, 0, 0, 1, 1, 0, 0, 0, 1, 1, 0, 1, 0, 1, 1, 0, 0, 0, 0, 0, 1, 0,\n       0, 1, 0, 0, 1, 0, 0, 0, 1, 0, 0, 0, 1, 0, 0, 0, 1, 0, 0, 0, 0, 1,\n       0, 1, 1, 1, 1, 0, 0, 1, 0, 1, 1, 0, 1, 0, 0, 1, 0, 1, 0, 0, 0, 1,\n       0, 0, 0, 0, 0, 0, 0, 0, 0, 1, 0, 0, 1, 0, 0, 0, 1, 0, 1, 0, 0, 1,\n       0, 0, 1, 1, 1, 1, 1, 1, 1, 0, 0, 0, 0, 0, 1, 0, 0, 0, 0, 0, 0, 1,\n       1, 1, 1, 1, 0, 1, 1, 0, 1, 0, 1, 0, 0, 0, 0, 0, 1, 0, 1, 0, 1, 0,\n       0, 0, 1, 1, 0, 1, 0, 0, 1, 0, 1, 0, 0, 0, 0, 0, 1, 1, 1, 0, 1, 0,\n       1, 0, 1, 1, 1, 0, 0, 0, 0, 0, 0, 1, 0, 0, 1, 0, 1, 1, 1, 1, 1, 1,\n       0, 0, 0, 1, 1, 0, 1, 0, 1, 0, 1, 0, 0, 0, 0, 0, 1, 0, 0, 0, 1, 1,\n       0, 0, 0, 0, 0, 0, 0, 0, 1, 1, 0, 1, 0, 0, 0, 0, 0, 1, 0, 0, 1, 0,\n       0, 0, 0, 0, 0, 0, 0, 0, 0, 0, 1, 0, 0, 0, 0, 0, 0, 0, 0, 1, 1, 1,\n       0, 0, 0, 1, 0, 1, 1, 1, 0, 0, 0, 0, 0, 0, 1, 1, 1, 0, 1, 0, 0, 0,\n       1, 1, 0, 0, 0, 0, 1, 0, 0, 0, 0, 0, 0, 1, 1, 1, 0, 1, 0, 1, 1, 0,\n       0, 0, 1, 0, 1, 0, 0, 1, 0, 1, 1, 1, 1, 0, 0, 0, 1, 0, 0, 1, 0, 0,\n       1, 1, 0, 0, 0, 0, 0, 0, 0, 0, 1, 1, 0, 0, 0, 0, 0, 1, 0, 0, 0, 1,\n       0, 1, 0, 0, 1, 0, 1, 0, 1, 0, 0, 0, 1, 1, 0, 1, 0, 0, 1, 0, 0, 1])"
     },
     "execution_count": 27,
     "metadata": {},
     "output_type": "execute_result"
    }
   ],
   "source": [
    "predictedSurvived\n",
    "\n",
    "# 这里简单的 rfr模型就完成了， 预测结果也出来了"
   ],
   "metadata": {
    "collapsed": false,
    "ExecuteTime": {
     "end_time": "2023-08-07T01:47:19.396813Z",
     "start_time": "2023-08-07T01:47:19.394025Z"
    }
   }
  },
  {
   "cell_type": "code",
   "execution_count": 28,
   "outputs": [
    {
     "data": {
      "text/plain": "     Survived  PassengerId  Pclass  Sex        Age  SibSp  Parch     Fare  \\\n0           0            1       3    0  22.000000      1      0   7.2500   \n1           1            2       1    1  38.000000      1      0  71.2833   \n2           1            3       3    1  26.000000      0      0   7.9250   \n3           1            4       1    1  35.000000      1      0  53.1000   \n4           0            5       3    0  35.000000      0      0   8.0500   \n..        ...          ...     ...  ...        ...    ...    ...      ...   \n886         0          887       2    0  27.000000      0      0  13.0000   \n887         1          888       1    1  19.000000      0      0  30.0000   \n888         0          889       3    1  16.185117      1      2  23.4500   \n889         1          890       1    0  26.000000      0      0  30.0000   \n890         0          891       3    0  32.000000      0      0   7.7500   \n\n    Cabin  Embarked  \n0       0         1  \n1       1         2  \n2       0         1  \n3       1         1  \n4       0         1  \n..    ...       ...  \n886     0         1  \n887     1         1  \n888     0         1  \n889     1         2  \n890     0         3  \n\n[891 rows x 10 columns]",
      "text/html": "<div>\n<style scoped>\n    .dataframe tbody tr th:only-of-type {\n        vertical-align: middle;\n    }\n\n    .dataframe tbody tr th {\n        vertical-align: top;\n    }\n\n    .dataframe thead th {\n        text-align: right;\n    }\n</style>\n<table border=\"1\" class=\"dataframe\">\n  <thead>\n    <tr style=\"text-align: right;\">\n      <th></th>\n      <th>Survived</th>\n      <th>PassengerId</th>\n      <th>Pclass</th>\n      <th>Sex</th>\n      <th>Age</th>\n      <th>SibSp</th>\n      <th>Parch</th>\n      <th>Fare</th>\n      <th>Cabin</th>\n      <th>Embarked</th>\n    </tr>\n  </thead>\n  <tbody>\n    <tr>\n      <th>0</th>\n      <td>0</td>\n      <td>1</td>\n      <td>3</td>\n      <td>0</td>\n      <td>22.000000</td>\n      <td>1</td>\n      <td>0</td>\n      <td>7.2500</td>\n      <td>0</td>\n      <td>1</td>\n    </tr>\n    <tr>\n      <th>1</th>\n      <td>1</td>\n      <td>2</td>\n      <td>1</td>\n      <td>1</td>\n      <td>38.000000</td>\n      <td>1</td>\n      <td>0</td>\n      <td>71.2833</td>\n      <td>1</td>\n      <td>2</td>\n    </tr>\n    <tr>\n      <th>2</th>\n      <td>1</td>\n      <td>3</td>\n      <td>3</td>\n      <td>1</td>\n      <td>26.000000</td>\n      <td>0</td>\n      <td>0</td>\n      <td>7.9250</td>\n      <td>0</td>\n      <td>1</td>\n    </tr>\n    <tr>\n      <th>3</th>\n      <td>1</td>\n      <td>4</td>\n      <td>1</td>\n      <td>1</td>\n      <td>35.000000</td>\n      <td>1</td>\n      <td>0</td>\n      <td>53.1000</td>\n      <td>1</td>\n      <td>1</td>\n    </tr>\n    <tr>\n      <th>4</th>\n      <td>0</td>\n      <td>5</td>\n      <td>3</td>\n      <td>0</td>\n      <td>35.000000</td>\n      <td>0</td>\n      <td>0</td>\n      <td>8.0500</td>\n      <td>0</td>\n      <td>1</td>\n    </tr>\n    <tr>\n      <th>...</th>\n      <td>...</td>\n      <td>...</td>\n      <td>...</td>\n      <td>...</td>\n      <td>...</td>\n      <td>...</td>\n      <td>...</td>\n      <td>...</td>\n      <td>...</td>\n      <td>...</td>\n    </tr>\n    <tr>\n      <th>886</th>\n      <td>0</td>\n      <td>887</td>\n      <td>2</td>\n      <td>0</td>\n      <td>27.000000</td>\n      <td>0</td>\n      <td>0</td>\n      <td>13.0000</td>\n      <td>0</td>\n      <td>1</td>\n    </tr>\n    <tr>\n      <th>887</th>\n      <td>1</td>\n      <td>888</td>\n      <td>1</td>\n      <td>1</td>\n      <td>19.000000</td>\n      <td>0</td>\n      <td>0</td>\n      <td>30.0000</td>\n      <td>1</td>\n      <td>1</td>\n    </tr>\n    <tr>\n      <th>888</th>\n      <td>0</td>\n      <td>889</td>\n      <td>3</td>\n      <td>1</td>\n      <td>16.185117</td>\n      <td>1</td>\n      <td>2</td>\n      <td>23.4500</td>\n      <td>0</td>\n      <td>1</td>\n    </tr>\n    <tr>\n      <th>889</th>\n      <td>1</td>\n      <td>890</td>\n      <td>1</td>\n      <td>0</td>\n      <td>26.000000</td>\n      <td>0</td>\n      <td>0</td>\n      <td>30.0000</td>\n      <td>1</td>\n      <td>2</td>\n    </tr>\n    <tr>\n      <th>890</th>\n      <td>0</td>\n      <td>891</td>\n      <td>3</td>\n      <td>0</td>\n      <td>32.000000</td>\n      <td>0</td>\n      <td>0</td>\n      <td>7.7500</td>\n      <td>0</td>\n      <td>3</td>\n    </tr>\n  </tbody>\n</table>\n<p>891 rows × 10 columns</p>\n</div>"
     },
     "execution_count": 28,
     "metadata": {},
     "output_type": "execute_result"
    }
   ],
   "source": [
    "df"
   ],
   "metadata": {
    "collapsed": false,
    "ExecuteTime": {
     "end_time": "2023-08-07T01:47:19.403438Z",
     "start_time": "2023-08-07T01:47:19.400416Z"
    }
   }
  },
  {
   "cell_type": "code",
   "execution_count": 29,
   "outputs": [
    {
     "data": {
      "text/plain": "0.8227340823970039"
     },
     "execution_count": 29,
     "metadata": {},
     "output_type": "execute_result"
    }
   ],
   "source": [
    "# 交叉验证\n",
    "\n",
    "# 重点又来了：\n",
    "#\n",
    "# 『要做交叉验证(cross validation)!』\n",
    "\n",
    "# 恩，重要的事情说三遍。我们通常情况下，这么做cross validation：把train.csv分成两部分，一部分用于训练我们需要的模型，另外一部分数据上看我们预测算法的效果。\n",
    "# 我们用scikit-learn的cross_validation来帮我们完成小数据集上的这个工作。\n",
    "# 先简单看看cross validation情况下的打分\n",
    "\n",
    "from sklearn.model_selection import cross_val_score\n",
    "\n",
    "# cross validation\n",
    "\n",
    "X = df.values[:, 1:]\n",
    "y = df.values[:, 0]\n",
    "y = y.astype('int')\n",
    "\n",
    "# cv是交叉验证次数\n",
    "cross_val_score(rfr, X, y, cv=10)\n",
    "\n",
    "mean_cross_val = np.mean(cross_val_score(rfr, X, y, cv=10))\n",
    "\n",
    "mean_cross_val\n"
   ],
   "metadata": {
    "collapsed": false,
    "ExecuteTime": {
     "end_time": "2023-08-07T01:48:01.749989Z",
     "start_time": "2023-08-07T01:47:19.403782Z"
    }
   }
  },
  {
   "cell_type": "code",
   "execution_count": 30,
   "outputs": [
    {
     "data": {
      "text/plain": "     Survived  PassengerId  Pclass  Sex        Age  SibSp  Parch     Fare  \\\n857         1          858       1    0  51.000000      0      0  26.5500   \n52          1           53       1    1  49.000000      1      0  76.7292   \n386         0          387       3    0   1.000000      5      2  46.9000   \n124         0          125       1    0  54.000000      0      1  77.2875   \n578         0          579       3    1  20.070168      1      0  14.4583   \n..        ...          ...     ...  ...        ...    ...    ...      ...   \n835         1          836       1    1  39.000000      1      1  83.1583   \n192         1          193       3    1  19.000000      1      0   7.8542   \n629         0          630       3    0  19.895581      0      0   7.7333   \n559         1          560       3    1  36.000000      1      0  17.4000   \n684         0          685       2    0  60.000000      1      1  39.0000   \n\n    Cabin  Embarked  \n857     1         1  \n52      1         2  \n386     0         1  \n124     1         1  \n578     0         2  \n..    ...       ...  \n835     1         2  \n192     0         1  \n629     0         3  \n559     0         1  \n684     0         1  \n\n[623 rows x 10 columns]",
      "text/html": "<div>\n<style scoped>\n    .dataframe tbody tr th:only-of-type {\n        vertical-align: middle;\n    }\n\n    .dataframe tbody tr th {\n        vertical-align: top;\n    }\n\n    .dataframe thead th {\n        text-align: right;\n    }\n</style>\n<table border=\"1\" class=\"dataframe\">\n  <thead>\n    <tr style=\"text-align: right;\">\n      <th></th>\n      <th>Survived</th>\n      <th>PassengerId</th>\n      <th>Pclass</th>\n      <th>Sex</th>\n      <th>Age</th>\n      <th>SibSp</th>\n      <th>Parch</th>\n      <th>Fare</th>\n      <th>Cabin</th>\n      <th>Embarked</th>\n    </tr>\n  </thead>\n  <tbody>\n    <tr>\n      <th>857</th>\n      <td>1</td>\n      <td>858</td>\n      <td>1</td>\n      <td>0</td>\n      <td>51.000000</td>\n      <td>0</td>\n      <td>0</td>\n      <td>26.5500</td>\n      <td>1</td>\n      <td>1</td>\n    </tr>\n    <tr>\n      <th>52</th>\n      <td>1</td>\n      <td>53</td>\n      <td>1</td>\n      <td>1</td>\n      <td>49.000000</td>\n      <td>1</td>\n      <td>0</td>\n      <td>76.7292</td>\n      <td>1</td>\n      <td>2</td>\n    </tr>\n    <tr>\n      <th>386</th>\n      <td>0</td>\n      <td>387</td>\n      <td>3</td>\n      <td>0</td>\n      <td>1.000000</td>\n      <td>5</td>\n      <td>2</td>\n      <td>46.9000</td>\n      <td>0</td>\n      <td>1</td>\n    </tr>\n    <tr>\n      <th>124</th>\n      <td>0</td>\n      <td>125</td>\n      <td>1</td>\n      <td>0</td>\n      <td>54.000000</td>\n      <td>0</td>\n      <td>1</td>\n      <td>77.2875</td>\n      <td>1</td>\n      <td>1</td>\n    </tr>\n    <tr>\n      <th>578</th>\n      <td>0</td>\n      <td>579</td>\n      <td>3</td>\n      <td>1</td>\n      <td>20.070168</td>\n      <td>1</td>\n      <td>0</td>\n      <td>14.4583</td>\n      <td>0</td>\n      <td>2</td>\n    </tr>\n    <tr>\n      <th>...</th>\n      <td>...</td>\n      <td>...</td>\n      <td>...</td>\n      <td>...</td>\n      <td>...</td>\n      <td>...</td>\n      <td>...</td>\n      <td>...</td>\n      <td>...</td>\n      <td>...</td>\n    </tr>\n    <tr>\n      <th>835</th>\n      <td>1</td>\n      <td>836</td>\n      <td>1</td>\n      <td>1</td>\n      <td>39.000000</td>\n      <td>1</td>\n      <td>1</td>\n      <td>83.1583</td>\n      <td>1</td>\n      <td>2</td>\n    </tr>\n    <tr>\n      <th>192</th>\n      <td>1</td>\n      <td>193</td>\n      <td>3</td>\n      <td>1</td>\n      <td>19.000000</td>\n      <td>1</td>\n      <td>0</td>\n      <td>7.8542</td>\n      <td>0</td>\n      <td>1</td>\n    </tr>\n    <tr>\n      <th>629</th>\n      <td>0</td>\n      <td>630</td>\n      <td>3</td>\n      <td>0</td>\n      <td>19.895581</td>\n      <td>0</td>\n      <td>0</td>\n      <td>7.7333</td>\n      <td>0</td>\n      <td>3</td>\n    </tr>\n    <tr>\n      <th>559</th>\n      <td>1</td>\n      <td>560</td>\n      <td>3</td>\n      <td>1</td>\n      <td>36.000000</td>\n      <td>1</td>\n      <td>0</td>\n      <td>17.4000</td>\n      <td>0</td>\n      <td>1</td>\n    </tr>\n    <tr>\n      <th>684</th>\n      <td>0</td>\n      <td>685</td>\n      <td>2</td>\n      <td>0</td>\n      <td>60.000000</td>\n      <td>1</td>\n      <td>1</td>\n      <td>39.0000</td>\n      <td>0</td>\n      <td>1</td>\n    </tr>\n  </tbody>\n</table>\n<p>623 rows × 10 columns</p>\n</div>"
     },
     "execution_count": 30,
     "metadata": {},
     "output_type": "execute_result"
    }
   ],
   "source": [
    "# https://stackoverflow.com/questions/45346550/valueerror-unknown-label-type-unknown\n",
    "\n",
    "from sklearn.model_selection import train_test_split\n",
    "\n",
    "# 分割数据，按照 训练数据:cv数据 = 7:3的比例\n",
    "\n",
    "split_train, split_cv = train_test_split(df, test_size=0.3, random_state=0)\n",
    "split_train"
   ],
   "metadata": {
    "collapsed": false,
    "ExecuteTime": {
     "end_time": "2023-08-07T01:48:01.758525Z",
     "start_time": "2023-08-07T01:48:01.755777Z"
    }
   }
  },
  {
   "cell_type": "code",
   "execution_count": 31,
   "outputs": [
    {
     "data": {
      "text/plain": "RandomForestClassifier(n_estimators=2000, n_jobs=-1, random_state=0)",
      "text/html": "<style>#sk-container-id-2 {color: black;}#sk-container-id-2 pre{padding: 0;}#sk-container-id-2 div.sk-toggleable {background-color: white;}#sk-container-id-2 label.sk-toggleable__label {cursor: pointer;display: block;width: 100%;margin-bottom: 0;padding: 0.3em;box-sizing: border-box;text-align: center;}#sk-container-id-2 label.sk-toggleable__label-arrow:before {content: \"▸\";float: left;margin-right: 0.25em;color: #696969;}#sk-container-id-2 label.sk-toggleable__label-arrow:hover:before {color: black;}#sk-container-id-2 div.sk-estimator:hover label.sk-toggleable__label-arrow:before {color: black;}#sk-container-id-2 div.sk-toggleable__content {max-height: 0;max-width: 0;overflow: hidden;text-align: left;background-color: #f0f8ff;}#sk-container-id-2 div.sk-toggleable__content pre {margin: 0.2em;color: black;border-radius: 0.25em;background-color: #f0f8ff;}#sk-container-id-2 input.sk-toggleable__control:checked~div.sk-toggleable__content {max-height: 200px;max-width: 100%;overflow: auto;}#sk-container-id-2 input.sk-toggleable__control:checked~label.sk-toggleable__label-arrow:before {content: \"▾\";}#sk-container-id-2 div.sk-estimator input.sk-toggleable__control:checked~label.sk-toggleable__label {background-color: #d4ebff;}#sk-container-id-2 div.sk-label input.sk-toggleable__control:checked~label.sk-toggleable__label {background-color: #d4ebff;}#sk-container-id-2 input.sk-hidden--visually {border: 0;clip: rect(1px 1px 1px 1px);clip: rect(1px, 1px, 1px, 1px);height: 1px;margin: -1px;overflow: hidden;padding: 0;position: absolute;width: 1px;}#sk-container-id-2 div.sk-estimator {font-family: monospace;background-color: #f0f8ff;border: 1px dotted black;border-radius: 0.25em;box-sizing: border-box;margin-bottom: 0.5em;}#sk-container-id-2 div.sk-estimator:hover {background-color: #d4ebff;}#sk-container-id-2 div.sk-parallel-item::after {content: \"\";width: 100%;border-bottom: 1px solid gray;flex-grow: 1;}#sk-container-id-2 div.sk-label:hover label.sk-toggleable__label {background-color: #d4ebff;}#sk-container-id-2 div.sk-serial::before {content: \"\";position: absolute;border-left: 1px solid gray;box-sizing: border-box;top: 0;bottom: 0;left: 50%;z-index: 0;}#sk-container-id-2 div.sk-serial {display: flex;flex-direction: column;align-items: center;background-color: white;padding-right: 0.2em;padding-left: 0.2em;position: relative;}#sk-container-id-2 div.sk-item {position: relative;z-index: 1;}#sk-container-id-2 div.sk-parallel {display: flex;align-items: stretch;justify-content: center;background-color: white;position: relative;}#sk-container-id-2 div.sk-item::before, #sk-container-id-2 div.sk-parallel-item::before {content: \"\";position: absolute;border-left: 1px solid gray;box-sizing: border-box;top: 0;bottom: 0;left: 50%;z-index: -1;}#sk-container-id-2 div.sk-parallel-item {display: flex;flex-direction: column;z-index: 1;position: relative;background-color: white;}#sk-container-id-2 div.sk-parallel-item:first-child::after {align-self: flex-end;width: 50%;}#sk-container-id-2 div.sk-parallel-item:last-child::after {align-self: flex-start;width: 50%;}#sk-container-id-2 div.sk-parallel-item:only-child::after {width: 0;}#sk-container-id-2 div.sk-dashed-wrapped {border: 1px dashed gray;margin: 0 0.4em 0.5em 0.4em;box-sizing: border-box;padding-bottom: 0.4em;background-color: white;}#sk-container-id-2 div.sk-label label {font-family: monospace;font-weight: bold;display: inline-block;line-height: 1.2em;}#sk-container-id-2 div.sk-label-container {text-align: center;}#sk-container-id-2 div.sk-container {/* jupyter's `normalize.less` sets `[hidden] { display: none; }` but bootstrap.min.css set `[hidden] { display: none !important; }` so we also need the `!important` here to be able to override the default hidden behavior on the sphinx rendered scikit-learn.org. See: https://github.com/scikit-learn/scikit-learn/issues/21755 */display: inline-block !important;position: relative;}#sk-container-id-2 div.sk-text-repr-fallback {display: none;}</style><div id=\"sk-container-id-2\" class=\"sk-top-container\"><div class=\"sk-text-repr-fallback\"><pre>RandomForestClassifier(n_estimators=2000, n_jobs=-1, random_state=0)</pre><b>In a Jupyter environment, please rerun this cell to show the HTML representation or trust the notebook. <br />On GitHub, the HTML representation is unable to render, please try loading this page with nbviewer.org.</b></div><div class=\"sk-container\" hidden><div class=\"sk-item\"><div class=\"sk-estimator sk-toggleable\"><input class=\"sk-toggleable__control sk-hidden--visually\" id=\"sk-estimator-id-2\" type=\"checkbox\" checked><label for=\"sk-estimator-id-2\" class=\"sk-toggleable__label sk-toggleable__label-arrow\">RandomForestClassifier</label><div class=\"sk-toggleable__content\"><pre>RandomForestClassifier(n_estimators=2000, n_jobs=-1, random_state=0)</pre></div></div></div></div></div>"
     },
     "execution_count": 31,
     "metadata": {},
     "output_type": "execute_result"
    }
   ],
   "source": [
    "train_df = split_train\n",
    "# clf = linear_model.LogisticRegression(C=1.0, penalty='l1', tol=1e-6, solver='liblinear')\n",
    "X = train_df.values[:, 1:]\n",
    "y = train_df.values[:, 0]\n",
    "y = y.astype('int')\n",
    "\n",
    "rfr.fit(X, y)"
   ],
   "metadata": {
    "collapsed": false,
    "ExecuteTime": {
     "end_time": "2023-08-07T01:48:03.681773Z",
     "start_time": "2023-08-07T01:48:01.758478Z"
    }
   }
  },
  {
   "cell_type": "code",
   "execution_count": 32,
   "outputs": [
    {
     "data": {
      "text/plain": "array([0, 0, 0, 1, 1, 0, 1, 1, 1, 1, 0, 0, 0, 1, 1, 1, 0, 0, 0, 1, 0, 1,\n       0, 0, 1, 1, 0, 1, 1, 0, 0, 1, 0, 0, 0, 1, 0, 0, 0, 0, 0, 0, 0, 0,\n       1, 0, 0, 1, 0, 0, 0, 0, 1, 0, 1, 0, 0, 0, 0, 0, 0, 0, 1, 0, 1, 0,\n       1, 0, 1, 1, 1, 1, 0, 0, 0, 1, 0, 0, 0, 0, 0, 1, 1, 0, 0, 1, 1, 0,\n       1, 1, 0, 0, 1, 1, 0, 0, 1, 0, 0, 1, 0, 0, 0, 0, 1, 1, 1, 0, 0, 1,\n       0, 1, 0, 0, 1, 1, 1, 1, 0, 1, 1, 0, 0, 0, 0, 0, 0, 0, 0, 0, 1, 0,\n       0, 1, 0, 0, 0, 0, 0, 0, 0, 1, 0, 1, 1, 1, 0, 1, 1, 0, 0, 0, 1, 0,\n       1, 0, 0, 0, 1, 1, 0, 0, 1, 0, 0, 1, 0, 0, 0, 0, 0, 1, 0, 0, 1, 0,\n       1, 0, 0, 1, 0, 0, 0, 0, 0, 0, 1, 0, 0, 1, 0, 1, 1, 1, 0, 0, 0, 1,\n       1, 0, 0, 0, 0, 0, 0, 0, 1, 0, 1, 0, 0, 0, 0, 1, 0, 0, 0, 1, 0, 1,\n       0, 1, 1, 0, 0, 0, 0, 1, 0, 0, 0, 1, 1, 1, 0, 0, 1, 1, 1, 0, 0, 1,\n       1, 0, 1, 0, 1, 0, 0, 1, 0, 0, 1, 0, 0, 0, 1, 0, 0, 0, 0, 0, 0, 0,\n       0, 0, 0, 0])"
     },
     "execution_count": 32,
     "metadata": {},
     "output_type": "execute_result"
    }
   ],
   "source": [
    "test_df = split_cv\n",
    "X = test_df.values[:, 1:]\n",
    "y = test_df.values[:, 0]\n",
    "y = y.astype('int')\n",
    "predictions = rfr.predict(test_df.values[:, 1:])\n",
    "predictions"
   ],
   "metadata": {
    "collapsed": false,
    "ExecuteTime": {
     "end_time": "2023-08-07T01:48:03.851145Z",
     "start_time": "2023-08-07T01:48:03.681996Z"
    }
   }
  },
  {
   "cell_type": "code",
   "execution_count": 33,
   "outputs": [
    {
     "data": {
      "text/plain": "     PassengerId  Survived  Pclass  \\\n14            15         0       3   \n18            19         0       3   \n39            40         1       3   \n55            56         1       1   \n65            66         1       3   \n68            69         1       3   \n75            76         0       3   \n79            80         1       3   \n85            86         1       3   \n97            98         1       1   \n113          114         0       3   \n140          141         0       3   \n204          205         1       3   \n251          252         0       3   \n261          262         1       3   \n264          265         0       3   \n267          268         1       3   \n271          272         1       3   \n283          284         1       3   \n293          294         0       3   \n298          299         1       1   \n301          302         1       3   \n312          313         0       2   \n338          339         1       3   \n346          347         1       2   \n382          383         0       3   \n474          475         0       3   \n483          484         1       3   \n501          502         0       3   \n503          504         0       3   \n505          506         0       1   \n570          571         1       2   \n587          588         1       1   \n647          648         1       1   \n654          655         0       3   \n671          672         0       1   \n680          681         0       3   \n698          699         0       1   \n740          741         1       1   \n762          763         1       3   \n786          787         1       3   \n838          839         1       3   \n852          853         0       3   \n882          883         0       3   \n\n                                                  Name     Sex   Age  SibSp  \\\n14                Vestrom, Miss. Hulda Amanda Adolfina  female  14.0      0   \n18   Vander Planke, Mrs. Julius (Emelia Maria Vande...  female  31.0      1   \n39                         Nicola-Yarred, Miss. Jamila  female  14.0      1   \n55                                   Woolner, Mr. Hugh    male   NaN      0   \n65                            Moubarek, Master. Gerios    male   NaN      1   \n68                     Andersson, Miss. Erna Alexandra  female  17.0      4   \n75                             Moen, Mr. Sigurd Hansen    male  25.0      0   \n79                            Dowdell, Miss. Elizabeth  female  30.0      0   \n85   Backstrom, Mrs. Karl Alfred (Maria Mathilda Gu...  female  33.0      3   \n97                     Greenfield, Mr. William Bertram    male  23.0      0   \n113                            Jussila, Miss. Katriina  female  20.0      1   \n140                      Boulos, Mrs. Joseph (Sultana)  female   NaN      0   \n204                           Cohen, Mr. Gurshon \"Gus\"    male  18.0      0   \n251         Strom, Mrs. Wilhelm (Elna Matilda Persson)  female  29.0      1   \n261                  Asplund, Master. Edvin Rojj Felix    male   3.0      4   \n264                                 Henry, Miss. Delia  female   NaN      0   \n267                           Persson, Mr. Ernst Ulrik    male  25.0      1   \n271                       Tornquist, Mr. William Henry    male  25.0      0   \n283                         Dorking, Mr. Edward Arthur    male  19.0      0   \n293                                Haas, Miss. Aloisia  female  24.0      0   \n298                              Saalfeld, Mr. Adolphe    male   NaN      0   \n301                                 McCoy, Mr. Bernard    male   NaN      2   \n312              Lahtinen, Mrs. William (Anna Sylfven)  female  26.0      1   \n338                              Dahl, Mr. Karl Edwart    male  45.0      0   \n346                          Smith, Miss. Marion Elsie  female  40.0      0   \n382                                 Tikkanen, Mr. Juho    male  32.0      0   \n474                        Strandberg, Miss. Ida Sofia  female  22.0      0   \n483                             Turkula, Mrs. (Hedwig)  female  63.0      0   \n501                                Canavan, Miss. Mary  female  21.0      0   \n503                     Laitinen, Miss. Kristina Sofia  female  37.0      0   \n505         Penasco y Castellana, Mr. Victor de Satode    male  18.0      1   \n570                                 Harris, Mr. George    male  62.0      0   \n587                   Frolicher-Stehli, Mr. Maxmillian    male  60.0      1   \n647                Simonius-Blumer, Col. Oberst Alfons    male  56.0      0   \n654                       Hegarty, Miss. Hanora \"Nora\"  female  18.0      0   \n671                             Davidson, Mr. Thornton    male  31.0      1   \n680                                Peters, Miss. Katie  female   NaN      0   \n698                           Thayer, Mr. John Borland    male  49.0      1   \n740                        Hawksford, Mr. Walter James    male   NaN      0   \n762                              Barah, Mr. Hanna Assi    male  20.0      0   \n786                          Sjoblom, Miss. Anna Sofia  female  18.0      0   \n838                                    Chip, Mr. Chang    male  32.0      0   \n852                            Boulos, Miss. Nourelain  female   9.0      1   \n882                       Dahlberg, Miss. Gerda Ulrika  female  22.0      0   \n\n     Parch             Ticket      Fare    Cabin Embarked  \n14       0             350406    7.8542      NaN        S  \n18       0             345763   18.0000      NaN        S  \n39       0               2651   11.2417      NaN        C  \n55       0              19947   35.5000      C52        S  \n65       1               2661   15.2458      NaN        C  \n68       2            3101281    7.9250      NaN        S  \n75       0             348123    7.6500    F G73        S  \n79       0             364516   12.4750      NaN        S  \n85       0            3101278   15.8500      NaN        S  \n97       1           PC 17759   63.3583  D10 D12        C  \n113      0               4136    9.8250      NaN        S  \n140      2               2678   15.2458      NaN        C  \n204      0           A/5 3540    8.0500      NaN        S  \n251      1             347054   10.4625       G6        S  \n261      2             347077   31.3875      NaN        S  \n264      0             382649    7.7500      NaN        Q  \n267      0             347083    7.7750      NaN        S  \n271      0               LINE    0.0000      NaN        S  \n283      0         A/5. 10482    8.0500      NaN        S  \n293      0             349236    8.8500      NaN        S  \n298      0              19988   30.5000     C106        S  \n301      0             367226   23.2500      NaN        Q  \n312      1             250651   26.0000      NaN        S  \n338      0               7598    8.0500      NaN        S  \n346      0              31418   13.0000      NaN        S  \n382      0  STON/O 2. 3101293    7.9250      NaN        S  \n474      0               7553    9.8375      NaN        S  \n483      0               4134    9.5875      NaN        S  \n501      0             364846    7.7500      NaN        Q  \n503      0               4135    9.5875      NaN        S  \n505      0           PC 17758  108.9000      C65        C  \n570      0        S.W./PP 752   10.5000      NaN        S  \n587      1              13567   79.2000      B41        C  \n647      0              13213   35.5000      A26        C  \n654      0             365226    6.7500      NaN        Q  \n671      0         F.C. 12750   52.0000      B71        S  \n680      0             330935    8.1375      NaN        Q  \n698      1              17421  110.8833      C68        C  \n740      0              16988   30.0000      D45        S  \n762      0               2663    7.2292      NaN        C  \n786      0            3101265    7.4958      NaN        S  \n838      0               1601   56.4958      NaN        S  \n852      1               2678   15.2458      NaN        C  \n882      0               7552   10.5167      NaN        S  ",
      "text/html": "<div>\n<style scoped>\n    .dataframe tbody tr th:only-of-type {\n        vertical-align: middle;\n    }\n\n    .dataframe tbody tr th {\n        vertical-align: top;\n    }\n\n    .dataframe thead th {\n        text-align: right;\n    }\n</style>\n<table border=\"1\" class=\"dataframe\">\n  <thead>\n    <tr style=\"text-align: right;\">\n      <th></th>\n      <th>PassengerId</th>\n      <th>Survived</th>\n      <th>Pclass</th>\n      <th>Name</th>\n      <th>Sex</th>\n      <th>Age</th>\n      <th>SibSp</th>\n      <th>Parch</th>\n      <th>Ticket</th>\n      <th>Fare</th>\n      <th>Cabin</th>\n      <th>Embarked</th>\n    </tr>\n  </thead>\n  <tbody>\n    <tr>\n      <th>14</th>\n      <td>15</td>\n      <td>0</td>\n      <td>3</td>\n      <td>Vestrom, Miss. Hulda Amanda Adolfina</td>\n      <td>female</td>\n      <td>14.0</td>\n      <td>0</td>\n      <td>0</td>\n      <td>350406</td>\n      <td>7.8542</td>\n      <td>NaN</td>\n      <td>S</td>\n    </tr>\n    <tr>\n      <th>18</th>\n      <td>19</td>\n      <td>0</td>\n      <td>3</td>\n      <td>Vander Planke, Mrs. Julius (Emelia Maria Vande...</td>\n      <td>female</td>\n      <td>31.0</td>\n      <td>1</td>\n      <td>0</td>\n      <td>345763</td>\n      <td>18.0000</td>\n      <td>NaN</td>\n      <td>S</td>\n    </tr>\n    <tr>\n      <th>39</th>\n      <td>40</td>\n      <td>1</td>\n      <td>3</td>\n      <td>Nicola-Yarred, Miss. Jamila</td>\n      <td>female</td>\n      <td>14.0</td>\n      <td>1</td>\n      <td>0</td>\n      <td>2651</td>\n      <td>11.2417</td>\n      <td>NaN</td>\n      <td>C</td>\n    </tr>\n    <tr>\n      <th>55</th>\n      <td>56</td>\n      <td>1</td>\n      <td>1</td>\n      <td>Woolner, Mr. Hugh</td>\n      <td>male</td>\n      <td>NaN</td>\n      <td>0</td>\n      <td>0</td>\n      <td>19947</td>\n      <td>35.5000</td>\n      <td>C52</td>\n      <td>S</td>\n    </tr>\n    <tr>\n      <th>65</th>\n      <td>66</td>\n      <td>1</td>\n      <td>3</td>\n      <td>Moubarek, Master. Gerios</td>\n      <td>male</td>\n      <td>NaN</td>\n      <td>1</td>\n      <td>1</td>\n      <td>2661</td>\n      <td>15.2458</td>\n      <td>NaN</td>\n      <td>C</td>\n    </tr>\n    <tr>\n      <th>68</th>\n      <td>69</td>\n      <td>1</td>\n      <td>3</td>\n      <td>Andersson, Miss. Erna Alexandra</td>\n      <td>female</td>\n      <td>17.0</td>\n      <td>4</td>\n      <td>2</td>\n      <td>3101281</td>\n      <td>7.9250</td>\n      <td>NaN</td>\n      <td>S</td>\n    </tr>\n    <tr>\n      <th>75</th>\n      <td>76</td>\n      <td>0</td>\n      <td>3</td>\n      <td>Moen, Mr. Sigurd Hansen</td>\n      <td>male</td>\n      <td>25.0</td>\n      <td>0</td>\n      <td>0</td>\n      <td>348123</td>\n      <td>7.6500</td>\n      <td>F G73</td>\n      <td>S</td>\n    </tr>\n    <tr>\n      <th>79</th>\n      <td>80</td>\n      <td>1</td>\n      <td>3</td>\n      <td>Dowdell, Miss. Elizabeth</td>\n      <td>female</td>\n      <td>30.0</td>\n      <td>0</td>\n      <td>0</td>\n      <td>364516</td>\n      <td>12.4750</td>\n      <td>NaN</td>\n      <td>S</td>\n    </tr>\n    <tr>\n      <th>85</th>\n      <td>86</td>\n      <td>1</td>\n      <td>3</td>\n      <td>Backstrom, Mrs. Karl Alfred (Maria Mathilda Gu...</td>\n      <td>female</td>\n      <td>33.0</td>\n      <td>3</td>\n      <td>0</td>\n      <td>3101278</td>\n      <td>15.8500</td>\n      <td>NaN</td>\n      <td>S</td>\n    </tr>\n    <tr>\n      <th>97</th>\n      <td>98</td>\n      <td>1</td>\n      <td>1</td>\n      <td>Greenfield, Mr. William Bertram</td>\n      <td>male</td>\n      <td>23.0</td>\n      <td>0</td>\n      <td>1</td>\n      <td>PC 17759</td>\n      <td>63.3583</td>\n      <td>D10 D12</td>\n      <td>C</td>\n    </tr>\n    <tr>\n      <th>113</th>\n      <td>114</td>\n      <td>0</td>\n      <td>3</td>\n      <td>Jussila, Miss. Katriina</td>\n      <td>female</td>\n      <td>20.0</td>\n      <td>1</td>\n      <td>0</td>\n      <td>4136</td>\n      <td>9.8250</td>\n      <td>NaN</td>\n      <td>S</td>\n    </tr>\n    <tr>\n      <th>140</th>\n      <td>141</td>\n      <td>0</td>\n      <td>3</td>\n      <td>Boulos, Mrs. Joseph (Sultana)</td>\n      <td>female</td>\n      <td>NaN</td>\n      <td>0</td>\n      <td>2</td>\n      <td>2678</td>\n      <td>15.2458</td>\n      <td>NaN</td>\n      <td>C</td>\n    </tr>\n    <tr>\n      <th>204</th>\n      <td>205</td>\n      <td>1</td>\n      <td>3</td>\n      <td>Cohen, Mr. Gurshon \"Gus\"</td>\n      <td>male</td>\n      <td>18.0</td>\n      <td>0</td>\n      <td>0</td>\n      <td>A/5 3540</td>\n      <td>8.0500</td>\n      <td>NaN</td>\n      <td>S</td>\n    </tr>\n    <tr>\n      <th>251</th>\n      <td>252</td>\n      <td>0</td>\n      <td>3</td>\n      <td>Strom, Mrs. Wilhelm (Elna Matilda Persson)</td>\n      <td>female</td>\n      <td>29.0</td>\n      <td>1</td>\n      <td>1</td>\n      <td>347054</td>\n      <td>10.4625</td>\n      <td>G6</td>\n      <td>S</td>\n    </tr>\n    <tr>\n      <th>261</th>\n      <td>262</td>\n      <td>1</td>\n      <td>3</td>\n      <td>Asplund, Master. Edvin Rojj Felix</td>\n      <td>male</td>\n      <td>3.0</td>\n      <td>4</td>\n      <td>2</td>\n      <td>347077</td>\n      <td>31.3875</td>\n      <td>NaN</td>\n      <td>S</td>\n    </tr>\n    <tr>\n      <th>264</th>\n      <td>265</td>\n      <td>0</td>\n      <td>3</td>\n      <td>Henry, Miss. Delia</td>\n      <td>female</td>\n      <td>NaN</td>\n      <td>0</td>\n      <td>0</td>\n      <td>382649</td>\n      <td>7.7500</td>\n      <td>NaN</td>\n      <td>Q</td>\n    </tr>\n    <tr>\n      <th>267</th>\n      <td>268</td>\n      <td>1</td>\n      <td>3</td>\n      <td>Persson, Mr. Ernst Ulrik</td>\n      <td>male</td>\n      <td>25.0</td>\n      <td>1</td>\n      <td>0</td>\n      <td>347083</td>\n      <td>7.7750</td>\n      <td>NaN</td>\n      <td>S</td>\n    </tr>\n    <tr>\n      <th>271</th>\n      <td>272</td>\n      <td>1</td>\n      <td>3</td>\n      <td>Tornquist, Mr. William Henry</td>\n      <td>male</td>\n      <td>25.0</td>\n      <td>0</td>\n      <td>0</td>\n      <td>LINE</td>\n      <td>0.0000</td>\n      <td>NaN</td>\n      <td>S</td>\n    </tr>\n    <tr>\n      <th>283</th>\n      <td>284</td>\n      <td>1</td>\n      <td>3</td>\n      <td>Dorking, Mr. Edward Arthur</td>\n      <td>male</td>\n      <td>19.0</td>\n      <td>0</td>\n      <td>0</td>\n      <td>A/5. 10482</td>\n      <td>8.0500</td>\n      <td>NaN</td>\n      <td>S</td>\n    </tr>\n    <tr>\n      <th>293</th>\n      <td>294</td>\n      <td>0</td>\n      <td>3</td>\n      <td>Haas, Miss. Aloisia</td>\n      <td>female</td>\n      <td>24.0</td>\n      <td>0</td>\n      <td>0</td>\n      <td>349236</td>\n      <td>8.8500</td>\n      <td>NaN</td>\n      <td>S</td>\n    </tr>\n    <tr>\n      <th>298</th>\n      <td>299</td>\n      <td>1</td>\n      <td>1</td>\n      <td>Saalfeld, Mr. Adolphe</td>\n      <td>male</td>\n      <td>NaN</td>\n      <td>0</td>\n      <td>0</td>\n      <td>19988</td>\n      <td>30.5000</td>\n      <td>C106</td>\n      <td>S</td>\n    </tr>\n    <tr>\n      <th>301</th>\n      <td>302</td>\n      <td>1</td>\n      <td>3</td>\n      <td>McCoy, Mr. Bernard</td>\n      <td>male</td>\n      <td>NaN</td>\n      <td>2</td>\n      <td>0</td>\n      <td>367226</td>\n      <td>23.2500</td>\n      <td>NaN</td>\n      <td>Q</td>\n    </tr>\n    <tr>\n      <th>312</th>\n      <td>313</td>\n      <td>0</td>\n      <td>2</td>\n      <td>Lahtinen, Mrs. William (Anna Sylfven)</td>\n      <td>female</td>\n      <td>26.0</td>\n      <td>1</td>\n      <td>1</td>\n      <td>250651</td>\n      <td>26.0000</td>\n      <td>NaN</td>\n      <td>S</td>\n    </tr>\n    <tr>\n      <th>338</th>\n      <td>339</td>\n      <td>1</td>\n      <td>3</td>\n      <td>Dahl, Mr. Karl Edwart</td>\n      <td>male</td>\n      <td>45.0</td>\n      <td>0</td>\n      <td>0</td>\n      <td>7598</td>\n      <td>8.0500</td>\n      <td>NaN</td>\n      <td>S</td>\n    </tr>\n    <tr>\n      <th>346</th>\n      <td>347</td>\n      <td>1</td>\n      <td>2</td>\n      <td>Smith, Miss. Marion Elsie</td>\n      <td>female</td>\n      <td>40.0</td>\n      <td>0</td>\n      <td>0</td>\n      <td>31418</td>\n      <td>13.0000</td>\n      <td>NaN</td>\n      <td>S</td>\n    </tr>\n    <tr>\n      <th>382</th>\n      <td>383</td>\n      <td>0</td>\n      <td>3</td>\n      <td>Tikkanen, Mr. Juho</td>\n      <td>male</td>\n      <td>32.0</td>\n      <td>0</td>\n      <td>0</td>\n      <td>STON/O 2. 3101293</td>\n      <td>7.9250</td>\n      <td>NaN</td>\n      <td>S</td>\n    </tr>\n    <tr>\n      <th>474</th>\n      <td>475</td>\n      <td>0</td>\n      <td>3</td>\n      <td>Strandberg, Miss. Ida Sofia</td>\n      <td>female</td>\n      <td>22.0</td>\n      <td>0</td>\n      <td>0</td>\n      <td>7553</td>\n      <td>9.8375</td>\n      <td>NaN</td>\n      <td>S</td>\n    </tr>\n    <tr>\n      <th>483</th>\n      <td>484</td>\n      <td>1</td>\n      <td>3</td>\n      <td>Turkula, Mrs. (Hedwig)</td>\n      <td>female</td>\n      <td>63.0</td>\n      <td>0</td>\n      <td>0</td>\n      <td>4134</td>\n      <td>9.5875</td>\n      <td>NaN</td>\n      <td>S</td>\n    </tr>\n    <tr>\n      <th>501</th>\n      <td>502</td>\n      <td>0</td>\n      <td>3</td>\n      <td>Canavan, Miss. Mary</td>\n      <td>female</td>\n      <td>21.0</td>\n      <td>0</td>\n      <td>0</td>\n      <td>364846</td>\n      <td>7.7500</td>\n      <td>NaN</td>\n      <td>Q</td>\n    </tr>\n    <tr>\n      <th>503</th>\n      <td>504</td>\n      <td>0</td>\n      <td>3</td>\n      <td>Laitinen, Miss. Kristina Sofia</td>\n      <td>female</td>\n      <td>37.0</td>\n      <td>0</td>\n      <td>0</td>\n      <td>4135</td>\n      <td>9.5875</td>\n      <td>NaN</td>\n      <td>S</td>\n    </tr>\n    <tr>\n      <th>505</th>\n      <td>506</td>\n      <td>0</td>\n      <td>1</td>\n      <td>Penasco y Castellana, Mr. Victor de Satode</td>\n      <td>male</td>\n      <td>18.0</td>\n      <td>1</td>\n      <td>0</td>\n      <td>PC 17758</td>\n      <td>108.9000</td>\n      <td>C65</td>\n      <td>C</td>\n    </tr>\n    <tr>\n      <th>570</th>\n      <td>571</td>\n      <td>1</td>\n      <td>2</td>\n      <td>Harris, Mr. George</td>\n      <td>male</td>\n      <td>62.0</td>\n      <td>0</td>\n      <td>0</td>\n      <td>S.W./PP 752</td>\n      <td>10.5000</td>\n      <td>NaN</td>\n      <td>S</td>\n    </tr>\n    <tr>\n      <th>587</th>\n      <td>588</td>\n      <td>1</td>\n      <td>1</td>\n      <td>Frolicher-Stehli, Mr. Maxmillian</td>\n      <td>male</td>\n      <td>60.0</td>\n      <td>1</td>\n      <td>1</td>\n      <td>13567</td>\n      <td>79.2000</td>\n      <td>B41</td>\n      <td>C</td>\n    </tr>\n    <tr>\n      <th>647</th>\n      <td>648</td>\n      <td>1</td>\n      <td>1</td>\n      <td>Simonius-Blumer, Col. Oberst Alfons</td>\n      <td>male</td>\n      <td>56.0</td>\n      <td>0</td>\n      <td>0</td>\n      <td>13213</td>\n      <td>35.5000</td>\n      <td>A26</td>\n      <td>C</td>\n    </tr>\n    <tr>\n      <th>654</th>\n      <td>655</td>\n      <td>0</td>\n      <td>3</td>\n      <td>Hegarty, Miss. Hanora \"Nora\"</td>\n      <td>female</td>\n      <td>18.0</td>\n      <td>0</td>\n      <td>0</td>\n      <td>365226</td>\n      <td>6.7500</td>\n      <td>NaN</td>\n      <td>Q</td>\n    </tr>\n    <tr>\n      <th>671</th>\n      <td>672</td>\n      <td>0</td>\n      <td>1</td>\n      <td>Davidson, Mr. Thornton</td>\n      <td>male</td>\n      <td>31.0</td>\n      <td>1</td>\n      <td>0</td>\n      <td>F.C. 12750</td>\n      <td>52.0000</td>\n      <td>B71</td>\n      <td>S</td>\n    </tr>\n    <tr>\n      <th>680</th>\n      <td>681</td>\n      <td>0</td>\n      <td>3</td>\n      <td>Peters, Miss. Katie</td>\n      <td>female</td>\n      <td>NaN</td>\n      <td>0</td>\n      <td>0</td>\n      <td>330935</td>\n      <td>8.1375</td>\n      <td>NaN</td>\n      <td>Q</td>\n    </tr>\n    <tr>\n      <th>698</th>\n      <td>699</td>\n      <td>0</td>\n      <td>1</td>\n      <td>Thayer, Mr. John Borland</td>\n      <td>male</td>\n      <td>49.0</td>\n      <td>1</td>\n      <td>1</td>\n      <td>17421</td>\n      <td>110.8833</td>\n      <td>C68</td>\n      <td>C</td>\n    </tr>\n    <tr>\n      <th>740</th>\n      <td>741</td>\n      <td>1</td>\n      <td>1</td>\n      <td>Hawksford, Mr. Walter James</td>\n      <td>male</td>\n      <td>NaN</td>\n      <td>0</td>\n      <td>0</td>\n      <td>16988</td>\n      <td>30.0000</td>\n      <td>D45</td>\n      <td>S</td>\n    </tr>\n    <tr>\n      <th>762</th>\n      <td>763</td>\n      <td>1</td>\n      <td>3</td>\n      <td>Barah, Mr. Hanna Assi</td>\n      <td>male</td>\n      <td>20.0</td>\n      <td>0</td>\n      <td>0</td>\n      <td>2663</td>\n      <td>7.2292</td>\n      <td>NaN</td>\n      <td>C</td>\n    </tr>\n    <tr>\n      <th>786</th>\n      <td>787</td>\n      <td>1</td>\n      <td>3</td>\n      <td>Sjoblom, Miss. Anna Sofia</td>\n      <td>female</td>\n      <td>18.0</td>\n      <td>0</td>\n      <td>0</td>\n      <td>3101265</td>\n      <td>7.4958</td>\n      <td>NaN</td>\n      <td>S</td>\n    </tr>\n    <tr>\n      <th>838</th>\n      <td>839</td>\n      <td>1</td>\n      <td>3</td>\n      <td>Chip, Mr. Chang</td>\n      <td>male</td>\n      <td>32.0</td>\n      <td>0</td>\n      <td>0</td>\n      <td>1601</td>\n      <td>56.4958</td>\n      <td>NaN</td>\n      <td>S</td>\n    </tr>\n    <tr>\n      <th>852</th>\n      <td>853</td>\n      <td>0</td>\n      <td>3</td>\n      <td>Boulos, Miss. Nourelain</td>\n      <td>female</td>\n      <td>9.0</td>\n      <td>1</td>\n      <td>1</td>\n      <td>2678</td>\n      <td>15.2458</td>\n      <td>NaN</td>\n      <td>C</td>\n    </tr>\n    <tr>\n      <th>882</th>\n      <td>883</td>\n      <td>0</td>\n      <td>3</td>\n      <td>Dahlberg, Miss. Gerda Ulrika</td>\n      <td>female</td>\n      <td>22.0</td>\n      <td>0</td>\n      <td>0</td>\n      <td>7552</td>\n      <td>10.5167</td>\n      <td>NaN</td>\n      <td>S</td>\n    </tr>\n  </tbody>\n</table>\n</div>"
     },
     "execution_count": 33,
     "metadata": {},
     "output_type": "execute_result"
    }
   ],
   "source": [
    "origin_data_train = pd.read_csv(\"train.csv\")\n",
    "bad_cases = origin_data_train.loc[\n",
    "    origin_data_train['PassengerId'].isin(split_cv[predictions != test_df.values[:, 0]]['PassengerId'].values)]\n",
    "\n",
    "bad_cases"
   ],
   "metadata": {
    "collapsed": false,
    "ExecuteTime": {
     "end_time": "2023-08-07T01:48:03.865544Z",
     "start_time": "2023-08-07T01:48:03.851494Z"
    }
   }
  },
  {
   "cell_type": "code",
   "execution_count": 34,
   "outputs": [
    {
     "data": {
      "text/plain": "array([299, 347,  15, 475,  56, 588, 741,  98, 302, 313, 484, 506, 252,\n       839, 268, 502, 114, 655, 294,  80, 504, 571, 265, 763,  86,  76,\n       141, 672, 205,  40, 284,  19, 648, 853,  69, 272, 883, 383,  66,\n       681, 699, 339, 262, 787])"
     },
     "execution_count": 34,
     "metadata": {},
     "output_type": "execute_result"
    }
   ],
   "source": [
    "split_cv[predictions != test_df.values[:, 0]]['PassengerId'].values"
   ],
   "metadata": {
    "collapsed": false,
    "ExecuteTime": {
     "end_time": "2023-08-07T01:48:03.868875Z",
     "start_time": "2023-08-07T01:48:03.865259Z"
    }
   }
  },
  {
   "cell_type": "code",
   "execution_count": 35,
   "outputs": [],
   "source": [
    "df3 = origin_data_train['PassengerId'].isin(split_cv[predictions != test_df.values[:, 0]]['PassengerId'].values)"
   ],
   "metadata": {
    "collapsed": false,
    "ExecuteTime": {
     "end_time": "2023-08-07T01:48:03.880850Z",
     "start_time": "2023-08-07T01:48:03.868415Z"
    }
   }
  },
  {
   "cell_type": "code",
   "execution_count": 36,
   "outputs": [
    {
     "data": {
      "text/plain": "False    847\nTrue      44\nName: PassengerId, dtype: int64"
     },
     "execution_count": 36,
     "metadata": {},
     "output_type": "execute_result"
    }
   ],
   "source": [
    "df3.value_counts()"
   ],
   "metadata": {
    "collapsed": false,
    "ExecuteTime": {
     "end_time": "2023-08-07T01:48:03.881150Z",
     "start_time": "2023-08-07T01:48:03.871181Z"
    }
   }
  },
  {
   "cell_type": "code",
   "execution_count": 36,
   "outputs": [],
   "source": [],
   "metadata": {
    "collapsed": false,
    "ExecuteTime": {
     "end_time": "2023-08-07T01:48:03.881273Z",
     "start_time": "2023-08-07T01:48:03.873507Z"
    }
   }
  }
 ],
 "metadata": {
  "kernelspec": {
   "display_name": "Python 3",
   "language": "python",
   "name": "python3"
  },
  "language_info": {
   "codemirror_mode": {
    "name": "ipython",
    "version": 2
   },
   "file_extension": ".py",
   "mimetype": "text/x-python",
   "name": "python",
   "nbconvert_exporter": "python",
   "pygments_lexer": "ipython2",
   "version": "2.7.6"
  }
 },
 "nbformat": 4,
 "nbformat_minor": 0
}
