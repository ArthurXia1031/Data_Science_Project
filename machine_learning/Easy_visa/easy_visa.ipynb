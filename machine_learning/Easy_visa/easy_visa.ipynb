{
 "cells": [
  {
   "cell_type": "markdown",
   "source": [
    "# Easy Visa"
   ],
   "metadata": {
    "collapsed": false
   },
   "id": "844c2a4109da6169"
  },
  {
   "cell_type": "markdown",
   "source": [
    "### Importing Libraries"
   ],
   "metadata": {
    "collapsed": false
   },
   "id": "14937e6ce146048e"
  },
  {
   "cell_type": "code",
   "execution_count": 2,
   "id": "initial_id",
   "metadata": {
    "collapsed": true,
    "ExecuteTime": {
     "end_time": "2023-08-29T21:33:43.236405Z",
     "start_time": "2023-08-29T21:33:42.192954Z"
    }
   },
   "outputs": [],
   "source": [
    "import warnings\n",
    "\n",
    "warnings.filterwarnings('ignore')\n",
    "\n",
    "# data manipulation libraries\n",
    "import pandas as pd\n",
    "import numpy as np\n",
    "import matplotlib.pyplot as plt\n",
    "import seaborn as sns\n",
    "\n",
    "# modeling libraries\n",
    "from sklearn.model_selection import train_test_split, GridSearchCV\n",
    "\n",
    "from xgboost import XGBClassifier\n",
    "from sklearn.tree import DecisionTreeClassifier\n",
    "from sklearn.ensemble import RandomForestClassifier, AdaBoostClassifier, GradientBoostingClassifier\n",
    "\n",
    "from sklearn.metrics import accuracy_score, confusion_matrix, classification_report, f1_score, roc_auc_score, roc_curve, \\\n",
    "    auc, precision_recall_curve, recall_score, precision_score"
   ]
  },
  {
   "cell_type": "markdown",
   "source": [
    "### Importing Data"
   ],
   "metadata": {
    "collapsed": false
   },
   "id": "1e592174bc31d17c"
  },
  {
   "cell_type": "code",
   "execution_count": 8,
   "outputs": [],
   "source": [
    "# original data\n",
    "visa = pd.read_csv('EasyVisa.csv')\n",
    "\n",
    "# copying the data to avoid any changes in the original data\n",
    "data = visa.copy()"
   ],
   "metadata": {
    "collapsed": false,
    "ExecuteTime": {
     "end_time": "2023-08-29T21:36:18.009576Z",
     "start_time": "2023-08-29T21:36:17.976314Z"
    }
   },
   "id": "a65f11a85c527667"
  },
  {
   "cell_type": "markdown",
   "source": [
    "### Data Information"
   ],
   "metadata": {
    "collapsed": false
   },
   "id": "23f0fccb95037c5d"
  },
  {
   "cell_type": "code",
   "execution_count": 23,
   "outputs": [
    {
     "data": {
      "text/plain": "         case_id continent education_of_employee has_job_experience  \\\n0         EZYV01      Asia           High School                  N   \n1         EZYV02      Asia              Master's                  Y   \n2         EZYV03      Asia            Bachelor's                  N   \n3         EZYV04      Asia            Bachelor's                  N   \n4         EZYV05    Africa              Master's                  Y   \n...          ...       ...                   ...                ...   \n25475  EZYV25476      Asia            Bachelor's                  Y   \n25476  EZYV25477      Asia           High School                  Y   \n25477  EZYV25478      Asia              Master's                  Y   \n25478  EZYV25479      Asia              Master's                  Y   \n25479  EZYV25480      Asia            Bachelor's                  Y   \n\n      requires_job_training  no_of_employees  yr_of_estab  \\\n0                         N            14513         2007   \n1                         N             2412         2002   \n2                         Y            44444         2008   \n3                         N               98         1897   \n4                         N             1082         2005   \n...                     ...              ...          ...   \n25475                     Y             2601         2008   \n25476                     N             3274         2006   \n25477                     N             1121         1910   \n25478                     Y             1918         1887   \n25479                     N             3195         1960   \n\n      region_of_employment  prevailing_wage unit_of_wage full_time_position  \\\n0                     West         592.2029         Hour                  Y   \n1                Northeast       83425.6500         Year                  Y   \n2                     West      122996.8600         Year                  Y   \n3                     West       83434.0300         Year                  Y   \n4                    South      149907.3900         Year                  Y   \n...                    ...              ...          ...                ...   \n25475                South       77092.5700         Year                  Y   \n25476            Northeast      279174.7900         Year                  Y   \n25477                South      146298.8500         Year                  N   \n25478                 West       86154.7700         Year                  Y   \n25479              Midwest       70876.9100         Year                  Y   \n\n      case_status  \n0          Denied  \n1       Certified  \n2          Denied  \n3          Denied  \n4       Certified  \n...           ...  \n25475   Certified  \n25476   Certified  \n25477   Certified  \n25478   Certified  \n25479   Certified  \n\n[25480 rows x 12 columns]",
      "text/html": "<div>\n<style scoped>\n    .dataframe tbody tr th:only-of-type {\n        vertical-align: middle;\n    }\n\n    .dataframe tbody tr th {\n        vertical-align: top;\n    }\n\n    .dataframe thead th {\n        text-align: right;\n    }\n</style>\n<table border=\"1\" class=\"dataframe\">\n  <thead>\n    <tr style=\"text-align: right;\">\n      <th></th>\n      <th>case_id</th>\n      <th>continent</th>\n      <th>education_of_employee</th>\n      <th>has_job_experience</th>\n      <th>requires_job_training</th>\n      <th>no_of_employees</th>\n      <th>yr_of_estab</th>\n      <th>region_of_employment</th>\n      <th>prevailing_wage</th>\n      <th>unit_of_wage</th>\n      <th>full_time_position</th>\n      <th>case_status</th>\n    </tr>\n  </thead>\n  <tbody>\n    <tr>\n      <th>0</th>\n      <td>EZYV01</td>\n      <td>Asia</td>\n      <td>High School</td>\n      <td>N</td>\n      <td>N</td>\n      <td>14513</td>\n      <td>2007</td>\n      <td>West</td>\n      <td>592.2029</td>\n      <td>Hour</td>\n      <td>Y</td>\n      <td>Denied</td>\n    </tr>\n    <tr>\n      <th>1</th>\n      <td>EZYV02</td>\n      <td>Asia</td>\n      <td>Master's</td>\n      <td>Y</td>\n      <td>N</td>\n      <td>2412</td>\n      <td>2002</td>\n      <td>Northeast</td>\n      <td>83425.6500</td>\n      <td>Year</td>\n      <td>Y</td>\n      <td>Certified</td>\n    </tr>\n    <tr>\n      <th>2</th>\n      <td>EZYV03</td>\n      <td>Asia</td>\n      <td>Bachelor's</td>\n      <td>N</td>\n      <td>Y</td>\n      <td>44444</td>\n      <td>2008</td>\n      <td>West</td>\n      <td>122996.8600</td>\n      <td>Year</td>\n      <td>Y</td>\n      <td>Denied</td>\n    </tr>\n    <tr>\n      <th>3</th>\n      <td>EZYV04</td>\n      <td>Asia</td>\n      <td>Bachelor's</td>\n      <td>N</td>\n      <td>N</td>\n      <td>98</td>\n      <td>1897</td>\n      <td>West</td>\n      <td>83434.0300</td>\n      <td>Year</td>\n      <td>Y</td>\n      <td>Denied</td>\n    </tr>\n    <tr>\n      <th>4</th>\n      <td>EZYV05</td>\n      <td>Africa</td>\n      <td>Master's</td>\n      <td>Y</td>\n      <td>N</td>\n      <td>1082</td>\n      <td>2005</td>\n      <td>South</td>\n      <td>149907.3900</td>\n      <td>Year</td>\n      <td>Y</td>\n      <td>Certified</td>\n    </tr>\n    <tr>\n      <th>...</th>\n      <td>...</td>\n      <td>...</td>\n      <td>...</td>\n      <td>...</td>\n      <td>...</td>\n      <td>...</td>\n      <td>...</td>\n      <td>...</td>\n      <td>...</td>\n      <td>...</td>\n      <td>...</td>\n      <td>...</td>\n    </tr>\n    <tr>\n      <th>25475</th>\n      <td>EZYV25476</td>\n      <td>Asia</td>\n      <td>Bachelor's</td>\n      <td>Y</td>\n      <td>Y</td>\n      <td>2601</td>\n      <td>2008</td>\n      <td>South</td>\n      <td>77092.5700</td>\n      <td>Year</td>\n      <td>Y</td>\n      <td>Certified</td>\n    </tr>\n    <tr>\n      <th>25476</th>\n      <td>EZYV25477</td>\n      <td>Asia</td>\n      <td>High School</td>\n      <td>Y</td>\n      <td>N</td>\n      <td>3274</td>\n      <td>2006</td>\n      <td>Northeast</td>\n      <td>279174.7900</td>\n      <td>Year</td>\n      <td>Y</td>\n      <td>Certified</td>\n    </tr>\n    <tr>\n      <th>25477</th>\n      <td>EZYV25478</td>\n      <td>Asia</td>\n      <td>Master's</td>\n      <td>Y</td>\n      <td>N</td>\n      <td>1121</td>\n      <td>1910</td>\n      <td>South</td>\n      <td>146298.8500</td>\n      <td>Year</td>\n      <td>N</td>\n      <td>Certified</td>\n    </tr>\n    <tr>\n      <th>25478</th>\n      <td>EZYV25479</td>\n      <td>Asia</td>\n      <td>Master's</td>\n      <td>Y</td>\n      <td>Y</td>\n      <td>1918</td>\n      <td>1887</td>\n      <td>West</td>\n      <td>86154.7700</td>\n      <td>Year</td>\n      <td>Y</td>\n      <td>Certified</td>\n    </tr>\n    <tr>\n      <th>25479</th>\n      <td>EZYV25480</td>\n      <td>Asia</td>\n      <td>Bachelor's</td>\n      <td>Y</td>\n      <td>N</td>\n      <td>3195</td>\n      <td>1960</td>\n      <td>Midwest</td>\n      <td>70876.9100</td>\n      <td>Year</td>\n      <td>Y</td>\n      <td>Certified</td>\n    </tr>\n  </tbody>\n</table>\n<p>25480 rows × 12 columns</p>\n</div>"
     },
     "execution_count": 23,
     "metadata": {},
     "output_type": "execute_result"
    }
   ],
   "source": [
    "data"
   ],
   "metadata": {
    "collapsed": false,
    "ExecuteTime": {
     "end_time": "2023-08-29T21:46:44.746990Z",
     "start_time": "2023-08-29T21:46:44.730666Z"
    }
   },
   "id": "8e282414725cb969"
  },
  {
   "cell_type": "code",
   "execution_count": 24,
   "outputs": [
    {
     "name": "stdout",
     "output_type": "stream",
     "text": [
      "<class 'pandas.core.frame.DataFrame'>\n",
      "RangeIndex: 25480 entries, 0 to 25479\n",
      "Data columns (total 12 columns):\n",
      " #   Column                 Non-Null Count  Dtype  \n",
      "---  ------                 --------------  -----  \n",
      " 0   case_id                25480 non-null  object \n",
      " 1   continent              25480 non-null  object \n",
      " 2   education_of_employee  25480 non-null  object \n",
      " 3   has_job_experience     25480 non-null  object \n",
      " 4   requires_job_training  25480 non-null  object \n",
      " 5   no_of_employees        25480 non-null  int64  \n",
      " 6   yr_of_estab            25480 non-null  int64  \n",
      " 7   region_of_employment   25480 non-null  object \n",
      " 8   prevailing_wage        25480 non-null  float64\n",
      " 9   unit_of_wage           25480 non-null  object \n",
      " 10  full_time_position     25480 non-null  object \n",
      " 11  case_status            25480 non-null  object \n",
      "dtypes: float64(1), int64(2), object(9)\n",
      "memory usage: 2.3+ MB\n"
     ]
    }
   ],
   "source": [
    "data.info()\n",
    "# data is full and there is no missing value"
   ],
   "metadata": {
    "collapsed": false,
    "ExecuteTime": {
     "end_time": "2023-08-29T21:46:44.957868Z",
     "start_time": "2023-08-29T21:46:44.932666Z"
    }
   },
   "id": "87ea44b5f386eab"
  },
  {
   "cell_type": "code",
   "execution_count": 25,
   "outputs": [
    {
     "name": "stdout",
     "output_type": "stream",
     "text": [
      "There is 25480 rows, and 12 columns in the data\n"
     ]
    }
   ],
   "source": [
    "print('There is {} rows, and {} columns in the data'.format(data.shape[0], data.shape[1]))"
   ],
   "metadata": {
    "collapsed": false,
    "ExecuteTime": {
     "end_time": "2023-08-29T21:46:45.167595Z",
     "start_time": "2023-08-29T21:46:45.141405Z"
    }
   },
   "id": "61a9e737e7bef2c4"
  },
  {
   "cell_type": "code",
   "execution_count": 26,
   "outputs": [
    {
     "name": "stdout",
     "output_type": "stream",
     "text": [
      "The columns are:\n"
     ]
    },
    {
     "data": {
      "text/plain": "Index(['case_id', 'continent', 'education_of_employee', 'has_job_experience',\n       'requires_job_training', 'no_of_employees', 'yr_of_estab',\n       'region_of_employment', 'prevailing_wage', 'unit_of_wage',\n       'full_time_position', 'case_status'],\n      dtype='object')"
     },
     "execution_count": 26,
     "metadata": {},
     "output_type": "execute_result"
    }
   ],
   "source": [
    "print('The columns are:')\n",
    "data.columns"
   ],
   "metadata": {
    "collapsed": false,
    "ExecuteTime": {
     "end_time": "2023-08-29T21:46:45.363813Z",
     "start_time": "2023-08-29T21:46:45.339686Z"
    }
   },
   "id": "cd8ae82593780740"
  },
  {
   "cell_type": "code",
   "execution_count": 27,
   "outputs": [
    {
     "name": "stdout",
     "output_type": "stream",
     "text": [
      "There are 0 duplicated rows in the data.\n"
     ]
    }
   ],
   "source": [
    "print('There are {} duplicated rows in the data.'.format(data.duplicated().sum()))"
   ],
   "metadata": {
    "collapsed": false,
    "ExecuteTime": {
     "end_time": "2023-08-29T21:46:45.539118Z",
     "start_time": "2023-08-29T21:46:45.517368Z"
    }
   },
   "id": "d79208289b75edad"
  },
  {
   "cell_type": "markdown",
   "source": [
    "### Data Exploration"
   ],
   "metadata": {
    "collapsed": false
   },
   "id": "32a3c978a2dfb3de"
  },
  {
   "cell_type": "code",
   "execution_count": 29,
   "outputs": [
    {
     "data": {
      "text/plain": "                   count          mean           std        min       25%  \\\nno_of_employees  25480.0   5667.043210  22877.928848   -26.0000   1022.00   \nyr_of_estab      25480.0   1979.409929     42.366929  1800.0000   1976.00   \nprevailing_wage  25480.0  74455.814592  52815.942327     2.1367  34015.48   \n\n                      50%          75%        max  \nno_of_employees   2109.00    3504.0000  602069.00  \nyr_of_estab       1997.00    2005.0000    2016.00  \nprevailing_wage  70308.21  107735.5125  319210.27  ",
      "text/html": "<div>\n<style scoped>\n    .dataframe tbody tr th:only-of-type {\n        vertical-align: middle;\n    }\n\n    .dataframe tbody tr th {\n        vertical-align: top;\n    }\n\n    .dataframe thead th {\n        text-align: right;\n    }\n</style>\n<table border=\"1\" class=\"dataframe\">\n  <thead>\n    <tr style=\"text-align: right;\">\n      <th></th>\n      <th>count</th>\n      <th>mean</th>\n      <th>std</th>\n      <th>min</th>\n      <th>25%</th>\n      <th>50%</th>\n      <th>75%</th>\n      <th>max</th>\n    </tr>\n  </thead>\n  <tbody>\n    <tr>\n      <th>no_of_employees</th>\n      <td>25480.0</td>\n      <td>5667.043210</td>\n      <td>22877.928848</td>\n      <td>-26.0000</td>\n      <td>1022.00</td>\n      <td>2109.00</td>\n      <td>3504.0000</td>\n      <td>602069.00</td>\n    </tr>\n    <tr>\n      <th>yr_of_estab</th>\n      <td>25480.0</td>\n      <td>1979.409929</td>\n      <td>42.366929</td>\n      <td>1800.0000</td>\n      <td>1976.00</td>\n      <td>1997.00</td>\n      <td>2005.0000</td>\n      <td>2016.00</td>\n    </tr>\n    <tr>\n      <th>prevailing_wage</th>\n      <td>25480.0</td>\n      <td>74455.814592</td>\n      <td>52815.942327</td>\n      <td>2.1367</td>\n      <td>34015.48</td>\n      <td>70308.21</td>\n      <td>107735.5125</td>\n      <td>319210.27</td>\n    </tr>\n  </tbody>\n</table>\n</div>"
     },
     "execution_count": 29,
     "metadata": {},
     "output_type": "execute_result"
    }
   ],
   "source": [
    "data.describe().T"
   ],
   "metadata": {
    "collapsed": false,
    "ExecuteTime": {
     "end_time": "2023-08-29T21:47:23.351129Z",
     "start_time": "2023-08-29T21:47:23.311030Z"
    }
   },
   "id": "1ba4db5e13c0349"
  },
  {
   "cell_type": "code",
   "execution_count": 28,
   "outputs": [
    {
     "data": {
      "text/plain": "                         count unique         top   freq          mean  \\\ncase_id                  25480  25480      EZYV01      1           NaN   \ncontinent                25480      6        Asia  16861           NaN   \neducation_of_employee    25480      4  Bachelor's  10234           NaN   \nhas_job_experience       25480      2           Y  14802           NaN   \nrequires_job_training    25480      2           N  22525           NaN   \nno_of_employees        25480.0    NaN         NaN    NaN    5667.04321   \nyr_of_estab            25480.0    NaN         NaN    NaN   1979.409929   \nregion_of_employment     25480      5   Northeast   7195           NaN   \nprevailing_wage        25480.0    NaN         NaN    NaN  74455.814592   \nunit_of_wage             25480      4        Year  22962           NaN   \nfull_time_position       25480      2           Y  22773           NaN   \ncase_status              25480      2   Certified  17018           NaN   \n\n                                std     min       25%       50%          75%  \\\ncase_id                         NaN     NaN       NaN       NaN          NaN   \ncontinent                       NaN     NaN       NaN       NaN          NaN   \neducation_of_employee           NaN     NaN       NaN       NaN          NaN   \nhas_job_experience              NaN     NaN       NaN       NaN          NaN   \nrequires_job_training           NaN     NaN       NaN       NaN          NaN   \nno_of_employees        22877.928848   -26.0    1022.0    2109.0       3504.0   \nyr_of_estab               42.366929  1800.0    1976.0    1997.0       2005.0   \nregion_of_employment            NaN     NaN       NaN       NaN          NaN   \nprevailing_wage        52815.942327  2.1367  34015.48  70308.21  107735.5125   \nunit_of_wage                    NaN     NaN       NaN       NaN          NaN   \nfull_time_position              NaN     NaN       NaN       NaN          NaN   \ncase_status                     NaN     NaN       NaN       NaN          NaN   \n\n                             max  \ncase_id                      NaN  \ncontinent                    NaN  \neducation_of_employee        NaN  \nhas_job_experience           NaN  \nrequires_job_training        NaN  \nno_of_employees         602069.0  \nyr_of_estab               2016.0  \nregion_of_employment         NaN  \nprevailing_wage        319210.27  \nunit_of_wage                 NaN  \nfull_time_position           NaN  \ncase_status                  NaN  ",
      "text/html": "<div>\n<style scoped>\n    .dataframe tbody tr th:only-of-type {\n        vertical-align: middle;\n    }\n\n    .dataframe tbody tr th {\n        vertical-align: top;\n    }\n\n    .dataframe thead th {\n        text-align: right;\n    }\n</style>\n<table border=\"1\" class=\"dataframe\">\n  <thead>\n    <tr style=\"text-align: right;\">\n      <th></th>\n      <th>count</th>\n      <th>unique</th>\n      <th>top</th>\n      <th>freq</th>\n      <th>mean</th>\n      <th>std</th>\n      <th>min</th>\n      <th>25%</th>\n      <th>50%</th>\n      <th>75%</th>\n      <th>max</th>\n    </tr>\n  </thead>\n  <tbody>\n    <tr>\n      <th>case_id</th>\n      <td>25480</td>\n      <td>25480</td>\n      <td>EZYV01</td>\n      <td>1</td>\n      <td>NaN</td>\n      <td>NaN</td>\n      <td>NaN</td>\n      <td>NaN</td>\n      <td>NaN</td>\n      <td>NaN</td>\n      <td>NaN</td>\n    </tr>\n    <tr>\n      <th>continent</th>\n      <td>25480</td>\n      <td>6</td>\n      <td>Asia</td>\n      <td>16861</td>\n      <td>NaN</td>\n      <td>NaN</td>\n      <td>NaN</td>\n      <td>NaN</td>\n      <td>NaN</td>\n      <td>NaN</td>\n      <td>NaN</td>\n    </tr>\n    <tr>\n      <th>education_of_employee</th>\n      <td>25480</td>\n      <td>4</td>\n      <td>Bachelor's</td>\n      <td>10234</td>\n      <td>NaN</td>\n      <td>NaN</td>\n      <td>NaN</td>\n      <td>NaN</td>\n      <td>NaN</td>\n      <td>NaN</td>\n      <td>NaN</td>\n    </tr>\n    <tr>\n      <th>has_job_experience</th>\n      <td>25480</td>\n      <td>2</td>\n      <td>Y</td>\n      <td>14802</td>\n      <td>NaN</td>\n      <td>NaN</td>\n      <td>NaN</td>\n      <td>NaN</td>\n      <td>NaN</td>\n      <td>NaN</td>\n      <td>NaN</td>\n    </tr>\n    <tr>\n      <th>requires_job_training</th>\n      <td>25480</td>\n      <td>2</td>\n      <td>N</td>\n      <td>22525</td>\n      <td>NaN</td>\n      <td>NaN</td>\n      <td>NaN</td>\n      <td>NaN</td>\n      <td>NaN</td>\n      <td>NaN</td>\n      <td>NaN</td>\n    </tr>\n    <tr>\n      <th>no_of_employees</th>\n      <td>25480.0</td>\n      <td>NaN</td>\n      <td>NaN</td>\n      <td>NaN</td>\n      <td>5667.04321</td>\n      <td>22877.928848</td>\n      <td>-26.0</td>\n      <td>1022.0</td>\n      <td>2109.0</td>\n      <td>3504.0</td>\n      <td>602069.0</td>\n    </tr>\n    <tr>\n      <th>yr_of_estab</th>\n      <td>25480.0</td>\n      <td>NaN</td>\n      <td>NaN</td>\n      <td>NaN</td>\n      <td>1979.409929</td>\n      <td>42.366929</td>\n      <td>1800.0</td>\n      <td>1976.0</td>\n      <td>1997.0</td>\n      <td>2005.0</td>\n      <td>2016.0</td>\n    </tr>\n    <tr>\n      <th>region_of_employment</th>\n      <td>25480</td>\n      <td>5</td>\n      <td>Northeast</td>\n      <td>7195</td>\n      <td>NaN</td>\n      <td>NaN</td>\n      <td>NaN</td>\n      <td>NaN</td>\n      <td>NaN</td>\n      <td>NaN</td>\n      <td>NaN</td>\n    </tr>\n    <tr>\n      <th>prevailing_wage</th>\n      <td>25480.0</td>\n      <td>NaN</td>\n      <td>NaN</td>\n      <td>NaN</td>\n      <td>74455.814592</td>\n      <td>52815.942327</td>\n      <td>2.1367</td>\n      <td>34015.48</td>\n      <td>70308.21</td>\n      <td>107735.5125</td>\n      <td>319210.27</td>\n    </tr>\n    <tr>\n      <th>unit_of_wage</th>\n      <td>25480</td>\n      <td>4</td>\n      <td>Year</td>\n      <td>22962</td>\n      <td>NaN</td>\n      <td>NaN</td>\n      <td>NaN</td>\n      <td>NaN</td>\n      <td>NaN</td>\n      <td>NaN</td>\n      <td>NaN</td>\n    </tr>\n    <tr>\n      <th>full_time_position</th>\n      <td>25480</td>\n      <td>2</td>\n      <td>Y</td>\n      <td>22773</td>\n      <td>NaN</td>\n      <td>NaN</td>\n      <td>NaN</td>\n      <td>NaN</td>\n      <td>NaN</td>\n      <td>NaN</td>\n      <td>NaN</td>\n    </tr>\n    <tr>\n      <th>case_status</th>\n      <td>25480</td>\n      <td>2</td>\n      <td>Certified</td>\n      <td>17018</td>\n      <td>NaN</td>\n      <td>NaN</td>\n      <td>NaN</td>\n      <td>NaN</td>\n      <td>NaN</td>\n      <td>NaN</td>\n      <td>NaN</td>\n    </tr>\n  </tbody>\n</table>\n</div>"
     },
     "execution_count": 28,
     "metadata": {},
     "output_type": "execute_result"
    }
   ],
   "source": [
    "data.describe(include='all').T"
   ],
   "metadata": {
    "collapsed": false,
    "ExecuteTime": {
     "start_time": "2023-08-29T21:47:08.807777Z"
    }
   },
   "id": "fc935498be1cd567"
  },
  {
   "cell_type": "markdown",
   "source": [
    "**Observations:**\n",
    "* The range of the number of employees in a company is huge. There are some anomalies in the data as we can see that the minimum number of employees is equal to -26, which is not possible. We will have to fix this.\n",
    "* The year of establishment of companies ranges from 1800 to 2016, which seems fine.\n",
    "* The average prevailing wage is 74455.81. There's also a very huge difference in 75th percentile and maximum value which indicates there might be outliers present in this column."
   ],
   "metadata": {
    "collapsed": false
   },
   "id": "a21e6aa491377de4"
  },
  {
   "cell_type": "code",
   "execution_count": null,
   "outputs": [],
   "source": [],
   "metadata": {
    "collapsed": false
   },
   "id": "5f7ace957fc6d6a2"
  }
 ],
 "metadata": {
  "kernelspec": {
   "display_name": "Python 3",
   "language": "python",
   "name": "python3"
  },
  "language_info": {
   "codemirror_mode": {
    "name": "ipython",
    "version": 2
   },
   "file_extension": ".py",
   "mimetype": "text/x-python",
   "name": "python",
   "nbconvert_exporter": "python",
   "pygments_lexer": "ipython2",
   "version": "2.7.6"
  }
 },
 "nbformat": 4,
 "nbformat_minor": 5
}
