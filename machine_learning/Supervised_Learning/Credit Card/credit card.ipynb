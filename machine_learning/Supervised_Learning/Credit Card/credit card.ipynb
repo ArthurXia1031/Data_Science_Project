{
 "cells": [
  {
   "cell_type": "markdown",
   "source": [
    "# Credit Card Fraud Detection"
   ],
   "metadata": {
    "collapsed": false
   },
   "id": "f27ff557b01cb0a2"
  },
  {
   "cell_type": "markdown",
   "source": [
    "## Importing the libraries"
   ],
   "metadata": {
    "collapsed": false
   },
   "id": "ea535748356be4f2"
  },
  {
   "cell_type": "code",
   "execution_count": 2,
   "id": "initial_id",
   "metadata": {
    "collapsed": true,
    "ExecuteTime": {
     "end_time": "2023-10-20T18:49:43.550924Z",
     "start_time": "2023-10-20T18:49:43.233780Z"
    }
   },
   "outputs": [],
   "source": [
    "import numpy as np\n",
    "import matplotlib.pyplot as plt\n",
    "import pandas as pd\n",
    "import seaborn as sns\n",
    "\n",
    "# modeling \n",
    "from sklearn.model_selection import train_test_split\n",
    "from sklearn.metrics import confusion_matrix, classification_report, accuracy_score, f1_score, auc, roc_curve, \\\n",
    "    precision_recall_curve, precision_score, recall_score\n",
    "from sklearn.preprocessing import StandardScaler\n",
    "from sklearn.linear_model import LogisticRegression\n"
   ]
  },
  {
   "cell_type": "code",
   "execution_count": 3,
   "outputs": [
    {
     "data": {
      "text/plain": "    Ind_ID GENDER Car_Owner Propert_Owner  CHILDREN  Annual_income  \\\n0  5008827      M         Y             Y         0       180000.0   \n1  5009744      F         Y             N         0       315000.0   \n2  5009746      F         Y             N         0       315000.0   \n3  5009749      F         Y             N         0            NaN   \n4  5009752      F         Y             N         0       315000.0   \n\n            Type_Income         EDUCATION Marital_status       Housing_type  \\\n0             Pensioner  Higher education        Married  House / apartment   \n1  Commercial associate  Higher education        Married  House / apartment   \n2  Commercial associate  Higher education        Married  House / apartment   \n3  Commercial associate  Higher education        Married  House / apartment   \n4  Commercial associate  Higher education        Married  House / apartment   \n\n   Birthday_count  Employed_days  Mobile_phone  Work_Phone  Phone  EMAIL_ID  \\\n0        -18772.0         365243             1           0      0         0   \n1        -13557.0           -586             1           1      1         0   \n2             NaN           -586             1           1      1         0   \n3        -13557.0           -586             1           1      1         0   \n4        -13557.0           -586             1           1      1         0   \n\n  Type_Occupation  Family_Members  \n0             NaN               2  \n1             NaN               2  \n2             NaN               2  \n3             NaN               2  \n4             NaN               2  ",
      "text/html": "<div>\n<style scoped>\n    .dataframe tbody tr th:only-of-type {\n        vertical-align: middle;\n    }\n\n    .dataframe tbody tr th {\n        vertical-align: top;\n    }\n\n    .dataframe thead th {\n        text-align: right;\n    }\n</style>\n<table border=\"1\" class=\"dataframe\">\n  <thead>\n    <tr style=\"text-align: right;\">\n      <th></th>\n      <th>Ind_ID</th>\n      <th>GENDER</th>\n      <th>Car_Owner</th>\n      <th>Propert_Owner</th>\n      <th>CHILDREN</th>\n      <th>Annual_income</th>\n      <th>Type_Income</th>\n      <th>EDUCATION</th>\n      <th>Marital_status</th>\n      <th>Housing_type</th>\n      <th>Birthday_count</th>\n      <th>Employed_days</th>\n      <th>Mobile_phone</th>\n      <th>Work_Phone</th>\n      <th>Phone</th>\n      <th>EMAIL_ID</th>\n      <th>Type_Occupation</th>\n      <th>Family_Members</th>\n    </tr>\n  </thead>\n  <tbody>\n    <tr>\n      <th>0</th>\n      <td>5008827</td>\n      <td>M</td>\n      <td>Y</td>\n      <td>Y</td>\n      <td>0</td>\n      <td>180000.0</td>\n      <td>Pensioner</td>\n      <td>Higher education</td>\n      <td>Married</td>\n      <td>House / apartment</td>\n      <td>-18772.0</td>\n      <td>365243</td>\n      <td>1</td>\n      <td>0</td>\n      <td>0</td>\n      <td>0</td>\n      <td>NaN</td>\n      <td>2</td>\n    </tr>\n    <tr>\n      <th>1</th>\n      <td>5009744</td>\n      <td>F</td>\n      <td>Y</td>\n      <td>N</td>\n      <td>0</td>\n      <td>315000.0</td>\n      <td>Commercial associate</td>\n      <td>Higher education</td>\n      <td>Married</td>\n      <td>House / apartment</td>\n      <td>-13557.0</td>\n      <td>-586</td>\n      <td>1</td>\n      <td>1</td>\n      <td>1</td>\n      <td>0</td>\n      <td>NaN</td>\n      <td>2</td>\n    </tr>\n    <tr>\n      <th>2</th>\n      <td>5009746</td>\n      <td>F</td>\n      <td>Y</td>\n      <td>N</td>\n      <td>0</td>\n      <td>315000.0</td>\n      <td>Commercial associate</td>\n      <td>Higher education</td>\n      <td>Married</td>\n      <td>House / apartment</td>\n      <td>NaN</td>\n      <td>-586</td>\n      <td>1</td>\n      <td>1</td>\n      <td>1</td>\n      <td>0</td>\n      <td>NaN</td>\n      <td>2</td>\n    </tr>\n    <tr>\n      <th>3</th>\n      <td>5009749</td>\n      <td>F</td>\n      <td>Y</td>\n      <td>N</td>\n      <td>0</td>\n      <td>NaN</td>\n      <td>Commercial associate</td>\n      <td>Higher education</td>\n      <td>Married</td>\n      <td>House / apartment</td>\n      <td>-13557.0</td>\n      <td>-586</td>\n      <td>1</td>\n      <td>1</td>\n      <td>1</td>\n      <td>0</td>\n      <td>NaN</td>\n      <td>2</td>\n    </tr>\n    <tr>\n      <th>4</th>\n      <td>5009752</td>\n      <td>F</td>\n      <td>Y</td>\n      <td>N</td>\n      <td>0</td>\n      <td>315000.0</td>\n      <td>Commercial associate</td>\n      <td>Higher education</td>\n      <td>Married</td>\n      <td>House / apartment</td>\n      <td>-13557.0</td>\n      <td>-586</td>\n      <td>1</td>\n      <td>1</td>\n      <td>1</td>\n      <td>0</td>\n      <td>NaN</td>\n      <td>2</td>\n    </tr>\n  </tbody>\n</table>\n</div>"
     },
     "execution_count": 3,
     "metadata": {},
     "output_type": "execute_result"
    }
   ],
   "source": [
    "data = pd.read_csv('Credit_card.csv')\n",
    "data.head()"
   ],
   "metadata": {
    "collapsed": false,
    "ExecuteTime": {
     "end_time": "2023-10-20T18:49:43.574316Z",
     "start_time": "2023-10-20T18:49:43.551796Z"
    }
   },
   "id": "ea91fdba4de49eee"
  },
  {
   "cell_type": "code",
   "execution_count": 4,
   "outputs": [
    {
     "name": "stdout",
     "output_type": "stream",
     "text": [
      "<class 'pandas.core.frame.DataFrame'>\n",
      "RangeIndex: 1548 entries, 0 to 1547\n",
      "Data columns (total 18 columns):\n",
      " #   Column           Non-Null Count  Dtype  \n",
      "---  ------           --------------  -----  \n",
      " 0   Ind_ID           1548 non-null   int64  \n",
      " 1   GENDER           1541 non-null   object \n",
      " 2   Car_Owner        1548 non-null   object \n",
      " 3   Propert_Owner    1548 non-null   object \n",
      " 4   CHILDREN         1548 non-null   int64  \n",
      " 5   Annual_income    1525 non-null   float64\n",
      " 6   Type_Income      1548 non-null   object \n",
      " 7   EDUCATION        1548 non-null   object \n",
      " 8   Marital_status   1548 non-null   object \n",
      " 9   Housing_type     1548 non-null   object \n",
      " 10  Birthday_count   1526 non-null   float64\n",
      " 11  Employed_days    1548 non-null   int64  \n",
      " 12  Mobile_phone     1548 non-null   int64  \n",
      " 13  Work_Phone       1548 non-null   int64  \n",
      " 14  Phone            1548 non-null   int64  \n",
      " 15  EMAIL_ID         1548 non-null   int64  \n",
      " 16  Type_Occupation  1060 non-null   object \n",
      " 17  Family_Members   1548 non-null   int64  \n",
      "dtypes: float64(2), int64(8), object(8)\n",
      "memory usage: 217.8+ KB\n"
     ]
    }
   ],
   "source": [
    "data.info()"
   ],
   "metadata": {
    "collapsed": false,
    "ExecuteTime": {
     "end_time": "2023-10-20T18:49:43.584043Z",
     "start_time": "2023-10-20T18:49:43.569314Z"
    }
   },
   "id": "7a65e24b996a9540"
  },
  {
   "cell_type": "code",
   "execution_count": 5,
   "outputs": [
    {
     "data": {
      "text/plain": "                  count unique                            top  freq  \\\nInd_ID           1548.0    NaN                            NaN   NaN   \nGENDER             1541      2                              F   973   \nCar_Owner          1548      2                              N   924   \nPropert_Owner      1548      2                              Y  1010   \nCHILDREN         1548.0    NaN                            NaN   NaN   \nAnnual_income    1525.0    NaN                            NaN   NaN   \nType_Income        1548      4                        Working   798   \nEDUCATION          1548      5  Secondary / secondary special  1031   \nMarital_status     1548      5                        Married  1049   \nHousing_type       1548      6              House / apartment  1380   \nBirthday_count   1526.0    NaN                            NaN   NaN   \nEmployed_days    1548.0    NaN                            NaN   NaN   \nMobile_phone     1548.0    NaN                            NaN   NaN   \nWork_Phone       1548.0    NaN                            NaN   NaN   \nPhone            1548.0    NaN                            NaN   NaN   \nEMAIL_ID         1548.0    NaN                            NaN   NaN   \nType_Occupation    1060     18                       Laborers   268   \nFamily_Members   1548.0    NaN                            NaN   NaN   \n\n                           mean            std        min         25%  \\\nInd_ID           5078920.351421   41717.587742  5008827.0  5045069.75   \nGENDER                      NaN            NaN        NaN         NaN   \nCar_Owner                   NaN            NaN        NaN         NaN   \nPropert_Owner               NaN            NaN        NaN         NaN   \nCHILDREN               0.412791       0.776691        0.0         0.0   \nAnnual_income      191399.32623  113252.997656    33750.0    121500.0   \nType_Income                 NaN            NaN        NaN         NaN   \nEDUCATION                   NaN            NaN        NaN         NaN   \nMarital_status              NaN            NaN        NaN         NaN   \nHousing_type                NaN            NaN        NaN         NaN   \nBirthday_count    -16040.342071    4229.503202   -24946.0    -19553.0   \nEmployed_days      59364.689922  137808.062701   -14887.0     -3174.5   \nMobile_phone                1.0            0.0        1.0         1.0   \nWork_Phone              0.20801       0.406015        0.0         0.0   \nPhone                  0.309432       0.462409        0.0         0.0   \nEMAIL_ID               0.092377       0.289651        0.0         0.0   \nType_Occupation             NaN            NaN        NaN         NaN   \nFamily_Members         2.161499       0.947772        1.0         2.0   \n\n                       50%        75%        max  \nInd_ID           5078841.5  5115673.0  5150412.0  \nGENDER                 NaN        NaN        NaN  \nCar_Owner              NaN        NaN        NaN  \nPropert_Owner          NaN        NaN        NaN  \nCHILDREN               0.0        1.0       14.0  \nAnnual_income     166500.0   225000.0  1575000.0  \nType_Income            NaN        NaN        NaN  \nEDUCATION              NaN        NaN        NaN  \nMarital_status         NaN        NaN        NaN  \nHousing_type           NaN        NaN        NaN  \nBirthday_count    -15661.5   -12417.0    -7705.0  \nEmployed_days      -1565.0    -431.75   365243.0  \nMobile_phone           1.0        1.0        1.0  \nWork_Phone             0.0        0.0        1.0  \nPhone                  0.0        1.0        1.0  \nEMAIL_ID               0.0        0.0        1.0  \nType_Occupation        NaN        NaN        NaN  \nFamily_Members         2.0        3.0       15.0  ",
      "text/html": "<div>\n<style scoped>\n    .dataframe tbody tr th:only-of-type {\n        vertical-align: middle;\n    }\n\n    .dataframe tbody tr th {\n        vertical-align: top;\n    }\n\n    .dataframe thead th {\n        text-align: right;\n    }\n</style>\n<table border=\"1\" class=\"dataframe\">\n  <thead>\n    <tr style=\"text-align: right;\">\n      <th></th>\n      <th>count</th>\n      <th>unique</th>\n      <th>top</th>\n      <th>freq</th>\n      <th>mean</th>\n      <th>std</th>\n      <th>min</th>\n      <th>25%</th>\n      <th>50%</th>\n      <th>75%</th>\n      <th>max</th>\n    </tr>\n  </thead>\n  <tbody>\n    <tr>\n      <th>Ind_ID</th>\n      <td>1548.0</td>\n      <td>NaN</td>\n      <td>NaN</td>\n      <td>NaN</td>\n      <td>5078920.351421</td>\n      <td>41717.587742</td>\n      <td>5008827.0</td>\n      <td>5045069.75</td>\n      <td>5078841.5</td>\n      <td>5115673.0</td>\n      <td>5150412.0</td>\n    </tr>\n    <tr>\n      <th>GENDER</th>\n      <td>1541</td>\n      <td>2</td>\n      <td>F</td>\n      <td>973</td>\n      <td>NaN</td>\n      <td>NaN</td>\n      <td>NaN</td>\n      <td>NaN</td>\n      <td>NaN</td>\n      <td>NaN</td>\n      <td>NaN</td>\n    </tr>\n    <tr>\n      <th>Car_Owner</th>\n      <td>1548</td>\n      <td>2</td>\n      <td>N</td>\n      <td>924</td>\n      <td>NaN</td>\n      <td>NaN</td>\n      <td>NaN</td>\n      <td>NaN</td>\n      <td>NaN</td>\n      <td>NaN</td>\n      <td>NaN</td>\n    </tr>\n    <tr>\n      <th>Propert_Owner</th>\n      <td>1548</td>\n      <td>2</td>\n      <td>Y</td>\n      <td>1010</td>\n      <td>NaN</td>\n      <td>NaN</td>\n      <td>NaN</td>\n      <td>NaN</td>\n      <td>NaN</td>\n      <td>NaN</td>\n      <td>NaN</td>\n    </tr>\n    <tr>\n      <th>CHILDREN</th>\n      <td>1548.0</td>\n      <td>NaN</td>\n      <td>NaN</td>\n      <td>NaN</td>\n      <td>0.412791</td>\n      <td>0.776691</td>\n      <td>0.0</td>\n      <td>0.0</td>\n      <td>0.0</td>\n      <td>1.0</td>\n      <td>14.0</td>\n    </tr>\n    <tr>\n      <th>Annual_income</th>\n      <td>1525.0</td>\n      <td>NaN</td>\n      <td>NaN</td>\n      <td>NaN</td>\n      <td>191399.32623</td>\n      <td>113252.997656</td>\n      <td>33750.0</td>\n      <td>121500.0</td>\n      <td>166500.0</td>\n      <td>225000.0</td>\n      <td>1575000.0</td>\n    </tr>\n    <tr>\n      <th>Type_Income</th>\n      <td>1548</td>\n      <td>4</td>\n      <td>Working</td>\n      <td>798</td>\n      <td>NaN</td>\n      <td>NaN</td>\n      <td>NaN</td>\n      <td>NaN</td>\n      <td>NaN</td>\n      <td>NaN</td>\n      <td>NaN</td>\n    </tr>\n    <tr>\n      <th>EDUCATION</th>\n      <td>1548</td>\n      <td>5</td>\n      <td>Secondary / secondary special</td>\n      <td>1031</td>\n      <td>NaN</td>\n      <td>NaN</td>\n      <td>NaN</td>\n      <td>NaN</td>\n      <td>NaN</td>\n      <td>NaN</td>\n      <td>NaN</td>\n    </tr>\n    <tr>\n      <th>Marital_status</th>\n      <td>1548</td>\n      <td>5</td>\n      <td>Married</td>\n      <td>1049</td>\n      <td>NaN</td>\n      <td>NaN</td>\n      <td>NaN</td>\n      <td>NaN</td>\n      <td>NaN</td>\n      <td>NaN</td>\n      <td>NaN</td>\n    </tr>\n    <tr>\n      <th>Housing_type</th>\n      <td>1548</td>\n      <td>6</td>\n      <td>House / apartment</td>\n      <td>1380</td>\n      <td>NaN</td>\n      <td>NaN</td>\n      <td>NaN</td>\n      <td>NaN</td>\n      <td>NaN</td>\n      <td>NaN</td>\n      <td>NaN</td>\n    </tr>\n    <tr>\n      <th>Birthday_count</th>\n      <td>1526.0</td>\n      <td>NaN</td>\n      <td>NaN</td>\n      <td>NaN</td>\n      <td>-16040.342071</td>\n      <td>4229.503202</td>\n      <td>-24946.0</td>\n      <td>-19553.0</td>\n      <td>-15661.5</td>\n      <td>-12417.0</td>\n      <td>-7705.0</td>\n    </tr>\n    <tr>\n      <th>Employed_days</th>\n      <td>1548.0</td>\n      <td>NaN</td>\n      <td>NaN</td>\n      <td>NaN</td>\n      <td>59364.689922</td>\n      <td>137808.062701</td>\n      <td>-14887.0</td>\n      <td>-3174.5</td>\n      <td>-1565.0</td>\n      <td>-431.75</td>\n      <td>365243.0</td>\n    </tr>\n    <tr>\n      <th>Mobile_phone</th>\n      <td>1548.0</td>\n      <td>NaN</td>\n      <td>NaN</td>\n      <td>NaN</td>\n      <td>1.0</td>\n      <td>0.0</td>\n      <td>1.0</td>\n      <td>1.0</td>\n      <td>1.0</td>\n      <td>1.0</td>\n      <td>1.0</td>\n    </tr>\n    <tr>\n      <th>Work_Phone</th>\n      <td>1548.0</td>\n      <td>NaN</td>\n      <td>NaN</td>\n      <td>NaN</td>\n      <td>0.20801</td>\n      <td>0.406015</td>\n      <td>0.0</td>\n      <td>0.0</td>\n      <td>0.0</td>\n      <td>0.0</td>\n      <td>1.0</td>\n    </tr>\n    <tr>\n      <th>Phone</th>\n      <td>1548.0</td>\n      <td>NaN</td>\n      <td>NaN</td>\n      <td>NaN</td>\n      <td>0.309432</td>\n      <td>0.462409</td>\n      <td>0.0</td>\n      <td>0.0</td>\n      <td>0.0</td>\n      <td>1.0</td>\n      <td>1.0</td>\n    </tr>\n    <tr>\n      <th>EMAIL_ID</th>\n      <td>1548.0</td>\n      <td>NaN</td>\n      <td>NaN</td>\n      <td>NaN</td>\n      <td>0.092377</td>\n      <td>0.289651</td>\n      <td>0.0</td>\n      <td>0.0</td>\n      <td>0.0</td>\n      <td>0.0</td>\n      <td>1.0</td>\n    </tr>\n    <tr>\n      <th>Type_Occupation</th>\n      <td>1060</td>\n      <td>18</td>\n      <td>Laborers</td>\n      <td>268</td>\n      <td>NaN</td>\n      <td>NaN</td>\n      <td>NaN</td>\n      <td>NaN</td>\n      <td>NaN</td>\n      <td>NaN</td>\n      <td>NaN</td>\n    </tr>\n    <tr>\n      <th>Family_Members</th>\n      <td>1548.0</td>\n      <td>NaN</td>\n      <td>NaN</td>\n      <td>NaN</td>\n      <td>2.161499</td>\n      <td>0.947772</td>\n      <td>1.0</td>\n      <td>2.0</td>\n      <td>2.0</td>\n      <td>3.0</td>\n      <td>15.0</td>\n    </tr>\n  </tbody>\n</table>\n</div>"
     },
     "execution_count": 5,
     "metadata": {},
     "output_type": "execute_result"
    }
   ],
   "source": [
    "data.describe(include='all').T"
   ],
   "metadata": {
    "collapsed": false,
    "ExecuteTime": {
     "end_time": "2023-10-20T18:49:43.633909Z",
     "start_time": "2023-10-20T18:49:43.576370Z"
    }
   },
   "id": "a808e151b930ba73"
  },
  {
   "cell_type": "code",
   "execution_count": 6,
   "outputs": [
    {
     "data": {
      "text/plain": "Ind_ID               0\nGENDER               7\nCar_Owner            0\nPropert_Owner        0\nCHILDREN             0\nAnnual_income       23\nType_Income          0\nEDUCATION            0\nMarital_status       0\nHousing_type         0\nBirthday_count      22\nEmployed_days        0\nMobile_phone         0\nWork_Phone           0\nPhone                0\nEMAIL_ID             0\nType_Occupation    488\nFamily_Members       0\ndtype: int64"
     },
     "execution_count": 6,
     "metadata": {},
     "output_type": "execute_result"
    }
   ],
   "source": [
    "data.isnull().sum()"
   ],
   "metadata": {
    "collapsed": false,
    "ExecuteTime": {
     "end_time": "2023-10-20T18:49:43.634194Z",
     "start_time": "2023-10-20T18:49:43.592468Z"
    }
   },
   "id": "f9ff91b152b9f44a"
  },
  {
   "cell_type": "markdown",
   "source": [
    "## Exploratory Data Analysis"
   ],
   "metadata": {
    "collapsed": false
   },
   "id": "2e4051d23c7b3166"
  },
  {
   "cell_type": "markdown",
   "source": [
    "### Defining functions"
   ],
   "metadata": {
    "collapsed": false
   },
   "id": "62127cc71583e53a"
  },
  {
   "cell_type": "code",
   "execution_count": 12,
   "outputs": [],
   "source": [
    "def histogram_boxplot(data, feature, figsize=(15, 10), kde=False, bins=50):\n",
    "    \"\"\" \n",
    "    Boxplot and histogram combined\n",
    "    \n",
    "    data : dataframe\n",
    "    feature : dataframe column\n",
    "    figsize : size of figure\n",
    "    ked : kdeplot boolean\n",
    "    bins : number of bins\n",
    "    \"\"\"\n",
    "\n",
    "    figs, (ax_box, ax_hist) = plt.subplots(\n",
    "        nrows=2,  # Number of rows of the subplot grid\n",
    "        sharex=True,  # Share x-axis\n",
    "        figsize=figsize,\n",
    "        dpi=100,\n",
    "        gridspec_kw={\"height_ratios\": (0.25, 0.75)}  # Heights of the axes proportions\n",
    "    )\n",
    "\n",
    "    sns.boxplot(\n",
    "        data=data,\n",
    "        width=0.4,\n",
    "        x=feature,\n",
    "        ax=ax_box,\n",
    "        showmeans=True,  # Show the arithmetic mean,\n",
    "        color='red'\n",
    "    )\n",
    "\n",
    "    sns.histplot(\n",
    "        data=data,\n",
    "        x=feature,\n",
    "        ax=ax_hist,\n",
    "        kde=kde,  # kde plot\n",
    "        bins=bins\n",
    "    )\n",
    "\n",
    "    # Add a line for the mean.\n",
    "    ax_hist.axvline(\n",
    "        data[feature].mean(),\n",
    "        color='green',\n",
    "        linestyle='--'\n",
    "    )\n",
    "\n",
    "    # Add a line for the median.\n",
    "    ax_hist.axvline(\n",
    "        data[feature].median(),\n",
    "        color='black',\n",
    "        linestyle='-'\n",
    "    )"
   ],
   "metadata": {
    "collapsed": false,
    "ExecuteTime": {
     "end_time": "2023-10-20T18:50:57.015387Z",
     "start_time": "2023-10-20T18:50:56.994993Z"
    }
   },
   "id": "21cf6ff212bb71d6"
  },
  {
   "cell_type": "code",
   "execution_count": 13,
   "outputs": [],
   "source": [
    "# function to create labeled barplots\n",
    "\n",
    "def labeled_barplot(data, feature, perc=False, n=None):\n",
    "    \"\"\"\n",
    "    Barplot with percentage at the top\n",
    "    \n",
    "    data : dataframe\n",
    "    feature : dataframe column\n",
    "    perc : True for percentage, False for count\n",
    "    n : how many categories to show\n",
    "    \"\"\"\n",
    "\n",
    "    total = len(data[feature])\n",
    "    count = data[feature].nunique()\n",
    "\n",
    "    if n is None:\n",
    "        plt.figure(figsize=(count + 2, 6), dpi=100)\n",
    "    else:\n",
    "        plt.figure(figsize=(n + 2, 6), dpi=100)\n",
    "\n",
    "    ax = sns.countplot(data=data, x=feature,\n",
    "                       palette='Paired',\n",
    "                       order=data[feature].value_counts().index[:n]\n",
    "                       )\n",
    "\n",
    "    for p in ax.patches:\n",
    "        if perc == True:\n",
    "            lable = f\"{p.get_height() / total * 100:.2f}%\\n\"\n",
    "        else:\n",
    "            lable = p.get_height()\n",
    "\n",
    "        x = p.get_x() + p.get_width() / 2\n",
    "        y = p.get_height()\n",
    "\n",
    "        ax.annotate(lable, (x, y), ha='center', va='center', fontsize=11, color='black', xytext=(0, 5),\n",
    "                    textcoords='offset points')\n",
    "\n",
    "    plt.xlabel(feature, fontsize=14, weight='bold')\n",
    "    plt.ylabel('Count', fontsize=14, weight='bold')\n",
    "\n",
    "    plt.show()"
   ],
   "metadata": {
    "collapsed": false,
    "ExecuteTime": {
     "end_time": "2023-10-20T18:50:57.300499Z",
     "start_time": "2023-10-20T18:50:57.274002Z"
    }
   },
   "id": "fd722eb720a1eaf2"
  },
  {
   "cell_type": "code",
   "execution_count": 14,
   "outputs": [],
   "source": [
    "def stacked_barplot(data, predictor, target):\n",
    "    \"\"\"\n",
    "    Print the category counts and plot a stacked bar chart\n",
    "    \n",
    "    data : dataframe\n",
    "    predictor : independent variable\n",
    "    target : target variable\n",
    "    \"\"\"\n",
    "\n",
    "    count = data[predictor].nunique()\n",
    "    # count is the number of categories in the predictor variable\n",
    "\n",
    "    sorter = data[target].value_counts().index[-1]\n",
    "    # sorter is the category with the lowest number of bookings\n",
    "\n",
    "    tab_1 = pd.crosstab(data[predictor],\n",
    "                        data[target],\n",
    "                        margins=True).sort_values(by=sorter,\n",
    "                                                  ascending=False)\n",
    "    # tab_1 is the cross tabulation table of the predictor and target variables\n",
    "\n",
    "    print(tab_1)\n",
    "    print('-' * 60)\n",
    "\n",
    "    # plt.figure(figsize=(12, 8), dpi=100)\n",
    "\n",
    "    tab = pd.crosstab(data[predictor],\n",
    "                      data[target],\n",
    "                      normalize='index').sort_values(by=sorter,\n",
    "                                                     ascending=False)\n",
    "    # tab is the normalized cross tabulation table of the predictor and target variables, to build the percentage\n",
    "\n",
    "    fig, ax = plt.subplots(figsize=(count + 5, 5), dpi=100)\n",
    "\n",
    "    tab.plot(kind=\"bar\", stacked=True, ax=ax)\n",
    "\n",
    "    # plot a stacked bar chart\n",
    "\n",
    "    plt.legend(loc='lower left', frameon=False)\n",
    "    plt.legend(loc='upper left', bbox_to_anchor=(1, 1))\n",
    "    plt.xticks(rotation=0, fontsize=12)\n",
    "\n",
    "    plt.show()"
   ],
   "metadata": {
    "collapsed": false,
    "ExecuteTime": {
     "end_time": "2023-10-20T18:50:57.500498Z",
     "start_time": "2023-10-20T18:50:57.474718Z"
    }
   },
   "id": "46d636a874464a53"
  },
  {
   "cell_type": "code",
   "execution_count": 15,
   "outputs": [],
   "source": [
    "# function to plot distribution of the data\n",
    "\n",
    "def distribution_plot_wrt_target(data, predictor, target):\n",
    "    fig, axes = plt.subplots(2, 2, figsize=(12, 10), dpi=100)\n",
    "    # create a figure with 2 rows and 2 columns\n",
    "\n",
    "    target_unique = data[target].unique()\n",
    "    # get the unique values of the target variable\n",
    "\n",
    "    axes[0, 0].set_title('Distribution of target for target =' + str(target_unique[0]))\n",
    "    # set the title of the plot\n",
    "\n",
    "    sns.histplot(\n",
    "        data=data[data[target] == target_unique[0]],\n",
    "        x=predictor,\n",
    "        kde=True,\n",
    "        ax=axes[0, 0],\n",
    "        color='teal',\n",
    "        stat='density'\n",
    "    )\n",
    "    # plot distribution of the predictor variable for target = 0\n",
    "\n",
    "    axes[0, 1].set_title('Distribution of target for target =' + str(target_unique[1]))\n",
    "    sns.histplot(\n",
    "        data=data[data[target] == target_unique[1]],\n",
    "        x=predictor,\n",
    "        kde=True,\n",
    "        ax=axes[0, 1],\n",
    "        color='orange',\n",
    "        stat='density'\n",
    "    )\n",
    "    # plot distribution of the predictor variable for target = 1\n",
    "\n",
    "    axes[1, 0].set_title('Boxplot w.r.t target')\n",
    "    sns.boxplot(\n",
    "        data=data,\n",
    "        x=target,\n",
    "        y=predictor,\n",
    "        ax=axes[1, 0],\n",
    "        palette='gist_rainbow'\n",
    "    )\n",
    "    # plot boxplot of the predictor variable w.r.t target variable\n",
    "\n",
    "    axes[1, 1].set_title('Boxplot w.r.t target without outliers')\n",
    "    sns.boxplot(\n",
    "        data=data,\n",
    "        x=target,\n",
    "        y=predictor,\n",
    "        ax=axes[1, 1],\n",
    "        showfliers=False,\n",
    "        palette='gist_rainbow')\n",
    "    # plot boxplot of the predictor variable w.r.t target variable without outliers\n",
    "\n",
    "    plt.tight_layout()\n",
    "    plt.show()\n"
   ],
   "metadata": {
    "collapsed": false,
    "ExecuteTime": {
     "end_time": "2023-10-20T18:50:57.825887Z",
     "start_time": "2023-10-20T18:50:57.798636Z"
    }
   },
   "id": "b78112e362a3e47d"
  },
  {
   "cell_type": "markdown",
   "source": [
    "### Univariant Analysis"
   ],
   "metadata": {
    "collapsed": false
   },
   "id": "42edbc2c1391664c"
  },
  {
   "cell_type": "code",
   "execution_count": 20,
   "outputs": [],
   "source": [],
   "metadata": {
    "collapsed": false,
    "ExecuteTime": {
     "end_time": "2023-10-20T18:52:27.033320Z",
     "start_time": "2023-10-20T18:52:26.988718Z"
    }
   },
   "id": "c3e2f6dbc9e04a62"
  },
  {
   "cell_type": "code",
   "execution_count": null,
   "outputs": [],
   "source": [],
   "metadata": {
    "collapsed": false
   },
   "id": "32e7e2b96a504701"
  }
 ],
 "metadata": {
  "kernelspec": {
   "display_name": "Python 3",
   "language": "python",
   "name": "python3"
  },
  "language_info": {
   "codemirror_mode": {
    "name": "ipython",
    "version": 2
   },
   "file_extension": ".py",
   "mimetype": "text/x-python",
   "name": "python",
   "nbconvert_exporter": "python",
   "pygments_lexer": "ipython2",
   "version": "2.7.6"
  }
 },
 "nbformat": 4,
 "nbformat_minor": 5
}
