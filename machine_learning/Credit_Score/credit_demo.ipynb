{
 "cells": [
  {
   "cell_type": "markdown",
   "source": [
    "####\n",
    "## Credit Score Card Project"
   ],
   "metadata": {
    "collapsed": false
   }
  },
  {
   "cell_type": "code",
   "execution_count": 1,
   "metadata": {
    "collapsed": true,
    "ExecuteTime": {
     "end_time": "2023-08-07T02:58:51.588306Z",
     "start_time": "2023-08-07T02:58:47.010771Z"
    }
   },
   "outputs": [],
   "source": [
    "import pandas as pd\n",
    "import numpy as np\n",
    "import matplotlib.pyplot as plt\n",
    "from scipy.stats import chi2_contingency"
   ]
  },
  {
   "cell_type": "code",
   "execution_count": 2,
   "metadata": {
    "ExecuteTime": {
     "end_time": "2023-08-07T02:58:51.599537Z",
     "start_time": "2023-08-07T02:58:51.588520Z"
    }
   },
   "outputs": [],
   "source": [
    "df = pd.read_csv('credit_data.csv')\n",
    "# read the csv"
   ]
  },
  {
   "cell_type": "code",
   "execution_count": 3,
   "metadata": {
    "ExecuteTime": {
     "end_time": "2023-08-07T02:58:51.626413Z",
     "start_time": "2023-08-07T02:58:51.601754Z"
    }
   },
   "outputs": [
    {
     "name": "stdout",
     "output_type": "stream",
     "text": [
      "<class 'pandas.core.frame.DataFrame'>\n",
      "RangeIndex: 10000 entries, 0 to 9999\n",
      "Data columns (total 11 columns):\n",
      " #   Column                                Non-Null Count  Dtype  \n",
      "---  ------                                --------------  -----  \n",
      " 0   SeriousDlqin2yrs                      10000 non-null  int64  \n",
      " 1   RevolvingUtilizationOfUnsecuredLines  10000 non-null  float64\n",
      " 2   age                                   10000 non-null  int64  \n",
      " 3   NumberOfTime30-59DaysPastDueNotWorse  10000 non-null  int64  \n",
      " 4   DebtRatio                             10000 non-null  float64\n",
      " 5   MonthlyIncome                         8026 non-null   float64\n",
      " 6   NumberOfOpenCreditLinesAndLoans       10000 non-null  int64  \n",
      " 7   NumberOfTimes90DaysLate               10000 non-null  int64  \n",
      " 8   NumberRealEstateLoansOrLines          10000 non-null  int64  \n",
      " 9   NumberOfTime60-89DaysPastDueNotWorse  10000 non-null  int64  \n",
      " 10  NumberOfDependents                    9716 non-null   float64\n",
      "dtypes: float64(4), int64(7)\n",
      "memory usage: 859.5 KB\n"
     ]
    }
   ],
   "source": [
    "df.info()"
   ]
  },
  {
   "cell_type": "markdown",
   "metadata": {},
   "source": [
    "## 1.1 Pre-process of the dataset:\n",
    "### 1.1 Carefully pre-process the dataset by considering the following activities: (30 marks)\n",
    "•\tExploratory data analysis.\n",
    "•\tMissing value handling (if any), including a suitable analysis of missing values and justification of the chosen method.\n",
    "•\tOutlier detection and treatment (if any), with appropriate analysis/justification.\n",
    "•\tBinning the variables (if deemed useful)\n",
    "•\tCoding the discrete variables using Weights of Evidence.\n",
    "•\tSplitting the data set into a training and test set."
   ]
  },
  {
   "cell_type": "code",
   "execution_count": 4,
   "metadata": {
    "ExecuteTime": {
     "end_time": "2023-08-07T02:58:51.633715Z",
     "start_time": "2023-08-07T02:58:51.611723Z"
    }
   },
   "outputs": [
    {
     "data": {
      "text/plain": "   SeriousDlqin2yrs  RevolvingUtilizationOfUnsecuredLines  age  \\\n0                 1                              0.766127   45   \n1                 0                              0.957151   40   \n2                 0                              0.658180   38   \n3                 0                              0.233810   30   \n4                 0                              0.907239   49   \n\n   NumberOfTime30-59DaysPastDueNotWorse  DebtRatio  MonthlyIncome  \\\n0                                     2   0.802982         9120.0   \n1                                     0   0.121876         2600.0   \n2                                     1   0.085113         3042.0   \n3                                     0   0.036050         3300.0   \n4                                     1   0.024926        63588.0   \n\n   NumberOfOpenCreditLinesAndLoans  NumberOfTimes90DaysLate  \\\n0                               13                        0   \n1                                4                        0   \n2                                2                        1   \n3                                5                        0   \n4                                7                        0   \n\n   NumberRealEstateLoansOrLines  NumberOfTime60-89DaysPastDueNotWorse  \\\n0                             6                                     0   \n1                             0                                     0   \n2                             0                                     0   \n3                             0                                     0   \n4                             1                                     0   \n\n   NumberOfDependents  \n0                 2.0  \n1                 1.0  \n2                 0.0  \n3                 0.0  \n4                 0.0  ",
      "text/html": "<div>\n<style scoped>\n    .dataframe tbody tr th:only-of-type {\n        vertical-align: middle;\n    }\n\n    .dataframe tbody tr th {\n        vertical-align: top;\n    }\n\n    .dataframe thead th {\n        text-align: right;\n    }\n</style>\n<table border=\"1\" class=\"dataframe\">\n  <thead>\n    <tr style=\"text-align: right;\">\n      <th></th>\n      <th>SeriousDlqin2yrs</th>\n      <th>RevolvingUtilizationOfUnsecuredLines</th>\n      <th>age</th>\n      <th>NumberOfTime30-59DaysPastDueNotWorse</th>\n      <th>DebtRatio</th>\n      <th>MonthlyIncome</th>\n      <th>NumberOfOpenCreditLinesAndLoans</th>\n      <th>NumberOfTimes90DaysLate</th>\n      <th>NumberRealEstateLoansOrLines</th>\n      <th>NumberOfTime60-89DaysPastDueNotWorse</th>\n      <th>NumberOfDependents</th>\n    </tr>\n  </thead>\n  <tbody>\n    <tr>\n      <th>0</th>\n      <td>1</td>\n      <td>0.766127</td>\n      <td>45</td>\n      <td>2</td>\n      <td>0.802982</td>\n      <td>9120.0</td>\n      <td>13</td>\n      <td>0</td>\n      <td>6</td>\n      <td>0</td>\n      <td>2.0</td>\n    </tr>\n    <tr>\n      <th>1</th>\n      <td>0</td>\n      <td>0.957151</td>\n      <td>40</td>\n      <td>0</td>\n      <td>0.121876</td>\n      <td>2600.0</td>\n      <td>4</td>\n      <td>0</td>\n      <td>0</td>\n      <td>0</td>\n      <td>1.0</td>\n    </tr>\n    <tr>\n      <th>2</th>\n      <td>0</td>\n      <td>0.658180</td>\n      <td>38</td>\n      <td>1</td>\n      <td>0.085113</td>\n      <td>3042.0</td>\n      <td>2</td>\n      <td>1</td>\n      <td>0</td>\n      <td>0</td>\n      <td>0.0</td>\n    </tr>\n    <tr>\n      <th>3</th>\n      <td>0</td>\n      <td>0.233810</td>\n      <td>30</td>\n      <td>0</td>\n      <td>0.036050</td>\n      <td>3300.0</td>\n      <td>5</td>\n      <td>0</td>\n      <td>0</td>\n      <td>0</td>\n      <td>0.0</td>\n    </tr>\n    <tr>\n      <th>4</th>\n      <td>0</td>\n      <td>0.907239</td>\n      <td>49</td>\n      <td>1</td>\n      <td>0.024926</td>\n      <td>63588.0</td>\n      <td>7</td>\n      <td>0</td>\n      <td>1</td>\n      <td>0</td>\n      <td>0.0</td>\n    </tr>\n  </tbody>\n</table>\n</div>"
     },
     "execution_count": 4,
     "metadata": {},
     "output_type": "execute_result"
    }
   ],
   "source": [
    "df.head()"
   ]
  },
  {
   "cell_type": "code",
   "execution_count": 5,
   "metadata": {
    "ExecuteTime": {
     "end_time": "2023-08-07T02:58:51.634156Z",
     "start_time": "2023-08-07T02:58:51.618973Z"
    }
   },
   "outputs": [
    {
     "name": "stdout",
     "output_type": "stream",
     "text": [
      "<class 'pandas.core.frame.DataFrame'>\n",
      "RangeIndex: 10000 entries, 0 to 9999\n",
      "Data columns (total 11 columns):\n",
      " #   Column                                Non-Null Count  Dtype  \n",
      "---  ------                                --------------  -----  \n",
      " 0   SeriousDlqin2yrs                      10000 non-null  int64  \n",
      " 1   RevolvingUtilizationOfUnsecuredLines  10000 non-null  float64\n",
      " 2   age                                   10000 non-null  int64  \n",
      " 3   NumberOfTime30-59DaysPastDueNotWorse  10000 non-null  int64  \n",
      " 4   DebtRatio                             10000 non-null  float64\n",
      " 5   MonthlyIncome                         8026 non-null   float64\n",
      " 6   NumberOfOpenCreditLinesAndLoans       10000 non-null  int64  \n",
      " 7   NumberOfTimes90DaysLate               10000 non-null  int64  \n",
      " 8   NumberRealEstateLoansOrLines          10000 non-null  int64  \n",
      " 9   NumberOfTime60-89DaysPastDueNotWorse  10000 non-null  int64  \n",
      " 10  NumberOfDependents                    9716 non-null   float64\n",
      "dtypes: float64(4), int64(7)\n",
      "memory usage: 859.5 KB\n"
     ]
    }
   ],
   "source": [
    "df.info()"
   ]
  },
  {
   "cell_type": "code",
   "execution_count": 6,
   "metadata": {
    "ExecuteTime": {
     "end_time": "2023-08-07T02:58:51.635056Z",
     "start_time": "2023-08-07T02:58:51.623255Z"
    }
   },
   "outputs": [],
   "source": [
    "df.drop_duplicates(inplace=True)  # delete the duplicate information\n",
    "df.index = range(df.shape[0])  #update the index"
   ]
  },
  {
   "cell_type": "markdown",
   "metadata": {},
   "source": [
    "We could find that the 'MonthlyIncome' & 'NumberOfDependents' are uncompleted."
   ]
  },
  {
   "cell_type": "code",
   "execution_count": 7,
   "metadata": {
    "ExecuteTime": {
     "end_time": "2023-08-07T02:58:51.635391Z",
     "start_time": "2023-08-07T02:58:51.629189Z"
    }
   },
   "outputs": [
    {
     "data": {
      "text/plain": "5000.0     171\n4000.0     159\n6000.0     138\n10000.0    112\n2500.0     110\nName: MonthlyIncome, dtype: int64"
     },
     "execution_count": 7,
     "metadata": {},
     "output_type": "execute_result"
    }
   ],
   "source": [
    "df['MonthlyIncome'].value_counts().head()"
   ]
  },
  {
   "cell_type": "code",
   "execution_count": 8,
   "metadata": {
    "ExecuteTime": {
     "end_time": "2023-08-07T02:58:51.645779Z",
     "start_time": "2023-08-07T02:58:51.633806Z"
    }
   },
   "outputs": [
    {
     "data": {
      "text/plain": "0.0    5816\n1.0    1732\n2.0    1326\n3.0     576\n4.0     194\nName: NumberOfDependents, dtype: int64"
     },
     "execution_count": 8,
     "metadata": {},
     "output_type": "execute_result"
    }
   ],
   "source": [
    "df['NumberOfDependents'].value_counts().head()"
   ]
  },
  {
   "cell_type": "markdown",
   "metadata": {},
   "source": [
    "For missing data values, I used RandomForest for completion."
   ]
  },
  {
   "cell_type": "code",
   "execution_count": 9,
   "metadata": {
    "ExecuteTime": {
     "end_time": "2023-08-07T02:58:52.558661Z",
     "start_time": "2023-08-07T02:58:51.640386Z"
    }
   },
   "outputs": [],
   "source": [
    "from sklearn.ensemble import RandomForestRegressor, RandomForestClassifier\n",
    "\n",
    "\n",
    "def set_missing_Monthly_income(df):\n",
    "    # Put the known data into Model of RandomForestRegressor\n",
    "    income_df = df[['MonthlyIncome',\n",
    "                    'SeriousDlqin2yrs', 'RevolvingUtilizationOfUnsecuredLines',\n",
    "                    'age', 'NumberOfTime30-59DaysPastDueNotWorse',\n",
    "                    'NumberOfTime60-89DaysPastDueNotWorse', 'DebtRatio',\n",
    "                    'NumberOfOpenCreditLinesAndLoans',\n",
    "                    'NumberOfTimes90DaysLate', 'NumberRealEstateLoansOrLines'\n",
    "                    ]]\n",
    "\n",
    "    known_info = income_df[income_df.MonthlyIncome.notnull()].values\n",
    "    unknown_info = income_df[income_df.MonthlyIncome.isnull()].values\n",
    "\n",
    "    y = known_info[:, 0]\n",
    "    X = known_info[:, 1:]\n",
    "\n",
    "    rfr = RandomForestRegressor(random_state=0, n_estimators=2000, n_jobs=-1)\n",
    "    rfr.fit(X, y)\n",
    "    # fit X & y, build the model\n",
    "    # run Random Forest\n",
    "\n",
    "    # do the prediction\n",
    "    prediction = rfr.predict(unknown_info[:, 1::])\n",
    "\n",
    "    df.loc[(df.MonthlyIncome.isnull()), 'MonthlyIncome'] = np.round(prediction, 0)\n",
    "\n",
    "    return df\n",
    "\n",
    "\n",
    "def set_missing_NumberOfDependents(df):\n",
    "    # Put the known data into Model of RandomForestRegressor\n",
    "    dependents_df = df[['NumberOfDependents',\n",
    "                        'SeriousDlqin2yrs', 'RevolvingUtilizationOfUnsecuredLines',\n",
    "                        'age', 'NumberOfTime30-59DaysPastDueNotWorse',\n",
    "                        'NumberOfTime60-89DaysPastDueNotWorse', 'DebtRatio',\n",
    "                        'NumberOfOpenCreditLinesAndLoans',\n",
    "                        'NumberOfTimes90DaysLate', 'NumberRealEstateLoansOrLines'\n",
    "                        ]]\n",
    "\n",
    "    known_info = dependents_df[dependents_df.NumberOfDependents.notnull()].values\n",
    "    unknown_info = dependents_df[dependents_df.NumberOfDependents.isnull()].values\n",
    "\n",
    "    y = known_info[:, 0]\n",
    "    X = known_info[:, 1:]\n",
    "\n",
    "    rfr = RandomForestRegressor(random_state=0, n_estimators=2000, n_jobs=-1)\n",
    "    rfr.fit(X, y)\n",
    "    # fit X & y, build the model\n",
    "    # run Random Forest\n",
    "\n",
    "    # do the prediction\n",
    "    prediction = rfr.predict(unknown_info[:, 1::])\n",
    "\n",
    "    df.loc[(df.NumberOfDependents.isnull()), 'NumberOfDependents'] = np.round(prediction, 0)\n",
    "\n",
    "    return df\n"
   ]
  },
  {
   "cell_type": "code",
   "execution_count": 10,
   "metadata": {
    "ExecuteTime": {
     "end_time": "2023-08-07T02:59:06.573514Z",
     "start_time": "2023-08-07T02:58:52.560660Z"
    }
   },
   "outputs": [],
   "source": [
    "df = set_missing_Monthly_income(df)\n",
    "df = set_missing_NumberOfDependents(df)"
   ]
  },
  {
   "cell_type": "code",
   "execution_count": 11,
   "metadata": {
    "ExecuteTime": {
     "end_time": "2023-08-07T02:59:06.581201Z",
     "start_time": "2023-08-07T02:59:06.574345Z"
    }
   },
   "outputs": [
    {
     "name": "stdout",
     "output_type": "stream",
     "text": [
      "<class 'pandas.core.frame.DataFrame'>\n",
      "RangeIndex: 9996 entries, 0 to 9995\n",
      "Data columns (total 11 columns):\n",
      " #   Column                                Non-Null Count  Dtype  \n",
      "---  ------                                --------------  -----  \n",
      " 0   SeriousDlqin2yrs                      9996 non-null   int64  \n",
      " 1   RevolvingUtilizationOfUnsecuredLines  9996 non-null   float64\n",
      " 2   age                                   9996 non-null   int64  \n",
      " 3   NumberOfTime30-59DaysPastDueNotWorse  9996 non-null   int64  \n",
      " 4   DebtRatio                             9996 non-null   float64\n",
      " 5   MonthlyIncome                         9996 non-null   float64\n",
      " 6   NumberOfOpenCreditLinesAndLoans       9996 non-null   int64  \n",
      " 7   NumberOfTimes90DaysLate               9996 non-null   int64  \n",
      " 8   NumberRealEstateLoansOrLines          9996 non-null   int64  \n",
      " 9   NumberOfTime60-89DaysPastDueNotWorse  9996 non-null   int64  \n",
      " 10  NumberOfDependents                    9996 non-null   float64\n",
      "dtypes: float64(4), int64(7)\n",
      "memory usage: 859.2 KB\n"
     ]
    }
   ],
   "source": [
    "df.info()"
   ]
  },
  {
   "cell_type": "markdown",
   "metadata": {},
   "source": []
  },
  {
   "cell_type": "code",
   "execution_count": 12,
   "metadata": {
    "ExecuteTime": {
     "end_time": "2023-08-07T02:59:06.626572Z",
     "start_time": "2023-08-07T02:59:06.581385Z"
    }
   },
   "outputs": [],
   "source": [
    "df.to_csv('Credit_data_new.csv')"
   ]
  },
  {
   "cell_type": "markdown",
   "metadata": {},
   "source": [
    "Outlier handling"
   ]
  },
  {
   "cell_type": "code",
   "execution_count": 13,
   "metadata": {
    "ExecuteTime": {
     "end_time": "2023-08-07T02:59:06.634666Z",
     "start_time": "2023-08-07T02:59:06.611822Z"
    }
   },
   "outputs": [
    {
     "data": {
      "text/plain": "       SeriousDlqin2yrs  RevolvingUtilizationOfUnsecuredLines          age  \\\ncount       9996.000000                           9996.000000  9996.000000   \nmean           0.064026                              4.932779    52.174770   \nstd            0.244811                            160.511763    14.772152   \nmin            0.000000                              0.000000    21.000000   \n25%            0.000000                              0.031118    41.000000   \n50%            0.000000                              0.165142    52.000000   \n75%            0.000000                              0.571614    62.000000   \nmax            1.000000                           9340.000000   101.000000   \n\n       NumberOfTime30-59DaysPastDueNotWorse      DebtRatio  MonthlyIncome  \\\ncount                           9996.000000    9996.000000    9996.000000   \nmean                               0.385254     350.597487    5407.781813   \nstd                                3.724470    2244.421925    6642.975412   \nmin                                0.000000       0.000000       0.000000   \n25%                                0.000000       0.173920    1840.500000   \n50%                                0.000000       0.367207    4422.500000   \n75%                                0.000000       0.848781    7416.000000   \nmax                               98.000000  168835.000000  208333.000000   \n\n       NumberOfOpenCreditLinesAndLoans  NumberOfTimes90DaysLate  \\\ncount                      9996.000000              9996.000000   \nmean                          8.348139                 0.231593   \nstd                           5.065953                 3.692276   \nmin                           0.000000                 0.000000   \n25%                           5.000000                 0.000000   \n50%                           8.000000                 0.000000   \n75%                          11.000000                 0.000000   \nmax                          46.000000                98.000000   \n\n       NumberRealEstateLoansOrLines  NumberOfTime60-89DaysPastDueNotWorse  \\\ncount                   9996.000000                           9996.000000   \nmean                       1.008403                              0.202281   \nstd                        1.084489                              3.676718   \nmin                        0.000000                              0.000000   \n25%                        0.000000                              0.000000   \n50%                        1.000000                              0.000000   \n75%                        2.000000                              0.000000   \nmax                       17.000000                             98.000000   \n\n       NumberOfDependents  \ncount         9996.000000  \nmean             0.734394  \nstd              1.116783  \nmin              0.000000  \n25%              0.000000  \n50%              0.000000  \n75%              1.000000  \nmax             20.000000  ",
      "text/html": "<div>\n<style scoped>\n    .dataframe tbody tr th:only-of-type {\n        vertical-align: middle;\n    }\n\n    .dataframe tbody tr th {\n        vertical-align: top;\n    }\n\n    .dataframe thead th {\n        text-align: right;\n    }\n</style>\n<table border=\"1\" class=\"dataframe\">\n  <thead>\n    <tr style=\"text-align: right;\">\n      <th></th>\n      <th>SeriousDlqin2yrs</th>\n      <th>RevolvingUtilizationOfUnsecuredLines</th>\n      <th>age</th>\n      <th>NumberOfTime30-59DaysPastDueNotWorse</th>\n      <th>DebtRatio</th>\n      <th>MonthlyIncome</th>\n      <th>NumberOfOpenCreditLinesAndLoans</th>\n      <th>NumberOfTimes90DaysLate</th>\n      <th>NumberRealEstateLoansOrLines</th>\n      <th>NumberOfTime60-89DaysPastDueNotWorse</th>\n      <th>NumberOfDependents</th>\n    </tr>\n  </thead>\n  <tbody>\n    <tr>\n      <th>count</th>\n      <td>9996.000000</td>\n      <td>9996.000000</td>\n      <td>9996.000000</td>\n      <td>9996.000000</td>\n      <td>9996.000000</td>\n      <td>9996.000000</td>\n      <td>9996.000000</td>\n      <td>9996.000000</td>\n      <td>9996.000000</td>\n      <td>9996.000000</td>\n      <td>9996.000000</td>\n    </tr>\n    <tr>\n      <th>mean</th>\n      <td>0.064026</td>\n      <td>4.932779</td>\n      <td>52.174770</td>\n      <td>0.385254</td>\n      <td>350.597487</td>\n      <td>5407.781813</td>\n      <td>8.348139</td>\n      <td>0.231593</td>\n      <td>1.008403</td>\n      <td>0.202281</td>\n      <td>0.734394</td>\n    </tr>\n    <tr>\n      <th>std</th>\n      <td>0.244811</td>\n      <td>160.511763</td>\n      <td>14.772152</td>\n      <td>3.724470</td>\n      <td>2244.421925</td>\n      <td>6642.975412</td>\n      <td>5.065953</td>\n      <td>3.692276</td>\n      <td>1.084489</td>\n      <td>3.676718</td>\n      <td>1.116783</td>\n    </tr>\n    <tr>\n      <th>min</th>\n      <td>0.000000</td>\n      <td>0.000000</td>\n      <td>21.000000</td>\n      <td>0.000000</td>\n      <td>0.000000</td>\n      <td>0.000000</td>\n      <td>0.000000</td>\n      <td>0.000000</td>\n      <td>0.000000</td>\n      <td>0.000000</td>\n      <td>0.000000</td>\n    </tr>\n    <tr>\n      <th>25%</th>\n      <td>0.000000</td>\n      <td>0.031118</td>\n      <td>41.000000</td>\n      <td>0.000000</td>\n      <td>0.173920</td>\n      <td>1840.500000</td>\n      <td>5.000000</td>\n      <td>0.000000</td>\n      <td>0.000000</td>\n      <td>0.000000</td>\n      <td>0.000000</td>\n    </tr>\n    <tr>\n      <th>50%</th>\n      <td>0.000000</td>\n      <td>0.165142</td>\n      <td>52.000000</td>\n      <td>0.000000</td>\n      <td>0.367207</td>\n      <td>4422.500000</td>\n      <td>8.000000</td>\n      <td>0.000000</td>\n      <td>1.000000</td>\n      <td>0.000000</td>\n      <td>0.000000</td>\n    </tr>\n    <tr>\n      <th>75%</th>\n      <td>0.000000</td>\n      <td>0.571614</td>\n      <td>62.000000</td>\n      <td>0.000000</td>\n      <td>0.848781</td>\n      <td>7416.000000</td>\n      <td>11.000000</td>\n      <td>0.000000</td>\n      <td>2.000000</td>\n      <td>0.000000</td>\n      <td>1.000000</td>\n    </tr>\n    <tr>\n      <th>max</th>\n      <td>1.000000</td>\n      <td>9340.000000</td>\n      <td>101.000000</td>\n      <td>98.000000</td>\n      <td>168835.000000</td>\n      <td>208333.000000</td>\n      <td>46.000000</td>\n      <td>98.000000</td>\n      <td>17.000000</td>\n      <td>98.000000</td>\n      <td>20.000000</td>\n    </tr>\n  </tbody>\n</table>\n</div>"
     },
     "execution_count": 13,
     "metadata": {},
     "output_type": "execute_result"
    }
   ],
   "source": [
    "df.describe()"
   ]
  },
  {
   "cell_type": "markdown",
   "metadata": {},
   "source": [
    "We could find that there is something abnormal for the column 'RevolvingUtilizationOfUnsecuredLines'\n",
    "I chose to delete the data that exceeded the mean by two standard deviations."
   ]
  },
  {
   "cell_type": "code",
   "execution_count": 14,
   "metadata": {
    "ExecuteTime": {
     "end_time": "2023-08-07T02:59:06.636497Z",
     "start_time": "2023-08-07T02:59:06.633471Z"
    }
   },
   "outputs": [],
   "source": [
    "# Define a function that detects data two standard deviations above the mean as outliers\n",
    "\n",
    "def detect_outliers(filename, attribute, threshold=4):\n",
    "    outliers_ll = filename[attribute].mean() - threshold * filename[attribute].std()\n",
    "    outliers_ul = filename[attribute].mean() + threshold * filename[attribute].std()\n",
    "    # Flag outliers\n",
    "    filename[attribute] = filename[attribute].apply(lambda x: x if outliers_ul >= x >= outliers_ll else np.nan)\n",
    "\n",
    "    return filename\n",
    "\n",
    "# df = detect_outliers(df, 'RevolvingUtilizationOfUnsecuredLines')\n",
    "# df.dropna(subset=['RevolvingUtilizationOfUnsecuredLines'], inplace=True)"
   ]
  },
  {
   "cell_type": "code",
   "execution_count": 15,
   "metadata": {
    "ExecuteTime": {
     "end_time": "2023-08-07T02:59:06.643536Z",
     "start_time": "2023-08-07T02:59:06.635745Z"
    }
   },
   "outputs": [],
   "source": [
    "df = detect_outliers(df, 'RevolvingUtilizationOfUnsecuredLines')\n",
    "df.dropna(subset=['RevolvingUtilizationOfUnsecuredLines'], inplace=True)"
   ]
  },
  {
   "cell_type": "code",
   "execution_count": 16,
   "metadata": {
    "ExecuteTime": {
     "end_time": "2023-08-07T02:59:06.664593Z",
     "start_time": "2023-08-07T02:59:06.647091Z"
    }
   },
   "outputs": [
    {
     "data": {
      "text/plain": "   SeriousDlqin2yrs  RevolvingUtilizationOfUnsecuredLines  age  \\\n0                 1                              0.766127   45   \n1                 0                              0.957151   40   \n2                 0                              0.658180   38   \n3                 0                              0.233810   30   \n4                 0                              0.907239   49   \n\n   NumberOfTime30-59DaysPastDueNotWorse  DebtRatio  MonthlyIncome  \\\n0                                     2   0.802982         9120.0   \n1                                     0   0.121876         2600.0   \n2                                     1   0.085113         3042.0   \n3                                     0   0.036050         3300.0   \n4                                     1   0.024926        63588.0   \n\n   NumberOfOpenCreditLinesAndLoans  NumberOfTimes90DaysLate  \\\n0                               13                        0   \n1                                4                        0   \n2                                2                        1   \n3                                5                        0   \n4                                7                        0   \n\n   NumberRealEstateLoansOrLines  NumberOfTime60-89DaysPastDueNotWorse  \\\n0                             6                                     0   \n1                             0                                     0   \n2                             0                                     0   \n3                             0                                     0   \n4                             1                                     0   \n\n   NumberOfDependents  \n0                 2.0  \n1                 1.0  \n2                 0.0  \n3                 0.0  \n4                 0.0  ",
      "text/html": "<div>\n<style scoped>\n    .dataframe tbody tr th:only-of-type {\n        vertical-align: middle;\n    }\n\n    .dataframe tbody tr th {\n        vertical-align: top;\n    }\n\n    .dataframe thead th {\n        text-align: right;\n    }\n</style>\n<table border=\"1\" class=\"dataframe\">\n  <thead>\n    <tr style=\"text-align: right;\">\n      <th></th>\n      <th>SeriousDlqin2yrs</th>\n      <th>RevolvingUtilizationOfUnsecuredLines</th>\n      <th>age</th>\n      <th>NumberOfTime30-59DaysPastDueNotWorse</th>\n      <th>DebtRatio</th>\n      <th>MonthlyIncome</th>\n      <th>NumberOfOpenCreditLinesAndLoans</th>\n      <th>NumberOfTimes90DaysLate</th>\n      <th>NumberRealEstateLoansOrLines</th>\n      <th>NumberOfTime60-89DaysPastDueNotWorse</th>\n      <th>NumberOfDependents</th>\n    </tr>\n  </thead>\n  <tbody>\n    <tr>\n      <th>0</th>\n      <td>1</td>\n      <td>0.766127</td>\n      <td>45</td>\n      <td>2</td>\n      <td>0.802982</td>\n      <td>9120.0</td>\n      <td>13</td>\n      <td>0</td>\n      <td>6</td>\n      <td>0</td>\n      <td>2.0</td>\n    </tr>\n    <tr>\n      <th>1</th>\n      <td>0</td>\n      <td>0.957151</td>\n      <td>40</td>\n      <td>0</td>\n      <td>0.121876</td>\n      <td>2600.0</td>\n      <td>4</td>\n      <td>0</td>\n      <td>0</td>\n      <td>0</td>\n      <td>1.0</td>\n    </tr>\n    <tr>\n      <th>2</th>\n      <td>0</td>\n      <td>0.658180</td>\n      <td>38</td>\n      <td>1</td>\n      <td>0.085113</td>\n      <td>3042.0</td>\n      <td>2</td>\n      <td>1</td>\n      <td>0</td>\n      <td>0</td>\n      <td>0.0</td>\n    </tr>\n    <tr>\n      <th>3</th>\n      <td>0</td>\n      <td>0.233810</td>\n      <td>30</td>\n      <td>0</td>\n      <td>0.036050</td>\n      <td>3300.0</td>\n      <td>5</td>\n      <td>0</td>\n      <td>0</td>\n      <td>0</td>\n      <td>0.0</td>\n    </tr>\n    <tr>\n      <th>4</th>\n      <td>0</td>\n      <td>0.907239</td>\n      <td>49</td>\n      <td>1</td>\n      <td>0.024926</td>\n      <td>63588.0</td>\n      <td>7</td>\n      <td>0</td>\n      <td>1</td>\n      <td>0</td>\n      <td>0.0</td>\n    </tr>\n  </tbody>\n</table>\n</div>"
     },
     "execution_count": 16,
     "metadata": {},
     "output_type": "execute_result"
    }
   ],
   "source": [
    "df.head()"
   ]
  },
  {
   "cell_type": "code",
   "execution_count": 17,
   "metadata": {
    "ExecuteTime": {
     "end_time": "2023-08-07T02:59:06.699680Z",
     "start_time": "2023-08-07T02:59:06.649827Z"
    }
   },
   "outputs": [
    {
     "data": {
      "text/plain": "       SeriousDlqin2yrs  RevolvingUtilizationOfUnsecuredLines          age  \\\ncount       9983.000000                           9983.000000  9983.000000   \nmean           0.063708                              0.328064    52.186818   \nstd            0.244245                              0.364239    14.772131   \nmin            0.000000                              0.000000    21.000000   \n25%            0.000000                              0.031040    41.000000   \n50%            0.000000                              0.163879    52.000000   \n75%            0.000000                              0.569015    62.000000   \nmax            1.000000                              5.299401   101.000000   \n\n       NumberOfTime30-59DaysPastDueNotWorse      DebtRatio  MonthlyIncome  \\\ncount                           9983.000000    9983.000000    9983.000000   \nmean                               0.385355     351.009420    5406.886707   \nstd                                3.726802    2245.849886    6646.505771   \nmin                                0.000000       0.000000       0.000000   \n25%                                0.000000       0.173972    1833.000000   \n50%                                0.000000       0.367323    4416.000000   \n75%                                0.000000       0.850214    7416.000000   \nmax                               98.000000  168835.000000  208333.000000   \n\n       NumberOfOpenCreditLinesAndLoans  NumberOfTimes90DaysLate  \\\ncount                      9983.000000              9983.000000   \nmean                          8.351598                 0.231794   \nstd                           5.067031                 3.694663   \nmin                           0.000000                 0.000000   \n25%                           5.000000                 0.000000   \n50%                           8.000000                 0.000000   \n75%                          11.000000                 0.000000   \nmax                          46.000000                98.000000   \n\n       NumberRealEstateLoansOrLines  NumberOfTime60-89DaysPastDueNotWorse  \\\ncount                   9983.000000                           9983.000000   \nmean                       1.008314                              0.202544   \nstd                        1.084504                              3.679105   \nmin                        0.000000                              0.000000   \n25%                        0.000000                              0.000000   \n50%                        1.000000                              0.000000   \n75%                        2.000000                              0.000000   \nmax                       17.000000                             98.000000   \n\n       NumberOfDependents  \ncount         9983.000000  \nmean             0.733848  \nstd              1.116704  \nmin              0.000000  \n25%              0.000000  \n50%              0.000000  \n75%              1.000000  \nmax             20.000000  ",
      "text/html": "<div>\n<style scoped>\n    .dataframe tbody tr th:only-of-type {\n        vertical-align: middle;\n    }\n\n    .dataframe tbody tr th {\n        vertical-align: top;\n    }\n\n    .dataframe thead th {\n        text-align: right;\n    }\n</style>\n<table border=\"1\" class=\"dataframe\">\n  <thead>\n    <tr style=\"text-align: right;\">\n      <th></th>\n      <th>SeriousDlqin2yrs</th>\n      <th>RevolvingUtilizationOfUnsecuredLines</th>\n      <th>age</th>\n      <th>NumberOfTime30-59DaysPastDueNotWorse</th>\n      <th>DebtRatio</th>\n      <th>MonthlyIncome</th>\n      <th>NumberOfOpenCreditLinesAndLoans</th>\n      <th>NumberOfTimes90DaysLate</th>\n      <th>NumberRealEstateLoansOrLines</th>\n      <th>NumberOfTime60-89DaysPastDueNotWorse</th>\n      <th>NumberOfDependents</th>\n    </tr>\n  </thead>\n  <tbody>\n    <tr>\n      <th>count</th>\n      <td>9983.000000</td>\n      <td>9983.000000</td>\n      <td>9983.000000</td>\n      <td>9983.000000</td>\n      <td>9983.000000</td>\n      <td>9983.000000</td>\n      <td>9983.000000</td>\n      <td>9983.000000</td>\n      <td>9983.000000</td>\n      <td>9983.000000</td>\n      <td>9983.000000</td>\n    </tr>\n    <tr>\n      <th>mean</th>\n      <td>0.063708</td>\n      <td>0.328064</td>\n      <td>52.186818</td>\n      <td>0.385355</td>\n      <td>351.009420</td>\n      <td>5406.886707</td>\n      <td>8.351598</td>\n      <td>0.231794</td>\n      <td>1.008314</td>\n      <td>0.202544</td>\n      <td>0.733848</td>\n    </tr>\n    <tr>\n      <th>std</th>\n      <td>0.244245</td>\n      <td>0.364239</td>\n      <td>14.772131</td>\n      <td>3.726802</td>\n      <td>2245.849886</td>\n      <td>6646.505771</td>\n      <td>5.067031</td>\n      <td>3.694663</td>\n      <td>1.084504</td>\n      <td>3.679105</td>\n      <td>1.116704</td>\n    </tr>\n    <tr>\n      <th>min</th>\n      <td>0.000000</td>\n      <td>0.000000</td>\n      <td>21.000000</td>\n      <td>0.000000</td>\n      <td>0.000000</td>\n      <td>0.000000</td>\n      <td>0.000000</td>\n      <td>0.000000</td>\n      <td>0.000000</td>\n      <td>0.000000</td>\n      <td>0.000000</td>\n    </tr>\n    <tr>\n      <th>25%</th>\n      <td>0.000000</td>\n      <td>0.031040</td>\n      <td>41.000000</td>\n      <td>0.000000</td>\n      <td>0.173972</td>\n      <td>1833.000000</td>\n      <td>5.000000</td>\n      <td>0.000000</td>\n      <td>0.000000</td>\n      <td>0.000000</td>\n      <td>0.000000</td>\n    </tr>\n    <tr>\n      <th>50%</th>\n      <td>0.000000</td>\n      <td>0.163879</td>\n      <td>52.000000</td>\n      <td>0.000000</td>\n      <td>0.367323</td>\n      <td>4416.000000</td>\n      <td>8.000000</td>\n      <td>0.000000</td>\n      <td>1.000000</td>\n      <td>0.000000</td>\n      <td>0.000000</td>\n    </tr>\n    <tr>\n      <th>75%</th>\n      <td>0.000000</td>\n      <td>0.569015</td>\n      <td>62.000000</td>\n      <td>0.000000</td>\n      <td>0.850214</td>\n      <td>7416.000000</td>\n      <td>11.000000</td>\n      <td>0.000000</td>\n      <td>2.000000</td>\n      <td>0.000000</td>\n      <td>1.000000</td>\n    </tr>\n    <tr>\n      <th>max</th>\n      <td>1.000000</td>\n      <td>5.299401</td>\n      <td>101.000000</td>\n      <td>98.000000</td>\n      <td>168835.000000</td>\n      <td>208333.000000</td>\n      <td>46.000000</td>\n      <td>98.000000</td>\n      <td>17.000000</td>\n      <td>98.000000</td>\n      <td>20.000000</td>\n    </tr>\n  </tbody>\n</table>\n</div>"
     },
     "execution_count": 17,
     "metadata": {},
     "output_type": "execute_result"
    }
   ],
   "source": [
    "df.describe()"
   ]
  },
  {
   "cell_type": "code",
   "execution_count": 18,
   "metadata": {
    "ExecuteTime": {
     "end_time": "2023-08-07T02:59:06.703643Z",
     "start_time": "2023-08-07T02:59:06.671848Z"
    }
   },
   "outputs": [],
   "source": [
    "df = detect_outliers(df, 'NumberOfTime30-59DaysPastDueNotWorse')\n",
    "df.dropna(subset=['NumberOfTime30-59DaysPastDueNotWorse'], inplace=True)"
   ]
  },
  {
   "cell_type": "code",
   "execution_count": 19,
   "metadata": {
    "ExecuteTime": {
     "end_time": "2023-08-07T02:59:06.712659Z",
     "start_time": "2023-08-07T02:59:06.679127Z"
    }
   },
   "outputs": [
    {
     "data": {
      "text/plain": "       SeriousDlqin2yrs  RevolvingUtilizationOfUnsecuredLines          age  \\\ncount       9969.000000                           9969.000000  9969.000000   \nmean           0.063096                              0.327120    52.218377   \nstd            0.243147                              0.363623    14.753450   \nmin            0.000000                              0.000000    21.000000   \n25%            0.000000                              0.030992    41.000000   \n50%            0.000000                              0.163256    52.000000   \n75%            0.000000                              0.567427    62.000000   \nmax            1.000000                              5.299401   101.000000   \n\n       NumberOfTime30-59DaysPastDueNotWorse      DebtRatio  MonthlyIncome  \\\ncount                           9969.000000    9969.000000    9969.000000   \nmean                               0.248270     351.499050    5411.895677   \nstd                                0.711952    2247.388426    6649.516444   \nmin                                0.000000       0.000000       0.000000   \n25%                                0.000000       0.174903    1850.000000   \n50%                                0.000000       0.367628    4428.000000   \n75%                                0.000000       0.852236    7416.000000   \nmax                               12.000000  168835.000000  208333.000000   \n\n       NumberOfOpenCreditLinesAndLoans  NumberOfTimes90DaysLate  \\\ncount                      9969.000000              9969.000000   \nmean                          8.363326                 0.094493   \nstd                           5.060905                 0.475207   \nmin                           0.000000                 0.000000   \n25%                           5.000000                 0.000000   \n50%                           8.000000                 0.000000   \n75%                          11.000000                 0.000000   \nmax                          46.000000                10.000000   \n\n       NumberRealEstateLoansOrLines  NumberOfTime60-89DaysPastDueNotWorse  \\\ncount                   9969.000000                           9969.000000   \nmean                       1.009730                              0.065202   \nstd                        1.084606                              0.320766   \nmin                        0.000000                              0.000000   \n25%                        0.000000                              0.000000   \n50%                        1.000000                              0.000000   \n75%                        2.000000                              0.000000   \nmax                       17.000000                              6.000000   \n\n       NumberOfDependents  \ncount         9969.000000  \nmean             0.734878  \nstd              1.117149  \nmin              0.000000  \n25%              0.000000  \n50%              0.000000  \n75%              1.000000  \nmax             20.000000  ",
      "text/html": "<div>\n<style scoped>\n    .dataframe tbody tr th:only-of-type {\n        vertical-align: middle;\n    }\n\n    .dataframe tbody tr th {\n        vertical-align: top;\n    }\n\n    .dataframe thead th {\n        text-align: right;\n    }\n</style>\n<table border=\"1\" class=\"dataframe\">\n  <thead>\n    <tr style=\"text-align: right;\">\n      <th></th>\n      <th>SeriousDlqin2yrs</th>\n      <th>RevolvingUtilizationOfUnsecuredLines</th>\n      <th>age</th>\n      <th>NumberOfTime30-59DaysPastDueNotWorse</th>\n      <th>DebtRatio</th>\n      <th>MonthlyIncome</th>\n      <th>NumberOfOpenCreditLinesAndLoans</th>\n      <th>NumberOfTimes90DaysLate</th>\n      <th>NumberRealEstateLoansOrLines</th>\n      <th>NumberOfTime60-89DaysPastDueNotWorse</th>\n      <th>NumberOfDependents</th>\n    </tr>\n  </thead>\n  <tbody>\n    <tr>\n      <th>count</th>\n      <td>9969.000000</td>\n      <td>9969.000000</td>\n      <td>9969.000000</td>\n      <td>9969.000000</td>\n      <td>9969.000000</td>\n      <td>9969.000000</td>\n      <td>9969.000000</td>\n      <td>9969.000000</td>\n      <td>9969.000000</td>\n      <td>9969.000000</td>\n      <td>9969.000000</td>\n    </tr>\n    <tr>\n      <th>mean</th>\n      <td>0.063096</td>\n      <td>0.327120</td>\n      <td>52.218377</td>\n      <td>0.248270</td>\n      <td>351.499050</td>\n      <td>5411.895677</td>\n      <td>8.363326</td>\n      <td>0.094493</td>\n      <td>1.009730</td>\n      <td>0.065202</td>\n      <td>0.734878</td>\n    </tr>\n    <tr>\n      <th>std</th>\n      <td>0.243147</td>\n      <td>0.363623</td>\n      <td>14.753450</td>\n      <td>0.711952</td>\n      <td>2247.388426</td>\n      <td>6649.516444</td>\n      <td>5.060905</td>\n      <td>0.475207</td>\n      <td>1.084606</td>\n      <td>0.320766</td>\n      <td>1.117149</td>\n    </tr>\n    <tr>\n      <th>min</th>\n      <td>0.000000</td>\n      <td>0.000000</td>\n      <td>21.000000</td>\n      <td>0.000000</td>\n      <td>0.000000</td>\n      <td>0.000000</td>\n      <td>0.000000</td>\n      <td>0.000000</td>\n      <td>0.000000</td>\n      <td>0.000000</td>\n      <td>0.000000</td>\n    </tr>\n    <tr>\n      <th>25%</th>\n      <td>0.000000</td>\n      <td>0.030992</td>\n      <td>41.000000</td>\n      <td>0.000000</td>\n      <td>0.174903</td>\n      <td>1850.000000</td>\n      <td>5.000000</td>\n      <td>0.000000</td>\n      <td>0.000000</td>\n      <td>0.000000</td>\n      <td>0.000000</td>\n    </tr>\n    <tr>\n      <th>50%</th>\n      <td>0.000000</td>\n      <td>0.163256</td>\n      <td>52.000000</td>\n      <td>0.000000</td>\n      <td>0.367628</td>\n      <td>4428.000000</td>\n      <td>8.000000</td>\n      <td>0.000000</td>\n      <td>1.000000</td>\n      <td>0.000000</td>\n      <td>0.000000</td>\n    </tr>\n    <tr>\n      <th>75%</th>\n      <td>0.000000</td>\n      <td>0.567427</td>\n      <td>62.000000</td>\n      <td>0.000000</td>\n      <td>0.852236</td>\n      <td>7416.000000</td>\n      <td>11.000000</td>\n      <td>0.000000</td>\n      <td>2.000000</td>\n      <td>0.000000</td>\n      <td>1.000000</td>\n    </tr>\n    <tr>\n      <th>max</th>\n      <td>1.000000</td>\n      <td>5.299401</td>\n      <td>101.000000</td>\n      <td>12.000000</td>\n      <td>168835.000000</td>\n      <td>208333.000000</td>\n      <td>46.000000</td>\n      <td>10.000000</td>\n      <td>17.000000</td>\n      <td>6.000000</td>\n      <td>20.000000</td>\n    </tr>\n  </tbody>\n</table>\n</div>"
     },
     "execution_count": 19,
     "metadata": {},
     "output_type": "execute_result"
    }
   ],
   "source": [
    "df.describe()"
   ]
  },
  {
   "cell_type": "code",
   "execution_count": 20,
   "metadata": {
    "ExecuteTime": {
     "end_time": "2023-08-07T02:59:06.715276Z",
     "start_time": "2023-08-07T02:59:06.696582Z"
    }
   },
   "outputs": [],
   "source": [
    "# Since the outliers of the debtratio distribution are too large, exceeding the range of 3 standard deviations, I set the range of standard deviations here as 8\n",
    "df = detect_outliers(df, 'DebtRatio', 8)\n",
    "df.dropna(subset=['DebtRatio'], inplace=True)"
   ]
  },
  {
   "cell_type": "code",
   "execution_count": 21,
   "metadata": {
    "ExecuteTime": {
     "end_time": "2023-08-07T02:59:06.774284Z",
     "start_time": "2023-08-07T02:59:06.704330Z"
    }
   },
   "outputs": [
    {
     "data": {
      "text/plain": "       SeriousDlqin2yrs  RevolvingUtilizationOfUnsecuredLines          age  \\\ncount       9967.000000                           9967.000000  9967.000000   \nmean           0.063108                              0.327170    52.216113   \nstd            0.243170                              0.363640    14.753682   \nmin            0.000000                              0.000000    21.000000   \n25%            0.000000                              0.030994    41.000000   \n50%            0.000000                              0.163401    52.000000   \n75%            0.000000                              0.567574    62.000000   \nmax            1.000000                              5.299401   101.000000   \n\n       NumberOfTime30-59DaysPastDueNotWorse     DebtRatio  MonthlyIncome  \\\ncount                           9967.000000   9967.000000    9967.000000   \nmean                               0.248319    323.498247    5412.895455   \nstd                                0.712014    987.527464    6649.806342   \nmin                                0.000000      0.000000       0.000000   \n25%                                0.000000      0.174878    1850.000000   \n50%                                0.000000      0.367554    4430.000000   \n75%                                0.000000      0.850214    7416.000000   \nmax                               12.000000  15466.000000  208333.000000   \n\n       NumberOfOpenCreditLinesAndLoans  NumberOfTimes90DaysLate  \\\ncount                      9967.000000              9967.000000   \nmean                          8.363098                 0.094512   \nstd                           5.061383                 0.475252   \nmin                           0.000000                 0.000000   \n25%                           5.000000                 0.000000   \n50%                           8.000000                 0.000000   \n75%                          11.000000                 0.000000   \nmax                          46.000000                10.000000   \n\n       NumberRealEstateLoansOrLines  NumberOfTime60-89DaysPastDueNotWorse  \\\ncount                   9967.000000                           9967.000000   \nmean                       1.009632                              0.065215   \nstd                        1.084484                              0.320797   \nmin                        0.000000                              0.000000   \n25%                        0.000000                              0.000000   \n50%                        1.000000                              0.000000   \n75%                        2.000000                              0.000000   \nmax                       17.000000                              6.000000   \n\n       NumberOfDependents  \ncount         9967.000000  \nmean             0.734825  \nstd              1.117165  \nmin              0.000000  \n25%              0.000000  \n50%              0.000000  \n75%              1.000000  \nmax             20.000000  ",
      "text/html": "<div>\n<style scoped>\n    .dataframe tbody tr th:only-of-type {\n        vertical-align: middle;\n    }\n\n    .dataframe tbody tr th {\n        vertical-align: top;\n    }\n\n    .dataframe thead th {\n        text-align: right;\n    }\n</style>\n<table border=\"1\" class=\"dataframe\">\n  <thead>\n    <tr style=\"text-align: right;\">\n      <th></th>\n      <th>SeriousDlqin2yrs</th>\n      <th>RevolvingUtilizationOfUnsecuredLines</th>\n      <th>age</th>\n      <th>NumberOfTime30-59DaysPastDueNotWorse</th>\n      <th>DebtRatio</th>\n      <th>MonthlyIncome</th>\n      <th>NumberOfOpenCreditLinesAndLoans</th>\n      <th>NumberOfTimes90DaysLate</th>\n      <th>NumberRealEstateLoansOrLines</th>\n      <th>NumberOfTime60-89DaysPastDueNotWorse</th>\n      <th>NumberOfDependents</th>\n    </tr>\n  </thead>\n  <tbody>\n    <tr>\n      <th>count</th>\n      <td>9967.000000</td>\n      <td>9967.000000</td>\n      <td>9967.000000</td>\n      <td>9967.000000</td>\n      <td>9967.000000</td>\n      <td>9967.000000</td>\n      <td>9967.000000</td>\n      <td>9967.000000</td>\n      <td>9967.000000</td>\n      <td>9967.000000</td>\n      <td>9967.000000</td>\n    </tr>\n    <tr>\n      <th>mean</th>\n      <td>0.063108</td>\n      <td>0.327170</td>\n      <td>52.216113</td>\n      <td>0.248319</td>\n      <td>323.498247</td>\n      <td>5412.895455</td>\n      <td>8.363098</td>\n      <td>0.094512</td>\n      <td>1.009632</td>\n      <td>0.065215</td>\n      <td>0.734825</td>\n    </tr>\n    <tr>\n      <th>std</th>\n      <td>0.243170</td>\n      <td>0.363640</td>\n      <td>14.753682</td>\n      <td>0.712014</td>\n      <td>987.527464</td>\n      <td>6649.806342</td>\n      <td>5.061383</td>\n      <td>0.475252</td>\n      <td>1.084484</td>\n      <td>0.320797</td>\n      <td>1.117165</td>\n    </tr>\n    <tr>\n      <th>min</th>\n      <td>0.000000</td>\n      <td>0.000000</td>\n      <td>21.000000</td>\n      <td>0.000000</td>\n      <td>0.000000</td>\n      <td>0.000000</td>\n      <td>0.000000</td>\n      <td>0.000000</td>\n      <td>0.000000</td>\n      <td>0.000000</td>\n      <td>0.000000</td>\n    </tr>\n    <tr>\n      <th>25%</th>\n      <td>0.000000</td>\n      <td>0.030994</td>\n      <td>41.000000</td>\n      <td>0.000000</td>\n      <td>0.174878</td>\n      <td>1850.000000</td>\n      <td>5.000000</td>\n      <td>0.000000</td>\n      <td>0.000000</td>\n      <td>0.000000</td>\n      <td>0.000000</td>\n    </tr>\n    <tr>\n      <th>50%</th>\n      <td>0.000000</td>\n      <td>0.163401</td>\n      <td>52.000000</td>\n      <td>0.000000</td>\n      <td>0.367554</td>\n      <td>4430.000000</td>\n      <td>8.000000</td>\n      <td>0.000000</td>\n      <td>1.000000</td>\n      <td>0.000000</td>\n      <td>0.000000</td>\n    </tr>\n    <tr>\n      <th>75%</th>\n      <td>0.000000</td>\n      <td>0.567574</td>\n      <td>62.000000</td>\n      <td>0.000000</td>\n      <td>0.850214</td>\n      <td>7416.000000</td>\n      <td>11.000000</td>\n      <td>0.000000</td>\n      <td>2.000000</td>\n      <td>0.000000</td>\n      <td>1.000000</td>\n    </tr>\n    <tr>\n      <th>max</th>\n      <td>1.000000</td>\n      <td>5.299401</td>\n      <td>101.000000</td>\n      <td>12.000000</td>\n      <td>15466.000000</td>\n      <td>208333.000000</td>\n      <td>46.000000</td>\n      <td>10.000000</td>\n      <td>17.000000</td>\n      <td>6.000000</td>\n      <td>20.000000</td>\n    </tr>\n  </tbody>\n</table>\n</div>"
     },
     "execution_count": 21,
     "metadata": {},
     "output_type": "execute_result"
    }
   ],
   "source": [
    "df.describe()"
   ]
  },
  {
   "cell_type": "code",
   "execution_count": 22,
   "metadata": {
    "ExecuteTime": {
     "end_time": "2023-08-07T02:59:06.774760Z",
     "start_time": "2023-08-07T02:59:06.722231Z"
    }
   },
   "outputs": [],
   "source": [
    "#On the NumberOfDependents column, there is only one value of 20, which is much larger than the remaining branch, and I simply delete it\n",
    "df = df.drop(df[df['NumberOfDependents'] == 20].index)"
   ]
  },
  {
   "cell_type": "code",
   "execution_count": 23,
   "metadata": {
    "ExecuteTime": {
     "end_time": "2023-08-07T02:59:06.788619Z",
     "start_time": "2023-08-07T02:59:06.725065Z"
    }
   },
   "outputs": [
    {
     "data": {
      "text/plain": "       SeriousDlqin2yrs  RevolvingUtilizationOfUnsecuredLines          age  \\\ncount       9966.000000                           9966.000000  9966.000000   \nmean           0.063115                              0.327180    52.217339   \nstd            0.243181                              0.363657    14.753915   \nmin            0.000000                              0.000000    21.000000   \n25%            0.000000                              0.030993    41.000000   \n50%            0.000000                              0.163328    52.000000   \n75%            0.000000                              0.567648    62.000000   \nmax            1.000000                              5.299401   101.000000   \n\n       NumberOfTime30-59DaysPastDueNotWorse     DebtRatio  MonthlyIncome  \\\ncount                           9966.000000   9966.000000    9966.000000   \nmean                               0.248244    323.530649    5412.804836   \nstd                                0.712010    987.571714    6650.133838   \nmin                                0.000000      0.000000       0.000000   \n25%                                0.000000      0.174866    1850.000000   \n50%                                0.000000      0.367543    4429.000000   \n75%                                0.000000      0.850491    7416.000000   \nmax                               12.000000  15466.000000  208333.000000   \n\n       NumberOfOpenCreditLinesAndLoans  NumberOfTimes90DaysLate  \\\ncount                      9966.000000              9966.000000   \nmean                          8.362834                 0.094321   \nstd                           5.061568                 0.474893   \nmin                           0.000000                 0.000000   \n25%                           5.000000                 0.000000   \n50%                           8.000000                 0.000000   \n75%                          11.000000                 0.000000   \nmax                          46.000000                10.000000   \n\n       NumberRealEstateLoansOrLines  NumberOfTime60-89DaysPastDueNotWorse  \\\ncount                   9966.000000                           9966.000000   \nmean                       1.009633                              0.065222   \nstd                        1.084539                              0.320813   \nmin                        0.000000                              0.000000   \n25%                        0.000000                              0.000000   \n50%                        1.000000                              0.000000   \n75%                        2.000000                              0.000000   \nmax                       17.000000                              6.000000   \n\n       NumberOfDependents  \ncount         9966.000000  \nmean             0.732892  \nstd              1.100424  \nmin              0.000000  \n25%              0.000000  \n50%              0.000000  \n75%              1.000000  \nmax              8.000000  ",
      "text/html": "<div>\n<style scoped>\n    .dataframe tbody tr th:only-of-type {\n        vertical-align: middle;\n    }\n\n    .dataframe tbody tr th {\n        vertical-align: top;\n    }\n\n    .dataframe thead th {\n        text-align: right;\n    }\n</style>\n<table border=\"1\" class=\"dataframe\">\n  <thead>\n    <tr style=\"text-align: right;\">\n      <th></th>\n      <th>SeriousDlqin2yrs</th>\n      <th>RevolvingUtilizationOfUnsecuredLines</th>\n      <th>age</th>\n      <th>NumberOfTime30-59DaysPastDueNotWorse</th>\n      <th>DebtRatio</th>\n      <th>MonthlyIncome</th>\n      <th>NumberOfOpenCreditLinesAndLoans</th>\n      <th>NumberOfTimes90DaysLate</th>\n      <th>NumberRealEstateLoansOrLines</th>\n      <th>NumberOfTime60-89DaysPastDueNotWorse</th>\n      <th>NumberOfDependents</th>\n    </tr>\n  </thead>\n  <tbody>\n    <tr>\n      <th>count</th>\n      <td>9966.000000</td>\n      <td>9966.000000</td>\n      <td>9966.000000</td>\n      <td>9966.000000</td>\n      <td>9966.000000</td>\n      <td>9966.000000</td>\n      <td>9966.000000</td>\n      <td>9966.000000</td>\n      <td>9966.000000</td>\n      <td>9966.000000</td>\n      <td>9966.000000</td>\n    </tr>\n    <tr>\n      <th>mean</th>\n      <td>0.063115</td>\n      <td>0.327180</td>\n      <td>52.217339</td>\n      <td>0.248244</td>\n      <td>323.530649</td>\n      <td>5412.804836</td>\n      <td>8.362834</td>\n      <td>0.094321</td>\n      <td>1.009633</td>\n      <td>0.065222</td>\n      <td>0.732892</td>\n    </tr>\n    <tr>\n      <th>std</th>\n      <td>0.243181</td>\n      <td>0.363657</td>\n      <td>14.753915</td>\n      <td>0.712010</td>\n      <td>987.571714</td>\n      <td>6650.133838</td>\n      <td>5.061568</td>\n      <td>0.474893</td>\n      <td>1.084539</td>\n      <td>0.320813</td>\n      <td>1.100424</td>\n    </tr>\n    <tr>\n      <th>min</th>\n      <td>0.000000</td>\n      <td>0.000000</td>\n      <td>21.000000</td>\n      <td>0.000000</td>\n      <td>0.000000</td>\n      <td>0.000000</td>\n      <td>0.000000</td>\n      <td>0.000000</td>\n      <td>0.000000</td>\n      <td>0.000000</td>\n      <td>0.000000</td>\n    </tr>\n    <tr>\n      <th>25%</th>\n      <td>0.000000</td>\n      <td>0.030993</td>\n      <td>41.000000</td>\n      <td>0.000000</td>\n      <td>0.174866</td>\n      <td>1850.000000</td>\n      <td>5.000000</td>\n      <td>0.000000</td>\n      <td>0.000000</td>\n      <td>0.000000</td>\n      <td>0.000000</td>\n    </tr>\n    <tr>\n      <th>50%</th>\n      <td>0.000000</td>\n      <td>0.163328</td>\n      <td>52.000000</td>\n      <td>0.000000</td>\n      <td>0.367543</td>\n      <td>4429.000000</td>\n      <td>8.000000</td>\n      <td>0.000000</td>\n      <td>1.000000</td>\n      <td>0.000000</td>\n      <td>0.000000</td>\n    </tr>\n    <tr>\n      <th>75%</th>\n      <td>0.000000</td>\n      <td>0.567648</td>\n      <td>62.000000</td>\n      <td>0.000000</td>\n      <td>0.850491</td>\n      <td>7416.000000</td>\n      <td>11.000000</td>\n      <td>0.000000</td>\n      <td>2.000000</td>\n      <td>0.000000</td>\n      <td>1.000000</td>\n    </tr>\n    <tr>\n      <th>max</th>\n      <td>1.000000</td>\n      <td>5.299401</td>\n      <td>101.000000</td>\n      <td>12.000000</td>\n      <td>15466.000000</td>\n      <td>208333.000000</td>\n      <td>46.000000</td>\n      <td>10.000000</td>\n      <td>17.000000</td>\n      <td>6.000000</td>\n      <td>8.000000</td>\n    </tr>\n  </tbody>\n</table>\n</div>"
     },
     "execution_count": 23,
     "metadata": {},
     "output_type": "execute_result"
    }
   ],
   "source": [
    "df.describe()"
   ]
  },
  {
   "cell_type": "code",
   "execution_count": 24,
   "metadata": {
    "ExecuteTime": {
     "end_time": "2023-08-07T02:59:06.804291Z",
     "start_time": "2023-08-07T02:59:06.740327Z"
    }
   },
   "outputs": [],
   "source": [
    "# Excessive Monthly Income is generated according to the Random Forest model, so I directly delete the data exceeding 6 standard deviations.\n",
    "df = detect_outliers(df, 'MonthlyIncome', 6)\n",
    "df.dropna(subset=['MonthlyIncome'], inplace=True)"
   ]
  },
  {
   "cell_type": "code",
   "execution_count": 25,
   "metadata": {
    "ExecuteTime": {
     "end_time": "2023-08-07T02:59:06.804764Z",
     "start_time": "2023-08-07T02:59:06.746806Z"
    }
   },
   "outputs": [
    {
     "data": {
      "text/plain": "       SeriousDlqin2yrs  RevolvingUtilizationOfUnsecuredLines          age  \\\ncount       9930.000000                           9930.000000  9930.000000   \nmean           0.063142                              0.327519    52.194663   \nstd            0.243230                              0.363919    14.745461   \nmin            0.000000                              0.000000    21.000000   \n25%            0.000000                              0.031045    41.000000   \n50%            0.000000                              0.163606    52.000000   \n75%            0.000000                              0.568279    62.000000   \nmax            1.000000                              5.299401   101.000000   \n\n       NumberOfTime30-59DaysPastDueNotWorse     DebtRatio  MonthlyIncome  \\\ncount                           9930.000000   9930.000000    9930.000000   \nmean                               0.247633    324.677714    5158.832628   \nstd                                0.711761    989.173688    4657.365963   \nmin                                0.000000      0.000000       0.000000   \n25%                                0.000000      0.175969    1833.000000   \n50%                                0.000000      0.368618    4412.500000   \n75%                                0.000000      0.855183    7367.500000   \nmax                               12.000000  15466.000000   45000.000000   \n\n       NumberOfOpenCreditLinesAndLoans  NumberOfTimes90DaysLate  \\\ncount                      9930.000000              9930.000000   \nmean                          8.357704                 0.094663   \nstd                           5.057484                 0.475719   \nmin                           0.000000                 0.000000   \n25%                           5.000000                 0.000000   \n50%                           8.000000                 0.000000   \n75%                          11.000000                 0.000000   \nmax                          46.000000                10.000000   \n\n       NumberRealEstateLoansOrLines  NumberOfTime60-89DaysPastDueNotWorse  \\\ncount                   9930.000000                           9930.000000   \nmean                       1.006848                              0.065358   \nstd                        1.078336                              0.321233   \nmin                        0.000000                              0.000000   \n25%                        0.000000                              0.000000   \n50%                        1.000000                              0.000000   \n75%                        2.000000                              0.000000   \nmax                       17.000000                              6.000000   \n\n       NumberOfDependents  \ncount         9930.000000  \nmean             0.732024  \nstd              1.100175  \nmin              0.000000  \n25%              0.000000  \n50%              0.000000  \n75%              1.000000  \nmax              8.000000  ",
      "text/html": "<div>\n<style scoped>\n    .dataframe tbody tr th:only-of-type {\n        vertical-align: middle;\n    }\n\n    .dataframe tbody tr th {\n        vertical-align: top;\n    }\n\n    .dataframe thead th {\n        text-align: right;\n    }\n</style>\n<table border=\"1\" class=\"dataframe\">\n  <thead>\n    <tr style=\"text-align: right;\">\n      <th></th>\n      <th>SeriousDlqin2yrs</th>\n      <th>RevolvingUtilizationOfUnsecuredLines</th>\n      <th>age</th>\n      <th>NumberOfTime30-59DaysPastDueNotWorse</th>\n      <th>DebtRatio</th>\n      <th>MonthlyIncome</th>\n      <th>NumberOfOpenCreditLinesAndLoans</th>\n      <th>NumberOfTimes90DaysLate</th>\n      <th>NumberRealEstateLoansOrLines</th>\n      <th>NumberOfTime60-89DaysPastDueNotWorse</th>\n      <th>NumberOfDependents</th>\n    </tr>\n  </thead>\n  <tbody>\n    <tr>\n      <th>count</th>\n      <td>9930.000000</td>\n      <td>9930.000000</td>\n      <td>9930.000000</td>\n      <td>9930.000000</td>\n      <td>9930.000000</td>\n      <td>9930.000000</td>\n      <td>9930.000000</td>\n      <td>9930.000000</td>\n      <td>9930.000000</td>\n      <td>9930.000000</td>\n      <td>9930.000000</td>\n    </tr>\n    <tr>\n      <th>mean</th>\n      <td>0.063142</td>\n      <td>0.327519</td>\n      <td>52.194663</td>\n      <td>0.247633</td>\n      <td>324.677714</td>\n      <td>5158.832628</td>\n      <td>8.357704</td>\n      <td>0.094663</td>\n      <td>1.006848</td>\n      <td>0.065358</td>\n      <td>0.732024</td>\n    </tr>\n    <tr>\n      <th>std</th>\n      <td>0.243230</td>\n      <td>0.363919</td>\n      <td>14.745461</td>\n      <td>0.711761</td>\n      <td>989.173688</td>\n      <td>4657.365963</td>\n      <td>5.057484</td>\n      <td>0.475719</td>\n      <td>1.078336</td>\n      <td>0.321233</td>\n      <td>1.100175</td>\n    </tr>\n    <tr>\n      <th>min</th>\n      <td>0.000000</td>\n      <td>0.000000</td>\n      <td>21.000000</td>\n      <td>0.000000</td>\n      <td>0.000000</td>\n      <td>0.000000</td>\n      <td>0.000000</td>\n      <td>0.000000</td>\n      <td>0.000000</td>\n      <td>0.000000</td>\n      <td>0.000000</td>\n    </tr>\n    <tr>\n      <th>25%</th>\n      <td>0.000000</td>\n      <td>0.031045</td>\n      <td>41.000000</td>\n      <td>0.000000</td>\n      <td>0.175969</td>\n      <td>1833.000000</td>\n      <td>5.000000</td>\n      <td>0.000000</td>\n      <td>0.000000</td>\n      <td>0.000000</td>\n      <td>0.000000</td>\n    </tr>\n    <tr>\n      <th>50%</th>\n      <td>0.000000</td>\n      <td>0.163606</td>\n      <td>52.000000</td>\n      <td>0.000000</td>\n      <td>0.368618</td>\n      <td>4412.500000</td>\n      <td>8.000000</td>\n      <td>0.000000</td>\n      <td>1.000000</td>\n      <td>0.000000</td>\n      <td>0.000000</td>\n    </tr>\n    <tr>\n      <th>75%</th>\n      <td>0.000000</td>\n      <td>0.568279</td>\n      <td>62.000000</td>\n      <td>0.000000</td>\n      <td>0.855183</td>\n      <td>7367.500000</td>\n      <td>11.000000</td>\n      <td>0.000000</td>\n      <td>2.000000</td>\n      <td>0.000000</td>\n      <td>1.000000</td>\n    </tr>\n    <tr>\n      <th>max</th>\n      <td>1.000000</td>\n      <td>5.299401</td>\n      <td>101.000000</td>\n      <td>12.000000</td>\n      <td>15466.000000</td>\n      <td>45000.000000</td>\n      <td>46.000000</td>\n      <td>10.000000</td>\n      <td>17.000000</td>\n      <td>6.000000</td>\n      <td>8.000000</td>\n    </tr>\n  </tbody>\n</table>\n</div>"
     },
     "execution_count": 25,
     "metadata": {},
     "output_type": "execute_result"
    }
   ],
   "source": [
    "df.describe()"
   ]
  },
  {
   "cell_type": "markdown",
   "metadata": {},
   "source": [
    "The processing of outliers is preliminarily completed\n",
    "(Outliers exist for variables NumberOfTime30-59DaysPastDueNotWorse, NumberOfTimes90DaysLate and NumberOfTime60-89DaysPastDueNotWorse. In addition, it can be known from the unique function that there are two outliers, 96 and 98, so they are eliminated. At the same time, it will be found that the 96 and 98 values of one variable will be removed, and the 96 and 98 values of other variables will be removed accordingly.)"
   ]
  },
  {
   "cell_type": "code",
   "execution_count": 26,
   "metadata": {
    "ExecuteTime": {
     "end_time": "2023-08-07T02:59:06.805019Z",
     "start_time": "2023-08-07T02:59:06.765735Z"
    }
   },
   "outputs": [
    {
     "data": {
      "text/plain": "   SeriousDlqin2yrs  RevolvingUtilizationOfUnsecuredLines  age  \\\n0                 1                              0.766127   45   \n1                 0                              0.957151   40   \n2                 0                              0.658180   38   \n3                 0                              0.233810   30   \n5                 0                              0.213179   74   \n\n   NumberOfTime30-59DaysPastDueNotWorse  DebtRatio  MonthlyIncome  \\\n0                                   2.0   0.802982         9120.0   \n1                                   0.0   0.121876         2600.0   \n2                                   1.0   0.085113         3042.0   \n3                                   0.0   0.036050         3300.0   \n5                                   0.0   0.375607         3500.0   \n\n   NumberOfOpenCreditLinesAndLoans  NumberOfTimes90DaysLate  \\\n0                               13                        0   \n1                                4                        0   \n2                                2                        1   \n3                                5                        0   \n5                                3                        0   \n\n   NumberRealEstateLoansOrLines  NumberOfTime60-89DaysPastDueNotWorse  \\\n0                             6                                     0   \n1                             0                                     0   \n2                             0                                     0   \n3                             0                                     0   \n5                             1                                     0   \n\n   NumberOfDependents  \n0                 2.0  \n1                 1.0  \n2                 0.0  \n3                 0.0  \n5                 1.0  ",
      "text/html": "<div>\n<style scoped>\n    .dataframe tbody tr th:only-of-type {\n        vertical-align: middle;\n    }\n\n    .dataframe tbody tr th {\n        vertical-align: top;\n    }\n\n    .dataframe thead th {\n        text-align: right;\n    }\n</style>\n<table border=\"1\" class=\"dataframe\">\n  <thead>\n    <tr style=\"text-align: right;\">\n      <th></th>\n      <th>SeriousDlqin2yrs</th>\n      <th>RevolvingUtilizationOfUnsecuredLines</th>\n      <th>age</th>\n      <th>NumberOfTime30-59DaysPastDueNotWorse</th>\n      <th>DebtRatio</th>\n      <th>MonthlyIncome</th>\n      <th>NumberOfOpenCreditLinesAndLoans</th>\n      <th>NumberOfTimes90DaysLate</th>\n      <th>NumberRealEstateLoansOrLines</th>\n      <th>NumberOfTime60-89DaysPastDueNotWorse</th>\n      <th>NumberOfDependents</th>\n    </tr>\n  </thead>\n  <tbody>\n    <tr>\n      <th>0</th>\n      <td>1</td>\n      <td>0.766127</td>\n      <td>45</td>\n      <td>2.0</td>\n      <td>0.802982</td>\n      <td>9120.0</td>\n      <td>13</td>\n      <td>0</td>\n      <td>6</td>\n      <td>0</td>\n      <td>2.0</td>\n    </tr>\n    <tr>\n      <th>1</th>\n      <td>0</td>\n      <td>0.957151</td>\n      <td>40</td>\n      <td>0.0</td>\n      <td>0.121876</td>\n      <td>2600.0</td>\n      <td>4</td>\n      <td>0</td>\n      <td>0</td>\n      <td>0</td>\n      <td>1.0</td>\n    </tr>\n    <tr>\n      <th>2</th>\n      <td>0</td>\n      <td>0.658180</td>\n      <td>38</td>\n      <td>1.0</td>\n      <td>0.085113</td>\n      <td>3042.0</td>\n      <td>2</td>\n      <td>1</td>\n      <td>0</td>\n      <td>0</td>\n      <td>0.0</td>\n    </tr>\n    <tr>\n      <th>3</th>\n      <td>0</td>\n      <td>0.233810</td>\n      <td>30</td>\n      <td>0.0</td>\n      <td>0.036050</td>\n      <td>3300.0</td>\n      <td>5</td>\n      <td>0</td>\n      <td>0</td>\n      <td>0</td>\n      <td>0.0</td>\n    </tr>\n    <tr>\n      <th>5</th>\n      <td>0</td>\n      <td>0.213179</td>\n      <td>74</td>\n      <td>0.0</td>\n      <td>0.375607</td>\n      <td>3500.0</td>\n      <td>3</td>\n      <td>0</td>\n      <td>1</td>\n      <td>0</td>\n      <td>1.0</td>\n    </tr>\n  </tbody>\n</table>\n</div>"
     },
     "execution_count": 26,
     "metadata": {},
     "output_type": "execute_result"
    }
   ],
   "source": [
    "df.head()"
   ]
  },
  {
   "cell_type": "markdown",
   "metadata": {},
   "source": [
    "Binning the variables (if deemed useful) and Coding the discrete variables using Weights of Evidence.\n",
    "Feature Engineering\n",
    "\n",
    "A function is defined here for the calculation of WOE and IV\n"
   ]
  },
  {
   "cell_type": "code",
   "execution_count": 27,
   "metadata": {
    "ExecuteTime": {
     "end_time": "2023-08-07T02:59:06.828794Z",
     "start_time": "2023-08-07T02:59:06.777322Z"
    }
   },
   "outputs": [],
   "source": [
    "def get_bin_graph(DF, X, Y, n=2, q=20, graph=True):\n",
    "    global bins_df\n",
    "    DF = DF[[X, Y]]\n",
    "    DF['qcut'], updown = pd.qcut(DF[X], retbins=True, q=q, duplicates='drop')\n",
    "    count_0 = DF[DF[Y] == 0].groupby(by='qcut').count()[Y]\n",
    "    count_1 = DF[DF[Y] == 1].groupby(by='qcut').count()[Y]\n",
    "    num_bins = [*zip(updown, updown[1:], count_0, count_1)]\n",
    "    for i in range(q):\n",
    "        if 0 in num_bins[0][2:]:\n",
    "            num_bins[0:2] = [\n",
    "                (num_bins[0][0], num_bins[1][1], num_bins[0][1] + num_bins[1][2], num_bins[0][3] + num_bins[1][3])]\n",
    "            continue\n",
    "        for i in range(len(num_bins)):\n",
    "            if 0 in num_bins[i][2:]:\n",
    "                num_bins[i - 1:i + 1] = [(num_bins[i - 1][0], num_bins[i][1], num_bins[i - 1][2] + num_bins[i][2],\n",
    "                                          num_bins[i + 1][3] + num_bins[i][3])]\n",
    "                break\n",
    "        else:\n",
    "            break\n",
    "\n",
    "    def get_woe(num_bins):  # WOE\n",
    "        column = ['min', 'max', 'good', 'bad']\n",
    "        df = pd.DataFrame(num_bins, columns=column)\n",
    "        df['total'] = df['good'] + df['bad']\n",
    "        df['pre'] = df['total'] / df['total'].sum()\n",
    "        df['good%'] = df['good'] / df['good'].sum()\n",
    "        df['bad%'] = df['bad'] / df['bad'].sum()\n",
    "        df['bad_ration'] = df['bad'] / df['total']\n",
    "        df['woe'] = np.log(df['good%'] / df['bad%'])\n",
    "        return df\n",
    "\n",
    "    def get_iv(bins_df):  #IV value\n",
    "        rato = bins_df['good%'] - bins_df['bad%']\n",
    "        iv = np.sum(rato * bins_df['woe'])\n",
    "        return iv\n",
    "\n",
    "    iv = []\n",
    "    axis = []\n",
    "    while len(num_bins) > n:  #Chi-square division\n",
    "        psv = []\n",
    "        for i in range(len(num_bins) - 1):\n",
    "            x1 = num_bins[i][2:]\n",
    "            x2 = num_bins[i + 1][2:]\n",
    "            pv = chi2_contingency([x1, x2])[0]\n",
    "            psv.append(pv)\n",
    "        min_index = psv.index(min(psv))\n",
    "        num_bins[min_index:min_index + 2] = [(num_bins[min_index][0], num_bins[min_index + 1][1],\n",
    "                                              num_bins[min_index][2] + num_bins[min_index + 1][2],\n",
    "                                              num_bins[min_index][3] + num_bins[min_index + 1][3])]\n",
    "        bins_df = pd.DataFrame(get_woe(num_bins))\n",
    "        axis.append(len(num_bins))\n",
    "        iv.append(get_iv(bins_df))\n",
    "    return bins_df, axis, iv"
   ]
  },
  {
   "cell_type": "code",
   "execution_count": 28,
   "metadata": {
    "ExecuteTime": {
     "end_time": "2023-08-07T02:59:07.560601Z",
     "start_time": "2023-08-07T02:59:06.780918Z"
    }
   },
   "outputs": [
    {
     "name": "stderr",
     "output_type": "stream",
     "text": [
      "<ipython-input-27-903ada1c028c>:4: SettingWithCopyWarning: \n",
      "A value is trying to be set on a copy of a slice from a DataFrame.\n",
      "Try using .loc[row_indexer,col_indexer] = value instead\n",
      "\n",
      "See the caveats in the documentation: https://pandas.pydata.org/pandas-docs/stable/user_guide/indexing.html#returning-a-view-versus-a-copy\n",
      "  DF['qcut'], updown = pd.qcut(DF[X], retbins=True, q=q, duplicates='drop')\n",
      "<ipython-input-27-903ada1c028c>:4: SettingWithCopyWarning: \n",
      "A value is trying to be set on a copy of a slice from a DataFrame.\n",
      "Try using .loc[row_indexer,col_indexer] = value instead\n",
      "\n",
      "See the caveats in the documentation: https://pandas.pydata.org/pandas-docs/stable/user_guide/indexing.html#returning-a-view-versus-a-copy\n",
      "  DF['qcut'], updown = pd.qcut(DF[X], retbins=True, q=q, duplicates='drop')\n",
      "<ipython-input-27-903ada1c028c>:4: SettingWithCopyWarning: \n",
      "A value is trying to be set on a copy of a slice from a DataFrame.\n",
      "Try using .loc[row_indexer,col_indexer] = value instead\n",
      "\n",
      "See the caveats in the documentation: https://pandas.pydata.org/pandas-docs/stable/user_guide/indexing.html#returning-a-view-versus-a-copy\n",
      "  DF['qcut'], updown = pd.qcut(DF[X], retbins=True, q=q, duplicates='drop')\n",
      "<ipython-input-27-903ada1c028c>:4: SettingWithCopyWarning: \n",
      "A value is trying to be set on a copy of a slice from a DataFrame.\n",
      "Try using .loc[row_indexer,col_indexer] = value instead\n",
      "\n",
      "See the caveats in the documentation: https://pandas.pydata.org/pandas-docs/stable/user_guide/indexing.html#returning-a-view-versus-a-copy\n",
      "  DF['qcut'], updown = pd.qcut(DF[X], retbins=True, q=q, duplicates='drop')\n",
      "<ipython-input-27-903ada1c028c>:4: SettingWithCopyWarning: \n",
      "A value is trying to be set on a copy of a slice from a DataFrame.\n",
      "Try using .loc[row_indexer,col_indexer] = value instead\n",
      "\n",
      "See the caveats in the documentation: https://pandas.pydata.org/pandas-docs/stable/user_guide/indexing.html#returning-a-view-versus-a-copy\n",
      "  DF['qcut'], updown = pd.qcut(DF[X], retbins=True, q=q, duplicates='drop')\n",
      "<ipython-input-27-903ada1c028c>:4: SettingWithCopyWarning: \n",
      "A value is trying to be set on a copy of a slice from a DataFrame.\n",
      "Try using .loc[row_indexer,col_indexer] = value instead\n",
      "\n",
      "See the caveats in the documentation: https://pandas.pydata.org/pandas-docs/stable/user_guide/indexing.html#returning-a-view-versus-a-copy\n",
      "  DF['qcut'], updown = pd.qcut(DF[X], retbins=True, q=q, duplicates='drop')\n",
      "<ipython-input-27-903ada1c028c>:4: SettingWithCopyWarning: \n",
      "A value is trying to be set on a copy of a slice from a DataFrame.\n",
      "Try using .loc[row_indexer,col_indexer] = value instead\n",
      "\n",
      "See the caveats in the documentation: https://pandas.pydata.org/pandas-docs/stable/user_guide/indexing.html#returning-a-view-versus-a-copy\n",
      "  DF['qcut'], updown = pd.qcut(DF[X], retbins=True, q=q, duplicates='drop')\n",
      "<ipython-input-27-903ada1c028c>:4: SettingWithCopyWarning: \n",
      "A value is trying to be set on a copy of a slice from a DataFrame.\n",
      "Try using .loc[row_indexer,col_indexer] = value instead\n",
      "\n",
      "See the caveats in the documentation: https://pandas.pydata.org/pandas-docs/stable/user_guide/indexing.html#returning-a-view-versus-a-copy\n",
      "  DF['qcut'], updown = pd.qcut(DF[X], retbins=True, q=q, duplicates='drop')\n",
      "<ipython-input-27-903ada1c028c>:4: SettingWithCopyWarning: \n",
      "A value is trying to be set on a copy of a slice from a DataFrame.\n",
      "Try using .loc[row_indexer,col_indexer] = value instead\n",
      "\n",
      "See the caveats in the documentation: https://pandas.pydata.org/pandas-docs/stable/user_guide/indexing.html#returning-a-view-versus-a-copy\n",
      "  DF['qcut'], updown = pd.qcut(DF[X], retbins=True, q=q, duplicates='drop')\n",
      "<ipython-input-27-903ada1c028c>:4: SettingWithCopyWarning: \n",
      "A value is trying to be set on a copy of a slice from a DataFrame.\n",
      "Try using .loc[row_indexer,col_indexer] = value instead\n",
      "\n",
      "See the caveats in the documentation: https://pandas.pydata.org/pandas-docs/stable/user_guide/indexing.html#returning-a-view-versus-a-copy\n",
      "  DF['qcut'], updown = pd.qcut(DF[X], retbins=True, q=q, duplicates='drop')\n"
     ]
    },
    {
     "data": {
      "text/plain": "<Figure size 864x2160 with 10 Axes>",
      "image/png": "[encoded data removed]"
     },
     "metadata": {
      "needs_background": "light"
     },
     "output_type": "display_data"
    }
   ],
   "source": [
    "column = df.columns\n",
    "count = 1\n",
    "plt.figure(figsize=(12, 5 * 6))\n",
    "for feature in column[1:]:\n",
    "    bins_df, axis, iv = get_bin_graph(df, feature, 'SeriousDlqin2yrs', n=2, q=20)\n",
    "    ax = plt.subplot(5, 2, count)\n",
    "    count += 1\n",
    "    plt.plot(axis, iv)\n",
    "    plt.title(feature)\n",
    "plt.show()"
   ]
  },
  {
   "cell_type": "code",
   "execution_count": 29,
   "metadata": {
    "ExecuteTime": {
     "end_time": "2023-08-07T02:59:07.562603Z",
     "start_time": "2023-08-07T02:59:07.560779Z"
    }
   },
   "outputs": [],
   "source": [
    "auto_col_bin = {'RevolvingUtilizationOfUnsecuredLines': 8\n",
    "    , 'age': 9\n",
    "    , 'DebtRatio': 7\n",
    "    , 'MonthlyIncome': 8\n",
    "    , 'NumberOfOpenCreditLinesAndLoans': 9}\n",
    "# In the results of correct container division shown in the figure above\n",
    "# we choose the best number of containers. The selection principle is: when the number of containers is small, the IV value is large"
   ]
  },
  {
   "cell_type": "code",
   "execution_count": 30,
   "metadata": {
    "ExecuteTime": {
     "end_time": "2023-08-07T02:59:07.567635Z",
     "start_time": "2023-08-07T02:59:07.562841Z"
    }
   },
   "outputs": [],
   "source": [
    "hand_bins = {'NumberOfTime30-59DaysPastDueNotWorse': [0, 1, 2, 12]\n",
    "    , 'NumberOfTimes90DaysLate': [0, 1, 2, 10]\n",
    "    , 'NumberRealEstateLoansOrLines': [0, 1, 2, 17]\n",
    "    , 'NumberOfTime60-89DaysPastDueNotWorse': [0, 1, 2, 6]\n",
    "    , 'NumberOfDependents': [0, 1, 2, 8]}\n",
    "# For those features without image features need to be manually divided again"
   ]
  },
  {
   "cell_type": "code",
   "execution_count": 31,
   "metadata": {
    "ExecuteTime": {
     "end_time": "2023-08-07T02:59:07.567788Z",
     "start_time": "2023-08-07T02:59:07.564838Z"
    }
   },
   "outputs": [],
   "source": [
    "hand_bins = {k: [-np.inf, *v[:-1], np.inf] for k, v in hand_bins.items()}\n",
    "# We add negative infinity and positive infinity to the lower and upper bounds of the partition, and classify those greater than the upper bound and those less than the lower bound"
   ]
  },
  {
   "cell_type": "code",
   "execution_count": 32,
   "metadata": {
    "ExecuteTime": {
     "end_time": "2023-08-07T02:59:07.700687Z",
     "start_time": "2023-08-07T02:59:07.568210Z"
    }
   },
   "outputs": [
    {
     "name": "stderr",
     "output_type": "stream",
     "text": [
      "<ipython-input-27-903ada1c028c>:4: SettingWithCopyWarning: \n",
      "A value is trying to be set on a copy of a slice from a DataFrame.\n",
      "Try using .loc[row_indexer,col_indexer] = value instead\n",
      "\n",
      "See the caveats in the documentation: https://pandas.pydata.org/pandas-docs/stable/user_guide/indexing.html#returning-a-view-versus-a-copy\n",
      "  DF['qcut'], updown = pd.qcut(DF[X], retbins=True, q=q, duplicates='drop')\n",
      "<ipython-input-27-903ada1c028c>:4: SettingWithCopyWarning: \n",
      "A value is trying to be set on a copy of a slice from a DataFrame.\n",
      "Try using .loc[row_indexer,col_indexer] = value instead\n",
      "\n",
      "See the caveats in the documentation: https://pandas.pydata.org/pandas-docs/stable/user_guide/indexing.html#returning-a-view-versus-a-copy\n",
      "  DF['qcut'], updown = pd.qcut(DF[X], retbins=True, q=q, duplicates='drop')\n",
      "<ipython-input-27-903ada1c028c>:4: SettingWithCopyWarning: \n",
      "A value is trying to be set on a copy of a slice from a DataFrame.\n",
      "Try using .loc[row_indexer,col_indexer] = value instead\n",
      "\n",
      "See the caveats in the documentation: https://pandas.pydata.org/pandas-docs/stable/user_guide/indexing.html#returning-a-view-versus-a-copy\n",
      "  DF['qcut'], updown = pd.qcut(DF[X], retbins=True, q=q, duplicates='drop')\n",
      "<ipython-input-27-903ada1c028c>:4: SettingWithCopyWarning: \n",
      "A value is trying to be set on a copy of a slice from a DataFrame.\n",
      "Try using .loc[row_indexer,col_indexer] = value instead\n",
      "\n",
      "See the caveats in the documentation: https://pandas.pydata.org/pandas-docs/stable/user_guide/indexing.html#returning-a-view-versus-a-copy\n",
      "  DF['qcut'], updown = pd.qcut(DF[X], retbins=True, q=q, duplicates='drop')\n",
      "<ipython-input-27-903ada1c028c>:4: SettingWithCopyWarning: \n",
      "A value is trying to be set on a copy of a slice from a DataFrame.\n",
      "Try using .loc[row_indexer,col_indexer] = value instead\n",
      "\n",
      "See the caveats in the documentation: https://pandas.pydata.org/pandas-docs/stable/user_guide/indexing.html#returning-a-view-versus-a-copy\n",
      "  DF['qcut'], updown = pd.qcut(DF[X], retbins=True, q=q, duplicates='drop')\n"
     ]
    }
   ],
   "source": [
    "bins_of_col = {}\n",
    "\n",
    "for col in auto_col_bin:\n",
    "    bins_df, axis, iv = get_bin_graph(df, col, 'SeriousDlqin2yrs', n=auto_col_bin[col], q=20, graph=True)\n",
    "    bins_list = sorted(set(bins_df['min']).union(bins_df['max']))\n",
    "    bins_list[0], bins_list[-1] = -np.inf, np.inf\n",
    "    bins_of_col[col] = bins_list\n",
    "\n",
    "bins_of_col.update(hand_bins)"
   ]
  },
  {
   "cell_type": "code",
   "execution_count": 33,
   "metadata": {
    "ExecuteTime": {
     "end_time": "2023-08-07T02:59:07.741252Z",
     "start_time": "2023-08-07T02:59:07.700055Z"
    }
   },
   "outputs": [],
   "source": [
    "def get_woe(df, col, y, bin):\n",
    "    df = df[[col, y]].copy()\n",
    "    df['cut'] = pd.cut(df[col], bin)\n",
    "    bins_df = df.groupby('cut')[y].value_counts().unstack()\n",
    "    woe = np.log((bins_df[1] / bins_df[1].sum()) / (bins_df[0] / bins_df[0].sum()))\n",
    "    return woe\n",
    "\n",
    "\n",
    "woeall = {}\n",
    "for col in bins_of_col:\n",
    "    woeall[col] = get_woe(df, col, 'SeriousDlqin2yrs', bins_of_col[col])"
   ]
  },
  {
   "cell_type": "code",
   "execution_count": 34,
   "metadata": {
    "ExecuteTime": {
     "end_time": "2023-08-07T02:59:07.741965Z",
     "start_time": "2023-08-07T02:59:07.734094Z"
    }
   },
   "outputs": [
    {
     "data": {
      "text/plain": "{'RevolvingUtilizationOfUnsecuredLines': cut\n (-inf, 0.00332]     -0.705093\n (0.00332, 0.0106]   -2.406778\n (0.0106, 0.279]     -1.110890\n (0.279, 0.456]      -0.473590\n (0.456, 0.711]       0.262436\n (0.711, 0.863]       0.874468\n (0.863, 1.0]         1.213477\n (1.0, inf]           2.093855\n dtype: float64,\n 'age': cut\n (-inf, 33.0]    0.593012\n (33.0, 39.0]    0.241788\n (39.0, 41.0]    0.471236\n (41.0, 48.0]    0.268729\n (48.0, 56.0]    0.086961\n (56.0, 58.0]   -0.860398\n (58.0, 65.0]   -0.354254\n (65.0, 68.0]   -1.450514\n (68.0, inf]    -1.026721\n dtype: float64,\n 'DebtRatio': cut\n (-inf, 0.0341]    -0.447847\n (0.0341, 0.215]    0.021920\n (0.215, 0.417]    -0.336457\n (0.417, 0.855]     0.289322\n (0.855, 3.182]     0.633452\n (3.182, 1234.0]    0.132196\n (1234.0, inf]     -0.177378\n dtype: float64,\n 'MonthlyIncome': cut\n (-inf, 1.0]          -1.760773\n (1.0, 820.0]          0.717471\n (820.0, 3000.0]       0.434509\n (3000.0, 4000.0]      0.331741\n (4000.0, 6628.6]      0.018275\n (6628.6, 10633.5]    -0.374073\n (10633.5, 13030.5]   -1.000033\n (13030.5, inf]       -0.328567\n dtype: float64,\n 'NumberOfOpenCreditLinesAndLoans': cut\n (-inf, 2.0]     0.556447\n (2.0, 3.0]      0.361195\n (3.0, 5.0]     -0.012903\n (5.0, 6.0]     -0.236942\n (6.0, 7.0]      0.003029\n (7.0, 9.0]     -0.244079\n (9.0, 11.0]    -0.018667\n (11.0, 12.0]   -0.431076\n (12.0, inf]    -0.088229\n dtype: float64,\n 'NumberOfTime30-59DaysPastDueNotWorse': cut\n (-inf, 0.0]   -0.492707\n (0.0, 1.0]     0.864299\n (1.0, 2.0]     1.574319\n (2.0, inf]     2.141200\n dtype: float64,\n 'NumberOfTimes90DaysLate': cut\n (-inf, 0.0]   -0.373538\n (0.0, 1.0]     1.958816\n (1.0, 2.0]     2.376674\n (2.0, inf]     2.739705\n dtype: float64,\n 'NumberRealEstateLoansOrLines': cut\n (-inf, 0.0]    0.252744\n (0.0, 1.0]    -0.361831\n (1.0, 2.0]    -0.095894\n (2.0, inf]     0.320048\n dtype: float64,\n 'NumberOfTime60-89DaysPastDueNotWorse': cut\n (-inf, 0.0]   -0.307647\n (0.0, 1.0]     2.048450\n (1.0, 2.0]     2.425212\n (2.0, inf]     2.409464\n dtype: float64,\n 'NumberOfDependents': cut\n (-inf, 0.0]   -0.118563\n (0.0, 1.0]     0.206130\n (1.0, 2.0]     0.207301\n (2.0, inf]    -0.030323\n dtype: float64}"
     },
     "execution_count": 34,
     "metadata": {},
     "output_type": "execute_result"
    }
   ],
   "source": [
    "woeall"
   ]
  },
  {
   "cell_type": "code",
   "execution_count": 35,
   "metadata": {
    "ExecuteTime": {
     "end_time": "2023-08-07T02:59:07.759546Z",
     "start_time": "2023-08-07T02:59:07.737629Z"
    }
   },
   "outputs": [
    {
     "data": {
      "text/plain": "  RevolvingUtilizationOfUnsecuredLines       age DebtRatio MonthlyIncome  \\\n0                             0.874468  0.268729  0.289322     -0.374073   \n1                             1.213477  0.471236  0.021920      0.434509   \n2                             0.262436  0.241788  0.021920      0.331741   \n3                            -1.110890  0.593012  0.021920      0.331741   \n5                            -1.110890 -1.026721 -0.336457      0.331741   \n\n  NumberOfOpenCreditLinesAndLoans NumberOfTime30-59DaysPastDueNotWorse  \\\n0                       -0.088229                             1.574319   \n1                       -0.012903                            -0.492707   \n2                        0.556447                             0.864299   \n3                       -0.012903                            -0.492707   \n5                        0.361195                            -0.492707   \n\n  NumberOfTimes90DaysLate NumberRealEstateLoansOrLines  \\\n0               -0.373538                     0.320048   \n1               -0.373538                     0.252744   \n2                1.958816                     0.252744   \n3               -0.373538                     0.252744   \n5               -0.373538                    -0.361831   \n\n  NumberOfTime60-89DaysPastDueNotWorse NumberOfDependents  \n0                            -0.307647           0.207301  \n1                            -0.307647           0.206130  \n2                            -0.307647          -0.118563  \n3                            -0.307647          -0.118563  \n5                            -0.307647           0.206130  ",
      "text/html": "<div>\n<style scoped>\n    .dataframe tbody tr th:only-of-type {\n        vertical-align: middle;\n    }\n\n    .dataframe tbody tr th {\n        vertical-align: top;\n    }\n\n    .dataframe thead th {\n        text-align: right;\n    }\n</style>\n<table border=\"1\" class=\"dataframe\">\n  <thead>\n    <tr style=\"text-align: right;\">\n      <th></th>\n      <th>RevolvingUtilizationOfUnsecuredLines</th>\n      <th>age</th>\n      <th>DebtRatio</th>\n      <th>MonthlyIncome</th>\n      <th>NumberOfOpenCreditLinesAndLoans</th>\n      <th>NumberOfTime30-59DaysPastDueNotWorse</th>\n      <th>NumberOfTimes90DaysLate</th>\n      <th>NumberRealEstateLoansOrLines</th>\n      <th>NumberOfTime60-89DaysPastDueNotWorse</th>\n      <th>NumberOfDependents</th>\n    </tr>\n  </thead>\n  <tbody>\n    <tr>\n      <th>0</th>\n      <td>0.874468</td>\n      <td>0.268729</td>\n      <td>0.289322</td>\n      <td>-0.374073</td>\n      <td>-0.088229</td>\n      <td>1.574319</td>\n      <td>-0.373538</td>\n      <td>0.320048</td>\n      <td>-0.307647</td>\n      <td>0.207301</td>\n    </tr>\n    <tr>\n      <th>1</th>\n      <td>1.213477</td>\n      <td>0.471236</td>\n      <td>0.021920</td>\n      <td>0.434509</td>\n      <td>-0.012903</td>\n      <td>-0.492707</td>\n      <td>-0.373538</td>\n      <td>0.252744</td>\n      <td>-0.307647</td>\n      <td>0.206130</td>\n    </tr>\n    <tr>\n      <th>2</th>\n      <td>0.262436</td>\n      <td>0.241788</td>\n      <td>0.021920</td>\n      <td>0.331741</td>\n      <td>0.556447</td>\n      <td>0.864299</td>\n      <td>1.958816</td>\n      <td>0.252744</td>\n      <td>-0.307647</td>\n      <td>-0.118563</td>\n    </tr>\n    <tr>\n      <th>3</th>\n      <td>-1.110890</td>\n      <td>0.593012</td>\n      <td>0.021920</td>\n      <td>0.331741</td>\n      <td>-0.012903</td>\n      <td>-0.492707</td>\n      <td>-0.373538</td>\n      <td>0.252744</td>\n      <td>-0.307647</td>\n      <td>-0.118563</td>\n    </tr>\n    <tr>\n      <th>5</th>\n      <td>-1.110890</td>\n      <td>-1.026721</td>\n      <td>-0.336457</td>\n      <td>0.331741</td>\n      <td>0.361195</td>\n      <td>-0.492707</td>\n      <td>-0.373538</td>\n      <td>-0.361831</td>\n      <td>-0.307647</td>\n      <td>0.206130</td>\n    </tr>\n  </tbody>\n</table>\n</div>"
     },
     "execution_count": 35,
     "metadata": {},
     "output_type": "execute_result"
    }
   ],
   "source": [
    "df_woe = pd.DataFrame(index=df.index)\n",
    "for col in bins_of_col:\n",
    "    df_woe[col] = pd.cut(df[col], bins_of_col[col]).map(woeall[col])\n",
    "\n",
    "df_woe.head()"
   ]
  },
  {
   "cell_type": "markdown",
   "metadata": {},
   "source": [
    "Splitting the data set into a training and test set."
   ]
  },
  {
   "cell_type": "code",
   "execution_count": 36,
   "metadata": {
    "ExecuteTime": {
     "end_time": "2023-08-07T02:59:07.782727Z",
     "start_time": "2023-08-07T02:59:07.760804Z"
    }
   },
   "outputs": [
    {
     "data": {
      "text/plain": "   SeriousDlqin2yrs RevolvingUtilizationOfUnsecuredLines       age DebtRatio  \\\n0                 1                             0.874468  0.268729  0.289322   \n1                 0                             1.213477  0.471236  0.021920   \n2                 0                             0.262436  0.241788  0.021920   \n3                 0                            -1.110890  0.593012  0.021920   \n5                 0                            -1.110890 -1.026721 -0.336457   \n\n  MonthlyIncome NumberOfOpenCreditLinesAndLoans  \\\n0     -0.374073                       -0.088229   \n1      0.434509                       -0.012903   \n2      0.331741                        0.556447   \n3      0.331741                       -0.012903   \n5      0.331741                        0.361195   \n\n  NumberOfTime30-59DaysPastDueNotWorse NumberOfTimes90DaysLate  \\\n0                             1.574319               -0.373538   \n1                            -0.492707               -0.373538   \n2                             0.864299                1.958816   \n3                            -0.492707               -0.373538   \n5                            -0.492707               -0.373538   \n\n  NumberRealEstateLoansOrLines NumberOfTime60-89DaysPastDueNotWorse  \\\n0                     0.320048                            -0.307647   \n1                     0.252744                            -0.307647   \n2                     0.252744                            -0.307647   \n3                     0.252744                            -0.307647   \n5                    -0.361831                            -0.307647   \n\n  NumberOfDependents  \n0           0.207301  \n1           0.206130  \n2          -0.118563  \n3          -0.118563  \n5           0.206130  ",
      "text/html": "<div>\n<style scoped>\n    .dataframe tbody tr th:only-of-type {\n        vertical-align: middle;\n    }\n\n    .dataframe tbody tr th {\n        vertical-align: top;\n    }\n\n    .dataframe thead th {\n        text-align: right;\n    }\n</style>\n<table border=\"1\" class=\"dataframe\">\n  <thead>\n    <tr style=\"text-align: right;\">\n      <th></th>\n      <th>SeriousDlqin2yrs</th>\n      <th>RevolvingUtilizationOfUnsecuredLines</th>\n      <th>age</th>\n      <th>DebtRatio</th>\n      <th>MonthlyIncome</th>\n      <th>NumberOfOpenCreditLinesAndLoans</th>\n      <th>NumberOfTime30-59DaysPastDueNotWorse</th>\n      <th>NumberOfTimes90DaysLate</th>\n      <th>NumberRealEstateLoansOrLines</th>\n      <th>NumberOfTime60-89DaysPastDueNotWorse</th>\n      <th>NumberOfDependents</th>\n    </tr>\n  </thead>\n  <tbody>\n    <tr>\n      <th>0</th>\n      <td>1</td>\n      <td>0.874468</td>\n      <td>0.268729</td>\n      <td>0.289322</td>\n      <td>-0.374073</td>\n      <td>-0.088229</td>\n      <td>1.574319</td>\n      <td>-0.373538</td>\n      <td>0.320048</td>\n      <td>-0.307647</td>\n      <td>0.207301</td>\n    </tr>\n    <tr>\n      <th>1</th>\n      <td>0</td>\n      <td>1.213477</td>\n      <td>0.471236</td>\n      <td>0.021920</td>\n      <td>0.434509</td>\n      <td>-0.012903</td>\n      <td>-0.492707</td>\n      <td>-0.373538</td>\n      <td>0.252744</td>\n      <td>-0.307647</td>\n      <td>0.206130</td>\n    </tr>\n    <tr>\n      <th>2</th>\n      <td>0</td>\n      <td>0.262436</td>\n      <td>0.241788</td>\n      <td>0.021920</td>\n      <td>0.331741</td>\n      <td>0.556447</td>\n      <td>0.864299</td>\n      <td>1.958816</td>\n      <td>0.252744</td>\n      <td>-0.307647</td>\n      <td>-0.118563</td>\n    </tr>\n    <tr>\n      <th>3</th>\n      <td>0</td>\n      <td>-1.110890</td>\n      <td>0.593012</td>\n      <td>0.021920</td>\n      <td>0.331741</td>\n      <td>-0.012903</td>\n      <td>-0.492707</td>\n      <td>-0.373538</td>\n      <td>0.252744</td>\n      <td>-0.307647</td>\n      <td>-0.118563</td>\n    </tr>\n    <tr>\n      <th>5</th>\n      <td>0</td>\n      <td>-1.110890</td>\n      <td>-1.026721</td>\n      <td>-0.336457</td>\n      <td>0.331741</td>\n      <td>0.361195</td>\n      <td>-0.492707</td>\n      <td>-0.373538</td>\n      <td>-0.361831</td>\n      <td>-0.307647</td>\n      <td>0.206130</td>\n    </tr>\n  </tbody>\n</table>\n</div>"
     },
     "execution_count": 36,
     "metadata": {},
     "output_type": "execute_result"
    }
   ],
   "source": [
    "df_new = pd.concat([df['SeriousDlqin2yrs'], df_woe], axis=1)\n",
    "df_new.head()"
   ]
  },
  {
   "cell_type": "code",
   "execution_count": 37,
   "metadata": {
    "ExecuteTime": {
     "end_time": "2023-08-07T02:59:07.783964Z",
     "start_time": "2023-08-07T02:59:07.763904Z"
    }
   },
   "outputs": [],
   "source": [
    "# Divide features into X and labels into Y\n",
    "x = df_new.iloc[:, 1:]\n",
    "y = df_new.iloc[:, 0]"
   ]
  },
  {
   "cell_type": "code",
   "execution_count": 38,
   "metadata": {
    "ExecuteTime": {
     "end_time": "2023-08-07T02:59:07.803074Z",
     "start_time": "2023-08-07T02:59:07.766531Z"
    }
   },
   "outputs": [],
   "source": [
    "from sklearn.model_selection import train_test_split\n",
    "\n",
    "x_train, x_test, y_train, y_test = train_test_split(x, y, test_size=0.3)"
   ]
  },
  {
   "cell_type": "markdown",
   "metadata": {},
   "source": [
    "Split the data set into a training and test set (percentage as 0.3 and 0.7)"
   ]
  },
  {
   "cell_type": "markdown",
   "metadata": {},
   "source": [
    "### 1.2 Build an intuitive and predictive scorecard using a logistic regression classifier and report the following: (30 marks)\n",
    "•\tThe most important variables\n",
    "•\tThe impact of the variables on the target\n",
    "•\tThe performance of the model. Use various performance metrics and discuss their relationship if any.\n",
    "•\tCompare this scorecard with the result of a Random Forest model run over the data. Discuss your results.\n",
    "•\tWhy do banks typically use Logistic Regression as their base classifier? What do banks win and lose by doing this?\n"
   ]
  },
  {
   "cell_type": "markdown",
   "metadata": {},
   "source": [
    "Then we start to do the data modeling using a logistic regression model"
   ]
  },
  {
   "cell_type": "code",
   "execution_count": 39,
   "metadata": {
    "ExecuteTime": {
     "end_time": "2023-08-07T02:59:07.867079Z",
     "start_time": "2023-08-07T02:59:07.773913Z"
    }
   },
   "outputs": [
    {
     "name": "stdout",
     "output_type": "stream",
     "text": [
      "the AUC is :0.853923\n"
     ]
    }
   ],
   "source": [
    "from sklearn.linear_model import LogisticRegression\n",
    "from sklearn.metrics import roc_auc_score, auc, roc_curve\n",
    "\n",
    "# The performance of the model on the test set was evaluated by the area AUC of the ROC curve\n",
    "\n",
    "lr = LogisticRegression()\n",
    "lr.fit(x_train, y_train)\n",
    "\n",
    "# prob = lr.predict_proba(x_test)\n",
    "# prob = prob[:, -1]\n",
    "# fpt, tpr, th = roc_curve(y_test, prob)\n",
    "# AUC = auc(fpt, tpr)\n",
    "# print('the AUC is :%f' % AUC)\n",
    "\n",
    "score = roc_auc_score(y_test, lr.predict_proba(x_test)[:, 1])\n",
    "print('the AUC is :%f' % score)\n",
    "\n",
    "\n",
    "\n",
    "# AUC value is 0.869, indicating that the prediction effect of this model is good and the accuracy is high"
   ]
  },
  {
   "cell_type": "markdown",
   "metadata": {},
   "source": [
    "Then we start to set up a scorecard\n",
    "Score = offset + factor * log(odds)\n",
    "Before setting up a standard scorecard, we need to pick a few scorecard parameters: the base score, the PDO (the score where the ratio doubles), and the good/bad ratio. Here, we take 600 as the base score, the PDO is 20 (every 20 points higher doubles the good/bad ratio), and the good/bad ratio is 20."
   ]
  },
  {
   "cell_type": "code",
   "execution_count": 40,
   "metadata": {
    "ExecuteTime": {
     "end_time": "2023-08-07T02:59:07.887165Z",
     "start_time": "2023-08-07T02:59:07.811190Z"
    }
   },
   "outputs": [],
   "source": [
    "B = 20 / np.log(2)\n",
    "A = 600 + B * np.log(1 / 60)\n",
    "base_score = A - B * lr.intercept_  #basic score\n",
    "\n",
    "filename = 'card.csv'\n",
    "with open(filename, 'w') as fdata:\n",
    "    fdata.write('base_score,{}\\n'.format(base_score))\n",
    "# write into a new csv file\n",
    "\n",
    "for i, col in enumerate(x.columns):\n",
    "    score = woeall[col] * (-B * lr.coef_[0][i])\n",
    "    score.name = 'Score'\n",
    "    score.index.name = col\n",
    "    score.to_csv(filename, header=True, mode='a')"
   ]
  },
  {
   "cell_type": "code",
   "execution_count": 41,
   "metadata": {
    "ExecuteTime": {
     "end_time": "2023-08-07T02:59:07.887562Z",
     "start_time": "2023-08-07T02:59:07.835247Z"
    }
   },
   "outputs": [
    {
     "data": {
      "text/plain": "                             base_score      [559.24369722]\n0  RevolvingUtilizationOfUnsecuredLines               Score\n1                       (-inf, 0.00332]  10.961010609439878\n2                     (0.00332, 0.0106]  37.414526037452724\n3                       (0.0106, 0.279]  17.269331534467238\n4                        (0.279, 0.456]  7.3621831652190455",
      "text/html": "<div>\n<style scoped>\n    .dataframe tbody tr th:only-of-type {\n        vertical-align: middle;\n    }\n\n    .dataframe tbody tr th {\n        vertical-align: top;\n    }\n\n    .dataframe thead th {\n        text-align: right;\n    }\n</style>\n<table border=\"1\" class=\"dataframe\">\n  <thead>\n    <tr style=\"text-align: right;\">\n      <th></th>\n      <th>base_score</th>\n      <th>[559.24369722]</th>\n    </tr>\n  </thead>\n  <tbody>\n    <tr>\n      <th>0</th>\n      <td>RevolvingUtilizationOfUnsecuredLines</td>\n      <td>Score</td>\n    </tr>\n    <tr>\n      <th>1</th>\n      <td>(-inf, 0.00332]</td>\n      <td>10.961010609439878</td>\n    </tr>\n    <tr>\n      <th>2</th>\n      <td>(0.00332, 0.0106]</td>\n      <td>37.414526037452724</td>\n    </tr>\n    <tr>\n      <th>3</th>\n      <td>(0.0106, 0.279]</td>\n      <td>17.269331534467238</td>\n    </tr>\n    <tr>\n      <th>4</th>\n      <td>(0.279, 0.456]</td>\n      <td>7.3621831652190455</td>\n    </tr>\n  </tbody>\n</table>\n</div>"
     },
     "execution_count": 41,
     "metadata": {},
     "output_type": "execute_result"
    }
   ],
   "source": [
    "df_score = pd.read_csv('card.csv')\n",
    "\n",
    "df_score.head()\n",
    "# scorecard has been made"
   ]
  },
  {
   "cell_type": "markdown",
   "metadata": {},
   "source": [
    "•\tThe most important variables\n",
    "    According to the scorecard score, all variables of each interval can infer RevolvingUtilizationOfUnsecuredLines is one of the most important variables.\n",
    "\n",
    "•\tThe impact of the variables on the target\n",
    "    According to scorecard, the specific value of each variable has a different effect on the target. Refer to scorecard for details.\n",
    "\n",
    "•\tThe performance of the model.Use various performance metrics and discuss their relationship if any.\n",
    "    AUC value is 0.869, indicating that the prediction effect of this model is good and the accuracy is high\n",
    "\n",
    "•\tCompare this scorecard with the result of a Random Forest model run over the data.\n",
    "    Discuss your results.\n",
    "    The result is under here. The auc score is 84.7%, lower than the lr model.\n",
    "    Therefore, the LogisticRegression is better than the RandomForest model"
   ]
  },
  {
   "cell_type": "code",
   "execution_count": 42,
   "metadata": {
    "ExecuteTime": {
     "end_time": "2023-08-07T02:59:10.780513Z",
     "start_time": "2023-08-07T02:59:07.842521Z"
    }
   },
   "outputs": [
    {
     "name": "stdout",
     "output_type": "stream",
     "text": [
      "the AUC is :0.832899\n"
     ]
    }
   ],
   "source": [
    "from sklearn.metrics import roc_auc_score, auc, roc_curve\n",
    "from sklearn.ensemble import RandomForestRegressor, RandomForestClassifier\n",
    "\n",
    "rfr = RandomForestClassifier(random_state=33543984, n_estimators=2000, n_jobs=-1)\n",
    "rfr.fit(x_train, y_train)\n",
    "\n",
    "score = roc_auc_score(y_test, rfr.predict_proba(x_test)[:, 1])\n",
    "print('the AUC is :%f' % score)\n",
    "\n",
    "\n",
    "# the auc score is 82.1%, lower than the lr model."
   ]
  },
  {
   "cell_type": "markdown",
   "metadata": {},
   "source": [
    "\n",
    "•\tWhy do banks typically use Logistic Regression as their base classifier?    What do banks win and lose by doing this?\n",
    "    Because logistic regression model accuracy and score is higher. In addition, the numerical influence of each eigenvalue can be judged. The influence of each feature on the output is calculated, and the interpretation is strong.\n",
    "    Its disadvantages are:\n",
    "1. Feature correlation) Because it is a linear classifier in nature, it can't handle the correlation between features well.\n",
    "2. (Feature space) When the feature space is large, the performance is not good.\n",
    "3. (accuracy) easy to underfit, accuracy is not high."
   ]
  }
 ],
 "metadata": {
  "kernelspec": {
   "display_name": "Python 3",
   "language": "python",
   "name": "python3"
  },
  "language_info": {
   "codemirror_mode": {
    "name": "ipython",
    "version": 3
   },
   "file_extension": ".py",
   "mimetype": "text/x-python",
   "name": "python",
   "nbconvert_exporter": "python",
   "pygments_lexer": "ipython3",
   "version": "3.6.7"
  }
 },
 "nbformat": 4,
 "nbformat_minor": 1
}
