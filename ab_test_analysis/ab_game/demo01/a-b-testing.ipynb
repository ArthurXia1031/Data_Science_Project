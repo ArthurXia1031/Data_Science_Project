{
 "cells": [
  {
   "cell_type": "markdown",
   "id": "8e3c7476",
   "metadata": {
    "papermill": {
     "duration": 0.007483,
     "end_time": "2023-03-20T17:21:24.738461",
     "exception": false,
     "start_time": "2023-03-20T17:21:24.730978",
     "status": "completed"
    },
    "tags": []
   },
   "source": [
    "<strong style=\"color:#B3005E;font-size:60px;font-family:Georgia;text-align:center;\">A/B Testing </strong>\n",
    "\n",
    "\n",
    "<div style=\"float:center;margin-left:100px;max-width:100%;\">\n",
    "<img src=\"https://i.imgur.com/7BiesIO.gif\"></div>\n",
    "\n",
    "\n",
    "\n",
    "<strong style=\"color:#B3005E;font-size:20px;font-family:Georgia;text-align:center;\">“A/B testing can provide value, but it shouldn’t come at the expense of other areas of design.”\n",
    " </strong>\n",
    " \n",
    " The process of decision making in design has always been a popular area of discussion. Why do some designers make choices that others don’t, and why do some designs seemingly work better than others?\n",
    "\n",
    "From academic study to sketches and anecdotes, the design world is fascinated with process. But for all of the legendary stories of lore, few anecdotes in recent times have had the staying power of Google and its 41 shades of blue.\n",
    "\n",
    "In trying to determine which out of 2 shades of blue to use for link text, Google tested not only the 2, but also the 39 shades of blue in between. The story outlines a relatively minute decision but highlights a rapidly growing approach to making decisions. One based in experimentation, alternatives, and, most importantly, data.\n",
    "\n",
    "\n",
    "<strong style=\"color:#B3005E;font-size:20px;font-family:Georgia;\"> AB Testing Process </strong>\n",
    "\n",
    "* Understanding business problem & data\n",
    "* Detect and resolve problems in the data (Missing Value, Outliers, Unexpected Value)\n",
    "* Look summary stats and plots\n",
    "* Apply hypothesis testing and check assumptions\n",
    "* Check Normality & Homogeneity\n",
    "* Apply tests (Shapiro, Levene Test, T-Test, Welch Test, Mann Whitney U Test)\n",
    "* Evaluate the results\n",
    "* Make inferences\n",
    "* Recommend business decision to your customer/director/ceo etc.\n",
    "\n",
    "<div class=\"inner_cell\">\n",
    "<div class=\"text_cell_render border-box-sizing rendered_html\">\n",
    "<p></p><div class=\"list-group\" id=\"list-tab\" role=\"tablist\">\n",
    "  <h3 class=\"list-group-item list-group-item-action active\" data-toggle=\"list\" role=\"tab\" aria-controls=\"home\" style = \"background-color:#B3005E;font-family:Georgia;color:#FFEA20;font-size:200%;text-align:LEFT;border-radius:20px 40px;overflow:hidden;border-style:dotted;border-width:1.8px;border-color:#FFEA20;\">...Table of Contents...</h3>\n",
    "  <a class=\"list-group-item list-group-item-action\" data-toggle=\"list\" href=\"#1\" role=\"tab\" aria-controls=\"home\" target=\"_self\" style = \"color:#000000; font-family:Charter;font-size:120%;\">Packages-Libraries-Settings <span class=\"badge badge-primary badge-pill\">1</span></a>\n",
    "  <a class=\"list-group-item list-group-item-action\" data-toggle=\"list\" href=\"#2\" role=\"tab\" aria-controls=\"messages\" target=\"_self\" style = \"color:#000000; font-family:Charter;font-size:120%;\">Load Data<span class=\"badge badge-primary badge-pill\">2</span></a>\n",
    "  <a class=\"list-group-item list-group-item-action\" data-toggle=\"list\" href=\"#3\" role=\"tab\" aria-controls=\"settings\" target=\"_self\" style = \"color:#000000; font-family:Charter;font-size:120%;\">Data Understanding & Summary Stats<span class=\"badge badge-primary badge-pill\">3</span></a>\n",
    "  <a class=\"list-group-item list-group-item-action\" data-toggle=\"list\" href=\"#4\" role=\"tab\" aria-controls=\"settings\" target=\"_self\" style = \"color:#000000; font-family:Charter;font-size:120%;\">A/B Testing<span class=\"badge badge-primary badge-pill\">4</span></a> \n",
    "  <a class=\"list-group-item list-group-item-action\" data-toggle=\"list\" href=\"#5\" role=\"tab\" aria-controls=\"settings\" target=\"_self\" style = \"color:#000000; font-family:Charter;font-size:120%;\"> ^^^^^<span class=\"badge badge-primary badge-pill\">5</span></a>\n",
    "</div>\n",
    "</div>\n",
    "</div>"
   ]
  },
  {
   "cell_type": "markdown",
   "id": "1ca432d5",
   "metadata": {
    "papermill": {
     "duration": 0.005945,
     "end_time": "2023-03-20T17:21:24.750906",
     "exception": false,
     "start_time": "2023-03-20T17:21:24.744961",
     "status": "completed"
    },
    "tags": []
   },
   "source": [
    "<div style=\"float:center;margin-left:150px;max-width:100%;\">\n",
    "<img src=\"https://miro.medium.com/v2/resize:fit:1400/0*BKbkXes6rKTrVA1f.\"></div>\n",
    "\n"
   ]
  },
  {
   "cell_type": "markdown",
   "id": "88c78588",
   "metadata": {
    "papermill": {
     "duration": 0.005891,
     "end_time": "2023-03-20T17:21:24.763124",
     "exception": false,
     "start_time": "2023-03-20T17:21:24.757233",
     "status": "completed"
    },
    "tags": []
   },
   "source": [
    "<a id = \"1\"></a>\n",
    "<strong style=\"color:#B3005E;font-size:20px;font-family:Georgia;text-align:center;\">  Packages-Libraries-Settings 📜 ⚙️ </strong>\n"
   ]
  },
  {
   "cell_type": "code",
   "execution_count": 1,
   "id": "5c2804a5",
   "metadata": {
    "execution": {
     "iopub.execute_input": "2023-03-20T17:21:24.777944Z",
     "iopub.status.busy": "2023-03-20T17:21:24.777134Z",
     "iopub.status.idle": "2023-03-20T17:21:26.339978Z",
     "shell.execute_reply": "2023-03-20T17:21:26.338712Z"
    },
    "papermill": {
     "duration": 1.573659,
     "end_time": "2023-03-20T17:21:26.342982",
     "exception": false,
     "start_time": "2023-03-20T17:21:24.769323",
     "status": "completed"
    },
    "tags": [],
    "ExecuteTime": {
     "end_time": "2023-08-16T16:42:55.066208Z",
     "start_time": "2023-08-16T16:42:55.030514Z"
    }
   },
   "outputs": [],
   "source": [
    "import itertools\n",
    "import numpy as np\n",
    "import pandas as pd\n",
    "import matplotlib.pyplot as plt\n",
    "import seaborn as sns\n",
    "import warnings\n",
    "\n",
    "warnings.filterwarnings(\"ignore\")\n",
    "warnings.simplefilter(action='ignore', category=FutureWarning)\n",
    "import statsmodels.stats.api as sms\n",
    "from scipy.stats import ttest_1samp, shapiro, levene, ttest_ind, mannwhitneyu, \\\n",
    "    pearsonr, spearmanr, kendalltau, f_oneway, kruskal, normaltest\n",
    "from statsmodels.stats.proportion import proportions_ztest\n",
    "\n",
    "pd.set_option('display.max_columns', None)\n",
    "pd.set_option('display.max_rows', 10)\n",
    "pd.set_option('display.float_format', lambda x: '%.5f' % x)"
   ]
  },
  {
   "cell_type": "markdown",
   "id": "db5b7094",
   "metadata": {
    "papermill": {
     "duration": 0.005926,
     "end_time": "2023-03-20T17:21:26.355190",
     "exception": false,
     "start_time": "2023-03-20T17:21:26.349264",
     "status": "completed"
    },
    "tags": []
   },
   "source": [
    "<a id = \"2\"></a>\n",
    "<strong style=\"color:#B3005E;font-size:20px;font-family:Georgia;text-align:center;\">  Load Data </strong>"
   ]
  },
  {
   "cell_type": "code",
   "execution_count": 2,
   "id": "2e13a362",
   "metadata": {
    "execution": {
     "iopub.execute_input": "2023-03-20T17:21:26.369673Z",
     "iopub.status.busy": "2023-03-20T17:21:26.369213Z",
     "iopub.status.idle": "2023-03-20T17:21:26.415120Z",
     "shell.execute_reply": "2023-03-20T17:21:26.413834Z"
    },
    "papermill": {
     "duration": 0.056755,
     "end_time": "2023-03-20T17:21:26.418161",
     "exception": false,
     "start_time": "2023-03-20T17:21:26.361406",
     "status": "completed"
    },
    "tags": [],
    "ExecuteTime": {
     "end_time": "2023-08-16T16:44:59.222209Z",
     "start_time": "2023-08-16T16:44:59.128880Z"
    }
   },
   "outputs": [
    {
     "data": {
      "text/plain": "   USER_ID VARIANT_NAME  REVENUE\n0      737      variant  0.00000\n1     2423      control  0.00000\n2     9411      control  0.00000\n3     7311      control  0.00000\n4     6174      variant  0.00000",
      "text/html": "<div>\n<style scoped>\n    .dataframe tbody tr th:only-of-type {\n        vertical-align: middle;\n    }\n\n    .dataframe tbody tr th {\n        vertical-align: top;\n    }\n\n    .dataframe thead th {\n        text-align: right;\n    }\n</style>\n<table border=\"1\" class=\"dataframe\">\n  <thead>\n    <tr style=\"text-align: right;\">\n      <th></th>\n      <th>USER_ID</th>\n      <th>VARIANT_NAME</th>\n      <th>REVENUE</th>\n    </tr>\n  </thead>\n  <tbody>\n    <tr>\n      <th>0</th>\n      <td>737</td>\n      <td>variant</td>\n      <td>0.00000</td>\n    </tr>\n    <tr>\n      <th>1</th>\n      <td>2423</td>\n      <td>control</td>\n      <td>0.00000</td>\n    </tr>\n    <tr>\n      <th>2</th>\n      <td>9411</td>\n      <td>control</td>\n      <td>0.00000</td>\n    </tr>\n    <tr>\n      <th>3</th>\n      <td>7311</td>\n      <td>control</td>\n      <td>0.00000</td>\n    </tr>\n    <tr>\n      <th>4</th>\n      <td>6174</td>\n      <td>variant</td>\n      <td>0.00000</td>\n    </tr>\n  </tbody>\n</table>\n</div>"
     },
     "execution_count": 2,
     "metadata": {},
     "output_type": "execute_result"
    }
   ],
   "source": [
    "df = pd.read_csv('AB_Test_Results.csv')\n",
    "df.head()"
   ]
  },
  {
   "cell_type": "markdown",
   "id": "1858cbed",
   "metadata": {
    "papermill": {
     "duration": 0.006271,
     "end_time": "2023-03-20T17:21:26.430932",
     "exception": false,
     "start_time": "2023-03-20T17:21:26.424661",
     "status": "completed"
    },
    "tags": []
   },
   "source": [
    "<strong style=\"color:#B3005E;font-size:18px;font-family:Georgia;\">  We wonder if there is a statistical difference in the revenues according to the variables. Let's observe together how we can find out about this. After making our observations, let's set up our hypothesis. </strong>\n"
   ]
  },
  {
   "cell_type": "markdown",
   "id": "c263f9e4",
   "metadata": {
    "papermill": {
     "duration": 0.005985,
     "end_time": "2023-03-20T17:21:26.443284",
     "exception": false,
     "start_time": "2023-03-20T17:21:26.437299",
     "status": "completed"
    },
    "tags": []
   },
   "source": [
    "<a id = \"3\"></a>\n",
    "<strong style=\"color:#B3005E;font-size:30px;font-family:Georgia;text-align:center;\">  Data Understanding & Summary Stats </strong>"
   ]
  },
  {
   "cell_type": "code",
   "execution_count": 3,
   "id": "9cf7aead",
   "metadata": {
    "execution": {
     "iopub.execute_input": "2023-03-20T17:21:26.458013Z",
     "iopub.status.busy": "2023-03-20T17:21:26.457513Z",
     "iopub.status.idle": "2023-03-20T17:21:26.502432Z",
     "shell.execute_reply": "2023-03-20T17:21:26.500872Z"
    },
    "papermill": {
     "duration": 0.056272,
     "end_time": "2023-03-20T17:21:26.505859",
     "exception": false,
     "start_time": "2023-03-20T17:21:26.449587",
     "status": "completed"
    },
    "tags": [],
    "ExecuteTime": {
     "end_time": "2023-08-16T16:45:39.693446Z",
     "start_time": "2023-08-16T16:45:39.650347Z"
    }
   },
   "outputs": [
    {
     "name": "stdout",
     "output_type": "stream",
     "text": [
      "------------------------------- SHAPE --------------------------------\n",
      "Rows: 10000\n",
      "Columns: 3\n",
      "------------------------------- TYPES --------------------------------\n",
      "USER_ID           int64\n",
      "VARIANT_NAME     object\n",
      "REVENUE         float64\n",
      "dtype: object\n",
      "-------------------------------- HEAD --------------------------------\n",
      "   USER_ID VARIANT_NAME  REVENUE\n",
      "0      737      variant  0.00000\n",
      "1     2423      control  0.00000\n",
      "2     9411      control  0.00000\n",
      "3     7311      control  0.00000\n",
      "4     6174      variant  0.00000\n",
      "-------------------------------- TAIL --------------------------------\n",
      "      USER_ID VARIANT_NAME  REVENUE\n",
      "9995     1981      control  0.00000\n",
      "9996      502      variant  0.00000\n",
      "9997     9214      variant  0.00000\n",
      "9998     7741      control  0.00000\n",
      "9999     9468      control  0.00000\n",
      "--------------------------- MISSING VALUES ---------------------------\n",
      "USER_ID         0\n",
      "VARIANT_NAME    0\n",
      "REVENUE         0\n",
      "dtype: int64\n",
      "------------------------- DUPLICATED VALUES --------------------------\n",
      "2067\n",
      "------------------------------ DESCRIBE ------------------------------\n",
      "              count       mean        std     min      0%        10%  \\\n",
      "USER_ID 10000.00000 4981.08020 2890.59011 2.00000 2.00000 1008.80000   \n",
      "REVENUE 10000.00000    0.09945    2.31853 0.00000 0.00000    0.00000   \n",
      "\n",
      "               20%        30%        40%        50%        60%        70%  \\\n",
      "USER_ID 1962.60000 2947.00000 3940.60000 4962.00000 5965.00000 6994.00000   \n",
      "REVENUE    0.00000    0.00000    0.00000    0.00000    0.00000    0.00000   \n",
      "\n",
      "               80%        90%        100%         max  \n",
      "USER_ID 8011.00000 8998.00000 10000.00000 10000.00000  \n",
      "REVENUE    0.00000    0.00000   196.01000   196.01000  \n"
     ]
    }
   ],
   "source": [
    "def check_df(dataframe, head=5):\n",
    "    print(\" SHAPE \".center(70, '-'))\n",
    "    print('Rows: {}'.format(dataframe.shape[0]))\n",
    "    print('Columns: {}'.format(dataframe.shape[1]))\n",
    "    print(\" TYPES \".center(70, '-'))\n",
    "    print(dataframe.dtypes)\n",
    "    print(\" HEAD \".center(70, '-'))\n",
    "    print(dataframe.head(head))\n",
    "    print(\" TAIL \".center(70, '-'))\n",
    "    print(dataframe.tail(head))\n",
    "    print(\" MISSING VALUES \".center(70, '-'))\n",
    "    print(dataframe.isnull().sum())\n",
    "    print(\" DUPLICATED VALUES \".center(70, '-'))\n",
    "    print(dataframe.duplicated().sum())\n",
    "    print(\" DESCRIBE \".center(70, '-'))\n",
    "    print(dataframe.describe([0, 0.10, 0.20, 0.30, 0.40, 0.50, 0.60, 0.70, 0.80, 0.90, 1]).T)\n",
    "\n",
    "\n",
    "check_df(df)"
   ]
  },
  {
   "cell_type": "code",
   "execution_count": 4,
   "id": "efef4957",
   "metadata": {
    "execution": {
     "iopub.execute_input": "2023-03-20T17:21:26.521148Z",
     "iopub.status.busy": "2023-03-20T17:21:26.520732Z",
     "iopub.status.idle": "2023-03-20T17:21:26.529228Z",
     "shell.execute_reply": "2023-03-20T17:21:26.527584Z"
    },
    "papermill": {
     "duration": 0.019571,
     "end_time": "2023-03-20T17:21:26.532300",
     "exception": false,
     "start_time": "2023-03-20T17:21:26.512729",
     "status": "completed"
    },
    "tags": [],
    "ExecuteTime": {
     "end_time": "2023-08-16T16:46:03.419409Z",
     "start_time": "2023-08-16T16:46:03.383948Z"
    }
   },
   "outputs": [
    {
     "name": "stdout",
     "output_type": "stream",
     "text": [
      "False\n"
     ]
    }
   ],
   "source": [
    "# Number of Unique User\n",
    "print(df['USER_ID'].nunique() == df.shape[0])"
   ]
  },
  {
   "cell_type": "code",
   "execution_count": 5,
   "id": "1feab162",
   "metadata": {
    "execution": {
     "iopub.execute_input": "2023-03-20T17:21:26.548205Z",
     "iopub.status.busy": "2023-03-20T17:21:26.547788Z",
     "iopub.status.idle": "2023-03-20T17:21:26.563328Z",
     "shell.execute_reply": "2023-03-20T17:21:26.562089Z"
    },
    "papermill": {
     "duration": 0.026281,
     "end_time": "2023-03-20T17:21:26.565966",
     "exception": false,
     "start_time": "2023-03-20T17:21:26.539685",
     "status": "completed"
    },
    "tags": [],
    "ExecuteTime": {
     "end_time": "2023-08-16T16:46:07.230312Z",
     "start_time": "2023-08-16T16:46:07.215802Z"
    }
   },
   "outputs": [],
   "source": [
    "#  remove USER_ID who have two groups\n",
    "\n",
    "duplicates = (df.groupby(\"USER_ID\")[\"VARIANT_NAME\"].nunique() == 1)\n",
    "duplicates = duplicates[duplicates]\n",
    "\n",
    "# USER_ID_nunique data\n",
    "\n",
    "df = df[df[\"USER_ID\"].isin(duplicates.index)]"
   ]
  },
  {
   "cell_type": "code",
   "execution_count": 6,
   "id": "7673578a",
   "metadata": {
    "execution": {
     "iopub.execute_input": "2023-03-20T17:21:26.582131Z",
     "iopub.status.busy": "2023-03-20T17:21:26.580888Z",
     "iopub.status.idle": "2023-03-20T17:21:26.606282Z",
     "shell.execute_reply": "2023-03-20T17:21:26.604664Z"
    },
    "papermill": {
     "duration": 0.036029,
     "end_time": "2023-03-20T17:21:26.608678",
     "exception": false,
     "start_time": "2023-03-20T17:21:26.572649",
     "status": "completed"
    },
    "tags": [],
    "ExecuteTime": {
     "end_time": "2023-08-16T16:46:11.378906Z",
     "start_time": "2023-08-16T16:46:11.353561Z"
    }
   },
   "outputs": [
    {
     "name": "stdout",
     "output_type": "stream",
     "text": [
      "------------------------------ DESCRIBE ------------------------------\n"
     ]
    },
    {
     "data": {
      "text/plain": "             count    mean     std     min      1%      5%     10%     20%  \\\nREVENUE 6070.00000 0.10706 2.67350 0.00000 0.00000 0.00000 0.00000 0.00000   \n\n            50%     80%     90%     95%     99%       max  \nREVENUE 0.00000 0.00000 0.00000 0.00000 2.16000 196.01000  ",
      "text/html": "<div>\n<style scoped>\n    .dataframe tbody tr th:only-of-type {\n        vertical-align: middle;\n    }\n\n    .dataframe tbody tr th {\n        vertical-align: top;\n    }\n\n    .dataframe thead th {\n        text-align: right;\n    }\n</style>\n<table border=\"1\" class=\"dataframe\">\n  <thead>\n    <tr style=\"text-align: right;\">\n      <th></th>\n      <th>count</th>\n      <th>mean</th>\n      <th>std</th>\n      <th>min</th>\n      <th>1%</th>\n      <th>5%</th>\n      <th>10%</th>\n      <th>20%</th>\n      <th>50%</th>\n      <th>80%</th>\n      <th>90%</th>\n      <th>95%</th>\n      <th>99%</th>\n      <th>max</th>\n    </tr>\n  </thead>\n  <tbody>\n    <tr>\n      <th>REVENUE</th>\n      <td>6070.00000</td>\n      <td>0.10706</td>\n      <td>2.67350</td>\n      <td>0.00000</td>\n      <td>0.00000</td>\n      <td>0.00000</td>\n      <td>0.00000</td>\n      <td>0.00000</td>\n      <td>0.00000</td>\n      <td>0.00000</td>\n      <td>0.00000</td>\n      <td>0.00000</td>\n      <td>2.16000</td>\n      <td>196.01000</td>\n    </tr>\n  </tbody>\n</table>\n</div>"
     },
     "execution_count": 6,
     "metadata": {},
     "output_type": "execute_result"
    }
   ],
   "source": [
    "# and then take only these users\n",
    "print(\" DESCRIBE \".center(70, '-'))\n",
    "\n",
    "df.describe([0.01, 0.05, 0.10, 0.20, 0.80, 0.90, 0.95, 0.99])[[\"REVENUE\"]].T"
   ]
  },
  {
   "cell_type": "code",
   "execution_count": 7,
   "id": "b7483313",
   "metadata": {
    "execution": {
     "iopub.execute_input": "2023-03-20T17:21:26.625317Z",
     "iopub.status.busy": "2023-03-20T17:21:26.624898Z",
     "iopub.status.idle": "2023-03-20T17:21:26.638251Z",
     "shell.execute_reply": "2023-03-20T17:21:26.636974Z"
    },
    "papermill": {
     "duration": 0.024106,
     "end_time": "2023-03-20T17:21:26.640689",
     "exception": false,
     "start_time": "2023-03-20T17:21:26.616583",
     "status": "completed"
    },
    "tags": [],
    "ExecuteTime": {
     "end_time": "2023-08-16T16:46:13.114392Z",
     "start_time": "2023-08-16T16:46:13.066985Z"
    }
   },
   "outputs": [
    {
     "data": {
      "text/plain": "      USER_ID VARIANT_NAME   REVENUE\n1437     3342      control 196.01000\n8168     2166      control  29.32000\n2482     7356      variant  23.04000\n6412     1053      control  20.07000\n5217     3684      variant  19.47000\n5530      282      control  18.56000\n758      4445      control  17.05000\n4031     2059      control  14.24000\n9019     1973      control  14.07000\n4561     4966      variant  12.99000",
      "text/html": "<div>\n<style scoped>\n    .dataframe tbody tr th:only-of-type {\n        vertical-align: middle;\n    }\n\n    .dataframe tbody tr th {\n        vertical-align: top;\n    }\n\n    .dataframe thead th {\n        text-align: right;\n    }\n</style>\n<table border=\"1\" class=\"dataframe\">\n  <thead>\n    <tr style=\"text-align: right;\">\n      <th></th>\n      <th>USER_ID</th>\n      <th>VARIANT_NAME</th>\n      <th>REVENUE</th>\n    </tr>\n  </thead>\n  <tbody>\n    <tr>\n      <th>1437</th>\n      <td>3342</td>\n      <td>control</td>\n      <td>196.01000</td>\n    </tr>\n    <tr>\n      <th>8168</th>\n      <td>2166</td>\n      <td>control</td>\n      <td>29.32000</td>\n    </tr>\n    <tr>\n      <th>2482</th>\n      <td>7356</td>\n      <td>variant</td>\n      <td>23.04000</td>\n    </tr>\n    <tr>\n      <th>6412</th>\n      <td>1053</td>\n      <td>control</td>\n      <td>20.07000</td>\n    </tr>\n    <tr>\n      <th>5217</th>\n      <td>3684</td>\n      <td>variant</td>\n      <td>19.47000</td>\n    </tr>\n    <tr>\n      <th>5530</th>\n      <td>282</td>\n      <td>control</td>\n      <td>18.56000</td>\n    </tr>\n    <tr>\n      <th>758</th>\n      <td>4445</td>\n      <td>control</td>\n      <td>17.05000</td>\n    </tr>\n    <tr>\n      <th>4031</th>\n      <td>2059</td>\n      <td>control</td>\n      <td>14.24000</td>\n    </tr>\n    <tr>\n      <th>9019</th>\n      <td>1973</td>\n      <td>control</td>\n      <td>14.07000</td>\n    </tr>\n    <tr>\n      <th>4561</th>\n      <td>4966</td>\n      <td>variant</td>\n      <td>12.99000</td>\n    </tr>\n  </tbody>\n</table>\n</div>"
     },
     "execution_count": 7,
     "metadata": {},
     "output_type": "execute_result"
    }
   ],
   "source": [
    "df.sort_values(by='REVENUE', ascending=False).head(10)"
   ]
  },
  {
   "cell_type": "code",
   "execution_count": 8,
   "id": "de38e311",
   "metadata": {
    "execution": {
     "iopub.execute_input": "2023-03-20T17:21:26.657065Z",
     "iopub.status.busy": "2023-03-20T17:21:26.656614Z",
     "iopub.status.idle": "2023-03-20T17:21:26.685746Z",
     "shell.execute_reply": "2023-03-20T17:21:26.684562Z"
    },
    "papermill": {
     "duration": 0.040157,
     "end_time": "2023-03-20T17:21:26.688184",
     "exception": false,
     "start_time": "2023-03-20T17:21:26.648027",
     "status": "completed"
    },
    "tags": [],
    "ExecuteTime": {
     "end_time": "2023-08-16T16:46:15.398383Z",
     "start_time": "2023-08-16T16:46:15.376475Z"
    }
   },
   "outputs": [
    {
     "data": {
      "text/plain": "             USER_ID   REVENUE                      \n             nunique       sum    mean  median count\nVARIANT_NAME                                        \ncontrol         2390 470.56000 0.15551 0.00000  3026\nvariant         2393 179.32000 0.05891 0.00000  3044",
      "text/html": "<div>\n<style scoped>\n    .dataframe tbody tr th:only-of-type {\n        vertical-align: middle;\n    }\n\n    .dataframe tbody tr th {\n        vertical-align: top;\n    }\n\n    .dataframe thead tr th {\n        text-align: left;\n    }\n\n    .dataframe thead tr:last-of-type th {\n        text-align: right;\n    }\n</style>\n<table border=\"1\" class=\"dataframe\">\n  <thead>\n    <tr>\n      <th></th>\n      <th>USER_ID</th>\n      <th colspan=\"4\" halign=\"left\">REVENUE</th>\n    </tr>\n    <tr>\n      <th></th>\n      <th>nunique</th>\n      <th>sum</th>\n      <th>mean</th>\n      <th>median</th>\n      <th>count</th>\n    </tr>\n    <tr>\n      <th>VARIANT_NAME</th>\n      <th></th>\n      <th></th>\n      <th></th>\n      <th></th>\n      <th></th>\n    </tr>\n  </thead>\n  <tbody>\n    <tr>\n      <th>control</th>\n      <td>2390</td>\n      <td>470.56000</td>\n      <td>0.15551</td>\n      <td>0.00000</td>\n      <td>3026</td>\n    </tr>\n    <tr>\n      <th>variant</th>\n      <td>2393</td>\n      <td>179.32000</td>\n      <td>0.05891</td>\n      <td>0.00000</td>\n      <td>3044</td>\n    </tr>\n  </tbody>\n</table>\n</div>"
     },
     "execution_count": 8,
     "metadata": {},
     "output_type": "execute_result"
    }
   ],
   "source": [
    "# A/B Groups & Target Summary Stats\n",
    "df.groupby(by='VARIANT_NAME').agg({'USER_ID': 'nunique',\n",
    "                                   'REVENUE': ['sum', 'mean', 'median', 'count']})"
   ]
  },
  {
   "cell_type": "code",
   "execution_count": 9,
   "id": "fbf03fe5",
   "metadata": {
    "execution": {
     "iopub.execute_input": "2023-03-20T17:21:26.704681Z",
     "iopub.status.busy": "2023-03-20T17:21:26.704287Z",
     "iopub.status.idle": "2023-03-20T17:21:26.727110Z",
     "shell.execute_reply": "2023-03-20T17:21:26.725754Z"
    },
    "papermill": {
     "duration": 0.03407,
     "end_time": "2023-03-20T17:21:26.729622",
     "exception": false,
     "start_time": "2023-03-20T17:21:26.695552",
     "status": "completed"
    },
    "tags": [],
    "ExecuteTime": {
     "end_time": "2023-08-16T16:46:22.520089Z",
     "start_time": "2023-08-16T16:46:22.482833Z"
    }
   },
   "outputs": [
    {
     "data": {
      "text/plain": "         count    median      mean      std       max       sum\nUSER_ID                                                        \n3342         1 196.01000 196.01000      NaN 196.01000 196.01000\n2166         2  14.66000  14.66000 20.73237  29.32000  29.32000\n7356         1  23.04000  23.04000      NaN  23.04000  23.04000\n1053         4   0.00000   5.01750 10.03500  20.07000  20.07000\n3684         1  19.47000  19.47000      NaN  19.47000  19.47000\n...        ...       ...       ...      ...       ...       ...\n3363         1   0.00000   0.00000      NaN   0.00000   0.00000\n3362         1   0.00000   0.00000      NaN   0.00000   0.00000\n3361         1   0.00000   0.00000      NaN   0.00000   0.00000\n3360         1   0.00000   0.00000      NaN   0.00000   0.00000\n9998         1   0.00000   0.00000      NaN   0.00000   0.00000\n\n[4783 rows x 6 columns]",
      "text/html": "<div>\n<style scoped>\n    .dataframe tbody tr th:only-of-type {\n        vertical-align: middle;\n    }\n\n    .dataframe tbody tr th {\n        vertical-align: top;\n    }\n\n    .dataframe thead th {\n        text-align: right;\n    }\n</style>\n<table border=\"1\" class=\"dataframe\">\n  <thead>\n    <tr style=\"text-align: right;\">\n      <th></th>\n      <th>count</th>\n      <th>median</th>\n      <th>mean</th>\n      <th>std</th>\n      <th>max</th>\n      <th>sum</th>\n    </tr>\n    <tr>\n      <th>USER_ID</th>\n      <th></th>\n      <th></th>\n      <th></th>\n      <th></th>\n      <th></th>\n      <th></th>\n    </tr>\n  </thead>\n  <tbody>\n    <tr>\n      <th>3342</th>\n      <td>1</td>\n      <td>196.01000</td>\n      <td>196.01000</td>\n      <td>NaN</td>\n      <td>196.01000</td>\n      <td>196.01000</td>\n    </tr>\n    <tr>\n      <th>2166</th>\n      <td>2</td>\n      <td>14.66000</td>\n      <td>14.66000</td>\n      <td>20.73237</td>\n      <td>29.32000</td>\n      <td>29.32000</td>\n    </tr>\n    <tr>\n      <th>7356</th>\n      <td>1</td>\n      <td>23.04000</td>\n      <td>23.04000</td>\n      <td>NaN</td>\n      <td>23.04000</td>\n      <td>23.04000</td>\n    </tr>\n    <tr>\n      <th>1053</th>\n      <td>4</td>\n      <td>0.00000</td>\n      <td>5.01750</td>\n      <td>10.03500</td>\n      <td>20.07000</td>\n      <td>20.07000</td>\n    </tr>\n    <tr>\n      <th>3684</th>\n      <td>1</td>\n      <td>19.47000</td>\n      <td>19.47000</td>\n      <td>NaN</td>\n      <td>19.47000</td>\n      <td>19.47000</td>\n    </tr>\n    <tr>\n      <th>...</th>\n      <td>...</td>\n      <td>...</td>\n      <td>...</td>\n      <td>...</td>\n      <td>...</td>\n      <td>...</td>\n    </tr>\n    <tr>\n      <th>3363</th>\n      <td>1</td>\n      <td>0.00000</td>\n      <td>0.00000</td>\n      <td>NaN</td>\n      <td>0.00000</td>\n      <td>0.00000</td>\n    </tr>\n    <tr>\n      <th>3362</th>\n      <td>1</td>\n      <td>0.00000</td>\n      <td>0.00000</td>\n      <td>NaN</td>\n      <td>0.00000</td>\n      <td>0.00000</td>\n    </tr>\n    <tr>\n      <th>3361</th>\n      <td>1</td>\n      <td>0.00000</td>\n      <td>0.00000</td>\n      <td>NaN</td>\n      <td>0.00000</td>\n      <td>0.00000</td>\n    </tr>\n    <tr>\n      <th>3360</th>\n      <td>1</td>\n      <td>0.00000</td>\n      <td>0.00000</td>\n      <td>NaN</td>\n      <td>0.00000</td>\n      <td>0.00000</td>\n    </tr>\n    <tr>\n      <th>9998</th>\n      <td>1</td>\n      <td>0.00000</td>\n      <td>0.00000</td>\n      <td>NaN</td>\n      <td>0.00000</td>\n      <td>0.00000</td>\n    </tr>\n  </tbody>\n</table>\n<p>4783 rows × 6 columns</p>\n</div>"
     },
     "execution_count": 9,
     "metadata": {},
     "output_type": "execute_result"
    }
   ],
   "source": [
    "# A/B Groups & Target Summary Stats\n",
    "df.groupby(\"USER_ID\")['REVENUE'].agg([\"count\", \"median\", \"mean\", \"std\", \"max\", 'sum']).sort_values(by='sum',\n",
    "                                                                                                   ascending=False)"
   ]
  },
  {
   "cell_type": "code",
   "execution_count": 10,
   "id": "43ccba2e",
   "metadata": {
    "execution": {
     "iopub.execute_input": "2023-03-20T17:21:26.746607Z",
     "iopub.status.busy": "2023-03-20T17:21:26.746169Z",
     "iopub.status.idle": "2023-03-20T17:21:26.756353Z",
     "shell.execute_reply": "2023-03-20T17:21:26.755251Z"
    },
    "papermill": {
     "duration": 0.021426,
     "end_time": "2023-03-20T17:21:26.758704",
     "exception": false,
     "start_time": "2023-03-20T17:21:26.737278",
     "status": "completed"
    },
    "tags": [],
    "ExecuteTime": {
     "end_time": "2023-08-16T16:46:25.660035Z",
     "start_time": "2023-08-16T16:46:25.636550Z"
    }
   },
   "outputs": [
    {
     "data": {
      "text/plain": "(0.039794372950469836, 0.17433412787325342)"
     },
     "execution_count": 10,
     "metadata": {},
     "output_type": "execute_result"
    }
   ],
   "source": [
    "# What is the confidence interval for the 'REVENUE' value?\n",
    "\n",
    "sms.DescrStatsW(df[\"REVENUE\"]).tconfint_mean()"
   ]
  },
  {
   "cell_type": "code",
   "execution_count": 11,
   "id": "c03c5bc9",
   "metadata": {
    "execution": {
     "iopub.execute_input": "2023-03-20T17:21:26.776346Z",
     "iopub.status.busy": "2023-03-20T17:21:26.775964Z",
     "iopub.status.idle": "2023-03-20T17:21:27.192113Z",
     "shell.execute_reply": "2023-03-20T17:21:27.190873Z"
    },
    "papermill": {
     "duration": 0.428317,
     "end_time": "2023-03-20T17:21:27.194927",
     "exception": false,
     "start_time": "2023-03-20T17:21:26.766610",
     "status": "completed"
    },
    "tags": [],
    "ExecuteTime": {
     "end_time": "2023-08-16T16:46:26.345106Z",
     "start_time": "2023-08-16T16:46:26.190349Z"
    }
   },
   "outputs": [
    {
     "data": {
      "text/plain": "<Figure size 1440x360 with 1 Axes>",
      "image/png": "[encoded data removed]"
     },
     "metadata": {
      "needs_background": "light"
     },
     "output_type": "display_data"
    }
   ],
   "source": [
    "df[df['VARIANT_NAME'] == \"control\"].reset_index().set_index(\"index\")['REVENUE'].plot(legend=True, label=\"control\",\n",
    "                                                                                     figsize=(20, 5))\n",
    "df[df['VARIANT_NAME'] == \"variant\"].reset_index().set_index(\"index\")['REVENUE'].plot(legend=True, label=\"variant\")\n",
    "plt.suptitle(\"Before Removing The Extreme Value\", fontsize=20);"
   ]
  },
  {
   "cell_type": "code",
   "execution_count": 12,
   "id": "6e2d4451",
   "metadata": {
    "execution": {
     "iopub.execute_input": "2023-03-20T17:21:27.214466Z",
     "iopub.status.busy": "2023-03-20T17:21:27.214071Z",
     "iopub.status.idle": "2023-03-20T17:21:27.225536Z",
     "shell.execute_reply": "2023-03-20T17:21:27.224497Z"
    },
    "papermill": {
     "duration": 0.024371,
     "end_time": "2023-03-20T17:21:27.228139",
     "exception": false,
     "start_time": "2023-03-20T17:21:27.203768",
     "status": "completed"
    },
    "tags": [],
    "ExecuteTime": {
     "end_time": "2023-08-16T16:46:44.891634Z",
     "start_time": "2023-08-16T16:46:44.874197Z"
    }
   },
   "outputs": [],
   "source": [
    "# Gormek istemedigimiz aykiri degerleri daha sonraki islemler icin temizleyelim\n",
    "\n",
    "def outlier_thresholds(dataframe, variable):\n",
    "    quartile1 = dataframe[variable].quantile(0.01)\n",
    "    quartile3 = dataframe[variable].quantile(0.99)\n",
    "    interquantile_range = quartile3 - quartile1\n",
    "    up_limit = quartile3 + 1.5 * interquantile_range\n",
    "    low_limit = quartile1 - 1.5 * interquantile_range\n",
    "    return low_limit.round(), up_limit.round()\n",
    "\n",
    "\n",
    "def replace_with_thresholds(dataframe, variable):\n",
    "    low_limit, up_limit = outlier_thresholds(dataframe, variable)\n",
    "    dataframe.loc[(dataframe[variable] < low_limit), variable] = low_limit\n",
    "    dataframe.loc[(dataframe[variable] > up_limit), variable] = up_limit\n",
    "\n",
    "\n",
    "replace_with_thresholds(df, \"REVENUE\")"
   ]
  },
  {
   "cell_type": "code",
   "execution_count": 13,
   "id": "f76fc7c6",
   "metadata": {
    "execution": {
     "iopub.execute_input": "2023-03-20T17:21:27.247466Z",
     "iopub.status.busy": "2023-03-20T17:21:27.247064Z",
     "iopub.status.idle": "2023-03-20T17:21:27.255273Z",
     "shell.execute_reply": "2023-03-20T17:21:27.253869Z"
    },
    "papermill": {
     "duration": 0.020774,
     "end_time": "2023-03-20T17:21:27.257626",
     "exception": false,
     "start_time": "2023-03-20T17:21:27.236852",
     "status": "completed"
    },
    "tags": [],
    "ExecuteTime": {
     "end_time": "2023-08-16T16:46:46.410599Z",
     "start_time": "2023-08-16T16:46:46.387330Z"
    }
   },
   "outputs": [
    {
     "data": {
      "text/plain": "(0.03595388879674255, 0.05730476029716189)"
     },
     "execution_count": 13,
     "metadata": {},
     "output_type": "execute_result"
    }
   ],
   "source": [
    "# What is the confidence interval for the 'REVENUE' value?\n",
    "\n",
    "sms.DescrStatsW(df[\"REVENUE\"]).tconfint_mean()"
   ]
  },
  {
   "cell_type": "code",
   "execution_count": 14,
   "id": "1fe4bb24",
   "metadata": {
    "execution": {
     "iopub.execute_input": "2023-03-20T17:21:27.276745Z",
     "iopub.status.busy": "2023-03-20T17:21:27.276329Z",
     "iopub.status.idle": "2023-03-20T17:21:27.625293Z",
     "shell.execute_reply": "2023-03-20T17:21:27.624290Z"
    },
    "papermill": {
     "duration": 0.36124,
     "end_time": "2023-03-20T17:21:27.627482",
     "exception": false,
     "start_time": "2023-03-20T17:21:27.266242",
     "status": "completed"
    },
    "tags": [],
    "ExecuteTime": {
     "end_time": "2023-08-16T16:46:46.798518Z",
     "start_time": "2023-08-16T16:46:46.684340Z"
    }
   },
   "outputs": [
    {
     "data": {
      "text/plain": "<Figure size 1440x360 with 1 Axes>",
      "image/png": "[encoded data removed]"
     },
     "metadata": {
      "needs_background": "light"
     },
     "output_type": "display_data"
    }
   ],
   "source": [
    "df[df['VARIANT_NAME'] == \"control\"].reset_index().set_index(\"index\")['REVENUE'].plot(legend=True, label=\"control\",\n",
    "                                                                                     figsize=(20, 5))\n",
    "df[df['VARIANT_NAME'] == \"variant\"].reset_index().set_index(\"index\")['REVENUE'].plot(legend=True, label=\"variant\")\n",
    "plt.suptitle(\"After Removing The Extreme Value\", fontsize=20);"
   ]
  },
  {
   "cell_type": "code",
   "execution_count": 15,
   "id": "f6bbe7e4",
   "metadata": {
    "execution": {
     "iopub.execute_input": "2023-03-20T17:21:27.649683Z",
     "iopub.status.busy": "2023-03-20T17:21:27.648935Z",
     "iopub.status.idle": "2023-03-20T17:21:27.667970Z",
     "shell.execute_reply": "2023-03-20T17:21:27.666605Z"
    },
    "papermill": {
     "duration": 0.032921,
     "end_time": "2023-03-20T17:21:27.670555",
     "exception": false,
     "start_time": "2023-03-20T17:21:27.637634",
     "status": "completed"
    },
    "tags": [],
    "ExecuteTime": {
     "end_time": "2023-08-16T16:46:48.902132Z",
     "start_time": "2023-08-16T16:46:48.866011Z"
    }
   },
   "outputs": [
    {
     "data": {
      "text/plain": "  VARIANT_NAME   REVENUE      \n                     sum count\n0      control 165.06000  3026\n1      variant 117.98000  3044",
      "text/html": "<div>\n<style scoped>\n    .dataframe tbody tr th:only-of-type {\n        vertical-align: middle;\n    }\n\n    .dataframe tbody tr th {\n        vertical-align: top;\n    }\n\n    .dataframe thead tr th {\n        text-align: left;\n    }\n</style>\n<table border=\"1\" class=\"dataframe\">\n  <thead>\n    <tr>\n      <th></th>\n      <th>VARIANT_NAME</th>\n      <th colspan=\"2\" halign=\"left\">REVENUE</th>\n    </tr>\n    <tr>\n      <th></th>\n      <th></th>\n      <th>sum</th>\n      <th>count</th>\n    </tr>\n  </thead>\n  <tbody>\n    <tr>\n      <th>0</th>\n      <td>control</td>\n      <td>165.06000</td>\n      <td>3026</td>\n    </tr>\n    <tr>\n      <th>1</th>\n      <td>variant</td>\n      <td>117.98000</td>\n      <td>3044</td>\n    </tr>\n  </tbody>\n</table>\n</div>"
     },
     "execution_count": 15,
     "metadata": {},
     "output_type": "execute_result"
    }
   ],
   "source": [
    "# Is there a significant difference between the average REVENUE of the control and variant groups ?\n",
    "\n",
    "# H0: Data is a normal distribution\n",
    "# H1: Data is a non-normal distribution\n",
    "\n",
    "df.groupby('VARIANT_NAME').agg({'REVENUE': ['sum', 'count']}).reset_index()"
   ]
  },
  {
   "cell_type": "markdown",
   "id": "a5fa039e",
   "metadata": {
    "papermill": {
     "duration": 0.009792,
     "end_time": "2023-03-20T17:21:27.690543",
     "exception": false,
     "start_time": "2023-03-20T17:21:27.680751",
     "status": "completed"
    },
    "tags": []
   },
   "source": [
    "<a id = \"3\"></a>\n",
    "<strong style=\"color:#B3005E;font-size:30px;font-family:Georgia;text-align:center;\">  A/B Testing </strong>\n",
    "\n",
    "<strong style=\"color:#B3005E;font-size:20px;font-family:Georgia;\">  * Assumptions: </strong>\n",
    "\n",
    "\n",
    "* Check normality\n",
    "* If Normal Distribution, check homogeneity\n",
    "* Steps:\n",
    "* Split & Define Control Group & Test Group\n",
    "* Apply Shapiro Test for normality\n",
    "* If parametric apply Levene Test for homogeneity of variances\n",
    "* If Parametric + homogeneity of variances apply T-Test\n",
    "* If Parametric - homogeneity of variances apply Welch Test\n",
    "* If Non-parametric apply Mann Whitney U Test directly"
   ]
  },
  {
   "cell_type": "code",
   "execution_count": 16,
   "id": "45b63197",
   "metadata": {
    "execution": {
     "iopub.execute_input": "2023-03-20T17:21:27.713923Z",
     "iopub.status.busy": "2023-03-20T17:21:27.713113Z",
     "iopub.status.idle": "2023-03-20T17:21:27.747338Z",
     "shell.execute_reply": "2023-03-20T17:21:27.745786Z"
    },
    "papermill": {
     "duration": 0.04878,
     "end_time": "2023-03-20T17:21:27.749911",
     "exception": false,
     "start_time": "2023-03-20T17:21:27.701131",
     "status": "completed"
    },
    "tags": [],
    "ExecuteTime": {
     "end_time": "2023-08-16T16:46:52.917093Z",
     "start_time": "2023-08-16T16:46:52.863275Z"
    }
   },
   "outputs": [
    {
     "name": "stdout",
     "output_type": "stream",
     "text": [
      "# A/B Testing Hypothesis\n",
      "H0: A == B\n",
      "H1: A != B \n"
     ]
    },
    {
     "data": {
      "text/plain": "        Test Type      AB Hypothesis  p-value                  Comment\n0  Non-Parametric  Fail to Reject H0  0.24485  A/B groups are similar!",
      "text/html": "<div>\n<style scoped>\n    .dataframe tbody tr th:only-of-type {\n        vertical-align: middle;\n    }\n\n    .dataframe tbody tr th {\n        vertical-align: top;\n    }\n\n    .dataframe thead th {\n        text-align: right;\n    }\n</style>\n<table border=\"1\" class=\"dataframe\">\n  <thead>\n    <tr style=\"text-align: right;\">\n      <th></th>\n      <th>Test Type</th>\n      <th>AB Hypothesis</th>\n      <th>p-value</th>\n      <th>Comment</th>\n    </tr>\n  </thead>\n  <tbody>\n    <tr>\n      <th>0</th>\n      <td>Non-Parametric</td>\n      <td>Fail to Reject H0</td>\n      <td>0.24485</td>\n      <td>A/B groups are similar!</td>\n    </tr>\n  </tbody>\n</table>\n</div>"
     },
     "execution_count": 16,
     "metadata": {},
     "output_type": "execute_result"
    }
   ],
   "source": [
    "# A/B Testing Function - Quick Solution\n",
    "def AB_Test(dataframe, group, target, A, B):\n",
    "    # Packages\n",
    "    from scipy.stats import shapiro\n",
    "    import scipy.stats as stats\n",
    "\n",
    "    # Split A/B\n",
    "    groupA = dataframe[dataframe[group] == A][target]\n",
    "    groupB = dataframe[dataframe[group] == B][target]\n",
    "\n",
    "    # Assumption: Normality\n",
    "    ntA = shapiro(groupA)[1] < 0.05\n",
    "    ntB = shapiro(groupB)[1] < 0.05\n",
    "    # H0: Distribution is Normal! - False\n",
    "    # H1: Distribution is not Normal! - True\n",
    "\n",
    "    if (ntA == False) & (ntB == False):  # \"H0: Normal Distribution\"\n",
    "        # Parametric Test\n",
    "        # Assumption: Homogeneity of variances\n",
    "        leveneTest = stats.levene(groupA, groupB)[1] < 0.05\n",
    "        # H0: Homogeneity: False\n",
    "        # H1: Heterogeneous: True\n",
    "\n",
    "        if leveneTest == False:\n",
    "            # Homogeneity\n",
    "            ttest = stats.ttest_ind(groupA, groupB, equal_var=True)[1]\n",
    "            # H0: M1 == M2 - False\n",
    "            # H1: M1 != M2 - True\n",
    "        else:\n",
    "            # Heterogeneous\n",
    "            ttest = stats.ttest_ind(groupA, groupB, equal_var=False)[1]\n",
    "            # H0: M1 == M2 - False\n",
    "            # H1: M1 != M2 - True\n",
    "    else:\n",
    "        # Non-Parametric Test\n",
    "        ttest = stats.mannwhitneyu(groupA, groupB)[1]\n",
    "        # H0: M1 == M2 - False\n",
    "        # H1: M1 != M2 - True\n",
    "\n",
    "    # Result\n",
    "    temp = pd.DataFrame({\n",
    "        \"AB Hypothesis\": [ttest < 0.05],\n",
    "        \"p-value\": [ttest]\n",
    "    })\n",
    "    temp[\"Test Type\"] = np.where((ntA == False) & (ntB == False), \"Parametric\", \"Non-Parametric\")\n",
    "    temp[\"AB Hypothesis\"] = np.where(temp[\"AB Hypothesis\"] == False, \"Fail to Reject H0\", \"Reject H0\")\n",
    "    temp[\"Comment\"] = np.where(temp[\"AB Hypothesis\"] == \"Fail to Reject H0\", \"A/B groups are similar!\",\n",
    "                               \"A/B groups are not similar!\")\n",
    "\n",
    "    # Columns\n",
    "    if (ntA == False) & (ntB == False):\n",
    "        temp[\"Homogeneity\"] = np.where(leveneTest == False, \"Yes\", \"No\")\n",
    "        temp = temp[[\"Test Type\", \"Homogeneity\", \"AB Hypothesis\", \"p-value\", \"Comment\"]]\n",
    "    else:\n",
    "        temp = temp[[\"Test Type\", \"AB Hypothesis\", \"p-value\", \"Comment\"]]\n",
    "\n",
    "    # Print Hypothesis\n",
    "    print(\"# A/B Testing Hypothesis\")\n",
    "    print(\"H0: A == B\")\n",
    "    print(\"H1: A != B\", \"\\n\")\n",
    "\n",
    "    return temp\n",
    "\n",
    "\n",
    "# Apply A/B Testing\n",
    "AB_Test(dataframe=df, group=\"VARIANT_NAME\", target=\"REVENUE\", A='control', B='variant')"
   ]
  },
  {
   "cell_type": "markdown",
   "id": "9f0b95eb",
   "metadata": {
    "papermill": {
     "duration": 0.009904,
     "end_time": "2023-03-20T17:21:27.770231",
     "exception": false,
     "start_time": "2023-03-20T17:21:27.760327",
     "status": "completed"
    },
    "tags": []
   },
   "source": [
    "<strong style=\"color:#B3005E;font-size:18px;font-family:Georgia;\">  ^^Here we observe that there is no statistical difference on the revenues of the control and variant variables. </strong>\n",
    "\n",
    "\n",
    "\n",
    "<strong style=\"color:#B3005E;font-size:18px;font-family:Arial;\">  Since p value is greater than 0.05, ------->--------------->-------------->-------------->------------------->---------->----------> H0 HYPOTESIS IS NOT REJECTED! </strong>\n",
    "\n"
   ]
  },
  {
   "cell_type": "markdown",
   "id": "562c75af",
   "metadata": {
    "papermill": {
     "duration": 0.009763,
     "end_time": "2023-03-20T17:21:27.790298",
     "exception": false,
     "start_time": "2023-03-20T17:21:27.780535",
     "status": "completed"
    },
    "tags": []
   },
   "source": [
    "<p style=\"padding:15px;\n",
    "background-color:#f4ebdc;\n",
    "margin:0; color:#B3005E; border:2px dotted #C689C6; font-family:Charter; font-weight: bold; font-size:250%; text-align:center; overflow:hidden; font-weight:500\">If you like this then please UPVOTE this 😄 Your opinions and suggestions are very important to me...<img src=\"https://media.giphy.com/media/WUlplcMpOCEmTGBtBW/giphy.gif\" width=\"100\"> <div style=\"float:center;margin-left:270px;max-width:50%;\">"
   ]
  },
  {
   "cell_type": "markdown",
   "id": "ebb5a1b3",
   "metadata": {
    "papermill": {
     "duration": 0.010112,
     "end_time": "2023-03-20T17:21:27.810502",
     "exception": false,
     "start_time": "2023-03-20T17:21:27.800390",
     "status": "completed"
    },
    "tags": []
   },
   "source": [
    "<p style=\"padding:15px;\n",
    "background-color:#f4ebdc;\n",
    "margin:0; color:#B3005E; border:2px dotted #C689C6; font-family:Charter; font-weight: bold; font-size:250%; text-align:center; overflow:hidden; font-weight:500\">\n",
    "FOR MORE:</p> \n",
    "\n",
    "https://www.linkedin.com/in/serdar-ozturk/\n",
    "\n",
    "https://github.com/StanleyHopson\n",
    "\n",
    "https://medium.com/@serdar.f95\n",
    "\n",
    "<p style=\"padding:15px;\n",
    "background-color:#f4ebdc;\n",
    "margin:0; color:#B3005E; border:2px dotted #C689C6; font-family:Charter; font-weight: bold; font-size:250%; text-align:center; overflow:hidden; font-weight:500\">CREDITS:</p> \n",
    "\n",
    "[https://numpy.org/](http://)\n",
    "\n",
    "[https://seaborn.pydata.org/](http://)\n",
    "\n",
    "[https://pandas.pydata.org](http://)\n",
    "\n",
    "[https://pandas.pydata.org/](http://)\n",
    "\n",
    "[https://learning.miuul.com](http://)"
   ]
  },
  {
   "cell_type": "code",
   "execution_count": null,
   "outputs": [],
   "source": [],
   "metadata": {
    "collapsed": false
   },
   "id": "abe38f76b9be8794"
  }
 ],
 "metadata": {
  "kernelspec": {
   "display_name": "Python 3",
   "language": "python",
   "name": "python3"
  },
  "language_info": {
   "codemirror_mode": {
    "name": "ipython",
    "version": 3
   },
   "file_extension": ".py",
   "mimetype": "text/x-python",
   "name": "python",
   "nbconvert_exporter": "python",
   "pygments_lexer": "ipython3",
   "version": "3.7.12"
  },
  "papermill": {
   "default_parameters": {},
   "duration": 13.825504,
   "end_time": "2023-03-20T17:21:28.544632",
   "environment_variables": {},
   "exception": null,
   "input_path": "__notebook__.ipynb",
   "output_path": "__notebook__.ipynb",
   "parameters": {},
   "start_time": "2023-03-20T17:21:14.719128",
   "version": "2.4.0"
  }
 },
 "nbformat": 4,
 "nbformat_minor": 5
}
