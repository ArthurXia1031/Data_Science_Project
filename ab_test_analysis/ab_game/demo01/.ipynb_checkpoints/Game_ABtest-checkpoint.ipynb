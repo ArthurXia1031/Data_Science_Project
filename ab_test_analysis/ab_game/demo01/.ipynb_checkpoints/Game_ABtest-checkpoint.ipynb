{
 "cells": [
  {
   "cell_type": "markdown",
   "metadata": {},
   "source": [
    "##\n",
    "## AB test Analysis for a mobile game\n",
    "### The data is pre-set for the analysis"
   ]
  },
  {
   "cell_type": "code",
   "execution_count": 87,
   "metadata": {
    "ExecuteTime": {
     "end_time": "2023-08-16T17:05:42.729008Z",
     "start_time": "2023-08-16T17:05:42.645609Z"
    },
    "collapsed": true
   },
   "outputs": [],
   "source": [
    "import pandas as pd\n",
    "import numpy as np\n",
    "import matplotlib.pyplot as plt\n",
    "import seaborn as sns"
   ]
  },
  {
   "cell_type": "code",
   "execution_count": 88,
   "metadata": {
    "ExecuteTime": {
     "end_time": "2023-08-16T17:05:42.734064Z",
     "start_time": "2023-08-16T17:05:42.649113Z"
    }
   },
   "outputs": [],
   "source": [
    "data = pd.read_csv('AB_Test_Results.csv')"
   ]
  },
  {
   "cell_type": "code",
   "execution_count": 89,
   "metadata": {
    "ExecuteTime": {
     "end_time": "2023-08-16T17:05:42.774586Z",
     "start_time": "2023-08-16T17:05:42.658580Z"
    }
   },
   "outputs": [
    {
     "data": {
      "text/html": [
       "<div>\n",
       "<style scoped>\n",
       "    .dataframe tbody tr th:only-of-type {\n",
       "        vertical-align: middle;\n",
       "    }\n",
       "\n",
       "    .dataframe tbody tr th {\n",
       "        vertical-align: top;\n",
       "    }\n",
       "\n",
       "    .dataframe thead th {\n",
       "        text-align: right;\n",
       "    }\n",
       "</style>\n",
       "<table border=\"1\" class=\"dataframe\">\n",
       "  <thead>\n",
       "    <tr style=\"text-align: right;\">\n",
       "      <th></th>\n",
       "      <th>USER_ID</th>\n",
       "      <th>VARIANT_NAME</th>\n",
       "      <th>REVENUE</th>\n",
       "    </tr>\n",
       "  </thead>\n",
       "  <tbody>\n",
       "    <tr>\n",
       "      <th>0</th>\n",
       "      <td>737</td>\n",
       "      <td>variant</td>\n",
       "      <td>0.0</td>\n",
       "    </tr>\n",
       "    <tr>\n",
       "      <th>1</th>\n",
       "      <td>2423</td>\n",
       "      <td>control</td>\n",
       "      <td>0.0</td>\n",
       "    </tr>\n",
       "    <tr>\n",
       "      <th>2</th>\n",
       "      <td>9411</td>\n",
       "      <td>control</td>\n",
       "      <td>0.0</td>\n",
       "    </tr>\n",
       "    <tr>\n",
       "      <th>3</th>\n",
       "      <td>7311</td>\n",
       "      <td>control</td>\n",
       "      <td>0.0</td>\n",
       "    </tr>\n",
       "    <tr>\n",
       "      <th>4</th>\n",
       "      <td>6174</td>\n",
       "      <td>variant</td>\n",
       "      <td>0.0</td>\n",
       "    </tr>\n",
       "  </tbody>\n",
       "</table>\n",
       "</div>"
      ],
      "text/plain": [
       "   USER_ID VARIANT_NAME  REVENUE\n",
       "0      737      variant      0.0\n",
       "1     2423      control      0.0\n",
       "2     9411      control      0.0\n",
       "3     7311      control      0.0\n",
       "4     6174      variant      0.0"
      ]
     },
     "execution_count": 89,
     "metadata": {},
     "output_type": "execute_result"
    }
   ],
   "source": [
    "data.head()"
   ]
  },
  {
   "cell_type": "code",
   "execution_count": 90,
   "metadata": {
    "ExecuteTime": {
     "end_time": "2023-08-16T17:05:43.046436Z",
     "start_time": "2023-08-16T17:05:42.666052Z"
    }
   },
   "outputs": [
    {
     "name": "stdout",
     "output_type": "stream",
     "text": [
      "<class 'pandas.core.frame.DataFrame'>\n",
      "RangeIndex: 10000 entries, 0 to 9999\n",
      "Data columns (total 3 columns):\n",
      " #   Column        Non-Null Count  Dtype  \n",
      "---  ------        --------------  -----  \n",
      " 0   USER_ID       10000 non-null  int64  \n",
      " 1   VARIANT_NAME  10000 non-null  object \n",
      " 2   REVENUE       10000 non-null  float64\n",
      "dtypes: float64(1), int64(1), object(1)\n",
      "memory usage: 234.5+ KB\n"
     ]
    }
   ],
   "source": [
    "data.info()"
   ]
  },
  {
   "cell_type": "code",
   "execution_count": 91,
   "metadata": {
    "ExecuteTime": {
     "end_time": "2023-08-16T17:05:43.046794Z",
     "start_time": "2023-08-16T17:05:42.669197Z"
    }
   },
   "outputs": [
    {
     "data": {
      "text/plain": [
       "variant    5016\n",
       "control    4984\n",
       "Name: VARIANT_NAME, dtype: int64"
      ]
     },
     "execution_count": 91,
     "metadata": {},
     "output_type": "execute_result"
    }
   ],
   "source": [
    "data.VARIANT_NAME.value_counts()"
   ]
  },
  {
   "cell_type": "markdown",
   "metadata": {},
   "source": [
    "## Data exploratory"
   ]
  },
  {
   "cell_type": "code",
   "execution_count": 92,
   "metadata": {
    "ExecuteTime": {
     "end_time": "2023-08-16T17:05:43.075467Z",
     "start_time": "2023-08-16T17:05:42.672878Z"
    }
   },
   "outputs": [],
   "source": [
    "data_variant = data[data.VARIANT_NAME == 'Variant']\n",
    "data_control = data[data.VARIANT_NAME == 'Control']"
   ]
  },
  {
   "cell_type": "code",
   "execution_count": 93,
   "metadata": {
    "ExecuteTime": {
     "end_time": "2023-08-16T17:05:43.075633Z",
     "start_time": "2023-08-16T17:05:42.676069Z"
    }
   },
   "outputs": [],
   "source": [
    "import warnings\n",
    "\n",
    "warnings.filterwarnings('ignore')"
   ]
  },
  {
   "cell_type": "code",
   "execution_count": 94,
   "metadata": {
    "ExecuteTime": {
     "end_time": "2023-08-16T17:05:43.091991Z",
     "start_time": "2023-08-16T17:05:42.679679Z"
    }
   },
   "outputs": [
    {
     "data": {
      "text/plain": [
       "0.00     9848\n",
       "1.25       10\n",
       "1.01        6\n",
       "3.25        6\n",
       "0.04        5\n",
       "         ... \n",
       "2.19        1\n",
       "2.14        1\n",
       "17.08       1\n",
       "2.00        1\n",
       "2.92        1\n",
       "Name: REVENUE, Length: 101, dtype: int64"
      ]
     },
     "execution_count": 94,
     "metadata": {},
     "output_type": "execute_result"
    }
   ],
   "source": [
    "data.REVENUE.value_counts()"
   ]
  },
  {
   "cell_type": "code",
   "execution_count": 95,
   "metadata": {
    "ExecuteTime": {
     "end_time": "2023-08-16T17:05:43.181496Z",
     "start_time": "2023-08-16T17:05:42.686180Z"
    }
   },
   "outputs": [
    {
     "data": {
      "text/plain": [
       "USER_ID         6324\n",
       "VARIANT_NAME       2\n",
       "REVENUE          101\n",
       "dtype: int64"
      ]
     },
     "execution_count": 95,
     "metadata": {},
     "output_type": "execute_result"
    }
   ],
   "source": [
    "data.nunique()"
   ]
  },
  {
   "cell_type": "code",
   "execution_count": 96,
   "metadata": {
    "ExecuteTime": {
     "end_time": "2023-08-16T17:05:43.183762Z",
     "start_time": "2023-08-16T17:05:42.688379Z"
    }
   },
   "outputs": [],
   "source": [
    "data_variant_count = pd.DataFrame(data.groupby('USER_ID').agg({'VARIANT_NAME': 'nunique'}))\n",
    "data_variant_count.reset_index(inplace=True)"
   ]
  },
  {
   "cell_type": "code",
   "execution_count": 97,
   "metadata": {
    "ExecuteTime": {
     "end_time": "2023-08-16T17:05:43.185291Z",
     "start_time": "2023-08-16T17:05:42.693875Z"
    }
   },
   "outputs": [
    {
     "data": {
      "text/html": [
       "<div>\n",
       "<style scoped>\n",
       "    .dataframe tbody tr th:only-of-type {\n",
       "        vertical-align: middle;\n",
       "    }\n",
       "\n",
       "    .dataframe tbody tr th {\n",
       "        vertical-align: top;\n",
       "    }\n",
       "\n",
       "    .dataframe thead th {\n",
       "        text-align: right;\n",
       "    }\n",
       "</style>\n",
       "<table border=\"1\" class=\"dataframe\">\n",
       "  <thead>\n",
       "    <tr style=\"text-align: right;\">\n",
       "      <th></th>\n",
       "      <th>USER_ID</th>\n",
       "      <th>VARIANT_NAME</th>\n",
       "    </tr>\n",
       "  </thead>\n",
       "  <tbody>\n",
       "    <tr>\n",
       "      <th>0</th>\n",
       "      <td>2</td>\n",
       "      <td>1</td>\n",
       "    </tr>\n",
       "    <tr>\n",
       "      <th>1</th>\n",
       "      <td>3</td>\n",
       "      <td>2</td>\n",
       "    </tr>\n",
       "    <tr>\n",
       "      <th>2</th>\n",
       "      <td>4</td>\n",
       "      <td>1</td>\n",
       "    </tr>\n",
       "    <tr>\n",
       "      <th>3</th>\n",
       "      <td>5</td>\n",
       "      <td>1</td>\n",
       "    </tr>\n",
       "    <tr>\n",
       "      <th>4</th>\n",
       "      <td>6</td>\n",
       "      <td>1</td>\n",
       "    </tr>\n",
       "    <tr>\n",
       "      <th>...</th>\n",
       "      <td>...</td>\n",
       "      <td>...</td>\n",
       "    </tr>\n",
       "    <tr>\n",
       "      <th>6319</th>\n",
       "      <td>9993</td>\n",
       "      <td>1</td>\n",
       "    </tr>\n",
       "    <tr>\n",
       "      <th>6320</th>\n",
       "      <td>9995</td>\n",
       "      <td>1</td>\n",
       "    </tr>\n",
       "    <tr>\n",
       "      <th>6321</th>\n",
       "      <td>9996</td>\n",
       "      <td>2</td>\n",
       "    </tr>\n",
       "    <tr>\n",
       "      <th>6322</th>\n",
       "      <td>9998</td>\n",
       "      <td>1</td>\n",
       "    </tr>\n",
       "    <tr>\n",
       "      <th>6323</th>\n",
       "      <td>10000</td>\n",
       "      <td>2</td>\n",
       "    </tr>\n",
       "  </tbody>\n",
       "</table>\n",
       "<p>6324 rows × 2 columns</p>\n",
       "</div>"
      ],
      "text/plain": [
       "      USER_ID  VARIANT_NAME\n",
       "0           2             1\n",
       "1           3             2\n",
       "2           4             1\n",
       "3           5             1\n",
       "4           6             1\n",
       "...       ...           ...\n",
       "6319     9993             1\n",
       "6320     9995             1\n",
       "6321     9996             2\n",
       "6322     9998             1\n",
       "6323    10000             2\n",
       "\n",
       "[6324 rows x 2 columns]"
      ]
     },
     "execution_count": 97,
     "metadata": {},
     "output_type": "execute_result"
    }
   ],
   "source": [
    "data_variant_count"
   ]
  },
  {
   "cell_type": "code",
   "execution_count": 98,
   "metadata": {
    "ExecuteTime": {
     "end_time": "2023-08-16T17:05:43.185436Z",
     "start_time": "2023-08-16T17:05:42.697490Z"
    }
   },
   "outputs": [
    {
     "data": {
      "text/plain": [
       "1    4783\n",
       "2    1541\n",
       "Name: VARIANT_NAME, dtype: int64"
      ]
     },
     "execution_count": 98,
     "metadata": {},
     "output_type": "execute_result"
    }
   ],
   "source": [
    "data_variant_count.VARIANT_NAME.value_counts()\n",
    "# there are 1541 users who have both variants and 4783 have only one variant"
   ]
  },
  {
   "cell_type": "code",
   "execution_count": 99,
   "metadata": {
    "ExecuteTime": {
     "end_time": "2023-08-16T17:05:43.185510Z",
     "start_time": "2023-08-16T17:05:42.699986Z"
    }
   },
   "outputs": [],
   "source": [
    "data_both_group = data_variant_count[data_variant_count['VARIANT_NAME'] == 2].USER_ID.to_list()\n",
    "data_single_group = data_variant_count[data_variant_count['VARIANT_NAME'] == 1].USER_ID.to_list()"
   ]
  },
  {
   "cell_type": "code",
   "execution_count": 100,
   "metadata": {
    "ExecuteTime": {
     "end_time": "2023-08-16T17:05:43.185814Z",
     "start_time": "2023-08-16T17:05:42.703334Z"
    }
   },
   "outputs": [],
   "source": [
    "data_both = data[data.USER_ID.isin(data_both_group)]\n",
    "data_single = data[data.USER_ID.isin(data_single_group)]"
   ]
  },
  {
   "cell_type": "code",
   "execution_count": 101,
   "metadata": {
    "ExecuteTime": {
     "end_time": "2023-08-16T17:05:43.185915Z",
     "start_time": "2023-08-16T17:05:42.707208Z"
    }
   },
   "outputs": [
    {
     "data": {
      "text/plain": [
       "True"
      ]
     },
     "execution_count": 101,
     "metadata": {},
     "output_type": "execute_result"
    }
   ],
   "source": [
    "# check if the data is correct\n",
    "len(data_both) + len(data_single) == len(data)"
   ]
  },
  {
   "cell_type": "markdown",
   "metadata": {},
   "source": [
    "### Let's look at the revenue distribution"
   ]
  },
  {
   "cell_type": "code",
   "execution_count": 102,
   "metadata": {
    "ExecuteTime": {
     "end_time": "2023-08-16T17:05:43.199564Z",
     "start_time": "2023-08-16T17:05:42.711399Z"
    }
   },
   "outputs": [
    {
     "data": {
      "text/plain": [
       "<Axes: xlabel='VARIANT_NAME', ylabel='REVENUE'>"
      ]
     },
     "execution_count": 102,
     "metadata": {},
     "output_type": "execute_result"
    },
    {
     "data": {
      "image/png": "[encoded data removed]",
      "text/plain": [
       "<Figure size 1200x800 with 1 Axes>"
      ]
     },
     "metadata": {
      "needs_background": "light"
     },
     "output_type": "display_data"
    }
   ],
   "source": [
    "plt.figure(figsize=(12, 8), dpi=100)\n",
    "sns.boxplot(x='VARIANT_NAME', y='REVENUE', data=data)"
   ]
  },
  {
   "cell_type": "code",
   "execution_count": 103,
   "metadata": {
    "ExecuteTime": {
     "end_time": "2023-08-16T17:05:43.199772Z",
     "start_time": "2023-08-16T17:05:42.795999Z"
    }
   },
   "outputs": [
    {
     "data": {
      "text/plain": [
       "count    10000.000000\n",
       "mean         0.099447\n",
       "std          2.318529\n",
       "min          0.000000\n",
       "25%          0.000000\n",
       "50%          0.000000\n",
       "75%          0.000000\n",
       "max        196.010000\n",
       "Name: REVENUE, dtype: float64"
      ]
     },
     "execution_count": 103,
     "metadata": {},
     "output_type": "execute_result"
    }
   ],
   "source": [
    "## there are some outliers, let's remove them\n",
    "\n",
    "data.REVENUE.describe()"
   ]
  },
  {
   "cell_type": "code",
   "execution_count": 104,
   "metadata": {
    "ExecuteTime": {
     "end_time": "2023-08-16T17:05:43.200148Z",
     "start_time": "2023-08-16T17:05:42.804207Z"
    }
   },
   "outputs": [
    {
     "data": {
      "text/html": [
       "<div>\n",
       "<style scoped>\n",
       "    .dataframe tbody tr th:only-of-type {\n",
       "        vertical-align: middle;\n",
       "    }\n",
       "\n",
       "    .dataframe tbody tr th {\n",
       "        vertical-align: top;\n",
       "    }\n",
       "\n",
       "    .dataframe thead th {\n",
       "        text-align: right;\n",
       "    }\n",
       "</style>\n",
       "<table border=\"1\" class=\"dataframe\">\n",
       "  <thead>\n",
       "    <tr style=\"text-align: right;\">\n",
       "      <th></th>\n",
       "      <th>USER_ID</th>\n",
       "      <th>VARIANT_NAME</th>\n",
       "      <th>REVENUE</th>\n",
       "    </tr>\n",
       "  </thead>\n",
       "  <tbody>\n",
       "    <tr>\n",
       "      <th>1437</th>\n",
       "      <td>3342</td>\n",
       "      <td>control</td>\n",
       "      <td>196.01</td>\n",
       "    </tr>\n",
       "    <tr>\n",
       "      <th>6447</th>\n",
       "      <td>2881</td>\n",
       "      <td>variant</td>\n",
       "      <td>58.63</td>\n",
       "    </tr>\n",
       "    <tr>\n",
       "      <th>7642</th>\n",
       "      <td>7206</td>\n",
       "      <td>variant</td>\n",
       "      <td>57.46</td>\n",
       "    </tr>\n",
       "    <tr>\n",
       "      <th>9421</th>\n",
       "      <td>6792</td>\n",
       "      <td>control</td>\n",
       "      <td>41.53</td>\n",
       "    </tr>\n",
       "    <tr>\n",
       "      <th>8168</th>\n",
       "      <td>2166</td>\n",
       "      <td>control</td>\n",
       "      <td>29.32</td>\n",
       "    </tr>\n",
       "    <tr>\n",
       "      <th>9125</th>\n",
       "      <td>831</td>\n",
       "      <td>control</td>\n",
       "      <td>25.98</td>\n",
       "    </tr>\n",
       "    <tr>\n",
       "      <th>2482</th>\n",
       "      <td>7356</td>\n",
       "      <td>variant</td>\n",
       "      <td>23.04</td>\n",
       "    </tr>\n",
       "    <tr>\n",
       "      <th>6412</th>\n",
       "      <td>1053</td>\n",
       "      <td>control</td>\n",
       "      <td>20.07</td>\n",
       "    </tr>\n",
       "    <tr>\n",
       "      <th>5217</th>\n",
       "      <td>3684</td>\n",
       "      <td>variant</td>\n",
       "      <td>19.47</td>\n",
       "    </tr>\n",
       "    <tr>\n",
       "      <th>5530</th>\n",
       "      <td>282</td>\n",
       "      <td>control</td>\n",
       "      <td>18.56</td>\n",
       "    </tr>\n",
       "  </tbody>\n",
       "</table>\n",
       "</div>"
      ],
      "text/plain": [
       "      USER_ID VARIANT_NAME  REVENUE\n",
       "1437     3342      control   196.01\n",
       "6447     2881      variant    58.63\n",
       "7642     7206      variant    57.46\n",
       "9421     6792      control    41.53\n",
       "8168     2166      control    29.32\n",
       "9125      831      control    25.98\n",
       "2482     7356      variant    23.04\n",
       "6412     1053      control    20.07\n",
       "5217     3684      variant    19.47\n",
       "5530      282      control    18.56"
      ]
     },
     "execution_count": 104,
     "metadata": {},
     "output_type": "execute_result"
    }
   ],
   "source": [
    "data.sort_values(ascending=False, by='REVENUE').head(10)"
   ]
  },
  {
   "cell_type": "code",
   "execution_count": 105,
   "metadata": {
    "ExecuteTime": {
     "end_time": "2023-08-16T17:05:43.200333Z",
     "start_time": "2023-08-16T17:05:42.809815Z"
    }
   },
   "outputs": [
    {
     "data": {
      "text/html": [
       "<div>\n",
       "<style scoped>\n",
       "    .dataframe tbody tr th:only-of-type {\n",
       "        vertical-align: middle;\n",
       "    }\n",
       "\n",
       "    .dataframe tbody tr th {\n",
       "        vertical-align: top;\n",
       "    }\n",
       "\n",
       "    .dataframe thead th {\n",
       "        text-align: right;\n",
       "    }\n",
       "</style>\n",
       "<table border=\"1\" class=\"dataframe\">\n",
       "  <thead>\n",
       "    <tr style=\"text-align: right;\">\n",
       "      <th></th>\n",
       "      <th>USER_ID</th>\n",
       "      <th>VARIANT_NAME</th>\n",
       "      <th>REVENUE</th>\n",
       "    </tr>\n",
       "  </thead>\n",
       "  <tbody>\n",
       "    <tr>\n",
       "      <th>1437</th>\n",
       "      <td>3342</td>\n",
       "      <td>control</td>\n",
       "      <td>196.01</td>\n",
       "    </tr>\n",
       "  </tbody>\n",
       "</table>\n",
       "</div>"
      ],
      "text/plain": [
       "      USER_ID VARIANT_NAME  REVENUE\n",
       "1437     3342      control   196.01"
      ]
     },
     "execution_count": 105,
     "metadata": {},
     "output_type": "execute_result"
    }
   ],
   "source": [
    "data[data.USER_ID == 3342]"
   ]
  },
  {
   "cell_type": "code",
   "execution_count": 106,
   "metadata": {
    "ExecuteTime": {
     "end_time": "2023-08-16T17:05:43.200427Z",
     "start_time": "2023-08-16T17:05:42.814436Z"
    }
   },
   "outputs": [
    {
     "data": {
      "text/plain": [
       "[1437, 6447, 7642, 9421]"
      ]
     },
     "execution_count": 106,
     "metadata": {},
     "output_type": "execute_result"
    }
   ],
   "source": [
    "data[data['REVENUE'] >= 30].index.to_list()"
   ]
  },
  {
   "cell_type": "code",
   "execution_count": 107,
   "metadata": {
    "ExecuteTime": {
     "end_time": "2023-08-16T17:05:43.200477Z",
     "start_time": "2023-08-16T17:05:42.817178Z"
    }
   },
   "outputs": [],
   "source": [
    "# drop outliers\n",
    "data.drop(data[data['REVENUE'] >= 30].index.to_list(), inplace=True)\n",
    "data_single.drop(data_single[data_single['REVENUE'] >= 30].index.to_list(), inplace=True)\n",
    "data_both.drop(data_both[data_both['REVENUE'] >= 30].index.to_list(), inplace=True)"
   ]
  },
  {
   "cell_type": "code",
   "execution_count": 108,
   "metadata": {
    "ExecuteTime": {
     "end_time": "2023-08-16T17:05:43.200880Z",
     "start_time": "2023-08-16T17:05:42.823130Z"
    }
   },
   "outputs": [
    {
     "data": {
      "text/plain": [
       "<Axes: xlabel='VARIANT_NAME', ylabel='REVENUE'>"
      ]
     },
     "execution_count": 108,
     "metadata": {},
     "output_type": "execute_result"
    },
    {
     "data": {
      "image/png": "[encoded data removed]",
      "text/plain": [
       "<Figure size 1200x800 with 1 Axes>"
      ]
     },
     "metadata": {
      "needs_background": "light"
     },
     "output_type": "display_data"
    }
   ],
   "source": [
    "plt.figure(figsize=(12, 8), dpi=100)\n",
    "sns.boxplot(x='VARIANT_NAME', y='REVENUE', data=data)"
   ]
  },
  {
   "cell_type": "code",
   "execution_count": 109,
   "metadata": {
    "ExecuteTime": {
     "end_time": "2023-08-16T17:05:43.241751Z",
     "start_time": "2023-08-16T17:05:42.913473Z"
    }
   },
   "outputs": [
    {
     "data": {
      "text/plain": [
       "Text(0.5, 1.0, 'Double variant users')"
      ]
     },
     "execution_count": 109,
     "metadata": {},
     "output_type": "execute_result"
    },
    {
     "data": {
      "image/png": "[encoded data removed]",
      "text/plain": [
       "<Figure size 1200x800 with 2 Axes>"
      ]
     },
     "metadata": {
      "needs_background": "light"
     },
     "output_type": "display_data"
    },
    {
     "data": {
      "text/plain": [
       "<Figure size 1200x800 with 0 Axes>"
      ]
     },
     "metadata": {},
     "output_type": "display_data"
    }
   ],
   "source": [
    "ax, fig = plt.subplots(1, 2, figsize=(12, 8), dpi=100)\n",
    "plt.figure(figsize=(12, 8), dpi=100)\n",
    "\n",
    "sns.boxplot(x='VARIANT_NAME', y='REVENUE', data=data_single, ax=fig[0]).set_title('Single variant users')\n",
    "sns.boxplot(x='VARIANT_NAME', y='REVENUE', data=data_both, ax=fig[1]).set_title('Double variant users')"
   ]
  },
  {
   "cell_type": "code",
   "execution_count": 110,
   "metadata": {
    "ExecuteTime": {
     "end_time": "2023-08-16T17:05:43.495389Z",
     "start_time": "2023-08-16T17:05:43.069890Z"
    }
   },
   "outputs": [
    {
     "data": {
      "text/plain": [
       "Text(0.5, 1.0, 'Double variant users')"
      ]
     },
     "execution_count": 110,
     "metadata": {},
     "output_type": "execute_result"
    },
    {
     "data": {
      "image/png": "[encoded data removed]",
      "text/plain": [
       "<Figure size 1200x800 with 2 Axes>"
      ]
     },
     "metadata": {
      "needs_background": "light"
     },
     "output_type": "display_data"
    },
    {
     "data": {
      "text/plain": [
       "<Figure size 1200x800 with 0 Axes>"
      ]
     },
     "metadata": {},
     "output_type": "display_data"
    }
   ],
   "source": [
    "# exclude the users with 0 revenue\n",
    "\n",
    "ax, fig = plt.subplots(1, 2, figsize=(12, 8), dpi=100)\n",
    "plt.figure(figsize=(12, 8), dpi=100)\n",
    "\n",
    "sns.boxplot(x='VARIANT_NAME', y='REVENUE', data=data_single[data_single.REVENUE > 0],\n",
    "            ax=fig[0]).set_title('Single variant users')\n",
    "sns.boxplot(x='VARIANT_NAME', y='REVENUE', data=data_both[data_both.REVENUE > 0],\n",
    "            ax=fig[1]).set_title('Double variant users')"
   ]
  },
  {
   "cell_type": "code",
   "execution_count": 111,
   "metadata": {
    "ExecuteTime": {
     "end_time": "2023-08-16T17:05:43.613792Z",
     "start_time": "2023-08-16T17:05:43.193575Z"
    }
   },
   "outputs": [
    {
     "data": {
      "text/plain": [
       "Text(0.5, 1.0, 'Double variant users')"
      ]
     },
     "execution_count": 111,
     "metadata": {},
     "output_type": "execute_result"
    },
    {
     "data": {
      "image/png": "[encoded data removed]",
      "text/plain": [
       "<Figure size 1200x800 with 2 Axes>"
      ]
     },
     "metadata": {
      "needs_background": "light"
     },
     "output_type": "display_data"
    },
    {
     "data": {
      "text/plain": [
       "<Figure size 1200x800 with 0 Axes>"
      ]
     },
     "metadata": {},
     "output_type": "display_data"
    }
   ],
   "source": [
    "ax, fig = plt.subplots(1, 2, figsize=(12, 8), dpi=100)\n",
    "plt.figure(figsize=(12, 8), dpi=100)\n",
    "\n",
    "sns.boxplot(x='VARIANT_NAME', y='REVENUE', data=data,\n",
    "            ax=fig[0]).set_title('Single variant users')\n",
    "sns.boxplot(x='VARIANT_NAME', y='REVENUE', data=data[data.REVENUE > 0],\n",
    "            ax=fig[1]).set_title('Double variant users')"
   ]
  },
  {
   "cell_type": "code",
   "execution_count": 112,
   "metadata": {
    "ExecuteTime": {
     "end_time": "2023-08-16T17:05:43.614003Z",
     "start_time": "2023-08-16T17:05:43.352203Z"
    }
   },
   "outputs": [
    {
     "data": {
      "text/plain": [
       "count    148.000000\n",
       "mean       4.330000\n",
       "std        5.339269\n",
       "min        0.020000\n",
       "25%        1.250000\n",
       "50%        2.270000\n",
       "75%        4.340000\n",
       "max       29.320000\n",
       "Name: REVENUE, dtype: float64"
      ]
     },
     "execution_count": 112,
     "metadata": {},
     "output_type": "execute_result"
    }
   ],
   "source": [
    "data.loc[data.REVENUE != 0, 'REVENUE'].describe()"
   ]
  },
  {
   "cell_type": "code",
   "execution_count": 113,
   "metadata": {
    "ExecuteTime": {
     "end_time": "2023-08-16T17:05:43.614052Z",
     "start_time": "2023-08-16T17:05:43.356969Z"
    }
   },
   "outputs": [],
   "source": [
    "data_with_zero = pd.DataFrame(data.loc[(data.REVENUE == 0),].USER_ID)\n",
    "data_without_zero = pd.DataFrame(data.loc[(data.REVENUE > 0),].USER_ID)\n",
    "\n",
    "data_with_both = data_with_zero.merge(data_without_zero, how='inner', on='USER_ID')"
   ]
  },
  {
   "cell_type": "code",
   "execution_count": 114,
   "metadata": {
    "ExecuteTime": {
     "end_time": "2023-08-16T17:05:43.614151Z",
     "start_time": "2023-08-16T17:05:43.360983Z"
    }
   },
   "outputs": [
    {
     "data": {
      "text/plain": [
       "52"
      ]
     },
     "execution_count": 114,
     "metadata": {},
     "output_type": "execute_result"
    }
   ],
   "source": [
    "(data_single.loc[\n",
    "    (data['REVENUE'] == 0) & (data['USER_ID'].isin(data.loc[data['REVENUE'] > 0, 'USER_ID'].values)),\n",
    "    'USER_ID'\n",
    "]).count()"
   ]
  },
  {
   "cell_type": "code",
   "execution_count": 115,
   "metadata": {
    "ExecuteTime": {
     "end_time": "2023-08-16T17:05:43.614244Z",
     "start_time": "2023-08-16T17:05:43.364531Z"
    }
   },
   "outputs": [
    {
     "data": {
      "text/plain": [
       "USER_ID         4782\n",
       "VARIANT_NAME       2\n",
       "REVENUE           69\n",
       "dtype: int64"
      ]
     },
     "execution_count": 115,
     "metadata": {},
     "output_type": "execute_result"
    }
   ],
   "source": [
    "data_single.nunique()"
   ]
  },
  {
   "cell_type": "code",
   "execution_count": 116,
   "metadata": {
    "ExecuteTime": {
     "end_time": "2023-08-16T17:05:43.614345Z",
     "start_time": "2023-08-16T17:05:43.370341Z"
    }
   },
   "outputs": [
    {
     "name": "stdout",
     "output_type": "stream",
     "text": [
      "<class 'pandas.core.frame.DataFrame'>\n",
      "Int64Index: 6069 entries, 0 to 9999\n",
      "Data columns (total 3 columns):\n",
      " #   Column        Non-Null Count  Dtype  \n",
      "---  ------        --------------  -----  \n",
      " 0   USER_ID       6069 non-null   int64  \n",
      " 1   VARIANT_NAME  6069 non-null   object \n",
      " 2   REVENUE       6069 non-null   float64\n",
      "dtypes: float64(1), int64(1), object(1)\n",
      "memory usage: 189.7+ KB\n"
     ]
    }
   ],
   "source": [
    "data_single.info()"
   ]
  },
  {
   "cell_type": "code",
   "execution_count": 117,
   "metadata": {
    "ExecuteTime": {
     "end_time": "2023-08-16T17:05:43.614990Z",
     "start_time": "2023-08-16T17:05:43.375314Z"
    }
   },
   "outputs": [
    {
     "data": {
      "text/html": [
       "<div>\n",
       "<style scoped>\n",
       "    .dataframe tbody tr th:only-of-type {\n",
       "        vertical-align: middle;\n",
       "    }\n",
       "\n",
       "    .dataframe tbody tr th {\n",
       "        vertical-align: top;\n",
       "    }\n",
       "\n",
       "    .dataframe thead th {\n",
       "        text-align: right;\n",
       "    }\n",
       "</style>\n",
       "<table border=\"1\" class=\"dataframe\">\n",
       "  <thead>\n",
       "    <tr style=\"text-align: right;\">\n",
       "      <th></th>\n",
       "      <th>USER_ID</th>\n",
       "      <th>VARIANT_NAME</th>\n",
       "      <th>REVENUE</th>\n",
       "    </tr>\n",
       "  </thead>\n",
       "  <tbody>\n",
       "    <tr>\n",
       "      <th>0</th>\n",
       "      <td>737</td>\n",
       "      <td>variant</td>\n",
       "      <td>0.0</td>\n",
       "    </tr>\n",
       "    <tr>\n",
       "      <th>4</th>\n",
       "      <td>6174</td>\n",
       "      <td>variant</td>\n",
       "      <td>0.0</td>\n",
       "    </tr>\n",
       "    <tr>\n",
       "      <th>5</th>\n",
       "      <td>2380</td>\n",
       "      <td>variant</td>\n",
       "      <td>0.0</td>\n",
       "    </tr>\n",
       "    <tr>\n",
       "      <th>7</th>\n",
       "      <td>9168</td>\n",
       "      <td>control</td>\n",
       "      <td>0.0</td>\n",
       "    </tr>\n",
       "    <tr>\n",
       "      <th>9</th>\n",
       "      <td>7548</td>\n",
       "      <td>control</td>\n",
       "      <td>0.0</td>\n",
       "    </tr>\n",
       "    <tr>\n",
       "      <th>...</th>\n",
       "      <td>...</td>\n",
       "      <td>...</td>\n",
       "      <td>...</td>\n",
       "    </tr>\n",
       "    <tr>\n",
       "      <th>9993</th>\n",
       "      <td>2400</td>\n",
       "      <td>variant</td>\n",
       "      <td>0.0</td>\n",
       "    </tr>\n",
       "    <tr>\n",
       "      <th>9994</th>\n",
       "      <td>3129</td>\n",
       "      <td>control</td>\n",
       "      <td>0.0</td>\n",
       "    </tr>\n",
       "    <tr>\n",
       "      <th>9996</th>\n",
       "      <td>502</td>\n",
       "      <td>variant</td>\n",
       "      <td>0.0</td>\n",
       "    </tr>\n",
       "    <tr>\n",
       "      <th>9998</th>\n",
       "      <td>7741</td>\n",
       "      <td>control</td>\n",
       "      <td>0.0</td>\n",
       "    </tr>\n",
       "    <tr>\n",
       "      <th>9999</th>\n",
       "      <td>9468</td>\n",
       "      <td>control</td>\n",
       "      <td>0.0</td>\n",
       "    </tr>\n",
       "  </tbody>\n",
       "</table>\n",
       "<p>6069 rows × 3 columns</p>\n",
       "</div>"
      ],
      "text/plain": [
       "      USER_ID VARIANT_NAME  REVENUE\n",
       "0         737      variant      0.0\n",
       "4        6174      variant      0.0\n",
       "5        2380      variant      0.0\n",
       "7        9168      control      0.0\n",
       "9        7548      control      0.0\n",
       "...       ...          ...      ...\n",
       "9993     2400      variant      0.0\n",
       "9994     3129      control      0.0\n",
       "9996      502      variant      0.0\n",
       "9998     7741      control      0.0\n",
       "9999     9468      control      0.0\n",
       "\n",
       "[6069 rows x 3 columns]"
      ]
     },
     "execution_count": 117,
     "metadata": {},
     "output_type": "execute_result"
    }
   ],
   "source": [
    "data_single"
   ]
  },
  {
   "cell_type": "code",
   "execution_count": 118,
   "metadata": {
    "ExecuteTime": {
     "end_time": "2023-08-16T17:05:43.615493Z",
     "start_time": "2023-08-16T17:05:43.378532Z"
    }
   },
   "outputs": [
    {
     "data": {
      "text/html": [
       "<div>\n",
       "<style scoped>\n",
       "    .dataframe tbody tr th:only-of-type {\n",
       "        vertical-align: middle;\n",
       "    }\n",
       "\n",
       "    .dataframe tbody tr th {\n",
       "        vertical-align: top;\n",
       "    }\n",
       "\n",
       "    .dataframe thead th {\n",
       "        text-align: right;\n",
       "    }\n",
       "</style>\n",
       "<table border=\"1\" class=\"dataframe\">\n",
       "  <thead>\n",
       "    <tr style=\"text-align: right;\">\n",
       "      <th></th>\n",
       "      <th>USER_ID</th>\n",
       "      <th>VARIANT_NAME</th>\n",
       "      <th>REVENUE</th>\n",
       "    </tr>\n",
       "  </thead>\n",
       "  <tbody>\n",
       "    <tr>\n",
       "      <th>0</th>\n",
       "      <td>2</td>\n",
       "      <td>control</td>\n",
       "      <td>0.0</td>\n",
       "    </tr>\n",
       "    <tr>\n",
       "      <th>1</th>\n",
       "      <td>4</td>\n",
       "      <td>variant</td>\n",
       "      <td>0.0</td>\n",
       "    </tr>\n",
       "    <tr>\n",
       "      <th>2</th>\n",
       "      <td>5</td>\n",
       "      <td>variant</td>\n",
       "      <td>0.0</td>\n",
       "    </tr>\n",
       "    <tr>\n",
       "      <th>3</th>\n",
       "      <td>6</td>\n",
       "      <td>variant</td>\n",
       "      <td>0.0</td>\n",
       "    </tr>\n",
       "    <tr>\n",
       "      <th>4</th>\n",
       "      <td>9</td>\n",
       "      <td>variant</td>\n",
       "      <td>0.0</td>\n",
       "    </tr>\n",
       "    <tr>\n",
       "      <th>...</th>\n",
       "      <td>...</td>\n",
       "      <td>...</td>\n",
       "      <td>...</td>\n",
       "    </tr>\n",
       "    <tr>\n",
       "      <th>4777</th>\n",
       "      <td>9990</td>\n",
       "      <td>variant</td>\n",
       "      <td>0.0</td>\n",
       "    </tr>\n",
       "    <tr>\n",
       "      <th>4778</th>\n",
       "      <td>9992</td>\n",
       "      <td>control</td>\n",
       "      <td>0.0</td>\n",
       "    </tr>\n",
       "    <tr>\n",
       "      <th>4779</th>\n",
       "      <td>9993</td>\n",
       "      <td>control</td>\n",
       "      <td>0.0</td>\n",
       "    </tr>\n",
       "    <tr>\n",
       "      <th>4780</th>\n",
       "      <td>9995</td>\n",
       "      <td>variant</td>\n",
       "      <td>0.0</td>\n",
       "    </tr>\n",
       "    <tr>\n",
       "      <th>4781</th>\n",
       "      <td>9998</td>\n",
       "      <td>control</td>\n",
       "      <td>0.0</td>\n",
       "    </tr>\n",
       "  </tbody>\n",
       "</table>\n",
       "<p>4782 rows × 3 columns</p>\n",
       "</div>"
      ],
      "text/plain": [
       "      USER_ID VARIANT_NAME  REVENUE\n",
       "0           2      control      0.0\n",
       "1           4      variant      0.0\n",
       "2           5      variant      0.0\n",
       "3           6      variant      0.0\n",
       "4           9      variant      0.0\n",
       "...       ...          ...      ...\n",
       "4777     9990      variant      0.0\n",
       "4778     9992      control      0.0\n",
       "4779     9993      control      0.0\n",
       "4780     9995      variant      0.0\n",
       "4781     9998      control      0.0\n",
       "\n",
       "[4782 rows x 3 columns]"
      ]
     },
     "execution_count": 118,
     "metadata": {},
     "output_type": "execute_result"
    }
   ],
   "source": [
    "data_single = data_single.groupby(by=['USER_ID', 'VARIANT_NAME']).agg({'REVENUE': 'sum'}).reset_index()\n",
    "data_single"
   ]
  },
  {
   "cell_type": "code",
   "execution_count": 119,
   "metadata": {
    "ExecuteTime": {
     "end_time": "2023-08-16T17:05:43.767751Z",
     "start_time": "2023-08-16T17:05:43.397875Z"
    }
   },
   "outputs": [
    {
     "data": {
      "text/plain": [
       "<Axes: xlabel='VARIANT_NAME', ylabel='REVENUE'>"
      ]
     },
     "execution_count": 119,
     "metadata": {},
     "output_type": "execute_result"
    },
    {
     "data": {
      "image/png": "[encoded data removed]",
      "text/plain": [
       "<Figure size 1200x800 with 2 Axes>"
      ]
     },
     "metadata": {
      "needs_background": "light"
     },
     "output_type": "display_data"
    }
   ],
   "source": [
    "fig, ax = plt.subplots(1, 2, figsize=(12, 8), dpi=100)\n",
    "sns.boxplot(ax=ax[0], x='VARIANT_NAME', y='REVENUE', data=data_single)\n",
    "sns.boxplot(ax=ax[1], x='VARIANT_NAME', y='REVENUE', data=data_single[data_single.REVENUE > 0])"
   ]
  },
  {
   "cell_type": "code",
   "execution_count": 120,
   "metadata": {
    "ExecuteTime": {
     "end_time": "2023-08-16T17:05:43.768123Z",
     "start_time": "2023-08-16T17:05:43.509203Z"
    }
   },
   "outputs": [
    {
     "data": {
      "text/html": [
       "<div>\n",
       "<style scoped>\n",
       "    .dataframe tbody tr th:only-of-type {\n",
       "        vertical-align: middle;\n",
       "    }\n",
       "\n",
       "    .dataframe tbody tr th {\n",
       "        vertical-align: top;\n",
       "    }\n",
       "\n",
       "    .dataframe thead tr th {\n",
       "        text-align: left;\n",
       "    }\n",
       "\n",
       "    .dataframe thead tr:last-of-type th {\n",
       "        text-align: right;\n",
       "    }\n",
       "</style>\n",
       "<table border=\"1\" class=\"dataframe\">\n",
       "  <thead>\n",
       "    <tr>\n",
       "      <th></th>\n",
       "      <th>USER_ID</th>\n",
       "      <th colspan=\"4\" halign=\"left\">REVENUE</th>\n",
       "    </tr>\n",
       "    <tr>\n",
       "      <th></th>\n",
       "      <th>nunique</th>\n",
       "      <th>sum</th>\n",
       "      <th>mean</th>\n",
       "      <th>median</th>\n",
       "      <th>count</th>\n",
       "    </tr>\n",
       "    <tr>\n",
       "      <th>VARIANT_NAME</th>\n",
       "      <th></th>\n",
       "      <th></th>\n",
       "      <th></th>\n",
       "      <th></th>\n",
       "      <th></th>\n",
       "    </tr>\n",
       "  </thead>\n",
       "  <tbody>\n",
       "    <tr>\n",
       "      <th>control</th>\n",
       "      <td>2389</td>\n",
       "      <td>274.55</td>\n",
       "      <td>0.114923</td>\n",
       "      <td>0.0</td>\n",
       "      <td>2389</td>\n",
       "    </tr>\n",
       "    <tr>\n",
       "      <th>variant</th>\n",
       "      <td>2393</td>\n",
       "      <td>179.32</td>\n",
       "      <td>0.074935</td>\n",
       "      <td>0.0</td>\n",
       "      <td>2393</td>\n",
       "    </tr>\n",
       "  </tbody>\n",
       "</table>\n",
       "</div>"
      ],
      "text/plain": [
       "             USER_ID REVENUE                       \n",
       "             nunique     sum      mean median count\n",
       "VARIANT_NAME                                       \n",
       "control         2389  274.55  0.114923    0.0  2389\n",
       "variant         2393  179.32  0.074935    0.0  2393"
      ]
     },
     "execution_count": 120,
     "metadata": {},
     "output_type": "execute_result"
    }
   ],
   "source": [
    "all_stat = data_single.groupby(by='VARIANT_NAME').agg({'USER_ID': 'nunique',\n",
    "                                                       'REVENUE': ['sum', 'mean', 'median', 'count']})\n",
    "\n",
    "all_stat"
   ]
  },
  {
   "cell_type": "code",
   "execution_count": 121,
   "metadata": {
    "ExecuteTime": {
     "end_time": "2023-08-16T17:05:43.768223Z",
     "start_time": "2023-08-16T17:05:43.518048Z"
    }
   },
   "outputs": [],
   "source": [
    "orders_per_user = all_stat.loc[:, ('REVENUE', 'count')] / all_stat.loc[:, ('USER_ID', 'nunique')]\n",
    "revenue_per_user = all_stat.loc[:, ('REVENUE', 'sum')] / all_stat.loc[:, ('USER_ID', 'nunique')]"
   ]
  },
  {
   "cell_type": "code",
   "execution_count": 122,
   "metadata": {
    "ExecuteTime": {
     "end_time": "2023-08-16T17:05:43.768410Z",
     "start_time": "2023-08-16T17:05:43.523895Z"
    }
   },
   "outputs": [
    {
     "data": {
      "text/html": [
       "<div>\n",
       "<style scoped>\n",
       "    .dataframe tbody tr th:only-of-type {\n",
       "        vertical-align: middle;\n",
       "    }\n",
       "\n",
       "    .dataframe tbody tr th {\n",
       "        vertical-align: top;\n",
       "    }\n",
       "\n",
       "    .dataframe thead tr th {\n",
       "        text-align: left;\n",
       "    }\n",
       "\n",
       "    .dataframe thead tr:last-of-type th {\n",
       "        text-align: right;\n",
       "    }\n",
       "</style>\n",
       "<table border=\"1\" class=\"dataframe\">\n",
       "  <thead>\n",
       "    <tr>\n",
       "      <th></th>\n",
       "      <th>USER_ID</th>\n",
       "      <th colspan=\"4\" halign=\"left\">REVENUE</th>\n",
       "      <th>orders_per_user</th>\n",
       "      <th>revenue_per_user</th>\n",
       "    </tr>\n",
       "    <tr>\n",
       "      <th></th>\n",
       "      <th>nunique</th>\n",
       "      <th>sum</th>\n",
       "      <th>mean</th>\n",
       "      <th>median</th>\n",
       "      <th>count</th>\n",
       "      <th></th>\n",
       "      <th></th>\n",
       "    </tr>\n",
       "    <tr>\n",
       "      <th>VARIANT_NAME</th>\n",
       "      <th></th>\n",
       "      <th></th>\n",
       "      <th></th>\n",
       "      <th></th>\n",
       "      <th></th>\n",
       "      <th></th>\n",
       "      <th></th>\n",
       "    </tr>\n",
       "  </thead>\n",
       "  <tbody>\n",
       "    <tr>\n",
       "      <th>control</th>\n",
       "      <td>2389</td>\n",
       "      <td>274.55</td>\n",
       "      <td>0.114923</td>\n",
       "      <td>0.0</td>\n",
       "      <td>2389</td>\n",
       "      <td>1.0</td>\n",
       "      <td>0.114923</td>\n",
       "    </tr>\n",
       "    <tr>\n",
       "      <th>variant</th>\n",
       "      <td>2393</td>\n",
       "      <td>179.32</td>\n",
       "      <td>0.074935</td>\n",
       "      <td>0.0</td>\n",
       "      <td>2393</td>\n",
       "      <td>1.0</td>\n",
       "      <td>0.074935</td>\n",
       "    </tr>\n",
       "  </tbody>\n",
       "</table>\n",
       "</div>"
      ],
      "text/plain": [
       "             USER_ID REVENUE                        orders_per_user  \\\n",
       "             nunique     sum      mean median count                   \n",
       "VARIANT_NAME                                                          \n",
       "control         2389  274.55  0.114923    0.0  2389             1.0   \n",
       "variant         2393  179.32  0.074935    0.0  2393             1.0   \n",
       "\n",
       "             revenue_per_user  \n",
       "                               \n",
       "VARIANT_NAME                   \n",
       "control              0.114923  \n",
       "variant              0.074935  "
      ]
     },
     "execution_count": 122,
     "metadata": {},
     "output_type": "execute_result"
    }
   ],
   "source": [
    "all_stat['orders_per_user'] = orders_per_user\n",
    "all_stat['revenue_per_user'] = revenue_per_user\n",
    "\n",
    "all_stat"
   ]
  },
  {
   "cell_type": "code",
   "execution_count": 123,
   "metadata": {
    "ExecuteTime": {
     "end_time": "2023-08-16T17:05:43.768538Z",
     "start_time": "2023-08-16T17:05:43.528090Z"
    }
   },
   "outputs": [],
   "source": [
    "# get metrics by groups\n",
    "\n",
    "paid_stat = data_single.loc[data_single.REVENUE != 0].groupby('VARIANT_NAME').agg({'USER_ID': 'nunique',\n",
    "                                                                                   'REVENUE': ['sum', 'mean', 'median',\n",
    "                                                                                               'count']})\n",
    "\n",
    "orders_per_user = paid_stat.loc[:, ('REVENUE', 'count')] / paid_stat.loc[:, ('USER_ID', 'nunique')]\n",
    "revenue_per_user = paid_stat.loc[:, ('REVENUE', 'sum')] / paid_stat.loc[:, ('USER_ID', 'nunique')]\n",
    "\n",
    "paid_stat['orders_per_user'] = orders_per_user\n",
    "paid_stat['revenue_per_user'] = revenue_per_user"
   ]
  },
  {
   "cell_type": "code",
   "execution_count": 124,
   "metadata": {
    "ExecuteTime": {
     "end_time": "2023-08-16T17:05:43.768766Z",
     "start_time": "2023-08-16T17:05:43.535603Z"
    }
   },
   "outputs": [
    {
     "data": {
      "text/html": [
       "<div>\n",
       "<style scoped>\n",
       "    .dataframe tbody tr th:only-of-type {\n",
       "        vertical-align: middle;\n",
       "    }\n",
       "\n",
       "    .dataframe tbody tr th {\n",
       "        vertical-align: top;\n",
       "    }\n",
       "\n",
       "    .dataframe thead tr th {\n",
       "        text-align: left;\n",
       "    }\n",
       "\n",
       "    .dataframe thead tr:last-of-type th {\n",
       "        text-align: right;\n",
       "    }\n",
       "</style>\n",
       "<table border=\"1\" class=\"dataframe\">\n",
       "  <thead>\n",
       "    <tr>\n",
       "      <th></th>\n",
       "      <th>USER_ID</th>\n",
       "      <th colspan=\"4\" halign=\"left\">REVENUE</th>\n",
       "      <th>orders_per_user</th>\n",
       "      <th>revenue_per_user</th>\n",
       "    </tr>\n",
       "    <tr>\n",
       "      <th></th>\n",
       "      <th>nunique</th>\n",
       "      <th>sum</th>\n",
       "      <th>mean</th>\n",
       "      <th>median</th>\n",
       "      <th>count</th>\n",
       "      <th></th>\n",
       "      <th></th>\n",
       "    </tr>\n",
       "    <tr>\n",
       "      <th>VARIANT_NAME</th>\n",
       "      <th></th>\n",
       "      <th></th>\n",
       "      <th></th>\n",
       "      <th></th>\n",
       "      <th></th>\n",
       "      <th></th>\n",
       "      <th></th>\n",
       "    </tr>\n",
       "  </thead>\n",
       "  <tbody>\n",
       "    <tr>\n",
       "      <th>control</th>\n",
       "      <td>53</td>\n",
       "      <td>274.55</td>\n",
       "      <td>5.180189</td>\n",
       "      <td>2.99</td>\n",
       "      <td>53</td>\n",
       "      <td>1.0</td>\n",
       "      <td>5.180189</td>\n",
       "    </tr>\n",
       "    <tr>\n",
       "      <th>variant</th>\n",
       "      <td>42</td>\n",
       "      <td>179.32</td>\n",
       "      <td>4.269524</td>\n",
       "      <td>2.97</td>\n",
       "      <td>42</td>\n",
       "      <td>1.0</td>\n",
       "      <td>4.269524</td>\n",
       "    </tr>\n",
       "  </tbody>\n",
       "</table>\n",
       "</div>"
      ],
      "text/plain": [
       "             USER_ID REVENUE                        orders_per_user  \\\n",
       "             nunique     sum      mean median count                   \n",
       "VARIANT_NAME                                                          \n",
       "control           53  274.55  5.180189   2.99    53             1.0   \n",
       "variant           42  179.32  4.269524   2.97    42             1.0   \n",
       "\n",
       "             revenue_per_user  \n",
       "                               \n",
       "VARIANT_NAME                   \n",
       "control              5.180189  \n",
       "variant              4.269524  "
      ]
     },
     "execution_count": 124,
     "metadata": {},
     "output_type": "execute_result"
    }
   ],
   "source": [
    "paid_stat"
   ]
  },
  {
   "cell_type": "code",
   "execution_count": 125,
   "metadata": {
    "ExecuteTime": {
     "end_time": "2023-08-16T17:05:43.768946Z",
     "start_time": "2023-08-16T17:05:43.540607Z"
    }
   },
   "outputs": [
    {
     "data": {
      "text/html": [
       "<div>\n",
       "<style scoped>\n",
       "    .dataframe tbody tr th:only-of-type {\n",
       "        vertical-align: middle;\n",
       "    }\n",
       "\n",
       "    .dataframe tbody tr th {\n",
       "        vertical-align: top;\n",
       "    }\n",
       "\n",
       "    .dataframe thead th {\n",
       "        text-align: right;\n",
       "    }\n",
       "</style>\n",
       "<table border=\"1\" class=\"dataframe\">\n",
       "  <thead>\n",
       "    <tr style=\"text-align: right;\">\n",
       "      <th></th>\n",
       "      <th>USER_ID</th>\n",
       "      <th>VARIANT_NAME</th>\n",
       "      <th>REVENUE</th>\n",
       "    </tr>\n",
       "  </thead>\n",
       "  <tbody>\n",
       "    <tr>\n",
       "      <th>0</th>\n",
       "      <td>2</td>\n",
       "      <td>control</td>\n",
       "      <td>0.0</td>\n",
       "    </tr>\n",
       "    <tr>\n",
       "      <th>1</th>\n",
       "      <td>4</td>\n",
       "      <td>variant</td>\n",
       "      <td>0.0</td>\n",
       "    </tr>\n",
       "    <tr>\n",
       "      <th>2</th>\n",
       "      <td>5</td>\n",
       "      <td>variant</td>\n",
       "      <td>0.0</td>\n",
       "    </tr>\n",
       "    <tr>\n",
       "      <th>3</th>\n",
       "      <td>6</td>\n",
       "      <td>variant</td>\n",
       "      <td>0.0</td>\n",
       "    </tr>\n",
       "    <tr>\n",
       "      <th>4</th>\n",
       "      <td>9</td>\n",
       "      <td>variant</td>\n",
       "      <td>0.0</td>\n",
       "    </tr>\n",
       "    <tr>\n",
       "      <th>...</th>\n",
       "      <td>...</td>\n",
       "      <td>...</td>\n",
       "      <td>...</td>\n",
       "    </tr>\n",
       "    <tr>\n",
       "      <th>4777</th>\n",
       "      <td>9990</td>\n",
       "      <td>variant</td>\n",
       "      <td>0.0</td>\n",
       "    </tr>\n",
       "    <tr>\n",
       "      <th>4778</th>\n",
       "      <td>9992</td>\n",
       "      <td>control</td>\n",
       "      <td>0.0</td>\n",
       "    </tr>\n",
       "    <tr>\n",
       "      <th>4779</th>\n",
       "      <td>9993</td>\n",
       "      <td>control</td>\n",
       "      <td>0.0</td>\n",
       "    </tr>\n",
       "    <tr>\n",
       "      <th>4780</th>\n",
       "      <td>9995</td>\n",
       "      <td>variant</td>\n",
       "      <td>0.0</td>\n",
       "    </tr>\n",
       "    <tr>\n",
       "      <th>4781</th>\n",
       "      <td>9998</td>\n",
       "      <td>control</td>\n",
       "      <td>0.0</td>\n",
       "    </tr>\n",
       "  </tbody>\n",
       "</table>\n",
       "<p>4782 rows × 3 columns</p>\n",
       "</div>"
      ],
      "text/plain": [
       "      USER_ID VARIANT_NAME  REVENUE\n",
       "0           2      control      0.0\n",
       "1           4      variant      0.0\n",
       "2           5      variant      0.0\n",
       "3           6      variant      0.0\n",
       "4           9      variant      0.0\n",
       "...       ...          ...      ...\n",
       "4777     9990      variant      0.0\n",
       "4778     9992      control      0.0\n",
       "4779     9993      control      0.0\n",
       "4780     9995      variant      0.0\n",
       "4781     9998      control      0.0\n",
       "\n",
       "[4782 rows x 3 columns]"
      ]
     },
     "execution_count": 125,
     "metadata": {},
     "output_type": "execute_result"
    }
   ],
   "source": [
    "data_single"
   ]
  },
  {
   "cell_type": "markdown",
   "metadata": {},
   "source": [
    "`distplot` 和 `displot` 都是Seaborn库中的函数，用于绘制分布图，但它们之间存在一些关键区别：\n",
    "\n",
    "1. **版本和功能**:\n",
    "    - `distplot`: 这是Seaborn较早版本中的函数。它主要用于绘制直方图，并可以选择性地添加核密度估计(KDE)。\n",
    "    - `displot`: 这是Seaborn 0.11.0中引入的新函数。它提供了更多的灵活性，允许用户绘制直方图、KDE图、ECDFs等，并支持多个子图（faceting）。\n",
    "\n",
    "2. **返回类型**:\n",
    "    - `distplot`: 返回一个matplotlib的轴对象 (`AxesSubplot`), 因此它更适合与其他matplotlib功能一起使用。\n",
    "    - `displot`: 返回一个 `FacetGrid` 对象，这使得它能够更容易地处理多个子图。\n",
    "\n",
    "3. **使用的轴**:\n",
    "    - `distplot`: 通常在现有的matplotlib轴上绘制，例如通过`plt.subplots()`创建的轴。\n",
    "    - `displot`: 创建自己的轴，除非你使用了`col`或`row`参数进行faceting。\n",
    "\n",
    "4. **数据输入**:\n",
    "    - `distplot`: 主要接受一维数组或Series。\n",
    "    - `displot`: 更为灵活，可以接受整个DataFrame，并使用`x`和`y`参数来指定要绘制的列。\n",
    "\n",
    "5. **在Seaborn的未来版本中**:\n",
    "    - 随着Seaborn的发展，`distplot`已被弃用，并建议用户使用`displot`或其他新的分布绘图函数，如`histplot`、`kdeplot`和`ecdfplot`。\n",
    "\n",
    "总之，虽然`distplot`和`displot`在名字上非常相似，但它们是为不同目的设计的。`displot`提供了更多的功能和灵活性，而`distplot`是一个较旧的函数，目前已经被弃用。"
   ]
  },
  {
   "cell_type": "code",
   "execution_count": 126,
   "metadata": {
    "ExecuteTime": {
     "end_time": "2023-08-16T17:05:44.032285Z",
     "start_time": "2023-08-16T17:05:43.545622Z"
    }
   },
   "outputs": [
    {
     "data": {
      "text/plain": [
       "<matplotlib.legend.Legend at 0x2a6865f10>"
      ]
     },
     "execution_count": 126,
     "metadata": {},
     "output_type": "execute_result"
    },
    {
     "data": {
      "image/png": "[encoded data removed]",
      "text/plain": [
       "<Figure size 1000x800 with 2 Axes>"
      ]
     },
     "metadata": {
      "needs_background": "light"
     },
     "output_type": "display_data"
    }
   ],
   "source": [
    "fig, ax = plt.subplots(2, 1, figsize=(10, 8), dpi=100)\n",
    "# build graphs for all users\n",
    "sns.distplot(data_single.loc[data_single['VARIANT_NAME'] == 'control', 'REVENUE'], ax=ax[0], label='Control')\n",
    "sns.distplot(data_single.loc[data_single['VARIANT_NAME'] == 'variant', 'REVENUE'], ax=ax[0], label='Variant')\n",
    "\n",
    "ax[0].set_title('Distribution of revenue by groups')\n",
    "\n",
    "sns.distplot(data_single.loc[(data_single['VARIANT_NAME'] == 'control') & (data_single['REVENUE'] > 0), 'REVENUE'],\n",
    "             ax=ax[1], label='Control')\n",
    "sns.distplot(data_single.loc[(data_single['VARIANT_NAME'] == 'variant') & (data_single['REVENUE'] > 0), 'REVENUE'],\n",
    "             ax=ax[1], label='Variant')\n",
    "\n",
    "ax[1].set_title('Distribution of revenue by groups without 0 values')\n",
    "\n",
    "plt.legend()"
   ]
  },
  {
   "cell_type": "markdown",
   "metadata": {},
   "source": [
    "## Statistical analysis"
   ]
  },
  {
   "cell_type": "markdown",
   "metadata": {},
   "source": [
    "We could see that the data is not normally distributed, so we will use non-parametric tests"
   ]
  },
  {
   "cell_type": "code",
   "execution_count": 127,
   "metadata": {
    "ExecuteTime": {
     "end_time": "2023-08-16T17:05:44.032404Z",
     "start_time": "2023-08-16T17:05:43.845181Z"
    }
   },
   "outputs": [],
   "source": [
    "# check if the data is normally distributed\n",
    "from scipy.stats import shapiro"
   ]
  },
  {
   "cell_type": "code",
   "execution_count": 128,
   "metadata": {
    "ExecuteTime": {
     "end_time": "2023-08-16T17:05:44.032517Z",
     "start_time": "2023-08-16T17:05:43.849083Z"
    }
   },
   "outputs": [
    {
     "name": "stdout",
     "output_type": "stream",
     "text": [
      "Statistics=0.075, p=0.000\n",
      "The data is not normally distributed\n"
     ]
    }
   ],
   "source": [
    "stat, p_value = shapiro(data_single.loc[data_single['VARIANT_NAME'] == 'control', 'REVENUE'])\n",
    "\n",
    "print('Statistics=%.3f, p=%.3f' % (stat, p_value))\n",
    "\n",
    "if p_value > 0.05:\n",
    "    print('The data is normally distributed')\n",
    "else:\n",
    "    print('The data is not normally distributed')"
   ]
  },
  {
   "cell_type": "code",
   "execution_count": 129,
   "metadata": {
    "ExecuteTime": {
     "end_time": "2023-08-16T17:05:44.032605Z",
     "start_time": "2023-08-16T17:05:43.852342Z"
    }
   },
   "outputs": [
    {
     "name": "stdout",
     "output_type": "stream",
     "text": [
      "Statistics=0.061, p=0.000\n",
      "The data is not normally distributed\n"
     ]
    }
   ],
   "source": [
    "stat, p_value = shapiro(data_single.loc[data_single['VARIANT_NAME'] == 'variant', 'REVENUE'])\n",
    "\n",
    "print('Statistics=%.3f, p=%.3f' % (stat, p_value))\n",
    "\n",
    "if p_value > 0.05:\n",
    "    print('The data is normally distributed')\n",
    "else:\n",
    "    print('The data is not normally distributed')"
   ]
  },
  {
   "cell_type": "code",
   "execution_count": 130,
   "metadata": {
    "ExecuteTime": {
     "end_time": "2023-08-16T17:05:44.067494Z",
     "start_time": "2023-08-16T17:05:43.855672Z"
    }
   },
   "outputs": [
    {
     "data": {
      "image/png": "[encoded data removed]",
      "text/plain": [
       "<Figure size 432x288 with 1 Axes>"
      ]
     },
     "metadata": {
      "needs_background": "light"
     },
     "output_type": "display_data"
    },
    {
     "data": {
      "image/png": "[encoded data removed]",
      "text/plain": [
       "<Figure size 432x288 with 1 Axes>"
      ]
     },
     "metadata": {
      "needs_background": "light"
     },
     "output_type": "display_data"
    }
   ],
   "source": [
    "import statsmodels.api as sm\n",
    "import pylab\n",
    "\n",
    "sm.qqplot(data_single.loc[data_single['VARIANT_NAME'] == 'control', 'REVENUE'], line='s')\n",
    "sm.qqplot(data_single.loc[data_single['VARIANT_NAME'] == 'variant', 'REVENUE'], line='s')\n",
    "pylab.show()"
   ]
  },
  {
   "cell_type": "code",
   "execution_count": 131,
   "metadata": {
    "ExecuteTime": {
     "end_time": "2023-08-16T17:05:44.067665Z",
     "start_time": "2023-08-16T17:05:44.002665Z"
    }
   },
   "outputs": [
    {
     "name": "stdout",
     "output_type": "stream",
     "text": [
      "Statistic: 874.562\n",
      "Probably not normally distributed\n"
     ]
    }
   ],
   "source": [
    "# Anderson-Darling test\n",
    "from scipy.stats import anderson\n",
    "\n",
    "result = anderson(data_single.loc[data_single['VARIANT_NAME'] == 'control', 'REVENUE'])\n",
    "print('Statistic: %.3f' % result.statistic)\n",
    "\n",
    "if result.statistic > result.critical_values[2]:\n",
    "    print('Probably not normally distributed')\n",
    "else:\n",
    "    print('Probably normally distributed')"
   ]
  },
  {
   "cell_type": "code",
   "execution_count": 132,
   "metadata": {
    "ExecuteTime": {
     "end_time": "2023-08-16T17:05:44.114677Z",
     "start_time": "2023-08-16T17:05:44.007288Z"
    }
   },
   "outputs": [
    {
     "name": "stdout",
     "output_type": "stream",
     "text": [
      "Statistic: 884.698\n",
      "Probably not normally distributed\n"
     ]
    }
   ],
   "source": [
    "result = anderson(data_single.loc[data_single['VARIANT_NAME'] == 'variant', 'REVENUE'])\n",
    "print('Statistic: %.3f' % result.statistic)\n",
    "\n",
    "if result.statistic > result.critical_values[2]:\n",
    "    print('Probably not normally distributed')\n",
    "else:\n",
    "    print('Probably normally distributed')"
   ]
  },
  {
   "cell_type": "markdown",
   "metadata": {},
   "source": [
    "### Mann-Whitney U test"
   ]
  },
  {
   "cell_type": "code",
   "execution_count": 133,
   "metadata": {
    "ExecuteTime": {
     "end_time": "2023-08-16T17:05:44.145969Z",
     "start_time": "2023-08-16T17:05:44.012522Z"
    }
   },
   "outputs": [],
   "source": [
    "from scipy.stats import mannwhitneyu"
   ]
  },
  {
   "cell_type": "code",
   "execution_count": 134,
   "metadata": {
    "ExecuteTime": {
     "end_time": "2023-08-16T17:05:44.146362Z",
     "start_time": "2023-08-16T17:05:44.016276Z"
    }
   },
   "outputs": [],
   "source": [
    "stat, p_value = mannwhitneyu(data_single.loc[data_single['VARIANT_NAME'] == 'control', 'REVENUE'],\n",
    "                             data_single.loc[data_single['VARIANT_NAME'] == 'variant', 'REVENUE'])"
   ]
  },
  {
   "cell_type": "code",
   "execution_count": 135,
   "metadata": {
    "ExecuteTime": {
     "end_time": "2023-08-16T17:05:44.146509Z",
     "start_time": "2023-08-16T17:05:44.021516Z"
    }
   },
   "outputs": [
    {
     "name": "stdout",
     "output_type": "stream",
     "text": [
      "Statistics=2871768.000, p=0.248\n",
      "Probably the same distribution\n"
     ]
    }
   ],
   "source": [
    "print('Statistics=%.3f, p=%.3f' % (stat, p_value))\n",
    "\n",
    "if p_value > 0.05:\n",
    "    print('Probably the same distribution')\n",
    "else:\n",
    "    print('Probably different distributions')"
   ]
  },
  {
   "cell_type": "code",
   "execution_count": 136,
   "metadata": {
    "ExecuteTime": {
     "end_time": "2023-08-16T17:05:44.146598Z",
     "start_time": "2023-08-16T17:05:44.026003Z"
    }
   },
   "outputs": [
    {
     "name": "stdout",
     "output_type": "stream",
     "text": [
      "Statistics=1197.000, p=0.531\n",
      "Probably the same distribution\n"
     ]
    }
   ],
   "source": [
    "# let's check the data without 0 values\n",
    "\n",
    "stat, p_value = mannwhitneyu(data_single.loc[(data_single['VARIANT_NAME'] == 'control') & (data_single['REVENUE'] > 0),\n",
    "'REVENUE'],\n",
    "                             data_single.loc[(data_single['VARIANT_NAME'] == 'variant') & (data_single['REVENUE'] > 0),\n",
    "                             'REVENUE'])\n",
    "\n",
    "print('Statistics=%.3f, p=%.3f' % (stat, p_value))\n",
    "\n",
    "if p_value > 0.05:\n",
    "    print('Probably the same distribution')\n",
    "else:\n",
    "    print('Probably different distributions')"
   ]
  },
  {
   "cell_type": "markdown",
   "metadata": {},
   "source": [
    "## Bootstrap"
   ]
  },
  {
   "cell_type": "code",
   "execution_count": 137,
   "metadata": {
    "ExecuteTime": {
     "end_time": "2023-08-16T17:05:44.168616Z",
     "start_time": "2023-08-16T17:05:44.037512Z"
    }
   },
   "outputs": [],
   "source": [
    "# Use the bootstrap to get the confidence interval\n",
    "from sklearn.utils import resample"
   ]
  },
  {
   "cell_type": "code",
   "execution_count": 138,
   "metadata": {
    "ExecuteTime": {
     "end_time": "2023-08-16T17:05:44.168768Z",
     "start_time": "2023-08-16T17:05:44.041193Z"
    }
   },
   "outputs": [],
   "source": [
    "# prepare bootstrap sample\n",
    "control = data_single.loc[data_single['VARIANT_NAME'] == 'control', 'REVENUE']\n",
    "variant = data_single.loc[data_single['VARIANT_NAME'] == 'variant', 'REVENUE']"
   ]
  },
  {
   "cell_type": "code",
   "execution_count": 139,
   "metadata": {
    "ExecuteTime": {
     "end_time": "2023-08-16T17:05:44.168837Z",
     "start_time": "2023-08-16T17:05:44.043203Z"
    }
   },
   "outputs": [],
   "source": [
    "## define the bootstrap\n",
    "\n",
    "def get_bootstrap(data, n_samples=1000):\n",
    "    samples = np.array([np.random.choice(data, size=len(data), replace=True) for _ in range(n_samples)])\n",
    "    return samples"
   ]
  },
  {
   "cell_type": "code",
   "execution_count": 140,
   "metadata": {
    "ExecuteTime": {
     "end_time": "2023-08-16T17:05:44.435357Z",
     "start_time": "2023-08-16T17:05:44.045760Z"
    }
   },
   "outputs": [],
   "source": [
    "# run bootstrap\n",
    "\n",
    "sample_control = get_bootstrap(control)\n",
    "sample_variant = get_bootstrap(variant)\n",
    "sample_variant_paid = get_bootstrap(data_single.loc[data_single['REVENUE'] > 0, 'REVENUE'])\n",
    "sample_control_paid = get_bootstrap(data_single.loc[data_single['REVENUE'] > 0, 'REVENUE'])"
   ]
  },
  {
   "cell_type": "code",
   "execution_count": 141,
   "metadata": {
    "ExecuteTime": {
     "end_time": "2023-08-16T17:05:44.435877Z",
     "start_time": "2023-08-16T17:05:44.150132Z"
    }
   },
   "outputs": [
    {
     "data": {
      "text/plain": [
       "array([[0., 0., 0., ..., 0., 0., 0.],\n",
       "       [0., 0., 0., ..., 0., 0., 0.],\n",
       "       [0., 0., 0., ..., 0., 0., 0.]])"
      ]
     },
     "execution_count": 141,
     "metadata": {},
     "output_type": "execute_result"
    }
   ],
   "source": [
    "sample_control[0:3, 0:]"
   ]
  },
  {
   "cell_type": "code",
   "execution_count": 142,
   "metadata": {
    "ExecuteTime": {
     "end_time": "2023-08-16T17:05:44.457608Z",
     "start_time": "2023-08-16T17:05:44.154845Z"
    }
   },
   "outputs": [
    {
     "data": {
      "text/plain": [
       "array([[1.063e+01, 1.250e+00, 9.000e-01, 2.007e+01, 1.063e+01, 6.350e+00,\n",
       "        1.010e+00, 3.410e+00, 3.250e+00, 2.270e+00, 2.304e+01, 5.980e+00,\n",
       "        1.856e+01, 1.299e+01, 2.010e+00, 6.000e-01, 2.990e+00, 4.270e+00,\n",
       "        2.270e+00, 1.250e+00, 3.750e+00, 1.947e+01, 3.990e+00, 2.170e+00,\n",
       "        1.250e+00, 3.410e+00, 2.270e+00, 4.870e+00, 2.140e+00, 1.010e+00,\n",
       "        6.350e+00, 2.270e+00, 1.010e+00, 3.790e+00, 1.010e+00, 1.230e+00,\n",
       "        1.063e+01, 8.600e-01, 4.980e+00, 9.990e+00, 4.270e+00, 1.250e+00,\n",
       "        1.082e+01, 5.000e-01, 1.407e+01, 1.510e+00, 3.250e+00, 1.705e+01,\n",
       "        3.790e+00, 3.980e+00, 4.950e+00, 2.340e+00, 2.340e+00, 3.580e+00,\n",
       "        2.600e+00, 3.750e+00, 1.082e+01, 4.330e+00, 2.930e+00, 2.220e+00,\n",
       "        4.270e+00, 2.170e+00, 7.270e+00, 1.407e+01, 1.299e+01, 2.010e+00,\n",
       "        4.270e+00, 1.299e+01, 1.424e+01, 1.000e+00, 2.007e+01, 9.990e+00,\n",
       "        1.250e+00, 8.600e-01, 1.082e+01, 2.007e+01, 4.870e+00, 8.700e+00,\n",
       "        4.520e+00, 4.270e+00, 1.010e+00, 2.170e+00, 9.990e+00, 1.705e+01,\n",
       "        1.780e+00, 2.600e+00, 4.330e+00, 4.330e+00, 2.720e+00, 3.410e+00,\n",
       "        6.000e-01, 4.520e+00, 3.790e+00, 2.000e-02, 9.000e-01],\n",
       "       [3.000e+00, 1.010e+00, 4.000e-02, 4.330e+00, 2.000e-02, 2.930e+00,\n",
       "        5.980e+00, 1.010e+00, 3.580e+00, 3.580e+00, 2.170e+00, 2.500e+00,\n",
       "        1.780e+00, 1.407e+01, 1.424e+01, 1.250e+00, 1.250e+00, 2.930e+00,\n",
       "        5.980e+00, 2.990e+00, 9.910e+00, 4.980e+00, 5.980e+00, 8.600e-01,\n",
       "        4.520e+00, 2.600e+00, 7.270e+00, 1.010e+00, 3.280e+00, 4.000e-02,\n",
       "        2.304e+01, 1.010e+00, 5.000e-01, 1.082e+01, 1.299e+01, 2.220e+00,\n",
       "        2.007e+01, 2.220e+00, 3.250e+00, 5.800e-01, 2.160e+00, 4.950e+00,\n",
       "        6.000e-01, 2.932e+01, 1.000e+00, 2.932e+01, 1.856e+01, 2.160e+00,\n",
       "        3.280e+00, 4.270e+00, 2.020e+00, 2.990e+00, 1.407e+01, 6.000e-01,\n",
       "        4.270e+00, 1.250e+00, 2.000e-02, 8.660e+00, 4.950e+00, 2.500e+00,\n",
       "        2.270e+00, 9.000e-01, 3.750e+00, 2.007e+01, 8.660e+00, 2.000e-02,\n",
       "        3.750e+00, 3.000e+00, 4.520e+00, 1.780e+00, 4.330e+00, 3.250e+00,\n",
       "        3.980e+00, 2.020e+00, 2.020e+00, 2.990e+00, 1.000e+00, 3.000e+00,\n",
       "        6.000e-02, 1.250e+00, 2.304e+01, 2.000e-02, 1.063e+01, 3.790e+00,\n",
       "        4.330e+00, 1.299e+01, 1.000e+00, 9.910e+00, 3.790e+00, 4.270e+00,\n",
       "        1.300e+00, 2.020e+00, 4.000e-02, 2.990e+00, 5.800e-01],\n",
       "       [8.660e+00, 2.500e+00, 3.750e+00, 8.660e+00, 2.160e+00, 2.340e+00,\n",
       "        8.700e+00, 1.010e+00, 1.250e+00, 3.750e+00, 2.600e+00, 2.020e+00,\n",
       "        1.299e+01, 1.250e+00, 6.000e-02, 2.930e+00, 4.950e+00, 2.220e+00,\n",
       "        5.800e-01, 5.000e-01, 2.340e+00, 4.330e+00, 2.300e-01, 1.780e+00,\n",
       "        2.020e+00, 2.600e+00, 8.700e+00, 1.010e+00, 4.330e+00, 4.000e-02,\n",
       "        1.856e+01, 3.250e+00, 6.000e-02, 3.000e+00, 4.270e+00, 4.980e+00,\n",
       "        2.990e+00, 1.299e+01, 1.000e+00, 2.600e+00, 1.250e+00, 4.270e+00,\n",
       "        1.250e+00, 2.170e+00, 1.000e+00, 4.270e+00, 8.660e+00, 9.990e+00,\n",
       "        1.250e+00, 1.300e+00, 3.790e+00, 5.080e+00, 2.000e-02, 2.140e+00,\n",
       "        1.250e+00, 3.750e+00, 2.010e+00, 1.947e+01, 7.270e+00, 4.330e+00,\n",
       "        4.950e+00, 4.520e+00, 4.980e+00, 1.560e+00, 2.300e-01, 2.170e+00,\n",
       "        1.510e+00, 1.010e+00, 3.990e+00, 2.500e+00, 9.000e-01, 4.870e+00,\n",
       "        1.510e+00, 2.340e+00, 2.600e+00, 8.700e+00, 2.170e+00, 1.510e+00,\n",
       "        5.800e-01, 2.170e+00, 5.000e-01, 4.270e+00, 9.990e+00, 9.000e-01,\n",
       "        1.510e+00, 1.660e+00, 2.340e+00, 1.660e+00, 3.580e+00, 1.250e+00,\n",
       "        2.010e+00, 1.250e+00, 6.000e-02, 2.170e+00, 9.910e+00]])"
      ]
     },
     "execution_count": 142,
     "metadata": {},
     "output_type": "execute_result"
    }
   ],
   "source": [
    "sample_control_paid[0:3, 0:]"
   ]
  },
  {
   "cell_type": "code",
   "execution_count": 143,
   "metadata": {
    "ExecuteTime": {
     "end_time": "2023-08-16T17:05:44.545864Z",
     "start_time": "2023-08-16T17:05:44.170276Z"
    }
   },
   "outputs": [
    {
     "data": {
      "text/plain": [
       "Text(0.5, 0, 'Mean')"
      ]
     },
     "execution_count": 143,
     "metadata": {},
     "output_type": "execute_result"
    },
    {
     "data": {
      "image/png": "[encoded data removed]",
      "text/plain": [
       "<Figure size 1200x600 with 2 Axes>"
      ]
     },
     "metadata": {
      "needs_background": "light"
     },
     "output_type": "display_data"
    }
   ],
   "source": [
    "# plot the distribution of the means\n",
    "\n",
    "figs, axes = plt.subplots(1, 2, figsize=(12, 6), dpi=100)\n",
    "\n",
    "sns.distplot(sample_control.mean(axis=1), ax=axes[0], label='Control')\n",
    "sns.distplot(sample_variant.mean(axis=1), ax=axes[0], label='Variant')\n",
    "\n",
    "sns.distplot(sample_control_paid.mean(axis=1), ax=axes[1], label='Control')\n",
    "sns.distplot(sample_variant_paid.mean(axis=1), ax=axes[1], label='Variant')\n",
    "\n",
    "# set titles\n",
    "axes[0].set_title('Distribution of means by groups')\n",
    "axes[1].set_title('Distribution of means by groups without 0 values')\n",
    "\n",
    "plt.legend()\n",
    "\n",
    "axes[0].set_xlabel('Mean')\n",
    "axes[1].set_xlabel('Mean')\n",
    "\n"
   ]
  },
  {
   "cell_type": "code",
   "execution_count": 144,
   "metadata": {
    "ExecuteTime": {
     "end_time": "2023-08-16T17:05:44.548693Z",
     "start_time": "2023-08-16T17:05:44.546754Z"
    }
   },
   "outputs": [],
   "source": [
    "# get the confidence interval\n",
    "\n",
    "def get_confidence_interval(data, alpha=0.95):\n",
    "    lower = np.percentile(data, (1 - alpha) / 2 * 100)\n",
    "    upper = np.percentile(data, (1 + alpha) / 2 * 100)\n",
    "    return lower, upper"
   ]
  },
  {
   "cell_type": "code",
   "execution_count": 145,
   "metadata": {
    "ExecuteTime": {
     "end_time": "2023-08-16T17:05:44.554349Z",
     "start_time": "2023-08-16T17:05:44.549027Z"
    }
   },
   "outputs": [],
   "source": [
    "# get the confidence interval for the means\n",
    "\n",
    "lower_control, upper_control = get_confidence_interval(sample_control.mean(axis=1))\n",
    "lower_variant, upper_variant = get_confidence_interval(sample_variant.mean(axis=1))\n",
    "\n",
    "lower_control_paid, upper_control_paid = get_confidence_interval(sample_control_paid.mean(axis=1))\n",
    "lower_variant_paid, upper_variant_paid = get_confidence_interval(sample_variant_paid.mean(axis=1))"
   ]
  },
  {
   "cell_type": "code",
   "execution_count": 146,
   "metadata": {
    "ExecuteTime": {
     "end_time": "2023-08-16T17:05:44.556024Z",
     "start_time": "2023-08-16T17:05:44.553832Z"
    }
   },
   "outputs": [
    {
     "name": "stdout",
     "output_type": "stream",
     "text": [
      "Confidence interval for the control group: [0.072, 0.165]\n",
      "Confidence interval for the variant group: [0.043, 0.113]\n",
      "Confidence interval for the control group without 0 values: [3.698, 5.957]\n",
      "Confidence interval for the variant group without 0 values: [3.681, 5.900]\n"
     ]
    }
   ],
   "source": [
    "print('Confidence interval for the control group: [{:.3f}, {:.3f}]'.format(lower_control, upper_control))\n",
    "print('Confidence interval for the variant group: [{:.3f}, {:.3f}]'.format(lower_variant, upper_variant))\n",
    "print('Confidence interval for the control group without 0 values: [{:.3f}, {:.3f}]'.format(lower_control_paid,\n",
    "                                                                                            upper_control_paid))\n",
    "print('Confidence interval for the variant group without 0 values: [{:.3f}, {:.3f}]'.format(lower_variant_paid,\n",
    "                                                                                            upper_variant_paid))"
   ]
  },
  {
   "cell_type": "code",
   "execution_count": 147,
   "metadata": {
    "ExecuteTime": {
     "end_time": "2023-08-16T17:05:44.851755Z",
     "start_time": "2023-08-16T17:05:44.570520Z"
    }
   },
   "outputs": [
    {
     "data": {
      "text/plain": [
       "<matplotlib.lines.Line2D at 0x2a6ed7a90>"
      ]
     },
     "execution_count": 147,
     "metadata": {},
     "output_type": "execute_result"
    },
    {
     "data": {
      "image/png": "[encoded data removed]",
      "text/plain": [
       "<Figure size 1200x600 with 2 Axes>"
      ]
     },
     "metadata": {
      "needs_background": "light"
     },
     "output_type": "display_data"
    }
   ],
   "source": [
    "# plot the confidence interval for each group\n",
    "\n",
    "figs, axes = plt.subplots(1, 2, dpi=100, figsize=(12, 6))\n",
    "\n",
    "sns.distplot(sample_control.mean(axis=1), ax=axes[0], label='Control')\n",
    "sns.distplot(sample_variant.mean(axis=1), ax=axes[0], label='Variant')\n",
    "\n",
    "sns.distplot(sample_control_paid.mean(axis=1), ax=axes[1], label='Control')\n",
    "sns.distplot(sample_variant_paid.mean(axis=1), ax=axes[1], label='Variant')\n",
    "\n",
    "# set titles\n",
    "\n",
    "axes[0].set_title('Distribution of means by groups')\n",
    "axes[1].set_title('Distribution of means by groups without 0 values')\n",
    "\n",
    "plt.legend()\n",
    "\n",
    "axes[0].set_xlabel('Mean')\n",
    "axes[1].set_xlabel('Mean')\n",
    "\n",
    "# plot the confidence interval\n",
    "\n",
    "axes[0].axvline(lower_control, color='red', linestyle='--')\n",
    "axes[0].axvline(upper_control, color='red', linestyle='--')\n",
    "\n",
    "axes[1].axvline(lower_control_paid, color='red', linestyle='--')\n",
    "axes[1].axvline(upper_control_paid, color='red', linestyle='--')\n",
    "\n",
    "axes[0].axvline(lower_variant, color='green', linestyle='--')\n",
    "axes[0].axvline(upper_variant, color='green', linestyle='--')\n",
    "\n",
    "axes[1].axvline(lower_variant_paid, color='green', linestyle='--')\n",
    "axes[1].axvline(upper_variant_paid, color='green', linestyle='--')"
   ]
  },
  {
   "cell_type": "code",
   "execution_count": 148,
   "metadata": {
    "ExecuteTime": {
     "end_time": "2023-08-16T17:05:44.859013Z",
     "start_time": "2023-08-16T17:05:44.853577Z"
    }
   },
   "outputs": [
    {
     "name": "stdout",
     "output_type": "stream",
     "text": [
      "Confidence interval for the difference between the means: [-0.102, 0.017]\n",
      "Confidence interval for the difference between the means without 0 values: [-1.515, 1.494]\n"
     ]
    }
   ],
   "source": [
    "# get the confidence interval for the difference between the means\n",
    "\n",
    "diff = sample_variant.mean(axis=1) - sample_control.mean(axis=1)\n",
    "diff_paid = sample_variant_paid.mean(axis=1) - sample_control_paid.mean(axis=1)\n",
    "\n",
    "print('Confidence interval for the difference between the means: [{:.3f}, {:.3f}]'.format(*get_confidence_interval(\n",
    "    diff)))\n",
    "print('Confidence interval for the difference between the means without 0 values: [{:.3f}, {:.3f}]'.format(\n",
    "    *get_confidence_interval(diff_paid)))\n"
   ]
  },
  {
   "cell_type": "code",
   "execution_count": 149,
   "metadata": {
    "ExecuteTime": {
     "end_time": "2023-08-16T17:05:44.861852Z",
     "start_time": "2023-08-16T17:05:44.857436Z"
    }
   },
   "outputs": [],
   "source": [
    "# Conclusion: the difference between the means is not significant\n",
    "# the difference between the means without 0 values is significant\n",
    "# the variant group has higher revenue than the control group\n",
    "# the variant group has higher revenue than the control group without 0 values"
   ]
  },
  {
   "cell_type": "markdown",
   "metadata": {},
   "source": [
    "## T-test"
   ]
  },
  {
   "cell_type": "code",
   "execution_count": 157,
   "metadata": {
    "ExecuteTime": {
     "end_time": "2023-08-16T17:09:12.830563Z",
     "start_time": "2023-08-16T17:09:12.755429Z"
    }
   },
   "outputs": [],
   "source": [
    "# get the confidence interval for the difference between the means\n",
    "control_bootstrap_means = [sample.mean() for sample in sample_control]\n",
    "variant_bootstrap_means = [sample.mean() for sample in sample_variant]\n",
    "\n",
    "control_bootstrap_means_paid = [sample.mean() for sample in sample_control_paid]\n",
    "variant_bootstrap_means_paid = [sample.mean() for sample in sample_variant_paid]\n",
    "\n"
   ]
  },
  {
   "cell_type": "code",
   "execution_count": 159,
   "metadata": {
    "ExecuteTime": {
     "end_time": "2023-08-16T17:10:13.755225Z",
     "start_time": "2023-08-16T17:10:13.699838Z"
    }
   },
   "outputs": [
    {
     "name": "stdout",
     "output_type": "stream",
     "text": [
      "Statistics=0.994, p=0.001\n",
      "The data is not normally distributed\n"
     ]
    }
   ],
   "source": [
    "# check the normality of the data\n",
    "\n",
    "stat, p_value = shapiro(control_bootstrap_means)\n",
    "\n",
    "print('Statistics=%.3f, p=%.3f' % (stat, p_value))\n",
    "\n",
    "if p_value > 0.05:\n",
    "    print('The data is normally distributed')\n",
    "else:\n",
    "    print('The data is not normally distributed')"
   ]
  },
  {
   "cell_type": "code",
   "execution_count": 160,
   "metadata": {
    "ExecuteTime": {
     "end_time": "2023-08-16T17:10:27.340575Z",
     "start_time": "2023-08-16T17:10:27.278055Z"
    }
   },
   "outputs": [
    {
     "name": "stdout",
     "output_type": "stream",
     "text": [
      "Statistics=0.990, p=0.000\n",
      "The data is not normally distributed\n"
     ]
    }
   ],
   "source": [
    "stat, p_value = shapiro(variant_bootstrap_means)\n",
    "\n",
    "print('Statistics=%.3f, p=%.3f' % (stat, p_value))\n",
    "\n",
    "if p_value > 0.05:\n",
    "    print('The data is normally distributed')\n",
    "else:\n",
    "    print('The data is not normally distributed')"
   ]
  },
  {
   "cell_type": "code",
   "execution_count": 161,
   "metadata": {
    "ExecuteTime": {
     "end_time": "2023-08-16T17:10:44.758047Z",
     "start_time": "2023-08-16T17:10:44.700043Z"
    }
   },
   "outputs": [
    {
     "name": "stdout",
     "output_type": "stream",
     "text": [
      "Statistics=0.997, p=0.106\n",
      "The data is normally distributed\n",
      "Statistics=0.995, p=0.002\n",
      "The data is not normally distributed\n"
     ]
    }
   ],
   "source": [
    "stat, p_value = shapiro(control_bootstrap_means_paid)\n",
    "\n",
    "print('Statistics=%.3f, p=%.3f' % (stat, p_value))\n",
    "\n",
    "if p_value > 0.05:\n",
    "    print('The data is normally distributed')\n",
    "else:\n",
    "    print('The data is not normally distributed')\n",
    "\n",
    "stat, p_value = shapiro(variant_bootstrap_means_paid)\n",
    "\n",
    "print('Statistics=%.3f, p=%.3f' % (stat, p_value))\n",
    "\n",
    "if p_value > 0.05:\n",
    "    print('The data is normally distributed')\n",
    "else:\n",
    "    print('The data is not normally distributed')"
   ]
  },
  {
   "cell_type": "code",
   "execution_count": 162,
   "metadata": {
    "ExecuteTime": {
     "end_time": "2023-08-16T17:12:33.804668Z",
     "start_time": "2023-08-16T17:12:33.746631Z"
    }
   },
   "outputs": [],
   "source": [
    "# According to the Shapiro-Wilk test, the data is not normally distributed, so we can't use the t-test\n",
    "# we will directly calculate the t-statistic and p-value"
   ]
  },
  {
   "cell_type": "code",
   "execution_count": 163,
   "metadata": {
    "ExecuteTime": {
     "end_time": "2023-08-16T17:12:35.537768Z",
     "start_time": "2023-08-16T17:12:35.525483Z"
    }
   },
   "outputs": [],
   "source": [
    "# Calculate the pooled std\n",
    "\n",
    "pooled_std = np.sqrt((np.std(control_bootstrap_means) ** 2 + np.std(variant_bootstrap_means) ** 2) / 2)\n",
    "# pooled_std_1 = np.sqrt((np.var(control_bootstrap_means) + np.var(variant_bootstrap_means)) / 2)"
   ]
  },
  {
   "cell_type": "code",
   "execution_count": 164,
   "metadata": {
    "ExecuteTime": {
     "end_time": "2023-08-16T17:12:36.017560Z",
     "start_time": "2023-08-16T17:12:36.003674Z"
    }
   },
   "outputs": [
    {
     "data": {
      "text/plain": [
       "0.021229903038550102"
      ]
     },
     "execution_count": 164,
     "metadata": {},
     "output_type": "execute_result"
    }
   ],
   "source": [
    "pooled_std"
   ]
  },
  {
   "cell_type": "code",
   "execution_count": 169,
   "metadata": {
    "ExecuteTime": {
     "end_time": "2023-08-16T17:13:22.287352Z",
     "start_time": "2023-08-16T17:13:22.226312Z"
    }
   },
   "outputs": [
    {
     "name": "stdout",
     "output_type": "stream",
     "text": [
      "T-statistic: 1.906824866458311\n"
     ]
    }
   ],
   "source": [
    "# Calculate the t-statistic\n",
    "\n",
    "t_stat = (np.mean(control_bootstrap_means) - np.mean(variant_bootstrap_means)) / pooled_std\n",
    "\n",
    "print(f\"T-statistic: {t_stat}\")"
   ]
  },
  {
   "cell_type": "code",
   "execution_count": 170,
   "metadata": {
    "ExecuteTime": {
     "end_time": "2023-08-16T17:13:23.101182Z",
     "start_time": "2023-08-16T17:13:23.086402Z"
    }
   },
   "outputs": [
    {
     "name": "stdout",
     "output_type": "stream",
     "text": [
      "Statistics=1.907, p=0.057\n",
      "Probably the same distribution\n"
     ]
    }
   ],
   "source": [
    "# Calculate the p_value\n",
    "\n",
    "from scipy.stats import t\n",
    "\n",
    "p_value = (1 - t.cdf(t_stat, df=len(control_bootstrap_means) + len(variant_bootstrap_means) - 2)) * 2\n",
    "\n",
    "print('Statistics=%.3f, p=%.3f' % (t_stat, p_value))\n",
    "\n",
    "if p_value > 0.05:\n",
    "    print('Probably the same distribution')\n",
    "else:\n",
    "    print('Probably different distributions')"
   ]
  },
  {
   "cell_type": "code",
   "execution_count": 171,
   "metadata": {
    "ExecuteTime": {
     "end_time": "2023-08-16T17:13:37.376596Z",
     "start_time": "2023-08-16T17:13:37.310747Z"
    }
   },
   "outputs": [
    {
     "name": "stdout",
     "output_type": "stream",
     "text": [
      "Statistics=42.617, p=0.000\n",
      "Probably different distributions\n"
     ]
    }
   ],
   "source": [
    "# As for what we can get from a t-test, we can use the ttest_ind function from the scipy.stats library\n",
    "\n",
    "from scipy.stats import ttest_ind\n",
    "\n",
    "t_stat, p_value = ttest_ind(control_bootstrap_means, variant_bootstrap_means)\n",
    "\n",
    "print('Statistics=%.3f, p=%.3f' % (t_stat, p_value))\n",
    "\n",
    "if p_value > 0.05:\n",
    "    print('Probably the same distribution')\n",
    "else:\n",
    "    print('Probably different distributions')"
   ]
  },
  {
   "cell_type": "code",
   "execution_count": 172,
   "metadata": {
    "ExecuteTime": {
     "end_time": "2023-08-16T17:13:41.991112Z",
     "start_time": "2023-08-16T17:13:41.976147Z"
    }
   },
   "outputs": [
    {
     "name": "stdout",
     "output_type": "stream",
     "text": [
      "T-statistic: -1.906824866458311\n",
      "T-statistic: 42.61657594336042, P-value: 7.734354121886109e-283\n"
     ]
    }
   ],
   "source": [
    "# Calculate t-statistic\n",
    "mean_diff = np.mean(variant_bootstrap_means) - np.mean(control_bootstrap_means)\n",
    "t_stat = mean_diff / pooled_std\n",
    "\n",
    "print(f\"T-statistic: {t_stat}\")\n",
    "\n",
    "# Conduct t-test\n",
    "t_stat, p_value = ttest_ind(control_bootstrap_means, variant_bootstrap_means)\n",
    "\n",
    "print(f\"T-statistic: {t_stat}, P-value: {p_value}\")"
   ]
  },
  {
   "cell_type": "code",
   "execution_count": null,
   "metadata": {},
   "outputs": [],
   "source": []
  }
 ],
 "metadata": {
  "kernelspec": {
   "display_name": "Python 3",
   "language": "python",
   "name": "python3"
  },
  "language_info": {
   "codemirror_mode": {
    "name": "ipython",
    "version": 3
   },
   "file_extension": ".py",
   "mimetype": "text/x-python",
   "name": "python",
   "nbconvert_exporter": "python",
   "pygments_lexer": "ipython3",
   "version": "3.9.16"
  }
 },
 "nbformat": 4,
 "nbformat_minor": 1
}
