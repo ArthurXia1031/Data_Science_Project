{
 "metadata": {
  "kernelspec": {
   "language": "python",
   "display_name": "Python 3",
   "name": "python3"
  },
  "language_info": {
   "name": "python",
   "version": "3.7.12",
   "mimetype": "text/x-python",
   "codemirror_mode": {
    "name": "ipython",
    "version": 3
   },
   "pygments_lexer": "ipython3",
   "nbconvert_exporter": "python",
   "file_extension": ".py"
  }
 },
 "nbformat_minor": 4,
 "nbformat": 4,
 "cells": [
  {
   "cell_type": "markdown",
   "source": [
    "The AB test is a randomized experiment that is used by most large companies to evaluate the launch of new functionality. Various difficulties may arise in the analysis and conduct of the experiment. Several typical problematic cases from real life are given in this dataset and analysis."
   ],
   "metadata": {}
  },
  {
   "cell_type": "markdown",
   "source": [
    "### Content\n",
    "1. [Loading and processing data](#Loading)\n",
    "2. [Statistical Analysis](#Statistical)\n",
    "3. [Conclusions](#Conclusions)"
   ],
   "metadata": {}
  },
  {
   "cell_type": "markdown",
   "source": [
    "### Loading and processing data <a name=\"Loading\"/>"
   ],
   "metadata": {}
  },
  {
   "cell_type": "markdown",
   "source": [
    "Let's import the necessary libraries and load the data"
   ],
   "metadata": {}
  },
  {
   "cell_type": "code",
   "source": [
    "import numpy as np\n",
    "import pandas as pd\n",
    "from scipy.stats import mannwhitneyu\n",
    "from scipy.stats import ttest_ind\n",
    "from scipy.stats import norm\n",
    "import matplotlib.pyplot as plt\n",
    "import seaborn as sns\n",
    "from tqdm.auto import tqdm\n",
    "import seaborn as sns\n",
    "from scipy.stats import pearsonr\n",
    "from scipy.stats import shapiro"
   ],
   "metadata": {
    "execution": {
     "iopub.status.busy": "2022-09-16T18:23:22.571234Z",
     "iopub.execute_input": "2022-09-16T18:23:22.571662Z",
     "iopub.status.idle": "2022-09-16T18:23:22.579386Z",
     "shell.execute_reply.started": "2022-09-16T18:23:22.571624Z",
     "shell.execute_reply": "2022-09-16T18:23:22.577863Z"
    },
    "trusted": true,
    "ExecuteTime": {
     "end_time": "2023-08-16T16:17:17.445767Z",
     "start_time": "2023-08-16T16:17:17.218050Z"
    }
   },
   "execution_count": 337,
   "outputs": []
  },
  {
   "cell_type": "code",
   "source": [
    "path = 'AB_Test_Results.csv'\n",
    "df = pd.read_csv(path)"
   ],
   "metadata": {
    "execution": {
     "iopub.status.busy": "2022-09-16T18:23:22.582829Z",
     "iopub.execute_input": "2022-09-16T18:23:22.584216Z",
     "iopub.status.idle": "2022-09-16T18:23:22.604701Z",
     "shell.execute_reply.started": "2022-09-16T18:23:22.584166Z",
     "shell.execute_reply": "2022-09-16T18:23:22.603788Z"
    },
    "trusted": true,
    "ExecuteTime": {
     "end_time": "2023-08-16T16:17:17.590120Z",
     "start_time": "2023-08-16T16:17:17.221292Z"
    }
   },
   "execution_count": 338,
   "outputs": []
  },
  {
   "cell_type": "markdown",
   "source": [
    "Let's take a quick look at the data"
   ],
   "metadata": {}
  },
  {
   "cell_type": "code",
   "source": [
    "df.head()"
   ],
   "metadata": {
    "execution": {
     "iopub.status.busy": "2022-09-16T18:23:22.606556Z",
     "iopub.execute_input": "2022-09-16T18:23:22.607393Z",
     "iopub.status.idle": "2022-09-16T18:23:22.621022Z",
     "shell.execute_reply.started": "2022-09-16T18:23:22.607349Z",
     "shell.execute_reply": "2022-09-16T18:23:22.619749Z"
    },
    "trusted": true,
    "ExecuteTime": {
     "end_time": "2023-08-16T16:17:17.641480Z",
     "start_time": "2023-08-16T16:17:17.232663Z"
    }
   },
   "execution_count": 339,
   "outputs": [
    {
     "data": {
      "text/plain": "   USER_ID VARIANT_NAME  REVENUE\n0      737      variant      0.0\n1     2423      control      0.0\n2     9411      control      0.0\n3     7311      control      0.0\n4     6174      variant      0.0",
      "text/html": "<div>\n<style scoped>\n    .dataframe tbody tr th:only-of-type {\n        vertical-align: middle;\n    }\n\n    .dataframe tbody tr th {\n        vertical-align: top;\n    }\n\n    .dataframe thead th {\n        text-align: right;\n    }\n</style>\n<table border=\"1\" class=\"dataframe\">\n  <thead>\n    <tr style=\"text-align: right;\">\n      <th></th>\n      <th>USER_ID</th>\n      <th>VARIANT_NAME</th>\n      <th>REVENUE</th>\n    </tr>\n  </thead>\n  <tbody>\n    <tr>\n      <th>0</th>\n      <td>737</td>\n      <td>variant</td>\n      <td>0.0</td>\n    </tr>\n    <tr>\n      <th>1</th>\n      <td>2423</td>\n      <td>control</td>\n      <td>0.0</td>\n    </tr>\n    <tr>\n      <th>2</th>\n      <td>9411</td>\n      <td>control</td>\n      <td>0.0</td>\n    </tr>\n    <tr>\n      <th>3</th>\n      <td>7311</td>\n      <td>control</td>\n      <td>0.0</td>\n    </tr>\n    <tr>\n      <th>4</th>\n      <td>6174</td>\n      <td>variant</td>\n      <td>0.0</td>\n    </tr>\n  </tbody>\n</table>\n</div>"
     },
     "execution_count": 339,
     "metadata": {},
     "output_type": "execute_result"
    }
   ]
  },
  {
   "cell_type": "code",
   "source": [
    "df.nunique()"
   ],
   "metadata": {
    "execution": {
     "iopub.status.busy": "2022-09-16T18:23:22.623012Z",
     "iopub.execute_input": "2022-09-16T18:23:22.623869Z",
     "iopub.status.idle": "2022-09-16T18:23:22.635535Z",
     "shell.execute_reply.started": "2022-09-16T18:23:22.623826Z",
     "shell.execute_reply": "2022-09-16T18:23:22.634410Z"
    },
    "trusted": true,
    "ExecuteTime": {
     "end_time": "2023-08-16T16:17:17.686801Z",
     "start_time": "2023-08-16T16:17:17.236142Z"
    }
   },
   "execution_count": 340,
   "outputs": [
    {
     "data": {
      "text/plain": "USER_ID         6324\nVARIANT_NAME       2\nREVENUE          101\ndtype: int64"
     },
     "execution_count": 340,
     "metadata": {},
     "output_type": "execute_result"
    }
   ]
  },
  {
   "cell_type": "code",
   "source": [
    "df.describe()"
   ],
   "metadata": {
    "execution": {
     "iopub.status.busy": "2022-09-16T18:23:22.638234Z",
     "iopub.execute_input": "2022-09-16T18:23:22.638828Z",
     "iopub.status.idle": "2022-09-16T18:23:22.658198Z",
     "shell.execute_reply.started": "2022-09-16T18:23:22.638795Z",
     "shell.execute_reply": "2022-09-16T18:23:22.657356Z"
    },
    "trusted": true,
    "ExecuteTime": {
     "end_time": "2023-08-16T16:17:17.733055Z",
     "start_time": "2023-08-16T16:17:17.239908Z"
    }
   },
   "execution_count": 341,
   "outputs": [
    {
     "data": {
      "text/plain": "            USER_ID       REVENUE\ncount  10000.000000  10000.000000\nmean    4981.080200      0.099447\nstd     2890.590115      2.318529\nmin        2.000000      0.000000\n25%     2468.750000      0.000000\n50%     4962.000000      0.000000\n75%     7511.500000      0.000000\nmax    10000.000000    196.010000",
      "text/html": "<div>\n<style scoped>\n    .dataframe tbody tr th:only-of-type {\n        vertical-align: middle;\n    }\n\n    .dataframe tbody tr th {\n        vertical-align: top;\n    }\n\n    .dataframe thead th {\n        text-align: right;\n    }\n</style>\n<table border=\"1\" class=\"dataframe\">\n  <thead>\n    <tr style=\"text-align: right;\">\n      <th></th>\n      <th>USER_ID</th>\n      <th>REVENUE</th>\n    </tr>\n  </thead>\n  <tbody>\n    <tr>\n      <th>count</th>\n      <td>10000.000000</td>\n      <td>10000.000000</td>\n    </tr>\n    <tr>\n      <th>mean</th>\n      <td>4981.080200</td>\n      <td>0.099447</td>\n    </tr>\n    <tr>\n      <th>std</th>\n      <td>2890.590115</td>\n      <td>2.318529</td>\n    </tr>\n    <tr>\n      <th>min</th>\n      <td>2.000000</td>\n      <td>0.000000</td>\n    </tr>\n    <tr>\n      <th>25%</th>\n      <td>2468.750000</td>\n      <td>0.000000</td>\n    </tr>\n    <tr>\n      <th>50%</th>\n      <td>4962.000000</td>\n      <td>0.000000</td>\n    </tr>\n    <tr>\n      <th>75%</th>\n      <td>7511.500000</td>\n      <td>0.000000</td>\n    </tr>\n    <tr>\n      <th>max</th>\n      <td>10000.000000</td>\n      <td>196.010000</td>\n    </tr>\n  </tbody>\n</table>\n</div>"
     },
     "execution_count": 341,
     "metadata": {},
     "output_type": "execute_result"
    }
   ]
  },
  {
   "cell_type": "markdown",
   "source": [
    "Let's see if there are users who have two ab test groups"
   ],
   "metadata": {}
  },
  {
   "cell_type": "code",
   "source": [
    "# taking look at the distribution of the number of unique groups for each user\n",
    "double_variant_count = df.groupby('USER_ID')['VARIANT_NAME'].nunique().value_counts()\n",
    "double_variant_count"
   ],
   "metadata": {
    "execution": {
     "iopub.status.busy": "2022-09-16T18:23:22.659897Z",
     "iopub.execute_input": "2022-09-16T18:23:22.660468Z",
     "iopub.status.idle": "2022-09-16T18:23:22.673751Z",
     "shell.execute_reply.started": "2022-09-16T18:23:22.660438Z",
     "shell.execute_reply": "2022-09-16T18:23:22.672845Z"
    },
    "trusted": true,
    "ExecuteTime": {
     "end_time": "2023-08-16T16:17:17.761328Z",
     "start_time": "2023-08-16T16:17:17.247114Z"
    }
   },
   "execution_count": 342,
   "outputs": [
    {
     "data": {
      "text/plain": "1    4783\n2    1541\nName: VARIANT_NAME, dtype: int64"
     },
     "execution_count": 342,
     "metadata": {},
     "output_type": "execute_result"
    }
   ]
  },
  {
   "cell_type": "code",
   "source": [
    "# also look in relative terms\n",
    "double_variant_count / double_variant_count.sum()"
   ],
   "metadata": {
    "execution": {
     "iopub.status.busy": "2022-09-16T18:23:22.675099Z",
     "iopub.execute_input": "2022-09-16T18:23:22.675698Z",
     "iopub.status.idle": "2022-09-16T18:23:22.683077Z",
     "shell.execute_reply.started": "2022-09-16T18:23:22.675666Z",
     "shell.execute_reply": "2022-09-16T18:23:22.682019Z"
    },
    "trusted": true,
    "ExecuteTime": {
     "end_time": "2023-08-16T16:17:17.779768Z",
     "start_time": "2023-08-16T16:17:17.253576Z"
    }
   },
   "execution_count": 343,
   "outputs": [
    {
     "data": {
      "text/plain": "1    0.756325\n2    0.243675\nName: VARIANT_NAME, dtype: float64"
     },
     "execution_count": 343,
     "metadata": {},
     "output_type": "execute_result"
    }
   ]
  },
  {
   "cell_type": "markdown",
   "source": [
    "We see that there are such users and there are quite a lot of them - 24%. If you take these users into account, then the effect of changes in the experiment will be blurred. Therefore, we exclude user data from the calculation of changes in the experiment"
   ],
   "metadata": {}
  },
  {
   "cell_type": "code",
   "source": [
    "# first, let's see which users have 1 ab test group\n",
    "single_variant_users = (df.groupby('USER_ID')['VARIANT_NAME'].nunique() == 1)\n",
    "# and then take only these users\n",
    "single_variant_users = single_variant_users[single_variant_users]"
   ],
   "metadata": {
    "execution": {
     "iopub.status.busy": "2022-09-16T18:23:22.684621Z",
     "iopub.execute_input": "2022-09-16T18:23:22.685230Z",
     "iopub.status.idle": "2022-09-16T18:23:22.704635Z",
     "shell.execute_reply.started": "2022-09-16T18:23:22.685198Z",
     "shell.execute_reply": "2022-09-16T18:23:22.703440Z"
    },
    "trusted": true,
    "ExecuteTime": {
     "end_time": "2023-08-16T16:17:17.798560Z",
     "start_time": "2023-08-16T16:17:17.255764Z"
    }
   },
   "execution_count": 344,
   "outputs": []
  },
  {
   "cell_type": "code",
   "source": [
    "# leave only records with users with the 1st ab test group\n",
    "df = df[df['USER_ID'].isin(single_variant_users.index)]\n",
    "# just in case, check that the number of users matches what it was before the exception\n",
    "df.groupby('USER_ID')['VARIANT_NAME'].nunique().value_counts().iloc[0] == double_variant_count.iloc[0]"
   ],
   "metadata": {
    "execution": {
     "iopub.status.busy": "2022-09-16T18:23:22.706067Z",
     "iopub.execute_input": "2022-09-16T18:23:22.707214Z",
     "iopub.status.idle": "2022-09-16T18:23:22.721546Z",
     "shell.execute_reply.started": "2022-09-16T18:23:22.707180Z",
     "shell.execute_reply": "2022-09-16T18:23:22.720237Z"
    },
    "trusted": true,
    "ExecuteTime": {
     "end_time": "2023-08-16T16:17:17.798737Z",
     "start_time": "2023-08-16T16:17:17.261619Z"
    }
   },
   "execution_count": 345,
   "outputs": [
    {
     "data": {
      "text/plain": "True"
     },
     "execution_count": 345,
     "metadata": {},
     "output_type": "execute_result"
    }
   ]
  },
  {
   "cell_type": "markdown",
   "source": [
    "Let's see how the data is distributed"
   ],
   "metadata": {}
  },
  {
   "cell_type": "code",
   "source": [
    "sns.boxplot(x='VARIANT_NAME', y='REVENUE', data=df).figure.set_size_inches(12, 10)"
   ],
   "metadata": {
    "execution": {
     "iopub.status.busy": "2022-09-16T18:23:22.722862Z",
     "iopub.execute_input": "2022-09-16T18:23:22.723766Z",
     "iopub.status.idle": "2022-09-16T18:23:22.981190Z",
     "shell.execute_reply.started": "2022-09-16T18:23:22.723732Z",
     "shell.execute_reply": "2022-09-16T18:23:22.980008Z"
    },
    "trusted": true,
    "ExecuteTime": {
     "end_time": "2023-08-16T16:17:18.034553Z",
     "start_time": "2023-08-16T16:17:17.267814Z"
    }
   },
   "execution_count": 346,
   "outputs": [
    {
     "data": {
      "text/plain": "<Figure size 864x720 with 1 Axes>",
      "image/png": "[encoded data removed]"
     },
     "metadata": {},
     "output_type": "display_data"
    }
   ]
  },
  {
   "cell_type": "markdown",
   "source": [
    "It can be seen that there is a strong outlier in the data - we will find it by sorting these revenue values in descending order"
   ],
   "metadata": {}
  },
  {
   "cell_type": "code",
   "source": [
    "df.sort_values(by='REVENUE', ascending=False).iloc[:10]"
   ],
   "metadata": {
    "execution": {
     "iopub.status.busy": "2022-09-16T18:23:22.986753Z",
     "iopub.execute_input": "2022-09-16T18:23:22.987116Z",
     "iopub.status.idle": "2022-09-16T18:23:23.005356Z",
     "shell.execute_reply.started": "2022-09-16T18:23:22.987087Z",
     "shell.execute_reply": "2022-09-16T18:23:23.004381Z"
    },
    "trusted": true,
    "ExecuteTime": {
     "end_time": "2023-08-16T16:17:18.034815Z",
     "start_time": "2023-08-16T16:17:17.341276Z"
    }
   },
   "execution_count": 347,
   "outputs": [
    {
     "data": {
      "text/plain": "      USER_ID VARIANT_NAME  REVENUE\n1437     3342      control   196.01\n8168     2166      control    29.32\n2482     7356      variant    23.04\n6412     1053      control    20.07\n5217     3684      variant    19.47\n5530      282      control    18.56\n758      4445      control    17.05\n4031     2059      control    14.24\n9019     1973      control    14.07\n4561     4966      variant    12.99",
      "text/html": "<div>\n<style scoped>\n    .dataframe tbody tr th:only-of-type {\n        vertical-align: middle;\n    }\n\n    .dataframe tbody tr th {\n        vertical-align: top;\n    }\n\n    .dataframe thead th {\n        text-align: right;\n    }\n</style>\n<table border=\"1\" class=\"dataframe\">\n  <thead>\n    <tr style=\"text-align: right;\">\n      <th></th>\n      <th>USER_ID</th>\n      <th>VARIANT_NAME</th>\n      <th>REVENUE</th>\n    </tr>\n  </thead>\n  <tbody>\n    <tr>\n      <th>1437</th>\n      <td>3342</td>\n      <td>control</td>\n      <td>196.01</td>\n    </tr>\n    <tr>\n      <th>8168</th>\n      <td>2166</td>\n      <td>control</td>\n      <td>29.32</td>\n    </tr>\n    <tr>\n      <th>2482</th>\n      <td>7356</td>\n      <td>variant</td>\n      <td>23.04</td>\n    </tr>\n    <tr>\n      <th>6412</th>\n      <td>1053</td>\n      <td>control</td>\n      <td>20.07</td>\n    </tr>\n    <tr>\n      <th>5217</th>\n      <td>3684</td>\n      <td>variant</td>\n      <td>19.47</td>\n    </tr>\n    <tr>\n      <th>5530</th>\n      <td>282</td>\n      <td>control</td>\n      <td>18.56</td>\n    </tr>\n    <tr>\n      <th>758</th>\n      <td>4445</td>\n      <td>control</td>\n      <td>17.05</td>\n    </tr>\n    <tr>\n      <th>4031</th>\n      <td>2059</td>\n      <td>control</td>\n      <td>14.24</td>\n    </tr>\n    <tr>\n      <th>9019</th>\n      <td>1973</td>\n      <td>control</td>\n      <td>14.07</td>\n    </tr>\n    <tr>\n      <th>4561</th>\n      <td>4966</td>\n      <td>variant</td>\n      <td>12.99</td>\n    </tr>\n  </tbody>\n</table>\n</div>"
     },
     "execution_count": 347,
     "metadata": {},
     "output_type": "execute_result"
    }
   ]
  },
  {
   "cell_type": "markdown",
   "source": [
    "Let's see if user 3342 had other events with a strong outlier"
   ],
   "metadata": {}
  },
  {
   "cell_type": "code",
   "source": [
    "df[df['USER_ID'] == 3342]"
   ],
   "metadata": {
    "execution": {
     "iopub.status.busy": "2022-09-16T18:23:23.009204Z",
     "iopub.execute_input": "2022-09-16T18:23:23.009563Z",
     "iopub.status.idle": "2022-09-16T18:23:23.022364Z",
     "shell.execute_reply.started": "2022-09-16T18:23:23.009514Z",
     "shell.execute_reply": "2022-09-16T18:23:23.020814Z"
    },
    "trusted": true,
    "ExecuteTime": {
     "end_time": "2023-08-16T16:17:18.034914Z",
     "start_time": "2023-08-16T16:17:17.348552Z"
    }
   },
   "execution_count": 348,
   "outputs": [
    {
     "data": {
      "text/plain": "      USER_ID VARIANT_NAME  REVENUE\n1437     3342      control   196.01",
      "text/html": "<div>\n<style scoped>\n    .dataframe tbody tr th:only-of-type {\n        vertical-align: middle;\n    }\n\n    .dataframe tbody tr th {\n        vertical-align: top;\n    }\n\n    .dataframe thead th {\n        text-align: right;\n    }\n</style>\n<table border=\"1\" class=\"dataframe\">\n  <thead>\n    <tr style=\"text-align: right;\">\n      <th></th>\n      <th>USER_ID</th>\n      <th>VARIANT_NAME</th>\n      <th>REVENUE</th>\n    </tr>\n  </thead>\n  <tbody>\n    <tr>\n      <th>1437</th>\n      <td>3342</td>\n      <td>control</td>\n      <td>196.01</td>\n    </tr>\n  </tbody>\n</table>\n</div>"
     },
     "execution_count": 348,
     "metadata": {},
     "output_type": "execute_result"
    }
   ]
  },
  {
   "cell_type": "markdown",
   "source": [
    "We see that there is only one outlier - in conditions of limited information, we will remove this entry and look at the distribution of data again"
   ],
   "metadata": {}
  },
  {
   "cell_type": "code",
   "source": [
    "df = df[df['USER_ID'] != 3342]"
   ],
   "metadata": {
    "execution": {
     "iopub.status.busy": "2022-09-16T18:23:23.024282Z",
     "iopub.execute_input": "2022-09-16T18:23:23.024763Z",
     "iopub.status.idle": "2022-09-16T18:23:23.031917Z",
     "shell.execute_reply.started": "2022-09-16T18:23:23.024711Z",
     "shell.execute_reply": "2022-09-16T18:23:23.030566Z"
    },
    "trusted": true,
    "ExecuteTime": {
     "end_time": "2023-08-16T16:17:18.034946Z",
     "start_time": "2023-08-16T16:17:17.351588Z"
    }
   },
   "execution_count": 349,
   "outputs": []
  },
  {
   "cell_type": "code",
   "source": [
    "f, axes = plt.subplots(2, sharex=True, figsize=(5, 12))\n",
    "sns.boxplot(ax=axes[0], x='VARIANT_NAME', y='REVENUE', data=df)\n",
    "sns.boxplot(ax=axes[1], x='VARIANT_NAME', y='REVENUE', data=df[df['REVENUE'] > 0])\n",
    "plt.xticks(np.arange(2), ('control', 'variant'))"
   ],
   "metadata": {
    "execution": {
     "iopub.status.busy": "2022-09-16T18:23:23.033591Z",
     "iopub.execute_input": "2022-09-16T18:23:23.034025Z",
     "iopub.status.idle": "2022-09-16T18:23:23.393244Z",
     "shell.execute_reply.started": "2022-09-16T18:23:23.033981Z",
     "shell.execute_reply": "2022-09-16T18:23:23.392159Z"
    },
    "trusted": true,
    "ExecuteTime": {
     "end_time": "2023-08-16T16:17:18.057822Z",
     "start_time": "2023-08-16T16:17:17.366901Z"
    }
   },
   "execution_count": 350,
   "outputs": [
    {
     "data": {
      "text/plain": "([<matplotlib.axis.XTick at 0x298ac1820>,\n  <matplotlib.axis.XTick at 0x298ac1160>],\n [Text(0, 0, 'control'), Text(1, 0, 'variant')])"
     },
     "execution_count": 350,
     "metadata": {},
     "output_type": "execute_result"
    },
    {
     "data": {
      "text/plain": "<Figure size 360x864 with 2 Axes>",
      "image/png": "[encoded data removed]"
     },
     "metadata": {},
     "output_type": "display_data"
    }
   ]
  },
  {
   "cell_type": "markdown",
   "source": [
    "We see that most of the users have no purchases. Let's see what kind of empty purchases these are: either this is information on all users, regardless of their actions (even in the absence of visits and positive purchases), or these records are put down in case of entry without purchases and there may be other records with positive revenue."
   ],
   "metadata": {}
  },
  {
   "cell_type": "code",
   "source": [
    "# let's see if there are users who have records with zero and positive revenue\n",
    "(df.loc[\n",
    "    (df['REVENUE'] == 0) & (df['USER_ID'].isin(df.loc[df['REVENUE'] > 0, 'USER_ID'].values)),\n",
    "    'USER_ID'\n",
    "]).count()"
   ],
   "metadata": {
    "execution": {
     "iopub.status.busy": "2022-09-16T18:23:23.396475Z",
     "iopub.execute_input": "2022-09-16T18:23:23.397266Z",
     "iopub.status.idle": "2022-09-16T18:23:23.409100Z",
     "shell.execute_reply.started": "2022-09-16T18:23:23.397231Z",
     "shell.execute_reply": "2022-09-16T18:23:23.407843Z"
    },
    "trusted": true,
    "ExecuteTime": {
     "end_time": "2023-08-16T16:17:18.058014Z",
     "start_time": "2023-08-16T16:17:17.467114Z"
    }
   },
   "execution_count": 351,
   "outputs": [
    {
     "data": {
      "text/plain": "52"
     },
     "execution_count": 351,
     "metadata": {},
     "output_type": "execute_result"
    }
   ]
  },
  {
   "cell_type": "markdown",
   "source": [
    "The same user can indeed have records with both zero and positive revenue.\n",
    "\n",
    "Let's make the assumption that the records are user visits to the service, and the experimental unit is users. Then we group the data for each user and sum the revenue for each to get one record per user"
   ],
   "metadata": {}
  },
  {
   "cell_type": "code",
   "source": [
    "df = df.groupby(by=['USER_ID', 'VARIANT_NAME']).sum().reset_index()\n",
    "df"
   ],
   "metadata": {
    "execution": {
     "iopub.status.busy": "2022-09-16T18:23:23.410519Z",
     "iopub.execute_input": "2022-09-16T18:23:23.411317Z",
     "iopub.status.idle": "2022-09-16T18:23:23.425157Z",
     "shell.execute_reply.started": "2022-09-16T18:23:23.411275Z",
     "shell.execute_reply": "2022-09-16T18:23:23.423982Z"
    },
    "trusted": true,
    "ExecuteTime": {
     "end_time": "2023-08-16T16:17:18.058219Z",
     "start_time": "2023-08-16T16:17:17.471983Z"
    }
   },
   "execution_count": 352,
   "outputs": [
    {
     "data": {
      "text/plain": "      USER_ID VARIANT_NAME  REVENUE\n0           2      control      0.0\n1           4      variant      0.0\n2           5      variant      0.0\n3           6      variant      0.0\n4           9      variant      0.0\n...       ...          ...      ...\n4777     9990      variant      0.0\n4778     9992      control      0.0\n4779     9993      control      0.0\n4780     9995      variant      0.0\n4781     9998      control      0.0\n\n[4782 rows x 3 columns]",
      "text/html": "<div>\n<style scoped>\n    .dataframe tbody tr th:only-of-type {\n        vertical-align: middle;\n    }\n\n    .dataframe tbody tr th {\n        vertical-align: top;\n    }\n\n    .dataframe thead th {\n        text-align: right;\n    }\n</style>\n<table border=\"1\" class=\"dataframe\">\n  <thead>\n    <tr style=\"text-align: right;\">\n      <th></th>\n      <th>USER_ID</th>\n      <th>VARIANT_NAME</th>\n      <th>REVENUE</th>\n    </tr>\n  </thead>\n  <tbody>\n    <tr>\n      <th>0</th>\n      <td>2</td>\n      <td>control</td>\n      <td>0.0</td>\n    </tr>\n    <tr>\n      <th>1</th>\n      <td>4</td>\n      <td>variant</td>\n      <td>0.0</td>\n    </tr>\n    <tr>\n      <th>2</th>\n      <td>5</td>\n      <td>variant</td>\n      <td>0.0</td>\n    </tr>\n    <tr>\n      <th>3</th>\n      <td>6</td>\n      <td>variant</td>\n      <td>0.0</td>\n    </tr>\n    <tr>\n      <th>4</th>\n      <td>9</td>\n      <td>variant</td>\n      <td>0.0</td>\n    </tr>\n    <tr>\n      <th>...</th>\n      <td>...</td>\n      <td>...</td>\n      <td>...</td>\n    </tr>\n    <tr>\n      <th>4777</th>\n      <td>9990</td>\n      <td>variant</td>\n      <td>0.0</td>\n    </tr>\n    <tr>\n      <th>4778</th>\n      <td>9992</td>\n      <td>control</td>\n      <td>0.0</td>\n    </tr>\n    <tr>\n      <th>4779</th>\n      <td>9993</td>\n      <td>control</td>\n      <td>0.0</td>\n    </tr>\n    <tr>\n      <th>4780</th>\n      <td>9995</td>\n      <td>variant</td>\n      <td>0.0</td>\n    </tr>\n    <tr>\n      <th>4781</th>\n      <td>9998</td>\n      <td>control</td>\n      <td>0.0</td>\n    </tr>\n  </tbody>\n</table>\n<p>4782 rows × 3 columns</p>\n</div>"
     },
     "execution_count": 352,
     "metadata": {},
     "output_type": "execute_result"
    }
   ]
  },
  {
   "cell_type": "markdown",
   "source": [
    "Let's look at the resulting distributions"
   ],
   "metadata": {}
  },
  {
   "cell_type": "code",
   "source": [
    "f, axes = plt.subplots(2, sharex=True, figsize=(5, 12))\n",
    "sns.boxplot(ax=axes[0], x='VARIANT_NAME', y='REVENUE', data=df)\n",
    "sns.boxplot(ax=axes[1], x='VARIANT_NAME', y='REVENUE', data=df[df['REVENUE'] > 0])\n",
    "plt.xticks(np.arange(2), ('control', 'variant'))"
   ],
   "metadata": {
    "execution": {
     "iopub.status.busy": "2022-09-16T18:23:23.428689Z",
     "iopub.execute_input": "2022-09-16T18:23:23.428999Z",
     "iopub.status.idle": "2022-09-16T18:23:23.783807Z",
     "shell.execute_reply.started": "2022-09-16T18:23:23.428972Z",
     "shell.execute_reply": "2022-09-16T18:23:23.782679Z"
    },
    "trusted": true,
    "ExecuteTime": {
     "end_time": "2023-08-16T16:17:18.058410Z",
     "start_time": "2023-08-16T16:17:17.493263Z"
    }
   },
   "execution_count": 353,
   "outputs": [
    {
     "data": {
      "text/plain": "([<matplotlib.axis.XTick at 0x298aeee50>,\n  <matplotlib.axis.XTick at 0x298aeeee0>],\n [Text(0, 0, 'control'), Text(1, 0, 'variant')])"
     },
     "execution_count": 353,
     "metadata": {},
     "output_type": "execute_result"
    },
    {
     "data": {
      "text/plain": "<Figure size 360x864 with 2 Axes>",
      "image/png": "[encoded data removed]"
     },
     "metadata": {},
     "output_type": "display_data"
    }
   ]
  },
  {
   "cell_type": "markdown",
   "source": [
    "It should be noted that during the transformation, the quantiles in the test group increased\n",
    "\n",
    "It can be seen that in the test group, almost all quantile statistics, except for the minimum, are at a slightly lower level.\n",
    "\n",
    "Let's look at various statistics in the context of AB test groups for all users"
   ],
   "metadata": {}
  },
  {
   "cell_type": "code",
   "source": [
    "# get metrics by groups\n",
    "all_stat = df.groupby(by='VARIANT_NAME').agg({'USER_ID': 'nunique',\n",
    "                                              'REVENUE': ['sum', 'mean', 'median', 'count']})\n",
    "\n",
    "# create two additional metrics to see relative changes\n",
    "orders_per_user = all_stat.loc[:, ('REVENUE', 'count')] / all_stat.loc[:, ('USER_ID', 'nunique')]\n",
    "revenue_per_user = all_stat.loc[:, ('REVENUE', 'sum')] / all_stat.loc[:, ('USER_ID', 'nunique')]\n",
    "\n",
    "# add them to the rest of the metrics in a separate group\n",
    "all_stat.loc[:, ('per_user', 'orders')] = orders_per_user\n",
    "all_stat.loc[:, ('per_user', 'revenue')] = revenue_per_user\n",
    "\n",
    "all_stat"
   ],
   "metadata": {
    "execution": {
     "iopub.status.busy": "2022-09-16T18:23:23.785212Z",
     "iopub.execute_input": "2022-09-16T18:23:23.785940Z",
     "iopub.status.idle": "2022-09-16T18:23:23.813162Z",
     "shell.execute_reply.started": "2022-09-16T18:23:23.785905Z",
     "shell.execute_reply": "2022-09-16T18:23:23.812388Z"
    },
    "trusted": true,
    "ExecuteTime": {
     "end_time": "2023-08-16T16:17:18.060692Z",
     "start_time": "2023-08-16T16:17:17.587464Z"
    }
   },
   "execution_count": 354,
   "outputs": [
    {
     "data": {
      "text/plain": "             USER_ID REVENUE                        per_user          \n             nunique     sum      mean median count   orders   revenue\nVARIANT_NAME                                                          \ncontrol         2389  274.55  0.114923    0.0  2389      1.0  0.114923\nvariant         2393  179.32  0.074935    0.0  2393      1.0  0.074935",
      "text/html": "<div>\n<style scoped>\n    .dataframe tbody tr th:only-of-type {\n        vertical-align: middle;\n    }\n\n    .dataframe tbody tr th {\n        vertical-align: top;\n    }\n\n    .dataframe thead tr th {\n        text-align: left;\n    }\n\n    .dataframe thead tr:last-of-type th {\n        text-align: right;\n    }\n</style>\n<table border=\"1\" class=\"dataframe\">\n  <thead>\n    <tr>\n      <th></th>\n      <th>USER_ID</th>\n      <th colspan=\"4\" halign=\"left\">REVENUE</th>\n      <th colspan=\"2\" halign=\"left\">per_user</th>\n    </tr>\n    <tr>\n      <th></th>\n      <th>nunique</th>\n      <th>sum</th>\n      <th>mean</th>\n      <th>median</th>\n      <th>count</th>\n      <th>orders</th>\n      <th>revenue</th>\n    </tr>\n    <tr>\n      <th>VARIANT_NAME</th>\n      <th></th>\n      <th></th>\n      <th></th>\n      <th></th>\n      <th></th>\n      <th></th>\n      <th></th>\n    </tr>\n  </thead>\n  <tbody>\n    <tr>\n      <th>control</th>\n      <td>2389</td>\n      <td>274.55</td>\n      <td>0.114923</td>\n      <td>0.0</td>\n      <td>2389</td>\n      <td>1.0</td>\n      <td>0.114923</td>\n    </tr>\n    <tr>\n      <th>variant</th>\n      <td>2393</td>\n      <td>179.32</td>\n      <td>0.074935</td>\n      <td>0.0</td>\n      <td>2393</td>\n      <td>1.0</td>\n      <td>0.074935</td>\n    </tr>\n  </tbody>\n</table>\n</div>"
     },
     "execution_count": 354,
     "metadata": {},
     "output_type": "execute_result"
    }
   ]
  },
  {
   "cell_type": "markdown",
   "source": [
    "We see that in the test group, the total amount of revenue and the average check per user decreased, but the number of orders per user slightly increased.\n",
    "\n",
    "Let's also see how paying users behave"
   ],
   "metadata": {}
  },
  {
   "cell_type": "code",
   "source": [
    "# get metrics by groups\n",
    "paid_stat = df.loc[df.REVENUE != 0].groupby(by='VARIANT_NAME').agg({'USER_ID': 'nunique',\n",
    "                                                                    'REVENUE': ['sum', 'mean', 'median', 'count']})\n",
    "\n",
    "# add two additional metrics to see relative changes\n",
    "orders_per_user = paid_stat.loc[:, ('REVENUE', 'count')] / paid_stat.loc[:, ('USER_ID', 'nunique')]\n",
    "revenue_per_user = paid_stat.loc[:, ('REVENUE', 'sum')] / paid_stat.loc[:, ('USER_ID', 'nunique')]\n",
    "paid_stat.loc[:, ('per_user', 'orders')] = orders_per_user\n",
    "paid_stat.loc[:, ('per_user', 'revenue')] = revenue_per_user\n",
    "\n",
    "paid_stat"
   ],
   "metadata": {
    "execution": {
     "iopub.status.busy": "2022-09-16T18:23:23.814201Z",
     "iopub.execute_input": "2022-09-16T18:23:23.814781Z",
     "iopub.status.idle": "2022-09-16T18:23:23.842362Z",
     "shell.execute_reply.started": "2022-09-16T18:23:23.814749Z",
     "shell.execute_reply": "2022-09-16T18:23:23.841593Z"
    },
    "trusted": true,
    "ExecuteTime": {
     "end_time": "2023-08-16T16:17:18.061013Z",
     "start_time": "2023-08-16T16:17:17.604713Z"
    }
   },
   "execution_count": 355,
   "outputs": [
    {
     "data": {
      "text/plain": "             USER_ID REVENUE                        per_user          \n             nunique     sum      mean median count   orders   revenue\nVARIANT_NAME                                                          \ncontrol           53  274.55  5.180189   2.99    53      1.0  5.180189\nvariant           42  179.32  4.269524   2.97    42      1.0  4.269524",
      "text/html": "<div>\n<style scoped>\n    .dataframe tbody tr th:only-of-type {\n        vertical-align: middle;\n    }\n\n    .dataframe tbody tr th {\n        vertical-align: top;\n    }\n\n    .dataframe thead tr th {\n        text-align: left;\n    }\n\n    .dataframe thead tr:last-of-type th {\n        text-align: right;\n    }\n</style>\n<table border=\"1\" class=\"dataframe\">\n  <thead>\n    <tr>\n      <th></th>\n      <th>USER_ID</th>\n      <th colspan=\"4\" halign=\"left\">REVENUE</th>\n      <th colspan=\"2\" halign=\"left\">per_user</th>\n    </tr>\n    <tr>\n      <th></th>\n      <th>nunique</th>\n      <th>sum</th>\n      <th>mean</th>\n      <th>median</th>\n      <th>count</th>\n      <th>orders</th>\n      <th>revenue</th>\n    </tr>\n    <tr>\n      <th>VARIANT_NAME</th>\n      <th></th>\n      <th></th>\n      <th></th>\n      <th></th>\n      <th></th>\n      <th></th>\n      <th></th>\n    </tr>\n  </thead>\n  <tbody>\n    <tr>\n      <th>control</th>\n      <td>53</td>\n      <td>274.55</td>\n      <td>5.180189</td>\n      <td>2.99</td>\n      <td>53</td>\n      <td>1.0</td>\n      <td>5.180189</td>\n    </tr>\n    <tr>\n      <th>variant</th>\n      <td>42</td>\n      <td>179.32</td>\n      <td>4.269524</td>\n      <td>2.97</td>\n      <td>42</td>\n      <td>1.0</td>\n      <td>4.269524</td>\n    </tr>\n  </tbody>\n</table>\n</div>"
     },
     "execution_count": 355,
     "metadata": {},
     "output_type": "execute_result"
    }
   ]
  },
  {
   "cell_type": "markdown",
   "source": [
    "Let's look at the distributions of all and only paying users"
   ],
   "metadata": {}
  },
  {
   "cell_type": "code",
   "source": [
    "f, axes = plt.subplots(2, figsize=(10, 8))\n",
    "# build graphs of distributions of all users\n",
    "sns.distplot(df.loc[df['VARIANT_NAME'] == 'control', 'REVENUE'], ax=axes[0], label='control')\n",
    "sns.distplot(df.loc[df['VARIANT_NAME'] == 'variant', 'REVENUE'], ax=axes[0], label='variant')\n",
    "axes[0].set_title('Distribution of revenue of all users')\n",
    "\n",
    "# build graphs of distributions of paying users\n",
    "sns.distplot(df.loc[(df['VARIANT_NAME'] == 'control') & (df['REVENUE'] > 0), 'REVENUE'], ax=axes[1], label='control')\n",
    "sns.distplot(df.loc[(df['VARIANT_NAME'] == 'variant') & (df['REVENUE'] > 0), 'REVENUE'], ax=axes[1], label='variant')\n",
    "axes[1].set_title('Paying user revenue distribution')\n",
    "plt.legend()\n",
    "plt.subplots_adjust(hspace=0.3)"
   ],
   "metadata": {
    "execution": {
     "iopub.status.busy": "2022-09-16T18:23:23.843826Z",
     "iopub.execute_input": "2022-09-16T18:23:23.844477Z",
     "iopub.status.idle": "2022-09-16T18:23:24.587221Z",
     "shell.execute_reply.started": "2022-09-16T18:23:23.844435Z",
     "shell.execute_reply": "2022-09-16T18:23:24.585887Z"
    },
    "trusted": true,
    "ExecuteTime": {
     "end_time": "2023-08-16T16:17:18.280900Z",
     "start_time": "2023-08-16T16:17:17.617667Z"
    }
   },
   "execution_count": 356,
   "outputs": [
    {
     "name": "stderr",
     "output_type": "stream",
     "text": [
      "<ipython-input-356-cc609be2fdc7>:3: UserWarning: \n",
      "\n",
      "`distplot` is a deprecated function and will be removed in seaborn v0.14.0.\n",
      "\n",
      "Please adapt your code to use either `displot` (a figure-level function with\n",
      "similar flexibility) or `histplot` (an axes-level function for histograms).\n",
      "\n",
      "For a guide to updating your code to use the new functions, please see\n",
      "https://gist.github.com/mwaskom/de44147ed2974457ad6372750bbe5751\n",
      "\n",
      "  sns.distplot(df.loc[df['VARIANT_NAME'] == 'control', 'REVENUE'], ax=axes[0], label='control')\n",
      "<ipython-input-356-cc609be2fdc7>:4: UserWarning: \n",
      "\n",
      "`distplot` is a deprecated function and will be removed in seaborn v0.14.0.\n",
      "\n",
      "Please adapt your code to use either `displot` (a figure-level function with\n",
      "similar flexibility) or `histplot` (an axes-level function for histograms).\n",
      "\n",
      "For a guide to updating your code to use the new functions, please see\n",
      "https://gist.github.com/mwaskom/de44147ed2974457ad6372750bbe5751\n",
      "\n",
      "  sns.distplot(df.loc[df['VARIANT_NAME'] == 'variant', 'REVENUE'], ax=axes[0], label='variant')\n",
      "<ipython-input-356-cc609be2fdc7>:8: UserWarning: \n",
      "\n",
      "`distplot` is a deprecated function and will be removed in seaborn v0.14.0.\n",
      "\n",
      "Please adapt your code to use either `displot` (a figure-level function with\n",
      "similar flexibility) or `histplot` (an axes-level function for histograms).\n",
      "\n",
      "For a guide to updating your code to use the new functions, please see\n",
      "https://gist.github.com/mwaskom/de44147ed2974457ad6372750bbe5751\n",
      "\n",
      "  sns.distplot(df.loc[(df['VARIANT_NAME'] == 'control') & (df['REVENUE'] > 0), 'REVENUE'], ax=axes[1], label='control')\n",
      "<ipython-input-356-cc609be2fdc7>:9: UserWarning: \n",
      "\n",
      "`distplot` is a deprecated function and will be removed in seaborn v0.14.0.\n",
      "\n",
      "Please adapt your code to use either `displot` (a figure-level function with\n",
      "similar flexibility) or `histplot` (an axes-level function for histograms).\n",
      "\n",
      "For a guide to updating your code to use the new functions, please see\n",
      "https://gist.github.com/mwaskom/de44147ed2974457ad6372750bbe5751\n",
      "\n",
      "  sns.distplot(df.loc[(df['VARIANT_NAME'] == 'variant') & (df['REVENUE'] > 0), 'REVENUE'], ax=axes[1], label='variant')\n"
     ]
    },
    {
     "data": {
      "text/plain": "<Figure size 720x576 with 2 Axes>",
      "image/png": "[encoded data removed]"
     },
     "metadata": {},
     "output_type": "display_data"
    }
   ]
  },
  {
   "cell_type": "markdown",
   "source": [
    "### Statistical Analysis <a name=\"Statistical\"/>"
   ],
   "metadata": {}
  },
  {
   "cell_type": "markdown",
   "source": [
    "#### Checking if the distribution is normal"
   ],
   "metadata": {}
  },
  {
   "cell_type": "markdown",
   "source": [
    "Based on their previous graph, we see that the data is not normally distributed, but just in case, we can confirm this formally using the Shapiro-Wilk criterion"
   ],
   "metadata": {}
  },
  {
   "cell_type": "code",
   "source": [
    "shapiro(df.loc[df.VARIANT_NAME == 'variant', 'REVENUE'])"
   ],
   "metadata": {
    "execution": {
     "iopub.status.busy": "2022-09-16T18:23:24.588685Z",
     "iopub.execute_input": "2022-09-16T18:23:24.589024Z",
     "iopub.status.idle": "2022-09-16T18:23:24.597871Z",
     "shell.execute_reply.started": "2022-09-16T18:23:24.588995Z",
     "shell.execute_reply": "2022-09-16T18:23:24.596794Z"
    },
    "trusted": true,
    "ExecuteTime": {
     "end_time": "2023-08-16T16:17:18.281091Z",
     "start_time": "2023-08-16T16:17:17.915313Z"
    }
   },
   "execution_count": 357,
   "outputs": [
    {
     "data": {
      "text/plain": "ShapiroResult(statistic=0.06145977973937988, pvalue=0.0)"
     },
     "execution_count": 357,
     "metadata": {},
     "output_type": "execute_result"
    }
   ]
  },
  {
   "cell_type": "markdown",
   "source": [
    "The null hypothesis about the normal distribution of the data is rejected"
   ],
   "metadata": {}
  },
  {
   "cell_type": "markdown",
   "source": [
    "#### Mann-Whitney test"
   ],
   "metadata": {}
  },
  {
   "cell_type": "markdown",
   "source": [
    "Let's check the value of the statistics of the Mann-Whitney test. Some sources have a limitation of applicability in case of duplicate data. There are a lot of repetitions in our sample, and especially a lot of zero values, so in this case we need to be careful about this criterion."
   ],
   "metadata": {}
  },
  {
   "cell_type": "code",
   "source": [
    "(df['REVENUE'] == 0).value_counts()"
   ],
   "metadata": {
    "execution": {
     "iopub.status.busy": "2022-09-16T18:23:24.599408Z",
     "iopub.execute_input": "2022-09-16T18:23:24.600052Z",
     "iopub.status.idle": "2022-09-16T18:23:24.609697Z",
     "shell.execute_reply.started": "2022-09-16T18:23:24.600019Z",
     "shell.execute_reply": "2022-09-16T18:23:24.608442Z"
    },
    "trusted": true,
    "ExecuteTime": {
     "end_time": "2023-08-16T16:17:18.281170Z",
     "start_time": "2023-08-16T16:17:17.921093Z"
    }
   },
   "execution_count": 358,
   "outputs": [
    {
     "data": {
      "text/plain": "True     4687\nFalse      95\nName: REVENUE, dtype: int64"
     },
     "execution_count": 358,
     "metadata": {},
     "output_type": "execute_result"
    }
   ]
  },
  {
   "cell_type": "markdown",
   "source": [
    "Let's first check on the data of all users"
   ],
   "metadata": {}
  },
  {
   "cell_type": "code",
   "source": [
    "mannwhitneyu(df.loc[df.VARIANT_NAME == 'variant', 'REVENUE'], df.loc[df.VARIANT_NAME == 'control', 'REVENUE'])"
   ],
   "metadata": {
    "execution": {
     "iopub.status.busy": "2022-09-16T18:23:24.611079Z",
     "iopub.execute_input": "2022-09-16T18:23:24.611478Z",
     "iopub.status.idle": "2022-09-16T18:23:24.627499Z",
     "shell.execute_reply.started": "2022-09-16T18:23:24.611448Z",
     "shell.execute_reply": "2022-09-16T18:23:24.626266Z"
    },
    "trusted": true,
    "ExecuteTime": {
     "end_time": "2023-08-16T16:17:18.281242Z",
     "start_time": "2023-08-16T16:17:17.923749Z"
    }
   },
   "execution_count": 359,
   "outputs": [
    {
     "data": {
      "text/plain": "MannwhitneyuResult(statistic=2845109.0, pvalue=0.24799555106821947)"
     },
     "execution_count": 359,
     "metadata": {},
     "output_type": "execute_result"
    }
   ]
  },
  {
   "cell_type": "markdown",
   "source": [
    "And only those who pay"
   ],
   "metadata": {}
  },
  {
   "cell_type": "code",
   "source": [
    "mannwhitneyu(df.loc[(df.VARIANT_NAME == 'variant') & (df.REVENUE > 0), 'REVENUE'],\n",
    "             df.loc[(df.VARIANT_NAME == 'control') & (df.REVENUE > 0), 'REVENUE'])"
   ],
   "metadata": {
    "execution": {
     "iopub.status.busy": "2022-09-16T18:23:24.632144Z",
     "iopub.execute_input": "2022-09-16T18:23:24.632496Z",
     "iopub.status.idle": "2022-09-16T18:23:24.644752Z",
     "shell.execute_reply.started": "2022-09-16T18:23:24.632466Z",
     "shell.execute_reply": "2022-09-16T18:23:24.643569Z"
    },
    "trusted": true,
    "ExecuteTime": {
     "end_time": "2023-08-16T16:17:18.281305Z",
     "start_time": "2023-08-16T16:17:17.929902Z"
    }
   },
   "execution_count": 360,
   "outputs": [
    {
     "data": {
      "text/plain": "MannwhitneyuResult(statistic=1029.0, pvalue=0.5314192217084708)"
     },
     "execution_count": 360,
     "metadata": {},
     "output_type": "execute_result"
    }
   ]
  },
  {
   "cell_type": "markdown",
   "source": [
    "#### Bootstrap"
   ],
   "metadata": {
    "execution": {
     "iopub.status.busy": "2022-09-16T17:49:10.363800Z",
     "iopub.execute_input": "2022-09-16T17:49:10.365079Z",
     "iopub.status.idle": "2022-09-16T17:49:10.369587Z",
     "shell.execute_reply.started": "2022-09-16T17:49:10.365037Z",
     "shell.execute_reply": "2022-09-16T17:49:10.368719Z"
    }
   }
  },
  {
   "cell_type": "markdown",
   "source": [
    "In order to get more complete information about the differences between the average values of the ab test groups, we will use bootstap.\n",
    "\n",
    "Let's create a function to get back samples and get a confidence interval, and then look at the sample statistics"
   ],
   "metadata": {}
  },
  {
   "cell_type": "code",
   "source": [
    "def get_bootstrap_samples(data, n_samples=1000):\n",
    "    indices = np.random.randint(0, len(data), (n_samples, len(data)))\n",
    "    samples = data[indices]\n",
    "    return samples\n",
    "\n",
    "\n",
    "def stat_intervals(stat, alpha=0.05):\n",
    "    boundaries = np.percentile(stat, [100 * alpha / 2., 100 * (1 - alpha / 2.)])\n",
    "    return boundaries"
   ],
   "metadata": {
    "execution": {
     "iopub.status.busy": "2022-09-16T18:23:24.645844Z",
     "iopub.execute_input": "2022-09-16T18:23:24.646134Z",
     "iopub.status.idle": "2022-09-16T18:23:24.653955Z",
     "shell.execute_reply.started": "2022-09-16T18:23:24.646108Z",
     "shell.execute_reply": "2022-09-16T18:23:24.652612Z"
    },
    "trusted": true,
    "ExecuteTime": {
     "end_time": "2023-08-16T16:17:18.281335Z",
     "start_time": "2023-08-16T16:17:17.934286Z"
    }
   },
   "execution_count": 361,
   "outputs": []
  },
  {
   "cell_type": "markdown",
   "source": [
    "Let's generate samples for all users"
   ],
   "metadata": {}
  },
  {
   "cell_type": "code",
   "source": [
    "control = get_bootstrap_samples(df.loc[df.VARIANT_NAME == 'control', 'REVENUE'].values, 10000)\n",
    "variant = get_bootstrap_samples(df.loc[df.VARIANT_NAME == 'variant', 'REVENUE'].values, 10000)"
   ],
   "metadata": {
    "execution": {
     "iopub.status.busy": "2022-09-16T18:23:24.656318Z",
     "iopub.execute_input": "2022-09-16T18:23:24.656775Z",
     "iopub.status.idle": "2022-09-16T18:23:25.935543Z",
     "shell.execute_reply.started": "2022-09-16T18:23:24.656733Z",
     "shell.execute_reply": "2022-09-16T18:23:25.934505Z"
    },
    "trusted": true,
    "ExecuteTime": {
     "end_time": "2023-08-16T16:17:18.753172Z",
     "start_time": "2023-08-16T16:17:17.936689Z"
    }
   },
   "execution_count": 362,
   "outputs": []
  },
  {
   "cell_type": "markdown",
   "source": [
    "And only for the paying users"
   ],
   "metadata": {}
  },
  {
   "cell_type": "code",
   "source": [
    "control_paid = get_bootstrap_samples(df.loc[(df.VARIANT_NAME == 'control') & (df.REVENUE > 0), 'REVENUE'].values, 10000)\n",
    "variant_paid = get_bootstrap_samples(df.loc[(df.VARIANT_NAME == 'variant') & (df.REVENUE > 0), 'REVENUE'].values, 10000)"
   ],
   "metadata": {
    "execution": {
     "iopub.status.busy": "2022-09-16T18:23:25.936759Z",
     "iopub.execute_input": "2022-09-16T18:23:25.937087Z",
     "iopub.status.idle": "2022-09-16T18:23:25.964331Z",
     "shell.execute_reply.started": "2022-09-16T18:23:25.937057Z",
     "shell.execute_reply": "2022-09-16T18:23:25.963210Z"
    },
    "trusted": true,
    "ExecuteTime": {
     "end_time": "2023-08-16T16:17:18.782044Z",
     "start_time": "2023-08-16T16:17:18.613748Z"
    }
   },
   "execution_count": 363,
   "outputs": []
  },
  {
   "cell_type": "markdown",
   "source": [
    "Let's look at the distribution of means in the ab test groups"
   ],
   "metadata": {}
  },
  {
   "cell_type": "code",
   "source": [
    "f, ax = plt.subplots()\n",
    "# plt.figure(figsize=(20,5))\n",
    "sns.kdeplot(np.mean(control, axis=1), shade=True, label='control')\n",
    "sns.kdeplot(np.mean(variant, axis=1), shade=True, label='variant')\n",
    "plt.title('Sample mean distribution for all users')"
   ],
   "metadata": {
    "execution": {
     "iopub.status.busy": "2022-09-16T18:23:25.965453Z",
     "iopub.execute_input": "2022-09-16T18:23:25.965760Z",
     "iopub.status.idle": "2022-09-16T18:23:26.299852Z",
     "shell.execute_reply.started": "2022-09-16T18:23:25.965732Z",
     "shell.execute_reply": "2022-09-16T18:23:26.298725Z"
    },
    "trusted": true,
    "ExecuteTime": {
     "end_time": "2023-08-16T16:17:18.873125Z",
     "start_time": "2023-08-16T16:17:18.632213Z"
    }
   },
   "execution_count": 364,
   "outputs": [
    {
     "name": "stderr",
     "output_type": "stream",
     "text": [
      "<ipython-input-364-981be6013529>:3: FutureWarning: \n",
      "\n",
      "`shade` is now deprecated in favor of `fill`; setting `fill=True`.\n",
      "This will become an error in seaborn v0.14.0; please update your code.\n",
      "\n",
      "  sns.kdeplot(np.mean(control, axis=1), shade=True, label='control')\n",
      "<ipython-input-364-981be6013529>:4: FutureWarning: \n",
      "\n",
      "`shade` is now deprecated in favor of `fill`; setting `fill=True`.\n",
      "This will become an error in seaborn v0.14.0; please update your code.\n",
      "\n",
      "  sns.kdeplot(np.mean(variant, axis=1), shade=True, label='variant')\n"
     ]
    },
    {
     "data": {
      "text/plain": "Text(0.5, 1.0, 'Sample mean distribution for all users')"
     },
     "execution_count": 364,
     "metadata": {},
     "output_type": "execute_result"
    },
    {
     "data": {
      "text/plain": "<Figure size 432x288 with 1 Axes>",
      "image/png": "[encoded data removed]"
     },
     "metadata": {},
     "output_type": "display_data"
    }
   ]
  },
  {
   "cell_type": "code",
   "source": [
    "f, ax = plt.subplots()\n",
    "# plt.figure(figsize=(20,5))\n",
    "sns.kdeplot(np.mean(control_paid, axis=1), shade=True, label='control')\n",
    "sns.kdeplot(np.mean(variant_paid, axis=1), shade=True, label='variant')\n",
    "plt.title('Sample mean distribution for paying users')"
   ],
   "metadata": {
    "execution": {
     "iopub.status.busy": "2022-09-16T18:23:26.301272Z",
     "iopub.execute_input": "2022-09-16T18:23:26.301641Z",
     "iopub.status.idle": "2022-09-16T18:23:26.624830Z",
     "shell.execute_reply.started": "2022-09-16T18:23:26.301609Z",
     "shell.execute_reply": "2022-09-16T18:23:26.623431Z"
    },
    "trusted": true,
    "ExecuteTime": {
     "end_time": "2023-08-16T16:17:18.943968Z",
     "start_time": "2023-08-16T16:17:18.801254Z"
    }
   },
   "execution_count": 365,
   "outputs": [
    {
     "name": "stderr",
     "output_type": "stream",
     "text": [
      "<ipython-input-365-fefa5149434d>:3: FutureWarning: \n",
      "\n",
      "`shade` is now deprecated in favor of `fill`; setting `fill=True`.\n",
      "This will become an error in seaborn v0.14.0; please update your code.\n",
      "\n",
      "  sns.kdeplot(np.mean(control_paid, axis=1), shade=True, label='control')\n",
      "<ipython-input-365-fefa5149434d>:4: FutureWarning: \n",
      "\n",
      "`shade` is now deprecated in favor of `fill`; setting `fill=True`.\n",
      "This will become an error in seaborn v0.14.0; please update your code.\n",
      "\n",
      "  sns.kdeplot(np.mean(variant_paid, axis=1), shade=True, label='variant')\n"
     ]
    },
    {
     "data": {
      "text/plain": "Text(0.5, 1.0, 'Sample mean distribution for paying users')"
     },
     "execution_count": 365,
     "metadata": {},
     "output_type": "execute_result"
    },
    {
     "data": {
      "text/plain": "<Figure size 432x288 with 1 Axes>",
      "image/png": "[encoded data removed]"
     },
     "metadata": {},
     "output_type": "display_data"
    }
   ]
  },
  {
   "cell_type": "markdown",
   "source": [
    "We see that there are differences, but the confidence intervals may overlap, so you need to look at the distribution of the difference in the means between the groups in order to draw final conclusions.\n",
    "\n",
    "Let's evaluate the difference between the groups: look at the distribution of the mean difference and build confidence intervals for it. To do this, we will create a function for visualization"
   ],
   "metadata": {}
  },
  {
   "cell_type": "code",
   "source": [
    "def plot_distribution_and_stat_intervals(variant, control, title, alpha=0.05):\n",
    "    \"\"\" Plot the distribution of the mean difference and return the confidence intervals \"\"\"\n",
    "    f, ax = plt.subplots()\n",
    "    # get data for coloring confidence intervals\n",
    "    points = sns.kdeplot(variant - control, shade=True).get_lines()[0].get_data()\n",
    "    x = points[0]\n",
    "    y = points[1]\n",
    "    ymin, ymax = plt.ylim()\n",
    "    # highlight the zero value and the bounds of the confidence interval\n",
    "    plt.vlines(0, 0, ymax, label='0', color='gray')\n",
    "    plt.vlines(stat_intervals(variant - control, alpha)[0], 0, ymax, linestyles=\"dashed\")\n",
    "    plt.vlines(stat_intervals(variant - control, alpha)[1], 0, ymax, linestyles=\"dashed\")\n",
    "    # color the confidence interval and zones outside it\n",
    "    plt.fill_between(x, y,\n",
    "                     where=(x >= stat_intervals(variant - control, alpha)[1]),\n",
    "                     color='gainsboro')\n",
    "    plt.fill_between(x, y,\n",
    "                     where=(x <= stat_intervals(variant - control, alpha)[0]),\n",
    "                     color='gainsboro')\n",
    "    plt.fill_between(x, y,\n",
    "                     where=((x >= stat_intervals(variant - control, alpha)[0])\n",
    "                            & (x <= stat_intervals(variant - control, alpha)[1])),\n",
    "                     color='red',\n",
    "                     label='95% confidence interval')\n",
    "    plt.title(\n",
    "        f'Distribution of difference between means (variant - control) {title}; {100 * (1 - alpha)}% Confidence interval for difference of means: {stat_intervals(variant - control, alpha)}')\n",
    "    plt.legend(prop={'size': 13})\n",
    "    # return confidence interval data\n",
    "    return stat_intervals(variant - control)"
   ],
   "metadata": {
    "execution": {
     "iopub.status.busy": "2022-09-16T18:23:26.626430Z",
     "iopub.execute_input": "2022-09-16T18:23:26.628052Z",
     "iopub.status.idle": "2022-09-16T18:23:26.639469Z",
     "shell.execute_reply.started": "2022-09-16T18:23:26.628017Z",
     "shell.execute_reply": "2022-09-16T18:23:26.638694Z"
    },
    "trusted": true,
    "ExecuteTime": {
     "end_time": "2023-08-16T16:17:18.947484Z",
     "start_time": "2023-08-16T16:17:18.945379Z"
    }
   },
   "execution_count": 366,
   "outputs": []
  },
  {
   "cell_type": "markdown",
   "source": [
    "Let's build a graph of the distribution of the difference in the means and get a confidence interval\n",
    "\n",
    "For all users"
   ],
   "metadata": {}
  },
  {
   "cell_type": "code",
   "source": [
    "plot_distribution_and_stat_intervals(np.mean(variant, axis=1),\n",
    "                                     np.mean(control, axis=1),\n",
    "                                     title='all users')"
   ],
   "metadata": {
    "execution": {
     "iopub.status.busy": "2022-09-16T18:23:26.640692Z",
     "iopub.execute_input": "2022-09-16T18:23:26.641004Z",
     "iopub.status.idle": "2022-09-16T18:23:26.655336Z",
     "shell.execute_reply.started": "2022-09-16T18:23:26.640977Z",
     "shell.execute_reply": "2022-09-16T18:23:26.654163Z"
    },
    "trusted": true,
    "ExecuteTime": {
     "end_time": "2023-08-16T16:17:19.082385Z",
     "start_time": "2023-08-16T16:17:18.948107Z"
    }
   },
   "execution_count": 367,
   "outputs": [
    {
     "name": "stderr",
     "output_type": "stream",
     "text": [
      "<ipython-input-366-d6d0c7c158c6>:5: FutureWarning: \n",
      "\n",
      "`shade` is now deprecated in favor of `fill`; setting `fill=True`.\n",
      "This will become an error in seaborn v0.14.0; please update your code.\n",
      "\n",
      "  points = sns.kdeplot(variant - control, shade=True).get_lines()[0].get_data()\n"
     ]
    },
    {
     "ename": "IndexError",
     "evalue": "list index out of range",
     "output_type": "error",
     "traceback": [
      "\u001B[0;31m---------------------------------------------------------------------------\u001B[0m",
      "\u001B[0;31mIndexError\u001B[0m                                Traceback (most recent call last)",
      "Cell \u001B[0;32mIn[367], line 1\u001B[0m\n\u001B[0;32m----> 1\u001B[0m \u001B[43mplot_distribution_and_stat_intervals\u001B[49m\u001B[43m(\u001B[49m\u001B[43mnp\u001B[49m\u001B[38;5;241;43m.\u001B[39;49m\u001B[43mmean\u001B[49m\u001B[43m(\u001B[49m\u001B[43mvariant\u001B[49m\u001B[43m,\u001B[49m\u001B[43m \u001B[49m\u001B[43maxis\u001B[49m\u001B[38;5;241;43m=\u001B[39;49m\u001B[38;5;241;43m1\u001B[39;49m\u001B[43m)\u001B[49m\u001B[43m,\u001B[49m\n\u001B[1;32m      2\u001B[0m \u001B[43m                                     \u001B[49m\u001B[43mnp\u001B[49m\u001B[38;5;241;43m.\u001B[39;49m\u001B[43mmean\u001B[49m\u001B[43m(\u001B[49m\u001B[43mcontrol\u001B[49m\u001B[43m,\u001B[49m\u001B[43m \u001B[49m\u001B[43maxis\u001B[49m\u001B[38;5;241;43m=\u001B[39;49m\u001B[38;5;241;43m1\u001B[39;49m\u001B[43m)\u001B[49m\u001B[43m,\u001B[49m\n\u001B[1;32m      3\u001B[0m \u001B[43m                                     \u001B[49m\u001B[43mtitle\u001B[49m\u001B[38;5;241;43m=\u001B[39;49m\u001B[38;5;124;43m'\u001B[39;49m\u001B[38;5;124;43mall users\u001B[39;49m\u001B[38;5;124;43m'\u001B[39;49m\u001B[43m)\u001B[49m\n",
      "Cell \u001B[0;32mIn[366], line 5\u001B[0m, in \u001B[0;36mplot_distribution_and_stat_intervals\u001B[0;34m(variant, control, title, alpha)\u001B[0m\n\u001B[1;32m      3\u001B[0m f, ax \u001B[38;5;241m=\u001B[39m plt\u001B[38;5;241m.\u001B[39msubplots()\n\u001B[1;32m      4\u001B[0m \u001B[38;5;66;03m# get data for coloring confidence intervals\u001B[39;00m\n\u001B[0;32m----> 5\u001B[0m points \u001B[38;5;241m=\u001B[39m \u001B[43msns\u001B[49m\u001B[38;5;241;43m.\u001B[39;49m\u001B[43mkdeplot\u001B[49m\u001B[43m(\u001B[49m\u001B[43mvariant\u001B[49m\u001B[43m \u001B[49m\u001B[38;5;241;43m-\u001B[39;49m\u001B[43m \u001B[49m\u001B[43mcontrol\u001B[49m\u001B[43m,\u001B[49m\u001B[43m \u001B[49m\u001B[43mshade\u001B[49m\u001B[38;5;241;43m=\u001B[39;49m\u001B[38;5;28;43;01mTrue\u001B[39;49;00m\u001B[43m)\u001B[49m\u001B[38;5;241;43m.\u001B[39;49m\u001B[43mget_lines\u001B[49m\u001B[43m(\u001B[49m\u001B[43m)\u001B[49m\u001B[43m[\u001B[49m\u001B[38;5;241;43m0\u001B[39;49m\u001B[43m]\u001B[49m\u001B[38;5;241m.\u001B[39mget_data()\n\u001B[1;32m      6\u001B[0m x \u001B[38;5;241m=\u001B[39m points[\u001B[38;5;241m0\u001B[39m]\n\u001B[1;32m      7\u001B[0m y \u001B[38;5;241m=\u001B[39m points[\u001B[38;5;241m1\u001B[39m]\n",
      "\u001B[0;31mIndexError\u001B[0m: list index out of range"
     ]
    },
    {
     "data": {
      "text/plain": "<Figure size 432x288 with 1 Axes>",
      "image/png": "[encoded data removed]"
     },
     "metadata": {},
     "output_type": "display_data"
    }
   ]
  },
  {
   "cell_type": "code",
   "source": [
    "plot_distribution_and_stat_intervals(np.mean(variant_paid, axis=1),\n",
    "                                     np.mean(control_paid, axis=1),\n",
    "                                     title='paying users')"
   ],
   "metadata": {
    "execution": {
     "iopub.status.busy": "2022-09-16T18:23:26.656914Z",
     "iopub.execute_input": "2022-09-16T18:23:26.657231Z",
     "iopub.status.idle": "2022-09-16T18:23:26.666176Z",
     "shell.execute_reply.started": "2022-09-16T18:23:26.657190Z",
     "shell.execute_reply": "2022-09-16T18:23:26.664922Z"
    },
    "trusted": true,
    "ExecuteTime": {
     "end_time": "2023-08-16T16:17:53.907777Z",
     "start_time": "2023-08-16T16:17:53.765156Z"
    }
   },
   "execution_count": 368,
   "outputs": [
    {
     "name": "stderr",
     "output_type": "stream",
     "text": [
      "<ipython-input-366-d6d0c7c158c6>:5: FutureWarning: \n",
      "\n",
      "`shade` is now deprecated in favor of `fill`; setting `fill=True`.\n",
      "This will become an error in seaborn v0.14.0; please update your code.\n",
      "\n",
      "  points = sns.kdeplot(variant - control, shade=True).get_lines()[0].get_data()\n"
     ]
    },
    {
     "ename": "IndexError",
     "evalue": "list index out of range",
     "output_type": "error",
     "traceback": [
      "\u001B[0;31m---------------------------------------------------------------------------\u001B[0m",
      "\u001B[0;31mIndexError\u001B[0m                                Traceback (most recent call last)",
      "Cell \u001B[0;32mIn[368], line 1\u001B[0m\n\u001B[0;32m----> 1\u001B[0m \u001B[43mplot_distribution_and_stat_intervals\u001B[49m\u001B[43m(\u001B[49m\u001B[43mnp\u001B[49m\u001B[38;5;241;43m.\u001B[39;49m\u001B[43mmean\u001B[49m\u001B[43m(\u001B[49m\u001B[43mvariant_paid\u001B[49m\u001B[43m,\u001B[49m\u001B[43m \u001B[49m\u001B[43maxis\u001B[49m\u001B[38;5;241;43m=\u001B[39;49m\u001B[38;5;241;43m1\u001B[39;49m\u001B[43m)\u001B[49m\u001B[43m,\u001B[49m\n\u001B[1;32m      2\u001B[0m \u001B[43m                                     \u001B[49m\u001B[43mnp\u001B[49m\u001B[38;5;241;43m.\u001B[39;49m\u001B[43mmean\u001B[49m\u001B[43m(\u001B[49m\u001B[43mcontrol_paid\u001B[49m\u001B[43m,\u001B[49m\u001B[43m \u001B[49m\u001B[43maxis\u001B[49m\u001B[38;5;241;43m=\u001B[39;49m\u001B[38;5;241;43m1\u001B[39;49m\u001B[43m)\u001B[49m\u001B[43m,\u001B[49m\n\u001B[1;32m      3\u001B[0m \u001B[43m                                     \u001B[49m\u001B[43mtitle\u001B[49m\u001B[38;5;241;43m=\u001B[39;49m\u001B[38;5;124;43m'\u001B[39;49m\u001B[38;5;124;43mpaying users\u001B[39;49m\u001B[38;5;124;43m'\u001B[39;49m\u001B[43m)\u001B[49m\n",
      "Cell \u001B[0;32mIn[366], line 5\u001B[0m, in \u001B[0;36mplot_distribution_and_stat_intervals\u001B[0;34m(variant, control, title, alpha)\u001B[0m\n\u001B[1;32m      3\u001B[0m f, ax \u001B[38;5;241m=\u001B[39m plt\u001B[38;5;241m.\u001B[39msubplots()\n\u001B[1;32m      4\u001B[0m \u001B[38;5;66;03m# get data for coloring confidence intervals\u001B[39;00m\n\u001B[0;32m----> 5\u001B[0m points \u001B[38;5;241m=\u001B[39m \u001B[43msns\u001B[49m\u001B[38;5;241;43m.\u001B[39;49m\u001B[43mkdeplot\u001B[49m\u001B[43m(\u001B[49m\u001B[43mvariant\u001B[49m\u001B[43m \u001B[49m\u001B[38;5;241;43m-\u001B[39;49m\u001B[43m \u001B[49m\u001B[43mcontrol\u001B[49m\u001B[43m,\u001B[49m\u001B[43m \u001B[49m\u001B[43mshade\u001B[49m\u001B[38;5;241;43m=\u001B[39;49m\u001B[38;5;28;43;01mTrue\u001B[39;49;00m\u001B[43m)\u001B[49m\u001B[38;5;241;43m.\u001B[39;49m\u001B[43mget_lines\u001B[49m\u001B[43m(\u001B[49m\u001B[43m)\u001B[49m\u001B[43m[\u001B[49m\u001B[38;5;241;43m0\u001B[39;49m\u001B[43m]\u001B[49m\u001B[38;5;241m.\u001B[39mget_data()\n\u001B[1;32m      6\u001B[0m x \u001B[38;5;241m=\u001B[39m points[\u001B[38;5;241m0\u001B[39m]\n\u001B[1;32m      7\u001B[0m y \u001B[38;5;241m=\u001B[39m points[\u001B[38;5;241m1\u001B[39m]\n",
      "\u001B[0;31mIndexError\u001B[0m: list index out of range"
     ]
    },
    {
     "data": {
      "text/plain": "<Figure size 432x288 with 1 Axes>",
      "image/png": "[encoded data removed]"
     },
     "metadata": {},
     "output_type": "display_data"
    }
   ]
  },
  {
   "cell_type": "markdown",
   "source": [
    "We see that the zero value is within the confidence interval, so we cannot say about the stat. significant change in average revenue between ab test groups"
   ],
   "metadata": {}
  },
  {
   "cell_type": "markdown",
   "source": [
    "### Conclusions <a name=\"Conclusions\"/>\n",
    "In order to draw conclusions about changes between ab test groups, the following changes were first made to the data:\n",
    "\n",
    "Users with two ab test groups were excluded in order to make the effect of the changes more pronounced\n",
    "User_id=3342 was excluded, because in conditions of limited information it is a strong outlier in the received sample\n",
    "Users are taken as the experimental unit, and then the data is grouped by each user and revenue and summed over each to get one record per user\n",
    "Despite the fact that the revenue in the test group decreased significantly, there were no statistically significant changes between the ab test groups, both among all users and among only the paying audience. For a deeper analysis, the data of the A / A test and further study of the power of the criteria will be useful."
   ],
   "metadata": {
    "execution": {
     "iopub.status.busy": "2022-09-16T17:56:09.202013Z",
     "iopub.execute_input": "2022-09-16T17:56:09.202464Z",
     "iopub.status.idle": "2022-09-16T17:56:09.212301Z",
     "shell.execute_reply.started": "2022-09-16T17:56:09.202430Z",
     "shell.execute_reply": "2022-09-16T17:56:09.210678Z"
    }
   }
  },
  {
   "cell_type": "code",
   "execution_count": null,
   "outputs": [],
   "source": [],
   "metadata": {
    "collapsed": false,
    "ExecuteTime": {
     "start_time": "2023-08-16T16:17:19.084056Z"
    }
   }
  }
 ]
}
