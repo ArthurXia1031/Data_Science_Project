{
 "cells": [
  {
   "cell_type": "markdown",
   "metadata": {},
   "source": [
    "###\n",
    "# Instacart Shopper Experiment"
   ]
  },
  {
   "cell_type": "markdown",
   "metadata": {},
   "source": [
    "###\n",
    "### Context\n",
    "In this simulated dataset, we have been running an A/B test on our shopper hiring funnel to see if initiating the required applicant background check earlier in the process would improve conversion rates. The theory is that shoppers will maintain their momentum and be more likely to start (and start more quickly) if the required pre-requisites are completed faster.\n",
    "\n",
    "The background check costs us $30 to complete. A shopper must both activate the prepaid debit card we mail to them (to use when paying for groceries purchased for our customers) and have successfully passed their background check to complete their first batch of orders. Completing the online orientation, however, is optional.\n",
    "\n",
    "In this scenario, “success” for our shopper recruiting funnel is achieved if they complete their first batch (see “first_batch_completed_date”)"
   ]
  },
  {
   "cell_type": "markdown",
   "metadata": {},
   "source": [
    "# Data exploratory"
   ]
  },
  {
   "cell_type": "code",
   "execution_count": 438,
   "metadata": {
    "ExecuteTime": {
     "end_time": "2023-08-20T13:47:45.728199Z",
     "start_time": "2023-08-20T13:47:45.434513Z"
    }
   },
   "outputs": [],
   "source": [
    "# import package\n",
    "import pandas as pd\n",
    "import numpy as np\n",
    "import matplotlib.pyplot as plt\n",
    "import seaborn as sns\n",
    "from scipy import stats\n",
    "\n",
    "import warnings\n",
    "\n",
    "warnings.filterwarnings('ignore')"
   ]
  },
  {
   "cell_type": "code",
   "execution_count": 439,
   "metadata": {
    "ExecuteTime": {
     "end_time": "2023-08-20T13:47:46.456976Z",
     "start_time": "2023-08-20T13:47:45.444848Z"
    }
   },
   "outputs": [
    {
     "data": {
      "text/plain": "    applicant_id            channel      group       city             event  \\\n0          10001  web-search-engine    control     Asgard  application_date   \n1          10002       social-media    control    Midgard  application_date   \n2          10003  web-search-engine  treatment    Midgard  application_date   \n3          10004       social-media  treatment     Asgard  application_date   \n4          10005       social-media  treatment    Midgard  application_date   \n5          10006    job-search-site    control     Asgard  application_date   \n6          10007       social-media    control    Midgard  application_date   \n7          10008  web-search-engine    control     Asgard  application_date   \n8          10009       social-media    control    Helheim  application_date   \n9          10010    job-search-site    control     Asgard  application_date   \n10         10011       social-media  treatment    Midgard  application_date   \n11         10012    job-search-site    control    Midgard  application_date   \n12         10013  web-search-engine    control     Asgard  application_date   \n13         10014  web-search-engine    control     Asgard  application_date   \n14         10015       social-media    control     Asgard  application_date   \n15         10016  web-search-engine    control    Alfheim  application_date   \n16         10017  web-search-engine    control  Jotunheim  application_date   \n17         10018  web-search-engine    control    Midgard  application_date   \n18         10019  web-search-engine  treatment     Asgard  application_date   \n19         10020  web-search-engine    control    Midgard  application_date   \n\n    event_date  \n0   2018-10-01  \n1   2018-10-01  \n2   2018-10-01  \n3   2018-10-01  \n4   2018-10-01  \n5   2018-10-01  \n6   2018-10-01  \n7   2018-10-01  \n8   2018-10-01  \n9   2018-10-01  \n10  2018-10-01  \n11  2018-10-01  \n12  2018-10-01  \n13  2018-10-01  \n14  2018-10-01  \n15  2018-10-01  \n16  2018-10-01  \n17  2018-10-01  \n18  2018-10-01  \n19  2018-10-01  ",
      "text/html": "<div>\n<style scoped>\n    .dataframe tbody tr th:only-of-type {\n        vertical-align: middle;\n    }\n\n    .dataframe tbody tr th {\n        vertical-align: top;\n    }\n\n    .dataframe thead th {\n        text-align: right;\n    }\n</style>\n<table border=\"1\" class=\"dataframe\">\n  <thead>\n    <tr style=\"text-align: right;\">\n      <th></th>\n      <th>applicant_id</th>\n      <th>channel</th>\n      <th>group</th>\n      <th>city</th>\n      <th>event</th>\n      <th>event_date</th>\n    </tr>\n  </thead>\n  <tbody>\n    <tr>\n      <th>0</th>\n      <td>10001</td>\n      <td>web-search-engine</td>\n      <td>control</td>\n      <td>Asgard</td>\n      <td>application_date</td>\n      <td>2018-10-01</td>\n    </tr>\n    <tr>\n      <th>1</th>\n      <td>10002</td>\n      <td>social-media</td>\n      <td>control</td>\n      <td>Midgard</td>\n      <td>application_date</td>\n      <td>2018-10-01</td>\n    </tr>\n    <tr>\n      <th>2</th>\n      <td>10003</td>\n      <td>web-search-engine</td>\n      <td>treatment</td>\n      <td>Midgard</td>\n      <td>application_date</td>\n      <td>2018-10-01</td>\n    </tr>\n    <tr>\n      <th>3</th>\n      <td>10004</td>\n      <td>social-media</td>\n      <td>treatment</td>\n      <td>Asgard</td>\n      <td>application_date</td>\n      <td>2018-10-01</td>\n    </tr>\n    <tr>\n      <th>4</th>\n      <td>10005</td>\n      <td>social-media</td>\n      <td>treatment</td>\n      <td>Midgard</td>\n      <td>application_date</td>\n      <td>2018-10-01</td>\n    </tr>\n    <tr>\n      <th>5</th>\n      <td>10006</td>\n      <td>job-search-site</td>\n      <td>control</td>\n      <td>Asgard</td>\n      <td>application_date</td>\n      <td>2018-10-01</td>\n    </tr>\n    <tr>\n      <th>6</th>\n      <td>10007</td>\n      <td>social-media</td>\n      <td>control</td>\n      <td>Midgard</td>\n      <td>application_date</td>\n      <td>2018-10-01</td>\n    </tr>\n    <tr>\n      <th>7</th>\n      <td>10008</td>\n      <td>web-search-engine</td>\n      <td>control</td>\n      <td>Asgard</td>\n      <td>application_date</td>\n      <td>2018-10-01</td>\n    </tr>\n    <tr>\n      <th>8</th>\n      <td>10009</td>\n      <td>social-media</td>\n      <td>control</td>\n      <td>Helheim</td>\n      <td>application_date</td>\n      <td>2018-10-01</td>\n    </tr>\n    <tr>\n      <th>9</th>\n      <td>10010</td>\n      <td>job-search-site</td>\n      <td>control</td>\n      <td>Asgard</td>\n      <td>application_date</td>\n      <td>2018-10-01</td>\n    </tr>\n    <tr>\n      <th>10</th>\n      <td>10011</td>\n      <td>social-media</td>\n      <td>treatment</td>\n      <td>Midgard</td>\n      <td>application_date</td>\n      <td>2018-10-01</td>\n    </tr>\n    <tr>\n      <th>11</th>\n      <td>10012</td>\n      <td>job-search-site</td>\n      <td>control</td>\n      <td>Midgard</td>\n      <td>application_date</td>\n      <td>2018-10-01</td>\n    </tr>\n    <tr>\n      <th>12</th>\n      <td>10013</td>\n      <td>web-search-engine</td>\n      <td>control</td>\n      <td>Asgard</td>\n      <td>application_date</td>\n      <td>2018-10-01</td>\n    </tr>\n    <tr>\n      <th>13</th>\n      <td>10014</td>\n      <td>web-search-engine</td>\n      <td>control</td>\n      <td>Asgard</td>\n      <td>application_date</td>\n      <td>2018-10-01</td>\n    </tr>\n    <tr>\n      <th>14</th>\n      <td>10015</td>\n      <td>social-media</td>\n      <td>control</td>\n      <td>Asgard</td>\n      <td>application_date</td>\n      <td>2018-10-01</td>\n    </tr>\n    <tr>\n      <th>15</th>\n      <td>10016</td>\n      <td>web-search-engine</td>\n      <td>control</td>\n      <td>Alfheim</td>\n      <td>application_date</td>\n      <td>2018-10-01</td>\n    </tr>\n    <tr>\n      <th>16</th>\n      <td>10017</td>\n      <td>web-search-engine</td>\n      <td>control</td>\n      <td>Jotunheim</td>\n      <td>application_date</td>\n      <td>2018-10-01</td>\n    </tr>\n    <tr>\n      <th>17</th>\n      <td>10018</td>\n      <td>web-search-engine</td>\n      <td>control</td>\n      <td>Midgard</td>\n      <td>application_date</td>\n      <td>2018-10-01</td>\n    </tr>\n    <tr>\n      <th>18</th>\n      <td>10019</td>\n      <td>web-search-engine</td>\n      <td>treatment</td>\n      <td>Asgard</td>\n      <td>application_date</td>\n      <td>2018-10-01</td>\n    </tr>\n    <tr>\n      <th>19</th>\n      <td>10020</td>\n      <td>web-search-engine</td>\n      <td>control</td>\n      <td>Midgard</td>\n      <td>application_date</td>\n      <td>2018-10-01</td>\n    </tr>\n  </tbody>\n</table>\n</div>"
     },
     "execution_count": 439,
     "metadata": {},
     "output_type": "execute_result"
    }
   ],
   "source": [
    "# read file\n",
    "df = pd.read_csv('application.csv')\n",
    "\n",
    "# check dataset\n",
    "df.head(20)"
   ]
  },
  {
   "cell_type": "code",
   "execution_count": 440,
   "metadata": {
    "ExecuteTime": {
     "end_time": "2023-08-20T13:47:46.673781Z",
     "start_time": "2023-08-20T13:47:45.502542Z"
    }
   },
   "outputs": [
    {
     "name": "stdout",
     "output_type": "stream",
     "text": [
      "<class 'pandas.core.frame.DataFrame'>\n",
      "RangeIndex: 108328 entries, 0 to 108327\n",
      "Data columns (total 6 columns):\n",
      " #   Column        Non-Null Count   Dtype \n",
      "---  ------        --------------   ----- \n",
      " 0   applicant_id  108328 non-null  int64 \n",
      " 1   channel       108328 non-null  object\n",
      " 2   group         108328 non-null  object\n",
      " 3   city          108328 non-null  object\n",
      " 4   event         108328 non-null  object\n",
      " 5   event_date    108328 non-null  object\n",
      "dtypes: int64(1), object(5)\n",
      "memory usage: 5.0+ MB\n"
     ]
    }
   ],
   "source": [
    "# get dataset information\n",
    "df.info()"
   ]
  },
  {
   "cell_type": "code",
   "execution_count": 441,
   "metadata": {
    "ExecuteTime": {
     "end_time": "2023-08-20T13:47:46.673933Z",
     "start_time": "2023-08-20T13:47:45.542147Z"
    }
   },
   "outputs": [
    {
     "name": "stdout",
     "output_type": "stream",
     "text": [
      "<class 'pandas.core.frame.DataFrame'>\n",
      "RangeIndex: 108328 entries, 0 to 108327\n",
      "Data columns (total 6 columns):\n",
      " #   Column        Non-Null Count   Dtype         \n",
      "---  ------        --------------   -----         \n",
      " 0   applicant_id  108328 non-null  object        \n",
      " 1   channel       108328 non-null  object        \n",
      " 2   group         108328 non-null  object        \n",
      " 3   city          108328 non-null  object        \n",
      " 4   event         108328 non-null  object        \n",
      " 5   event_date    108328 non-null  datetime64[ns]\n",
      "dtypes: datetime64[ns](1), object(5)\n",
      "memory usage: 5.0+ MB\n"
     ]
    }
   ],
   "source": [
    "# change data type, to unify the data type\n",
    "df['applicant_id'] = df['applicant_id'].astype('object')\n",
    "df['event_date'] = df['event_date'].astype('datetime64')\n",
    "\n",
    "df.info()"
   ]
  },
  {
   "cell_type": "code",
   "execution_count": 442,
   "metadata": {
    "ExecuteTime": {
     "end_time": "2023-08-20T13:47:46.674206Z",
     "start_time": "2023-08-20T13:47:45.589583Z"
    }
   },
   "outputs": [
    {
     "data": {
      "text/plain": "       applicant_id                 channel      group       city  \\\n0             10001       web-search-engine    control     Asgard   \n1             10002            social-media    control    Midgard   \n2             10003       web-search-engine  treatment    Midgard   \n3             10004            social-media  treatment     Asgard   \n4             10005            social-media  treatment    Midgard   \n...             ...                     ...        ...        ...   \n108323        29128       web-search-engine  treatment     Asgard   \n108324        29161       web-search-engine  treatment   Vanaheim   \n108325        29167  shopper-referral-bonus  treatment  Jotunheim   \n108326        29170  shopper-referral-bonus  treatment    Alfheim   \n108327        29274  shopper-referral-bonus  treatment     Asgard   \n\n                             event event_date  \n0                 application_date 2018-10-01  \n1                 application_date 2018-10-01  \n2                 application_date 2018-10-01  \n3                 application_date 2018-10-01  \n4                 application_date 2018-10-01  \n...                            ...        ...  \n108323  first_batch_completed_date 2018-11-11  \n108324  first_batch_completed_date 2018-11-10  \n108325  first_batch_completed_date 2018-11-11  \n108326  first_batch_completed_date 2018-11-11  \n108327  first_batch_completed_date 2018-11-11  \n\n[108328 rows x 6 columns]",
      "text/html": "<div>\n<style scoped>\n    .dataframe tbody tr th:only-of-type {\n        vertical-align: middle;\n    }\n\n    .dataframe tbody tr th {\n        vertical-align: top;\n    }\n\n    .dataframe thead th {\n        text-align: right;\n    }\n</style>\n<table border=\"1\" class=\"dataframe\">\n  <thead>\n    <tr style=\"text-align: right;\">\n      <th></th>\n      <th>applicant_id</th>\n      <th>channel</th>\n      <th>group</th>\n      <th>city</th>\n      <th>event</th>\n      <th>event_date</th>\n    </tr>\n  </thead>\n  <tbody>\n    <tr>\n      <th>0</th>\n      <td>10001</td>\n      <td>web-search-engine</td>\n      <td>control</td>\n      <td>Asgard</td>\n      <td>application_date</td>\n      <td>2018-10-01</td>\n    </tr>\n    <tr>\n      <th>1</th>\n      <td>10002</td>\n      <td>social-media</td>\n      <td>control</td>\n      <td>Midgard</td>\n      <td>application_date</td>\n      <td>2018-10-01</td>\n    </tr>\n    <tr>\n      <th>2</th>\n      <td>10003</td>\n      <td>web-search-engine</td>\n      <td>treatment</td>\n      <td>Midgard</td>\n      <td>application_date</td>\n      <td>2018-10-01</td>\n    </tr>\n    <tr>\n      <th>3</th>\n      <td>10004</td>\n      <td>social-media</td>\n      <td>treatment</td>\n      <td>Asgard</td>\n      <td>application_date</td>\n      <td>2018-10-01</td>\n    </tr>\n    <tr>\n      <th>4</th>\n      <td>10005</td>\n      <td>social-media</td>\n      <td>treatment</td>\n      <td>Midgard</td>\n      <td>application_date</td>\n      <td>2018-10-01</td>\n    </tr>\n    <tr>\n      <th>...</th>\n      <td>...</td>\n      <td>...</td>\n      <td>...</td>\n      <td>...</td>\n      <td>...</td>\n      <td>...</td>\n    </tr>\n    <tr>\n      <th>108323</th>\n      <td>29128</td>\n      <td>web-search-engine</td>\n      <td>treatment</td>\n      <td>Asgard</td>\n      <td>first_batch_completed_date</td>\n      <td>2018-11-11</td>\n    </tr>\n    <tr>\n      <th>108324</th>\n      <td>29161</td>\n      <td>web-search-engine</td>\n      <td>treatment</td>\n      <td>Vanaheim</td>\n      <td>first_batch_completed_date</td>\n      <td>2018-11-10</td>\n    </tr>\n    <tr>\n      <th>108325</th>\n      <td>29167</td>\n      <td>shopper-referral-bonus</td>\n      <td>treatment</td>\n      <td>Jotunheim</td>\n      <td>first_batch_completed_date</td>\n      <td>2018-11-11</td>\n    </tr>\n    <tr>\n      <th>108326</th>\n      <td>29170</td>\n      <td>shopper-referral-bonus</td>\n      <td>treatment</td>\n      <td>Alfheim</td>\n      <td>first_batch_completed_date</td>\n      <td>2018-11-11</td>\n    </tr>\n    <tr>\n      <th>108327</th>\n      <td>29274</td>\n      <td>shopper-referral-bonus</td>\n      <td>treatment</td>\n      <td>Asgard</td>\n      <td>first_batch_completed_date</td>\n      <td>2018-11-11</td>\n    </tr>\n  </tbody>\n</table>\n<p>108328 rows × 6 columns</p>\n</div>"
     },
     "execution_count": 442,
     "metadata": {},
     "output_type": "execute_result"
    }
   ],
   "source": [
    "df"
   ]
  },
  {
   "cell_type": "code",
   "execution_count": 491,
   "metadata": {
    "ExecuteTime": {
     "end_time": "2023-08-20T13:48:55.070886Z",
     "start_time": "2023-08-20T13:48:55.035158Z"
    }
   },
   "outputs": [
    {
     "data": {
      "text/plain": "        applicant_id            channel    group     city             event  \\\ncount        81875.0              81875    81875    81875             81875   \nunique       14982.0                  4        2        9                 7   \ntop          19977.0  web-search-engine  control  Midgard  application_date   \nfreq             7.0              32507    52725    37630             14982   \nfirst            NaN                NaN      NaN      NaN               NaN   \nlast             NaN                NaN      NaN      NaN               NaN   \n\n                 event_date  \ncount                 81875  \nunique                   42  \ntop     2018-10-29 00:00:00  \nfreq                   3341  \nfirst   2018-10-01 00:00:00  \nlast    2018-11-11 00:00:00  ",
      "text/html": "<div>\n<style scoped>\n    .dataframe tbody tr th:only-of-type {\n        vertical-align: middle;\n    }\n\n    .dataframe tbody tr th {\n        vertical-align: top;\n    }\n\n    .dataframe thead th {\n        text-align: right;\n    }\n</style>\n<table border=\"1\" class=\"dataframe\">\n  <thead>\n    <tr style=\"text-align: right;\">\n      <th></th>\n      <th>applicant_id</th>\n      <th>channel</th>\n      <th>group</th>\n      <th>city</th>\n      <th>event</th>\n      <th>event_date</th>\n    </tr>\n  </thead>\n  <tbody>\n    <tr>\n      <th>count</th>\n      <td>81875.0</td>\n      <td>81875</td>\n      <td>81875</td>\n      <td>81875</td>\n      <td>81875</td>\n      <td>81875</td>\n    </tr>\n    <tr>\n      <th>unique</th>\n      <td>14982.0</td>\n      <td>4</td>\n      <td>2</td>\n      <td>9</td>\n      <td>7</td>\n      <td>42</td>\n    </tr>\n    <tr>\n      <th>top</th>\n      <td>19977.0</td>\n      <td>web-search-engine</td>\n      <td>control</td>\n      <td>Midgard</td>\n      <td>application_date</td>\n      <td>2018-10-29 00:00:00</td>\n    </tr>\n    <tr>\n      <th>freq</th>\n      <td>7.0</td>\n      <td>32507</td>\n      <td>52725</td>\n      <td>37630</td>\n      <td>14982</td>\n      <td>3341</td>\n    </tr>\n    <tr>\n      <th>first</th>\n      <td>NaN</td>\n      <td>NaN</td>\n      <td>NaN</td>\n      <td>NaN</td>\n      <td>NaN</td>\n      <td>2018-10-01 00:00:00</td>\n    </tr>\n    <tr>\n      <th>last</th>\n      <td>NaN</td>\n      <td>NaN</td>\n      <td>NaN</td>\n      <td>NaN</td>\n      <td>NaN</td>\n      <td>2018-11-11 00:00:00</td>\n    </tr>\n  </tbody>\n</table>\n</div>"
     },
     "execution_count": 491,
     "metadata": {},
     "output_type": "execute_result"
    }
   ],
   "source": [
    "# explore dataset\n",
    "df.describe()"
   ]
  },
  {
   "cell_type": "code",
   "execution_count": 444,
   "metadata": {
    "ExecuteTime": {
     "end_time": "2023-08-20T13:47:46.674636Z",
     "start_time": "2023-08-20T13:47:45.632775Z"
    }
   },
   "outputs": [
    {
     "data": {
      "text/plain": "           applicant_id\ngroup                  \ncontrol           14501\ntreatment          7197",
      "text/html": "<div>\n<style scoped>\n    .dataframe tbody tr th:only-of-type {\n        vertical-align: middle;\n    }\n\n    .dataframe tbody tr th {\n        vertical-align: top;\n    }\n\n    .dataframe thead th {\n        text-align: right;\n    }\n</style>\n<table border=\"1\" class=\"dataframe\">\n  <thead>\n    <tr style=\"text-align: right;\">\n      <th></th>\n      <th>applicant_id</th>\n    </tr>\n    <tr>\n      <th>group</th>\n      <th></th>\n    </tr>\n  </thead>\n  <tbody>\n    <tr>\n      <th>control</th>\n      <td>14501</td>\n    </tr>\n    <tr>\n      <th>treatment</th>\n      <td>7197</td>\n    </tr>\n  </tbody>\n</table>\n</div>"
     },
     "execution_count": 444,
     "metadata": {},
     "output_type": "execute_result"
    }
   ],
   "source": [
    "# check unique sample size\n",
    "\n",
    "# df.groupby('group').applicant_id.nunique()  # return series\n",
    "\n",
    "df.groupby('group').agg({'applicant_id': 'nunique'})  # return df\n",
    "\n",
    "# The sample size of treatment group is 7197, and the sample size of control group is 14501, which is not an abvious 50/50 split."
   ]
  },
  {
   "cell_type": "code",
   "execution_count": 445,
   "metadata": {
    "ExecuteTime": {
     "end_time": "2023-08-20T13:47:46.674755Z",
     "start_time": "2023-08-20T13:47:45.644816Z"
    }
   },
   "outputs": [
    {
     "data": {
      "text/plain": "           applicant_id\ngroup                  \ncontrol           68750\ntreatment         39578",
      "text/html": "<div>\n<style scoped>\n    .dataframe tbody tr th:only-of-type {\n        vertical-align: middle;\n    }\n\n    .dataframe tbody tr th {\n        vertical-align: top;\n    }\n\n    .dataframe thead th {\n        text-align: right;\n    }\n</style>\n<table border=\"1\" class=\"dataframe\">\n  <thead>\n    <tr style=\"text-align: right;\">\n      <th></th>\n      <th>applicant_id</th>\n    </tr>\n    <tr>\n      <th>group</th>\n      <th></th>\n    </tr>\n  </thead>\n  <tbody>\n    <tr>\n      <th>control</th>\n      <td>68750</td>\n    </tr>\n    <tr>\n      <th>treatment</th>\n      <td>39578</td>\n    </tr>\n  </tbody>\n</table>\n</div>"
     },
     "execution_count": 445,
     "metadata": {},
     "output_type": "execute_result"
    }
   ],
   "source": [
    "# check event size\n",
    "\n",
    "# df.groupby('group').applicant_id.count()\n",
    "df.groupby('group').agg({'applicant_id': 'count'})  # return df"
   ]
  },
  {
   "cell_type": "code",
   "execution_count": 446,
   "metadata": {
    "ExecuteTime": {
     "end_time": "2023-08-20T13:47:46.674896Z",
     "start_time": "2023-08-20T13:47:45.658235Z"
    }
   },
   "outputs": [
    {
     "data": {
      "text/plain": "                                         applicant_id\ngroup   event                                        \ncontrol application_date                        14501\n        card_mailed_date                        14266\n        background_check_initiated_date         10836\n        card_activation_date                    10836\n        background_check_completed_date          9456\n        orientation_completed_date               5982\n        first_batch_completed_date               2873",
      "text/html": "<div>\n<style scoped>\n    .dataframe tbody tr th:only-of-type {\n        vertical-align: middle;\n    }\n\n    .dataframe tbody tr th {\n        vertical-align: top;\n    }\n\n    .dataframe thead th {\n        text-align: right;\n    }\n</style>\n<table border=\"1\" class=\"dataframe\">\n  <thead>\n    <tr style=\"text-align: right;\">\n      <th></th>\n      <th></th>\n      <th>applicant_id</th>\n    </tr>\n    <tr>\n      <th>group</th>\n      <th>event</th>\n      <th></th>\n    </tr>\n  </thead>\n  <tbody>\n    <tr>\n      <th rowspan=\"7\" valign=\"top\">control</th>\n      <th>application_date</th>\n      <td>14501</td>\n    </tr>\n    <tr>\n      <th>card_mailed_date</th>\n      <td>14266</td>\n    </tr>\n    <tr>\n      <th>background_check_initiated_date</th>\n      <td>10836</td>\n    </tr>\n    <tr>\n      <th>card_activation_date</th>\n      <td>10836</td>\n    </tr>\n    <tr>\n      <th>background_check_completed_date</th>\n      <td>9456</td>\n    </tr>\n    <tr>\n      <th>orientation_completed_date</th>\n      <td>5982</td>\n    </tr>\n    <tr>\n      <th>first_batch_completed_date</th>\n      <td>2873</td>\n    </tr>\n  </tbody>\n</table>\n</div>"
     },
     "execution_count": 446,
     "metadata": {},
     "output_type": "execute_result"
    }
   ],
   "source": [
    "# check converstion funnel and its sequence by group\n",
    "\n",
    "df_control_converstion = df[df['group'] == 'control'].groupby(['group',\n",
    "                                                               'event']).applicant_id.nunique().sort_values(\n",
    "    ascending=False)\n",
    "\n",
    "df_control_converstion = df_control_converstion.to_frame()\n",
    "# change the pd.series to pd.dataframe\n",
    "\n",
    "df_control_converstion"
   ]
  },
  {
   "cell_type": "code",
   "execution_count": 447,
   "outputs": [
    {
     "data": {
      "text/plain": "                                           applicant_id\ngroup     event                                        \ntreatment application_date                         7197\n          background_check_initiated_date          7197\n          card_mailed_date                         7071\n          background_check_completed_date          6384\n          card_activation_date                     5889\n          orientation_completed_date               3369\n          first_batch_completed_date               2471",
      "text/html": "<div>\n<style scoped>\n    .dataframe tbody tr th:only-of-type {\n        vertical-align: middle;\n    }\n\n    .dataframe tbody tr th {\n        vertical-align: top;\n    }\n\n    .dataframe thead th {\n        text-align: right;\n    }\n</style>\n<table border=\"1\" class=\"dataframe\">\n  <thead>\n    <tr style=\"text-align: right;\">\n      <th></th>\n      <th></th>\n      <th>applicant_id</th>\n    </tr>\n    <tr>\n      <th>group</th>\n      <th>event</th>\n      <th></th>\n    </tr>\n  </thead>\n  <tbody>\n    <tr>\n      <th rowspan=\"7\" valign=\"top\">treatment</th>\n      <th>application_date</th>\n      <td>7197</td>\n    </tr>\n    <tr>\n      <th>background_check_initiated_date</th>\n      <td>7197</td>\n    </tr>\n    <tr>\n      <th>card_mailed_date</th>\n      <td>7071</td>\n    </tr>\n    <tr>\n      <th>background_check_completed_date</th>\n      <td>6384</td>\n    </tr>\n    <tr>\n      <th>card_activation_date</th>\n      <td>5889</td>\n    </tr>\n    <tr>\n      <th>orientation_completed_date</th>\n      <td>3369</td>\n    </tr>\n    <tr>\n      <th>first_batch_completed_date</th>\n      <td>2471</td>\n    </tr>\n  </tbody>\n</table>\n</div>"
     },
     "execution_count": 447,
     "metadata": {},
     "output_type": "execute_result"
    }
   ],
   "source": [
    "# check converstion funnel and its sequence by group\n",
    "\n",
    "df_treatment_converstion = df[df['group'] == 'treatment'].groupby(['group',\n",
    "                                                                   'event']).applicant_id.nunique().sort_values(\n",
    "    ascending=False)\n",
    "\n",
    "df_treatment_converstion = df_treatment_converstion.to_frame()\n",
    "# change the pd.series to pd.dataframe\n",
    "\n",
    "df_treatment_converstion"
   ],
   "metadata": {
    "collapsed": false,
    "ExecuteTime": {
     "end_time": "2023-08-20T13:47:46.675029Z",
     "start_time": "2023-08-20T13:47:45.683812Z"
    }
   }
  },
  {
   "cell_type": "markdown",
   "metadata": {},
   "source": [
    "### Plot the converstion funnel of both groups"
   ]
  },
  {
   "cell_type": "code",
   "execution_count": 448,
   "metadata": {
    "ExecuteTime": {
     "end_time": "2023-08-20T13:47:46.675236Z",
     "start_time": "2023-08-20T13:47:45.706964Z"
    }
   },
   "outputs": [
    {
     "data": {
      "application/vnd.plotly.v1+json": {
       "data": [
        {
         "name": "control",
         "textinfo": "value+percent initial",
         "x": [
          14501,
          14266,
          10836,
          10836,
          9456,
          5982,
          2873
         ],
         "y": [
          "application_date",
          "card_mailed_date",
          "background_check_initiated_date",
          "card_activation_date",
          "background_check_completed_date",
          "orientation_completed_date",
          "first_batch_completed_date"
         ],
         "type": "funnel"
        }
       ],
       "layout": {
        "template": {
         "data": {
          "histogram2dcontour": [
           {
            "type": "histogram2dcontour",
            "colorbar": {
             "outlinewidth": 0,
             "ticks": ""
            },
            "colorscale": [
             [
              0.0,
              "#0d0887"
             ],
             [
              0.1111111111111111,
              "#46039f"
             ],
             [
              0.2222222222222222,
              "#7201a8"
             ],
             [
              0.3333333333333333,
              "#9c179e"
             ],
             [
              0.4444444444444444,
              "#bd3786"
             ],
             [
              0.5555555555555556,
              "#d8576b"
             ],
             [
              0.6666666666666666,
              "#ed7953"
             ],
             [
              0.7777777777777778,
              "#fb9f3a"
             ],
             [
              0.8888888888888888,
              "#fdca26"
             ],
             [
              1.0,
              "#f0f921"
             ]
            ]
           }
          ],
          "choropleth": [
           {
            "type": "choropleth",
            "colorbar": {
             "outlinewidth": 0,
             "ticks": ""
            }
           }
          ],
          "histogram2d": [
           {
            "type": "histogram2d",
            "colorbar": {
             "outlinewidth": 0,
             "ticks": ""
            },
            "colorscale": [
             [
              0.0,
              "#0d0887"
             ],
             [
              0.1111111111111111,
              "#46039f"
             ],
             [
              0.2222222222222222,
              "#7201a8"
             ],
             [
              0.3333333333333333,
              "#9c179e"
             ],
             [
              0.4444444444444444,
              "#bd3786"
             ],
             [
              0.5555555555555556,
              "#d8576b"
             ],
             [
              0.6666666666666666,
              "#ed7953"
             ],
             [
              0.7777777777777778,
              "#fb9f3a"
             ],
             [
              0.8888888888888888,
              "#fdca26"
             ],
             [
              1.0,
              "#f0f921"
             ]
            ]
           }
          ],
          "heatmap": [
           {
            "type": "heatmap",
            "colorbar": {
             "outlinewidth": 0,
             "ticks": ""
            },
            "colorscale": [
             [
              0.0,
              "#0d0887"
             ],
             [
              0.1111111111111111,
              "#46039f"
             ],
             [
              0.2222222222222222,
              "#7201a8"
             ],
             [
              0.3333333333333333,
              "#9c179e"
             ],
             [
              0.4444444444444444,
              "#bd3786"
             ],
             [
              0.5555555555555556,
              "#d8576b"
             ],
             [
              0.6666666666666666,
              "#ed7953"
             ],
             [
              0.7777777777777778,
              "#fb9f3a"
             ],
             [
              0.8888888888888888,
              "#fdca26"
             ],
             [
              1.0,
              "#f0f921"
             ]
            ]
           }
          ],
          "heatmapgl": [
           {
            "type": "heatmapgl",
            "colorbar": {
             "outlinewidth": 0,
             "ticks": ""
            },
            "colorscale": [
             [
              0.0,
              "#0d0887"
             ],
             [
              0.1111111111111111,
              "#46039f"
             ],
             [
              0.2222222222222222,
              "#7201a8"
             ],
             [
              0.3333333333333333,
              "#9c179e"
             ],
             [
              0.4444444444444444,
              "#bd3786"
             ],
             [
              0.5555555555555556,
              "#d8576b"
             ],
             [
              0.6666666666666666,
              "#ed7953"
             ],
             [
              0.7777777777777778,
              "#fb9f3a"
             ],
             [
              0.8888888888888888,
              "#fdca26"
             ],
             [
              1.0,
              "#f0f921"
             ]
            ]
           }
          ],
          "contourcarpet": [
           {
            "type": "contourcarpet",
            "colorbar": {
             "outlinewidth": 0,
             "ticks": ""
            }
           }
          ],
          "contour": [
           {
            "type": "contour",
            "colorbar": {
             "outlinewidth": 0,
             "ticks": ""
            },
            "colorscale": [
             [
              0.0,
              "#0d0887"
             ],
             [
              0.1111111111111111,
              "#46039f"
             ],
             [
              0.2222222222222222,
              "#7201a8"
             ],
             [
              0.3333333333333333,
              "#9c179e"
             ],
             [
              0.4444444444444444,
              "#bd3786"
             ],
             [
              0.5555555555555556,
              "#d8576b"
             ],
             [
              0.6666666666666666,
              "#ed7953"
             ],
             [
              0.7777777777777778,
              "#fb9f3a"
             ],
             [
              0.8888888888888888,
              "#fdca26"
             ],
             [
              1.0,
              "#f0f921"
             ]
            ]
           }
          ],
          "surface": [
           {
            "type": "surface",
            "colorbar": {
             "outlinewidth": 0,
             "ticks": ""
            },
            "colorscale": [
             [
              0.0,
              "#0d0887"
             ],
             [
              0.1111111111111111,
              "#46039f"
             ],
             [
              0.2222222222222222,
              "#7201a8"
             ],
             [
              0.3333333333333333,
              "#9c179e"
             ],
             [
              0.4444444444444444,
              "#bd3786"
             ],
             [
              0.5555555555555556,
              "#d8576b"
             ],
             [
              0.6666666666666666,
              "#ed7953"
             ],
             [
              0.7777777777777778,
              "#fb9f3a"
             ],
             [
              0.8888888888888888,
              "#fdca26"
             ],
             [
              1.0,
              "#f0f921"
             ]
            ]
           }
          ],
          "mesh3d": [
           {
            "type": "mesh3d",
            "colorbar": {
             "outlinewidth": 0,
             "ticks": ""
            }
           }
          ],
          "scatter": [
           {
            "fillpattern": {
             "fillmode": "overlay",
             "size": 10,
             "solidity": 0.2
            },
            "type": "scatter"
           }
          ],
          "parcoords": [
           {
            "type": "parcoords",
            "line": {
             "colorbar": {
              "outlinewidth": 0,
              "ticks": ""
             }
            }
           }
          ],
          "scatterpolargl": [
           {
            "type": "scatterpolargl",
            "marker": {
             "colorbar": {
              "outlinewidth": 0,
              "ticks": ""
             }
            }
           }
          ],
          "bar": [
           {
            "error_x": {
             "color": "#2a3f5f"
            },
            "error_y": {
             "color": "#2a3f5f"
            },
            "marker": {
             "line": {
              "color": "#E5ECF6",
              "width": 0.5
             },
             "pattern": {
              "fillmode": "overlay",
              "size": 10,
              "solidity": 0.2
             }
            },
            "type": "bar"
           }
          ],
          "scattergeo": [
           {
            "type": "scattergeo",
            "marker": {
             "colorbar": {
              "outlinewidth": 0,
              "ticks": ""
             }
            }
           }
          ],
          "scatterpolar": [
           {
            "type": "scatterpolar",
            "marker": {
             "colorbar": {
              "outlinewidth": 0,
              "ticks": ""
             }
            }
           }
          ],
          "histogram": [
           {
            "marker": {
             "pattern": {
              "fillmode": "overlay",
              "size": 10,
              "solidity": 0.2
             }
            },
            "type": "histogram"
           }
          ],
          "scattergl": [
           {
            "type": "scattergl",
            "marker": {
             "colorbar": {
              "outlinewidth": 0,
              "ticks": ""
             }
            }
           }
          ],
          "scatter3d": [
           {
            "type": "scatter3d",
            "line": {
             "colorbar": {
              "outlinewidth": 0,
              "ticks": ""
             }
            },
            "marker": {
             "colorbar": {
              "outlinewidth": 0,
              "ticks": ""
             }
            }
           }
          ],
          "scattermapbox": [
           {
            "type": "scattermapbox",
            "marker": {
             "colorbar": {
              "outlinewidth": 0,
              "ticks": ""
             }
            }
           }
          ],
          "scatterternary": [
           {
            "type": "scatterternary",
            "marker": {
             "colorbar": {
              "outlinewidth": 0,
              "ticks": ""
             }
            }
           }
          ],
          "scattercarpet": [
           {
            "type": "scattercarpet",
            "marker": {
             "colorbar": {
              "outlinewidth": 0,
              "ticks": ""
             }
            }
           }
          ],
          "carpet": [
           {
            "aaxis": {
             "endlinecolor": "#2a3f5f",
             "gridcolor": "white",
             "linecolor": "white",
             "minorgridcolor": "white",
             "startlinecolor": "#2a3f5f"
            },
            "baxis": {
             "endlinecolor": "#2a3f5f",
             "gridcolor": "white",
             "linecolor": "white",
             "minorgridcolor": "white",
             "startlinecolor": "#2a3f5f"
            },
            "type": "carpet"
           }
          ],
          "table": [
           {
            "cells": {
             "fill": {
              "color": "#EBF0F8"
             },
             "line": {
              "color": "white"
             }
            },
            "header": {
             "fill": {
              "color": "#C8D4E3"
             },
             "line": {
              "color": "white"
             }
            },
            "type": "table"
           }
          ],
          "barpolar": [
           {
            "marker": {
             "line": {
              "color": "#E5ECF6",
              "width": 0.5
             },
             "pattern": {
              "fillmode": "overlay",
              "size": 10,
              "solidity": 0.2
             }
            },
            "type": "barpolar"
           }
          ],
          "pie": [
           {
            "automargin": true,
            "type": "pie"
           }
          ]
         },
         "layout": {
          "autotypenumbers": "strict",
          "colorway": [
           "#636efa",
           "#EF553B",
           "#00cc96",
           "#ab63fa",
           "#FFA15A",
           "#19d3f3",
           "#FF6692",
           "#B6E880",
           "#FF97FF",
           "#FECB52"
          ],
          "font": {
           "color": "#2a3f5f"
          },
          "hovermode": "closest",
          "hoverlabel": {
           "align": "left"
          },
          "paper_bgcolor": "white",
          "plot_bgcolor": "#E5ECF6",
          "polar": {
           "bgcolor": "#E5ECF6",
           "angularaxis": {
            "gridcolor": "white",
            "linecolor": "white",
            "ticks": ""
           },
           "radialaxis": {
            "gridcolor": "white",
            "linecolor": "white",
            "ticks": ""
           }
          },
          "ternary": {
           "bgcolor": "#E5ECF6",
           "aaxis": {
            "gridcolor": "white",
            "linecolor": "white",
            "ticks": ""
           },
           "baxis": {
            "gridcolor": "white",
            "linecolor": "white",
            "ticks": ""
           },
           "caxis": {
            "gridcolor": "white",
            "linecolor": "white",
            "ticks": ""
           }
          },
          "coloraxis": {
           "colorbar": {
            "outlinewidth": 0,
            "ticks": ""
           }
          },
          "colorscale": {
           "sequential": [
            [
             0.0,
             "#0d0887"
            ],
            [
             0.1111111111111111,
             "#46039f"
            ],
            [
             0.2222222222222222,
             "#7201a8"
            ],
            [
             0.3333333333333333,
             "#9c179e"
            ],
            [
             0.4444444444444444,
             "#bd3786"
            ],
            [
             0.5555555555555556,
             "#d8576b"
            ],
            [
             0.6666666666666666,
             "#ed7953"
            ],
            [
             0.7777777777777778,
             "#fb9f3a"
            ],
            [
             0.8888888888888888,
             "#fdca26"
            ],
            [
             1.0,
             "#f0f921"
            ]
           ],
           "sequentialminus": [
            [
             0.0,
             "#0d0887"
            ],
            [
             0.1111111111111111,
             "#46039f"
            ],
            [
             0.2222222222222222,
             "#7201a8"
            ],
            [
             0.3333333333333333,
             "#9c179e"
            ],
            [
             0.4444444444444444,
             "#bd3786"
            ],
            [
             0.5555555555555556,
             "#d8576b"
            ],
            [
             0.6666666666666666,
             "#ed7953"
            ],
            [
             0.7777777777777778,
             "#fb9f3a"
            ],
            [
             0.8888888888888888,
             "#fdca26"
            ],
            [
             1.0,
             "#f0f921"
            ]
           ],
           "diverging": [
            [
             0,
             "#8e0152"
            ],
            [
             0.1,
             "#c51b7d"
            ],
            [
             0.2,
             "#de77ae"
            ],
            [
             0.3,
             "#f1b6da"
            ],
            [
             0.4,
             "#fde0ef"
            ],
            [
             0.5,
             "#f7f7f7"
            ],
            [
             0.6,
             "#e6f5d0"
            ],
            [
             0.7,
             "#b8e186"
            ],
            [
             0.8,
             "#7fbc41"
            ],
            [
             0.9,
             "#4d9221"
            ],
            [
             1,
             "#276419"
            ]
           ]
          },
          "xaxis": {
           "gridcolor": "white",
           "linecolor": "white",
           "ticks": "",
           "title": {
            "standoff": 15
           },
           "zerolinecolor": "white",
           "automargin": true,
           "zerolinewidth": 2
          },
          "yaxis": {
           "gridcolor": "white",
           "linecolor": "white",
           "ticks": "",
           "title": {
            "standoff": 15
           },
           "zerolinecolor": "white",
           "automargin": true,
           "zerolinewidth": 2
          },
          "scene": {
           "xaxis": {
            "backgroundcolor": "#E5ECF6",
            "gridcolor": "white",
            "linecolor": "white",
            "showbackground": true,
            "ticks": "",
            "zerolinecolor": "white",
            "gridwidth": 2
           },
           "yaxis": {
            "backgroundcolor": "#E5ECF6",
            "gridcolor": "white",
            "linecolor": "white",
            "showbackground": true,
            "ticks": "",
            "zerolinecolor": "white",
            "gridwidth": 2
           },
           "zaxis": {
            "backgroundcolor": "#E5ECF6",
            "gridcolor": "white",
            "linecolor": "white",
            "showbackground": true,
            "ticks": "",
            "zerolinecolor": "white",
            "gridwidth": 2
           }
          },
          "shapedefaults": {
           "line": {
            "color": "#2a3f5f"
           }
          },
          "annotationdefaults": {
           "arrowcolor": "#2a3f5f",
           "arrowhead": 0,
           "arrowwidth": 1
          },
          "geo": {
           "bgcolor": "white",
           "landcolor": "#E5ECF6",
           "subunitcolor": "white",
           "showland": true,
           "showlakes": true,
           "lakecolor": "white"
          },
          "title": {
           "x": 0.05
          },
          "mapbox": {
           "style": "light"
          }
         }
        }
       },
       "config": {
        "plotlyServerURL": "https://plot.ly"
       }
      },
      "text/html": "<div>                            <div id=\"3dccad0e-65c7-4c0e-87a3-38115892c529\" class=\"plotly-graph-div\" style=\"height:525px; width:100%;\"></div>            <script type=\"text/javascript\">                require([\"plotly\"], function(Plotly) {                    window.PLOTLYENV=window.PLOTLYENV || {};                                    if (document.getElementById(\"3dccad0e-65c7-4c0e-87a3-38115892c529\")) {                    Plotly.newPlot(                        \"3dccad0e-65c7-4c0e-87a3-38115892c529\",                        [{\"name\":\"control\",\"textinfo\":\"value+percent initial\",\"x\":[14501,14266,10836,10836,9456,5982,2873],\"y\":[\"application_date\",\"card_mailed_date\",\"background_check_initiated_date\",\"card_activation_date\",\"background_check_completed_date\",\"orientation_completed_date\",\"first_batch_completed_date\"],\"type\":\"funnel\"}],                        {\"template\":{\"data\":{\"histogram2dcontour\":[{\"type\":\"histogram2dcontour\",\"colorbar\":{\"outlinewidth\":0,\"ticks\":\"\"},\"colorscale\":[[0.0,\"#0d0887\"],[0.1111111111111111,\"#46039f\"],[0.2222222222222222,\"#7201a8\"],[0.3333333333333333,\"#9c179e\"],[0.4444444444444444,\"#bd3786\"],[0.5555555555555556,\"#d8576b\"],[0.6666666666666666,\"#ed7953\"],[0.7777777777777778,\"#fb9f3a\"],[0.8888888888888888,\"#fdca26\"],[1.0,\"#f0f921\"]]}],\"choropleth\":[{\"type\":\"choropleth\",\"colorbar\":{\"outlinewidth\":0,\"ticks\":\"\"}}],\"histogram2d\":[{\"type\":\"histogram2d\",\"colorbar\":{\"outlinewidth\":0,\"ticks\":\"\"},\"colorscale\":[[0.0,\"#0d0887\"],[0.1111111111111111,\"#46039f\"],[0.2222222222222222,\"#7201a8\"],[0.3333333333333333,\"#9c179e\"],[0.4444444444444444,\"#bd3786\"],[0.5555555555555556,\"#d8576b\"],[0.6666666666666666,\"#ed7953\"],[0.7777777777777778,\"#fb9f3a\"],[0.8888888888888888,\"#fdca26\"],[1.0,\"#f0f921\"]]}],\"heatmap\":[{\"type\":\"heatmap\",\"colorbar\":{\"outlinewidth\":0,\"ticks\":\"\"},\"colorscale\":[[0.0,\"#0d0887\"],[0.1111111111111111,\"#46039f\"],[0.2222222222222222,\"#7201a8\"],[0.3333333333333333,\"#9c179e\"],[0.4444444444444444,\"#bd3786\"],[0.5555555555555556,\"#d8576b\"],[0.6666666666666666,\"#ed7953\"],[0.7777777777777778,\"#fb9f3a\"],[0.8888888888888888,\"#fdca26\"],[1.0,\"#f0f921\"]]}],\"heatmapgl\":[{\"type\":\"heatmapgl\",\"colorbar\":{\"outlinewidth\":0,\"ticks\":\"\"},\"colorscale\":[[0.0,\"#0d0887\"],[0.1111111111111111,\"#46039f\"],[0.2222222222222222,\"#7201a8\"],[0.3333333333333333,\"#9c179e\"],[0.4444444444444444,\"#bd3786\"],[0.5555555555555556,\"#d8576b\"],[0.6666666666666666,\"#ed7953\"],[0.7777777777777778,\"#fb9f3a\"],[0.8888888888888888,\"#fdca26\"],[1.0,\"#f0f921\"]]}],\"contourcarpet\":[{\"type\":\"contourcarpet\",\"colorbar\":{\"outlinewidth\":0,\"ticks\":\"\"}}],\"contour\":[{\"type\":\"contour\",\"colorbar\":{\"outlinewidth\":0,\"ticks\":\"\"},\"colorscale\":[[0.0,\"#0d0887\"],[0.1111111111111111,\"#46039f\"],[0.2222222222222222,\"#7201a8\"],[0.3333333333333333,\"#9c179e\"],[0.4444444444444444,\"#bd3786\"],[0.5555555555555556,\"#d8576b\"],[0.6666666666666666,\"#ed7953\"],[0.7777777777777778,\"#fb9f3a\"],[0.8888888888888888,\"#fdca26\"],[1.0,\"#f0f921\"]]}],\"surface\":[{\"type\":\"surface\",\"colorbar\":{\"outlinewidth\":0,\"ticks\":\"\"},\"colorscale\":[[0.0,\"#0d0887\"],[0.1111111111111111,\"#46039f\"],[0.2222222222222222,\"#7201a8\"],[0.3333333333333333,\"#9c179e\"],[0.4444444444444444,\"#bd3786\"],[0.5555555555555556,\"#d8576b\"],[0.6666666666666666,\"#ed7953\"],[0.7777777777777778,\"#fb9f3a\"],[0.8888888888888888,\"#fdca26\"],[1.0,\"#f0f921\"]]}],\"mesh3d\":[{\"type\":\"mesh3d\",\"colorbar\":{\"outlinewidth\":0,\"ticks\":\"\"}}],\"scatter\":[{\"fillpattern\":{\"fillmode\":\"overlay\",\"size\":10,\"solidity\":0.2},\"type\":\"scatter\"}],\"parcoords\":[{\"type\":\"parcoords\",\"line\":{\"colorbar\":{\"outlinewidth\":0,\"ticks\":\"\"}}}],\"scatterpolargl\":[{\"type\":\"scatterpolargl\",\"marker\":{\"colorbar\":{\"outlinewidth\":0,\"ticks\":\"\"}}}],\"bar\":[{\"error_x\":{\"color\":\"#2a3f5f\"},\"error_y\":{\"color\":\"#2a3f5f\"},\"marker\":{\"line\":{\"color\":\"#E5ECF6\",\"width\":0.5},\"pattern\":{\"fillmode\":\"overlay\",\"size\":10,\"solidity\":0.2}},\"type\":\"bar\"}],\"scattergeo\":[{\"type\":\"scattergeo\",\"marker\":{\"colorbar\":{\"outlinewidth\":0,\"ticks\":\"\"}}}],\"scatterpolar\":[{\"type\":\"scatterpolar\",\"marker\":{\"colorbar\":{\"outlinewidth\":0,\"ticks\":\"\"}}}],\"histogram\":[{\"marker\":{\"pattern\":{\"fillmode\":\"overlay\",\"size\":10,\"solidity\":0.2}},\"type\":\"histogram\"}],\"scattergl\":[{\"type\":\"scattergl\",\"marker\":{\"colorbar\":{\"outlinewidth\":0,\"ticks\":\"\"}}}],\"scatter3d\":[{\"type\":\"scatter3d\",\"line\":{\"colorbar\":{\"outlinewidth\":0,\"ticks\":\"\"}},\"marker\":{\"colorbar\":{\"outlinewidth\":0,\"ticks\":\"\"}}}],\"scattermapbox\":[{\"type\":\"scattermapbox\",\"marker\":{\"colorbar\":{\"outlinewidth\":0,\"ticks\":\"\"}}}],\"scatterternary\":[{\"type\":\"scatterternary\",\"marker\":{\"colorbar\":{\"outlinewidth\":0,\"ticks\":\"\"}}}],\"scattercarpet\":[{\"type\":\"scattercarpet\",\"marker\":{\"colorbar\":{\"outlinewidth\":0,\"ticks\":\"\"}}}],\"carpet\":[{\"aaxis\":{\"endlinecolor\":\"#2a3f5f\",\"gridcolor\":\"white\",\"linecolor\":\"white\",\"minorgridcolor\":\"white\",\"startlinecolor\":\"#2a3f5f\"},\"baxis\":{\"endlinecolor\":\"#2a3f5f\",\"gridcolor\":\"white\",\"linecolor\":\"white\",\"minorgridcolor\":\"white\",\"startlinecolor\":\"#2a3f5f\"},\"type\":\"carpet\"}],\"table\":[{\"cells\":{\"fill\":{\"color\":\"#EBF0F8\"},\"line\":{\"color\":\"white\"}},\"header\":{\"fill\":{\"color\":\"#C8D4E3\"},\"line\":{\"color\":\"white\"}},\"type\":\"table\"}],\"barpolar\":[{\"marker\":{\"line\":{\"color\":\"#E5ECF6\",\"width\":0.5},\"pattern\":{\"fillmode\":\"overlay\",\"size\":10,\"solidity\":0.2}},\"type\":\"barpolar\"}],\"pie\":[{\"automargin\":true,\"type\":\"pie\"}]},\"layout\":{\"autotypenumbers\":\"strict\",\"colorway\":[\"#636efa\",\"#EF553B\",\"#00cc96\",\"#ab63fa\",\"#FFA15A\",\"#19d3f3\",\"#FF6692\",\"#B6E880\",\"#FF97FF\",\"#FECB52\"],\"font\":{\"color\":\"#2a3f5f\"},\"hovermode\":\"closest\",\"hoverlabel\":{\"align\":\"left\"},\"paper_bgcolor\":\"white\",\"plot_bgcolor\":\"#E5ECF6\",\"polar\":{\"bgcolor\":\"#E5ECF6\",\"angularaxis\":{\"gridcolor\":\"white\",\"linecolor\":\"white\",\"ticks\":\"\"},\"radialaxis\":{\"gridcolor\":\"white\",\"linecolor\":\"white\",\"ticks\":\"\"}},\"ternary\":{\"bgcolor\":\"#E5ECF6\",\"aaxis\":{\"gridcolor\":\"white\",\"linecolor\":\"white\",\"ticks\":\"\"},\"baxis\":{\"gridcolor\":\"white\",\"linecolor\":\"white\",\"ticks\":\"\"},\"caxis\":{\"gridcolor\":\"white\",\"linecolor\":\"white\",\"ticks\":\"\"}},\"coloraxis\":{\"colorbar\":{\"outlinewidth\":0,\"ticks\":\"\"}},\"colorscale\":{\"sequential\":[[0.0,\"#0d0887\"],[0.1111111111111111,\"#46039f\"],[0.2222222222222222,\"#7201a8\"],[0.3333333333333333,\"#9c179e\"],[0.4444444444444444,\"#bd3786\"],[0.5555555555555556,\"#d8576b\"],[0.6666666666666666,\"#ed7953\"],[0.7777777777777778,\"#fb9f3a\"],[0.8888888888888888,\"#fdca26\"],[1.0,\"#f0f921\"]],\"sequentialminus\":[[0.0,\"#0d0887\"],[0.1111111111111111,\"#46039f\"],[0.2222222222222222,\"#7201a8\"],[0.3333333333333333,\"#9c179e\"],[0.4444444444444444,\"#bd3786\"],[0.5555555555555556,\"#d8576b\"],[0.6666666666666666,\"#ed7953\"],[0.7777777777777778,\"#fb9f3a\"],[0.8888888888888888,\"#fdca26\"],[1.0,\"#f0f921\"]],\"diverging\":[[0,\"#8e0152\"],[0.1,\"#c51b7d\"],[0.2,\"#de77ae\"],[0.3,\"#f1b6da\"],[0.4,\"#fde0ef\"],[0.5,\"#f7f7f7\"],[0.6,\"#e6f5d0\"],[0.7,\"#b8e186\"],[0.8,\"#7fbc41\"],[0.9,\"#4d9221\"],[1,\"#276419\"]]},\"xaxis\":{\"gridcolor\":\"white\",\"linecolor\":\"white\",\"ticks\":\"\",\"title\":{\"standoff\":15},\"zerolinecolor\":\"white\",\"automargin\":true,\"zerolinewidth\":2},\"yaxis\":{\"gridcolor\":\"white\",\"linecolor\":\"white\",\"ticks\":\"\",\"title\":{\"standoff\":15},\"zerolinecolor\":\"white\",\"automargin\":true,\"zerolinewidth\":2},\"scene\":{\"xaxis\":{\"backgroundcolor\":\"#E5ECF6\",\"gridcolor\":\"white\",\"linecolor\":\"white\",\"showbackground\":true,\"ticks\":\"\",\"zerolinecolor\":\"white\",\"gridwidth\":2},\"yaxis\":{\"backgroundcolor\":\"#E5ECF6\",\"gridcolor\":\"white\",\"linecolor\":\"white\",\"showbackground\":true,\"ticks\":\"\",\"zerolinecolor\":\"white\",\"gridwidth\":2},\"zaxis\":{\"backgroundcolor\":\"#E5ECF6\",\"gridcolor\":\"white\",\"linecolor\":\"white\",\"showbackground\":true,\"ticks\":\"\",\"zerolinecolor\":\"white\",\"gridwidth\":2}},\"shapedefaults\":{\"line\":{\"color\":\"#2a3f5f\"}},\"annotationdefaults\":{\"arrowcolor\":\"#2a3f5f\",\"arrowhead\":0,\"arrowwidth\":1},\"geo\":{\"bgcolor\":\"white\",\"landcolor\":\"#E5ECF6\",\"subunitcolor\":\"white\",\"showland\":true,\"showlakes\":true,\"lakecolor\":\"white\"},\"title\":{\"x\":0.05},\"mapbox\":{\"style\":\"light\"}}}},                        {\"responsive\": true}                    ).then(function(){\n                            \nvar gd = document.getElementById('3dccad0e-65c7-4c0e-87a3-38115892c529');\nvar x = new MutationObserver(function (mutations, observer) {{\n        var display = window.getComputedStyle(gd).display;\n        if (!display || display === 'none') {{\n            console.log([gd, 'removed!']);\n            Plotly.purge(gd);\n            observer.disconnect();\n        }}\n}});\n\n// Listen for the removal of the full notebook cells\nvar notebookContainer = gd.closest('#notebook-container');\nif (notebookContainer) {{\n    x.observe(notebookContainer, {childList: true});\n}}\n\n// Listen for the clearing of the current output cell\nvar outputEl = gd.closest('.output');\nif (outputEl) {{\n    x.observe(outputEl, {childList: true});\n}}\n\n                        })                };                });            </script>        </div>"
     },
     "metadata": {},
     "output_type": "display_data"
    }
   ],
   "source": [
    "from plotly import graph_objects as go\n",
    "\n",
    "fig = go.Figure(go.Funnel(\n",
    "    y=df_control_converstion.index.get_level_values(1),\n",
    "    x=df_control_converstion.applicant_id,\n",
    "    name='control',\n",
    "    textinfo=\"value+percent initial\"))\n",
    "\n",
    "fig.show()\n",
    "\n",
    "# The converstion funnel of control group is: application_date -> orientation_completed_date -> first_batch_completed_date\n",
    "\n",
    "# and the converstion rate is about 20%"
   ]
  },
  {
   "cell_type": "code",
   "execution_count": 449,
   "metadata": {
    "ExecuteTime": {
     "end_time": "2023-08-20T13:47:46.675417Z",
     "start_time": "2023-08-20T13:47:45.714686Z"
    }
   },
   "outputs": [
    {
     "data": {
      "application/vnd.plotly.v1+json": {
       "data": [
        {
         "marker": {
          "color": "rgb(165,0,38)"
         },
         "name": "treatment",
         "textinfo": "value+percent initial",
         "x": [
          7197,
          7197,
          7071,
          6384,
          5889,
          3369,
          2471
         ],
         "y": [
          "application_date",
          "background_check_initiated_date",
          "card_mailed_date",
          "background_check_completed_date",
          "card_activation_date",
          "orientation_completed_date",
          "first_batch_completed_date"
         ],
         "type": "funnel"
        }
       ],
       "layout": {
        "template": {
         "data": {
          "histogram2dcontour": [
           {
            "type": "histogram2dcontour",
            "colorbar": {
             "outlinewidth": 0,
             "ticks": ""
            },
            "colorscale": [
             [
              0.0,
              "#0d0887"
             ],
             [
              0.1111111111111111,
              "#46039f"
             ],
             [
              0.2222222222222222,
              "#7201a8"
             ],
             [
              0.3333333333333333,
              "#9c179e"
             ],
             [
              0.4444444444444444,
              "#bd3786"
             ],
             [
              0.5555555555555556,
              "#d8576b"
             ],
             [
              0.6666666666666666,
              "#ed7953"
             ],
             [
              0.7777777777777778,
              "#fb9f3a"
             ],
             [
              0.8888888888888888,
              "#fdca26"
             ],
             [
              1.0,
              "#f0f921"
             ]
            ]
           }
          ],
          "choropleth": [
           {
            "type": "choropleth",
            "colorbar": {
             "outlinewidth": 0,
             "ticks": ""
            }
           }
          ],
          "histogram2d": [
           {
            "type": "histogram2d",
            "colorbar": {
             "outlinewidth": 0,
             "ticks": ""
            },
            "colorscale": [
             [
              0.0,
              "#0d0887"
             ],
             [
              0.1111111111111111,
              "#46039f"
             ],
             [
              0.2222222222222222,
              "#7201a8"
             ],
             [
              0.3333333333333333,
              "#9c179e"
             ],
             [
              0.4444444444444444,
              "#bd3786"
             ],
             [
              0.5555555555555556,
              "#d8576b"
             ],
             [
              0.6666666666666666,
              "#ed7953"
             ],
             [
              0.7777777777777778,
              "#fb9f3a"
             ],
             [
              0.8888888888888888,
              "#fdca26"
             ],
             [
              1.0,
              "#f0f921"
             ]
            ]
           }
          ],
          "heatmap": [
           {
            "type": "heatmap",
            "colorbar": {
             "outlinewidth": 0,
             "ticks": ""
            },
            "colorscale": [
             [
              0.0,
              "#0d0887"
             ],
             [
              0.1111111111111111,
              "#46039f"
             ],
             [
              0.2222222222222222,
              "#7201a8"
             ],
             [
              0.3333333333333333,
              "#9c179e"
             ],
             [
              0.4444444444444444,
              "#bd3786"
             ],
             [
              0.5555555555555556,
              "#d8576b"
             ],
             [
              0.6666666666666666,
              "#ed7953"
             ],
             [
              0.7777777777777778,
              "#fb9f3a"
             ],
             [
              0.8888888888888888,
              "#fdca26"
             ],
             [
              1.0,
              "#f0f921"
             ]
            ]
           }
          ],
          "heatmapgl": [
           {
            "type": "heatmapgl",
            "colorbar": {
             "outlinewidth": 0,
             "ticks": ""
            },
            "colorscale": [
             [
              0.0,
              "#0d0887"
             ],
             [
              0.1111111111111111,
              "#46039f"
             ],
             [
              0.2222222222222222,
              "#7201a8"
             ],
             [
              0.3333333333333333,
              "#9c179e"
             ],
             [
              0.4444444444444444,
              "#bd3786"
             ],
             [
              0.5555555555555556,
              "#d8576b"
             ],
             [
              0.6666666666666666,
              "#ed7953"
             ],
             [
              0.7777777777777778,
              "#fb9f3a"
             ],
             [
              0.8888888888888888,
              "#fdca26"
             ],
             [
              1.0,
              "#f0f921"
             ]
            ]
           }
          ],
          "contourcarpet": [
           {
            "type": "contourcarpet",
            "colorbar": {
             "outlinewidth": 0,
             "ticks": ""
            }
           }
          ],
          "contour": [
           {
            "type": "contour",
            "colorbar": {
             "outlinewidth": 0,
             "ticks": ""
            },
            "colorscale": [
             [
              0.0,
              "#0d0887"
             ],
             [
              0.1111111111111111,
              "#46039f"
             ],
             [
              0.2222222222222222,
              "#7201a8"
             ],
             [
              0.3333333333333333,
              "#9c179e"
             ],
             [
              0.4444444444444444,
              "#bd3786"
             ],
             [
              0.5555555555555556,
              "#d8576b"
             ],
             [
              0.6666666666666666,
              "#ed7953"
             ],
             [
              0.7777777777777778,
              "#fb9f3a"
             ],
             [
              0.8888888888888888,
              "#fdca26"
             ],
             [
              1.0,
              "#f0f921"
             ]
            ]
           }
          ],
          "surface": [
           {
            "type": "surface",
            "colorbar": {
             "outlinewidth": 0,
             "ticks": ""
            },
            "colorscale": [
             [
              0.0,
              "#0d0887"
             ],
             [
              0.1111111111111111,
              "#46039f"
             ],
             [
              0.2222222222222222,
              "#7201a8"
             ],
             [
              0.3333333333333333,
              "#9c179e"
             ],
             [
              0.4444444444444444,
              "#bd3786"
             ],
             [
              0.5555555555555556,
              "#d8576b"
             ],
             [
              0.6666666666666666,
              "#ed7953"
             ],
             [
              0.7777777777777778,
              "#fb9f3a"
             ],
             [
              0.8888888888888888,
              "#fdca26"
             ],
             [
              1.0,
              "#f0f921"
             ]
            ]
           }
          ],
          "mesh3d": [
           {
            "type": "mesh3d",
            "colorbar": {
             "outlinewidth": 0,
             "ticks": ""
            }
           }
          ],
          "scatter": [
           {
            "fillpattern": {
             "fillmode": "overlay",
             "size": 10,
             "solidity": 0.2
            },
            "type": "scatter"
           }
          ],
          "parcoords": [
           {
            "type": "parcoords",
            "line": {
             "colorbar": {
              "outlinewidth": 0,
              "ticks": ""
             }
            }
           }
          ],
          "scatterpolargl": [
           {
            "type": "scatterpolargl",
            "marker": {
             "colorbar": {
              "outlinewidth": 0,
              "ticks": ""
             }
            }
           }
          ],
          "bar": [
           {
            "error_x": {
             "color": "#2a3f5f"
            },
            "error_y": {
             "color": "#2a3f5f"
            },
            "marker": {
             "line": {
              "color": "#E5ECF6",
              "width": 0.5
             },
             "pattern": {
              "fillmode": "overlay",
              "size": 10,
              "solidity": 0.2
             }
            },
            "type": "bar"
           }
          ],
          "scattergeo": [
           {
            "type": "scattergeo",
            "marker": {
             "colorbar": {
              "outlinewidth": 0,
              "ticks": ""
             }
            }
           }
          ],
          "scatterpolar": [
           {
            "type": "scatterpolar",
            "marker": {
             "colorbar": {
              "outlinewidth": 0,
              "ticks": ""
             }
            }
           }
          ],
          "histogram": [
           {
            "marker": {
             "pattern": {
              "fillmode": "overlay",
              "size": 10,
              "solidity": 0.2
             }
            },
            "type": "histogram"
           }
          ],
          "scattergl": [
           {
            "type": "scattergl",
            "marker": {
             "colorbar": {
              "outlinewidth": 0,
              "ticks": ""
             }
            }
           }
          ],
          "scatter3d": [
           {
            "type": "scatter3d",
            "line": {
             "colorbar": {
              "outlinewidth": 0,
              "ticks": ""
             }
            },
            "marker": {
             "colorbar": {
              "outlinewidth": 0,
              "ticks": ""
             }
            }
           }
          ],
          "scattermapbox": [
           {
            "type": "scattermapbox",
            "marker": {
             "colorbar": {
              "outlinewidth": 0,
              "ticks": ""
             }
            }
           }
          ],
          "scatterternary": [
           {
            "type": "scatterternary",
            "marker": {
             "colorbar": {
              "outlinewidth": 0,
              "ticks": ""
             }
            }
           }
          ],
          "scattercarpet": [
           {
            "type": "scattercarpet",
            "marker": {
             "colorbar": {
              "outlinewidth": 0,
              "ticks": ""
             }
            }
           }
          ],
          "carpet": [
           {
            "aaxis": {
             "endlinecolor": "#2a3f5f",
             "gridcolor": "white",
             "linecolor": "white",
             "minorgridcolor": "white",
             "startlinecolor": "#2a3f5f"
            },
            "baxis": {
             "endlinecolor": "#2a3f5f",
             "gridcolor": "white",
             "linecolor": "white",
             "minorgridcolor": "white",
             "startlinecolor": "#2a3f5f"
            },
            "type": "carpet"
           }
          ],
          "table": [
           {
            "cells": {
             "fill": {
              "color": "#EBF0F8"
             },
             "line": {
              "color": "white"
             }
            },
            "header": {
             "fill": {
              "color": "#C8D4E3"
             },
             "line": {
              "color": "white"
             }
            },
            "type": "table"
           }
          ],
          "barpolar": [
           {
            "marker": {
             "line": {
              "color": "#E5ECF6",
              "width": 0.5
             },
             "pattern": {
              "fillmode": "overlay",
              "size": 10,
              "solidity": 0.2
             }
            },
            "type": "barpolar"
           }
          ],
          "pie": [
           {
            "automargin": true,
            "type": "pie"
           }
          ]
         },
         "layout": {
          "autotypenumbers": "strict",
          "colorway": [
           "#636efa",
           "#EF553B",
           "#00cc96",
           "#ab63fa",
           "#FFA15A",
           "#19d3f3",
           "#FF6692",
           "#B6E880",
           "#FF97FF",
           "#FECB52"
          ],
          "font": {
           "color": "#2a3f5f"
          },
          "hovermode": "closest",
          "hoverlabel": {
           "align": "left"
          },
          "paper_bgcolor": "white",
          "plot_bgcolor": "#E5ECF6",
          "polar": {
           "bgcolor": "#E5ECF6",
           "angularaxis": {
            "gridcolor": "white",
            "linecolor": "white",
            "ticks": ""
           },
           "radialaxis": {
            "gridcolor": "white",
            "linecolor": "white",
            "ticks": ""
           }
          },
          "ternary": {
           "bgcolor": "#E5ECF6",
           "aaxis": {
            "gridcolor": "white",
            "linecolor": "white",
            "ticks": ""
           },
           "baxis": {
            "gridcolor": "white",
            "linecolor": "white",
            "ticks": ""
           },
           "caxis": {
            "gridcolor": "white",
            "linecolor": "white",
            "ticks": ""
           }
          },
          "coloraxis": {
           "colorbar": {
            "outlinewidth": 0,
            "ticks": ""
           }
          },
          "colorscale": {
           "sequential": [
            [
             0.0,
             "#0d0887"
            ],
            [
             0.1111111111111111,
             "#46039f"
            ],
            [
             0.2222222222222222,
             "#7201a8"
            ],
            [
             0.3333333333333333,
             "#9c179e"
            ],
            [
             0.4444444444444444,
             "#bd3786"
            ],
            [
             0.5555555555555556,
             "#d8576b"
            ],
            [
             0.6666666666666666,
             "#ed7953"
            ],
            [
             0.7777777777777778,
             "#fb9f3a"
            ],
            [
             0.8888888888888888,
             "#fdca26"
            ],
            [
             1.0,
             "#f0f921"
            ]
           ],
           "sequentialminus": [
            [
             0.0,
             "#0d0887"
            ],
            [
             0.1111111111111111,
             "#46039f"
            ],
            [
             0.2222222222222222,
             "#7201a8"
            ],
            [
             0.3333333333333333,
             "#9c179e"
            ],
            [
             0.4444444444444444,
             "#bd3786"
            ],
            [
             0.5555555555555556,
             "#d8576b"
            ],
            [
             0.6666666666666666,
             "#ed7953"
            ],
            [
             0.7777777777777778,
             "#fb9f3a"
            ],
            [
             0.8888888888888888,
             "#fdca26"
            ],
            [
             1.0,
             "#f0f921"
            ]
           ],
           "diverging": [
            [
             0,
             "#8e0152"
            ],
            [
             0.1,
             "#c51b7d"
            ],
            [
             0.2,
             "#de77ae"
            ],
            [
             0.3,
             "#f1b6da"
            ],
            [
             0.4,
             "#fde0ef"
            ],
            [
             0.5,
             "#f7f7f7"
            ],
            [
             0.6,
             "#e6f5d0"
            ],
            [
             0.7,
             "#b8e186"
            ],
            [
             0.8,
             "#7fbc41"
            ],
            [
             0.9,
             "#4d9221"
            ],
            [
             1,
             "#276419"
            ]
           ]
          },
          "xaxis": {
           "gridcolor": "white",
           "linecolor": "white",
           "ticks": "",
           "title": {
            "standoff": 15
           },
           "zerolinecolor": "white",
           "automargin": true,
           "zerolinewidth": 2
          },
          "yaxis": {
           "gridcolor": "white",
           "linecolor": "white",
           "ticks": "",
           "title": {
            "standoff": 15
           },
           "zerolinecolor": "white",
           "automargin": true,
           "zerolinewidth": 2
          },
          "scene": {
           "xaxis": {
            "backgroundcolor": "#E5ECF6",
            "gridcolor": "white",
            "linecolor": "white",
            "showbackground": true,
            "ticks": "",
            "zerolinecolor": "white",
            "gridwidth": 2
           },
           "yaxis": {
            "backgroundcolor": "#E5ECF6",
            "gridcolor": "white",
            "linecolor": "white",
            "showbackground": true,
            "ticks": "",
            "zerolinecolor": "white",
            "gridwidth": 2
           },
           "zaxis": {
            "backgroundcolor": "#E5ECF6",
            "gridcolor": "white",
            "linecolor": "white",
            "showbackground": true,
            "ticks": "",
            "zerolinecolor": "white",
            "gridwidth": 2
           }
          },
          "shapedefaults": {
           "line": {
            "color": "#2a3f5f"
           }
          },
          "annotationdefaults": {
           "arrowcolor": "#2a3f5f",
           "arrowhead": 0,
           "arrowwidth": 1
          },
          "geo": {
           "bgcolor": "white",
           "landcolor": "#E5ECF6",
           "subunitcolor": "white",
           "showland": true,
           "showlakes": true,
           "lakecolor": "white"
          },
          "title": {
           "x": 0.05
          },
          "mapbox": {
           "style": "light"
          }
         }
        }
       },
       "config": {
        "plotlyServerURL": "https://plot.ly"
       }
      },
      "text/html": "<div>                            <div id=\"df2879bf-77e2-4092-ad80-db99c872e0b7\" class=\"plotly-graph-div\" style=\"height:525px; width:100%;\"></div>            <script type=\"text/javascript\">                require([\"plotly\"], function(Plotly) {                    window.PLOTLYENV=window.PLOTLYENV || {};                                    if (document.getElementById(\"df2879bf-77e2-4092-ad80-db99c872e0b7\")) {                    Plotly.newPlot(                        \"df2879bf-77e2-4092-ad80-db99c872e0b7\",                        [{\"marker\":{\"color\":\"rgb(165,0,38)\"},\"name\":\"treatment\",\"textinfo\":\"value+percent initial\",\"x\":[7197,7197,7071,6384,5889,3369,2471],\"y\":[\"application_date\",\"background_check_initiated_date\",\"card_mailed_date\",\"background_check_completed_date\",\"card_activation_date\",\"orientation_completed_date\",\"first_batch_completed_date\"],\"type\":\"funnel\"}],                        {\"template\":{\"data\":{\"histogram2dcontour\":[{\"type\":\"histogram2dcontour\",\"colorbar\":{\"outlinewidth\":0,\"ticks\":\"\"},\"colorscale\":[[0.0,\"#0d0887\"],[0.1111111111111111,\"#46039f\"],[0.2222222222222222,\"#7201a8\"],[0.3333333333333333,\"#9c179e\"],[0.4444444444444444,\"#bd3786\"],[0.5555555555555556,\"#d8576b\"],[0.6666666666666666,\"#ed7953\"],[0.7777777777777778,\"#fb9f3a\"],[0.8888888888888888,\"#fdca26\"],[1.0,\"#f0f921\"]]}],\"choropleth\":[{\"type\":\"choropleth\",\"colorbar\":{\"outlinewidth\":0,\"ticks\":\"\"}}],\"histogram2d\":[{\"type\":\"histogram2d\",\"colorbar\":{\"outlinewidth\":0,\"ticks\":\"\"},\"colorscale\":[[0.0,\"#0d0887\"],[0.1111111111111111,\"#46039f\"],[0.2222222222222222,\"#7201a8\"],[0.3333333333333333,\"#9c179e\"],[0.4444444444444444,\"#bd3786\"],[0.5555555555555556,\"#d8576b\"],[0.6666666666666666,\"#ed7953\"],[0.7777777777777778,\"#fb9f3a\"],[0.8888888888888888,\"#fdca26\"],[1.0,\"#f0f921\"]]}],\"heatmap\":[{\"type\":\"heatmap\",\"colorbar\":{\"outlinewidth\":0,\"ticks\":\"\"},\"colorscale\":[[0.0,\"#0d0887\"],[0.1111111111111111,\"#46039f\"],[0.2222222222222222,\"#7201a8\"],[0.3333333333333333,\"#9c179e\"],[0.4444444444444444,\"#bd3786\"],[0.5555555555555556,\"#d8576b\"],[0.6666666666666666,\"#ed7953\"],[0.7777777777777778,\"#fb9f3a\"],[0.8888888888888888,\"#fdca26\"],[1.0,\"#f0f921\"]]}],\"heatmapgl\":[{\"type\":\"heatmapgl\",\"colorbar\":{\"outlinewidth\":0,\"ticks\":\"\"},\"colorscale\":[[0.0,\"#0d0887\"],[0.1111111111111111,\"#46039f\"],[0.2222222222222222,\"#7201a8\"],[0.3333333333333333,\"#9c179e\"],[0.4444444444444444,\"#bd3786\"],[0.5555555555555556,\"#d8576b\"],[0.6666666666666666,\"#ed7953\"],[0.7777777777777778,\"#fb9f3a\"],[0.8888888888888888,\"#fdca26\"],[1.0,\"#f0f921\"]]}],\"contourcarpet\":[{\"type\":\"contourcarpet\",\"colorbar\":{\"outlinewidth\":0,\"ticks\":\"\"}}],\"contour\":[{\"type\":\"contour\",\"colorbar\":{\"outlinewidth\":0,\"ticks\":\"\"},\"colorscale\":[[0.0,\"#0d0887\"],[0.1111111111111111,\"#46039f\"],[0.2222222222222222,\"#7201a8\"],[0.3333333333333333,\"#9c179e\"],[0.4444444444444444,\"#bd3786\"],[0.5555555555555556,\"#d8576b\"],[0.6666666666666666,\"#ed7953\"],[0.7777777777777778,\"#fb9f3a\"],[0.8888888888888888,\"#fdca26\"],[1.0,\"#f0f921\"]]}],\"surface\":[{\"type\":\"surface\",\"colorbar\":{\"outlinewidth\":0,\"ticks\":\"\"},\"colorscale\":[[0.0,\"#0d0887\"],[0.1111111111111111,\"#46039f\"],[0.2222222222222222,\"#7201a8\"],[0.3333333333333333,\"#9c179e\"],[0.4444444444444444,\"#bd3786\"],[0.5555555555555556,\"#d8576b\"],[0.6666666666666666,\"#ed7953\"],[0.7777777777777778,\"#fb9f3a\"],[0.8888888888888888,\"#fdca26\"],[1.0,\"#f0f921\"]]}],\"mesh3d\":[{\"type\":\"mesh3d\",\"colorbar\":{\"outlinewidth\":0,\"ticks\":\"\"}}],\"scatter\":[{\"fillpattern\":{\"fillmode\":\"overlay\",\"size\":10,\"solidity\":0.2},\"type\":\"scatter\"}],\"parcoords\":[{\"type\":\"parcoords\",\"line\":{\"colorbar\":{\"outlinewidth\":0,\"ticks\":\"\"}}}],\"scatterpolargl\":[{\"type\":\"scatterpolargl\",\"marker\":{\"colorbar\":{\"outlinewidth\":0,\"ticks\":\"\"}}}],\"bar\":[{\"error_x\":{\"color\":\"#2a3f5f\"},\"error_y\":{\"color\":\"#2a3f5f\"},\"marker\":{\"line\":{\"color\":\"#E5ECF6\",\"width\":0.5},\"pattern\":{\"fillmode\":\"overlay\",\"size\":10,\"solidity\":0.2}},\"type\":\"bar\"}],\"scattergeo\":[{\"type\":\"scattergeo\",\"marker\":{\"colorbar\":{\"outlinewidth\":0,\"ticks\":\"\"}}}],\"scatterpolar\":[{\"type\":\"scatterpolar\",\"marker\":{\"colorbar\":{\"outlinewidth\":0,\"ticks\":\"\"}}}],\"histogram\":[{\"marker\":{\"pattern\":{\"fillmode\":\"overlay\",\"size\":10,\"solidity\":0.2}},\"type\":\"histogram\"}],\"scattergl\":[{\"type\":\"scattergl\",\"marker\":{\"colorbar\":{\"outlinewidth\":0,\"ticks\":\"\"}}}],\"scatter3d\":[{\"type\":\"scatter3d\",\"line\":{\"colorbar\":{\"outlinewidth\":0,\"ticks\":\"\"}},\"marker\":{\"colorbar\":{\"outlinewidth\":0,\"ticks\":\"\"}}}],\"scattermapbox\":[{\"type\":\"scattermapbox\",\"marker\":{\"colorbar\":{\"outlinewidth\":0,\"ticks\":\"\"}}}],\"scatterternary\":[{\"type\":\"scatterternary\",\"marker\":{\"colorbar\":{\"outlinewidth\":0,\"ticks\":\"\"}}}],\"scattercarpet\":[{\"type\":\"scattercarpet\",\"marker\":{\"colorbar\":{\"outlinewidth\":0,\"ticks\":\"\"}}}],\"carpet\":[{\"aaxis\":{\"endlinecolor\":\"#2a3f5f\",\"gridcolor\":\"white\",\"linecolor\":\"white\",\"minorgridcolor\":\"white\",\"startlinecolor\":\"#2a3f5f\"},\"baxis\":{\"endlinecolor\":\"#2a3f5f\",\"gridcolor\":\"white\",\"linecolor\":\"white\",\"minorgridcolor\":\"white\",\"startlinecolor\":\"#2a3f5f\"},\"type\":\"carpet\"}],\"table\":[{\"cells\":{\"fill\":{\"color\":\"#EBF0F8\"},\"line\":{\"color\":\"white\"}},\"header\":{\"fill\":{\"color\":\"#C8D4E3\"},\"line\":{\"color\":\"white\"}},\"type\":\"table\"}],\"barpolar\":[{\"marker\":{\"line\":{\"color\":\"#E5ECF6\",\"width\":0.5},\"pattern\":{\"fillmode\":\"overlay\",\"size\":10,\"solidity\":0.2}},\"type\":\"barpolar\"}],\"pie\":[{\"automargin\":true,\"type\":\"pie\"}]},\"layout\":{\"autotypenumbers\":\"strict\",\"colorway\":[\"#636efa\",\"#EF553B\",\"#00cc96\",\"#ab63fa\",\"#FFA15A\",\"#19d3f3\",\"#FF6692\",\"#B6E880\",\"#FF97FF\",\"#FECB52\"],\"font\":{\"color\":\"#2a3f5f\"},\"hovermode\":\"closest\",\"hoverlabel\":{\"align\":\"left\"},\"paper_bgcolor\":\"white\",\"plot_bgcolor\":\"#E5ECF6\",\"polar\":{\"bgcolor\":\"#E5ECF6\",\"angularaxis\":{\"gridcolor\":\"white\",\"linecolor\":\"white\",\"ticks\":\"\"},\"radialaxis\":{\"gridcolor\":\"white\",\"linecolor\":\"white\",\"ticks\":\"\"}},\"ternary\":{\"bgcolor\":\"#E5ECF6\",\"aaxis\":{\"gridcolor\":\"white\",\"linecolor\":\"white\",\"ticks\":\"\"},\"baxis\":{\"gridcolor\":\"white\",\"linecolor\":\"white\",\"ticks\":\"\"},\"caxis\":{\"gridcolor\":\"white\",\"linecolor\":\"white\",\"ticks\":\"\"}},\"coloraxis\":{\"colorbar\":{\"outlinewidth\":0,\"ticks\":\"\"}},\"colorscale\":{\"sequential\":[[0.0,\"#0d0887\"],[0.1111111111111111,\"#46039f\"],[0.2222222222222222,\"#7201a8\"],[0.3333333333333333,\"#9c179e\"],[0.4444444444444444,\"#bd3786\"],[0.5555555555555556,\"#d8576b\"],[0.6666666666666666,\"#ed7953\"],[0.7777777777777778,\"#fb9f3a\"],[0.8888888888888888,\"#fdca26\"],[1.0,\"#f0f921\"]],\"sequentialminus\":[[0.0,\"#0d0887\"],[0.1111111111111111,\"#46039f\"],[0.2222222222222222,\"#7201a8\"],[0.3333333333333333,\"#9c179e\"],[0.4444444444444444,\"#bd3786\"],[0.5555555555555556,\"#d8576b\"],[0.6666666666666666,\"#ed7953\"],[0.7777777777777778,\"#fb9f3a\"],[0.8888888888888888,\"#fdca26\"],[1.0,\"#f0f921\"]],\"diverging\":[[0,\"#8e0152\"],[0.1,\"#c51b7d\"],[0.2,\"#de77ae\"],[0.3,\"#f1b6da\"],[0.4,\"#fde0ef\"],[0.5,\"#f7f7f7\"],[0.6,\"#e6f5d0\"],[0.7,\"#b8e186\"],[0.8,\"#7fbc41\"],[0.9,\"#4d9221\"],[1,\"#276419\"]]},\"xaxis\":{\"gridcolor\":\"white\",\"linecolor\":\"white\",\"ticks\":\"\",\"title\":{\"standoff\":15},\"zerolinecolor\":\"white\",\"automargin\":true,\"zerolinewidth\":2},\"yaxis\":{\"gridcolor\":\"white\",\"linecolor\":\"white\",\"ticks\":\"\",\"title\":{\"standoff\":15},\"zerolinecolor\":\"white\",\"automargin\":true,\"zerolinewidth\":2},\"scene\":{\"xaxis\":{\"backgroundcolor\":\"#E5ECF6\",\"gridcolor\":\"white\",\"linecolor\":\"white\",\"showbackground\":true,\"ticks\":\"\",\"zerolinecolor\":\"white\",\"gridwidth\":2},\"yaxis\":{\"backgroundcolor\":\"#E5ECF6\",\"gridcolor\":\"white\",\"linecolor\":\"white\",\"showbackground\":true,\"ticks\":\"\",\"zerolinecolor\":\"white\",\"gridwidth\":2},\"zaxis\":{\"backgroundcolor\":\"#E5ECF6\",\"gridcolor\":\"white\",\"linecolor\":\"white\",\"showbackground\":true,\"ticks\":\"\",\"zerolinecolor\":\"white\",\"gridwidth\":2}},\"shapedefaults\":{\"line\":{\"color\":\"#2a3f5f\"}},\"annotationdefaults\":{\"arrowcolor\":\"#2a3f5f\",\"arrowhead\":0,\"arrowwidth\":1},\"geo\":{\"bgcolor\":\"white\",\"landcolor\":\"#E5ECF6\",\"subunitcolor\":\"white\",\"showland\":true,\"showlakes\":true,\"lakecolor\":\"white\"},\"title\":{\"x\":0.05},\"mapbox\":{\"style\":\"light\"}}}},                        {\"responsive\": true}                    ).then(function(){\n                            \nvar gd = document.getElementById('df2879bf-77e2-4092-ad80-db99c872e0b7');\nvar x = new MutationObserver(function (mutations, observer) {{\n        var display = window.getComputedStyle(gd).display;\n        if (!display || display === 'none') {{\n            console.log([gd, 'removed!']);\n            Plotly.purge(gd);\n            observer.disconnect();\n        }}\n}});\n\n// Listen for the removal of the full notebook cells\nvar notebookContainer = gd.closest('#notebook-container');\nif (notebookContainer) {{\n    x.observe(notebookContainer, {childList: true});\n}}\n\n// Listen for the clearing of the current output cell\nvar outputEl = gd.closest('.output');\nif (outputEl) {{\n    x.observe(outputEl, {childList: true});\n}}\n\n                        })                };                });            </script>        </div>"
     },
     "metadata": {},
     "output_type": "display_data"
    }
   ],
   "source": [
    "# plot the converstion funnel of treatment group\n",
    "\n",
    "df_treat_converstion = df[df['group'] == 'treatment'].groupby(['group', 'event']).applicant_id.nunique().sort_values(\n",
    "    ascending=False)\n",
    "\n",
    "# print(df_treat_converstion)\n",
    "\n",
    "df_treat_converstion = df_treat_converstion.to_frame()\n",
    "\n",
    "fig = go.Figure(go.Funnel(\n",
    "    y=df_treat_converstion.index.get_level_values(1),\n",
    "    x=df_treat_converstion.applicant_id,\n",
    "    name='treatment',\n",
    "    textinfo=\"value+percent initial\",\n",
    "    marker=dict(color='rgb(165,0,38)')))\n",
    "\n",
    "fig.show()\n",
    "\n",
    "# from the funnel chart, we can see that the converstion rate of treatment group is higher than control group, reaching to about 43%"
   ]
  },
  {
   "cell_type": "code",
   "execution_count": 450,
   "metadata": {
    "ExecuteTime": {
     "end_time": "2023-08-20T13:47:46.686680Z",
     "start_time": "2023-08-20T13:47:45.732121Z"
    }
   },
   "outputs": [
    {
     "data": {
      "application/vnd.plotly.v1+json": {
       "data": [
        {
         "name": "control",
         "textinfo": "value+percent initial",
         "x": [
          14501,
          14266,
          10836,
          10836,
          9456,
          5982,
          2873
         ],
         "y": [
          "application_date",
          "card_mailed_date",
          "background_check_initiated_date",
          "card_activation_date",
          "background_check_completed_date",
          "orientation_completed_date",
          "first_batch_completed_date"
         ],
         "type": "funnel"
        },
        {
         "name": "treatment",
         "textinfo": "value+percent initial",
         "x": [
          7197,
          7197,
          7071,
          6384,
          5889,
          3369,
          2471
         ],
         "y": [
          "application_date",
          "background_check_initiated_date",
          "card_mailed_date",
          "background_check_completed_date",
          "card_activation_date",
          "orientation_completed_date",
          "first_batch_completed_date"
         ],
         "type": "funnel"
        }
       ],
       "layout": {
        "template": {
         "data": {
          "histogram2dcontour": [
           {
            "type": "histogram2dcontour",
            "colorbar": {
             "outlinewidth": 0,
             "ticks": ""
            },
            "colorscale": [
             [
              0.0,
              "#0d0887"
             ],
             [
              0.1111111111111111,
              "#46039f"
             ],
             [
              0.2222222222222222,
              "#7201a8"
             ],
             [
              0.3333333333333333,
              "#9c179e"
             ],
             [
              0.4444444444444444,
              "#bd3786"
             ],
             [
              0.5555555555555556,
              "#d8576b"
             ],
             [
              0.6666666666666666,
              "#ed7953"
             ],
             [
              0.7777777777777778,
              "#fb9f3a"
             ],
             [
              0.8888888888888888,
              "#fdca26"
             ],
             [
              1.0,
              "#f0f921"
             ]
            ]
           }
          ],
          "choropleth": [
           {
            "type": "choropleth",
            "colorbar": {
             "outlinewidth": 0,
             "ticks": ""
            }
           }
          ],
          "histogram2d": [
           {
            "type": "histogram2d",
            "colorbar": {
             "outlinewidth": 0,
             "ticks": ""
            },
            "colorscale": [
             [
              0.0,
              "#0d0887"
             ],
             [
              0.1111111111111111,
              "#46039f"
             ],
             [
              0.2222222222222222,
              "#7201a8"
             ],
             [
              0.3333333333333333,
              "#9c179e"
             ],
             [
              0.4444444444444444,
              "#bd3786"
             ],
             [
              0.5555555555555556,
              "#d8576b"
             ],
             [
              0.6666666666666666,
              "#ed7953"
             ],
             [
              0.7777777777777778,
              "#fb9f3a"
             ],
             [
              0.8888888888888888,
              "#fdca26"
             ],
             [
              1.0,
              "#f0f921"
             ]
            ]
           }
          ],
          "heatmap": [
           {
            "type": "heatmap",
            "colorbar": {
             "outlinewidth": 0,
             "ticks": ""
            },
            "colorscale": [
             [
              0.0,
              "#0d0887"
             ],
             [
              0.1111111111111111,
              "#46039f"
             ],
             [
              0.2222222222222222,
              "#7201a8"
             ],
             [
              0.3333333333333333,
              "#9c179e"
             ],
             [
              0.4444444444444444,
              "#bd3786"
             ],
             [
              0.5555555555555556,
              "#d8576b"
             ],
             [
              0.6666666666666666,
              "#ed7953"
             ],
             [
              0.7777777777777778,
              "#fb9f3a"
             ],
             [
              0.8888888888888888,
              "#fdca26"
             ],
             [
              1.0,
              "#f0f921"
             ]
            ]
           }
          ],
          "heatmapgl": [
           {
            "type": "heatmapgl",
            "colorbar": {
             "outlinewidth": 0,
             "ticks": ""
            },
            "colorscale": [
             [
              0.0,
              "#0d0887"
             ],
             [
              0.1111111111111111,
              "#46039f"
             ],
             [
              0.2222222222222222,
              "#7201a8"
             ],
             [
              0.3333333333333333,
              "#9c179e"
             ],
             [
              0.4444444444444444,
              "#bd3786"
             ],
             [
              0.5555555555555556,
              "#d8576b"
             ],
             [
              0.6666666666666666,
              "#ed7953"
             ],
             [
              0.7777777777777778,
              "#fb9f3a"
             ],
             [
              0.8888888888888888,
              "#fdca26"
             ],
             [
              1.0,
              "#f0f921"
             ]
            ]
           }
          ],
          "contourcarpet": [
           {
            "type": "contourcarpet",
            "colorbar": {
             "outlinewidth": 0,
             "ticks": ""
            }
           }
          ],
          "contour": [
           {
            "type": "contour",
            "colorbar": {
             "outlinewidth": 0,
             "ticks": ""
            },
            "colorscale": [
             [
              0.0,
              "#0d0887"
             ],
             [
              0.1111111111111111,
              "#46039f"
             ],
             [
              0.2222222222222222,
              "#7201a8"
             ],
             [
              0.3333333333333333,
              "#9c179e"
             ],
             [
              0.4444444444444444,
              "#bd3786"
             ],
             [
              0.5555555555555556,
              "#d8576b"
             ],
             [
              0.6666666666666666,
              "#ed7953"
             ],
             [
              0.7777777777777778,
              "#fb9f3a"
             ],
             [
              0.8888888888888888,
              "#fdca26"
             ],
             [
              1.0,
              "#f0f921"
             ]
            ]
           }
          ],
          "surface": [
           {
            "type": "surface",
            "colorbar": {
             "outlinewidth": 0,
             "ticks": ""
            },
            "colorscale": [
             [
              0.0,
              "#0d0887"
             ],
             [
              0.1111111111111111,
              "#46039f"
             ],
             [
              0.2222222222222222,
              "#7201a8"
             ],
             [
              0.3333333333333333,
              "#9c179e"
             ],
             [
              0.4444444444444444,
              "#bd3786"
             ],
             [
              0.5555555555555556,
              "#d8576b"
             ],
             [
              0.6666666666666666,
              "#ed7953"
             ],
             [
              0.7777777777777778,
              "#fb9f3a"
             ],
             [
              0.8888888888888888,
              "#fdca26"
             ],
             [
              1.0,
              "#f0f921"
             ]
            ]
           }
          ],
          "mesh3d": [
           {
            "type": "mesh3d",
            "colorbar": {
             "outlinewidth": 0,
             "ticks": ""
            }
           }
          ],
          "scatter": [
           {
            "fillpattern": {
             "fillmode": "overlay",
             "size": 10,
             "solidity": 0.2
            },
            "type": "scatter"
           }
          ],
          "parcoords": [
           {
            "type": "parcoords",
            "line": {
             "colorbar": {
              "outlinewidth": 0,
              "ticks": ""
             }
            }
           }
          ],
          "scatterpolargl": [
           {
            "type": "scatterpolargl",
            "marker": {
             "colorbar": {
              "outlinewidth": 0,
              "ticks": ""
             }
            }
           }
          ],
          "bar": [
           {
            "error_x": {
             "color": "#2a3f5f"
            },
            "error_y": {
             "color": "#2a3f5f"
            },
            "marker": {
             "line": {
              "color": "#E5ECF6",
              "width": 0.5
             },
             "pattern": {
              "fillmode": "overlay",
              "size": 10,
              "solidity": 0.2
             }
            },
            "type": "bar"
           }
          ],
          "scattergeo": [
           {
            "type": "scattergeo",
            "marker": {
             "colorbar": {
              "outlinewidth": 0,
              "ticks": ""
             }
            }
           }
          ],
          "scatterpolar": [
           {
            "type": "scatterpolar",
            "marker": {
             "colorbar": {
              "outlinewidth": 0,
              "ticks": ""
             }
            }
           }
          ],
          "histogram": [
           {
            "marker": {
             "pattern": {
              "fillmode": "overlay",
              "size": 10,
              "solidity": 0.2
             }
            },
            "type": "histogram"
           }
          ],
          "scattergl": [
           {
            "type": "scattergl",
            "marker": {
             "colorbar": {
              "outlinewidth": 0,
              "ticks": ""
             }
            }
           }
          ],
          "scatter3d": [
           {
            "type": "scatter3d",
            "line": {
             "colorbar": {
              "outlinewidth": 0,
              "ticks": ""
             }
            },
            "marker": {
             "colorbar": {
              "outlinewidth": 0,
              "ticks": ""
             }
            }
           }
          ],
          "scattermapbox": [
           {
            "type": "scattermapbox",
            "marker": {
             "colorbar": {
              "outlinewidth": 0,
              "ticks": ""
             }
            }
           }
          ],
          "scatterternary": [
           {
            "type": "scatterternary",
            "marker": {
             "colorbar": {
              "outlinewidth": 0,
              "ticks": ""
             }
            }
           }
          ],
          "scattercarpet": [
           {
            "type": "scattercarpet",
            "marker": {
             "colorbar": {
              "outlinewidth": 0,
              "ticks": ""
             }
            }
           }
          ],
          "carpet": [
           {
            "aaxis": {
             "endlinecolor": "#2a3f5f",
             "gridcolor": "white",
             "linecolor": "white",
             "minorgridcolor": "white",
             "startlinecolor": "#2a3f5f"
            },
            "baxis": {
             "endlinecolor": "#2a3f5f",
             "gridcolor": "white",
             "linecolor": "white",
             "minorgridcolor": "white",
             "startlinecolor": "#2a3f5f"
            },
            "type": "carpet"
           }
          ],
          "table": [
           {
            "cells": {
             "fill": {
              "color": "#EBF0F8"
             },
             "line": {
              "color": "white"
             }
            },
            "header": {
             "fill": {
              "color": "#C8D4E3"
             },
             "line": {
              "color": "white"
             }
            },
            "type": "table"
           }
          ],
          "barpolar": [
           {
            "marker": {
             "line": {
              "color": "#E5ECF6",
              "width": 0.5
             },
             "pattern": {
              "fillmode": "overlay",
              "size": 10,
              "solidity": 0.2
             }
            },
            "type": "barpolar"
           }
          ],
          "pie": [
           {
            "automargin": true,
            "type": "pie"
           }
          ]
         },
         "layout": {
          "autotypenumbers": "strict",
          "colorway": [
           "#636efa",
           "#EF553B",
           "#00cc96",
           "#ab63fa",
           "#FFA15A",
           "#19d3f3",
           "#FF6692",
           "#B6E880",
           "#FF97FF",
           "#FECB52"
          ],
          "font": {
           "color": "#2a3f5f"
          },
          "hovermode": "closest",
          "hoverlabel": {
           "align": "left"
          },
          "paper_bgcolor": "white",
          "plot_bgcolor": "#E5ECF6",
          "polar": {
           "bgcolor": "#E5ECF6",
           "angularaxis": {
            "gridcolor": "white",
            "linecolor": "white",
            "ticks": ""
           },
           "radialaxis": {
            "gridcolor": "white",
            "linecolor": "white",
            "ticks": ""
           }
          },
          "ternary": {
           "bgcolor": "#E5ECF6",
           "aaxis": {
            "gridcolor": "white",
            "linecolor": "white",
            "ticks": ""
           },
           "baxis": {
            "gridcolor": "white",
            "linecolor": "white",
            "ticks": ""
           },
           "caxis": {
            "gridcolor": "white",
            "linecolor": "white",
            "ticks": ""
           }
          },
          "coloraxis": {
           "colorbar": {
            "outlinewidth": 0,
            "ticks": ""
           }
          },
          "colorscale": {
           "sequential": [
            [
             0.0,
             "#0d0887"
            ],
            [
             0.1111111111111111,
             "#46039f"
            ],
            [
             0.2222222222222222,
             "#7201a8"
            ],
            [
             0.3333333333333333,
             "#9c179e"
            ],
            [
             0.4444444444444444,
             "#bd3786"
            ],
            [
             0.5555555555555556,
             "#d8576b"
            ],
            [
             0.6666666666666666,
             "#ed7953"
            ],
            [
             0.7777777777777778,
             "#fb9f3a"
            ],
            [
             0.8888888888888888,
             "#fdca26"
            ],
            [
             1.0,
             "#f0f921"
            ]
           ],
           "sequentialminus": [
            [
             0.0,
             "#0d0887"
            ],
            [
             0.1111111111111111,
             "#46039f"
            ],
            [
             0.2222222222222222,
             "#7201a8"
            ],
            [
             0.3333333333333333,
             "#9c179e"
            ],
            [
             0.4444444444444444,
             "#bd3786"
            ],
            [
             0.5555555555555556,
             "#d8576b"
            ],
            [
             0.6666666666666666,
             "#ed7953"
            ],
            [
             0.7777777777777778,
             "#fb9f3a"
            ],
            [
             0.8888888888888888,
             "#fdca26"
            ],
            [
             1.0,
             "#f0f921"
            ]
           ],
           "diverging": [
            [
             0,
             "#8e0152"
            ],
            [
             0.1,
             "#c51b7d"
            ],
            [
             0.2,
             "#de77ae"
            ],
            [
             0.3,
             "#f1b6da"
            ],
            [
             0.4,
             "#fde0ef"
            ],
            [
             0.5,
             "#f7f7f7"
            ],
            [
             0.6,
             "#e6f5d0"
            ],
            [
             0.7,
             "#b8e186"
            ],
            [
             0.8,
             "#7fbc41"
            ],
            [
             0.9,
             "#4d9221"
            ],
            [
             1,
             "#276419"
            ]
           ]
          },
          "xaxis": {
           "gridcolor": "white",
           "linecolor": "white",
           "ticks": "",
           "title": {
            "standoff": 15
           },
           "zerolinecolor": "white",
           "automargin": true,
           "zerolinewidth": 2
          },
          "yaxis": {
           "gridcolor": "white",
           "linecolor": "white",
           "ticks": "",
           "title": {
            "standoff": 15
           },
           "zerolinecolor": "white",
           "automargin": true,
           "zerolinewidth": 2
          },
          "scene": {
           "xaxis": {
            "backgroundcolor": "#E5ECF6",
            "gridcolor": "white",
            "linecolor": "white",
            "showbackground": true,
            "ticks": "",
            "zerolinecolor": "white",
            "gridwidth": 2
           },
           "yaxis": {
            "backgroundcolor": "#E5ECF6",
            "gridcolor": "white",
            "linecolor": "white",
            "showbackground": true,
            "ticks": "",
            "zerolinecolor": "white",
            "gridwidth": 2
           },
           "zaxis": {
            "backgroundcolor": "#E5ECF6",
            "gridcolor": "white",
            "linecolor": "white",
            "showbackground": true,
            "ticks": "",
            "zerolinecolor": "white",
            "gridwidth": 2
           }
          },
          "shapedefaults": {
           "line": {
            "color": "#2a3f5f"
           }
          },
          "annotationdefaults": {
           "arrowcolor": "#2a3f5f",
           "arrowhead": 0,
           "arrowwidth": 1
          },
          "geo": {
           "bgcolor": "white",
           "landcolor": "#E5ECF6",
           "subunitcolor": "white",
           "showland": true,
           "showlakes": true,
           "lakecolor": "white"
          },
          "title": {
           "x": 0.05
          },
          "mapbox": {
           "style": "light"
          }
         }
        }
       },
       "config": {
        "plotlyServerURL": "https://plot.ly"
       }
      },
      "text/html": "<div>                            <div id=\"c946173c-bca9-40f9-81bf-4a3810380d6e\" class=\"plotly-graph-div\" style=\"height:525px; width:100%;\"></div>            <script type=\"text/javascript\">                require([\"plotly\"], function(Plotly) {                    window.PLOTLYENV=window.PLOTLYENV || {};                                    if (document.getElementById(\"c946173c-bca9-40f9-81bf-4a3810380d6e\")) {                    Plotly.newPlot(                        \"c946173c-bca9-40f9-81bf-4a3810380d6e\",                        [{\"name\":\"control\",\"textinfo\":\"value+percent initial\",\"x\":[14501,14266,10836,10836,9456,5982,2873],\"y\":[\"application_date\",\"card_mailed_date\",\"background_check_initiated_date\",\"card_activation_date\",\"background_check_completed_date\",\"orientation_completed_date\",\"first_batch_completed_date\"],\"type\":\"funnel\"},{\"name\":\"treatment\",\"textinfo\":\"value+percent initial\",\"x\":[7197,7197,7071,6384,5889,3369,2471],\"y\":[\"application_date\",\"background_check_initiated_date\",\"card_mailed_date\",\"background_check_completed_date\",\"card_activation_date\",\"orientation_completed_date\",\"first_batch_completed_date\"],\"type\":\"funnel\"}],                        {\"template\":{\"data\":{\"histogram2dcontour\":[{\"type\":\"histogram2dcontour\",\"colorbar\":{\"outlinewidth\":0,\"ticks\":\"\"},\"colorscale\":[[0.0,\"#0d0887\"],[0.1111111111111111,\"#46039f\"],[0.2222222222222222,\"#7201a8\"],[0.3333333333333333,\"#9c179e\"],[0.4444444444444444,\"#bd3786\"],[0.5555555555555556,\"#d8576b\"],[0.6666666666666666,\"#ed7953\"],[0.7777777777777778,\"#fb9f3a\"],[0.8888888888888888,\"#fdca26\"],[1.0,\"#f0f921\"]]}],\"choropleth\":[{\"type\":\"choropleth\",\"colorbar\":{\"outlinewidth\":0,\"ticks\":\"\"}}],\"histogram2d\":[{\"type\":\"histogram2d\",\"colorbar\":{\"outlinewidth\":0,\"ticks\":\"\"},\"colorscale\":[[0.0,\"#0d0887\"],[0.1111111111111111,\"#46039f\"],[0.2222222222222222,\"#7201a8\"],[0.3333333333333333,\"#9c179e\"],[0.4444444444444444,\"#bd3786\"],[0.5555555555555556,\"#d8576b\"],[0.6666666666666666,\"#ed7953\"],[0.7777777777777778,\"#fb9f3a\"],[0.8888888888888888,\"#fdca26\"],[1.0,\"#f0f921\"]]}],\"heatmap\":[{\"type\":\"heatmap\",\"colorbar\":{\"outlinewidth\":0,\"ticks\":\"\"},\"colorscale\":[[0.0,\"#0d0887\"],[0.1111111111111111,\"#46039f\"],[0.2222222222222222,\"#7201a8\"],[0.3333333333333333,\"#9c179e\"],[0.4444444444444444,\"#bd3786\"],[0.5555555555555556,\"#d8576b\"],[0.6666666666666666,\"#ed7953\"],[0.7777777777777778,\"#fb9f3a\"],[0.8888888888888888,\"#fdca26\"],[1.0,\"#f0f921\"]]}],\"heatmapgl\":[{\"type\":\"heatmapgl\",\"colorbar\":{\"outlinewidth\":0,\"ticks\":\"\"},\"colorscale\":[[0.0,\"#0d0887\"],[0.1111111111111111,\"#46039f\"],[0.2222222222222222,\"#7201a8\"],[0.3333333333333333,\"#9c179e\"],[0.4444444444444444,\"#bd3786\"],[0.5555555555555556,\"#d8576b\"],[0.6666666666666666,\"#ed7953\"],[0.7777777777777778,\"#fb9f3a\"],[0.8888888888888888,\"#fdca26\"],[1.0,\"#f0f921\"]]}],\"contourcarpet\":[{\"type\":\"contourcarpet\",\"colorbar\":{\"outlinewidth\":0,\"ticks\":\"\"}}],\"contour\":[{\"type\":\"contour\",\"colorbar\":{\"outlinewidth\":0,\"ticks\":\"\"},\"colorscale\":[[0.0,\"#0d0887\"],[0.1111111111111111,\"#46039f\"],[0.2222222222222222,\"#7201a8\"],[0.3333333333333333,\"#9c179e\"],[0.4444444444444444,\"#bd3786\"],[0.5555555555555556,\"#d8576b\"],[0.6666666666666666,\"#ed7953\"],[0.7777777777777778,\"#fb9f3a\"],[0.8888888888888888,\"#fdca26\"],[1.0,\"#f0f921\"]]}],\"surface\":[{\"type\":\"surface\",\"colorbar\":{\"outlinewidth\":0,\"ticks\":\"\"},\"colorscale\":[[0.0,\"#0d0887\"],[0.1111111111111111,\"#46039f\"],[0.2222222222222222,\"#7201a8\"],[0.3333333333333333,\"#9c179e\"],[0.4444444444444444,\"#bd3786\"],[0.5555555555555556,\"#d8576b\"],[0.6666666666666666,\"#ed7953\"],[0.7777777777777778,\"#fb9f3a\"],[0.8888888888888888,\"#fdca26\"],[1.0,\"#f0f921\"]]}],\"mesh3d\":[{\"type\":\"mesh3d\",\"colorbar\":{\"outlinewidth\":0,\"ticks\":\"\"}}],\"scatter\":[{\"fillpattern\":{\"fillmode\":\"overlay\",\"size\":10,\"solidity\":0.2},\"type\":\"scatter\"}],\"parcoords\":[{\"type\":\"parcoords\",\"line\":{\"colorbar\":{\"outlinewidth\":0,\"ticks\":\"\"}}}],\"scatterpolargl\":[{\"type\":\"scatterpolargl\",\"marker\":{\"colorbar\":{\"outlinewidth\":0,\"ticks\":\"\"}}}],\"bar\":[{\"error_x\":{\"color\":\"#2a3f5f\"},\"error_y\":{\"color\":\"#2a3f5f\"},\"marker\":{\"line\":{\"color\":\"#E5ECF6\",\"width\":0.5},\"pattern\":{\"fillmode\":\"overlay\",\"size\":10,\"solidity\":0.2}},\"type\":\"bar\"}],\"scattergeo\":[{\"type\":\"scattergeo\",\"marker\":{\"colorbar\":{\"outlinewidth\":0,\"ticks\":\"\"}}}],\"scatterpolar\":[{\"type\":\"scatterpolar\",\"marker\":{\"colorbar\":{\"outlinewidth\":0,\"ticks\":\"\"}}}],\"histogram\":[{\"marker\":{\"pattern\":{\"fillmode\":\"overlay\",\"size\":10,\"solidity\":0.2}},\"type\":\"histogram\"}],\"scattergl\":[{\"type\":\"scattergl\",\"marker\":{\"colorbar\":{\"outlinewidth\":0,\"ticks\":\"\"}}}],\"scatter3d\":[{\"type\":\"scatter3d\",\"line\":{\"colorbar\":{\"outlinewidth\":0,\"ticks\":\"\"}},\"marker\":{\"colorbar\":{\"outlinewidth\":0,\"ticks\":\"\"}}}],\"scattermapbox\":[{\"type\":\"scattermapbox\",\"marker\":{\"colorbar\":{\"outlinewidth\":0,\"ticks\":\"\"}}}],\"scatterternary\":[{\"type\":\"scatterternary\",\"marker\":{\"colorbar\":{\"outlinewidth\":0,\"ticks\":\"\"}}}],\"scattercarpet\":[{\"type\":\"scattercarpet\",\"marker\":{\"colorbar\":{\"outlinewidth\":0,\"ticks\":\"\"}}}],\"carpet\":[{\"aaxis\":{\"endlinecolor\":\"#2a3f5f\",\"gridcolor\":\"white\",\"linecolor\":\"white\",\"minorgridcolor\":\"white\",\"startlinecolor\":\"#2a3f5f\"},\"baxis\":{\"endlinecolor\":\"#2a3f5f\",\"gridcolor\":\"white\",\"linecolor\":\"white\",\"minorgridcolor\":\"white\",\"startlinecolor\":\"#2a3f5f\"},\"type\":\"carpet\"}],\"table\":[{\"cells\":{\"fill\":{\"color\":\"#EBF0F8\"},\"line\":{\"color\":\"white\"}},\"header\":{\"fill\":{\"color\":\"#C8D4E3\"},\"line\":{\"color\":\"white\"}},\"type\":\"table\"}],\"barpolar\":[{\"marker\":{\"line\":{\"color\":\"#E5ECF6\",\"width\":0.5},\"pattern\":{\"fillmode\":\"overlay\",\"size\":10,\"solidity\":0.2}},\"type\":\"barpolar\"}],\"pie\":[{\"automargin\":true,\"type\":\"pie\"}]},\"layout\":{\"autotypenumbers\":\"strict\",\"colorway\":[\"#636efa\",\"#EF553B\",\"#00cc96\",\"#ab63fa\",\"#FFA15A\",\"#19d3f3\",\"#FF6692\",\"#B6E880\",\"#FF97FF\",\"#FECB52\"],\"font\":{\"color\":\"#2a3f5f\"},\"hovermode\":\"closest\",\"hoverlabel\":{\"align\":\"left\"},\"paper_bgcolor\":\"white\",\"plot_bgcolor\":\"#E5ECF6\",\"polar\":{\"bgcolor\":\"#E5ECF6\",\"angularaxis\":{\"gridcolor\":\"white\",\"linecolor\":\"white\",\"ticks\":\"\"},\"radialaxis\":{\"gridcolor\":\"white\",\"linecolor\":\"white\",\"ticks\":\"\"}},\"ternary\":{\"bgcolor\":\"#E5ECF6\",\"aaxis\":{\"gridcolor\":\"white\",\"linecolor\":\"white\",\"ticks\":\"\"},\"baxis\":{\"gridcolor\":\"white\",\"linecolor\":\"white\",\"ticks\":\"\"},\"caxis\":{\"gridcolor\":\"white\",\"linecolor\":\"white\",\"ticks\":\"\"}},\"coloraxis\":{\"colorbar\":{\"outlinewidth\":0,\"ticks\":\"\"}},\"colorscale\":{\"sequential\":[[0.0,\"#0d0887\"],[0.1111111111111111,\"#46039f\"],[0.2222222222222222,\"#7201a8\"],[0.3333333333333333,\"#9c179e\"],[0.4444444444444444,\"#bd3786\"],[0.5555555555555556,\"#d8576b\"],[0.6666666666666666,\"#ed7953\"],[0.7777777777777778,\"#fb9f3a\"],[0.8888888888888888,\"#fdca26\"],[1.0,\"#f0f921\"]],\"sequentialminus\":[[0.0,\"#0d0887\"],[0.1111111111111111,\"#46039f\"],[0.2222222222222222,\"#7201a8\"],[0.3333333333333333,\"#9c179e\"],[0.4444444444444444,\"#bd3786\"],[0.5555555555555556,\"#d8576b\"],[0.6666666666666666,\"#ed7953\"],[0.7777777777777778,\"#fb9f3a\"],[0.8888888888888888,\"#fdca26\"],[1.0,\"#f0f921\"]],\"diverging\":[[0,\"#8e0152\"],[0.1,\"#c51b7d\"],[0.2,\"#de77ae\"],[0.3,\"#f1b6da\"],[0.4,\"#fde0ef\"],[0.5,\"#f7f7f7\"],[0.6,\"#e6f5d0\"],[0.7,\"#b8e186\"],[0.8,\"#7fbc41\"],[0.9,\"#4d9221\"],[1,\"#276419\"]]},\"xaxis\":{\"gridcolor\":\"white\",\"linecolor\":\"white\",\"ticks\":\"\",\"title\":{\"standoff\":15},\"zerolinecolor\":\"white\",\"automargin\":true,\"zerolinewidth\":2},\"yaxis\":{\"gridcolor\":\"white\",\"linecolor\":\"white\",\"ticks\":\"\",\"title\":{\"standoff\":15},\"zerolinecolor\":\"white\",\"automargin\":true,\"zerolinewidth\":2},\"scene\":{\"xaxis\":{\"backgroundcolor\":\"#E5ECF6\",\"gridcolor\":\"white\",\"linecolor\":\"white\",\"showbackground\":true,\"ticks\":\"\",\"zerolinecolor\":\"white\",\"gridwidth\":2},\"yaxis\":{\"backgroundcolor\":\"#E5ECF6\",\"gridcolor\":\"white\",\"linecolor\":\"white\",\"showbackground\":true,\"ticks\":\"\",\"zerolinecolor\":\"white\",\"gridwidth\":2},\"zaxis\":{\"backgroundcolor\":\"#E5ECF6\",\"gridcolor\":\"white\",\"linecolor\":\"white\",\"showbackground\":true,\"ticks\":\"\",\"zerolinecolor\":\"white\",\"gridwidth\":2}},\"shapedefaults\":{\"line\":{\"color\":\"#2a3f5f\"}},\"annotationdefaults\":{\"arrowcolor\":\"#2a3f5f\",\"arrowhead\":0,\"arrowwidth\":1},\"geo\":{\"bgcolor\":\"white\",\"landcolor\":\"#E5ECF6\",\"subunitcolor\":\"white\",\"showland\":true,\"showlakes\":true,\"lakecolor\":\"white\"},\"title\":{\"x\":0.05},\"mapbox\":{\"style\":\"light\"}}}},                        {\"responsive\": true}                    ).then(function(){\n                            \nvar gd = document.getElementById('c946173c-bca9-40f9-81bf-4a3810380d6e');\nvar x = new MutationObserver(function (mutations, observer) {{\n        var display = window.getComputedStyle(gd).display;\n        if (!display || display === 'none') {{\n            console.log([gd, 'removed!']);\n            Plotly.purge(gd);\n            observer.disconnect();\n        }}\n}});\n\n// Listen for the removal of the full notebook cells\nvar notebookContainer = gd.closest('#notebook-container');\nif (notebookContainer) {{\n    x.observe(notebookContainer, {childList: true});\n}}\n\n// Listen for the clearing of the current output cell\nvar outputEl = gd.closest('.output');\nif (outputEl) {{\n    x.observe(outputEl, {childList: true});\n}}\n\n                        })                };                });            </script>        </div>"
     },
     "metadata": {},
     "output_type": "display_data"
    }
   ],
   "source": [
    "# Let's combine the converstion funnel of both groups\n",
    "\n",
    "fig = go.Figure(go.Funnel(\n",
    "    y=df_control_converstion.index.get_level_values(1),\n",
    "    x=df_control_converstion.applicant_id,\n",
    "    name='control',\n",
    "    textinfo=\"value+percent initial\"))\n",
    "\n",
    "fig.add_funnel(\n",
    "    y=df_treat_converstion.index.get_level_values(1),\n",
    "    x=df_treat_converstion.applicant_id,\n",
    "    name='treatment',\n",
    "    textinfo=\"value+percent initial\")\n",
    "\n",
    "fig.show()\n",
    "\n",
    "# Due to the different sample size of both groups, we can't compare the converstion rate directly, but we can compare the converstion rate of each step.\n",
    "\n",
    "# and for the last and final conversion rate, the treatment group is higher than control group, which means the treatment group has a higher converstion rate than control group. And the data is 43% vs 27%, which is a big difference."
   ]
  },
  {
   "cell_type": "code",
   "execution_count": 451,
   "metadata": {
    "ExecuteTime": {
     "end_time": "2023-08-20T13:47:46.687051Z",
     "start_time": "2023-08-20T13:47:45.735106Z"
    }
   },
   "outputs": [
    {
     "data": {
      "text/plain": "        group                            event  applicant_id\n0     control                 application_date         14501\n1     control                 card_mailed_date         14266\n2     control  background_check_initiated_date         10836\n3     control             card_activation_date         10836\n4     control  background_check_completed_date          9456\n5     control       orientation_completed_date          5982\n6     control       first_batch_completed_date          2873\n7   treatment                 application_date          7197\n8   treatment  background_check_initiated_date          7197\n9   treatment                 card_mailed_date          7071\n10  treatment  background_check_completed_date          6384\n11  treatment             card_activation_date          5889\n12  treatment       orientation_completed_date          3369\n13  treatment       first_batch_completed_date          2471",
      "text/html": "<div>\n<style scoped>\n    .dataframe tbody tr th:only-of-type {\n        vertical-align: middle;\n    }\n\n    .dataframe tbody tr th {\n        vertical-align: top;\n    }\n\n    .dataframe thead th {\n        text-align: right;\n    }\n</style>\n<table border=\"1\" class=\"dataframe\">\n  <thead>\n    <tr style=\"text-align: right;\">\n      <th></th>\n      <th>group</th>\n      <th>event</th>\n      <th>applicant_id</th>\n    </tr>\n  </thead>\n  <tbody>\n    <tr>\n      <th>0</th>\n      <td>control</td>\n      <td>application_date</td>\n      <td>14501</td>\n    </tr>\n    <tr>\n      <th>1</th>\n      <td>control</td>\n      <td>card_mailed_date</td>\n      <td>14266</td>\n    </tr>\n    <tr>\n      <th>2</th>\n      <td>control</td>\n      <td>background_check_initiated_date</td>\n      <td>10836</td>\n    </tr>\n    <tr>\n      <th>3</th>\n      <td>control</td>\n      <td>card_activation_date</td>\n      <td>10836</td>\n    </tr>\n    <tr>\n      <th>4</th>\n      <td>control</td>\n      <td>background_check_completed_date</td>\n      <td>9456</td>\n    </tr>\n    <tr>\n      <th>5</th>\n      <td>control</td>\n      <td>orientation_completed_date</td>\n      <td>5982</td>\n    </tr>\n    <tr>\n      <th>6</th>\n      <td>control</td>\n      <td>first_batch_completed_date</td>\n      <td>2873</td>\n    </tr>\n    <tr>\n      <th>7</th>\n      <td>treatment</td>\n      <td>application_date</td>\n      <td>7197</td>\n    </tr>\n    <tr>\n      <th>8</th>\n      <td>treatment</td>\n      <td>background_check_initiated_date</td>\n      <td>7197</td>\n    </tr>\n    <tr>\n      <th>9</th>\n      <td>treatment</td>\n      <td>card_mailed_date</td>\n      <td>7071</td>\n    </tr>\n    <tr>\n      <th>10</th>\n      <td>treatment</td>\n      <td>background_check_completed_date</td>\n      <td>6384</td>\n    </tr>\n    <tr>\n      <th>11</th>\n      <td>treatment</td>\n      <td>card_activation_date</td>\n      <td>5889</td>\n    </tr>\n    <tr>\n      <th>12</th>\n      <td>treatment</td>\n      <td>orientation_completed_date</td>\n      <td>3369</td>\n    </tr>\n    <tr>\n      <th>13</th>\n      <td>treatment</td>\n      <td>first_batch_completed_date</td>\n      <td>2471</td>\n    </tr>\n  </tbody>\n</table>\n</div>"
     },
     "execution_count": 451,
     "metadata": {},
     "output_type": "execute_result"
    }
   ],
   "source": [
    "df_concat = pd.concat([df_control_converstion, df_treat_converstion], )\n",
    "df_concat = df_concat.reset_index()\n",
    "df_concat"
   ]
  },
  {
   "cell_type": "markdown",
   "metadata": {},
   "source": [
    "### Explore the converstion rate of each step and the duration of each step"
   ]
  },
  {
   "cell_type": "code",
   "execution_count": 452,
   "metadata": {
    "ExecuteTime": {
     "end_time": "2023-08-20T13:47:46.687211Z",
     "start_time": "2023-08-20T13:47:45.740660Z"
    }
   },
   "outputs": [
    {
     "name": "stdout",
     "output_type": "stream",
     "text": [
      "2018-10-01 00:00:00\n",
      "2018-11-11 00:00:00\n",
      "41 days 00:00:00\n"
     ]
    }
   ],
   "source": [
    "# check experiment duration\n",
    "\n",
    "print(df['event_date'].min())\n",
    "print(df['event_date'].max())\n",
    "\n",
    "print(df['event_date'].max() - df['event_date'].min())\n",
    "\n",
    "# the experiment lasted for a month, from 2018-10-01 to 2018-11-11\n",
    "# and the experiment lasted for 41 days"
   ]
  },
  {
   "cell_type": "code",
   "execution_count": 453,
   "metadata": {
    "ExecuteTime": {
     "end_time": "2023-08-20T13:47:46.687656Z",
     "start_time": "2023-08-20T13:47:45.744527Z"
    }
   },
   "outputs": [
    {
     "data": {
      "text/plain": "event                  application_date background_check_completed_date  \\\ngroup     applicant_id                                                    \ncontrol   10001              2018-10-01                             NaT   \n          10002              2018-10-01                      2018-10-17   \n          10006              2018-10-01                             NaT   \n          10007              2018-10-01                      2018-10-11   \n          10008              2018-10-01                             NaT   \n...                                 ...                             ...   \ntreatment 31684              2018-11-11                             NaT   \n          31686              2018-11-11                             NaT   \n          31687              2018-11-11                             NaT   \n          31689              2018-11-11                             NaT   \n          31691              2018-11-11                             NaT   \n\nevent                  background_check_initiated_date card_activation_date  \\\ngroup     applicant_id                                                        \ncontrol   10001                                    NaT                  NaT   \n          10002                             2018-10-12           2018-10-12   \n          10006                                    NaT                  NaT   \n          10007                             2018-10-07           2018-10-07   \n          10008                                    NaT                  NaT   \n...                                                ...                  ...   \ntreatment 31684                             2018-11-11                  NaT   \n          31686                             2018-11-11                  NaT   \n          31687                             2018-11-11                  NaT   \n          31689                             2018-11-11                  NaT   \n          31691                             2018-11-11                  NaT   \n\nevent                  card_mailed_date first_batch_completed_date  \\\ngroup     applicant_id                                               \ncontrol   10001              2018-10-01                        NaT   \n          10002              2018-10-01                 2018-10-20   \n          10006              2018-10-01                        NaT   \n          10007              2018-10-02                 2018-10-14   \n          10008              2018-10-02                        NaT   \n...                                 ...                        ...   \ntreatment 31684              2018-11-11                        NaT   \n          31686              2018-11-11                        NaT   \n          31687              2018-11-11                        NaT   \n          31689              2018-11-11                        NaT   \n          31691                     NaT                        NaT   \n\nevent                  orientation_completed_date  \ngroup     applicant_id                             \ncontrol   10001                        2018-10-03  \n          10002                               NaT  \n          10006                               NaT  \n          10007                               NaT  \n          10008                               NaT  \n...                                           ...  \ntreatment 31684                               NaT  \n          31686                               NaT  \n          31687                               NaT  \n          31689                               NaT  \n          31691                               NaT  \n\n[21698 rows x 7 columns]",
      "text/html": "<div>\n<style scoped>\n    .dataframe tbody tr th:only-of-type {\n        vertical-align: middle;\n    }\n\n    .dataframe tbody tr th {\n        vertical-align: top;\n    }\n\n    .dataframe thead th {\n        text-align: right;\n    }\n</style>\n<table border=\"1\" class=\"dataframe\">\n  <thead>\n    <tr style=\"text-align: right;\">\n      <th></th>\n      <th>event</th>\n      <th>application_date</th>\n      <th>background_check_completed_date</th>\n      <th>background_check_initiated_date</th>\n      <th>card_activation_date</th>\n      <th>card_mailed_date</th>\n      <th>first_batch_completed_date</th>\n      <th>orientation_completed_date</th>\n    </tr>\n    <tr>\n      <th>group</th>\n      <th>applicant_id</th>\n      <th></th>\n      <th></th>\n      <th></th>\n      <th></th>\n      <th></th>\n      <th></th>\n      <th></th>\n    </tr>\n  </thead>\n  <tbody>\n    <tr>\n      <th rowspan=\"5\" valign=\"top\">control</th>\n      <th>10001</th>\n      <td>2018-10-01</td>\n      <td>NaT</td>\n      <td>NaT</td>\n      <td>NaT</td>\n      <td>2018-10-01</td>\n      <td>NaT</td>\n      <td>2018-10-03</td>\n    </tr>\n    <tr>\n      <th>10002</th>\n      <td>2018-10-01</td>\n      <td>2018-10-17</td>\n      <td>2018-10-12</td>\n      <td>2018-10-12</td>\n      <td>2018-10-01</td>\n      <td>2018-10-20</td>\n      <td>NaT</td>\n    </tr>\n    <tr>\n      <th>10006</th>\n      <td>2018-10-01</td>\n      <td>NaT</td>\n      <td>NaT</td>\n      <td>NaT</td>\n      <td>2018-10-01</td>\n      <td>NaT</td>\n      <td>NaT</td>\n    </tr>\n    <tr>\n      <th>10007</th>\n      <td>2018-10-01</td>\n      <td>2018-10-11</td>\n      <td>2018-10-07</td>\n      <td>2018-10-07</td>\n      <td>2018-10-02</td>\n      <td>2018-10-14</td>\n      <td>NaT</td>\n    </tr>\n    <tr>\n      <th>10008</th>\n      <td>2018-10-01</td>\n      <td>NaT</td>\n      <td>NaT</td>\n      <td>NaT</td>\n      <td>2018-10-02</td>\n      <td>NaT</td>\n      <td>NaT</td>\n    </tr>\n    <tr>\n      <th>...</th>\n      <th>...</th>\n      <td>...</td>\n      <td>...</td>\n      <td>...</td>\n      <td>...</td>\n      <td>...</td>\n      <td>...</td>\n      <td>...</td>\n    </tr>\n    <tr>\n      <th rowspan=\"5\" valign=\"top\">treatment</th>\n      <th>31684</th>\n      <td>2018-11-11</td>\n      <td>NaT</td>\n      <td>2018-11-11</td>\n      <td>NaT</td>\n      <td>2018-11-11</td>\n      <td>NaT</td>\n      <td>NaT</td>\n    </tr>\n    <tr>\n      <th>31686</th>\n      <td>2018-11-11</td>\n      <td>NaT</td>\n      <td>2018-11-11</td>\n      <td>NaT</td>\n      <td>2018-11-11</td>\n      <td>NaT</td>\n      <td>NaT</td>\n    </tr>\n    <tr>\n      <th>31687</th>\n      <td>2018-11-11</td>\n      <td>NaT</td>\n      <td>2018-11-11</td>\n      <td>NaT</td>\n      <td>2018-11-11</td>\n      <td>NaT</td>\n      <td>NaT</td>\n    </tr>\n    <tr>\n      <th>31689</th>\n      <td>2018-11-11</td>\n      <td>NaT</td>\n      <td>2018-11-11</td>\n      <td>NaT</td>\n      <td>2018-11-11</td>\n      <td>NaT</td>\n      <td>NaT</td>\n    </tr>\n    <tr>\n      <th>31691</th>\n      <td>2018-11-11</td>\n      <td>NaT</td>\n      <td>2018-11-11</td>\n      <td>NaT</td>\n      <td>NaT</td>\n      <td>NaT</td>\n      <td>NaT</td>\n    </tr>\n  </tbody>\n</table>\n<p>21698 rows × 7 columns</p>\n</div>"
     },
     "execution_count": 453,
     "metadata": {},
     "output_type": "execute_result"
    }
   ],
   "source": [
    "# transpose the dataset by group and applicant_id to check the duration of each step\n",
    "\n",
    "df_transpose = df.pivot_table(index=['group', 'applicant_id'],\n",
    "                              columns='event',\n",
    "                              values='event_date',\n",
    "                              aggfunc='max')\n",
    "\n",
    "# df_transpose.reset_index()\n",
    "df_transpose"
   ]
  },
  {
   "cell_type": "code",
   "execution_count": 454,
   "metadata": {
    "ExecuteTime": {
     "end_time": "2023-08-20T13:47:46.687790Z",
     "start_time": "2023-08-20T13:47:45.795451Z"
    }
   },
   "outputs": [
    {
     "data": {
      "text/plain": "array(['control', 'treatment'], dtype=object)"
     },
     "execution_count": 454,
     "metadata": {},
     "output_type": "execute_result"
    }
   ],
   "source": [
    "df.group.unique()"
   ]
  },
  {
   "cell_type": "code",
   "execution_count": 455,
   "metadata": {
    "ExecuteTime": {
     "end_time": "2023-08-20T13:47:46.688011Z",
     "start_time": "2023-08-20T13:47:45.802761Z"
    }
   },
   "outputs": [
    {
     "data": {
      "text/plain": "event      group  applicant_id application_date  \\\n0        control         10001       2018-10-01   \n1        control         10002       2018-10-01   \n2        control         10006       2018-10-01   \n3        control         10007       2018-10-01   \n4        control         10008       2018-10-01   \n...          ...           ...              ...   \n21693  treatment         31684       2018-11-11   \n21694  treatment         31686       2018-11-11   \n21695  treatment         31687       2018-11-11   \n21696  treatment         31689       2018-11-11   \n21697  treatment         31691       2018-11-11   \n\nevent background_check_completed_date background_check_initiated_date  \\\n0                                 NaT                             NaT   \n1                          2018-10-17                      2018-10-12   \n2                                 NaT                             NaT   \n3                          2018-10-11                      2018-10-07   \n4                                 NaT                             NaT   \n...                               ...                             ...   \n21693                             NaT                      2018-11-11   \n21694                             NaT                      2018-11-11   \n21695                             NaT                      2018-11-11   \n21696                             NaT                      2018-11-11   \n21697                             NaT                      2018-11-11   \n\nevent card_activation_date card_mailed_date first_batch_completed_date  \\\n0                      NaT       2018-10-01                        NaT   \n1               2018-10-12       2018-10-01                 2018-10-20   \n2                      NaT       2018-10-01                        NaT   \n3               2018-10-07       2018-10-02                 2018-10-14   \n4                      NaT       2018-10-02                        NaT   \n...                    ...              ...                        ...   \n21693                  NaT       2018-11-11                        NaT   \n21694                  NaT       2018-11-11                        NaT   \n21695                  NaT       2018-11-11                        NaT   \n21696                  NaT       2018-11-11                        NaT   \n21697                  NaT              NaT                        NaT   \n\nevent orientation_completed_date  \n0                     2018-10-03  \n1                            NaT  \n2                            NaT  \n3                            NaT  \n4                            NaT  \n...                          ...  \n21693                        NaT  \n21694                        NaT  \n21695                        NaT  \n21696                        NaT  \n21697                        NaT  \n\n[21698 rows x 9 columns]",
      "text/html": "<div>\n<style scoped>\n    .dataframe tbody tr th:only-of-type {\n        vertical-align: middle;\n    }\n\n    .dataframe tbody tr th {\n        vertical-align: top;\n    }\n\n    .dataframe thead th {\n        text-align: right;\n    }\n</style>\n<table border=\"1\" class=\"dataframe\">\n  <thead>\n    <tr style=\"text-align: right;\">\n      <th>event</th>\n      <th>group</th>\n      <th>applicant_id</th>\n      <th>application_date</th>\n      <th>background_check_completed_date</th>\n      <th>background_check_initiated_date</th>\n      <th>card_activation_date</th>\n      <th>card_mailed_date</th>\n      <th>first_batch_completed_date</th>\n      <th>orientation_completed_date</th>\n    </tr>\n  </thead>\n  <tbody>\n    <tr>\n      <th>0</th>\n      <td>control</td>\n      <td>10001</td>\n      <td>2018-10-01</td>\n      <td>NaT</td>\n      <td>NaT</td>\n      <td>NaT</td>\n      <td>2018-10-01</td>\n      <td>NaT</td>\n      <td>2018-10-03</td>\n    </tr>\n    <tr>\n      <th>1</th>\n      <td>control</td>\n      <td>10002</td>\n      <td>2018-10-01</td>\n      <td>2018-10-17</td>\n      <td>2018-10-12</td>\n      <td>2018-10-12</td>\n      <td>2018-10-01</td>\n      <td>2018-10-20</td>\n      <td>NaT</td>\n    </tr>\n    <tr>\n      <th>2</th>\n      <td>control</td>\n      <td>10006</td>\n      <td>2018-10-01</td>\n      <td>NaT</td>\n      <td>NaT</td>\n      <td>NaT</td>\n      <td>2018-10-01</td>\n      <td>NaT</td>\n      <td>NaT</td>\n    </tr>\n    <tr>\n      <th>3</th>\n      <td>control</td>\n      <td>10007</td>\n      <td>2018-10-01</td>\n      <td>2018-10-11</td>\n      <td>2018-10-07</td>\n      <td>2018-10-07</td>\n      <td>2018-10-02</td>\n      <td>2018-10-14</td>\n      <td>NaT</td>\n    </tr>\n    <tr>\n      <th>4</th>\n      <td>control</td>\n      <td>10008</td>\n      <td>2018-10-01</td>\n      <td>NaT</td>\n      <td>NaT</td>\n      <td>NaT</td>\n      <td>2018-10-02</td>\n      <td>NaT</td>\n      <td>NaT</td>\n    </tr>\n    <tr>\n      <th>...</th>\n      <td>...</td>\n      <td>...</td>\n      <td>...</td>\n      <td>...</td>\n      <td>...</td>\n      <td>...</td>\n      <td>...</td>\n      <td>...</td>\n      <td>...</td>\n    </tr>\n    <tr>\n      <th>21693</th>\n      <td>treatment</td>\n      <td>31684</td>\n      <td>2018-11-11</td>\n      <td>NaT</td>\n      <td>2018-11-11</td>\n      <td>NaT</td>\n      <td>2018-11-11</td>\n      <td>NaT</td>\n      <td>NaT</td>\n    </tr>\n    <tr>\n      <th>21694</th>\n      <td>treatment</td>\n      <td>31686</td>\n      <td>2018-11-11</td>\n      <td>NaT</td>\n      <td>2018-11-11</td>\n      <td>NaT</td>\n      <td>2018-11-11</td>\n      <td>NaT</td>\n      <td>NaT</td>\n    </tr>\n    <tr>\n      <th>21695</th>\n      <td>treatment</td>\n      <td>31687</td>\n      <td>2018-11-11</td>\n      <td>NaT</td>\n      <td>2018-11-11</td>\n      <td>NaT</td>\n      <td>2018-11-11</td>\n      <td>NaT</td>\n      <td>NaT</td>\n    </tr>\n    <tr>\n      <th>21696</th>\n      <td>treatment</td>\n      <td>31689</td>\n      <td>2018-11-11</td>\n      <td>NaT</td>\n      <td>2018-11-11</td>\n      <td>NaT</td>\n      <td>2018-11-11</td>\n      <td>NaT</td>\n      <td>NaT</td>\n    </tr>\n    <tr>\n      <th>21697</th>\n      <td>treatment</td>\n      <td>31691</td>\n      <td>2018-11-11</td>\n      <td>NaT</td>\n      <td>2018-11-11</td>\n      <td>NaT</td>\n      <td>NaT</td>\n      <td>NaT</td>\n      <td>NaT</td>\n    </tr>\n  </tbody>\n</table>\n<p>21698 rows × 9 columns</p>\n</div>"
     },
     "execution_count": 455,
     "metadata": {},
     "output_type": "execute_result"
    }
   ],
   "source": [
    "df_transpose = df_transpose.reset_index()\n",
    "df_transpose"
   ]
  },
  {
   "cell_type": "markdown",
   "metadata": {},
   "source": [
    "### Plot the duration time"
   ]
  },
  {
   "cell_type": "code",
   "execution_count": 456,
   "metadata": {
    "ExecuteTime": {
     "end_time": "2023-08-20T13:47:46.717965Z",
     "start_time": "2023-08-20T13:47:45.816022Z"
    }
   },
   "outputs": [
    {
     "data": {
      "text/plain": "<Figure size 1200x800 with 1 Axes>",
      "image/png": "[encoded data removed]"
     },
     "metadata": {},
     "output_type": "display_data"
    }
   ],
   "source": [
    "# What's the distribution of the duration of the days between application_date to first_batch_completed_date\n",
    "\n",
    "plt.figure(figsize=(12, 8), dpi=100)\n",
    "duration = (df_transpose['first_batch_completed_date'] - df_transpose['application_date'])\n",
    "\n",
    "sns.histplot(duration[duration.notna()].dt.days,\n",
    "             kde=True,\n",
    "             cumulative=True\n",
    "             )\n",
    "\n",
    "plt.xlabel('Duration of the Days')\n",
    "plt.ylabel('Cumulative Distribution')\n",
    "plt.title('Duration Cumulative Distribution')\n",
    "\n",
    "plt.show()"
   ]
  },
  {
   "cell_type": "code",
   "execution_count": 498,
   "metadata": {
    "ExecuteTime": {
     "end_time": "2023-08-20T14:51:05.481044Z",
     "start_time": "2023-08-20T14:51:05.348954Z"
    }
   },
   "outputs": [
    {
     "data": {
      "text/plain": "<Figure size 1200x800 with 1 Axes>",
      "image/png": "[encoded data removed]"
     },
     "metadata": {},
     "output_type": "display_data"
    }
   ],
   "source": [
    "# Plot the duration histogram\n",
    "\n",
    "plt.figure(figsize=(12, 8), dpi=100)\n",
    "sns.histplot(duration[duration.notna()].dt.days,\n",
    "             kde=True,\n",
    "             cumulative=False,\n",
    "             bins=50\n",
    "             )\n",
    "\n",
    "# add a 90% line and 80% line\n",
    "\n",
    "plt.axvline(x=duration[duration.notna()].dt.days.quantile(0.9), color='red', linestyle='--')\n",
    "plt.axvline(x=duration[duration.notna()].dt.days.quantile(0.8), color='green', linestyle='--')\n",
    "\n",
    "plt.xlim(0, 30)\n",
    "\n",
    "plt.xlabel('Duration of the Days')\n",
    "plt.ylabel('Distribution')\n",
    "plt.title('Duration Distribution')\n",
    "\n",
    "plt.show()"
   ]
  },
  {
   "cell_type": "code",
   "execution_count": 458,
   "metadata": {
    "ExecuteTime": {
     "end_time": "2023-08-20T13:47:46.718221Z",
     "start_time": "2023-08-20T13:47:46.204730Z"
    }
   },
   "outputs": [],
   "source": [
    "# Plot the duration histogram of control group\n",
    "duration_control = (df_transpose[df_transpose.group == 'control']['first_batch_completed_date'] -\n",
    "                    df_transpose[df_transpose.group == 'control']['application_date'])"
   ]
  },
  {
   "cell_type": "code",
   "execution_count": 459,
   "metadata": {
    "ExecuteTime": {
     "end_time": "2023-08-20T13:47:46.718286Z",
     "start_time": "2023-08-20T13:47:46.210287Z"
    }
   },
   "outputs": [
    {
     "data": {
      "text/plain": "<Figure size 1200x800 with 1 Axes>",
      "image/png": "[encoded data removed]"
     },
     "metadata": {},
     "output_type": "display_data"
    }
   ],
   "source": [
    "plt.figure(figsize=(12, 8), dpi=100)\n",
    "\n",
    "sns.histplot(duration_control[duration_control.notna()].dt.days,\n",
    "             kde=True,\n",
    "             cumulative=False,\n",
    "             bins=50\n",
    "             )\n",
    "\n",
    "plt.xlabel('Duration of the Days')\n",
    "plt.ylabel('Distribution')\n",
    "plt.title('Control Group Duration Distribution')\n",
    "\n",
    "plt.show()"
   ]
  },
  {
   "cell_type": "code",
   "execution_count": 460,
   "metadata": {
    "ExecuteTime": {
     "end_time": "2023-08-20T13:47:46.718541Z",
     "start_time": "2023-08-20T13:47:46.330214Z"
    }
   },
   "outputs": [
    {
     "data": {
      "text/plain": "<Figure size 1200x800 with 1 Axes>",
      "image/png": "[encoded data removed]"
     },
     "metadata": {},
     "output_type": "display_data"
    }
   ],
   "source": [
    "plt.figure(figsize=(12, 8), dpi=100)\n",
    "duration_treatment = (df_transpose[df_transpose.group == 'treatment']['first_batch_completed_date'] -\n",
    "                      df_transpose[df_transpose.group == 'treatment']['application_date'])\n",
    "\n",
    "sns.histplot(duration_treatment[duration_treatment.notna()].dt.days,\n",
    "             kde=True,\n",
    "             cumulative=False,\n",
    "             bins=50\n",
    "             )\n",
    "\n",
    "plt.xlabel('Duration of the Days')\n",
    "plt.ylabel('Distribution')\n",
    "plt.title('Treatment Group Duration Distribution')\n",
    "\n",
    "plt.show()\n"
   ]
  },
  {
   "cell_type": "code",
   "execution_count": 461,
   "metadata": {
    "ExecuteTime": {
     "end_time": "2023-08-20T13:47:46.848331Z",
     "start_time": "2023-08-20T13:47:46.448256Z"
    }
   },
   "outputs": [
    {
     "data": {
      "text/plain": "<Figure size 1200x800 with 1 Axes>",
      "image/png": "[encoded data removed]"
     },
     "metadata": {},
     "output_type": "display_data"
    }
   ],
   "source": [
    "# Plot the duration histogram of control group and treatment group\n",
    "\n",
    "plt.figure(figsize=(12, 8), dpi=100)\n",
    "\n",
    "sns.histplot(duration_control[duration_control.notna()].dt.days,\n",
    "             kde=True,\n",
    "             cumulative=False,\n",
    "             bins=50,\n",
    "             label='control'\n",
    "             )\n",
    "\n",
    "sns.histplot(duration_treatment[duration_treatment.notna()].dt.days,\n",
    "             kde=True,\n",
    "             cumulative=False,\n",
    "             bins=50,\n",
    "             label='treatment'\n",
    "             )\n",
    "\n",
    "plt.xlabel('Duration of the Days')\n",
    "plt.ylabel('Distribution')\n",
    "plt.title('Control Group and Treatment Group Duration Distribution')\n",
    "\n",
    "plt.legend()\n",
    "\n",
    "plt.show()\n",
    "\n",
    "# from the duration distribution, we can see that the duration of treatment group is shorter than control group, which means the treatment group has a higher converstion rate than control group."
   ]
  },
  {
   "cell_type": "markdown",
   "metadata": {},
   "source": [
    "## Population"
   ]
  },
  {
   "cell_type": "code",
   "execution_count": 462,
   "metadata": {
    "ExecuteTime": {
     "end_time": "2023-08-20T13:47:46.848455Z",
     "start_time": "2023-08-20T13:47:46.631958Z"
    }
   },
   "outputs": [],
   "source": [
    "# Defind the conversion windows\n",
    "\n",
    "# The whole process is from application_date -> first_batch_completed_date\n",
    "# and we define the application date range from [2018-10-01 00:00:00, 2018-10-31 00:00:00]\n",
    "# because the 80% -> duration 11 days, so we can define the conversion window as 11 days\n",
    "\n",
    "qualified_applicant_id = pd.DataFrame(df.loc[(df['event'] == 'application_date')\n",
    "                                             & (df['event_date'] <= '2018-10-31'), 'applicant_id'].unique())\n",
    "\n",
    "qualified_applicant_id.columns = ['qualified_applicant_id']\n",
    "\n",
    "# we pick the applicant_id who applied before 2018-10-31"
   ]
  },
  {
   "cell_type": "code",
   "execution_count": 463,
   "metadata": {
    "ExecuteTime": {
     "end_time": "2023-08-20T13:47:46.848802Z",
     "start_time": "2023-08-20T13:47:46.636669Z"
    }
   },
   "outputs": [
    {
     "data": {
      "text/plain": "  qualified_applicant_id\n0                  10001\n1                  10002\n2                  10003\n3                  10004\n4                  10005",
      "text/html": "<div>\n<style scoped>\n    .dataframe tbody tr th:only-of-type {\n        vertical-align: middle;\n    }\n\n    .dataframe tbody tr th {\n        vertical-align: top;\n    }\n\n    .dataframe thead th {\n        text-align: right;\n    }\n</style>\n<table border=\"1\" class=\"dataframe\">\n  <thead>\n    <tr style=\"text-align: right;\">\n      <th></th>\n      <th>qualified_applicant_id</th>\n    </tr>\n  </thead>\n  <tbody>\n    <tr>\n      <th>0</th>\n      <td>10001</td>\n    </tr>\n    <tr>\n      <th>1</th>\n      <td>10002</td>\n    </tr>\n    <tr>\n      <th>2</th>\n      <td>10003</td>\n    </tr>\n    <tr>\n      <th>3</th>\n      <td>10004</td>\n    </tr>\n    <tr>\n      <th>4</th>\n      <td>10005</td>\n    </tr>\n  </tbody>\n</table>\n</div>"
     },
     "execution_count": 463,
     "metadata": {},
     "output_type": "execute_result"
    }
   ],
   "source": [
    "qualified_applicant_id.head()"
   ]
  },
  {
   "cell_type": "code",
   "execution_count": 464,
   "metadata": {
    "ExecuteTime": {
     "end_time": "2023-08-20T13:47:46.849205Z",
     "start_time": "2023-08-20T13:47:46.642784Z"
    }
   },
   "outputs": [
    {
     "data": {
      "text/plain": "14982"
     },
     "execution_count": 464,
     "metadata": {},
     "output_type": "execute_result"
    }
   ],
   "source": [
    "qualified_applicant_id.shape[0]\n",
    "\n",
    "# There are 14982 qualified applicant_id"
   ]
  },
  {
   "cell_type": "code",
   "execution_count": 465,
   "metadata": {
    "ExecuteTime": {
     "end_time": "2023-08-20T13:47:46.849533Z",
     "start_time": "2023-08-20T13:47:46.650859Z"
    }
   },
   "outputs": [
    {
     "data": {
      "text/plain": "  applicant_id            channel    group     city  \\\n0        10001  web-search-engine  control   Asgard   \n1        10001  web-search-engine  control   Asgard   \n2        10001  web-search-engine  control   Asgard   \n3        10002       social-media  control  Midgard   \n4        10002       social-media  control  Midgard   \n\n                        event event_date qualified_applicant_id  \n0            application_date 2018-10-01                  10001  \n1            card_mailed_date 2018-10-01                  10001  \n2  orientation_completed_date 2018-10-03                  10001  \n3            application_date 2018-10-01                  10002  \n4            card_mailed_date 2018-10-01                  10002  ",
      "text/html": "<div>\n<style scoped>\n    .dataframe tbody tr th:only-of-type {\n        vertical-align: middle;\n    }\n\n    .dataframe tbody tr th {\n        vertical-align: top;\n    }\n\n    .dataframe thead th {\n        text-align: right;\n    }\n</style>\n<table border=\"1\" class=\"dataframe\">\n  <thead>\n    <tr style=\"text-align: right;\">\n      <th></th>\n      <th>applicant_id</th>\n      <th>channel</th>\n      <th>group</th>\n      <th>city</th>\n      <th>event</th>\n      <th>event_date</th>\n      <th>qualified_applicant_id</th>\n    </tr>\n  </thead>\n  <tbody>\n    <tr>\n      <th>0</th>\n      <td>10001</td>\n      <td>web-search-engine</td>\n      <td>control</td>\n      <td>Asgard</td>\n      <td>application_date</td>\n      <td>2018-10-01</td>\n      <td>10001</td>\n    </tr>\n    <tr>\n      <th>1</th>\n      <td>10001</td>\n      <td>web-search-engine</td>\n      <td>control</td>\n      <td>Asgard</td>\n      <td>card_mailed_date</td>\n      <td>2018-10-01</td>\n      <td>10001</td>\n    </tr>\n    <tr>\n      <th>2</th>\n      <td>10001</td>\n      <td>web-search-engine</td>\n      <td>control</td>\n      <td>Asgard</td>\n      <td>orientation_completed_date</td>\n      <td>2018-10-03</td>\n      <td>10001</td>\n    </tr>\n    <tr>\n      <th>3</th>\n      <td>10002</td>\n      <td>social-media</td>\n      <td>control</td>\n      <td>Midgard</td>\n      <td>application_date</td>\n      <td>2018-10-01</td>\n      <td>10002</td>\n    </tr>\n    <tr>\n      <th>4</th>\n      <td>10002</td>\n      <td>social-media</td>\n      <td>control</td>\n      <td>Midgard</td>\n      <td>card_mailed_date</td>\n      <td>2018-10-01</td>\n      <td>10002</td>\n    </tr>\n  </tbody>\n</table>\n</div>"
     },
     "execution_count": 465,
     "metadata": {},
     "output_type": "execute_result"
    }
   ],
   "source": [
    "# filter out who are not qualified in this experiment\n",
    "\n",
    "\n",
    "df = df.merge(qualified_applicant_id, left_on='applicant_id', right_on='qualified_applicant_id',\n",
    "              how='inner').reset_index(drop=True)\n",
    "\n",
    "df.head()"
   ]
  },
  {
   "cell_type": "code",
   "execution_count": 466,
   "metadata": {
    "ExecuteTime": {
     "end_time": "2023-08-20T13:47:46.924391Z",
     "start_time": "2023-08-20T13:47:46.701715Z"
    }
   },
   "outputs": [
    {
     "name": "stdout",
     "output_type": "stream",
     "text": [
      "<class 'pandas.core.frame.DataFrame'>\n",
      "RangeIndex: 81875 entries, 0 to 81874\n",
      "Data columns (total 7 columns):\n",
      " #   Column                  Non-Null Count  Dtype         \n",
      "---  ------                  --------------  -----         \n",
      " 0   applicant_id            81875 non-null  object        \n",
      " 1   channel                 81875 non-null  object        \n",
      " 2   group                   81875 non-null  object        \n",
      " 3   city                    81875 non-null  object        \n",
      " 4   event                   81875 non-null  object        \n",
      " 5   event_date              81875 non-null  datetime64[ns]\n",
      " 6   qualified_applicant_id  81875 non-null  object        \n",
      "dtypes: datetime64[ns](1), object(6)\n",
      "memory usage: 4.4+ MB\n"
     ]
    }
   ],
   "source": [
    "df.info()"
   ]
  },
  {
   "cell_type": "code",
   "execution_count": 467,
   "metadata": {
    "ExecuteTime": {
     "end_time": "2023-08-20T13:47:46.924710Z",
     "start_time": "2023-08-20T13:47:46.708720Z"
    }
   },
   "outputs": [
    {
     "data": {
      "text/plain": "  applicant_id            channel    group     city  \\\n0        10001  web-search-engine  control   Asgard   \n1        10001  web-search-engine  control   Asgard   \n2        10001  web-search-engine  control   Asgard   \n3        10002       social-media  control  Midgard   \n4        10002       social-media  control  Midgard   \n\n                        event event_date  \n0            application_date 2018-10-01  \n1            card_mailed_date 2018-10-01  \n2  orientation_completed_date 2018-10-03  \n3            application_date 2018-10-01  \n4            card_mailed_date 2018-10-01  ",
      "text/html": "<div>\n<style scoped>\n    .dataframe tbody tr th:only-of-type {\n        vertical-align: middle;\n    }\n\n    .dataframe tbody tr th {\n        vertical-align: top;\n    }\n\n    .dataframe thead th {\n        text-align: right;\n    }\n</style>\n<table border=\"1\" class=\"dataframe\">\n  <thead>\n    <tr style=\"text-align: right;\">\n      <th></th>\n      <th>applicant_id</th>\n      <th>channel</th>\n      <th>group</th>\n      <th>city</th>\n      <th>event</th>\n      <th>event_date</th>\n    </tr>\n  </thead>\n  <tbody>\n    <tr>\n      <th>0</th>\n      <td>10001</td>\n      <td>web-search-engine</td>\n      <td>control</td>\n      <td>Asgard</td>\n      <td>application_date</td>\n      <td>2018-10-01</td>\n    </tr>\n    <tr>\n      <th>1</th>\n      <td>10001</td>\n      <td>web-search-engine</td>\n      <td>control</td>\n      <td>Asgard</td>\n      <td>card_mailed_date</td>\n      <td>2018-10-01</td>\n    </tr>\n    <tr>\n      <th>2</th>\n      <td>10001</td>\n      <td>web-search-engine</td>\n      <td>control</td>\n      <td>Asgard</td>\n      <td>orientation_completed_date</td>\n      <td>2018-10-03</td>\n    </tr>\n    <tr>\n      <th>3</th>\n      <td>10002</td>\n      <td>social-media</td>\n      <td>control</td>\n      <td>Midgard</td>\n      <td>application_date</td>\n      <td>2018-10-01</td>\n    </tr>\n    <tr>\n      <th>4</th>\n      <td>10002</td>\n      <td>social-media</td>\n      <td>control</td>\n      <td>Midgard</td>\n      <td>card_mailed_date</td>\n      <td>2018-10-01</td>\n    </tr>\n  </tbody>\n</table>\n</div>"
     },
     "execution_count": 467,
     "metadata": {},
     "output_type": "execute_result"
    }
   ],
   "source": [
    "df = df[['applicant_id', 'channel', 'group', 'city', 'event', 'event_date']]\n",
    "\n",
    "df.head()"
   ]
  },
  {
   "cell_type": "code",
   "execution_count": 468,
   "metadata": {
    "ExecuteTime": {
     "end_time": "2023-08-20T13:47:46.961858Z",
     "start_time": "2023-08-20T13:47:46.720436Z"
    }
   },
   "outputs": [
    {
     "data": {
      "text/plain": "                                         applicant_id\ngroup   event                                        \ncontrol application_date                        10024\n        card_mailed_date                        10024\n        background_check_initiated_date          8582\n        card_activation_date                     8582\n        background_check_completed_date          8465\n        orientation_completed_date               4370\n        first_batch_completed_date               2678",
      "text/html": "<div>\n<style scoped>\n    .dataframe tbody tr th:only-of-type {\n        vertical-align: middle;\n    }\n\n    .dataframe tbody tr th {\n        vertical-align: top;\n    }\n\n    .dataframe thead th {\n        text-align: right;\n    }\n</style>\n<table border=\"1\" class=\"dataframe\">\n  <thead>\n    <tr style=\"text-align: right;\">\n      <th></th>\n      <th></th>\n      <th>applicant_id</th>\n    </tr>\n    <tr>\n      <th>group</th>\n      <th>event</th>\n      <th></th>\n    </tr>\n  </thead>\n  <tbody>\n    <tr>\n      <th rowspan=\"7\" valign=\"top\">control</th>\n      <th>application_date</th>\n      <td>10024</td>\n    </tr>\n    <tr>\n      <th>card_mailed_date</th>\n      <td>10024</td>\n    </tr>\n    <tr>\n      <th>background_check_initiated_date</th>\n      <td>8582</td>\n    </tr>\n    <tr>\n      <th>card_activation_date</th>\n      <td>8582</td>\n    </tr>\n    <tr>\n      <th>background_check_completed_date</th>\n      <td>8465</td>\n    </tr>\n    <tr>\n      <th>orientation_completed_date</th>\n      <td>4370</td>\n    </tr>\n    <tr>\n      <th>first_batch_completed_date</th>\n      <td>2678</td>\n    </tr>\n  </tbody>\n</table>\n</div>"
     },
     "execution_count": 468,
     "metadata": {},
     "output_type": "execute_result"
    }
   ],
   "source": [
    "# check convertsion funnel\n",
    "\n",
    "df_control_converstion = df[df['group'] == 'control'].groupby(['group', 'event']).applicant_id.nunique().sort_values(\n",
    "    ascending=False)\n",
    "\n",
    "df_control_converstion = df_control_converstion.to_frame()\n",
    "\n",
    "df_control_converstion"
   ]
  },
  {
   "cell_type": "code",
   "execution_count": 469,
   "metadata": {
    "ExecuteTime": {
     "end_time": "2023-08-20T13:47:46.962286Z",
     "start_time": "2023-08-20T13:47:46.736181Z"
    }
   },
   "outputs": [
    {
     "data": {
      "application/vnd.plotly.v1+json": {
       "data": [
        {
         "name": "control",
         "textinfo": "value+percent initial",
         "x": [
          10024,
          10024,
          8582,
          8582,
          8465,
          4370,
          2678
         ],
         "y": [
          "application_date",
          "card_mailed_date",
          "background_check_initiated_date",
          "card_activation_date",
          "background_check_completed_date",
          "orientation_completed_date",
          "first_batch_completed_date"
         ],
         "type": "funnel"
        }
       ],
       "layout": {
        "template": {
         "data": {
          "histogram2dcontour": [
           {
            "type": "histogram2dcontour",
            "colorbar": {
             "outlinewidth": 0,
             "ticks": ""
            },
            "colorscale": [
             [
              0.0,
              "#0d0887"
             ],
             [
              0.1111111111111111,
              "#46039f"
             ],
             [
              0.2222222222222222,
              "#7201a8"
             ],
             [
              0.3333333333333333,
              "#9c179e"
             ],
             [
              0.4444444444444444,
              "#bd3786"
             ],
             [
              0.5555555555555556,
              "#d8576b"
             ],
             [
              0.6666666666666666,
              "#ed7953"
             ],
             [
              0.7777777777777778,
              "#fb9f3a"
             ],
             [
              0.8888888888888888,
              "#fdca26"
             ],
             [
              1.0,
              "#f0f921"
             ]
            ]
           }
          ],
          "choropleth": [
           {
            "type": "choropleth",
            "colorbar": {
             "outlinewidth": 0,
             "ticks": ""
            }
           }
          ],
          "histogram2d": [
           {
            "type": "histogram2d",
            "colorbar": {
             "outlinewidth": 0,
             "ticks": ""
            },
            "colorscale": [
             [
              0.0,
              "#0d0887"
             ],
             [
              0.1111111111111111,
              "#46039f"
             ],
             [
              0.2222222222222222,
              "#7201a8"
             ],
             [
              0.3333333333333333,
              "#9c179e"
             ],
             [
              0.4444444444444444,
              "#bd3786"
             ],
             [
              0.5555555555555556,
              "#d8576b"
             ],
             [
              0.6666666666666666,
              "#ed7953"
             ],
             [
              0.7777777777777778,
              "#fb9f3a"
             ],
             [
              0.8888888888888888,
              "#fdca26"
             ],
             [
              1.0,
              "#f0f921"
             ]
            ]
           }
          ],
          "heatmap": [
           {
            "type": "heatmap",
            "colorbar": {
             "outlinewidth": 0,
             "ticks": ""
            },
            "colorscale": [
             [
              0.0,
              "#0d0887"
             ],
             [
              0.1111111111111111,
              "#46039f"
             ],
             [
              0.2222222222222222,
              "#7201a8"
             ],
             [
              0.3333333333333333,
              "#9c179e"
             ],
             [
              0.4444444444444444,
              "#bd3786"
             ],
             [
              0.5555555555555556,
              "#d8576b"
             ],
             [
              0.6666666666666666,
              "#ed7953"
             ],
             [
              0.7777777777777778,
              "#fb9f3a"
             ],
             [
              0.8888888888888888,
              "#fdca26"
             ],
             [
              1.0,
              "#f0f921"
             ]
            ]
           }
          ],
          "heatmapgl": [
           {
            "type": "heatmapgl",
            "colorbar": {
             "outlinewidth": 0,
             "ticks": ""
            },
            "colorscale": [
             [
              0.0,
              "#0d0887"
             ],
             [
              0.1111111111111111,
              "#46039f"
             ],
             [
              0.2222222222222222,
              "#7201a8"
             ],
             [
              0.3333333333333333,
              "#9c179e"
             ],
             [
              0.4444444444444444,
              "#bd3786"
             ],
             [
              0.5555555555555556,
              "#d8576b"
             ],
             [
              0.6666666666666666,
              "#ed7953"
             ],
             [
              0.7777777777777778,
              "#fb9f3a"
             ],
             [
              0.8888888888888888,
              "#fdca26"
             ],
             [
              1.0,
              "#f0f921"
             ]
            ]
           }
          ],
          "contourcarpet": [
           {
            "type": "contourcarpet",
            "colorbar": {
             "outlinewidth": 0,
             "ticks": ""
            }
           }
          ],
          "contour": [
           {
            "type": "contour",
            "colorbar": {
             "outlinewidth": 0,
             "ticks": ""
            },
            "colorscale": [
             [
              0.0,
              "#0d0887"
             ],
             [
              0.1111111111111111,
              "#46039f"
             ],
             [
              0.2222222222222222,
              "#7201a8"
             ],
             [
              0.3333333333333333,
              "#9c179e"
             ],
             [
              0.4444444444444444,
              "#bd3786"
             ],
             [
              0.5555555555555556,
              "#d8576b"
             ],
             [
              0.6666666666666666,
              "#ed7953"
             ],
             [
              0.7777777777777778,
              "#fb9f3a"
             ],
             [
              0.8888888888888888,
              "#fdca26"
             ],
             [
              1.0,
              "#f0f921"
             ]
            ]
           }
          ],
          "surface": [
           {
            "type": "surface",
            "colorbar": {
             "outlinewidth": 0,
             "ticks": ""
            },
            "colorscale": [
             [
              0.0,
              "#0d0887"
             ],
             [
              0.1111111111111111,
              "#46039f"
             ],
             [
              0.2222222222222222,
              "#7201a8"
             ],
             [
              0.3333333333333333,
              "#9c179e"
             ],
             [
              0.4444444444444444,
              "#bd3786"
             ],
             [
              0.5555555555555556,
              "#d8576b"
             ],
             [
              0.6666666666666666,
              "#ed7953"
             ],
             [
              0.7777777777777778,
              "#fb9f3a"
             ],
             [
              0.8888888888888888,
              "#fdca26"
             ],
             [
              1.0,
              "#f0f921"
             ]
            ]
           }
          ],
          "mesh3d": [
           {
            "type": "mesh3d",
            "colorbar": {
             "outlinewidth": 0,
             "ticks": ""
            }
           }
          ],
          "scatter": [
           {
            "fillpattern": {
             "fillmode": "overlay",
             "size": 10,
             "solidity": 0.2
            },
            "type": "scatter"
           }
          ],
          "parcoords": [
           {
            "type": "parcoords",
            "line": {
             "colorbar": {
              "outlinewidth": 0,
              "ticks": ""
             }
            }
           }
          ],
          "scatterpolargl": [
           {
            "type": "scatterpolargl",
            "marker": {
             "colorbar": {
              "outlinewidth": 0,
              "ticks": ""
             }
            }
           }
          ],
          "bar": [
           {
            "error_x": {
             "color": "#2a3f5f"
            },
            "error_y": {
             "color": "#2a3f5f"
            },
            "marker": {
             "line": {
              "color": "#E5ECF6",
              "width": 0.5
             },
             "pattern": {
              "fillmode": "overlay",
              "size": 10,
              "solidity": 0.2
             }
            },
            "type": "bar"
           }
          ],
          "scattergeo": [
           {
            "type": "scattergeo",
            "marker": {
             "colorbar": {
              "outlinewidth": 0,
              "ticks": ""
             }
            }
           }
          ],
          "scatterpolar": [
           {
            "type": "scatterpolar",
            "marker": {
             "colorbar": {
              "outlinewidth": 0,
              "ticks": ""
             }
            }
           }
          ],
          "histogram": [
           {
            "marker": {
             "pattern": {
              "fillmode": "overlay",
              "size": 10,
              "solidity": 0.2
             }
            },
            "type": "histogram"
           }
          ],
          "scattergl": [
           {
            "type": "scattergl",
            "marker": {
             "colorbar": {
              "outlinewidth": 0,
              "ticks": ""
             }
            }
           }
          ],
          "scatter3d": [
           {
            "type": "scatter3d",
            "line": {
             "colorbar": {
              "outlinewidth": 0,
              "ticks": ""
             }
            },
            "marker": {
             "colorbar": {
              "outlinewidth": 0,
              "ticks": ""
             }
            }
           }
          ],
          "scattermapbox": [
           {
            "type": "scattermapbox",
            "marker": {
             "colorbar": {
              "outlinewidth": 0,
              "ticks": ""
             }
            }
           }
          ],
          "scatterternary": [
           {
            "type": "scatterternary",
            "marker": {
             "colorbar": {
              "outlinewidth": 0,
              "ticks": ""
             }
            }
           }
          ],
          "scattercarpet": [
           {
            "type": "scattercarpet",
            "marker": {
             "colorbar": {
              "outlinewidth": 0,
              "ticks": ""
             }
            }
           }
          ],
          "carpet": [
           {
            "aaxis": {
             "endlinecolor": "#2a3f5f",
             "gridcolor": "white",
             "linecolor": "white",
             "minorgridcolor": "white",
             "startlinecolor": "#2a3f5f"
            },
            "baxis": {
             "endlinecolor": "#2a3f5f",
             "gridcolor": "white",
             "linecolor": "white",
             "minorgridcolor": "white",
             "startlinecolor": "#2a3f5f"
            },
            "type": "carpet"
           }
          ],
          "table": [
           {
            "cells": {
             "fill": {
              "color": "#EBF0F8"
             },
             "line": {
              "color": "white"
             }
            },
            "header": {
             "fill": {
              "color": "#C8D4E3"
             },
             "line": {
              "color": "white"
             }
            },
            "type": "table"
           }
          ],
          "barpolar": [
           {
            "marker": {
             "line": {
              "color": "#E5ECF6",
              "width": 0.5
             },
             "pattern": {
              "fillmode": "overlay",
              "size": 10,
              "solidity": 0.2
             }
            },
            "type": "barpolar"
           }
          ],
          "pie": [
           {
            "automargin": true,
            "type": "pie"
           }
          ]
         },
         "layout": {
          "autotypenumbers": "strict",
          "colorway": [
           "#636efa",
           "#EF553B",
           "#00cc96",
           "#ab63fa",
           "#FFA15A",
           "#19d3f3",
           "#FF6692",
           "#B6E880",
           "#FF97FF",
           "#FECB52"
          ],
          "font": {
           "color": "#2a3f5f"
          },
          "hovermode": "closest",
          "hoverlabel": {
           "align": "left"
          },
          "paper_bgcolor": "white",
          "plot_bgcolor": "#E5ECF6",
          "polar": {
           "bgcolor": "#E5ECF6",
           "angularaxis": {
            "gridcolor": "white",
            "linecolor": "white",
            "ticks": ""
           },
           "radialaxis": {
            "gridcolor": "white",
            "linecolor": "white",
            "ticks": ""
           }
          },
          "ternary": {
           "bgcolor": "#E5ECF6",
           "aaxis": {
            "gridcolor": "white",
            "linecolor": "white",
            "ticks": ""
           },
           "baxis": {
            "gridcolor": "white",
            "linecolor": "white",
            "ticks": ""
           },
           "caxis": {
            "gridcolor": "white",
            "linecolor": "white",
            "ticks": ""
           }
          },
          "coloraxis": {
           "colorbar": {
            "outlinewidth": 0,
            "ticks": ""
           }
          },
          "colorscale": {
           "sequential": [
            [
             0.0,
             "#0d0887"
            ],
            [
             0.1111111111111111,
             "#46039f"
            ],
            [
             0.2222222222222222,
             "#7201a8"
            ],
            [
             0.3333333333333333,
             "#9c179e"
            ],
            [
             0.4444444444444444,
             "#bd3786"
            ],
            [
             0.5555555555555556,
             "#d8576b"
            ],
            [
             0.6666666666666666,
             "#ed7953"
            ],
            [
             0.7777777777777778,
             "#fb9f3a"
            ],
            [
             0.8888888888888888,
             "#fdca26"
            ],
            [
             1.0,
             "#f0f921"
            ]
           ],
           "sequentialminus": [
            [
             0.0,
             "#0d0887"
            ],
            [
             0.1111111111111111,
             "#46039f"
            ],
            [
             0.2222222222222222,
             "#7201a8"
            ],
            [
             0.3333333333333333,
             "#9c179e"
            ],
            [
             0.4444444444444444,
             "#bd3786"
            ],
            [
             0.5555555555555556,
             "#d8576b"
            ],
            [
             0.6666666666666666,
             "#ed7953"
            ],
            [
             0.7777777777777778,
             "#fb9f3a"
            ],
            [
             0.8888888888888888,
             "#fdca26"
            ],
            [
             1.0,
             "#f0f921"
            ]
           ],
           "diverging": [
            [
             0,
             "#8e0152"
            ],
            [
             0.1,
             "#c51b7d"
            ],
            [
             0.2,
             "#de77ae"
            ],
            [
             0.3,
             "#f1b6da"
            ],
            [
             0.4,
             "#fde0ef"
            ],
            [
             0.5,
             "#f7f7f7"
            ],
            [
             0.6,
             "#e6f5d0"
            ],
            [
             0.7,
             "#b8e186"
            ],
            [
             0.8,
             "#7fbc41"
            ],
            [
             0.9,
             "#4d9221"
            ],
            [
             1,
             "#276419"
            ]
           ]
          },
          "xaxis": {
           "gridcolor": "white",
           "linecolor": "white",
           "ticks": "",
           "title": {
            "standoff": 15
           },
           "zerolinecolor": "white",
           "automargin": true,
           "zerolinewidth": 2
          },
          "yaxis": {
           "gridcolor": "white",
           "linecolor": "white",
           "ticks": "",
           "title": {
            "standoff": 15
           },
           "zerolinecolor": "white",
           "automargin": true,
           "zerolinewidth": 2
          },
          "scene": {
           "xaxis": {
            "backgroundcolor": "#E5ECF6",
            "gridcolor": "white",
            "linecolor": "white",
            "showbackground": true,
            "ticks": "",
            "zerolinecolor": "white",
            "gridwidth": 2
           },
           "yaxis": {
            "backgroundcolor": "#E5ECF6",
            "gridcolor": "white",
            "linecolor": "white",
            "showbackground": true,
            "ticks": "",
            "zerolinecolor": "white",
            "gridwidth": 2
           },
           "zaxis": {
            "backgroundcolor": "#E5ECF6",
            "gridcolor": "white",
            "linecolor": "white",
            "showbackground": true,
            "ticks": "",
            "zerolinecolor": "white",
            "gridwidth": 2
           }
          },
          "shapedefaults": {
           "line": {
            "color": "#2a3f5f"
           }
          },
          "annotationdefaults": {
           "arrowcolor": "#2a3f5f",
           "arrowhead": 0,
           "arrowwidth": 1
          },
          "geo": {
           "bgcolor": "white",
           "landcolor": "#E5ECF6",
           "subunitcolor": "white",
           "showland": true,
           "showlakes": true,
           "lakecolor": "white"
          },
          "title": {
           "x": 0.05
          },
          "mapbox": {
           "style": "light"
          }
         }
        }
       },
       "config": {
        "plotlyServerURL": "https://plot.ly"
       }
      },
      "text/html": "<div>                            <div id=\"c1a1c7d7-d6ef-4e7a-bd64-e8b46dd78264\" class=\"plotly-graph-div\" style=\"height:525px; width:100%;\"></div>            <script type=\"text/javascript\">                require([\"plotly\"], function(Plotly) {                    window.PLOTLYENV=window.PLOTLYENV || {};                                    if (document.getElementById(\"c1a1c7d7-d6ef-4e7a-bd64-e8b46dd78264\")) {                    Plotly.newPlot(                        \"c1a1c7d7-d6ef-4e7a-bd64-e8b46dd78264\",                        [{\"name\":\"control\",\"textinfo\":\"value+percent initial\",\"x\":[10024,10024,8582,8582,8465,4370,2678],\"y\":[\"application_date\",\"card_mailed_date\",\"background_check_initiated_date\",\"card_activation_date\",\"background_check_completed_date\",\"orientation_completed_date\",\"first_batch_completed_date\"],\"type\":\"funnel\"}],                        {\"template\":{\"data\":{\"histogram2dcontour\":[{\"type\":\"histogram2dcontour\",\"colorbar\":{\"outlinewidth\":0,\"ticks\":\"\"},\"colorscale\":[[0.0,\"#0d0887\"],[0.1111111111111111,\"#46039f\"],[0.2222222222222222,\"#7201a8\"],[0.3333333333333333,\"#9c179e\"],[0.4444444444444444,\"#bd3786\"],[0.5555555555555556,\"#d8576b\"],[0.6666666666666666,\"#ed7953\"],[0.7777777777777778,\"#fb9f3a\"],[0.8888888888888888,\"#fdca26\"],[1.0,\"#f0f921\"]]}],\"choropleth\":[{\"type\":\"choropleth\",\"colorbar\":{\"outlinewidth\":0,\"ticks\":\"\"}}],\"histogram2d\":[{\"type\":\"histogram2d\",\"colorbar\":{\"outlinewidth\":0,\"ticks\":\"\"},\"colorscale\":[[0.0,\"#0d0887\"],[0.1111111111111111,\"#46039f\"],[0.2222222222222222,\"#7201a8\"],[0.3333333333333333,\"#9c179e\"],[0.4444444444444444,\"#bd3786\"],[0.5555555555555556,\"#d8576b\"],[0.6666666666666666,\"#ed7953\"],[0.7777777777777778,\"#fb9f3a\"],[0.8888888888888888,\"#fdca26\"],[1.0,\"#f0f921\"]]}],\"heatmap\":[{\"type\":\"heatmap\",\"colorbar\":{\"outlinewidth\":0,\"ticks\":\"\"},\"colorscale\":[[0.0,\"#0d0887\"],[0.1111111111111111,\"#46039f\"],[0.2222222222222222,\"#7201a8\"],[0.3333333333333333,\"#9c179e\"],[0.4444444444444444,\"#bd3786\"],[0.5555555555555556,\"#d8576b\"],[0.6666666666666666,\"#ed7953\"],[0.7777777777777778,\"#fb9f3a\"],[0.8888888888888888,\"#fdca26\"],[1.0,\"#f0f921\"]]}],\"heatmapgl\":[{\"type\":\"heatmapgl\",\"colorbar\":{\"outlinewidth\":0,\"ticks\":\"\"},\"colorscale\":[[0.0,\"#0d0887\"],[0.1111111111111111,\"#46039f\"],[0.2222222222222222,\"#7201a8\"],[0.3333333333333333,\"#9c179e\"],[0.4444444444444444,\"#bd3786\"],[0.5555555555555556,\"#d8576b\"],[0.6666666666666666,\"#ed7953\"],[0.7777777777777778,\"#fb9f3a\"],[0.8888888888888888,\"#fdca26\"],[1.0,\"#f0f921\"]]}],\"contourcarpet\":[{\"type\":\"contourcarpet\",\"colorbar\":{\"outlinewidth\":0,\"ticks\":\"\"}}],\"contour\":[{\"type\":\"contour\",\"colorbar\":{\"outlinewidth\":0,\"ticks\":\"\"},\"colorscale\":[[0.0,\"#0d0887\"],[0.1111111111111111,\"#46039f\"],[0.2222222222222222,\"#7201a8\"],[0.3333333333333333,\"#9c179e\"],[0.4444444444444444,\"#bd3786\"],[0.5555555555555556,\"#d8576b\"],[0.6666666666666666,\"#ed7953\"],[0.7777777777777778,\"#fb9f3a\"],[0.8888888888888888,\"#fdca26\"],[1.0,\"#f0f921\"]]}],\"surface\":[{\"type\":\"surface\",\"colorbar\":{\"outlinewidth\":0,\"ticks\":\"\"},\"colorscale\":[[0.0,\"#0d0887\"],[0.1111111111111111,\"#46039f\"],[0.2222222222222222,\"#7201a8\"],[0.3333333333333333,\"#9c179e\"],[0.4444444444444444,\"#bd3786\"],[0.5555555555555556,\"#d8576b\"],[0.6666666666666666,\"#ed7953\"],[0.7777777777777778,\"#fb9f3a\"],[0.8888888888888888,\"#fdca26\"],[1.0,\"#f0f921\"]]}],\"mesh3d\":[{\"type\":\"mesh3d\",\"colorbar\":{\"outlinewidth\":0,\"ticks\":\"\"}}],\"scatter\":[{\"fillpattern\":{\"fillmode\":\"overlay\",\"size\":10,\"solidity\":0.2},\"type\":\"scatter\"}],\"parcoords\":[{\"type\":\"parcoords\",\"line\":{\"colorbar\":{\"outlinewidth\":0,\"ticks\":\"\"}}}],\"scatterpolargl\":[{\"type\":\"scatterpolargl\",\"marker\":{\"colorbar\":{\"outlinewidth\":0,\"ticks\":\"\"}}}],\"bar\":[{\"error_x\":{\"color\":\"#2a3f5f\"},\"error_y\":{\"color\":\"#2a3f5f\"},\"marker\":{\"line\":{\"color\":\"#E5ECF6\",\"width\":0.5},\"pattern\":{\"fillmode\":\"overlay\",\"size\":10,\"solidity\":0.2}},\"type\":\"bar\"}],\"scattergeo\":[{\"type\":\"scattergeo\",\"marker\":{\"colorbar\":{\"outlinewidth\":0,\"ticks\":\"\"}}}],\"scatterpolar\":[{\"type\":\"scatterpolar\",\"marker\":{\"colorbar\":{\"outlinewidth\":0,\"ticks\":\"\"}}}],\"histogram\":[{\"marker\":{\"pattern\":{\"fillmode\":\"overlay\",\"size\":10,\"solidity\":0.2}},\"type\":\"histogram\"}],\"scattergl\":[{\"type\":\"scattergl\",\"marker\":{\"colorbar\":{\"outlinewidth\":0,\"ticks\":\"\"}}}],\"scatter3d\":[{\"type\":\"scatter3d\",\"line\":{\"colorbar\":{\"outlinewidth\":0,\"ticks\":\"\"}},\"marker\":{\"colorbar\":{\"outlinewidth\":0,\"ticks\":\"\"}}}],\"scattermapbox\":[{\"type\":\"scattermapbox\",\"marker\":{\"colorbar\":{\"outlinewidth\":0,\"ticks\":\"\"}}}],\"scatterternary\":[{\"type\":\"scatterternary\",\"marker\":{\"colorbar\":{\"outlinewidth\":0,\"ticks\":\"\"}}}],\"scattercarpet\":[{\"type\":\"scattercarpet\",\"marker\":{\"colorbar\":{\"outlinewidth\":0,\"ticks\":\"\"}}}],\"carpet\":[{\"aaxis\":{\"endlinecolor\":\"#2a3f5f\",\"gridcolor\":\"white\",\"linecolor\":\"white\",\"minorgridcolor\":\"white\",\"startlinecolor\":\"#2a3f5f\"},\"baxis\":{\"endlinecolor\":\"#2a3f5f\",\"gridcolor\":\"white\",\"linecolor\":\"white\",\"minorgridcolor\":\"white\",\"startlinecolor\":\"#2a3f5f\"},\"type\":\"carpet\"}],\"table\":[{\"cells\":{\"fill\":{\"color\":\"#EBF0F8\"},\"line\":{\"color\":\"white\"}},\"header\":{\"fill\":{\"color\":\"#C8D4E3\"},\"line\":{\"color\":\"white\"}},\"type\":\"table\"}],\"barpolar\":[{\"marker\":{\"line\":{\"color\":\"#E5ECF6\",\"width\":0.5},\"pattern\":{\"fillmode\":\"overlay\",\"size\":10,\"solidity\":0.2}},\"type\":\"barpolar\"}],\"pie\":[{\"automargin\":true,\"type\":\"pie\"}]},\"layout\":{\"autotypenumbers\":\"strict\",\"colorway\":[\"#636efa\",\"#EF553B\",\"#00cc96\",\"#ab63fa\",\"#FFA15A\",\"#19d3f3\",\"#FF6692\",\"#B6E880\",\"#FF97FF\",\"#FECB52\"],\"font\":{\"color\":\"#2a3f5f\"},\"hovermode\":\"closest\",\"hoverlabel\":{\"align\":\"left\"},\"paper_bgcolor\":\"white\",\"plot_bgcolor\":\"#E5ECF6\",\"polar\":{\"bgcolor\":\"#E5ECF6\",\"angularaxis\":{\"gridcolor\":\"white\",\"linecolor\":\"white\",\"ticks\":\"\"},\"radialaxis\":{\"gridcolor\":\"white\",\"linecolor\":\"white\",\"ticks\":\"\"}},\"ternary\":{\"bgcolor\":\"#E5ECF6\",\"aaxis\":{\"gridcolor\":\"white\",\"linecolor\":\"white\",\"ticks\":\"\"},\"baxis\":{\"gridcolor\":\"white\",\"linecolor\":\"white\",\"ticks\":\"\"},\"caxis\":{\"gridcolor\":\"white\",\"linecolor\":\"white\",\"ticks\":\"\"}},\"coloraxis\":{\"colorbar\":{\"outlinewidth\":0,\"ticks\":\"\"}},\"colorscale\":{\"sequential\":[[0.0,\"#0d0887\"],[0.1111111111111111,\"#46039f\"],[0.2222222222222222,\"#7201a8\"],[0.3333333333333333,\"#9c179e\"],[0.4444444444444444,\"#bd3786\"],[0.5555555555555556,\"#d8576b\"],[0.6666666666666666,\"#ed7953\"],[0.7777777777777778,\"#fb9f3a\"],[0.8888888888888888,\"#fdca26\"],[1.0,\"#f0f921\"]],\"sequentialminus\":[[0.0,\"#0d0887\"],[0.1111111111111111,\"#46039f\"],[0.2222222222222222,\"#7201a8\"],[0.3333333333333333,\"#9c179e\"],[0.4444444444444444,\"#bd3786\"],[0.5555555555555556,\"#d8576b\"],[0.6666666666666666,\"#ed7953\"],[0.7777777777777778,\"#fb9f3a\"],[0.8888888888888888,\"#fdca26\"],[1.0,\"#f0f921\"]],\"diverging\":[[0,\"#8e0152\"],[0.1,\"#c51b7d\"],[0.2,\"#de77ae\"],[0.3,\"#f1b6da\"],[0.4,\"#fde0ef\"],[0.5,\"#f7f7f7\"],[0.6,\"#e6f5d0\"],[0.7,\"#b8e186\"],[0.8,\"#7fbc41\"],[0.9,\"#4d9221\"],[1,\"#276419\"]]},\"xaxis\":{\"gridcolor\":\"white\",\"linecolor\":\"white\",\"ticks\":\"\",\"title\":{\"standoff\":15},\"zerolinecolor\":\"white\",\"automargin\":true,\"zerolinewidth\":2},\"yaxis\":{\"gridcolor\":\"white\",\"linecolor\":\"white\",\"ticks\":\"\",\"title\":{\"standoff\":15},\"zerolinecolor\":\"white\",\"automargin\":true,\"zerolinewidth\":2},\"scene\":{\"xaxis\":{\"backgroundcolor\":\"#E5ECF6\",\"gridcolor\":\"white\",\"linecolor\":\"white\",\"showbackground\":true,\"ticks\":\"\",\"zerolinecolor\":\"white\",\"gridwidth\":2},\"yaxis\":{\"backgroundcolor\":\"#E5ECF6\",\"gridcolor\":\"white\",\"linecolor\":\"white\",\"showbackground\":true,\"ticks\":\"\",\"zerolinecolor\":\"white\",\"gridwidth\":2},\"zaxis\":{\"backgroundcolor\":\"#E5ECF6\",\"gridcolor\":\"white\",\"linecolor\":\"white\",\"showbackground\":true,\"ticks\":\"\",\"zerolinecolor\":\"white\",\"gridwidth\":2}},\"shapedefaults\":{\"line\":{\"color\":\"#2a3f5f\"}},\"annotationdefaults\":{\"arrowcolor\":\"#2a3f5f\",\"arrowhead\":0,\"arrowwidth\":1},\"geo\":{\"bgcolor\":\"white\",\"landcolor\":\"#E5ECF6\",\"subunitcolor\":\"white\",\"showland\":true,\"showlakes\":true,\"lakecolor\":\"white\"},\"title\":{\"x\":0.05},\"mapbox\":{\"style\":\"light\"}}}},                        {\"responsive\": true}                    ).then(function(){\n                            \nvar gd = document.getElementById('c1a1c7d7-d6ef-4e7a-bd64-e8b46dd78264');\nvar x = new MutationObserver(function (mutations, observer) {{\n        var display = window.getComputedStyle(gd).display;\n        if (!display || display === 'none') {{\n            console.log([gd, 'removed!']);\n            Plotly.purge(gd);\n            observer.disconnect();\n        }}\n}});\n\n// Listen for the removal of the full notebook cells\nvar notebookContainer = gd.closest('#notebook-container');\nif (notebookContainer) {{\n    x.observe(notebookContainer, {childList: true});\n}}\n\n// Listen for the clearing of the current output cell\nvar outputEl = gd.closest('.output');\nif (outputEl) {{\n    x.observe(outputEl, {childList: true});\n}}\n\n                        })                };                });            </script>        </div>"
     },
     "metadata": {},
     "output_type": "display_data"
    }
   ],
   "source": [
    "# plot the converstion funnel of control group after filtering the conversion window\n",
    "from plotly import graph_objects as go\n",
    "\n",
    "fig = go.Figure(go.Funnel(\n",
    "    y=df_control_converstion.index.get_level_values(1),\n",
    "    x=df_control_converstion.applicant_id,\n",
    "    name='control',\n",
    "    textinfo=\"value+percent initial\"))\n",
    "\n",
    "fig.show()"
   ]
  },
  {
   "cell_type": "code",
   "execution_count": 470,
   "metadata": {
    "ExecuteTime": {
     "end_time": "2023-08-20T13:47:47.059963Z",
     "start_time": "2023-08-20T13:47:46.744925Z"
    }
   },
   "outputs": [
    {
     "data": {
      "text/plain": "                                           applicant_id\ngroup     event                                        \ntreatment application_date                         4958\n          background_check_completed_date          4958\n          background_check_initiated_date          4958\n          card_mailed_date                         4958\n          card_activation_date                     4658\n          orientation_completed_date               2545\n          first_batch_completed_date               2115",
      "text/html": "<div>\n<style scoped>\n    .dataframe tbody tr th:only-of-type {\n        vertical-align: middle;\n    }\n\n    .dataframe tbody tr th {\n        vertical-align: top;\n    }\n\n    .dataframe thead th {\n        text-align: right;\n    }\n</style>\n<table border=\"1\" class=\"dataframe\">\n  <thead>\n    <tr style=\"text-align: right;\">\n      <th></th>\n      <th></th>\n      <th>applicant_id</th>\n    </tr>\n    <tr>\n      <th>group</th>\n      <th>event</th>\n      <th></th>\n    </tr>\n  </thead>\n  <tbody>\n    <tr>\n      <th rowspan=\"7\" valign=\"top\">treatment</th>\n      <th>application_date</th>\n      <td>4958</td>\n    </tr>\n    <tr>\n      <th>background_check_completed_date</th>\n      <td>4958</td>\n    </tr>\n    <tr>\n      <th>background_check_initiated_date</th>\n      <td>4958</td>\n    </tr>\n    <tr>\n      <th>card_mailed_date</th>\n      <td>4958</td>\n    </tr>\n    <tr>\n      <th>card_activation_date</th>\n      <td>4658</td>\n    </tr>\n    <tr>\n      <th>orientation_completed_date</th>\n      <td>2545</td>\n    </tr>\n    <tr>\n      <th>first_batch_completed_date</th>\n      <td>2115</td>\n    </tr>\n  </tbody>\n</table>\n</div>"
     },
     "execution_count": 470,
     "metadata": {},
     "output_type": "execute_result"
    }
   ],
   "source": [
    "# plot the converstion funnel of treatment group after filtering the conversion window\n",
    "df_treat_converstion = df[df['group'] == 'treatment'].groupby(['group', 'event']).applicant_id.nunique().sort_values(\n",
    "    ascending=False)\n",
    "\n",
    "df_treat_converstion = df_treat_converstion.to_frame()\n",
    "\n",
    "df_treat_converstion"
   ]
  },
  {
   "cell_type": "code",
   "execution_count": 471,
   "metadata": {
    "ExecuteTime": {
     "end_time": "2023-08-20T13:47:47.103652Z",
     "start_time": "2023-08-20T13:47:46.757670Z"
    }
   },
   "outputs": [
    {
     "data": {
      "application/vnd.plotly.v1+json": {
       "data": [
        {
         "name": "treatment",
         "textinfo": "value+percent initial",
         "x": [
          4958,
          4958,
          4958,
          4958,
          4658,
          2545,
          2115
         ],
         "y": [
          "application_date",
          "background_check_completed_date",
          "background_check_initiated_date",
          "card_mailed_date",
          "card_activation_date",
          "orientation_completed_date",
          "first_batch_completed_date"
         ],
         "type": "funnel"
        }
       ],
       "layout": {
        "template": {
         "data": {
          "histogram2dcontour": [
           {
            "type": "histogram2dcontour",
            "colorbar": {
             "outlinewidth": 0,
             "ticks": ""
            },
            "colorscale": [
             [
              0.0,
              "#0d0887"
             ],
             [
              0.1111111111111111,
              "#46039f"
             ],
             [
              0.2222222222222222,
              "#7201a8"
             ],
             [
              0.3333333333333333,
              "#9c179e"
             ],
             [
              0.4444444444444444,
              "#bd3786"
             ],
             [
              0.5555555555555556,
              "#d8576b"
             ],
             [
              0.6666666666666666,
              "#ed7953"
             ],
             [
              0.7777777777777778,
              "#fb9f3a"
             ],
             [
              0.8888888888888888,
              "#fdca26"
             ],
             [
              1.0,
              "#f0f921"
             ]
            ]
           }
          ],
          "choropleth": [
           {
            "type": "choropleth",
            "colorbar": {
             "outlinewidth": 0,
             "ticks": ""
            }
           }
          ],
          "histogram2d": [
           {
            "type": "histogram2d",
            "colorbar": {
             "outlinewidth": 0,
             "ticks": ""
            },
            "colorscale": [
             [
              0.0,
              "#0d0887"
             ],
             [
              0.1111111111111111,
              "#46039f"
             ],
             [
              0.2222222222222222,
              "#7201a8"
             ],
             [
              0.3333333333333333,
              "#9c179e"
             ],
             [
              0.4444444444444444,
              "#bd3786"
             ],
             [
              0.5555555555555556,
              "#d8576b"
             ],
             [
              0.6666666666666666,
              "#ed7953"
             ],
             [
              0.7777777777777778,
              "#fb9f3a"
             ],
             [
              0.8888888888888888,
              "#fdca26"
             ],
             [
              1.0,
              "#f0f921"
             ]
            ]
           }
          ],
          "heatmap": [
           {
            "type": "heatmap",
            "colorbar": {
             "outlinewidth": 0,
             "ticks": ""
            },
            "colorscale": [
             [
              0.0,
              "#0d0887"
             ],
             [
              0.1111111111111111,
              "#46039f"
             ],
             [
              0.2222222222222222,
              "#7201a8"
             ],
             [
              0.3333333333333333,
              "#9c179e"
             ],
             [
              0.4444444444444444,
              "#bd3786"
             ],
             [
              0.5555555555555556,
              "#d8576b"
             ],
             [
              0.6666666666666666,
              "#ed7953"
             ],
             [
              0.7777777777777778,
              "#fb9f3a"
             ],
             [
              0.8888888888888888,
              "#fdca26"
             ],
             [
              1.0,
              "#f0f921"
             ]
            ]
           }
          ],
          "heatmapgl": [
           {
            "type": "heatmapgl",
            "colorbar": {
             "outlinewidth": 0,
             "ticks": ""
            },
            "colorscale": [
             [
              0.0,
              "#0d0887"
             ],
             [
              0.1111111111111111,
              "#46039f"
             ],
             [
              0.2222222222222222,
              "#7201a8"
             ],
             [
              0.3333333333333333,
              "#9c179e"
             ],
             [
              0.4444444444444444,
              "#bd3786"
             ],
             [
              0.5555555555555556,
              "#d8576b"
             ],
             [
              0.6666666666666666,
              "#ed7953"
             ],
             [
              0.7777777777777778,
              "#fb9f3a"
             ],
             [
              0.8888888888888888,
              "#fdca26"
             ],
             [
              1.0,
              "#f0f921"
             ]
            ]
           }
          ],
          "contourcarpet": [
           {
            "type": "contourcarpet",
            "colorbar": {
             "outlinewidth": 0,
             "ticks": ""
            }
           }
          ],
          "contour": [
           {
            "type": "contour",
            "colorbar": {
             "outlinewidth": 0,
             "ticks": ""
            },
            "colorscale": [
             [
              0.0,
              "#0d0887"
             ],
             [
              0.1111111111111111,
              "#46039f"
             ],
             [
              0.2222222222222222,
              "#7201a8"
             ],
             [
              0.3333333333333333,
              "#9c179e"
             ],
             [
              0.4444444444444444,
              "#bd3786"
             ],
             [
              0.5555555555555556,
              "#d8576b"
             ],
             [
              0.6666666666666666,
              "#ed7953"
             ],
             [
              0.7777777777777778,
              "#fb9f3a"
             ],
             [
              0.8888888888888888,
              "#fdca26"
             ],
             [
              1.0,
              "#f0f921"
             ]
            ]
           }
          ],
          "surface": [
           {
            "type": "surface",
            "colorbar": {
             "outlinewidth": 0,
             "ticks": ""
            },
            "colorscale": [
             [
              0.0,
              "#0d0887"
             ],
             [
              0.1111111111111111,
              "#46039f"
             ],
             [
              0.2222222222222222,
              "#7201a8"
             ],
             [
              0.3333333333333333,
              "#9c179e"
             ],
             [
              0.4444444444444444,
              "#bd3786"
             ],
             [
              0.5555555555555556,
              "#d8576b"
             ],
             [
              0.6666666666666666,
              "#ed7953"
             ],
             [
              0.7777777777777778,
              "#fb9f3a"
             ],
             [
              0.8888888888888888,
              "#fdca26"
             ],
             [
              1.0,
              "#f0f921"
             ]
            ]
           }
          ],
          "mesh3d": [
           {
            "type": "mesh3d",
            "colorbar": {
             "outlinewidth": 0,
             "ticks": ""
            }
           }
          ],
          "scatter": [
           {
            "fillpattern": {
             "fillmode": "overlay",
             "size": 10,
             "solidity": 0.2
            },
            "type": "scatter"
           }
          ],
          "parcoords": [
           {
            "type": "parcoords",
            "line": {
             "colorbar": {
              "outlinewidth": 0,
              "ticks": ""
             }
            }
           }
          ],
          "scatterpolargl": [
           {
            "type": "scatterpolargl",
            "marker": {
             "colorbar": {
              "outlinewidth": 0,
              "ticks": ""
             }
            }
           }
          ],
          "bar": [
           {
            "error_x": {
             "color": "#2a3f5f"
            },
            "error_y": {
             "color": "#2a3f5f"
            },
            "marker": {
             "line": {
              "color": "#E5ECF6",
              "width": 0.5
             },
             "pattern": {
              "fillmode": "overlay",
              "size": 10,
              "solidity": 0.2
             }
            },
            "type": "bar"
           }
          ],
          "scattergeo": [
           {
            "type": "scattergeo",
            "marker": {
             "colorbar": {
              "outlinewidth": 0,
              "ticks": ""
             }
            }
           }
          ],
          "scatterpolar": [
           {
            "type": "scatterpolar",
            "marker": {
             "colorbar": {
              "outlinewidth": 0,
              "ticks": ""
             }
            }
           }
          ],
          "histogram": [
           {
            "marker": {
             "pattern": {
              "fillmode": "overlay",
              "size": 10,
              "solidity": 0.2
             }
            },
            "type": "histogram"
           }
          ],
          "scattergl": [
           {
            "type": "scattergl",
            "marker": {
             "colorbar": {
              "outlinewidth": 0,
              "ticks": ""
             }
            }
           }
          ],
          "scatter3d": [
           {
            "type": "scatter3d",
            "line": {
             "colorbar": {
              "outlinewidth": 0,
              "ticks": ""
             }
            },
            "marker": {
             "colorbar": {
              "outlinewidth": 0,
              "ticks": ""
             }
            }
           }
          ],
          "scattermapbox": [
           {
            "type": "scattermapbox",
            "marker": {
             "colorbar": {
              "outlinewidth": 0,
              "ticks": ""
             }
            }
           }
          ],
          "scatterternary": [
           {
            "type": "scatterternary",
            "marker": {
             "colorbar": {
              "outlinewidth": 0,
              "ticks": ""
             }
            }
           }
          ],
          "scattercarpet": [
           {
            "type": "scattercarpet",
            "marker": {
             "colorbar": {
              "outlinewidth": 0,
              "ticks": ""
             }
            }
           }
          ],
          "carpet": [
           {
            "aaxis": {
             "endlinecolor": "#2a3f5f",
             "gridcolor": "white",
             "linecolor": "white",
             "minorgridcolor": "white",
             "startlinecolor": "#2a3f5f"
            },
            "baxis": {
             "endlinecolor": "#2a3f5f",
             "gridcolor": "white",
             "linecolor": "white",
             "minorgridcolor": "white",
             "startlinecolor": "#2a3f5f"
            },
            "type": "carpet"
           }
          ],
          "table": [
           {
            "cells": {
             "fill": {
              "color": "#EBF0F8"
             },
             "line": {
              "color": "white"
             }
            },
            "header": {
             "fill": {
              "color": "#C8D4E3"
             },
             "line": {
              "color": "white"
             }
            },
            "type": "table"
           }
          ],
          "barpolar": [
           {
            "marker": {
             "line": {
              "color": "#E5ECF6",
              "width": 0.5
             },
             "pattern": {
              "fillmode": "overlay",
              "size": 10,
              "solidity": 0.2
             }
            },
            "type": "barpolar"
           }
          ],
          "pie": [
           {
            "automargin": true,
            "type": "pie"
           }
          ]
         },
         "layout": {
          "autotypenumbers": "strict",
          "colorway": [
           "#636efa",
           "#EF553B",
           "#00cc96",
           "#ab63fa",
           "#FFA15A",
           "#19d3f3",
           "#FF6692",
           "#B6E880",
           "#FF97FF",
           "#FECB52"
          ],
          "font": {
           "color": "#2a3f5f"
          },
          "hovermode": "closest",
          "hoverlabel": {
           "align": "left"
          },
          "paper_bgcolor": "white",
          "plot_bgcolor": "#E5ECF6",
          "polar": {
           "bgcolor": "#E5ECF6",
           "angularaxis": {
            "gridcolor": "white",
            "linecolor": "white",
            "ticks": ""
           },
           "radialaxis": {
            "gridcolor": "white",
            "linecolor": "white",
            "ticks": ""
           }
          },
          "ternary": {
           "bgcolor": "#E5ECF6",
           "aaxis": {
            "gridcolor": "white",
            "linecolor": "white",
            "ticks": ""
           },
           "baxis": {
            "gridcolor": "white",
            "linecolor": "white",
            "ticks": ""
           },
           "caxis": {
            "gridcolor": "white",
            "linecolor": "white",
            "ticks": ""
           }
          },
          "coloraxis": {
           "colorbar": {
            "outlinewidth": 0,
            "ticks": ""
           }
          },
          "colorscale": {
           "sequential": [
            [
             0.0,
             "#0d0887"
            ],
            [
             0.1111111111111111,
             "#46039f"
            ],
            [
             0.2222222222222222,
             "#7201a8"
            ],
            [
             0.3333333333333333,
             "#9c179e"
            ],
            [
             0.4444444444444444,
             "#bd3786"
            ],
            [
             0.5555555555555556,
             "#d8576b"
            ],
            [
             0.6666666666666666,
             "#ed7953"
            ],
            [
             0.7777777777777778,
             "#fb9f3a"
            ],
            [
             0.8888888888888888,
             "#fdca26"
            ],
            [
             1.0,
             "#f0f921"
            ]
           ],
           "sequentialminus": [
            [
             0.0,
             "#0d0887"
            ],
            [
             0.1111111111111111,
             "#46039f"
            ],
            [
             0.2222222222222222,
             "#7201a8"
            ],
            [
             0.3333333333333333,
             "#9c179e"
            ],
            [
             0.4444444444444444,
             "#bd3786"
            ],
            [
             0.5555555555555556,
             "#d8576b"
            ],
            [
             0.6666666666666666,
             "#ed7953"
            ],
            [
             0.7777777777777778,
             "#fb9f3a"
            ],
            [
             0.8888888888888888,
             "#fdca26"
            ],
            [
             1.0,
             "#f0f921"
            ]
           ],
           "diverging": [
            [
             0,
             "#8e0152"
            ],
            [
             0.1,
             "#c51b7d"
            ],
            [
             0.2,
             "#de77ae"
            ],
            [
             0.3,
             "#f1b6da"
            ],
            [
             0.4,
             "#fde0ef"
            ],
            [
             0.5,
             "#f7f7f7"
            ],
            [
             0.6,
             "#e6f5d0"
            ],
            [
             0.7,
             "#b8e186"
            ],
            [
             0.8,
             "#7fbc41"
            ],
            [
             0.9,
             "#4d9221"
            ],
            [
             1,
             "#276419"
            ]
           ]
          },
          "xaxis": {
           "gridcolor": "white",
           "linecolor": "white",
           "ticks": "",
           "title": {
            "standoff": 15
           },
           "zerolinecolor": "white",
           "automargin": true,
           "zerolinewidth": 2
          },
          "yaxis": {
           "gridcolor": "white",
           "linecolor": "white",
           "ticks": "",
           "title": {
            "standoff": 15
           },
           "zerolinecolor": "white",
           "automargin": true,
           "zerolinewidth": 2
          },
          "scene": {
           "xaxis": {
            "backgroundcolor": "#E5ECF6",
            "gridcolor": "white",
            "linecolor": "white",
            "showbackground": true,
            "ticks": "",
            "zerolinecolor": "white",
            "gridwidth": 2
           },
           "yaxis": {
            "backgroundcolor": "#E5ECF6",
            "gridcolor": "white",
            "linecolor": "white",
            "showbackground": true,
            "ticks": "",
            "zerolinecolor": "white",
            "gridwidth": 2
           },
           "zaxis": {
            "backgroundcolor": "#E5ECF6",
            "gridcolor": "white",
            "linecolor": "white",
            "showbackground": true,
            "ticks": "",
            "zerolinecolor": "white",
            "gridwidth": 2
           }
          },
          "shapedefaults": {
           "line": {
            "color": "#2a3f5f"
           }
          },
          "annotationdefaults": {
           "arrowcolor": "#2a3f5f",
           "arrowhead": 0,
           "arrowwidth": 1
          },
          "geo": {
           "bgcolor": "white",
           "landcolor": "#E5ECF6",
           "subunitcolor": "white",
           "showland": true,
           "showlakes": true,
           "lakecolor": "white"
          },
          "title": {
           "x": 0.05
          },
          "mapbox": {
           "style": "light"
          }
         }
        }
       },
       "config": {
        "plotlyServerURL": "https://plot.ly"
       }
      },
      "text/html": "<div>                            <div id=\"8c3f2536-67d8-49f0-9ba8-91119158aa4e\" class=\"plotly-graph-div\" style=\"height:525px; width:100%;\"></div>            <script type=\"text/javascript\">                require([\"plotly\"], function(Plotly) {                    window.PLOTLYENV=window.PLOTLYENV || {};                                    if (document.getElementById(\"8c3f2536-67d8-49f0-9ba8-91119158aa4e\")) {                    Plotly.newPlot(                        \"8c3f2536-67d8-49f0-9ba8-91119158aa4e\",                        [{\"name\":\"treatment\",\"textinfo\":\"value+percent initial\",\"x\":[4958,4958,4958,4958,4658,2545,2115],\"y\":[\"application_date\",\"background_check_completed_date\",\"background_check_initiated_date\",\"card_mailed_date\",\"card_activation_date\",\"orientation_completed_date\",\"first_batch_completed_date\"],\"type\":\"funnel\"}],                        {\"template\":{\"data\":{\"histogram2dcontour\":[{\"type\":\"histogram2dcontour\",\"colorbar\":{\"outlinewidth\":0,\"ticks\":\"\"},\"colorscale\":[[0.0,\"#0d0887\"],[0.1111111111111111,\"#46039f\"],[0.2222222222222222,\"#7201a8\"],[0.3333333333333333,\"#9c179e\"],[0.4444444444444444,\"#bd3786\"],[0.5555555555555556,\"#d8576b\"],[0.6666666666666666,\"#ed7953\"],[0.7777777777777778,\"#fb9f3a\"],[0.8888888888888888,\"#fdca26\"],[1.0,\"#f0f921\"]]}],\"choropleth\":[{\"type\":\"choropleth\",\"colorbar\":{\"outlinewidth\":0,\"ticks\":\"\"}}],\"histogram2d\":[{\"type\":\"histogram2d\",\"colorbar\":{\"outlinewidth\":0,\"ticks\":\"\"},\"colorscale\":[[0.0,\"#0d0887\"],[0.1111111111111111,\"#46039f\"],[0.2222222222222222,\"#7201a8\"],[0.3333333333333333,\"#9c179e\"],[0.4444444444444444,\"#bd3786\"],[0.5555555555555556,\"#d8576b\"],[0.6666666666666666,\"#ed7953\"],[0.7777777777777778,\"#fb9f3a\"],[0.8888888888888888,\"#fdca26\"],[1.0,\"#f0f921\"]]}],\"heatmap\":[{\"type\":\"heatmap\",\"colorbar\":{\"outlinewidth\":0,\"ticks\":\"\"},\"colorscale\":[[0.0,\"#0d0887\"],[0.1111111111111111,\"#46039f\"],[0.2222222222222222,\"#7201a8\"],[0.3333333333333333,\"#9c179e\"],[0.4444444444444444,\"#bd3786\"],[0.5555555555555556,\"#d8576b\"],[0.6666666666666666,\"#ed7953\"],[0.7777777777777778,\"#fb9f3a\"],[0.8888888888888888,\"#fdca26\"],[1.0,\"#f0f921\"]]}],\"heatmapgl\":[{\"type\":\"heatmapgl\",\"colorbar\":{\"outlinewidth\":0,\"ticks\":\"\"},\"colorscale\":[[0.0,\"#0d0887\"],[0.1111111111111111,\"#46039f\"],[0.2222222222222222,\"#7201a8\"],[0.3333333333333333,\"#9c179e\"],[0.4444444444444444,\"#bd3786\"],[0.5555555555555556,\"#d8576b\"],[0.6666666666666666,\"#ed7953\"],[0.7777777777777778,\"#fb9f3a\"],[0.8888888888888888,\"#fdca26\"],[1.0,\"#f0f921\"]]}],\"contourcarpet\":[{\"type\":\"contourcarpet\",\"colorbar\":{\"outlinewidth\":0,\"ticks\":\"\"}}],\"contour\":[{\"type\":\"contour\",\"colorbar\":{\"outlinewidth\":0,\"ticks\":\"\"},\"colorscale\":[[0.0,\"#0d0887\"],[0.1111111111111111,\"#46039f\"],[0.2222222222222222,\"#7201a8\"],[0.3333333333333333,\"#9c179e\"],[0.4444444444444444,\"#bd3786\"],[0.5555555555555556,\"#d8576b\"],[0.6666666666666666,\"#ed7953\"],[0.7777777777777778,\"#fb9f3a\"],[0.8888888888888888,\"#fdca26\"],[1.0,\"#f0f921\"]]}],\"surface\":[{\"type\":\"surface\",\"colorbar\":{\"outlinewidth\":0,\"ticks\":\"\"},\"colorscale\":[[0.0,\"#0d0887\"],[0.1111111111111111,\"#46039f\"],[0.2222222222222222,\"#7201a8\"],[0.3333333333333333,\"#9c179e\"],[0.4444444444444444,\"#bd3786\"],[0.5555555555555556,\"#d8576b\"],[0.6666666666666666,\"#ed7953\"],[0.7777777777777778,\"#fb9f3a\"],[0.8888888888888888,\"#fdca26\"],[1.0,\"#f0f921\"]]}],\"mesh3d\":[{\"type\":\"mesh3d\",\"colorbar\":{\"outlinewidth\":0,\"ticks\":\"\"}}],\"scatter\":[{\"fillpattern\":{\"fillmode\":\"overlay\",\"size\":10,\"solidity\":0.2},\"type\":\"scatter\"}],\"parcoords\":[{\"type\":\"parcoords\",\"line\":{\"colorbar\":{\"outlinewidth\":0,\"ticks\":\"\"}}}],\"scatterpolargl\":[{\"type\":\"scatterpolargl\",\"marker\":{\"colorbar\":{\"outlinewidth\":0,\"ticks\":\"\"}}}],\"bar\":[{\"error_x\":{\"color\":\"#2a3f5f\"},\"error_y\":{\"color\":\"#2a3f5f\"},\"marker\":{\"line\":{\"color\":\"#E5ECF6\",\"width\":0.5},\"pattern\":{\"fillmode\":\"overlay\",\"size\":10,\"solidity\":0.2}},\"type\":\"bar\"}],\"scattergeo\":[{\"type\":\"scattergeo\",\"marker\":{\"colorbar\":{\"outlinewidth\":0,\"ticks\":\"\"}}}],\"scatterpolar\":[{\"type\":\"scatterpolar\",\"marker\":{\"colorbar\":{\"outlinewidth\":0,\"ticks\":\"\"}}}],\"histogram\":[{\"marker\":{\"pattern\":{\"fillmode\":\"overlay\",\"size\":10,\"solidity\":0.2}},\"type\":\"histogram\"}],\"scattergl\":[{\"type\":\"scattergl\",\"marker\":{\"colorbar\":{\"outlinewidth\":0,\"ticks\":\"\"}}}],\"scatter3d\":[{\"type\":\"scatter3d\",\"line\":{\"colorbar\":{\"outlinewidth\":0,\"ticks\":\"\"}},\"marker\":{\"colorbar\":{\"outlinewidth\":0,\"ticks\":\"\"}}}],\"scattermapbox\":[{\"type\":\"scattermapbox\",\"marker\":{\"colorbar\":{\"outlinewidth\":0,\"ticks\":\"\"}}}],\"scatterternary\":[{\"type\":\"scatterternary\",\"marker\":{\"colorbar\":{\"outlinewidth\":0,\"ticks\":\"\"}}}],\"scattercarpet\":[{\"type\":\"scattercarpet\",\"marker\":{\"colorbar\":{\"outlinewidth\":0,\"ticks\":\"\"}}}],\"carpet\":[{\"aaxis\":{\"endlinecolor\":\"#2a3f5f\",\"gridcolor\":\"white\",\"linecolor\":\"white\",\"minorgridcolor\":\"white\",\"startlinecolor\":\"#2a3f5f\"},\"baxis\":{\"endlinecolor\":\"#2a3f5f\",\"gridcolor\":\"white\",\"linecolor\":\"white\",\"minorgridcolor\":\"white\",\"startlinecolor\":\"#2a3f5f\"},\"type\":\"carpet\"}],\"table\":[{\"cells\":{\"fill\":{\"color\":\"#EBF0F8\"},\"line\":{\"color\":\"white\"}},\"header\":{\"fill\":{\"color\":\"#C8D4E3\"},\"line\":{\"color\":\"white\"}},\"type\":\"table\"}],\"barpolar\":[{\"marker\":{\"line\":{\"color\":\"#E5ECF6\",\"width\":0.5},\"pattern\":{\"fillmode\":\"overlay\",\"size\":10,\"solidity\":0.2}},\"type\":\"barpolar\"}],\"pie\":[{\"automargin\":true,\"type\":\"pie\"}]},\"layout\":{\"autotypenumbers\":\"strict\",\"colorway\":[\"#636efa\",\"#EF553B\",\"#00cc96\",\"#ab63fa\",\"#FFA15A\",\"#19d3f3\",\"#FF6692\",\"#B6E880\",\"#FF97FF\",\"#FECB52\"],\"font\":{\"color\":\"#2a3f5f\"},\"hovermode\":\"closest\",\"hoverlabel\":{\"align\":\"left\"},\"paper_bgcolor\":\"white\",\"plot_bgcolor\":\"#E5ECF6\",\"polar\":{\"bgcolor\":\"#E5ECF6\",\"angularaxis\":{\"gridcolor\":\"white\",\"linecolor\":\"white\",\"ticks\":\"\"},\"radialaxis\":{\"gridcolor\":\"white\",\"linecolor\":\"white\",\"ticks\":\"\"}},\"ternary\":{\"bgcolor\":\"#E5ECF6\",\"aaxis\":{\"gridcolor\":\"white\",\"linecolor\":\"white\",\"ticks\":\"\"},\"baxis\":{\"gridcolor\":\"white\",\"linecolor\":\"white\",\"ticks\":\"\"},\"caxis\":{\"gridcolor\":\"white\",\"linecolor\":\"white\",\"ticks\":\"\"}},\"coloraxis\":{\"colorbar\":{\"outlinewidth\":0,\"ticks\":\"\"}},\"colorscale\":{\"sequential\":[[0.0,\"#0d0887\"],[0.1111111111111111,\"#46039f\"],[0.2222222222222222,\"#7201a8\"],[0.3333333333333333,\"#9c179e\"],[0.4444444444444444,\"#bd3786\"],[0.5555555555555556,\"#d8576b\"],[0.6666666666666666,\"#ed7953\"],[0.7777777777777778,\"#fb9f3a\"],[0.8888888888888888,\"#fdca26\"],[1.0,\"#f0f921\"]],\"sequentialminus\":[[0.0,\"#0d0887\"],[0.1111111111111111,\"#46039f\"],[0.2222222222222222,\"#7201a8\"],[0.3333333333333333,\"#9c179e\"],[0.4444444444444444,\"#bd3786\"],[0.5555555555555556,\"#d8576b\"],[0.6666666666666666,\"#ed7953\"],[0.7777777777777778,\"#fb9f3a\"],[0.8888888888888888,\"#fdca26\"],[1.0,\"#f0f921\"]],\"diverging\":[[0,\"#8e0152\"],[0.1,\"#c51b7d\"],[0.2,\"#de77ae\"],[0.3,\"#f1b6da\"],[0.4,\"#fde0ef\"],[0.5,\"#f7f7f7\"],[0.6,\"#e6f5d0\"],[0.7,\"#b8e186\"],[0.8,\"#7fbc41\"],[0.9,\"#4d9221\"],[1,\"#276419\"]]},\"xaxis\":{\"gridcolor\":\"white\",\"linecolor\":\"white\",\"ticks\":\"\",\"title\":{\"standoff\":15},\"zerolinecolor\":\"white\",\"automargin\":true,\"zerolinewidth\":2},\"yaxis\":{\"gridcolor\":\"white\",\"linecolor\":\"white\",\"ticks\":\"\",\"title\":{\"standoff\":15},\"zerolinecolor\":\"white\",\"automargin\":true,\"zerolinewidth\":2},\"scene\":{\"xaxis\":{\"backgroundcolor\":\"#E5ECF6\",\"gridcolor\":\"white\",\"linecolor\":\"white\",\"showbackground\":true,\"ticks\":\"\",\"zerolinecolor\":\"white\",\"gridwidth\":2},\"yaxis\":{\"backgroundcolor\":\"#E5ECF6\",\"gridcolor\":\"white\",\"linecolor\":\"white\",\"showbackground\":true,\"ticks\":\"\",\"zerolinecolor\":\"white\",\"gridwidth\":2},\"zaxis\":{\"backgroundcolor\":\"#E5ECF6\",\"gridcolor\":\"white\",\"linecolor\":\"white\",\"showbackground\":true,\"ticks\":\"\",\"zerolinecolor\":\"white\",\"gridwidth\":2}},\"shapedefaults\":{\"line\":{\"color\":\"#2a3f5f\"}},\"annotationdefaults\":{\"arrowcolor\":\"#2a3f5f\",\"arrowhead\":0,\"arrowwidth\":1},\"geo\":{\"bgcolor\":\"white\",\"landcolor\":\"#E5ECF6\",\"subunitcolor\":\"white\",\"showland\":true,\"showlakes\":true,\"lakecolor\":\"white\"},\"title\":{\"x\":0.05},\"mapbox\":{\"style\":\"light\"}}}},                        {\"responsive\": true}                    ).then(function(){\n                            \nvar gd = document.getElementById('8c3f2536-67d8-49f0-9ba8-91119158aa4e');\nvar x = new MutationObserver(function (mutations, observer) {{\n        var display = window.getComputedStyle(gd).display;\n        if (!display || display === 'none') {{\n            console.log([gd, 'removed!']);\n            Plotly.purge(gd);\n            observer.disconnect();\n        }}\n}});\n\n// Listen for the removal of the full notebook cells\nvar notebookContainer = gd.closest('#notebook-container');\nif (notebookContainer) {{\n    x.observe(notebookContainer, {childList: true});\n}}\n\n// Listen for the clearing of the current output cell\nvar outputEl = gd.closest('.output');\nif (outputEl) {{\n    x.observe(outputEl, {childList: true});\n}}\n\n                        })                };                });            </script>        </div>"
     },
     "metadata": {},
     "output_type": "display_data"
    }
   ],
   "source": [
    "from plotly import graph_objects as go\n",
    "\n",
    "fig = go.Figure(go.Funnel(\n",
    "    y=df_treat_converstion.index.get_level_values(1),\n",
    "    x=df_treat_converstion.applicant_id,\n",
    "    name='treatment',\n",
    "    textinfo=\"value+percent initial\"))\n",
    "\n",
    "fig.show()"
   ]
  },
  {
   "cell_type": "code",
   "execution_count": 472,
   "metadata": {
    "ExecuteTime": {
     "end_time": "2023-08-20T13:47:47.104124Z",
     "start_time": "2023-08-20T13:47:46.763600Z"
    }
   },
   "outputs": [
    {
     "data": {
      "application/vnd.plotly.v1+json": {
       "data": [
        {
         "name": "control",
         "textinfo": "value+percent initial",
         "x": [
          10024,
          10024,
          8582,
          8582,
          8465,
          4370,
          2678
         ],
         "y": [
          "application_date",
          "card_mailed_date",
          "background_check_initiated_date",
          "card_activation_date",
          "background_check_completed_date",
          "orientation_completed_date",
          "first_batch_completed_date"
         ],
         "type": "funnel"
        },
        {
         "name": "treatment",
         "textinfo": "value+percent initial",
         "x": [
          4958,
          4958,
          4958,
          4958,
          4658,
          2545,
          2115
         ],
         "y": [
          "application_date",
          "background_check_completed_date",
          "background_check_initiated_date",
          "card_mailed_date",
          "card_activation_date",
          "orientation_completed_date",
          "first_batch_completed_date"
         ],
         "type": "funnel"
        }
       ],
       "layout": {
        "template": {
         "data": {
          "histogram2dcontour": [
           {
            "type": "histogram2dcontour",
            "colorbar": {
             "outlinewidth": 0,
             "ticks": ""
            },
            "colorscale": [
             [
              0.0,
              "#0d0887"
             ],
             [
              0.1111111111111111,
              "#46039f"
             ],
             [
              0.2222222222222222,
              "#7201a8"
             ],
             [
              0.3333333333333333,
              "#9c179e"
             ],
             [
              0.4444444444444444,
              "#bd3786"
             ],
             [
              0.5555555555555556,
              "#d8576b"
             ],
             [
              0.6666666666666666,
              "#ed7953"
             ],
             [
              0.7777777777777778,
              "#fb9f3a"
             ],
             [
              0.8888888888888888,
              "#fdca26"
             ],
             [
              1.0,
              "#f0f921"
             ]
            ]
           }
          ],
          "choropleth": [
           {
            "type": "choropleth",
            "colorbar": {
             "outlinewidth": 0,
             "ticks": ""
            }
           }
          ],
          "histogram2d": [
           {
            "type": "histogram2d",
            "colorbar": {
             "outlinewidth": 0,
             "ticks": ""
            },
            "colorscale": [
             [
              0.0,
              "#0d0887"
             ],
             [
              0.1111111111111111,
              "#46039f"
             ],
             [
              0.2222222222222222,
              "#7201a8"
             ],
             [
              0.3333333333333333,
              "#9c179e"
             ],
             [
              0.4444444444444444,
              "#bd3786"
             ],
             [
              0.5555555555555556,
              "#d8576b"
             ],
             [
              0.6666666666666666,
              "#ed7953"
             ],
             [
              0.7777777777777778,
              "#fb9f3a"
             ],
             [
              0.8888888888888888,
              "#fdca26"
             ],
             [
              1.0,
              "#f0f921"
             ]
            ]
           }
          ],
          "heatmap": [
           {
            "type": "heatmap",
            "colorbar": {
             "outlinewidth": 0,
             "ticks": ""
            },
            "colorscale": [
             [
              0.0,
              "#0d0887"
             ],
             [
              0.1111111111111111,
              "#46039f"
             ],
             [
              0.2222222222222222,
              "#7201a8"
             ],
             [
              0.3333333333333333,
              "#9c179e"
             ],
             [
              0.4444444444444444,
              "#bd3786"
             ],
             [
              0.5555555555555556,
              "#d8576b"
             ],
             [
              0.6666666666666666,
              "#ed7953"
             ],
             [
              0.7777777777777778,
              "#fb9f3a"
             ],
             [
              0.8888888888888888,
              "#fdca26"
             ],
             [
              1.0,
              "#f0f921"
             ]
            ]
           }
          ],
          "heatmapgl": [
           {
            "type": "heatmapgl",
            "colorbar": {
             "outlinewidth": 0,
             "ticks": ""
            },
            "colorscale": [
             [
              0.0,
              "#0d0887"
             ],
             [
              0.1111111111111111,
              "#46039f"
             ],
             [
              0.2222222222222222,
              "#7201a8"
             ],
             [
              0.3333333333333333,
              "#9c179e"
             ],
             [
              0.4444444444444444,
              "#bd3786"
             ],
             [
              0.5555555555555556,
              "#d8576b"
             ],
             [
              0.6666666666666666,
              "#ed7953"
             ],
             [
              0.7777777777777778,
              "#fb9f3a"
             ],
             [
              0.8888888888888888,
              "#fdca26"
             ],
             [
              1.0,
              "#f0f921"
             ]
            ]
           }
          ],
          "contourcarpet": [
           {
            "type": "contourcarpet",
            "colorbar": {
             "outlinewidth": 0,
             "ticks": ""
            }
           }
          ],
          "contour": [
           {
            "type": "contour",
            "colorbar": {
             "outlinewidth": 0,
             "ticks": ""
            },
            "colorscale": [
             [
              0.0,
              "#0d0887"
             ],
             [
              0.1111111111111111,
              "#46039f"
             ],
             [
              0.2222222222222222,
              "#7201a8"
             ],
             [
              0.3333333333333333,
              "#9c179e"
             ],
             [
              0.4444444444444444,
              "#bd3786"
             ],
             [
              0.5555555555555556,
              "#d8576b"
             ],
             [
              0.6666666666666666,
              "#ed7953"
             ],
             [
              0.7777777777777778,
              "#fb9f3a"
             ],
             [
              0.8888888888888888,
              "#fdca26"
             ],
             [
              1.0,
              "#f0f921"
             ]
            ]
           }
          ],
          "surface": [
           {
            "type": "surface",
            "colorbar": {
             "outlinewidth": 0,
             "ticks": ""
            },
            "colorscale": [
             [
              0.0,
              "#0d0887"
             ],
             [
              0.1111111111111111,
              "#46039f"
             ],
             [
              0.2222222222222222,
              "#7201a8"
             ],
             [
              0.3333333333333333,
              "#9c179e"
             ],
             [
              0.4444444444444444,
              "#bd3786"
             ],
             [
              0.5555555555555556,
              "#d8576b"
             ],
             [
              0.6666666666666666,
              "#ed7953"
             ],
             [
              0.7777777777777778,
              "#fb9f3a"
             ],
             [
              0.8888888888888888,
              "#fdca26"
             ],
             [
              1.0,
              "#f0f921"
             ]
            ]
           }
          ],
          "mesh3d": [
           {
            "type": "mesh3d",
            "colorbar": {
             "outlinewidth": 0,
             "ticks": ""
            }
           }
          ],
          "scatter": [
           {
            "fillpattern": {
             "fillmode": "overlay",
             "size": 10,
             "solidity": 0.2
            },
            "type": "scatter"
           }
          ],
          "parcoords": [
           {
            "type": "parcoords",
            "line": {
             "colorbar": {
              "outlinewidth": 0,
              "ticks": ""
             }
            }
           }
          ],
          "scatterpolargl": [
           {
            "type": "scatterpolargl",
            "marker": {
             "colorbar": {
              "outlinewidth": 0,
              "ticks": ""
             }
            }
           }
          ],
          "bar": [
           {
            "error_x": {
             "color": "#2a3f5f"
            },
            "error_y": {
             "color": "#2a3f5f"
            },
            "marker": {
             "line": {
              "color": "#E5ECF6",
              "width": 0.5
             },
             "pattern": {
              "fillmode": "overlay",
              "size": 10,
              "solidity": 0.2
             }
            },
            "type": "bar"
           }
          ],
          "scattergeo": [
           {
            "type": "scattergeo",
            "marker": {
             "colorbar": {
              "outlinewidth": 0,
              "ticks": ""
             }
            }
           }
          ],
          "scatterpolar": [
           {
            "type": "scatterpolar",
            "marker": {
             "colorbar": {
              "outlinewidth": 0,
              "ticks": ""
             }
            }
           }
          ],
          "histogram": [
           {
            "marker": {
             "pattern": {
              "fillmode": "overlay",
              "size": 10,
              "solidity": 0.2
             }
            },
            "type": "histogram"
           }
          ],
          "scattergl": [
           {
            "type": "scattergl",
            "marker": {
             "colorbar": {
              "outlinewidth": 0,
              "ticks": ""
             }
            }
           }
          ],
          "scatter3d": [
           {
            "type": "scatter3d",
            "line": {
             "colorbar": {
              "outlinewidth": 0,
              "ticks": ""
             }
            },
            "marker": {
             "colorbar": {
              "outlinewidth": 0,
              "ticks": ""
             }
            }
           }
          ],
          "scattermapbox": [
           {
            "type": "scattermapbox",
            "marker": {
             "colorbar": {
              "outlinewidth": 0,
              "ticks": ""
             }
            }
           }
          ],
          "scatterternary": [
           {
            "type": "scatterternary",
            "marker": {
             "colorbar": {
              "outlinewidth": 0,
              "ticks": ""
             }
            }
           }
          ],
          "scattercarpet": [
           {
            "type": "scattercarpet",
            "marker": {
             "colorbar": {
              "outlinewidth": 0,
              "ticks": ""
             }
            }
           }
          ],
          "carpet": [
           {
            "aaxis": {
             "endlinecolor": "#2a3f5f",
             "gridcolor": "white",
             "linecolor": "white",
             "minorgridcolor": "white",
             "startlinecolor": "#2a3f5f"
            },
            "baxis": {
             "endlinecolor": "#2a3f5f",
             "gridcolor": "white",
             "linecolor": "white",
             "minorgridcolor": "white",
             "startlinecolor": "#2a3f5f"
            },
            "type": "carpet"
           }
          ],
          "table": [
           {
            "cells": {
             "fill": {
              "color": "#EBF0F8"
             },
             "line": {
              "color": "white"
             }
            },
            "header": {
             "fill": {
              "color": "#C8D4E3"
             },
             "line": {
              "color": "white"
             }
            },
            "type": "table"
           }
          ],
          "barpolar": [
           {
            "marker": {
             "line": {
              "color": "#E5ECF6",
              "width": 0.5
             },
             "pattern": {
              "fillmode": "overlay",
              "size": 10,
              "solidity": 0.2
             }
            },
            "type": "barpolar"
           }
          ],
          "pie": [
           {
            "automargin": true,
            "type": "pie"
           }
          ]
         },
         "layout": {
          "autotypenumbers": "strict",
          "colorway": [
           "#636efa",
           "#EF553B",
           "#00cc96",
           "#ab63fa",
           "#FFA15A",
           "#19d3f3",
           "#FF6692",
           "#B6E880",
           "#FF97FF",
           "#FECB52"
          ],
          "font": {
           "color": "#2a3f5f"
          },
          "hovermode": "closest",
          "hoverlabel": {
           "align": "left"
          },
          "paper_bgcolor": "white",
          "plot_bgcolor": "#E5ECF6",
          "polar": {
           "bgcolor": "#E5ECF6",
           "angularaxis": {
            "gridcolor": "white",
            "linecolor": "white",
            "ticks": ""
           },
           "radialaxis": {
            "gridcolor": "white",
            "linecolor": "white",
            "ticks": ""
           }
          },
          "ternary": {
           "bgcolor": "#E5ECF6",
           "aaxis": {
            "gridcolor": "white",
            "linecolor": "white",
            "ticks": ""
           },
           "baxis": {
            "gridcolor": "white",
            "linecolor": "white",
            "ticks": ""
           },
           "caxis": {
            "gridcolor": "white",
            "linecolor": "white",
            "ticks": ""
           }
          },
          "coloraxis": {
           "colorbar": {
            "outlinewidth": 0,
            "ticks": ""
           }
          },
          "colorscale": {
           "sequential": [
            [
             0.0,
             "#0d0887"
            ],
            [
             0.1111111111111111,
             "#46039f"
            ],
            [
             0.2222222222222222,
             "#7201a8"
            ],
            [
             0.3333333333333333,
             "#9c179e"
            ],
            [
             0.4444444444444444,
             "#bd3786"
            ],
            [
             0.5555555555555556,
             "#d8576b"
            ],
            [
             0.6666666666666666,
             "#ed7953"
            ],
            [
             0.7777777777777778,
             "#fb9f3a"
            ],
            [
             0.8888888888888888,
             "#fdca26"
            ],
            [
             1.0,
             "#f0f921"
            ]
           ],
           "sequentialminus": [
            [
             0.0,
             "#0d0887"
            ],
            [
             0.1111111111111111,
             "#46039f"
            ],
            [
             0.2222222222222222,
             "#7201a8"
            ],
            [
             0.3333333333333333,
             "#9c179e"
            ],
            [
             0.4444444444444444,
             "#bd3786"
            ],
            [
             0.5555555555555556,
             "#d8576b"
            ],
            [
             0.6666666666666666,
             "#ed7953"
            ],
            [
             0.7777777777777778,
             "#fb9f3a"
            ],
            [
             0.8888888888888888,
             "#fdca26"
            ],
            [
             1.0,
             "#f0f921"
            ]
           ],
           "diverging": [
            [
             0,
             "#8e0152"
            ],
            [
             0.1,
             "#c51b7d"
            ],
            [
             0.2,
             "#de77ae"
            ],
            [
             0.3,
             "#f1b6da"
            ],
            [
             0.4,
             "#fde0ef"
            ],
            [
             0.5,
             "#f7f7f7"
            ],
            [
             0.6,
             "#e6f5d0"
            ],
            [
             0.7,
             "#b8e186"
            ],
            [
             0.8,
             "#7fbc41"
            ],
            [
             0.9,
             "#4d9221"
            ],
            [
             1,
             "#276419"
            ]
           ]
          },
          "xaxis": {
           "gridcolor": "white",
           "linecolor": "white",
           "ticks": "",
           "title": {
            "standoff": 15
           },
           "zerolinecolor": "white",
           "automargin": true,
           "zerolinewidth": 2
          },
          "yaxis": {
           "gridcolor": "white",
           "linecolor": "white",
           "ticks": "",
           "title": {
            "standoff": 15
           },
           "zerolinecolor": "white",
           "automargin": true,
           "zerolinewidth": 2
          },
          "scene": {
           "xaxis": {
            "backgroundcolor": "#E5ECF6",
            "gridcolor": "white",
            "linecolor": "white",
            "showbackground": true,
            "ticks": "",
            "zerolinecolor": "white",
            "gridwidth": 2
           },
           "yaxis": {
            "backgroundcolor": "#E5ECF6",
            "gridcolor": "white",
            "linecolor": "white",
            "showbackground": true,
            "ticks": "",
            "zerolinecolor": "white",
            "gridwidth": 2
           },
           "zaxis": {
            "backgroundcolor": "#E5ECF6",
            "gridcolor": "white",
            "linecolor": "white",
            "showbackground": true,
            "ticks": "",
            "zerolinecolor": "white",
            "gridwidth": 2
           }
          },
          "shapedefaults": {
           "line": {
            "color": "#2a3f5f"
           }
          },
          "annotationdefaults": {
           "arrowcolor": "#2a3f5f",
           "arrowhead": 0,
           "arrowwidth": 1
          },
          "geo": {
           "bgcolor": "white",
           "landcolor": "#E5ECF6",
           "subunitcolor": "white",
           "showland": true,
           "showlakes": true,
           "lakecolor": "white"
          },
          "title": {
           "x": 0.05
          },
          "mapbox": {
           "style": "light"
          }
         }
        }
       },
       "config": {
        "plotlyServerURL": "https://plot.ly"
       }
      },
      "text/html": "<div>                            <div id=\"0f5c7abf-a161-4677-a009-0f5610c33289\" class=\"plotly-graph-div\" style=\"height:525px; width:100%;\"></div>            <script type=\"text/javascript\">                require([\"plotly\"], function(Plotly) {                    window.PLOTLYENV=window.PLOTLYENV || {};                                    if (document.getElementById(\"0f5c7abf-a161-4677-a009-0f5610c33289\")) {                    Plotly.newPlot(                        \"0f5c7abf-a161-4677-a009-0f5610c33289\",                        [{\"name\":\"control\",\"textinfo\":\"value+percent initial\",\"x\":[10024,10024,8582,8582,8465,4370,2678],\"y\":[\"application_date\",\"card_mailed_date\",\"background_check_initiated_date\",\"card_activation_date\",\"background_check_completed_date\",\"orientation_completed_date\",\"first_batch_completed_date\"],\"type\":\"funnel\"},{\"name\":\"treatment\",\"textinfo\":\"value+percent initial\",\"x\":[4958,4958,4958,4958,4658,2545,2115],\"y\":[\"application_date\",\"background_check_completed_date\",\"background_check_initiated_date\",\"card_mailed_date\",\"card_activation_date\",\"orientation_completed_date\",\"first_batch_completed_date\"],\"type\":\"funnel\"}],                        {\"template\":{\"data\":{\"histogram2dcontour\":[{\"type\":\"histogram2dcontour\",\"colorbar\":{\"outlinewidth\":0,\"ticks\":\"\"},\"colorscale\":[[0.0,\"#0d0887\"],[0.1111111111111111,\"#46039f\"],[0.2222222222222222,\"#7201a8\"],[0.3333333333333333,\"#9c179e\"],[0.4444444444444444,\"#bd3786\"],[0.5555555555555556,\"#d8576b\"],[0.6666666666666666,\"#ed7953\"],[0.7777777777777778,\"#fb9f3a\"],[0.8888888888888888,\"#fdca26\"],[1.0,\"#f0f921\"]]}],\"choropleth\":[{\"type\":\"choropleth\",\"colorbar\":{\"outlinewidth\":0,\"ticks\":\"\"}}],\"histogram2d\":[{\"type\":\"histogram2d\",\"colorbar\":{\"outlinewidth\":0,\"ticks\":\"\"},\"colorscale\":[[0.0,\"#0d0887\"],[0.1111111111111111,\"#46039f\"],[0.2222222222222222,\"#7201a8\"],[0.3333333333333333,\"#9c179e\"],[0.4444444444444444,\"#bd3786\"],[0.5555555555555556,\"#d8576b\"],[0.6666666666666666,\"#ed7953\"],[0.7777777777777778,\"#fb9f3a\"],[0.8888888888888888,\"#fdca26\"],[1.0,\"#f0f921\"]]}],\"heatmap\":[{\"type\":\"heatmap\",\"colorbar\":{\"outlinewidth\":0,\"ticks\":\"\"},\"colorscale\":[[0.0,\"#0d0887\"],[0.1111111111111111,\"#46039f\"],[0.2222222222222222,\"#7201a8\"],[0.3333333333333333,\"#9c179e\"],[0.4444444444444444,\"#bd3786\"],[0.5555555555555556,\"#d8576b\"],[0.6666666666666666,\"#ed7953\"],[0.7777777777777778,\"#fb9f3a\"],[0.8888888888888888,\"#fdca26\"],[1.0,\"#f0f921\"]]}],\"heatmapgl\":[{\"type\":\"heatmapgl\",\"colorbar\":{\"outlinewidth\":0,\"ticks\":\"\"},\"colorscale\":[[0.0,\"#0d0887\"],[0.1111111111111111,\"#46039f\"],[0.2222222222222222,\"#7201a8\"],[0.3333333333333333,\"#9c179e\"],[0.4444444444444444,\"#bd3786\"],[0.5555555555555556,\"#d8576b\"],[0.6666666666666666,\"#ed7953\"],[0.7777777777777778,\"#fb9f3a\"],[0.8888888888888888,\"#fdca26\"],[1.0,\"#f0f921\"]]}],\"contourcarpet\":[{\"type\":\"contourcarpet\",\"colorbar\":{\"outlinewidth\":0,\"ticks\":\"\"}}],\"contour\":[{\"type\":\"contour\",\"colorbar\":{\"outlinewidth\":0,\"ticks\":\"\"},\"colorscale\":[[0.0,\"#0d0887\"],[0.1111111111111111,\"#46039f\"],[0.2222222222222222,\"#7201a8\"],[0.3333333333333333,\"#9c179e\"],[0.4444444444444444,\"#bd3786\"],[0.5555555555555556,\"#d8576b\"],[0.6666666666666666,\"#ed7953\"],[0.7777777777777778,\"#fb9f3a\"],[0.8888888888888888,\"#fdca26\"],[1.0,\"#f0f921\"]]}],\"surface\":[{\"type\":\"surface\",\"colorbar\":{\"outlinewidth\":0,\"ticks\":\"\"},\"colorscale\":[[0.0,\"#0d0887\"],[0.1111111111111111,\"#46039f\"],[0.2222222222222222,\"#7201a8\"],[0.3333333333333333,\"#9c179e\"],[0.4444444444444444,\"#bd3786\"],[0.5555555555555556,\"#d8576b\"],[0.6666666666666666,\"#ed7953\"],[0.7777777777777778,\"#fb9f3a\"],[0.8888888888888888,\"#fdca26\"],[1.0,\"#f0f921\"]]}],\"mesh3d\":[{\"type\":\"mesh3d\",\"colorbar\":{\"outlinewidth\":0,\"ticks\":\"\"}}],\"scatter\":[{\"fillpattern\":{\"fillmode\":\"overlay\",\"size\":10,\"solidity\":0.2},\"type\":\"scatter\"}],\"parcoords\":[{\"type\":\"parcoords\",\"line\":{\"colorbar\":{\"outlinewidth\":0,\"ticks\":\"\"}}}],\"scatterpolargl\":[{\"type\":\"scatterpolargl\",\"marker\":{\"colorbar\":{\"outlinewidth\":0,\"ticks\":\"\"}}}],\"bar\":[{\"error_x\":{\"color\":\"#2a3f5f\"},\"error_y\":{\"color\":\"#2a3f5f\"},\"marker\":{\"line\":{\"color\":\"#E5ECF6\",\"width\":0.5},\"pattern\":{\"fillmode\":\"overlay\",\"size\":10,\"solidity\":0.2}},\"type\":\"bar\"}],\"scattergeo\":[{\"type\":\"scattergeo\",\"marker\":{\"colorbar\":{\"outlinewidth\":0,\"ticks\":\"\"}}}],\"scatterpolar\":[{\"type\":\"scatterpolar\",\"marker\":{\"colorbar\":{\"outlinewidth\":0,\"ticks\":\"\"}}}],\"histogram\":[{\"marker\":{\"pattern\":{\"fillmode\":\"overlay\",\"size\":10,\"solidity\":0.2}},\"type\":\"histogram\"}],\"scattergl\":[{\"type\":\"scattergl\",\"marker\":{\"colorbar\":{\"outlinewidth\":0,\"ticks\":\"\"}}}],\"scatter3d\":[{\"type\":\"scatter3d\",\"line\":{\"colorbar\":{\"outlinewidth\":0,\"ticks\":\"\"}},\"marker\":{\"colorbar\":{\"outlinewidth\":0,\"ticks\":\"\"}}}],\"scattermapbox\":[{\"type\":\"scattermapbox\",\"marker\":{\"colorbar\":{\"outlinewidth\":0,\"ticks\":\"\"}}}],\"scatterternary\":[{\"type\":\"scatterternary\",\"marker\":{\"colorbar\":{\"outlinewidth\":0,\"ticks\":\"\"}}}],\"scattercarpet\":[{\"type\":\"scattercarpet\",\"marker\":{\"colorbar\":{\"outlinewidth\":0,\"ticks\":\"\"}}}],\"carpet\":[{\"aaxis\":{\"endlinecolor\":\"#2a3f5f\",\"gridcolor\":\"white\",\"linecolor\":\"white\",\"minorgridcolor\":\"white\",\"startlinecolor\":\"#2a3f5f\"},\"baxis\":{\"endlinecolor\":\"#2a3f5f\",\"gridcolor\":\"white\",\"linecolor\":\"white\",\"minorgridcolor\":\"white\",\"startlinecolor\":\"#2a3f5f\"},\"type\":\"carpet\"}],\"table\":[{\"cells\":{\"fill\":{\"color\":\"#EBF0F8\"},\"line\":{\"color\":\"white\"}},\"header\":{\"fill\":{\"color\":\"#C8D4E3\"},\"line\":{\"color\":\"white\"}},\"type\":\"table\"}],\"barpolar\":[{\"marker\":{\"line\":{\"color\":\"#E5ECF6\",\"width\":0.5},\"pattern\":{\"fillmode\":\"overlay\",\"size\":10,\"solidity\":0.2}},\"type\":\"barpolar\"}],\"pie\":[{\"automargin\":true,\"type\":\"pie\"}]},\"layout\":{\"autotypenumbers\":\"strict\",\"colorway\":[\"#636efa\",\"#EF553B\",\"#00cc96\",\"#ab63fa\",\"#FFA15A\",\"#19d3f3\",\"#FF6692\",\"#B6E880\",\"#FF97FF\",\"#FECB52\"],\"font\":{\"color\":\"#2a3f5f\"},\"hovermode\":\"closest\",\"hoverlabel\":{\"align\":\"left\"},\"paper_bgcolor\":\"white\",\"plot_bgcolor\":\"#E5ECF6\",\"polar\":{\"bgcolor\":\"#E5ECF6\",\"angularaxis\":{\"gridcolor\":\"white\",\"linecolor\":\"white\",\"ticks\":\"\"},\"radialaxis\":{\"gridcolor\":\"white\",\"linecolor\":\"white\",\"ticks\":\"\"}},\"ternary\":{\"bgcolor\":\"#E5ECF6\",\"aaxis\":{\"gridcolor\":\"white\",\"linecolor\":\"white\",\"ticks\":\"\"},\"baxis\":{\"gridcolor\":\"white\",\"linecolor\":\"white\",\"ticks\":\"\"},\"caxis\":{\"gridcolor\":\"white\",\"linecolor\":\"white\",\"ticks\":\"\"}},\"coloraxis\":{\"colorbar\":{\"outlinewidth\":0,\"ticks\":\"\"}},\"colorscale\":{\"sequential\":[[0.0,\"#0d0887\"],[0.1111111111111111,\"#46039f\"],[0.2222222222222222,\"#7201a8\"],[0.3333333333333333,\"#9c179e\"],[0.4444444444444444,\"#bd3786\"],[0.5555555555555556,\"#d8576b\"],[0.6666666666666666,\"#ed7953\"],[0.7777777777777778,\"#fb9f3a\"],[0.8888888888888888,\"#fdca26\"],[1.0,\"#f0f921\"]],\"sequentialminus\":[[0.0,\"#0d0887\"],[0.1111111111111111,\"#46039f\"],[0.2222222222222222,\"#7201a8\"],[0.3333333333333333,\"#9c179e\"],[0.4444444444444444,\"#bd3786\"],[0.5555555555555556,\"#d8576b\"],[0.6666666666666666,\"#ed7953\"],[0.7777777777777778,\"#fb9f3a\"],[0.8888888888888888,\"#fdca26\"],[1.0,\"#f0f921\"]],\"diverging\":[[0,\"#8e0152\"],[0.1,\"#c51b7d\"],[0.2,\"#de77ae\"],[0.3,\"#f1b6da\"],[0.4,\"#fde0ef\"],[0.5,\"#f7f7f7\"],[0.6,\"#e6f5d0\"],[0.7,\"#b8e186\"],[0.8,\"#7fbc41\"],[0.9,\"#4d9221\"],[1,\"#276419\"]]},\"xaxis\":{\"gridcolor\":\"white\",\"linecolor\":\"white\",\"ticks\":\"\",\"title\":{\"standoff\":15},\"zerolinecolor\":\"white\",\"automargin\":true,\"zerolinewidth\":2},\"yaxis\":{\"gridcolor\":\"white\",\"linecolor\":\"white\",\"ticks\":\"\",\"title\":{\"standoff\":15},\"zerolinecolor\":\"white\",\"automargin\":true,\"zerolinewidth\":2},\"scene\":{\"xaxis\":{\"backgroundcolor\":\"#E5ECF6\",\"gridcolor\":\"white\",\"linecolor\":\"white\",\"showbackground\":true,\"ticks\":\"\",\"zerolinecolor\":\"white\",\"gridwidth\":2},\"yaxis\":{\"backgroundcolor\":\"#E5ECF6\",\"gridcolor\":\"white\",\"linecolor\":\"white\",\"showbackground\":true,\"ticks\":\"\",\"zerolinecolor\":\"white\",\"gridwidth\":2},\"zaxis\":{\"backgroundcolor\":\"#E5ECF6\",\"gridcolor\":\"white\",\"linecolor\":\"white\",\"showbackground\":true,\"ticks\":\"\",\"zerolinecolor\":\"white\",\"gridwidth\":2}},\"shapedefaults\":{\"line\":{\"color\":\"#2a3f5f\"}},\"annotationdefaults\":{\"arrowcolor\":\"#2a3f5f\",\"arrowhead\":0,\"arrowwidth\":1},\"geo\":{\"bgcolor\":\"white\",\"landcolor\":\"#E5ECF6\",\"subunitcolor\":\"white\",\"showland\":true,\"showlakes\":true,\"lakecolor\":\"white\"},\"title\":{\"x\":0.05},\"mapbox\":{\"style\":\"light\"}}}},                        {\"responsive\": true}                    ).then(function(){\n                            \nvar gd = document.getElementById('0f5c7abf-a161-4677-a009-0f5610c33289');\nvar x = new MutationObserver(function (mutations, observer) {{\n        var display = window.getComputedStyle(gd).display;\n        if (!display || display === 'none') {{\n            console.log([gd, 'removed!']);\n            Plotly.purge(gd);\n            observer.disconnect();\n        }}\n}});\n\n// Listen for the removal of the full notebook cells\nvar notebookContainer = gd.closest('#notebook-container');\nif (notebookContainer) {{\n    x.observe(notebookContainer, {childList: true});\n}}\n\n// Listen for the clearing of the current output cell\nvar outputEl = gd.closest('.output');\nif (outputEl) {{\n    x.observe(outputEl, {childList: true});\n}}\n\n                        })                };                });            </script>        </div>"
     },
     "metadata": {},
     "output_type": "display_data"
    }
   ],
   "source": [
    "# combine the converstion funnel of both groups after filtering the conversion window\n",
    "fig = go.Figure(go.Funnel(\n",
    "    y=df_control_converstion.index.get_level_values(1),\n",
    "    x=df_control_converstion.applicant_id,\n",
    "    name='control',\n",
    "    textinfo=\"value+percent initial\"))\n",
    "\n",
    "fig.add_funnel(\n",
    "    y=df_treat_converstion.index.get_level_values(1),\n",
    "    x=df_treat_converstion.applicant_id,\n",
    "    name='treatment',\n",
    "    textinfo=\"value+percent initial\")\n",
    "\n",
    "fig.show()"
   ]
  },
  {
   "cell_type": "markdown",
   "metadata": {},
   "source": [
    "# Checking the invariant metrics\n",
    "### Sample Size (self define function)\n",
    " Actually we can use the chi-square test to check the sample size, but here we use the z score to check the sample size, because the sample size is big enough."
   ]
  },
  {
   "cell_type": "code",
   "execution_count": 473,
   "metadata": {
    "ExecuteTime": {
     "end_time": "2023-08-20T13:47:47.140874Z",
     "start_time": "2023-08-20T13:47:46.771753Z"
    }
   },
   "outputs": [
    {
     "name": "stdout",
     "output_type": "stream",
     "text": [
      "Z Score: 41.38855737863944\n",
      "P Value: 0.0\n",
      "Reject Null Hypothesis: True\n"
     ]
    }
   ],
   "source": [
    "# sanity check - sample size\n",
    "# define invariate check function\n",
    "\n",
    "# H0: p = 0.5\n",
    "# H1: p != 0.5\n",
    "\n",
    "# p_pool = p_control / p_total\n",
    "# Z = (p_control - p_treatment) / sqrt(p_pool * (1 - p_pool) * (1 / n_control + 1 / n_treatment)\n",
    "\n",
    "def invariant_check_Z_score(test_sample_size, control_sample_size, alpha=0.05):\n",
    "    # Calculate Total Sample Size\n",
    "    total_sample_size = test_sample_size + control_sample_size\n",
    "\n",
    "    # Calculate P Pool\n",
    "    p_pool = test_sample_size / total_sample_size\n",
    "\n",
    "    # Calculate Standard Error\n",
    "    SE = np.sqrt(p_pool * (1 - p_pool) * (1 / test_sample_size + 1 / control_sample_size))\n",
    "\n",
    "    # Calculate Z Score\n",
    "    p_control = control_sample_size / total_sample_size\n",
    "    p_test = test_sample_size / total_sample_size\n",
    "    Z = (p_control - p_test) / SE\n",
    "\n",
    "    # Calculate P Value\n",
    "    p_value = 2 * (1 - stats.norm.cdf(np.abs(Z)))\n",
    "\n",
    "    reject_null = p_value < alpha\n",
    "\n",
    "    return Z, p_value, reject_null\n",
    "\n",
    "\n",
    "test_sample_size = 4958\n",
    "control_sample_size = 10024\n",
    "alpha = 0.05\n",
    "\n",
    "Z, p_value, reject_null = invariant_check_Z_score(test_sample_size, control_sample_size, alpha)\n",
    "\n",
    "print(f\"Z Score: {Z}\")\n",
    "print(f\"P Value: {p_value}\")\n",
    "print(f\"Reject Null Hypothesis: {reject_null}\")\n",
    "\n"
   ]
  },
  {
   "cell_type": "code",
   "execution_count": 474,
   "metadata": {
    "ExecuteTime": {
     "end_time": "2023-08-20T13:47:47.141107Z",
     "start_time": "2023-08-20T13:47:46.777694Z"
    }
   },
   "outputs": [
    {
     "name": "stdout",
     "output_type": "stream",
     "text": [
      " confidence interval lower bounds: 0.4919935281817871\n",
      " confidence interval upper bounds: 0.5080064718182129\n",
      " control proportion: 0.6690695501268189\n",
      "\t\n",
      "The control group is not in the confidence interval, so we can reject null hypothesis\n"
     ]
    }
   ],
   "source": [
    "# sanity check - sample size\n",
    "# Calculate the Confidence Interval to check the sample size\n",
    "\n",
    "def invariant_check_CI(test_sample_size, control_sample_size, p_pool, z_score):\n",
    "    # pooled standard deviation\n",
    "    p_pool_sd = np.sqrt(p_pool * (1 - p_pool) / (test_sample_size + control_sample_size))\n",
    "\n",
    "    # margin of error\n",
    "    margin_error = p_pool_sd * z_score\n",
    "\n",
    "    control_prop = control_sample_size / (test_sample_size + control_sample_size)\n",
    "\n",
    "    confidence_interval_lower = p_pool - margin_error\n",
    "    confidence_interval_upper = p_pool + margin_error\n",
    "\n",
    "    return confidence_interval_lower, confidence_interval_upper, control_prop\n",
    "\n",
    "\n",
    "test_sample = df.groupby('group').agg({'applicant_id': 'nunique'}).loc['treatment', 'applicant_id']\n",
    "# 4958\n",
    "\n",
    "control_sample = df.groupby('group').agg({'applicant_id': 'nunique'}).loc['control', 'applicant_id']\n",
    "# 10024\n",
    "\n",
    "lower, upper, control_prop = invariant_check_CI(test_sample, control_sample, 0.5, 1.96)\n",
    "\n",
    "print(f\" confidence interval lower bounds: {lower}\")\n",
    "print(f\" confidence interval upper bounds: {upper}\")\n",
    "print(f\" control proportion: {control_prop}\")\n",
    "\n",
    "print('\\t')\n",
    "\n",
    "if control_prop > lower and control_prop < upper:\n",
    "    print('The control group is in the confidence interval, so we can\\'t reject null hypothesis')\n",
    "else:\n",
    "    print('The control group is not in the confidence interval, so we can reject null hypothesis')"
   ]
  },
  {
   "cell_type": "code",
   "execution_count": 475,
   "metadata": {
    "ExecuteTime": {
     "end_time": "2023-08-20T13:47:47.141156Z",
     "start_time": "2023-08-20T13:47:46.793096Z"
    }
   },
   "outputs": [],
   "source": [
    "# We can not pass the sample size invariate check, but the sample size is big enough, so we can ignore this check"
   ]
  },
  {
   "cell_type": "markdown",
   "metadata": {},
   "source": [
    "### Result: \n",
    "### Doesn't pass the sample size invariate check, but the sample size is big enough, so we can ignore this check"
   ]
  },
  {
   "cell_type": "markdown",
   "metadata": {},
   "source": [
    "# Checking the evaluation metric\n",
    "### Method1 : Calculate z score for pooled two sample data"
   ]
  },
  {
   "cell_type": "code",
   "execution_count": 476,
   "metadata": {
    "ExecuteTime": {
     "end_time": "2023-08-20T13:47:47.141246Z",
     "start_time": "2023-08-20T13:47:46.797675Z"
    }
   },
   "outputs": [
    {
     "name": "stdout",
     "output_type": "stream",
     "text": [
      "z score is 19.69 > 1.65, so we can reject null hypothesis, and accept alternative hypothesis\n",
      "\t\n",
      "or we can say: p value is 0.0 < 0.05, so we can reject null hypothesis, and accept alternative hypothesis\n"
     ]
    }
   ],
   "source": [
    "import scipy.stats as stats\n",
    "\n",
    "\n",
    "# choose metrics\n",
    "# conversion rate = complete first batch / application \n",
    "# calculate z score\n",
    "\n",
    "# define z_score function\n",
    "\n",
    "def z_score_pool(test_success, control_success, test_sample_size, control_sample_size):\n",
    "    # calculate the difference between two sample\n",
    "    d = test_success / test_sample_size - control_success / control_sample_size\n",
    "\n",
    "    # calculate the pooled standard deviation\n",
    "    p_pool = (test_success + control_success) / (test_sample_size + control_sample_size)\n",
    "    p_pool_sd = np.sqrt(p_pool * (1 - p_pool) * (1 / test_sample_size + 1 / control_sample_size))\n",
    "\n",
    "    # calculate z score\n",
    "    z_score = (d - 0) / p_pool_sd\n",
    "    return z_score\n",
    "\n",
    "\n",
    "# Z = (X1 - X2) / sqrt((σ1^2/n1) + (σ2^2/n2))\n",
    "\n",
    "test_complete = 2115\n",
    "contrl_complete = 2678\n",
    "test_sample_size = 4958\n",
    "control_sample_size = 10024\n",
    "alpha = 0.05\n",
    "dmin = 0\n",
    "\n",
    "# no prtical significant value provided, then we can assume dmin = 0\n",
    "\n",
    "z = z_score_pool(test_complete, contrl_complete, test_sample_size, control_sample_size)\n",
    "p_value = (1 - stats.norm.cdf(z))\n",
    "print(f\"z score is {round(z, 2)} > 1.65, so we can reject null hypothesis, and accept alternative hypothesis\")\n",
    "\n",
    "print('\\t')\n",
    "\n",
    "print(\n",
    "    f\"or we can say: p value is {round(p_value, 2)} < 0.05, so we can reject null hypothesis, and accept alternative hypothesis\")"
   ]
  },
  {
   "cell_type": "code",
   "execution_count": 477,
   "metadata": {
    "ExecuteTime": {
     "end_time": "2023-08-20T13:47:47.141338Z",
     "start_time": "2023-08-20T13:47:46.800882Z"
    }
   },
   "outputs": [
    {
     "name": "stdout",
     "output_type": "stream",
     "text": [
      "19.685398121466985\n",
      "z score is 19.69 > 1.65, so we can reject null hypothesis, and accept alternative hypothesis\n"
     ]
    }
   ],
   "source": [
    "import numpy as np\n",
    "\n",
    "# parameter:\n",
    "test_complete = 2115\n",
    "control_complete = 2678\n",
    "test_sample_size = 4958\n",
    "control_sample_size = 10024\n",
    "\n",
    "# Calculate the conversion rate\n",
    "p1 = test_complete / test_sample_size\n",
    "p2 = control_complete / control_sample_size\n",
    "\n",
    "# Calculate the pooled conversion rate\n",
    "p = (test_complete + control_complete) / (test_sample_size + control_sample_size)\n",
    "\n",
    "# Calculate the Z score\n",
    "z = (p1 - p2) / np.sqrt(p * (1 - p) * (1 / test_sample_size + 1 / control_sample_size))\n",
    "\n",
    "print(z)\n",
    "\n",
    "if z > 1.65:\n",
    "    print(f\"z score is {round(z, 2)} > 1.65, so we can reject null hypothesis, and accept alternative hypothesis\")\n",
    "else:\n",
    "    print(f\"z score is {round(z, 2)} < 1.65, so we can\\'t reject null hypothesis\")\n"
   ]
  },
  {
   "cell_type": "markdown",
   "metadata": {},
   "source": [
    "### Method2 : Calculate z score for unpooled two sample data"
   ]
  },
  {
   "cell_type": "code",
   "execution_count": 478,
   "metadata": {
    "ExecuteTime": {
     "end_time": "2023-08-20T13:47:47.141423Z",
     "start_time": "2023-08-20T13:47:46.808088Z"
    }
   },
   "outputs": [
    {
     "name": "stdout",
     "output_type": "stream",
     "text": [
      "z score is 19.21 > 1.65, so we can reject null hypothesis, and accept alternative hypothesis, and p value is 0.0 < 0.05\n"
     ]
    }
   ],
   "source": [
    "import scipy.stats as stats\n",
    "\n",
    "\n",
    "# choose metrics\n",
    "# conversion rate = complete first batch / application \n",
    "# calculate z score\n",
    "# define z_score function\n",
    "\n",
    "\n",
    "def z_score_unpool(test_success, control_success, test_sample_size, control_sample_size):\n",
    "    # calculate the difference between two sample\n",
    "    d = test_success / test_sample_size - control_success / control_sample_size\n",
    "\n",
    "    # calculate the unpooled standard deviation\n",
    "    p_con = control_success / control_sample_size\n",
    "    p_test = test_success / test_sample_size\n",
    "    p_unpool_sd = np.sqrt((p_con * (1 - p_con) / control_sample_size) + (p_test * (1 - p_test) / test_sample_size))\n",
    "\n",
    "    # calculate z score\n",
    "    z_score = (d - 0) / p_unpool_sd\n",
    "    return z_score\n",
    "\n",
    "\n",
    "# parameter: \n",
    "test_complete = 2115\n",
    "contrl_complete = 2678\n",
    "test_sample_size = 4958\n",
    "control_sample_size = 10024\n",
    "alpha = 0.05\n",
    "dmin = 0\n",
    "# no prtical significant value provided, then we can assume dmin = 0\n",
    "\n",
    "\n",
    "z = z_score_unpool(test_complete, contrl_complete, test_sample_size, control_sample_size)\n",
    "p_value = (1 - stats.norm.cdf(z))\n",
    "\n",
    "if p_value < 0.05:\n",
    "    print(\n",
    "        f\"z score is {round(z, 2)} > 1.65, so we can reject null hypothesis, and accept alternative hypothesis, and p value is {round(p_value, 2)} < 0.05\")\n",
    "else:\n",
    "    print(\n",
    "        f\"z score is {round(z, 2)} < 1.65, so we can\\'t reject null hypothesis, and p value is {round(p_value, 2)} > 0.05\")\n"
   ]
  },
  {
   "cell_type": "markdown",
   "metadata": {},
   "source": [
    "Note: If the sample size is big enough, there is not much difference between unpool and pool method"
   ]
  },
  {
   "cell_type": "markdown",
   "metadata": {},
   "source": [
    "### Method3 : Calculate confidence interval"
   ]
  },
  {
   "cell_type": "code",
   "execution_count": 479,
   "metadata": {
    "ExecuteTime": {
     "end_time": "2023-08-20T13:47:47.141520Z",
     "start_time": "2023-08-20T13:47:46.817204Z"
    }
   },
   "outputs": [
    {
     "name": "stdout",
     "output_type": "stream",
     "text": [
      "confidence interval lower is 0.15195533610117581 > 0 > 0.16689362566448743, so we can reject null hypothesis\n"
     ]
    }
   ],
   "source": [
    "def confidence_interval(test_success, control_success, test_sample_size, control_sample_size):\n",
    "    import numpy as np\n",
    "    p_pool = (test_success + control_success) / (test_sample_size + control_sample_size)\n",
    "    p_pool_sd = np.sqrt(p_pool * (1 - p_pool) / (test_sample_size + control_sample_size))\n",
    "    margin_error = p_pool_sd * 1.96\n",
    "    p_con = control_success / control_sample_size\n",
    "    p_test = test_success / test_sample_size\n",
    "    diff = p_test - p_con\n",
    "    confidence_interval_lower = diff - margin_error\n",
    "    confidence_interval_upper = diff + margin_error\n",
    "    return confidence_interval_lower, confidence_interval_upper\n",
    "\n",
    "\n",
    "#parameters:\n",
    "\n",
    "# parameter: \n",
    "test_complete = 2115\n",
    "contrl_complete = 2678\n",
    "test_sample_size = 4958\n",
    "control_sample_size = 10024\n",
    "alpha = 0.05\n",
    "dmin = 0  # no prtical significant value provided, then we can assume dmin = 0\n",
    "\n",
    "confidence_interval_lower, confidence_interval_upper = confidence_interval(test_complete, contrl_complete,\n",
    "                                                                           test_sample_size, control_sample_size)\n",
    "# print(f\"confidence interval lower is {confidence_interval_lower}\")\n",
    "# print(f\"confidence interval upper is {confidence_interval_upper}\")\n",
    "\n",
    "if confidence_interval_lower < dmin < confidence_interval_upper:\n",
    "    print(\n",
    "        f\"confidence interval lower is {confidence_interval_lower} < 0 < {confidence_interval_upper}, so we can\\'t reject null hypothesis\")\n",
    "else:\n",
    "    print(\n",
    "        f\"confidence interval lower is {confidence_interval_lower} > 0 > {confidence_interval_upper}, so we can reject null hypothesis\")\n"
   ]
  },
  {
   "cell_type": "markdown",
   "metadata": {},
   "source": [
    "### Method4 : T test"
   ]
  },
  {
   "cell_type": "code",
   "execution_count": 480,
   "metadata": {
    "ExecuteTime": {
     "end_time": "2023-08-20T13:47:47.164203Z",
     "start_time": "2023-08-20T13:47:46.826136Z"
    }
   },
   "outputs": [
    {
     "data": {
      "text/plain": "event      group            channel  applicant_id application_date  \\\n0        control    job-search-site         10006       2018-10-01   \n1        control    job-search-site         10010       2018-10-01   \n2        control    job-search-site         10012       2018-10-01   \n3        control    job-search-site         10037       2018-10-01   \n4        control    job-search-site         10038       2018-10-01   \n...          ...                ...           ...              ...   \n14977  treatment  web-search-engine         24960       2018-10-31   \n14978  treatment  web-search-engine         24965       2018-10-31   \n14979  treatment  web-search-engine         24978       2018-10-31   \n14980  treatment  web-search-engine         24979       2018-10-31   \n14981  treatment  web-search-engine         24982       2018-10-31   \n\nevent background_check_completed_date background_check_initiated_date  \\\n0                                 NaT                             NaT   \n1                          2018-10-08                      2018-10-05   \n2                          2018-10-09                      2018-10-05   \n3                          2018-10-07                      2018-10-04   \n4                          2018-10-07                      2018-10-04   \n...                               ...                             ...   \n14977                      2018-11-03                      2018-10-31   \n14978                      2018-11-03                      2018-10-31   \n14979                      2018-11-05                      2018-10-31   \n14980                      2018-11-04                      2018-10-31   \n14981                      2018-11-03                      2018-10-31   \n\nevent card_activation_date card_mailed_date first_batch_completed_date  \\\n0                      NaT       2018-10-01                        NaT   \n1               2018-10-05       2018-10-02                 2018-10-10   \n2               2018-10-05       2018-10-02                 2018-10-09   \n3               2018-10-04       2018-10-02                 2018-10-08   \n4               2018-10-04       2018-10-02                        NaT   \n...                    ...              ...                        ...   \n14977           2018-11-04       2018-10-31                 2018-11-06   \n14978           2018-11-03       2018-10-31                 2018-11-10   \n14979           2018-11-05       2018-10-31                        NaT   \n14980           2018-11-05       2018-10-31                 2018-11-06   \n14981           2018-11-03       2018-11-01                        NaT   \n\nevent orientation_completed_date  duration  \n0                            NaT       NaN  \n1                            NaT       9.0  \n2                            NaT       8.0  \n3                            NaT       7.0  \n4                     2018-10-03       NaN  \n...                          ...       ...  \n14977                 2018-11-06       6.0  \n14978                 2018-11-03      10.0  \n14979                        NaT       NaN  \n14980                 2018-11-07       6.0  \n14981                 2018-11-05       NaN  \n\n[14982 rows x 11 columns]",
      "text/html": "<div>\n<style scoped>\n    .dataframe tbody tr th:only-of-type {\n        vertical-align: middle;\n    }\n\n    .dataframe tbody tr th {\n        vertical-align: top;\n    }\n\n    .dataframe thead th {\n        text-align: right;\n    }\n</style>\n<table border=\"1\" class=\"dataframe\">\n  <thead>\n    <tr style=\"text-align: right;\">\n      <th>event</th>\n      <th>group</th>\n      <th>channel</th>\n      <th>applicant_id</th>\n      <th>application_date</th>\n      <th>background_check_completed_date</th>\n      <th>background_check_initiated_date</th>\n      <th>card_activation_date</th>\n      <th>card_mailed_date</th>\n      <th>first_batch_completed_date</th>\n      <th>orientation_completed_date</th>\n      <th>duration</th>\n    </tr>\n  </thead>\n  <tbody>\n    <tr>\n      <th>0</th>\n      <td>control</td>\n      <td>job-search-site</td>\n      <td>10006</td>\n      <td>2018-10-01</td>\n      <td>NaT</td>\n      <td>NaT</td>\n      <td>NaT</td>\n      <td>2018-10-01</td>\n      <td>NaT</td>\n      <td>NaT</td>\n      <td>NaN</td>\n    </tr>\n    <tr>\n      <th>1</th>\n      <td>control</td>\n      <td>job-search-site</td>\n      <td>10010</td>\n      <td>2018-10-01</td>\n      <td>2018-10-08</td>\n      <td>2018-10-05</td>\n      <td>2018-10-05</td>\n      <td>2018-10-02</td>\n      <td>2018-10-10</td>\n      <td>NaT</td>\n      <td>9.0</td>\n    </tr>\n    <tr>\n      <th>2</th>\n      <td>control</td>\n      <td>job-search-site</td>\n      <td>10012</td>\n      <td>2018-10-01</td>\n      <td>2018-10-09</td>\n      <td>2018-10-05</td>\n      <td>2018-10-05</td>\n      <td>2018-10-02</td>\n      <td>2018-10-09</td>\n      <td>NaT</td>\n      <td>8.0</td>\n    </tr>\n    <tr>\n      <th>3</th>\n      <td>control</td>\n      <td>job-search-site</td>\n      <td>10037</td>\n      <td>2018-10-01</td>\n      <td>2018-10-07</td>\n      <td>2018-10-04</td>\n      <td>2018-10-04</td>\n      <td>2018-10-02</td>\n      <td>2018-10-08</td>\n      <td>NaT</td>\n      <td>7.0</td>\n    </tr>\n    <tr>\n      <th>4</th>\n      <td>control</td>\n      <td>job-search-site</td>\n      <td>10038</td>\n      <td>2018-10-01</td>\n      <td>2018-10-07</td>\n      <td>2018-10-04</td>\n      <td>2018-10-04</td>\n      <td>2018-10-02</td>\n      <td>NaT</td>\n      <td>2018-10-03</td>\n      <td>NaN</td>\n    </tr>\n    <tr>\n      <th>...</th>\n      <td>...</td>\n      <td>...</td>\n      <td>...</td>\n      <td>...</td>\n      <td>...</td>\n      <td>...</td>\n      <td>...</td>\n      <td>...</td>\n      <td>...</td>\n      <td>...</td>\n      <td>...</td>\n    </tr>\n    <tr>\n      <th>14977</th>\n      <td>treatment</td>\n      <td>web-search-engine</td>\n      <td>24960</td>\n      <td>2018-10-31</td>\n      <td>2018-11-03</td>\n      <td>2018-10-31</td>\n      <td>2018-11-04</td>\n      <td>2018-10-31</td>\n      <td>2018-11-06</td>\n      <td>2018-11-06</td>\n      <td>6.0</td>\n    </tr>\n    <tr>\n      <th>14978</th>\n      <td>treatment</td>\n      <td>web-search-engine</td>\n      <td>24965</td>\n      <td>2018-10-31</td>\n      <td>2018-11-03</td>\n      <td>2018-10-31</td>\n      <td>2018-11-03</td>\n      <td>2018-10-31</td>\n      <td>2018-11-10</td>\n      <td>2018-11-03</td>\n      <td>10.0</td>\n    </tr>\n    <tr>\n      <th>14979</th>\n      <td>treatment</td>\n      <td>web-search-engine</td>\n      <td>24978</td>\n      <td>2018-10-31</td>\n      <td>2018-11-05</td>\n      <td>2018-10-31</td>\n      <td>2018-11-05</td>\n      <td>2018-10-31</td>\n      <td>NaT</td>\n      <td>NaT</td>\n      <td>NaN</td>\n    </tr>\n    <tr>\n      <th>14980</th>\n      <td>treatment</td>\n      <td>web-search-engine</td>\n      <td>24979</td>\n      <td>2018-10-31</td>\n      <td>2018-11-04</td>\n      <td>2018-10-31</td>\n      <td>2018-11-05</td>\n      <td>2018-10-31</td>\n      <td>2018-11-06</td>\n      <td>2018-11-07</td>\n      <td>6.0</td>\n    </tr>\n    <tr>\n      <th>14981</th>\n      <td>treatment</td>\n      <td>web-search-engine</td>\n      <td>24982</td>\n      <td>2018-10-31</td>\n      <td>2018-11-03</td>\n      <td>2018-10-31</td>\n      <td>2018-11-03</td>\n      <td>2018-11-01</td>\n      <td>NaT</td>\n      <td>2018-11-05</td>\n      <td>NaN</td>\n    </tr>\n  </tbody>\n</table>\n<p>14982 rows × 11 columns</p>\n</div>"
     },
     "execution_count": 480,
     "metadata": {},
     "output_type": "execute_result"
    }
   ],
   "source": [
    "## metrics2 : t test\n",
    "## decrease the duration from application to completed first batch\n",
    "\n",
    "df_transpose = df.pivot_table(index=['group', 'channel', 'applicant_id'], columns='event', values='event_date',\n",
    "                              aggfunc='max')\n",
    "df_transpose['duration'] = (df_transpose['first_batch_completed_date'] - df_transpose['application_date']).dt.days\n",
    "df_transpose = df_transpose.reset_index()\n",
    "df_transpose"
   ]
  },
  {
   "cell_type": "code",
   "execution_count": 481,
   "metadata": {
    "ExecuteTime": {
     "end_time": "2023-08-20T13:47:47.237882Z",
     "start_time": "2023-08-20T13:47:46.870319Z"
    }
   },
   "outputs": [
    {
     "name": "stdout",
     "output_type": "stream",
     "text": [
      "Ttest_indResult(statistic=39.75542370431981, pvalue=5.822516780864627e-299)\n",
      "p value is 0.0 < 0.05, so we can reject null hypothesis\n"
     ]
    }
   ],
   "source": [
    "from scipy import stats\n",
    "\n",
    "test_duration = df_transpose.loc[(df_transpose['group'] == 'treatment')\n",
    "                                 & (df_transpose['duration'].notnull()), 'duration']\n",
    "\n",
    "control_duration = df_transpose.loc[(df_transpose['group'] == 'control')\n",
    "                                    & (df_transpose['duration'].notnull()), 'duration']\n",
    "\n",
    "print(stats.ttest_ind(control_duration, test_duration))\n",
    "\n",
    "s, p_value = stats.ttest_ind(control_duration, test_duration)\n",
    "\n",
    "if p_value < 0.05:\n",
    "    print(f\"p value is {round(p_value, 2)} < 0.05, so we can reject null hypothesis\")\n",
    "else:\n",
    "    print(f\"p value is {round(p_value, 2)} > 0.05, so we can\\'t reject null hypothesis\")"
   ]
  },
  {
   "cell_type": "code",
   "execution_count": 482,
   "metadata": {
    "ExecuteTime": {
     "end_time": "2023-08-20T13:47:47.238217Z",
     "start_time": "2023-08-20T13:47:46.874954Z"
    }
   },
   "outputs": [
    {
     "data": {
      "text/plain": "event       duration\ngroup               \ncontrol    10.176251\ntreatment   7.076123",
      "text/html": "<div>\n<style scoped>\n    .dataframe tbody tr th:only-of-type {\n        vertical-align: middle;\n    }\n\n    .dataframe tbody tr th {\n        vertical-align: top;\n    }\n\n    .dataframe thead th {\n        text-align: right;\n    }\n</style>\n<table border=\"1\" class=\"dataframe\">\n  <thead>\n    <tr style=\"text-align: right;\">\n      <th>event</th>\n      <th>duration</th>\n    </tr>\n    <tr>\n      <th>group</th>\n      <th></th>\n    </tr>\n  </thead>\n  <tbody>\n    <tr>\n      <th>control</th>\n      <td>10.176251</td>\n    </tr>\n    <tr>\n      <th>treatment</th>\n      <td>7.076123</td>\n    </tr>\n  </tbody>\n</table>\n</div>"
     },
     "execution_count": 482,
     "metadata": {},
     "output_type": "execute_result"
    }
   ],
   "source": [
    "# days from application to first batch completion\n",
    "df_transpose.groupby('group').agg({'duration': 'mean'})"
   ]
  },
  {
   "cell_type": "markdown",
   "metadata": {},
   "source": [
    "# Cost Analysis\n",
    "- The background check costs us $30 to complete!  \n",
    "- We'd like to know if this change is cost-effective. How should we think about the cost-effectiveness of this change? Please be as specific as you can here"
   ]
  },
  {
   "cell_type": "code",
   "execution_count": 483,
   "metadata": {
    "ExecuteTime": {
     "end_time": "2023-08-20T13:47:47.238320Z",
     "start_time": "2023-08-20T13:47:46.879716Z"
    }
   },
   "outputs": [
    {
     "name": "stdout",
     "output_type": "stream",
     "text": [
      "The cost per success of control group is $96.14\n",
      "The cost per success of treatment group is $70.33\n"
     ]
    }
   ],
   "source": [
    "cost = 30\n",
    "\n",
    "# formula: cost per success\n",
    "\n",
    "control = (30 * 8582) / 2678\n",
    "test = (30 * 4958) / 2115\n",
    "\n",
    "print(f\"The cost per success of control group is ${round(control, 2)}\")\n",
    "print(f\"The cost per success of treatment group is ${round(test, 2)}\")\n",
    "\n",
    "# The cost per success of control group is 96.8, and the cost per success of treatment group is 70.9, which means the cost per success of treatment group is lower than control group, so the treatment group is more cost-effective than control group.\n",
    "\n",
    "# The cost per success of treatment group is 70.9, which means the cost per success of treatment group is lower than 100, so the treatment group is cost-effective."
   ]
  },
  {
   "cell_type": "markdown",
   "metadata": {},
   "source": [
    "# Channel Analysis"
   ]
  },
  {
   "cell_type": "code",
   "execution_count": 484,
   "metadata": {
    "ExecuteTime": {
     "end_time": "2023-08-20T13:47:47.238490Z",
     "start_time": "2023-08-20T13:47:46.883075Z"
    }
   },
   "outputs": [
    {
     "data": {
      "text/plain": "event                   application_date  first_batch_completed_date       cvr\nchannel                                                                       \njob-search-site                     2625                         603  0.229714\nshopper-referral-bonus              1991                         778  0.390758\nsocial-media                        4427                        1512  0.341541\nweb-search-engine                   5939                        1900  0.319919",
      "text/html": "<div>\n<style scoped>\n    .dataframe tbody tr th:only-of-type {\n        vertical-align: middle;\n    }\n\n    .dataframe tbody tr th {\n        vertical-align: top;\n    }\n\n    .dataframe thead th {\n        text-align: right;\n    }\n</style>\n<table border=\"1\" class=\"dataframe\">\n  <thead>\n    <tr style=\"text-align: right;\">\n      <th>event</th>\n      <th>application_date</th>\n      <th>first_batch_completed_date</th>\n      <th>cvr</th>\n    </tr>\n    <tr>\n      <th>channel</th>\n      <th></th>\n      <th></th>\n      <th></th>\n    </tr>\n  </thead>\n  <tbody>\n    <tr>\n      <th>job-search-site</th>\n      <td>2625</td>\n      <td>603</td>\n      <td>0.229714</td>\n    </tr>\n    <tr>\n      <th>shopper-referral-bonus</th>\n      <td>1991</td>\n      <td>778</td>\n      <td>0.390758</td>\n    </tr>\n    <tr>\n      <th>social-media</th>\n      <td>4427</td>\n      <td>1512</td>\n      <td>0.341541</td>\n    </tr>\n    <tr>\n      <th>web-search-engine</th>\n      <td>5939</td>\n      <td>1900</td>\n      <td>0.319919</td>\n    </tr>\n  </tbody>\n</table>\n</div>"
     },
     "execution_count": 484,
     "metadata": {},
     "output_type": "execute_result"
    }
   ],
   "source": [
    "channel_cvr = df_transpose.groupby('channel').agg({'application_date': 'count', 'first_batch_completed_date': 'count'})\n",
    "channel_cvr['cvr'] = channel_cvr['first_batch_completed_date'] / channel_cvr['application_date']\n",
    "channel_cvr.head()\n",
    "\n",
    "# from the channel cvr, we can see that the cvr of channel 'Job-search-site' is the highest, and the cvr of channel 'shopper-referral-bonus' is the lowest."
   ]
  },
  {
   "cell_type": "code",
   "execution_count": 485,
   "metadata": {
    "ExecuteTime": {
     "end_time": "2023-08-20T13:47:47.238531Z",
     "start_time": "2023-08-20T13:47:46.888683Z"
    }
   },
   "outputs": [],
   "source": [
    "channel_cvr_group = df_transpose.groupby(['group', 'channel']).agg(\n",
    "    {'application_date': 'count', 'first_batch_completed_date': 'count'})\n",
    "channel_cvr_group['cvr'] = channel_cvr_group['first_batch_completed_date'] / channel_cvr_group['application_date']\n"
   ]
  },
  {
   "cell_type": "code",
   "execution_count": 486,
   "metadata": {
    "ExecuteTime": {
     "end_time": "2023-08-20T13:47:47.238695Z",
     "start_time": "2023-08-20T13:47:46.894782Z"
    }
   },
   "outputs": [
    {
     "data": {
      "text/plain": "event                             application_date  \\\ngroup     channel                                    \ncontrol   job-search-site                     1765   \n          shopper-referral-bonus              1332   \n          social-media                        2998   \n          web-search-engine                   3929   \ntreatment job-search-site                      860   \n          shopper-referral-bonus               659   \n          social-media                        1429   \n          web-search-engine                   2010   \n\nevent                             first_batch_completed_date       cvr  \ngroup     channel                                                       \ncontrol   job-search-site                                279  0.158074  \n          shopper-referral-bonus                         447  0.335586  \n          social-media                                   958  0.319546  \n          web-search-engine                              994  0.252991  \ntreatment job-search-site                                324  0.376744  \n          shopper-referral-bonus                         331  0.502276  \n          social-media                                   554  0.387684  \n          web-search-engine                              906  0.450746  ",
      "text/html": "<div>\n<style scoped>\n    .dataframe tbody tr th:only-of-type {\n        vertical-align: middle;\n    }\n\n    .dataframe tbody tr th {\n        vertical-align: top;\n    }\n\n    .dataframe thead th {\n        text-align: right;\n    }\n</style>\n<table border=\"1\" class=\"dataframe\">\n  <thead>\n    <tr style=\"text-align: right;\">\n      <th></th>\n      <th>event</th>\n      <th>application_date</th>\n      <th>first_batch_completed_date</th>\n      <th>cvr</th>\n    </tr>\n    <tr>\n      <th>group</th>\n      <th>channel</th>\n      <th></th>\n      <th></th>\n      <th></th>\n    </tr>\n  </thead>\n  <tbody>\n    <tr>\n      <th rowspan=\"4\" valign=\"top\">control</th>\n      <th>job-search-site</th>\n      <td>1765</td>\n      <td>279</td>\n      <td>0.158074</td>\n    </tr>\n    <tr>\n      <th>shopper-referral-bonus</th>\n      <td>1332</td>\n      <td>447</td>\n      <td>0.335586</td>\n    </tr>\n    <tr>\n      <th>social-media</th>\n      <td>2998</td>\n      <td>958</td>\n      <td>0.319546</td>\n    </tr>\n    <tr>\n      <th>web-search-engine</th>\n      <td>3929</td>\n      <td>994</td>\n      <td>0.252991</td>\n    </tr>\n    <tr>\n      <th rowspan=\"4\" valign=\"top\">treatment</th>\n      <th>job-search-site</th>\n      <td>860</td>\n      <td>324</td>\n      <td>0.376744</td>\n    </tr>\n    <tr>\n      <th>shopper-referral-bonus</th>\n      <td>659</td>\n      <td>331</td>\n      <td>0.502276</td>\n    </tr>\n    <tr>\n      <th>social-media</th>\n      <td>1429</td>\n      <td>554</td>\n      <td>0.387684</td>\n    </tr>\n    <tr>\n      <th>web-search-engine</th>\n      <td>2010</td>\n      <td>906</td>\n      <td>0.450746</td>\n    </tr>\n  </tbody>\n</table>\n</div>"
     },
     "execution_count": 486,
     "metadata": {},
     "output_type": "execute_result"
    }
   ],
   "source": [
    "channel_cvr_group\n",
    "\n",
    "# from the channel cvr, we can see that the cvr of treatment group is higher than control group, and the cvr of channel 'web-search-engine' is the highest, and the cvr of channel 'shopper-referral-bonus' is the lowest.\n"
   ]
  },
  {
   "cell_type": "code",
   "execution_count": 487,
   "metadata": {
    "ExecuteTime": {
     "end_time": "2023-08-20T13:47:47.238734Z",
     "start_time": "2023-08-20T13:47:46.898102Z"
    }
   },
   "outputs": [],
   "source": [
    "channel_cvr_group = channel_cvr_group.reset_index()"
   ]
  },
  {
   "cell_type": "code",
   "execution_count": 488,
   "metadata": {
    "ExecuteTime": {
     "end_time": "2023-08-20T13:47:47.238892Z",
     "start_time": "2023-08-20T13:47:46.901761Z"
    }
   },
   "outputs": [
    {
     "data": {
      "text/plain": "event      group                 channel  application_date  \\\n0        control         job-search-site              1765   \n1        control  shopper-referral-bonus              1332   \n2        control            social-media              2998   \n3        control       web-search-engine              3929   \n4      treatment         job-search-site               860   \n5      treatment  shopper-referral-bonus               659   \n6      treatment            social-media              1429   \n7      treatment       web-search-engine              2010   \n\nevent  first_batch_completed_date       cvr  \n0                             279  0.158074  \n1                             447  0.335586  \n2                             958  0.319546  \n3                             994  0.252991  \n4                             324  0.376744  \n5                             331  0.502276  \n6                             554  0.387684  \n7                             906  0.450746  ",
      "text/html": "<div>\n<style scoped>\n    .dataframe tbody tr th:only-of-type {\n        vertical-align: middle;\n    }\n\n    .dataframe tbody tr th {\n        vertical-align: top;\n    }\n\n    .dataframe thead th {\n        text-align: right;\n    }\n</style>\n<table border=\"1\" class=\"dataframe\">\n  <thead>\n    <tr style=\"text-align: right;\">\n      <th>event</th>\n      <th>group</th>\n      <th>channel</th>\n      <th>application_date</th>\n      <th>first_batch_completed_date</th>\n      <th>cvr</th>\n    </tr>\n  </thead>\n  <tbody>\n    <tr>\n      <th>0</th>\n      <td>control</td>\n      <td>job-search-site</td>\n      <td>1765</td>\n      <td>279</td>\n      <td>0.158074</td>\n    </tr>\n    <tr>\n      <th>1</th>\n      <td>control</td>\n      <td>shopper-referral-bonus</td>\n      <td>1332</td>\n      <td>447</td>\n      <td>0.335586</td>\n    </tr>\n    <tr>\n      <th>2</th>\n      <td>control</td>\n      <td>social-media</td>\n      <td>2998</td>\n      <td>958</td>\n      <td>0.319546</td>\n    </tr>\n    <tr>\n      <th>3</th>\n      <td>control</td>\n      <td>web-search-engine</td>\n      <td>3929</td>\n      <td>994</td>\n      <td>0.252991</td>\n    </tr>\n    <tr>\n      <th>4</th>\n      <td>treatment</td>\n      <td>job-search-site</td>\n      <td>860</td>\n      <td>324</td>\n      <td>0.376744</td>\n    </tr>\n    <tr>\n      <th>5</th>\n      <td>treatment</td>\n      <td>shopper-referral-bonus</td>\n      <td>659</td>\n      <td>331</td>\n      <td>0.502276</td>\n    </tr>\n    <tr>\n      <th>6</th>\n      <td>treatment</td>\n      <td>social-media</td>\n      <td>1429</td>\n      <td>554</td>\n      <td>0.387684</td>\n    </tr>\n    <tr>\n      <th>7</th>\n      <td>treatment</td>\n      <td>web-search-engine</td>\n      <td>2010</td>\n      <td>906</td>\n      <td>0.450746</td>\n    </tr>\n  </tbody>\n</table>\n</div>"
     },
     "execution_count": 488,
     "metadata": {},
     "output_type": "execute_result"
    }
   ],
   "source": [
    "channel_cvr_group"
   ]
  },
  {
   "cell_type": "code",
   "execution_count": 489,
   "metadata": {
    "ExecuteTime": {
     "end_time": "2023-08-20T13:47:47.239210Z",
     "start_time": "2023-08-20T13:47:46.904722Z"
    }
   },
   "outputs": [],
   "source": [
    "channel_cvr_group['cvr_diff'] = channel_cvr_group['cvr'].diff()"
   ]
  },
  {
   "cell_type": "code",
   "execution_count": 490,
   "metadata": {
    "ExecuteTime": {
     "end_time": "2023-08-20T13:47:47.239247Z",
     "start_time": "2023-08-20T13:47:46.906727Z"
    }
   },
   "outputs": [],
   "source": [
    "# conclusion of channel cvr\n",
    "# from the channel cvr, we can see that the cvr of treatment group is higher than control group, and the cvr of channel 'web-search-engine' is the highest, and the cvr of channel 'shopper-referral-bonus' is the lowest.\n",
    "# and the cvr of channel 'shopper-referral-bonus' is the lowest, so we can focus on this channel to improve the cvr.\n",
    "# and the cvr of channel 'web-search-engine' is the highest, so we can focus on this channel to improve the cvr."
   ]
  },
  {
   "cell_type": "code",
   "execution_count": 490,
   "outputs": [],
   "source": [],
   "metadata": {
    "collapsed": false,
    "ExecuteTime": {
     "end_time": "2023-08-20T13:47:47.239286Z",
     "start_time": "2023-08-20T13:47:46.908813Z"
    }
   }
  }
 ],
 "metadata": {
  "kernelspec": {
   "display_name": "Python 3",
   "language": "python",
   "name": "python3"
  },
  "language_info": {
   "codemirror_mode": {
    "name": "ipython",
    "version": 3
   },
   "file_extension": ".py",
   "mimetype": "text/x-python",
   "name": "python",
   "nbconvert_exporter": "python",
   "pygments_lexer": "ipython3",
   "version": "3.9.16"
  }
 },
 "nbformat": 4,
 "nbformat_minor": 4
}
